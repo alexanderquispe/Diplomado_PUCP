{
 "cells": [
  {
   "cell_type": "code",
   "execution_count": 2,
   "metadata": {},
   "outputs": [],
   "source": [
    "import pandas as pd \n",
    "import numpy as np"
   ]
  },
  {
   "cell_type": "markdown",
   "metadata": {},
   "source": [
    "## 1 Tuples"
   ]
  },
  {
   "cell_type": "code",
   "execution_count": 2,
   "metadata": {},
   "outputs": [],
   "source": [
    "tuple1 = (\"apple\", \"banana\", \"cherry\", \"orange\", \"kiwi\", \"melon\", \"mango\")\n",
    "tuple2 = (10, 20, 30, 40, 50)"
   ]
  },
  {
   "cell_type": "code",
   "execution_count": 3,
   "metadata": {},
   "outputs": [
    {
     "data": {
      "text/plain": [
       "'apple'"
      ]
     },
     "execution_count": 3,
     "metadata": {},
     "output_type": "execute_result"
    }
   ],
   "source": [
    "tuple1[0]"
   ]
  },
  {
   "cell_type": "code",
   "execution_count": 4,
   "metadata": {},
   "outputs": [
    {
     "data": {
      "text/plain": [
       "'mango'"
      ]
     },
     "execution_count": 4,
     "metadata": {},
     "output_type": "execute_result"
    }
   ],
   "source": [
    "tuple1[-1]"
   ]
  },
  {
   "cell_type": "code",
   "execution_count": 5,
   "metadata": {},
   "outputs": [
    {
     "ename": "TypeError",
     "evalue": "'tuple' object does not support item assignment",
     "output_type": "error",
     "traceback": [
      "\u001b[1;31m---------------------------------------------------------------------------\u001b[0m",
      "\u001b[1;31mTypeError\u001b[0m                                 Traceback (most recent call last)",
      "\u001b[1;32m<ipython-input-5-340b026ee345>\u001b[0m in \u001b[0;36m<module>\u001b[1;34m\u001b[0m\n\u001b[1;32m----> 1\u001b[1;33m \u001b[0mtuple1\u001b[0m\u001b[1;33m[\u001b[0m\u001b[1;36m3\u001b[0m\u001b[1;33m]\u001b[0m \u001b[1;33m=\u001b[0m \u001b[1;34m'pink grapeftuit'\u001b[0m\u001b[1;33m\u001b[0m\u001b[1;33m\u001b[0m\u001b[0m\n\u001b[0m\u001b[0;32m      2\u001b[0m \u001b[1;31m# It isn't possible to change the item values of a tuple\u001b[0m\u001b[1;33m\u001b[0m\u001b[1;33m\u001b[0m\u001b[1;33m\u001b[0m\u001b[0m\n",
      "\u001b[1;31mTypeError\u001b[0m: 'tuple' object does not support item assignment"
     ]
    }
   ],
   "source": [
    "tuple1[3] = 'pink grapeftuit'\n",
    "# It isn't possible to change the item values of a tuple"
   ]
  },
  {
   "cell_type": "code",
   "execution_count": 6,
   "metadata": {},
   "outputs": [
    {
     "data": {
      "text/plain": [
       "7"
      ]
     },
     "execution_count": 6,
     "metadata": {},
     "output_type": "execute_result"
    }
   ],
   "source": [
    "len(tuple1)"
   ]
  },
  {
   "cell_type": "code",
   "execution_count": 7,
   "metadata": {},
   "outputs": [
    {
     "data": {
      "text/plain": [
       "(50, 40, 30, 20, 10)"
      ]
     },
     "execution_count": 7,
     "metadata": {},
     "output_type": "execute_result"
    }
   ],
   "source": [
    "tuple2 = tuple2[::-1]\n",
    "tuple2"
   ]
  },
  {
   "cell_type": "code",
   "execution_count": 8,
   "metadata": {},
   "outputs": [
    {
     "data": {
      "text/plain": [
       "(25, 20, 15, 10, 5)"
      ]
     },
     "execution_count": 8,
     "metadata": {},
     "output_type": "execute_result"
    }
   ],
   "source": [
    "list2 = list(tuple2)\n",
    "tuple3 = tuple([int(i/2) for i in list2])\n",
    "tuple3"
   ]
  },
  {
   "cell_type": "markdown",
   "metadata": {},
   "source": [
    "## 1.2 Lists"
   ]
  },
  {
   "cell_type": "code",
   "execution_count": 15,
   "metadata": {},
   "outputs": [],
   "source": [
    "f_list = [np.nan , np.nan, \"Austria\", \"Germany\", np.nan, \"Pakistan\", \"np.nan\", np.nan ]"
   ]
  },
  {
   "cell_type": "code",
   "execution_count": 53,
   "metadata": {},
   "outputs": [],
   "source": [
    "def get_index_positions(list_of_elems, element):\n",
    "    index_pos_list = []\n",
    "    index_pos = 0\n",
    "    while True:\n",
    "        try:\n",
    "            index_pos = list_of_elems.index(element, index_pos)\n",
    "            index_pos_list.append(index_pos)\n",
    "            index_pos += 1\n",
    "        except ValueError as e:\n",
    "            break\n",
    "    return index_pos_list\n",
    "\n",
    "nans = get_index_positions(f_list, np.nan)"
   ]
  },
  {
   "cell_type": "code",
   "execution_count": 64,
   "metadata": {},
   "outputs": [
    {
     "name": "stdout",
     "output_type": "stream",
     "text": [
      "The indices 0,1,4,7 have np.nan values\n"
     ]
    }
   ],
   "source": [
    "print('The indices {},{},{},{} have np.nan values'.format(*nans))"
   ]
  },
  {
   "cell_type": "code",
   "execution_count": 65,
   "metadata": {},
   "outputs": [
    {
     "data": {
      "text/plain": [
       "[2, 3, 4, 5, 2, 3, 4, 5, 2, 3, 4, 5, 2, 3, 4, 5]"
      ]
     },
     "execution_count": 65,
     "metadata": {},
     "output_type": "execute_result"
    }
   ],
   "source": [
    "p2_list = [2,3,4,5]\n",
    "p2_list*4"
   ]
  },
  {
   "cell_type": "code",
   "execution_count": 66,
   "metadata": {},
   "outputs": [
    {
     "data": {
      "text/plain": [
       "8"
      ]
     },
     "execution_count": 66,
     "metadata": {},
     "output_type": "execute_result"
    }
   ],
   "source": [
    "len(f_list)"
   ]
  },
  {
   "cell_type": "code",
   "execution_count": 72,
   "metadata": {},
   "outputs": [
    {
     "data": {
      "text/plain": [
       "'My teacher assistant is so boring.'"
      ]
     },
     "execution_count": 72,
     "metadata": {},
     "output_type": "execute_result"
    }
   ],
   "source": [
    "text1 = ['My', 'teacher', 'assistant', 'is', 'so', 'boring.']\n",
    "' '.join(text1)"
   ]
  },
  {
   "cell_type": "code",
   "execution_count": 73,
   "metadata": {},
   "outputs": [],
   "source": [
    "text1.extend(['but is very funny'])"
   ]
  },
  {
   "cell_type": "code",
   "execution_count": 82,
   "metadata": {},
   "outputs": [
    {
     "data": {
      "text/plain": [
       "'My TA is so boring, but is very funny'"
      ]
     },
     "execution_count": 82,
     "metadata": {},
     "output_type": "execute_result"
    }
   ],
   "source": [
    "text1\n",
    "t = ' '.join(text1).replace('teacher assistant', 'TA').replace('boring.', 'boring,')\n",
    "t"
   ]
  },
  {
   "cell_type": "code",
   "execution_count": 91,
   "metadata": {},
   "outputs": [
    {
     "name": "stdout",
     "output_type": "stream",
     "text": [
      "The max value of values1 is 86 and is located in the 0 index.\n",
      "The min value of values1 is 0 and is located in the 7 index.\n"
     ]
    }
   ],
   "source": [
    "values1 = [ 86, 86, 85, 85, 85, 83, 23, 0, 84, 1 ] \n",
    "print('The max value of values1 is {} and is located in the {} index.'.format(max(values1), values1.index(max(values1))))\n",
    "print('The min value of values1 is {} and is located in the {} index.'.format(min(values1), values1.index(min(values1))))"
   ]
  },
  {
   "cell_type": "markdown",
   "metadata": {},
   "source": [
    "## 1.3. Dictionaries"
   ]
  },
  {
   "cell_type": "markdown",
   "metadata": {},
   "source": [
    "### 1.3.1. Create dictionary from two lists: even numbers and odd numbers"
   ]
  },
  {
   "cell_type": "code",
   "execution_count": 9,
   "metadata": {},
   "outputs": [
    {
     "name": "stdout",
     "output_type": "stream",
     "text": [
      "{0: 9001, 2: 9003, 4: 9005, 6: 9007, 8: 9009, 10: 9011, 12: 9013, 14: 9015, 16: 9017, 18: 9019, 20: 9021, 22: 9023, 24: 9025, 26: 9027, 28: 9029, 30: 9031, 32: 9033, 34: 9035, 36: 9037, 38: 9039, 40: 9041, 42: 9043, 44: 9045, 46: 9047, 48: 9049, 50: 9051, 52: 9053, 54: 9055, 56: 9057, 58: 9059, 60: 9061, 62: 9063, 64: 9065, 66: 9067, 68: 9069, 70: 9071, 72: 9073, 74: 9075, 76: 9077, 78: 9079, 80: 9081, 82: 9083, 84: 9085, 86: 9087, 88: 9089, 90: 9091, 92: 9093, 94: 9095, 96: 9097, 98: 9099, 100: 9101, 102: 9103, 104: 9105, 106: 9107, 108: 9109, 110: 9111, 112: 9113, 114: 9115, 116: 9117, 118: 9119, 120: 9121, 122: 9123, 124: 9125, 126: 9127, 128: 9129, 130: 9131, 132: 9133, 134: 9135, 136: 9137, 138: 9139, 140: 9141, 142: 9143, 144: 9145, 146: 9147, 148: 9149, 150: 9151, 152: 9153, 154: 9155, 156: 9157, 158: 9159, 160: 9161, 162: 9163, 164: 9165, 166: 9167, 168: 9169, 170: 9171, 172: 9173, 174: 9175, 176: 9177, 178: 9179, 180: 9181, 182: 9183, 184: 9185, 186: 9187, 188: 9189, 190: 9191, 192: 9193, 194: 9195, 196: 9197, 198: 9199, 200: 9201, 202: 9203, 204: 9205, 206: 9207, 208: 9209, 210: 9211, 212: 9213, 214: 9215, 216: 9217, 218: 9219, 220: 9221, 222: 9223, 224: 9225, 226: 9227, 228: 9229, 230: 9231, 232: 9233, 234: 9235, 236: 9237, 238: 9239, 240: 9241, 242: 9243, 244: 9245, 246: 9247, 248: 9249, 250: 9251, 252: 9253, 254: 9255, 256: 9257, 258: 9259, 260: 9261, 262: 9263, 264: 9265, 266: 9267, 268: 9269, 270: 9271, 272: 9273, 274: 9275, 276: 9277, 278: 9279, 280: 9281, 282: 9283, 284: 9285, 286: 9287, 288: 9289, 290: 9291, 292: 9293, 294: 9295, 296: 9297, 298: 9299, 300: 9301, 302: 9303, 304: 9305, 306: 9307, 308: 9309, 310: 9311, 312: 9313, 314: 9315, 316: 9317, 318: 9319, 320: 9321, 322: 9323, 324: 9325, 326: 9327, 328: 9329, 330: 9331, 332: 9333, 334: 9335, 336: 9337, 338: 9339, 340: 9341, 342: 9343, 344: 9345, 346: 9347, 348: 9349, 350: 9351, 352: 9353, 354: 9355, 356: 9357, 358: 9359, 360: 9361, 362: 9363, 364: 9365, 366: 9367, 368: 9369, 370: 9371, 372: 9373, 374: 9375, 376: 9377, 378: 9379, 380: 9381, 382: 9383, 384: 9385, 386: 9387, 388: 9389, 390: 9391, 392: 9393, 394: 9395, 396: 9397, 398: 9399, 400: 9401, 402: 9403, 404: 9405, 406: 9407, 408: 9409, 410: 9411, 412: 9413, 414: 9415, 416: 9417, 418: 9419, 420: 9421, 422: 9423, 424: 9425, 426: 9427, 428: 9429, 430: 9431, 432: 9433, 434: 9435, 436: 9437, 438: 9439, 440: 9441, 442: 9443, 444: 9445, 446: 9447, 448: 9449, 450: 9451, 452: 9453, 454: 9455, 456: 9457, 458: 9459, 460: 9461, 462: 9463, 464: 9465, 466: 9467, 468: 9469, 470: 9471, 472: 9473, 474: 9475, 476: 9477, 478: 9479, 480: 9481, 482: 9483, 484: 9485, 486: 9487, 488: 9489, 490: 9491, 492: 9493, 494: 9495, 496: 9497, 498: 9499, 500: 9501, 502: 9503, 504: 9505, 506: 9507, 508: 9509, 510: 9511, 512: 9513, 514: 9515, 516: 9517, 518: 9519, 520: 9521, 522: 9523, 524: 9525, 526: 9527, 528: 9529, 530: 9531, 532: 9533, 534: 9535, 536: 9537, 538: 9539, 540: 9541, 542: 9543, 544: 9545, 546: 9547, 548: 9549, 550: 9551, 552: 9553, 554: 9555, 556: 9557, 558: 9559, 560: 9561, 562: 9563, 564: 9565, 566: 9567, 568: 9569, 570: 9571, 572: 9573, 574: 9575, 576: 9577, 578: 9579, 580: 9581, 582: 9583, 584: 9585, 586: 9587, 588: 9589, 590: 9591, 592: 9593, 594: 9595, 596: 9597, 598: 9599, 600: 9601, 602: 9603, 604: 9605, 606: 9607, 608: 9609, 610: 9611, 612: 9613, 614: 9615, 616: 9617, 618: 9619, 620: 9621, 622: 9623, 624: 9625, 626: 9627, 628: 9629, 630: 9631, 632: 9633, 634: 9635, 636: 9637, 638: 9639, 640: 9641, 642: 9643, 644: 9645, 646: 9647, 648: 9649, 650: 9651, 652: 9653, 654: 9655, 656: 9657, 658: 9659, 660: 9661, 662: 9663, 664: 9665, 666: 9667, 668: 9669, 670: 9671, 672: 9673, 674: 9675, 676: 9677, 678: 9679, 680: 9681, 682: 9683, 684: 9685, 686: 9687, 688: 9689, 690: 9691, 692: 9693, 694: 9695, 696: 9697, 698: 9699, 700: 9701, 702: 9703, 704: 9705, 706: 9707, 708: 9709, 710: 9711, 712: 9713, 714: 9715, 716: 9717, 718: 9719, 720: 9721, 722: 9723, 724: 9725, 726: 9727, 728: 9729, 730: 9731, 732: 9733, 734: 9735, 736: 9737, 738: 9739, 740: 9741, 742: 9743, 744: 9745, 746: 9747, 748: 9749, 750: 9751, 752: 9753, 754: 9755, 756: 9757, 758: 9759, 760: 9761, 762: 9763, 764: 9765, 766: 9767, 768: 9769, 770: 9771, 772: 9773, 774: 9775, 776: 9777, 778: 9779, 780: 9781, 782: 9783, 784: 9785, 786: 9787, 788: 9789, 790: 9791, 792: 9793, 794: 9795, 796: 9797, 798: 9799, 800: 9801, 802: 9803, 804: 9805, 806: 9807, 808: 9809, 810: 9811, 812: 9813, 814: 9815, 816: 9817, 818: 9819, 820: 9821, 822: 9823, 824: 9825, 826: 9827, 828: 9829, 830: 9831, 832: 9833, 834: 9835, 836: 9837, 838: 9839, 840: 9841, 842: 9843, 844: 9845, 846: 9847, 848: 9849, 850: 9851, 852: 9853, 854: 9855, 856: 9857, 858: 9859, 860: 9861, 862: 9863, 864: 9865, 866: 9867, 868: 9869, 870: 9871, 872: 9873, 874: 9875, 876: 9877, 878: 9879, 880: 9881, 882: 9883, 884: 9885, 886: 9887, 888: 9889, 890: 9891, 892: 9893, 894: 9895, 896: 9897, 898: 9899, 900: 9901, 902: 9903, 904: 9905, 906: 9907, 908: 9909, 910: 9911, 912: 9913, 914: 9915, 916: 9917, 918: 9919, 920: 9921, 922: 9923, 924: 9925, 926: 9927, 928: 9929, 930: 9931, 932: 9933, 934: 9935, 936: 9937, 938: 9939, 940: 9941, 942: 9943, 944: 9945, 946: 9947, 948: 9949, 950: 9951, 952: 9953, 954: 9955, 956: 9957, 958: 9959, 960: 9961, 962: 9963, 964: 9965, 966: 9967, 968: 9969, 970: 9971, 972: 9973, 974: 9975, 976: 9977, 978: 9979, 980: 9981, 982: 9983, 984: 9985, 986: 9987, 988: 9989, 990: 9991, 992: 9993, 994: 9995, 996: 9997, 998: 9999, 1000: 10001, 1002: 10003, 1004: 10005, 1006: 10007, 1008: 10009, 1010: 10011, 1012: 10013, 1014: 10015, 1016: 10017, 1018: 10019, 1020: 10021, 1022: 10023, 1024: 10025, 1026: 10027, 1028: 10029, 1030: 10031, 1032: 10033, 1034: 10035, 1036: 10037, 1038: 10039, 1040: 10041, 1042: 10043, 1044: 10045, 1046: 10047, 1048: 10049, 1050: 10051, 1052: 10053, 1054: 10055, 1056: 10057, 1058: 10059, 1060: 10061, 1062: 10063, 1064: 10065, 1066: 10067, 1068: 10069, 1070: 10071, 1072: 10073, 1074: 10075, 1076: 10077, 1078: 10079, 1080: 10081, 1082: 10083, 1084: 10085, 1086: 10087, 1088: 10089, 1090: 10091, 1092: 10093, 1094: 10095, 1096: 10097, 1098: 10099, 1100: 10101, 1102: 10103, 1104: 10105, 1106: 10107, 1108: 10109, 1110: 10111, 1112: 10113, 1114: 10115, 1116: 10117, 1118: 10119, 1120: 10121, 1122: 10123, 1124: 10125, 1126: 10127, 1128: 10129, 1130: 10131, 1132: 10133, 1134: 10135, 1136: 10137, 1138: 10139, 1140: 10141, 1142: 10143, 1144: 10145, 1146: 10147, 1148: 10149, 1150: 10151, 1152: 10153, 1154: 10155, 1156: 10157, 1158: 10159, 1160: 10161, 1162: 10163, 1164: 10165, 1166: 10167, 1168: 10169, 1170: 10171, 1172: 10173, 1174: 10175, 1176: 10177, 1178: 10179, 1180: 10181, 1182: 10183, 1184: 10185, 1186: 10187, 1188: 10189, 1190: 10191, 1192: 10193, 1194: 10195, 1196: 10197, 1198: 10199, 1200: 10201, 1202: 10203, 1204: 10205, 1206: 10207, 1208: 10209, 1210: 10211, 1212: 10213, 1214: 10215, 1216: 10217, 1218: 10219, 1220: 10221, 1222: 10223, 1224: 10225, 1226: 10227, 1228: 10229, 1230: 10231, 1232: 10233, 1234: 10235, 1236: 10237, 1238: 10239, 1240: 10241, 1242: 10243, 1244: 10245, 1246: 10247, 1248: 10249, 1250: 10251, 1252: 10253, 1254: 10255, 1256: 10257, 1258: 10259, 1260: 10261, 1262: 10263, 1264: 10265, 1266: 10267, 1268: 10269, 1270: 10271, 1272: 10273, 1274: 10275, 1276: 10277, 1278: 10279, 1280: 10281, 1282: 10283, 1284: 10285, 1286: 10287, 1288: 10289, 1290: 10291, 1292: 10293, 1294: 10295, 1296: 10297, 1298: 10299, 1300: 10301, 1302: 10303, 1304: 10305, 1306: 10307, 1308: 10309, 1310: 10311, 1312: 10313, 1314: 10315, 1316: 10317, 1318: 10319, 1320: 10321, 1322: 10323, 1324: 10325, 1326: 10327, 1328: 10329, 1330: 10331, 1332: 10333, 1334: 10335, 1336: 10337, 1338: 10339, 1340: 10341, 1342: 10343, 1344: 10345, 1346: 10347, 1348: 10349, 1350: 10351, 1352: 10353, 1354: 10355, 1356: 10357, 1358: 10359, 1360: 10361, 1362: 10363, 1364: 10365, 1366: 10367, 1368: 10369, 1370: 10371, 1372: 10373, 1374: 10375, 1376: 10377, 1378: 10379, 1380: 10381, 1382: 10383, 1384: 10385, 1386: 10387, 1388: 10389, 1390: 10391, 1392: 10393, 1394: 10395, 1396: 10397, 1398: 10399, 1400: 10401, 1402: 10403, 1404: 10405, 1406: 10407, 1408: 10409, 1410: 10411, 1412: 10413, 1414: 10415, 1416: 10417, 1418: 10419, 1420: 10421, 1422: 10423, 1424: 10425, 1426: 10427, 1428: 10429, 1430: 10431, 1432: 10433, 1434: 10435, 1436: 10437, 1438: 10439, 1440: 10441, 1442: 10443, 1444: 10445, 1446: 10447, 1448: 10449, 1450: 10451, 1452: 10453, 1454: 10455, 1456: 10457, 1458: 10459, 1460: 10461, 1462: 10463, 1464: 10465, 1466: 10467, 1468: 10469, 1470: 10471, 1472: 10473, 1474: 10475, 1476: 10477, 1478: 10479, 1480: 10481, 1482: 10483, 1484: 10485, 1486: 10487, 1488: 10489, 1490: 10491, 1492: 10493, 1494: 10495, 1496: 10497, 1498: 10499, 1500: 10501, 1502: 10503, 1504: 10505, 1506: 10507, 1508: 10509, 1510: 10511, 1512: 10513, 1514: 10515, 1516: 10517, 1518: 10519, 1520: 10521, 1522: 10523, 1524: 10525, 1526: 10527, 1528: 10529, 1530: 10531, 1532: 10533, 1534: 10535, 1536: 10537, 1538: 10539, 1540: 10541, 1542: 10543, 1544: 10545, 1546: 10547, 1548: 10549, 1550: 10551, 1552: 10553, 1554: 10555, 1556: 10557, 1558: 10559, 1560: 10561, 1562: 10563, 1564: 10565, 1566: 10567, 1568: 10569, 1570: 10571, 1572: 10573, 1574: 10575, 1576: 10577, 1578: 10579, 1580: 10581, 1582: 10583, 1584: 10585, 1586: 10587, 1588: 10589, 1590: 10591, 1592: 10593, 1594: 10595, 1596: 10597, 1598: 10599, 1600: 10601, 1602: 10603, 1604: 10605, 1606: 10607, 1608: 10609, 1610: 10611, 1612: 10613, 1614: 10615, 1616: 10617, 1618: 10619, 1620: 10621, 1622: 10623, 1624: 10625, 1626: 10627, 1628: 10629, 1630: 10631, 1632: 10633, 1634: 10635, 1636: 10637, 1638: 10639, 1640: 10641, 1642: 10643, 1644: 10645, 1646: 10647, 1648: 10649, 1650: 10651, 1652: 10653, 1654: 10655, 1656: 10657, 1658: 10659, 1660: 10661, 1662: 10663, 1664: 10665, 1666: 10667, 1668: 10669, 1670: 10671, 1672: 10673, 1674: 10675, 1676: 10677, 1678: 10679, 1680: 10681, 1682: 10683, 1684: 10685, 1686: 10687, 1688: 10689, 1690: 10691, 1692: 10693, 1694: 10695, 1696: 10697, 1698: 10699, 1700: 10701, 1702: 10703, 1704: 10705, 1706: 10707, 1708: 10709, 1710: 10711, 1712: 10713, 1714: 10715, 1716: 10717, 1718: 10719, 1720: 10721, 1722: 10723, 1724: 10725, 1726: 10727, 1728: 10729, 1730: 10731, 1732: 10733, 1734: 10735, 1736: 10737, 1738: 10739, 1740: 10741, 1742: 10743, 1744: 10745, 1746: 10747, 1748: 10749, 1750: 10751, 1752: 10753, 1754: 10755, 1756: 10757, 1758: 10759, 1760: 10761, 1762: 10763, 1764: 10765, 1766: 10767, 1768: 10769, 1770: 10771, 1772: 10773, 1774: 10775, 1776: 10777, 1778: 10779, 1780: 10781, 1782: 10783, 1784: 10785, 1786: 10787, 1788: 10789, 1790: 10791, 1792: 10793, 1794: 10795, 1796: 10797, 1798: 10799, 1800: 10801, 1802: 10803, 1804: 10805, 1806: 10807, 1808: 10809, 1810: 10811, 1812: 10813, 1814: 10815, 1816: 10817, 1818: 10819, 1820: 10821, 1822: 10823, 1824: 10825, 1826: 10827, 1828: 10829, 1830: 10831, 1832: 10833, 1834: 10835, 1836: 10837, 1838: 10839, 1840: 10841, 1842: 10843, 1844: 10845, 1846: 10847, 1848: 10849, 1850: 10851, 1852: 10853, 1854: 10855, 1856: 10857, 1858: 10859, 1860: 10861, 1862: 10863, 1864: 10865, 1866: 10867, 1868: 10869, 1870: 10871, 1872: 10873, 1874: 10875, 1876: 10877, 1878: 10879, 1880: 10881, 1882: 10883, 1884: 10885, 1886: 10887, 1888: 10889, 1890: 10891, 1892: 10893, 1894: 10895, 1896: 10897, 1898: 10899, 1900: 10901, 1902: 10903, 1904: 10905, 1906: 10907, 1908: 10909, 1910: 10911, 1912: 10913, 1914: 10915, 1916: 10917, 1918: 10919, 1920: 10921, 1922: 10923, 1924: 10925, 1926: 10927, 1928: 10929, 1930: 10931, 1932: 10933, 1934: 10935, 1936: 10937, 1938: 10939, 1940: 10941, 1942: 10943, 1944: 10945, 1946: 10947, 1948: 10949, 1950: 10951, 1952: 10953, 1954: 10955, 1956: 10957, 1958: 10959, 1960: 10961, 1962: 10963, 1964: 10965, 1966: 10967, 1968: 10969, 1970: 10971, 1972: 10973, 1974: 10975, 1976: 10977, 1978: 10979, 1980: 10981, 1982: 10983, 1984: 10985, 1986: 10987, 1988: 10989, 1990: 10991, 1992: 10993, 1994: 10995, 1996: 10997, 1998: 10999, 2000: 11001}\n"
     ]
    }
   ],
   "source": [
    "#First create a list for even numbers and another for odd numbers\n",
    "even_numbers=[*range(0,2001,2)]\n",
    "odd_numbers=[*range(9001,19000,2)]\n",
    "\n",
    "#convert the two lists into a dictionary\n",
    "dict_even_odd = dict( zip( even_numbers , odd_numbers ) )\n",
    "print( dict_even_odd )"
   ]
  },
  {
   "cell_type": "markdown",
   "metadata": {},
   "source": [
    "### 1.3.2. Check if TA is a key of the previous dictionary"
   ]
  },
  {
   "cell_type": "code",
   "execution_count": 15,
   "metadata": {},
   "outputs": [
    {
     "data": {
      "text/plain": [
       "False"
      ]
     },
     "execution_count": 15,
     "metadata": {},
     "output_type": "execute_result"
    }
   ],
   "source": [
    "\"TA\" in dict_even_odd.keys()\n",
    "#TA is not part of keys"
   ]
  },
  {
   "cell_type": "markdown",
   "metadata": {},
   "source": [
    "### 1.3.3. Print the value of brand key of car dictionary"
   ]
  },
  {
   "cell_type": "code",
   "execution_count": 16,
   "metadata": {},
   "outputs": [],
   "source": [
    "car = {\n",
    "  \"brand\": \"Ford\",\n",
    "  \"model\": \"Mustang\",\n",
    "  \"year\": 1964\n",
    "}\n",
    "\n",
    "hr_sleep = {\"january\": {\"wednesday\": 7,\n",
    "                      \"thursday\": 8,\n",
    "                      \"friday\": [2, 2, 1, 2]},\n",
    "          \"february\": {\"saturday\": 5,\n",
    "                       \"sunday\": 10,\n",
    "                       \"monday\": 8\n",
    "          }\n",
    "}"
   ]
  },
  {
   "cell_type": "code",
   "execution_count": 17,
   "metadata": {},
   "outputs": [
    {
     "data": {
      "text/plain": [
       "'Ford'"
      ]
     },
     "execution_count": 17,
     "metadata": {},
     "output_type": "execute_result"
    }
   ],
   "source": [
    "car.get('brand') #the value for the key 'brand' is 'Ford'"
   ]
  },
  {
   "cell_type": "markdown",
   "metadata": {},
   "source": [
    "### 1.3.4. Print all the values of brand key of car dictionary"
   ]
  },
  {
   "cell_type": "code",
   "execution_count": 27,
   "metadata": {},
   "outputs": [
    {
     "name": "stdout",
     "output_type": "stream",
     "text": [
      "Ford\n"
     ]
    },
    {
     "data": {
      "text/plain": [
       "dict_values(['Ford', 'Mustang', 1964])"
      ]
     },
     "execution_count": 27,
     "metadata": {},
     "output_type": "execute_result"
    }
   ],
   "source": [
    "print(car['brand']) #only values for 'brand'\n",
    "\n",
    "#to get all the values of car dictionary, I will use 'values' method\n",
    "car.values()"
   ]
  },
  {
   "cell_type": "markdown",
   "metadata": {},
   "source": [
    "### 1.3.5. Print the max value of friday in january of hr_sleep dictionary"
   ]
  },
  {
   "cell_type": "code",
   "execution_count": 31,
   "metadata": {},
   "outputs": [
    {
     "name": "stdout",
     "output_type": "stream",
     "text": [
      "2\n"
     ]
    }
   ],
   "source": [
    "print(max(hr_sleep[\"january\"][\"friday\"]))"
   ]
  },
  {
   "cell_type": "markdown",
   "metadata": {},
   "source": [
    "### 1.3.6. Add march key to the hr_sleep dictionary using week1 and values2 Python lists"
   ]
  },
  {
   "cell_type": "code",
   "execution_count": 32,
   "metadata": {},
   "outputs": [],
   "source": [
    "week1 = ['monday', 'sunday']\n",
    "values2 = [ [2, 3, 4 ] , 8, ]"
   ]
  },
  {
   "cell_type": "code",
   "execution_count": 36,
   "metadata": {},
   "outputs": [
    {
     "name": "stdout",
     "output_type": "stream",
     "text": [
      "{'january': {'wednesday': 7, 'thursday': 8, 'friday': [2, 2, 1, 2]}, 'february': {'saturday': 5, 'sunday': 10, 'monday': 8}, 'march': {'monday': [2, 3, 4], 'sunday': 8}}\n"
     ]
    },
    {
     "data": {
      "text/plain": [
       "dict"
      ]
     },
     "execution_count": 36,
     "metadata": {},
     "output_type": "execute_result"
    }
   ],
   "source": [
    "# first, convert lists into dictionary\n",
    "new_add= dict( zip( week1 , values2 ) )\n",
    "\n",
    "# then add the dictionary into hr_sleep with a new key\n",
    "hr_sleep['march']=new_add\n",
    "\n",
    "print(hr_sleep)"
   ]
  },
  {
   "cell_type": "markdown",
   "metadata": {},
   "source": [
    "## 1.4 Numpy "
   ]
  },
  {
   "cell_type": "markdown",
   "metadata": {},
   "source": [
    "### 1. Replace all the even_numbers in np1 with 100. Hint: Use indexing in arrys and this filer"
   ]
  },
  {
   "cell_type": "code",
   "execution_count": 1,
   "metadata": {},
   "outputs": [],
   "source": [
    "import numpy as np"
   ]
  },
  {
   "cell_type": "code",
   "execution_count": 2,
   "metadata": {},
   "outputs": [],
   "source": [
    "np1 = np.arange(200, 750)"
   ]
  },
  {
   "cell_type": "code",
   "execution_count": 3,
   "metadata": {},
   "outputs": [],
   "source": [
    "np1[np1 % 2 == 0] = 100"
   ]
  },
  {
   "cell_type": "markdown",
   "metadata": {},
   "source": [
    "### 2. Create a 3x3 matrix with values ranging from 0 to 8. Hint: Use np.arange and np.reshape method."
   ]
  },
  {
   "cell_type": "code",
   "execution_count": 4,
   "metadata": {},
   "outputs": [
    {
     "data": {
      "text/plain": [
       "array([0, 1, 2, 3, 4, 5, 6, 7, 8])"
      ]
     },
     "execution_count": 4,
     "metadata": {},
     "output_type": "execute_result"
    }
   ],
   "source": [
    "np3 = np.arange(0, 9)\n",
    "np3"
   ]
  },
  {
   "cell_type": "code",
   "execution_count": 5,
   "metadata": {},
   "outputs": [
    {
     "data": {
      "text/plain": [
       "array([[0, 1, 2],\n",
       "       [3, 4, 5],\n",
       "       [6, 7, 8]])"
      ]
     },
     "execution_count": 5,
     "metadata": {},
     "output_type": "execute_result"
    }
   ],
   "source": [
    "matrix = np3.reshape((3,3))\n",
    "matrix"
   ]
  },
  {
   "cell_type": "markdown",
   "metadata": {},
   "source": [
    "### 3. Consider an array Z = [1,2,3,4,5,6,7,8,9,10], generate an array R = [ [ 1, 2, 3, 4], [ 2, 3, 4, 5 ], [ 3, 4, 5, 6 ], ..., [ 7, 8, 9, 10 ] ]?.Hint: Use np.arange and np.concatenate"
   ]
  },
  {
   "cell_type": "code",
   "execution_count": 6,
   "metadata": {},
   "outputs": [
    {
     "data": {
      "text/plain": [
       "array([ 1,  2,  3,  4,  5,  6,  7,  8,  9, 10])"
      ]
     },
     "execution_count": 6,
     "metadata": {},
     "output_type": "execute_result"
    }
   ],
   "source": [
    "Z = np.arange(1, 11,dtype=int)\n",
    "Z"
   ]
  },
  {
   "cell_type": "code",
   "execution_count": 7,
   "metadata": {},
   "outputs": [
    {
     "data": {
      "text/plain": [
       "array([[ 1,  2,  3,  4],\n",
       "       [ 2,  3,  4,  5],\n",
       "       [ 3,  4,  5,  6],\n",
       "       [ 4,  5,  6,  7],\n",
       "       [ 5,  6,  7,  8],\n",
       "       [ 6,  7,  8,  9],\n",
       "       [ 7,  8,  9, 10]])"
      ]
     },
     "execution_count": 7,
     "metadata": {},
     "output_type": "execute_result"
    }
   ],
   "source": [
    "def rolling(a, window):\n",
    "    shape = (a.size - window + 1, window)\n",
    "    strides = (a.itemsize, a.itemsize)\n",
    "    return np.lib.stride_tricks.as_strided(a, shape=shape, strides=strides)\n",
    "R = rolling(Z, 4)\n",
    "R"
   ]
  },
  {
   "cell_type": "code",
   "execution_count": 8,
   "metadata": {},
   "outputs": [
    {
     "data": {
      "text/plain": [
       "array([ 1,  2,  3,  4,  2,  3,  4,  5,  3,  4,  5,  6,  4,  5,  6,  7,  5,\n",
       "        6,  7,  8,  6,  7,  8,  9,  7,  8,  9, 10])"
      ]
     },
     "execution_count": 8,
     "metadata": {},
     "output_type": "execute_result"
    }
   ],
   "source": [
    "R = np.concatenate(R)\n",
    "R"
   ]
  },
  {
   "cell_type": "markdown",
   "metadata": {},
   "source": [
    "### 4 Create a 3x3x3 array with random values. Hint: Use np.random.random."
   ]
  },
  {
   "cell_type": "code",
   "execution_count": 9,
   "metadata": {},
   "outputs": [
    {
     "data": {
      "text/plain": [
       "array([[[0.42998866, 0.33111723, 0.09846721],\n",
       "        [0.59965035, 0.42785002, 0.5387311 ],\n",
       "        [0.67056783, 0.50129255, 0.84968808]],\n",
       "\n",
       "       [[0.92359223, 0.77076085, 0.26081529],\n",
       "        [0.79121297, 0.32740756, 0.66234393],\n",
       "        [0.73225855, 0.0493063 , 0.55710917]],\n",
       "\n",
       "       [[0.92186395, 0.4792279 , 0.40260141],\n",
       "        [0.30958598, 0.46736499, 0.61383046],\n",
       "        [0.78476367, 0.47958405, 0.23902258]]])"
      ]
     },
     "execution_count": 9,
     "metadata": {},
     "output_type": "execute_result"
    }
   ],
   "source": [
    "array = np.random.random((3,3,3))\n",
    "array"
   ]
  },
  {
   "cell_type": "markdown",
   "metadata": {},
   "source": [
    "### 5 Comment why this expression np.nan == np.nan is False. Hint: Use stackoverflow."
   ]
  },
  {
   "cell_type": "markdown",
   "metadata": {},
   "source": [
    "The expression NaN = NaN is classified as False because NaN (Not a Number) is an undefined value. It is not zero, nor does it mean that it does not exist, only that it is not defined. Therefore, equating two undefined values is not possible. Nor could one say that an undefined value is greater than or equal to another undefined value."
   ]
  },
  {
   "cell_type": "code",
   "execution_count": null,
   "metadata": {},
   "outputs": [],
   "source": [
    "## 6 Print the mean and standard deviation of np2. Hint: Use f-string, np.mean, and np.var methods."
   ]
  },
  {
   "cell_type": "code",
   "execution_count": 10,
   "metadata": {},
   "outputs": [],
   "source": [
    "np2 = np.random.normal( 50 , 4, 300)"
   ]
  },
  {
   "cell_type": "code",
   "execution_count": 11,
   "metadata": {},
   "outputs": [
    {
     "name": "stdout",
     "output_type": "stream",
     "text": [
      "49.79347659992302\n"
     ]
    }
   ],
   "source": [
    "# Mean of np2\n",
    "mean = np2.mean()\n",
    "print (mean)"
   ]
  },
  {
   "cell_type": "code",
   "execution_count": 12,
   "metadata": {},
   "outputs": [
    {
     "data": {
      "text/plain": [
       "17.412746398970423"
      ]
     },
     "execution_count": 12,
     "metadata": {},
     "output_type": "execute_result"
    }
   ],
   "source": [
    "# Standard deviation of np2\n",
    "var = np2.var()\n",
    "var"
   ]
  },
  {
   "cell_type": "code",
   "execution_count": 13,
   "metadata": {},
   "outputs": [
    {
     "data": {
      "text/plain": [
       "4.172858300849721"
      ]
     },
     "execution_count": 13,
     "metadata": {},
     "output_type": "execute_result"
    }
   ],
   "source": [
    "stdev = np.sqrt(var)\n",
    "stdev"
   ]
  },
  {
   "cell_type": "code",
   "execution_count": 14,
   "metadata": {},
   "outputs": [
    {
     "data": {
      "text/plain": [
       "'The mean of np2 is 49.79347659992302, and its standard deviation is 4.172858300849721.'"
      ]
     },
     "execution_count": 14,
     "metadata": {},
     "output_type": "execute_result"
    }
   ],
   "source": [
    "f\"The mean of np2 is {mean}, and its standard deviation is {stdev}.\""
   ]
  },
  {
   "cell_type": "markdown",
   "metadata": {},
   "source": [
    "### Restricted Least Squares"
   ]
  },
  {
   "cell_type": "markdown",
   "metadata": {},
   "source": [
    "### 1. Get  𝜷ˆ(𝑅𝐿𝑆)  vector from the equation bellow. Use the q, p1, p2, p3, CT numpies."
   ]
  },
  {
   "cell_type": "code",
   "execution_count": 64,
   "metadata": {},
   "outputs": [],
   "source": [
    "import pandas as pd\n",
    "greene = pd.read_csv(r\"../../_data/christensen_greene_f4.csv\")"
   ]
  },
  {
   "cell_type": "code",
   "execution_count": 65,
   "metadata": {},
   "outputs": [
    {
     "data": {
      "text/html": [
       "<div>\n",
       "<style scoped>\n",
       "    .dataframe tbody tr th:only-of-type {\n",
       "        vertical-align: middle;\n",
       "    }\n",
       "\n",
       "    .dataframe tbody tr th {\n",
       "        vertical-align: top;\n",
       "    }\n",
       "\n",
       "    .dataframe thead th {\n",
       "        text-align: right;\n",
       "    }\n",
       "</style>\n",
       "<table border=\"1\" class=\"dataframe\">\n",
       "  <thead>\n",
       "    <tr style=\"text-align: right;\">\n",
       "      <th></th>\n",
       "      <th>id</th>\n",
       "      <th>YEAR</th>\n",
       "      <th>COST</th>\n",
       "      <th>Q</th>\n",
       "      <th>PL</th>\n",
       "      <th>SL</th>\n",
       "      <th>PK</th>\n",
       "      <th>SK</th>\n",
       "      <th>PF</th>\n",
       "      <th>SF</th>\n",
       "    </tr>\n",
       "  </thead>\n",
       "  <tbody>\n",
       "    <tr>\n",
       "      <th>0</th>\n",
       "      <td>1</td>\n",
       "      <td>1970</td>\n",
       "      <td>0.2130</td>\n",
       "      <td>8.0</td>\n",
       "      <td>6869.47</td>\n",
       "      <td>0.3291</td>\n",
       "      <td>64.945</td>\n",
       "      <td>0.4197</td>\n",
       "      <td>18.000</td>\n",
       "      <td>0.2512</td>\n",
       "    </tr>\n",
       "    <tr>\n",
       "      <th>1</th>\n",
       "      <td>4</td>\n",
       "      <td>1970</td>\n",
       "      <td>3.0427</td>\n",
       "      <td>869.0</td>\n",
       "      <td>8372.96</td>\n",
       "      <td>0.1030</td>\n",
       "      <td>68.227</td>\n",
       "      <td>0.2913</td>\n",
       "      <td>21.067</td>\n",
       "      <td>0.6057</td>\n",
       "    </tr>\n",
       "    <tr>\n",
       "      <th>2</th>\n",
       "      <td>5</td>\n",
       "      <td>1970</td>\n",
       "      <td>9.4059</td>\n",
       "      <td>1412.0</td>\n",
       "      <td>7960.90</td>\n",
       "      <td>0.0891</td>\n",
       "      <td>40.692</td>\n",
       "      <td>0.1567</td>\n",
       "      <td>41.530</td>\n",
       "      <td>0.7542</td>\n",
       "    </tr>\n",
       "    <tr>\n",
       "      <th>3</th>\n",
       "      <td>14</td>\n",
       "      <td>1970</td>\n",
       "      <td>0.7606</td>\n",
       "      <td>65.0</td>\n",
       "      <td>8971.89</td>\n",
       "      <td>0.2802</td>\n",
       "      <td>41.243</td>\n",
       "      <td>0.1282</td>\n",
       "      <td>28.539</td>\n",
       "      <td>0.5916</td>\n",
       "    </tr>\n",
       "    <tr>\n",
       "      <th>4</th>\n",
       "      <td>15</td>\n",
       "      <td>1970</td>\n",
       "      <td>2.2587</td>\n",
       "      <td>295.0</td>\n",
       "      <td>8218.40</td>\n",
       "      <td>0.1772</td>\n",
       "      <td>71.940</td>\n",
       "      <td>0.1623</td>\n",
       "      <td>39.200</td>\n",
       "      <td>0.6606</td>\n",
       "    </tr>\n",
       "    <tr>\n",
       "      <th>...</th>\n",
       "      <td>...</td>\n",
       "      <td>...</td>\n",
       "      <td>...</td>\n",
       "      <td>...</td>\n",
       "      <td>...</td>\n",
       "      <td>...</td>\n",
       "      <td>...</td>\n",
       "      <td>...</td>\n",
       "      <td>...</td>\n",
       "      <td>...</td>\n",
       "    </tr>\n",
       "    <tr>\n",
       "      <th>153</th>\n",
       "      <td>214</td>\n",
       "      <td>1970</td>\n",
       "      <td>6.8293</td>\n",
       "      <td>946.6</td>\n",
       "      <td>10642.16</td>\n",
       "      <td>0.0883</td>\n",
       "      <td>43.600</td>\n",
       "      <td>0.1914</td>\n",
       "      <td>51.463</td>\n",
       "      <td>0.7203</td>\n",
       "    </tr>\n",
       "    <tr>\n",
       "      <th>154</th>\n",
       "      <td>215</td>\n",
       "      <td>1970</td>\n",
       "      <td>3.7605</td>\n",
       "      <td>377.0</td>\n",
       "      <td>7432.24</td>\n",
       "      <td>0.2117</td>\n",
       "      <td>74.120</td>\n",
       "      <td>0.2274</td>\n",
       "      <td>33.436</td>\n",
       "      <td>0.5609</td>\n",
       "    </tr>\n",
       "    <tr>\n",
       "      <th>155</th>\n",
       "      <td>216</td>\n",
       "      <td>1970</td>\n",
       "      <td>3.9822</td>\n",
       "      <td>391.0</td>\n",
       "      <td>5826.04</td>\n",
       "      <td>0.1926</td>\n",
       "      <td>78.288</td>\n",
       "      <td>0.0924</td>\n",
       "      <td>44.633</td>\n",
       "      <td>0.7151</td>\n",
       "    </tr>\n",
       "    <tr>\n",
       "      <th>156</th>\n",
       "      <td>217</td>\n",
       "      <td>1970</td>\n",
       "      <td>30.1880</td>\n",
       "      <td>5317.0</td>\n",
       "      <td>9586.63</td>\n",
       "      <td>0.0845</td>\n",
       "      <td>78.008</td>\n",
       "      <td>0.2009</td>\n",
       "      <td>41.840</td>\n",
       "      <td>0.7147</td>\n",
       "    </tr>\n",
       "    <tr>\n",
       "      <th>157</th>\n",
       "      <td>218</td>\n",
       "      <td>1970</td>\n",
       "      <td>67.8562</td>\n",
       "      <td>15220.0</td>\n",
       "      <td>6986.09</td>\n",
       "      <td>0.1451</td>\n",
       "      <td>74.025</td>\n",
       "      <td>0.2596</td>\n",
       "      <td>25.662</td>\n",
       "      <td>0.5945</td>\n",
       "    </tr>\n",
       "  </tbody>\n",
       "</table>\n",
       "<p>158 rows × 10 columns</p>\n",
       "</div>"
      ],
      "text/plain": [
       "      id  YEAR     COST        Q        PL      SL      PK      SK      PF  \\\n",
       "0      1  1970   0.2130      8.0   6869.47  0.3291  64.945  0.4197  18.000   \n",
       "1      4  1970   3.0427    869.0   8372.96  0.1030  68.227  0.2913  21.067   \n",
       "2      5  1970   9.4059   1412.0   7960.90  0.0891  40.692  0.1567  41.530   \n",
       "3     14  1970   0.7606     65.0   8971.89  0.2802  41.243  0.1282  28.539   \n",
       "4     15  1970   2.2587    295.0   8218.40  0.1772  71.940  0.1623  39.200   \n",
       "..   ...   ...      ...      ...       ...     ...     ...     ...     ...   \n",
       "153  214  1970   6.8293    946.6  10642.16  0.0883  43.600  0.1914  51.463   \n",
       "154  215  1970   3.7605    377.0   7432.24  0.2117  74.120  0.2274  33.436   \n",
       "155  216  1970   3.9822    391.0   5826.04  0.1926  78.288  0.0924  44.633   \n",
       "156  217  1970  30.1880   5317.0   9586.63  0.0845  78.008  0.2009  41.840   \n",
       "157  218  1970  67.8562  15220.0   6986.09  0.1451  74.025  0.2596  25.662   \n",
       "\n",
       "        SF   \n",
       "0    0.2512  \n",
       "1    0.6057  \n",
       "2    0.7542  \n",
       "3    0.5916  \n",
       "4    0.6606  \n",
       "..      ...  \n",
       "153  0.7203  \n",
       "154  0.5609  \n",
       "155  0.7151  \n",
       "156  0.7147  \n",
       "157  0.5945  \n",
       "\n",
       "[158 rows x 10 columns]"
      ]
     },
     "execution_count": 65,
     "metadata": {},
     "output_type": "execute_result"
    }
   ],
   "source": [
    "greene"
   ]
  },
  {
   "cell_type": "code",
   "execution_count": 66,
   "metadata": {},
   "outputs": [],
   "source": [
    "ct = greene.COST.values\n",
    "q = greene.Q.values\n",
    "p1 = greene.PL.values\n",
    "p2 = greene.PF.values\n",
    "p3 = greene.PK.values"
   ]
  },
  {
   "cell_type": "code",
   "execution_count": 67,
   "metadata": {},
   "outputs": [],
   "source": [
    "import statsmodels.api as sm\n",
    "import numpy as np"
   ]
  },
  {
   "cell_type": "code",
   "execution_count": 68,
   "metadata": {},
   "outputs": [],
   "source": [
    "lnct = np.log(ct)\n",
    "lnq = np.log(q)\n",
    "lnp1 = np.log(p1)\n",
    "lnp2 = np.log(p2)\n",
    "lnp3 = np.log(p3)"
   ]
  },
  {
   "cell_type": "code",
   "execution_count": 69,
   "metadata": {},
   "outputs": [],
   "source": [
    "ln2p1 = np.multiply(lnp1,lnp1)\n",
    "ln2p2 = np.multiply(lnp2,lnp2)\n",
    "ln2p3 = np.multiply(lnp3,lnp3)"
   ]
  },
  {
   "cell_type": "code",
   "execution_count": 70,
   "metadata": {},
   "outputs": [],
   "source": [
    "ln2p1_2 = np.multiply(ln2p1,0.5)\n",
    "ln2p2_2 = np.multiply(ln2p2,0.5)\n",
    "ln2p3_2 = np.multiply(ln2p3,0.5)"
   ]
  },
  {
   "cell_type": "code",
   "execution_count": 71,
   "metadata": {},
   "outputs": [],
   "source": [
    "lnq2=np.multiply(lnq,lnq)\n",
    "lnq2_2=np.multiply(lnq2,0.5)"
   ]
  },
  {
   "cell_type": "code",
   "execution_count": 72,
   "metadata": {},
   "outputs": [],
   "source": [
    "lnqlnp1=np.multiply(lnq,lnp1)\n",
    "lnqlnp2=np.multiply(lnq,lnp2)\n",
    "lnqlnp3=np.multiply(lnq,lnp3)"
   ]
  },
  {
   "cell_type": "code",
   "execution_count": 73,
   "metadata": {},
   "outputs": [],
   "source": [
    "lnp1lnp2 = np.multiply (lnp1,lnp2)\n",
    "lnp1lnp3 = np.multiply (lnp1,lnp3)\n",
    "lnp2lnp3 = np.multiply (lnp2,lnp3)"
   ]
  },
  {
   "cell_type": "code",
   "execution_count": 74,
   "metadata": {},
   "outputs": [],
   "source": [
    "lnp1lnp2_2 = np.multiply (lnp1lnp2,0.5)\n",
    "lnp1lnp3_2 = np.multiply (lnp1lnp3,0.5)\n",
    "lnp2lnp3_2 = np.multiply (lnp2lnp3,0.5)"
   ]
  },
  {
   "cell_type": "code",
   "execution_count": 75,
   "metadata": {},
   "outputs": [],
   "source": [
    "beta_q  = lnq\n",
    "beta_qq = lnq2_2\n",
    "beta_q1 = lnqlnp1\n",
    "beta_q2 = lnqlnp2\n",
    "beta_q3 = lnqlnp3\n",
    "beta_1  = lnp1\n",
    "beta_2  = lnp2\n",
    "beta_3  = lnp3\n",
    "beta_11 = ln2p1_2\n",
    "beta_22 = ln2p2_2\n",
    "beta_33 = ln2p3_2\n",
    "beta_12 = lnp1lnp2_2\n",
    "beta_13 = lnp1lnp3_2\n",
    "beta_23 = lnp2lnp3_2\n",
    "beta_21 = beta_12\n",
    "beta_31 = beta_13\n",
    "beta_32 = beta_23"
   ]
  },
  {
   "cell_type": "code",
   "execution_count": 76,
   "metadata": {},
   "outputs": [
    {
     "name": "stdout",
     "output_type": "stream",
     "text": [
      "==============================================================================\n",
      "                 coef    std err          t      P>|t|      [0.025      0.975]\n",
      "------------------------------------------------------------------------------\n",
      "Intercept    -76.2593     38.280     -1.992      0.048    -151.927      -0.591\n",
      "beta_q        -1.0804      0.376     -2.877      0.005      -1.823      -0.338\n",
      "beta_qq        0.0530      0.005     11.240      0.000       0.044       0.062\n",
      "beta_q1        0.1310      0.038      3.423      0.001       0.055       0.207\n",
      "beta_q2        0.0587      0.026      2.296      0.023       0.008       0.109\n",
      "beta_q3        0.0401      0.030      1.348      0.180      -0.019       0.099\n",
      "beta_1        14.7183      7.085      2.077      0.040       0.714      28.723\n",
      "beta_2        -0.8947      2.842     -0.315      0.753      -6.513       4.724\n",
      "beta_3         6.3808      4.529      1.409      0.161      -2.572      15.334\n",
      "beta_11       -1.5385      0.692     -2.222      0.028      -2.907      -0.170\n",
      "beta_22       -0.0735      0.182     -0.404      0.687      -0.433       0.286\n",
      "beta_33       -0.3274      0.441     -0.743      0.459      -1.199       0.544\n",
      "beta_12        0.3246      0.540      0.601      0.549      -0.743       1.392\n",
      "beta_13       -1.1441      0.744     -1.538      0.126      -2.614       0.326\n",
      "beta_23       -0.0480      0.493     -0.098      0.922      -1.022       0.926\n",
      "==============================================================================\n"
     ]
    }
   ],
   "source": [
    "y_mdl = sm.OLS.from_formula(\"lnct ~ beta_q + beta_qq + beta_q1 + beta_q2 + beta_q3 + beta_1 + beta_2 + beta_3 + beta_11 + beta_22 + beta_33 + beta_12 + beta_13 + beta_23\", \n",
    "                            data = greene)\n",
    "y_mdl_fit = y_mdl.fit()\n",
    "print(y_mdl_fit.summary().tables[1])"
   ]
  },
  {
   "cell_type": "code",
   "execution_count": 77,
   "metadata": {},
   "outputs": [
    {
     "name": "stdout",
     "output_type": "stream",
     "text": [
      "==============================================================================\n",
      "                 coef    std err          z      P>|z|      [0.025      0.975]\n",
      "------------------------------------------------------------------------------\n",
      "Intercept    -76.2593     38.280     -1.992      0.046    -151.287      -1.232\n",
      "beta_q        -1.0804      0.376     -2.877      0.004      -1.816      -0.344\n",
      "beta_qq        0.0530      0.005     11.240      0.000       0.044       0.062\n",
      "beta_q1        0.1310      0.038      3.423      0.001       0.056       0.206\n",
      "beta_q2        0.0587      0.026      2.296      0.022       0.009       0.109\n",
      "beta_q3        0.0401      0.030      1.348      0.178      -0.018       0.099\n",
      "beta_1        14.7183      7.085      2.077      0.038       0.832      28.604\n",
      "beta_2        -0.8947      2.842     -0.315      0.753      -6.466       4.676\n",
      "beta_3         6.3808      4.529      1.409      0.159      -2.496      15.258\n",
      "beta_11       -1.5385      0.692     -2.222      0.026      -2.896      -0.181\n",
      "beta_22       -0.0735      0.182     -0.404      0.686      -0.430       0.283\n",
      "beta_33       -0.3274      0.441     -0.743      0.458      -1.191       0.536\n",
      "beta_12        0.3246      0.540      0.601      0.548      -0.734       1.383\n",
      "beta_13       -1.1441      0.744     -1.538      0.124      -2.602       0.314\n",
      "beta_23       -0.0480      0.493     -0.098      0.922      -1.014       0.918\n",
      "==============================================================================\n"
     ]
    }
   ],
   "source": [
    "mdl_glm = sm.GLM.from_formula(formula = y_mdl.formula, data = greene)\n",
    "mdl_glm_fit = mdl_glm.fit()\n",
    "print(mdl_glm_fit.summary().tables[1])"
   ]
  },
  {
   "cell_type": "code",
   "execution_count": 78,
   "metadata": {
    "scrolled": true
   },
   "outputs": [
    {
     "name": "stdout",
     "output_type": "stream",
     "text": [
      "==============================================================================\n",
      "                 coef    std err          z      P>|z|      [0.025      0.975]\n",
      "------------------------------------------------------------------------------\n",
      "Intercept     -7.1112      2.913     -2.441      0.015     -12.821      -1.402\n",
      "beta_q         0.4614      0.127      3.646      0.000       0.213       0.709\n",
      "beta_qq        0.0600      0.004     13.372      0.000       0.051       0.069\n",
      "beta_q1       -0.0044      0.024     -0.180      0.857      -0.052       0.043\n",
      "beta_q2        0.0368      0.026      1.438      0.151      -0.013       0.087\n",
      "beta_q3       -0.0324      0.023     -1.432      0.152      -0.077       0.012\n",
      "beta_1         0.2156      1.073      0.201      0.841      -1.888       2.319\n",
      "beta_2         0.4029      0.586      0.688      0.492      -0.745       1.551\n",
      "beta_3         0.3815      0.562      0.679      0.497      -0.719       1.482\n",
      "beta_11       -0.0087      0.149     -0.058      0.953      -0.301       0.283\n",
      "beta_22        0.0052      0.169      0.030      0.976      -0.327       0.337\n",
      "beta_33       -0.0153      0.317     -0.048      0.962      -0.637       0.607\n",
      "beta_12       -0.0059      0.241     -0.024      0.981      -0.478       0.466\n",
      "beta_13        0.0146      0.156      0.094      0.925      -0.291       0.320\n",
      "beta_23        0.0007      0.245      0.003      0.998      -0.479       0.480\n",
      "==============================================================================\n"
     ]
    }
   ],
   "source": [
    "mdl_rls = mdl_glm.fit_constrained(\"beta_1 + beta_2 + beta_3 = 1, beta_q1 + beta_q2 + beta_q3 = 0, beta_11 + beta_12 + beta_13 = 0, beta_12 + beta_22 + beta_23 = 0, beta_13 + beta_23 + beta_33 = 0\")\n",
    "print(mdl_rls.summary().tables[1])"
   ]
  },
  {
   "cell_type": "markdown",
   "metadata": {},
   "source": [
    "### 2.Get the covariance matrix  𝕍ar(𝜷ˆ(𝑅𝐿𝑆)) ."
   ]
  },
  {
   "cell_type": "code",
   "execution_count": 79,
   "metadata": {},
   "outputs": [],
   "source": [
    "x0 = np.ones(158)\n",
    "X = np.hstack(( beta_q.reshape(-1, 1), beta_qq.reshape(-1,1) , beta_q1.reshape(-1,1) , beta_q2.reshape(-1,1) ,\n",
    "              beta_q3.reshape(-1,1), beta_1.reshape(-1,1), beta_2.reshape(-1,1), beta_3.reshape(-1,1), beta_11.reshape(-1,1),\n",
    "              beta_22.reshape(-1,1), beta_33.reshape(-1,1), beta_12.reshape(-1,1), beta_13.reshape(-1,1), beta_23.reshape(-1,1)))"
   ]
  },
  {
   "cell_type": "code",
   "execution_count": 80,
   "metadata": {},
   "outputs": [
    {
     "data": {
      "text/plain": [
       "array([[ 2.07944154,  2.16203856, 18.37153796, ..., 12.76798924,\n",
       "        18.43628708,  6.03154217],\n",
       "       [ 6.76734313, 22.89846649, 61.12780486, ..., 13.7646109 ,\n",
       "        19.07195764,  6.43499186],\n",
       "       [ 7.25276242, 26.30128135, 65.14646856, ..., 16.73588852,\n",
       "        16.6443385 ,  6.90510767],\n",
       "       ...,\n",
       "       [ 5.96870756, 17.81273497, 51.74924846, ..., 16.46655886,\n",
       "        18.90251177,  8.28142116],\n",
       "       [ 8.57866451, 36.79674242, 78.65026601, ..., 17.11621413,\n",
       "        19.97189503,  8.13384624],\n",
       "       [ 9.63036563, 46.3719711 , 85.2448793 , ..., 14.36189482,\n",
       "        19.05059047,  6.98391798]])"
      ]
     },
     "execution_count": 80,
     "metadata": {},
     "output_type": "execute_result"
    }
   ],
   "source": [
    "X"
   ]
  },
  {
   "cell_type": "code",
   "execution_count": 81,
   "metadata": {},
   "outputs": [],
   "source": [
    "#X_mat=np.asmatrix(X)\n",
    "#X_mat"
   ]
  },
  {
   "cell_type": "code",
   "execution_count": 82,
   "metadata": {},
   "outputs": [],
   "source": [
    "#lnct_mat = lnct.reshape(-1,1)"
   ]
  },
  {
   "cell_type": "code",
   "execution_count": 83,
   "metadata": {},
   "outputs": [],
   "source": [
    "L=np.array (([0,0,0,0,0,0,1,1,1,0,0,0,0,0,0],\n",
    "             [0,0,0,1,1,1,0,0,0,0,0,0,0,0,0],\n",
    "             [0,0,0,0,0,0,0,0,0,1,0,0,1,1,0],\n",
    "             [0,0,0,0,0,0,0,0,0,0,1,0,1,0,1],\n",
    "             [0,0,0,0,0,0,0,0,0,0,0,1,0,1,1]))\n",
    "rr = [1,0,0,0,0]"
   ]
  },
  {
   "cell_type": "code",
   "execution_count": 84,
   "metadata": {},
   "outputs": [
    {
     "name": "stdout",
     "output_type": "stream",
     "text": [
      "==============================================================================\n",
      "                 coef    std err          z      P>|z|      [0.025      0.975]\n",
      "------------------------------------------------------------------------------\n",
      "Intercept     -7.1112      2.913     -2.441      0.015     -12.821      -1.402\n",
      "beta_q         0.4614      0.127      3.646      0.000       0.213       0.709\n",
      "beta_qq        0.0600      0.004     13.372      0.000       0.051       0.069\n",
      "beta_q1       -0.0044      0.024     -0.180      0.857      -0.052       0.043\n",
      "beta_q2        0.0368      0.026      1.438      0.151      -0.013       0.087\n",
      "beta_q3       -0.0324      0.023     -1.432      0.152      -0.077       0.012\n",
      "beta_1         0.2156      1.073      0.201      0.841      -1.888       2.319\n",
      "beta_2         0.4029      0.586      0.688      0.492      -0.745       1.551\n",
      "beta_3         0.3815      0.562      0.679      0.497      -0.719       1.482\n",
      "beta_11       -0.0087      0.149     -0.058      0.953      -0.301       0.283\n",
      "beta_22        0.0052      0.169      0.030      0.976      -0.327       0.337\n",
      "beta_33       -0.0153      0.317     -0.048      0.962      -0.637       0.607\n",
      "beta_12       -0.0059      0.241     -0.024      0.981      -0.478       0.466\n",
      "beta_13        0.0146      0.156      0.094      0.925      -0.291       0.320\n",
      "beta_23        0.0007      0.245      0.003      0.998      -0.479       0.480\n",
      "==============================================================================\n"
     ]
    }
   ],
   "source": [
    "mdl_rls2 = mdl_glm.fit_constrained((L,rr))\n",
    "print(mdl_rls2.summary().tables[1])"
   ]
  },
  {
   "cell_type": "code",
   "execution_count": 87,
   "metadata": {},
   "outputs": [],
   "source": [
    "X_d = sm.add_constant(X)"
   ]
  },
  {
   "cell_type": "code",
   "execution_count": 88,
   "metadata": {},
   "outputs": [],
   "source": [
    "xtx_inv  = np.linalg.inv(np.dot(np.transpose(X_d), X_d))\n",
    "beta_ols = np.dot(xtx_inv, np.dot(np.transpose(X_d), lnct))"
   ]
  },
  {
   "cell_type": "code",
   "execution_count": 90,
   "metadata": {},
   "outputs": [
    {
     "data": {
      "text/plain": [
       "array([-6.91480570e+01, -1.54179333e+00, -6.97690070e-03,  1.35394988e-01,\n",
       "        2.18742238e-02,  7.25679772e-02,  1.45027254e+01, -1.29765594e+00,\n",
       "        5.99928604e+00, -1.52981504e+00, -7.86612353e-02, -3.12112571e-01,\n",
       "        3.30438341e-01, -1.15868571e+00, -4.87662759e-02])"
      ]
     },
     "execution_count": 90,
     "metadata": {},
     "output_type": "execute_result"
    }
   ],
   "source": [
    "RA_1 = np.dot(xtx_inv, np.transpose(L))\n",
    "RA_2 = np.linalg.inv(np.linalg.multi_dot([L, xtx_inv, np.transpose(L)]))\n",
    "RA_3 = np.dot(L, beta_ols) - np.array(rr)\n",
    "RA   = RA_1.dot(RA_2).dot(RA_3)\n",
    "RA "
   ]
  },
  {
   "cell_type": "code",
   "execution_count": 91,
   "metadata": {},
   "outputs": [
    {
     "data": {
      "text/plain": [
       "array([-7.11120011e+00,  4.61367985e-01,  5.99553934e-02, -4.35440198e-03,\n",
       "        3.67779793e-02, -3.24235773e-02,  2.15566353e-01,  4.02923024e-01,\n",
       "        3.81510623e-01, -8.71224206e-03,  5.15567485e-03, -1.53016764e-02,\n",
       "       -5.87255460e-03,  1.45847967e-02,  7.16879746e-04])"
      ]
     },
     "execution_count": 91,
     "metadata": {},
     "output_type": "execute_result"
    }
   ],
   "source": [
    "beta_rls = beta_ols - RA\n",
    "beta_rls.shape\n",
    "beta_rls"
   ]
  },
  {
   "cell_type": "code",
   "execution_count": 92,
   "metadata": {},
   "outputs": [
    {
     "data": {
      "text/plain": [
       "(158,)"
      ]
     },
     "execution_count": 92,
     "metadata": {},
     "output_type": "execute_result"
    }
   ],
   "source": [
    "y_fit = np.dot(X_d, beta_rls)\n",
    "y_fit.shape"
   ]
  },
  {
   "cell_type": "code",
   "execution_count": 107,
   "metadata": {},
   "outputs": [
    {
     "data": {
      "text/plain": [
       "(158,)"
      ]
     },
     "execution_count": 107,
     "metadata": {},
     "output_type": "execute_result"
    }
   ],
   "source": [
    "resid = np.array(lnct) - mdl_rls2.predict()\n",
    "resid.shape"
   ]
  },
  {
   "cell_type": "code",
   "execution_count": 108,
   "metadata": {},
   "outputs": [],
   "source": [
    "sigma2_rls = np.sum(resid**2) / (len(greene.index) - (len(beta_rls) - len(rr)))"
   ]
  },
  {
   "cell_type": "code",
   "execution_count": 109,
   "metadata": {},
   "outputs": [],
   "source": [
    "D_mat = np.identity(len(beta_rls)) - RA_1.dot(RA_2).dot(L)\n",
    "rls_vcov = sigma2_rls * D_mat.dot(xtx_inv)\n",
    "beta_rls_se = np.sqrt(np.diag(rls_vcov))"
   ]
  },
  {
   "cell_type": "code",
   "execution_count": 110,
   "metadata": {},
   "outputs": [
    {
     "data": {
      "text/plain": [
       "array([[ 8.48589522e+00, -9.61600638e-02,  2.05747327e-04,\n",
       "         1.56765358e-02, -2.21038019e-02,  6.42726609e-03,\n",
       "        -3.05050166e+00,  1.61354413e+00,  1.43695752e+00,\n",
       "         3.96518508e-01, -9.19352072e-02, -8.22144548e-01,\n",
       "        -5.63363924e-01,  1.66845416e-01,  6.55299132e-01],\n",
       "       [-9.61600638e-02,  1.60149394e-02, -6.96792552e-05,\n",
       "        -2.91213527e-03,  2.26965574e-03,  6.42479533e-04,\n",
       "         1.21925219e-02, -1.47386571e-02,  2.54613521e-03,\n",
       "         1.59342538e-03, -2.91860121e-03, -1.31690219e-03,\n",
       "         4.13682235e-06, -1.59756220e-03,  2.91446439e-03],\n",
       "       [ 2.05747327e-04, -6.96792552e-05,  2.01030000e-05,\n",
       "        -1.63509023e-05, -2.39709641e-06,  1.87479987e-05,\n",
       "        -3.76839390e-05,  1.50075217e-04, -1.12391278e-04,\n",
       "         2.49444200e-05,  6.14974496e-05, -9.65394665e-05,\n",
       "        -9.14906680e-05,  6.65462480e-05,  2.99932184e-05],\n",
       "       [ 1.56765358e-02, -2.91213527e-03, -1.63509023e-05,\n",
       "         5.84940247e-04, -3.63383123e-04, -2.21557124e-04,\n",
       "        -1.37716081e-03,  1.70147213e-03, -3.24311315e-04,\n",
       "        -4.79660537e-04,  5.61716052e-04,  5.74109750e-04,\n",
       "         2.46027118e-04,  2.33633420e-04, -8.07743170e-04],\n",
       "       [-2.21038019e-02,  2.26965574e-03, -2.39709641e-06,\n",
       "        -3.63383123e-04,  6.54424725e-04, -2.91041602e-04,\n",
       "         5.09874924e-03, -6.12052105e-03,  1.02177180e-03,\n",
       "        -3.32871958e-04,  5.73618057e-05,  4.60596520e-04,\n",
       "         3.68053336e-04, -3.51813780e-05, -4.25415142e-04],\n",
       "       [ 6.42726609e-03,  6.42479533e-04,  1.87479987e-05,\n",
       "        -2.21557124e-04, -2.91041602e-04,  5.12598726e-04,\n",
       "        -3.72158843e-03,  4.41904892e-03, -6.97460489e-04,\n",
       "         8.12532495e-04, -6.19077858e-04, -1.03470627e-03,\n",
       "        -6.14080454e-04, -1.98452042e-04,  1.23315831e-03],\n",
       "       [-3.05050166e+00,  1.21925219e-02, -3.76839390e-05,\n",
       "        -1.37716081e-03,  5.09874924e-03, -3.72158843e-03,\n",
       "         1.15156783e+00, -5.89638046e-01, -5.61929785e-01,\n",
       "        -1.56461143e-01,  4.55958679e-02,  3.09679352e-01,\n",
       "         2.10272314e-01, -5.38111701e-02, -2.55868181e-01],\n",
       "       [ 1.61354413e+00, -1.47386571e-02,  1.50075217e-04,\n",
       "         1.70147212e-03, -6.12052105e-03,  4.41904892e-03,\n",
       "        -5.89638046e-01,  3.43127226e-01,  2.46510820e-01,\n",
       "         7.80412891e-02, -2.54697782e-03, -1.71223636e-01,\n",
       "        -1.23358974e-01,  4.53176846e-02,  1.25905952e-01],\n",
       "       [ 1.43695752e+00,  2.54613521e-03, -1.12391278e-04,\n",
       "        -3.24311316e-04,  1.02177181e-03, -6.97460489e-04,\n",
       "        -5.61929785e-01,  2.46510820e-01,  3.15418964e-01,\n",
       "         7.84198544e-02, -4.30488901e-02, -1.38455715e-01,\n",
       "        -8.69133398e-02,  8.49348549e-03,  1.29962230e-01],\n",
       "       [ 3.96518508e-01,  1.59342538e-03,  2.49444200e-05,\n",
       "        -4.79660538e-04, -3.32871958e-04,  8.12532495e-04,\n",
       "        -1.56461143e-01,  7.80412891e-02,  7.84198544e-02,\n",
       "         2.22013592e-02, -8.25485257e-03, -4.19510357e-02,\n",
       "        -2.79487712e-02,  5.74741198e-03,  3.62036238e-02],\n",
       "       [-9.19352072e-02, -2.91860121e-03,  6.14974496e-05,\n",
       "         5.61716052e-04,  5.73618056e-05, -6.19077858e-04,\n",
       "         4.55958679e-02, -2.54697782e-03, -4.30488901e-02,\n",
       "        -8.25485257e-03,  2.87227038e-02, -6.34996732e-03,\n",
       "        -1.34089093e-02,  2.16637618e-02, -1.53137945e-02],\n",
       "       [-8.22144548e-01, -1.31690219e-03, -9.65394665e-05,\n",
       "         5.74109750e-04,  4.60596520e-04, -1.03470627e-03,\n",
       "         3.09679352e-01, -1.71223636e-01, -1.38455715e-01,\n",
       "        -4.19510357e-02, -6.34996732e-03,  1.00771518e-01,\n",
       "         7.45362604e-02, -3.25852246e-02, -6.81862931e-02],\n",
       "       [-5.63363924e-01,  4.13682185e-06, -9.14906680e-05,\n",
       "         2.46027118e-04,  3.68053336e-04, -6.14080454e-04,\n",
       "         2.10272314e-01, -1.23358974e-01, -8.69133398e-02,\n",
       "        -2.79487712e-02, -1.34089093e-02,  7.45362604e-02,\n",
       "         5.79469704e-02, -2.99981992e-02, -4.45380612e-02],\n",
       "       [ 1.66845416e-01, -1.59756220e-03,  6.65462480e-05,\n",
       "         2.33633420e-04, -3.51813780e-05, -1.98452042e-04,\n",
       "        -5.38111701e-02,  4.53176846e-02,  8.49348549e-03,\n",
       "         5.74741198e-03,  2.16637618e-02, -3.25852246e-02,\n",
       "        -2.99981992e-02,  2.42507872e-02,  8.33443740e-03],\n",
       "       [ 6.55299132e-01,  2.91446439e-03,  2.99932184e-05,\n",
       "        -8.07743170e-04, -4.25415142e-04,  1.23315831e-03,\n",
       "        -2.55868181e-01,  1.25905952e-01,  1.29962230e-01,\n",
       "         3.62036238e-02, -1.53137945e-02, -6.81862931e-02,\n",
       "        -4.45380612e-02,  8.33443740e-03,  5.98518557e-02]])"
      ]
     },
     "execution_count": 110,
     "metadata": {},
     "output_type": "execute_result"
    }
   ],
   "source": [
    "rls_vcov"
   ]
  },
  {
   "cell_type": "code",
   "execution_count": 111,
   "metadata": {},
   "outputs": [
    {
     "name": "stdout",
     "output_type": "stream",
     "text": [
      "              est        se\n",
      "        -7.111200  2.913056\n",
      "beta_q   0.461368  0.126550\n",
      "beta_qq  0.059955  0.004484\n",
      "beta_q1 -0.004354  0.024186\n",
      "beta_q2  0.036778  0.025582\n",
      "beta_q3 -0.032424  0.022641\n",
      "beta_1   0.215566  1.073111\n",
      "beta_2   0.402923  0.585771\n",
      "beta_3   0.381511  0.561622\n",
      "beta_11 -0.008712  0.149001\n",
      "beta_22  0.005156  0.169478\n",
      "beta_33 -0.015302  0.317445\n",
      "beta_12 -0.005873  0.240722\n",
      "beta_13  0.014585  0.155727\n",
      "beta_23  0.000717  0.244646\n"
     ]
    }
   ],
   "source": [
    "print(pd.DataFrame(np.column_stack([beta_rls, beta_rls_se]), columns = [\"est\", \"se\"],\n",
    "                   index = [\"\", \"beta_q\", \"beta_qq\", \"beta_q1\", \"beta_q2\",\"beta_q3\",\"beta_1\",\"beta_2\",\"beta_3\",\"beta_11\",\"beta_22\",\"beta_33\",\"beta_12\",\"beta_13\",\"beta_23\"]))"
   ]
  },
  {
   "cell_type": "code",
   "execution_count": 116,
   "metadata": {},
   "outputs": [
    {
     "data": {
      "text/html": [
       "<div>\n",
       "<style scoped>\n",
       "    .dataframe tbody tr th:only-of-type {\n",
       "        vertical-align: middle;\n",
       "    }\n",
       "\n",
       "    .dataframe tbody tr th {\n",
       "        vertical-align: top;\n",
       "    }\n",
       "\n",
       "    .dataframe thead th {\n",
       "        text-align: right;\n",
       "    }\n",
       "</style>\n",
       "<table border=\"1\" class=\"dataframe\">\n",
       "  <thead>\n",
       "    <tr style=\"text-align: right;\">\n",
       "      <th></th>\n",
       "      <th>0</th>\n",
       "      <th>1</th>\n",
       "      <th>2</th>\n",
       "      <th>3</th>\n",
       "      <th>4</th>\n",
       "      <th>5</th>\n",
       "      <th>6</th>\n",
       "      <th>7</th>\n",
       "      <th>8</th>\n",
       "      <th>9</th>\n",
       "      <th>10</th>\n",
       "      <th>11</th>\n",
       "      <th>12</th>\n",
       "      <th>13</th>\n",
       "      <th>14</th>\n",
       "    </tr>\n",
       "  </thead>\n",
       "  <tbody>\n",
       "    <tr>\n",
       "      <th>0</th>\n",
       "      <td>8.485895</td>\n",
       "      <td>-0.096160</td>\n",
       "      <td>0.000206</td>\n",
       "      <td>0.015677</td>\n",
       "      <td>-0.022104</td>\n",
       "      <td>0.006427</td>\n",
       "      <td>-3.050502</td>\n",
       "      <td>1.613544</td>\n",
       "      <td>1.436958</td>\n",
       "      <td>0.396519</td>\n",
       "      <td>-0.091935</td>\n",
       "      <td>-0.822145</td>\n",
       "      <td>-0.563364</td>\n",
       "      <td>0.166845</td>\n",
       "      <td>0.655299</td>\n",
       "    </tr>\n",
       "    <tr>\n",
       "      <th>1</th>\n",
       "      <td>-0.096160</td>\n",
       "      <td>0.016015</td>\n",
       "      <td>-0.000070</td>\n",
       "      <td>-0.002912</td>\n",
       "      <td>0.002270</td>\n",
       "      <td>0.000642</td>\n",
       "      <td>0.012193</td>\n",
       "      <td>-0.014739</td>\n",
       "      <td>0.002546</td>\n",
       "      <td>0.001593</td>\n",
       "      <td>-0.002919</td>\n",
       "      <td>-0.001317</td>\n",
       "      <td>0.000004</td>\n",
       "      <td>-0.001598</td>\n",
       "      <td>0.002914</td>\n",
       "    </tr>\n",
       "    <tr>\n",
       "      <th>2</th>\n",
       "      <td>0.000206</td>\n",
       "      <td>-0.000070</td>\n",
       "      <td>0.000020</td>\n",
       "      <td>-0.000016</td>\n",
       "      <td>-0.000002</td>\n",
       "      <td>0.000019</td>\n",
       "      <td>-0.000038</td>\n",
       "      <td>0.000150</td>\n",
       "      <td>-0.000112</td>\n",
       "      <td>0.000025</td>\n",
       "      <td>0.000061</td>\n",
       "      <td>-0.000097</td>\n",
       "      <td>-0.000091</td>\n",
       "      <td>0.000067</td>\n",
       "      <td>0.000030</td>\n",
       "    </tr>\n",
       "    <tr>\n",
       "      <th>3</th>\n",
       "      <td>0.015677</td>\n",
       "      <td>-0.002912</td>\n",
       "      <td>-0.000016</td>\n",
       "      <td>0.000585</td>\n",
       "      <td>-0.000363</td>\n",
       "      <td>-0.000222</td>\n",
       "      <td>-0.001377</td>\n",
       "      <td>0.001701</td>\n",
       "      <td>-0.000324</td>\n",
       "      <td>-0.000480</td>\n",
       "      <td>0.000562</td>\n",
       "      <td>0.000574</td>\n",
       "      <td>0.000246</td>\n",
       "      <td>0.000234</td>\n",
       "      <td>-0.000808</td>\n",
       "    </tr>\n",
       "    <tr>\n",
       "      <th>4</th>\n",
       "      <td>-0.022104</td>\n",
       "      <td>0.002270</td>\n",
       "      <td>-0.000002</td>\n",
       "      <td>-0.000363</td>\n",
       "      <td>0.000654</td>\n",
       "      <td>-0.000291</td>\n",
       "      <td>0.005099</td>\n",
       "      <td>-0.006121</td>\n",
       "      <td>0.001022</td>\n",
       "      <td>-0.000333</td>\n",
       "      <td>0.000057</td>\n",
       "      <td>0.000461</td>\n",
       "      <td>0.000368</td>\n",
       "      <td>-0.000035</td>\n",
       "      <td>-0.000425</td>\n",
       "    </tr>\n",
       "    <tr>\n",
       "      <th>5</th>\n",
       "      <td>0.006427</td>\n",
       "      <td>0.000642</td>\n",
       "      <td>0.000019</td>\n",
       "      <td>-0.000222</td>\n",
       "      <td>-0.000291</td>\n",
       "      <td>0.000513</td>\n",
       "      <td>-0.003722</td>\n",
       "      <td>0.004419</td>\n",
       "      <td>-0.000697</td>\n",
       "      <td>0.000813</td>\n",
       "      <td>-0.000619</td>\n",
       "      <td>-0.001035</td>\n",
       "      <td>-0.000614</td>\n",
       "      <td>-0.000198</td>\n",
       "      <td>0.001233</td>\n",
       "    </tr>\n",
       "    <tr>\n",
       "      <th>6</th>\n",
       "      <td>-3.050502</td>\n",
       "      <td>0.012193</td>\n",
       "      <td>-0.000038</td>\n",
       "      <td>-0.001377</td>\n",
       "      <td>0.005099</td>\n",
       "      <td>-0.003722</td>\n",
       "      <td>1.151568</td>\n",
       "      <td>-0.589638</td>\n",
       "      <td>-0.561930</td>\n",
       "      <td>-0.156461</td>\n",
       "      <td>0.045596</td>\n",
       "      <td>0.309679</td>\n",
       "      <td>0.210272</td>\n",
       "      <td>-0.053811</td>\n",
       "      <td>-0.255868</td>\n",
       "    </tr>\n",
       "    <tr>\n",
       "      <th>7</th>\n",
       "      <td>1.613544</td>\n",
       "      <td>-0.014739</td>\n",
       "      <td>0.000150</td>\n",
       "      <td>0.001701</td>\n",
       "      <td>-0.006121</td>\n",
       "      <td>0.004419</td>\n",
       "      <td>-0.589638</td>\n",
       "      <td>0.343127</td>\n",
       "      <td>0.246511</td>\n",
       "      <td>0.078041</td>\n",
       "      <td>-0.002547</td>\n",
       "      <td>-0.171224</td>\n",
       "      <td>-0.123359</td>\n",
       "      <td>0.045318</td>\n",
       "      <td>0.125906</td>\n",
       "    </tr>\n",
       "    <tr>\n",
       "      <th>8</th>\n",
       "      <td>1.436958</td>\n",
       "      <td>0.002546</td>\n",
       "      <td>-0.000112</td>\n",
       "      <td>-0.000324</td>\n",
       "      <td>0.001022</td>\n",
       "      <td>-0.000697</td>\n",
       "      <td>-0.561930</td>\n",
       "      <td>0.246511</td>\n",
       "      <td>0.315419</td>\n",
       "      <td>0.078420</td>\n",
       "      <td>-0.043049</td>\n",
       "      <td>-0.138456</td>\n",
       "      <td>-0.086913</td>\n",
       "      <td>0.008493</td>\n",
       "      <td>0.129962</td>\n",
       "    </tr>\n",
       "    <tr>\n",
       "      <th>9</th>\n",
       "      <td>0.396519</td>\n",
       "      <td>0.001593</td>\n",
       "      <td>0.000025</td>\n",
       "      <td>-0.000480</td>\n",
       "      <td>-0.000333</td>\n",
       "      <td>0.000813</td>\n",
       "      <td>-0.156461</td>\n",
       "      <td>0.078041</td>\n",
       "      <td>0.078420</td>\n",
       "      <td>0.022201</td>\n",
       "      <td>-0.008255</td>\n",
       "      <td>-0.041951</td>\n",
       "      <td>-0.027949</td>\n",
       "      <td>0.005747</td>\n",
       "      <td>0.036204</td>\n",
       "    </tr>\n",
       "    <tr>\n",
       "      <th>10</th>\n",
       "      <td>-0.091935</td>\n",
       "      <td>-0.002919</td>\n",
       "      <td>0.000061</td>\n",
       "      <td>0.000562</td>\n",
       "      <td>0.000057</td>\n",
       "      <td>-0.000619</td>\n",
       "      <td>0.045596</td>\n",
       "      <td>-0.002547</td>\n",
       "      <td>-0.043049</td>\n",
       "      <td>-0.008255</td>\n",
       "      <td>0.028723</td>\n",
       "      <td>-0.006350</td>\n",
       "      <td>-0.013409</td>\n",
       "      <td>0.021664</td>\n",
       "      <td>-0.015314</td>\n",
       "    </tr>\n",
       "    <tr>\n",
       "      <th>11</th>\n",
       "      <td>-0.822145</td>\n",
       "      <td>-0.001317</td>\n",
       "      <td>-0.000097</td>\n",
       "      <td>0.000574</td>\n",
       "      <td>0.000461</td>\n",
       "      <td>-0.001035</td>\n",
       "      <td>0.309679</td>\n",
       "      <td>-0.171224</td>\n",
       "      <td>-0.138456</td>\n",
       "      <td>-0.041951</td>\n",
       "      <td>-0.006350</td>\n",
       "      <td>0.100772</td>\n",
       "      <td>0.074536</td>\n",
       "      <td>-0.032585</td>\n",
       "      <td>-0.068186</td>\n",
       "    </tr>\n",
       "    <tr>\n",
       "      <th>12</th>\n",
       "      <td>-0.563364</td>\n",
       "      <td>0.000004</td>\n",
       "      <td>-0.000091</td>\n",
       "      <td>0.000246</td>\n",
       "      <td>0.000368</td>\n",
       "      <td>-0.000614</td>\n",
       "      <td>0.210272</td>\n",
       "      <td>-0.123359</td>\n",
       "      <td>-0.086913</td>\n",
       "      <td>-0.027949</td>\n",
       "      <td>-0.013409</td>\n",
       "      <td>0.074536</td>\n",
       "      <td>0.057947</td>\n",
       "      <td>-0.029998</td>\n",
       "      <td>-0.044538</td>\n",
       "    </tr>\n",
       "    <tr>\n",
       "      <th>13</th>\n",
       "      <td>0.166845</td>\n",
       "      <td>-0.001598</td>\n",
       "      <td>0.000067</td>\n",
       "      <td>0.000234</td>\n",
       "      <td>-0.000035</td>\n",
       "      <td>-0.000198</td>\n",
       "      <td>-0.053811</td>\n",
       "      <td>0.045318</td>\n",
       "      <td>0.008493</td>\n",
       "      <td>0.005747</td>\n",
       "      <td>0.021664</td>\n",
       "      <td>-0.032585</td>\n",
       "      <td>-0.029998</td>\n",
       "      <td>0.024251</td>\n",
       "      <td>0.008334</td>\n",
       "    </tr>\n",
       "    <tr>\n",
       "      <th>14</th>\n",
       "      <td>0.655299</td>\n",
       "      <td>0.002914</td>\n",
       "      <td>0.000030</td>\n",
       "      <td>-0.000808</td>\n",
       "      <td>-0.000425</td>\n",
       "      <td>0.001233</td>\n",
       "      <td>-0.255868</td>\n",
       "      <td>0.125906</td>\n",
       "      <td>0.129962</td>\n",
       "      <td>0.036204</td>\n",
       "      <td>-0.015314</td>\n",
       "      <td>-0.068186</td>\n",
       "      <td>-0.044538</td>\n",
       "      <td>0.008334</td>\n",
       "      <td>0.059852</td>\n",
       "    </tr>\n",
       "  </tbody>\n",
       "</table>\n",
       "</div>"
      ],
      "text/plain": [
       "          0         1         2         3         4         5         6   \\\n",
       "0   8.485895 -0.096160  0.000206  0.015677 -0.022104  0.006427 -3.050502   \n",
       "1  -0.096160  0.016015 -0.000070 -0.002912  0.002270  0.000642  0.012193   \n",
       "2   0.000206 -0.000070  0.000020 -0.000016 -0.000002  0.000019 -0.000038   \n",
       "3   0.015677 -0.002912 -0.000016  0.000585 -0.000363 -0.000222 -0.001377   \n",
       "4  -0.022104  0.002270 -0.000002 -0.000363  0.000654 -0.000291  0.005099   \n",
       "5   0.006427  0.000642  0.000019 -0.000222 -0.000291  0.000513 -0.003722   \n",
       "6  -3.050502  0.012193 -0.000038 -0.001377  0.005099 -0.003722  1.151568   \n",
       "7   1.613544 -0.014739  0.000150  0.001701 -0.006121  0.004419 -0.589638   \n",
       "8   1.436958  0.002546 -0.000112 -0.000324  0.001022 -0.000697 -0.561930   \n",
       "9   0.396519  0.001593  0.000025 -0.000480 -0.000333  0.000813 -0.156461   \n",
       "10 -0.091935 -0.002919  0.000061  0.000562  0.000057 -0.000619  0.045596   \n",
       "11 -0.822145 -0.001317 -0.000097  0.000574  0.000461 -0.001035  0.309679   \n",
       "12 -0.563364  0.000004 -0.000091  0.000246  0.000368 -0.000614  0.210272   \n",
       "13  0.166845 -0.001598  0.000067  0.000234 -0.000035 -0.000198 -0.053811   \n",
       "14  0.655299  0.002914  0.000030 -0.000808 -0.000425  0.001233 -0.255868   \n",
       "\n",
       "          7         8         9         10        11        12        13  \\\n",
       "0   1.613544  1.436958  0.396519 -0.091935 -0.822145 -0.563364  0.166845   \n",
       "1  -0.014739  0.002546  0.001593 -0.002919 -0.001317  0.000004 -0.001598   \n",
       "2   0.000150 -0.000112  0.000025  0.000061 -0.000097 -0.000091  0.000067   \n",
       "3   0.001701 -0.000324 -0.000480  0.000562  0.000574  0.000246  0.000234   \n",
       "4  -0.006121  0.001022 -0.000333  0.000057  0.000461  0.000368 -0.000035   \n",
       "5   0.004419 -0.000697  0.000813 -0.000619 -0.001035 -0.000614 -0.000198   \n",
       "6  -0.589638 -0.561930 -0.156461  0.045596  0.309679  0.210272 -0.053811   \n",
       "7   0.343127  0.246511  0.078041 -0.002547 -0.171224 -0.123359  0.045318   \n",
       "8   0.246511  0.315419  0.078420 -0.043049 -0.138456 -0.086913  0.008493   \n",
       "9   0.078041  0.078420  0.022201 -0.008255 -0.041951 -0.027949  0.005747   \n",
       "10 -0.002547 -0.043049 -0.008255  0.028723 -0.006350 -0.013409  0.021664   \n",
       "11 -0.171224 -0.138456 -0.041951 -0.006350  0.100772  0.074536 -0.032585   \n",
       "12 -0.123359 -0.086913 -0.027949 -0.013409  0.074536  0.057947 -0.029998   \n",
       "13  0.045318  0.008493  0.005747  0.021664 -0.032585 -0.029998  0.024251   \n",
       "14  0.125906  0.129962  0.036204 -0.015314 -0.068186 -0.044538  0.008334   \n",
       "\n",
       "          14  \n",
       "0   0.655299  \n",
       "1   0.002914  \n",
       "2   0.000030  \n",
       "3  -0.000808  \n",
       "4  -0.000425  \n",
       "5   0.001233  \n",
       "6  -0.255868  \n",
       "7   0.125906  \n",
       "8   0.129962  \n",
       "9   0.036204  \n",
       "10 -0.015314  \n",
       "11 -0.068186  \n",
       "12 -0.044538  \n",
       "13  0.008334  \n",
       "14  0.059852  "
      ]
     },
     "execution_count": 116,
     "metadata": {},
     "output_type": "execute_result"
    }
   ],
   "source": [
    "matriz_var_cov_beta_rls=pd.DataFrame(rls_vcov)\n",
    "matriz_var_cov_beta_rls"
   ]
  },
  {
   "cell_type": "code",
   "execution_count": 114,
   "metadata": {},
   "outputs": [
    {
     "data": {
      "text/html": [
       "<div>\n",
       "<style scoped>\n",
       "    .dataframe tbody tr th:only-of-type {\n",
       "        vertical-align: middle;\n",
       "    }\n",
       "\n",
       "    .dataframe tbody tr th {\n",
       "        vertical-align: top;\n",
       "    }\n",
       "\n",
       "    .dataframe thead th {\n",
       "        text-align: right;\n",
       "    }\n",
       "</style>\n",
       "<table border=\"1\" class=\"dataframe\">\n",
       "  <thead>\n",
       "    <tr style=\"text-align: right;\">\n",
       "      <th></th>\n",
       "      <th>Intercept</th>\n",
       "      <th>beta_q</th>\n",
       "      <th>beta_qq</th>\n",
       "      <th>beta_q1</th>\n",
       "      <th>beta_q2</th>\n",
       "      <th>beta_q3</th>\n",
       "      <th>beta_1</th>\n",
       "      <th>beta_2</th>\n",
       "      <th>beta_3</th>\n",
       "      <th>beta_11</th>\n",
       "      <th>beta_22</th>\n",
       "      <th>beta_33</th>\n",
       "      <th>beta_12</th>\n",
       "      <th>beta_13</th>\n",
       "      <th>beta_23</th>\n",
       "    </tr>\n",
       "  </thead>\n",
       "  <tbody>\n",
       "    <tr>\n",
       "      <th>Intercept</th>\n",
       "      <td>8.485895</td>\n",
       "      <td>-0.096160</td>\n",
       "      <td>0.000206</td>\n",
       "      <td>0.015677</td>\n",
       "      <td>-0.022104</td>\n",
       "      <td>0.006427</td>\n",
       "      <td>-3.050502</td>\n",
       "      <td>1.613544</td>\n",
       "      <td>1.436958</td>\n",
       "      <td>0.396519</td>\n",
       "      <td>-0.091935</td>\n",
       "      <td>-0.822145</td>\n",
       "      <td>-0.563364</td>\n",
       "      <td>0.166845</td>\n",
       "      <td>0.655299</td>\n",
       "    </tr>\n",
       "    <tr>\n",
       "      <th>beta_q</th>\n",
       "      <td>-0.096160</td>\n",
       "      <td>0.016015</td>\n",
       "      <td>-0.000070</td>\n",
       "      <td>-0.002912</td>\n",
       "      <td>0.002270</td>\n",
       "      <td>0.000642</td>\n",
       "      <td>0.012193</td>\n",
       "      <td>-0.014739</td>\n",
       "      <td>0.002546</td>\n",
       "      <td>0.001593</td>\n",
       "      <td>-0.002919</td>\n",
       "      <td>-0.001317</td>\n",
       "      <td>0.000004</td>\n",
       "      <td>-0.001598</td>\n",
       "      <td>0.002914</td>\n",
       "    </tr>\n",
       "    <tr>\n",
       "      <th>beta_qq</th>\n",
       "      <td>0.000206</td>\n",
       "      <td>-0.000070</td>\n",
       "      <td>0.000020</td>\n",
       "      <td>-0.000016</td>\n",
       "      <td>-0.000002</td>\n",
       "      <td>0.000019</td>\n",
       "      <td>-0.000038</td>\n",
       "      <td>0.000150</td>\n",
       "      <td>-0.000112</td>\n",
       "      <td>0.000025</td>\n",
       "      <td>0.000061</td>\n",
       "      <td>-0.000097</td>\n",
       "      <td>-0.000091</td>\n",
       "      <td>0.000067</td>\n",
       "      <td>0.000030</td>\n",
       "    </tr>\n",
       "    <tr>\n",
       "      <th>beta_q1</th>\n",
       "      <td>0.015677</td>\n",
       "      <td>-0.002912</td>\n",
       "      <td>-0.000016</td>\n",
       "      <td>0.000585</td>\n",
       "      <td>-0.000363</td>\n",
       "      <td>-0.000222</td>\n",
       "      <td>-0.001377</td>\n",
       "      <td>0.001701</td>\n",
       "      <td>-0.000324</td>\n",
       "      <td>-0.000480</td>\n",
       "      <td>0.000562</td>\n",
       "      <td>0.000574</td>\n",
       "      <td>0.000246</td>\n",
       "      <td>0.000234</td>\n",
       "      <td>-0.000808</td>\n",
       "    </tr>\n",
       "    <tr>\n",
       "      <th>beta_q2</th>\n",
       "      <td>-0.022104</td>\n",
       "      <td>0.002270</td>\n",
       "      <td>-0.000002</td>\n",
       "      <td>-0.000363</td>\n",
       "      <td>0.000654</td>\n",
       "      <td>-0.000291</td>\n",
       "      <td>0.005099</td>\n",
       "      <td>-0.006121</td>\n",
       "      <td>0.001022</td>\n",
       "      <td>-0.000333</td>\n",
       "      <td>0.000057</td>\n",
       "      <td>0.000461</td>\n",
       "      <td>0.000368</td>\n",
       "      <td>-0.000035</td>\n",
       "      <td>-0.000425</td>\n",
       "    </tr>\n",
       "    <tr>\n",
       "      <th>beta_q3</th>\n",
       "      <td>0.006427</td>\n",
       "      <td>0.000642</td>\n",
       "      <td>0.000019</td>\n",
       "      <td>-0.000222</td>\n",
       "      <td>-0.000291</td>\n",
       "      <td>0.000513</td>\n",
       "      <td>-0.003722</td>\n",
       "      <td>0.004419</td>\n",
       "      <td>-0.000697</td>\n",
       "      <td>0.000813</td>\n",
       "      <td>-0.000619</td>\n",
       "      <td>-0.001035</td>\n",
       "      <td>-0.000614</td>\n",
       "      <td>-0.000198</td>\n",
       "      <td>0.001233</td>\n",
       "    </tr>\n",
       "    <tr>\n",
       "      <th>beta_1</th>\n",
       "      <td>-3.050502</td>\n",
       "      <td>0.012193</td>\n",
       "      <td>-0.000038</td>\n",
       "      <td>-0.001377</td>\n",
       "      <td>0.005099</td>\n",
       "      <td>-0.003722</td>\n",
       "      <td>1.151568</td>\n",
       "      <td>-0.589638</td>\n",
       "      <td>-0.561930</td>\n",
       "      <td>-0.156461</td>\n",
       "      <td>0.045596</td>\n",
       "      <td>0.309679</td>\n",
       "      <td>0.210272</td>\n",
       "      <td>-0.053811</td>\n",
       "      <td>-0.255868</td>\n",
       "    </tr>\n",
       "    <tr>\n",
       "      <th>beta_2</th>\n",
       "      <td>1.613544</td>\n",
       "      <td>-0.014739</td>\n",
       "      <td>0.000150</td>\n",
       "      <td>0.001701</td>\n",
       "      <td>-0.006121</td>\n",
       "      <td>0.004419</td>\n",
       "      <td>-0.589638</td>\n",
       "      <td>0.343127</td>\n",
       "      <td>0.246511</td>\n",
       "      <td>0.078041</td>\n",
       "      <td>-0.002547</td>\n",
       "      <td>-0.171224</td>\n",
       "      <td>-0.123359</td>\n",
       "      <td>0.045318</td>\n",
       "      <td>0.125906</td>\n",
       "    </tr>\n",
       "    <tr>\n",
       "      <th>beta_3</th>\n",
       "      <td>1.436958</td>\n",
       "      <td>0.002546</td>\n",
       "      <td>-0.000112</td>\n",
       "      <td>-0.000324</td>\n",
       "      <td>0.001022</td>\n",
       "      <td>-0.000697</td>\n",
       "      <td>-0.561930</td>\n",
       "      <td>0.246511</td>\n",
       "      <td>0.315419</td>\n",
       "      <td>0.078420</td>\n",
       "      <td>-0.043049</td>\n",
       "      <td>-0.138456</td>\n",
       "      <td>-0.086913</td>\n",
       "      <td>0.008493</td>\n",
       "      <td>0.129962</td>\n",
       "    </tr>\n",
       "    <tr>\n",
       "      <th>beta_11</th>\n",
       "      <td>0.396519</td>\n",
       "      <td>0.001593</td>\n",
       "      <td>0.000025</td>\n",
       "      <td>-0.000480</td>\n",
       "      <td>-0.000333</td>\n",
       "      <td>0.000813</td>\n",
       "      <td>-0.156461</td>\n",
       "      <td>0.078041</td>\n",
       "      <td>0.078420</td>\n",
       "      <td>0.022201</td>\n",
       "      <td>-0.008255</td>\n",
       "      <td>-0.041951</td>\n",
       "      <td>-0.027949</td>\n",
       "      <td>0.005747</td>\n",
       "      <td>0.036204</td>\n",
       "    </tr>\n",
       "    <tr>\n",
       "      <th>beta_22</th>\n",
       "      <td>-0.091935</td>\n",
       "      <td>-0.002919</td>\n",
       "      <td>0.000061</td>\n",
       "      <td>0.000562</td>\n",
       "      <td>0.000057</td>\n",
       "      <td>-0.000619</td>\n",
       "      <td>0.045596</td>\n",
       "      <td>-0.002547</td>\n",
       "      <td>-0.043049</td>\n",
       "      <td>-0.008255</td>\n",
       "      <td>0.028723</td>\n",
       "      <td>-0.006350</td>\n",
       "      <td>-0.013409</td>\n",
       "      <td>0.021664</td>\n",
       "      <td>-0.015314</td>\n",
       "    </tr>\n",
       "    <tr>\n",
       "      <th>beta_33</th>\n",
       "      <td>-0.822145</td>\n",
       "      <td>-0.001317</td>\n",
       "      <td>-0.000097</td>\n",
       "      <td>0.000574</td>\n",
       "      <td>0.000461</td>\n",
       "      <td>-0.001035</td>\n",
       "      <td>0.309679</td>\n",
       "      <td>-0.171224</td>\n",
       "      <td>-0.138456</td>\n",
       "      <td>-0.041951</td>\n",
       "      <td>-0.006350</td>\n",
       "      <td>0.100772</td>\n",
       "      <td>0.074536</td>\n",
       "      <td>-0.032585</td>\n",
       "      <td>-0.068186</td>\n",
       "    </tr>\n",
       "    <tr>\n",
       "      <th>beta_12</th>\n",
       "      <td>-0.563364</td>\n",
       "      <td>0.000004</td>\n",
       "      <td>-0.000091</td>\n",
       "      <td>0.000246</td>\n",
       "      <td>0.000368</td>\n",
       "      <td>-0.000614</td>\n",
       "      <td>0.210272</td>\n",
       "      <td>-0.123359</td>\n",
       "      <td>-0.086913</td>\n",
       "      <td>-0.027949</td>\n",
       "      <td>-0.013409</td>\n",
       "      <td>0.074536</td>\n",
       "      <td>0.057947</td>\n",
       "      <td>-0.029998</td>\n",
       "      <td>-0.044538</td>\n",
       "    </tr>\n",
       "    <tr>\n",
       "      <th>beta_13</th>\n",
       "      <td>0.166845</td>\n",
       "      <td>-0.001598</td>\n",
       "      <td>0.000067</td>\n",
       "      <td>0.000234</td>\n",
       "      <td>-0.000035</td>\n",
       "      <td>-0.000198</td>\n",
       "      <td>-0.053811</td>\n",
       "      <td>0.045318</td>\n",
       "      <td>0.008493</td>\n",
       "      <td>0.005747</td>\n",
       "      <td>0.021664</td>\n",
       "      <td>-0.032585</td>\n",
       "      <td>-0.029998</td>\n",
       "      <td>0.024251</td>\n",
       "      <td>0.008334</td>\n",
       "    </tr>\n",
       "    <tr>\n",
       "      <th>beta_23</th>\n",
       "      <td>0.655299</td>\n",
       "      <td>0.002914</td>\n",
       "      <td>0.000030</td>\n",
       "      <td>-0.000808</td>\n",
       "      <td>-0.000425</td>\n",
       "      <td>0.001233</td>\n",
       "      <td>-0.255868</td>\n",
       "      <td>0.125906</td>\n",
       "      <td>0.129962</td>\n",
       "      <td>0.036204</td>\n",
       "      <td>-0.015314</td>\n",
       "      <td>-0.068186</td>\n",
       "      <td>-0.044538</td>\n",
       "      <td>0.008334</td>\n",
       "      <td>0.059852</td>\n",
       "    </tr>\n",
       "  </tbody>\n",
       "</table>\n",
       "</div>"
      ],
      "text/plain": [
       "           Intercept    beta_q   beta_qq   beta_q1   beta_q2   beta_q3  \\\n",
       "Intercept   8.485895 -0.096160  0.000206  0.015677 -0.022104  0.006427   \n",
       "beta_q     -0.096160  0.016015 -0.000070 -0.002912  0.002270  0.000642   \n",
       "beta_qq     0.000206 -0.000070  0.000020 -0.000016 -0.000002  0.000019   \n",
       "beta_q1     0.015677 -0.002912 -0.000016  0.000585 -0.000363 -0.000222   \n",
       "beta_q2    -0.022104  0.002270 -0.000002 -0.000363  0.000654 -0.000291   \n",
       "beta_q3     0.006427  0.000642  0.000019 -0.000222 -0.000291  0.000513   \n",
       "beta_1     -3.050502  0.012193 -0.000038 -0.001377  0.005099 -0.003722   \n",
       "beta_2      1.613544 -0.014739  0.000150  0.001701 -0.006121  0.004419   \n",
       "beta_3      1.436958  0.002546 -0.000112 -0.000324  0.001022 -0.000697   \n",
       "beta_11     0.396519  0.001593  0.000025 -0.000480 -0.000333  0.000813   \n",
       "beta_22    -0.091935 -0.002919  0.000061  0.000562  0.000057 -0.000619   \n",
       "beta_33    -0.822145 -0.001317 -0.000097  0.000574  0.000461 -0.001035   \n",
       "beta_12    -0.563364  0.000004 -0.000091  0.000246  0.000368 -0.000614   \n",
       "beta_13     0.166845 -0.001598  0.000067  0.000234 -0.000035 -0.000198   \n",
       "beta_23     0.655299  0.002914  0.000030 -0.000808 -0.000425  0.001233   \n",
       "\n",
       "             beta_1    beta_2    beta_3   beta_11   beta_22   beta_33  \\\n",
       "Intercept -3.050502  1.613544  1.436958  0.396519 -0.091935 -0.822145   \n",
       "beta_q     0.012193 -0.014739  0.002546  0.001593 -0.002919 -0.001317   \n",
       "beta_qq   -0.000038  0.000150 -0.000112  0.000025  0.000061 -0.000097   \n",
       "beta_q1   -0.001377  0.001701 -0.000324 -0.000480  0.000562  0.000574   \n",
       "beta_q2    0.005099 -0.006121  0.001022 -0.000333  0.000057  0.000461   \n",
       "beta_q3   -0.003722  0.004419 -0.000697  0.000813 -0.000619 -0.001035   \n",
       "beta_1     1.151568 -0.589638 -0.561930 -0.156461  0.045596  0.309679   \n",
       "beta_2    -0.589638  0.343127  0.246511  0.078041 -0.002547 -0.171224   \n",
       "beta_3    -0.561930  0.246511  0.315419  0.078420 -0.043049 -0.138456   \n",
       "beta_11   -0.156461  0.078041  0.078420  0.022201 -0.008255 -0.041951   \n",
       "beta_22    0.045596 -0.002547 -0.043049 -0.008255  0.028723 -0.006350   \n",
       "beta_33    0.309679 -0.171224 -0.138456 -0.041951 -0.006350  0.100772   \n",
       "beta_12    0.210272 -0.123359 -0.086913 -0.027949 -0.013409  0.074536   \n",
       "beta_13   -0.053811  0.045318  0.008493  0.005747  0.021664 -0.032585   \n",
       "beta_23   -0.255868  0.125906  0.129962  0.036204 -0.015314 -0.068186   \n",
       "\n",
       "            beta_12   beta_13   beta_23  \n",
       "Intercept -0.563364  0.166845  0.655299  \n",
       "beta_q     0.000004 -0.001598  0.002914  \n",
       "beta_qq   -0.000091  0.000067  0.000030  \n",
       "beta_q1    0.000246  0.000234 -0.000808  \n",
       "beta_q2    0.000368 -0.000035 -0.000425  \n",
       "beta_q3   -0.000614 -0.000198  0.001233  \n",
       "beta_1     0.210272 -0.053811 -0.255868  \n",
       "beta_2    -0.123359  0.045318  0.125906  \n",
       "beta_3    -0.086913  0.008493  0.129962  \n",
       "beta_11   -0.027949  0.005747  0.036204  \n",
       "beta_22   -0.013409  0.021664 -0.015314  \n",
       "beta_33    0.074536 -0.032585 -0.068186  \n",
       "beta_12    0.057947 -0.029998 -0.044538  \n",
       "beta_13   -0.029998  0.024251  0.008334  \n",
       "beta_23   -0.044538  0.008334  0.059852  "
      ]
     },
     "execution_count": 114,
     "metadata": {},
     "output_type": "execute_result"
    }
   ],
   "source": [
    "mdl_rls2.cov_params()"
   ]
  }
 ],
 "metadata": {
  "kernelspec": {
   "display_name": "Python 3",
   "language": "python",
   "name": "python3"
  },
  "language_info": {
   "codemirror_mode": {
    "name": "ipython",
    "version": 3
   },
   "file_extension": ".py",
   "mimetype": "text/x-python",
   "name": "python",
   "nbconvert_exporter": "python",
   "pygments_lexer": "ipython3",
   "version": "3.8.8"
  }
 },
 "nbformat": 4,
 "nbformat_minor": 4
}
