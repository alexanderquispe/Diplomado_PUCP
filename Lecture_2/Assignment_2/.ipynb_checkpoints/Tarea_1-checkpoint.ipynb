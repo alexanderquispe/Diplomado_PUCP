{
 "cells": [
  {
   "cell_type": "markdown",
   "id": "56eabd9a",
   "metadata": {},
   "source": [
    "# 1 Assignment"
   ]
  },
  {
   "cell_type": "markdown",
   "id": "dfa7d14e",
   "metadata": {},
   "source": [
    "## 1.1 Tuple"
   ]
  },
  {
   "cell_type": "code",
   "execution_count": 3,
   "id": "0ba98d84",
   "metadata": {},
   "outputs": [],
   "source": [
    "tuple1 = (\"Orange\", [10, 20, 30], (5, 15, 25))\n",
    "tuple2 = ([7, 8], [9, 1], [10, 7])"
   ]
  },
  {
   "cell_type": "code",
   "execution_count": 42,
   "id": "d6361b52",
   "metadata": {},
   "outputs": [
    {
     "name": "stdout",
     "output_type": "stream",
     "text": [
      "The first item of the second item of tuple1 is: 10\n"
     ]
    }
   ],
   "source": [
    "print( f\"The first item of the second item of tuple1 is: {tuple1[1].index(20)}0\")"
   ]
  },
  {
   "cell_type": "code",
   "execution_count": 18,
   "id": "15c169a1",
   "metadata": {},
   "outputs": [
    {
     "name": "stdout",
     "output_type": "stream",
     "text": [
      "This is the first item: Orange\n"
     ]
    }
   ],
   "source": [
    "print(\"This is the first item:\", tuple1[0])"
   ]
  },
  {
   "cell_type": "code",
   "execution_count": 20,
   "id": "ecb6f38c",
   "metadata": {},
   "outputs": [
    {
     "name": "stdout",
     "output_type": "stream",
     "text": [
      "This is the last item: (5, 15, 25)\n"
     ]
    }
   ],
   "source": [
    "print('This is the last item:',tuple1[-1])"
   ]
  },
  {
   "cell_type": "code",
   "execution_count": 21,
   "id": "91566a09",
   "metadata": {},
   "outputs": [
    {
     "ename": "TypeError",
     "evalue": "'tuple' object does not support item assignment",
     "output_type": "error",
     "traceback": [
      "\u001b[0;31m---------------------------------------------------------------------------\u001b[0m",
      "\u001b[0;31mTypeError\u001b[0m                                 Traceback (most recent call last)",
      "Input \u001b[0;32mIn [21]\u001b[0m, in \u001b[0;36m<cell line: 1>\u001b[0;34m()\u001b[0m\n\u001b[0;32m----> 1\u001b[0m tuple1[\u001b[38;5;241m0\u001b[39m] \u001b[38;5;241m=\u001b[39m \u001b[38;5;124m'\u001b[39m\u001b[38;5;124mpink grapefruit\u001b[39m\u001b[38;5;124m'\u001b[39m\n",
      "\u001b[0;31mTypeError\u001b[0m: 'tuple' object does not support item assignment"
     ]
    }
   ],
   "source": [
    "tuple1[0] = 'pink grapefruit'"
   ]
  },
  {
   "cell_type": "code",
   "execution_count": 23,
   "id": "3969e034",
   "metadata": {},
   "outputs": [
    {
     "data": {
      "text/plain": [
       "3"
      ]
     },
     "execution_count": 23,
     "metadata": {},
     "output_type": "execute_result"
    }
   ],
   "source": [
    "len(tuple1)"
   ]
  },
  {
   "cell_type": "code",
   "execution_count": 4,
   "id": "61bda670",
   "metadata": {},
   "outputs": [
    {
     "name": "stdout",
     "output_type": "stream",
     "text": [
      "(15, 10, 17)\n"
     ]
    }
   ],
   "source": [
    "j = map(sum, tuple2)\n",
    "i = tuple(j)\n",
    "print(i)"
   ]
  },
  {
   "cell_type": "code",
   "execution_count": 79,
   "id": "d476098e",
   "metadata": {},
   "outputs": [
    {
     "data": {
      "text/plain": [
       "tuple"
      ]
     },
     "execution_count": 79,
     "metadata": {},
     "output_type": "execute_result"
    }
   ],
   "source": [
    "type(i)"
   ]
  },
  {
   "cell_type": "code",
   "execution_count": 80,
   "id": "42bde0fd",
   "metadata": {},
   "outputs": [
    {
     "name": "stdout",
     "output_type": "stream",
     "text": [
      "42\n"
     ]
    }
   ],
   "source": [
    "k = sum(i)\n",
    "print(k)"
   ]
  },
  {
   "cell_type": "code",
   "execution_count": 101,
   "id": "82e1f125",
   "metadata": {},
   "outputs": [
    {
     "name": "stdout",
     "output_type": "stream",
     "text": [
      "([3.5, 4.0], [4.5, 0.5], [5.0, 3.5])\n"
     ]
    }
   ],
   "source": [
    "m1 = map(lambda x: x / 2, tuple2[0])\n",
    "tuple3_1 = list(m1)\n",
    "m2 = map(lambda x: x / 2, tuple2[1])\n",
    "tuple3_2 = list(m2)\n",
    "m3 = map(lambda x: x / 2, tuple2[2])\n",
    "tuple3_3 = list(m3)\n",
    "\n",
    "tuple3 = (tuple3_1, tuple3_2, tuple3_3)\n",
    "print(tuple3)"
   ]
  },
  {
   "cell_type": "code",
   "execution_count": 102,
   "id": "261c96b8",
   "metadata": {},
   "outputs": [
    {
     "data": {
      "text/plain": [
       "tuple"
      ]
     },
     "execution_count": 102,
     "metadata": {},
     "output_type": "execute_result"
    }
   ],
   "source": [
    "type(tuple3)"
   ]
  },
  {
   "cell_type": "code",
   "execution_count": 1,
   "id": "2287bc18",
   "metadata": {},
   "outputs": [],
   "source": [
    "# list_numbers = [1, 2, 3, 4]\n",
    "\n",
    "# map_iterator = map(lambda x: x * 2, list_numbers)\n",
    "# y = tuple(map_iterator)\n",
    "# print(y)"
   ]
  },
  {
   "cell_type": "code",
   "execution_count": 68,
   "id": "b71b4c12",
   "metadata": {},
   "outputs": [
    {
     "data": {
      "text/plain": [
       "tuple"
      ]
     },
     "execution_count": 68,
     "metadata": {},
     "output_type": "execute_result"
    }
   ],
   "source": [
    "type(y)"
   ]
  },
  {
   "cell_type": "code",
   "execution_count": 2,
   "id": "d42e279b",
   "metadata": {},
   "outputs": [],
   "source": [
    "# x = map(str, [1, 2, 3, 4, 5])\n",
    "# list(x)"
   ]
  },
  {
   "cell_type": "markdown",
   "id": "d0b0d81e",
   "metadata": {},
   "source": [
    "## 1.2 Lists"
   ]
  },
  {
   "cell_type": "code",
   "execution_count": 3,
   "id": "68b817a1",
   "metadata": {},
   "outputs": [],
   "source": [
    "import numpy as np"
   ]
  },
  {
   "cell_type": "code",
   "execution_count": 4,
   "id": "d44aa909",
   "metadata": {},
   "outputs": [
    {
     "name": "stdout",
     "output_type": "stream",
     "text": [
      "[nan, nan, 'Australia', 'Germany', nan, 'Pakistan', 'np.nan', nan]\n"
     ]
    }
   ],
   "source": [
    "f_list = [np.nan, np.nan, \"Australia\", \"Germany\", np.nan, \"Pakistan\", \"np.nan\", np.nan]\n",
    "print(f_list)"
   ]
  },
  {
   "cell_type": "code",
   "execution_count": 32,
   "id": "3a3cabf1",
   "metadata": {},
   "outputs": [
    {
     "name": "stdout",
     "output_type": "stream",
     "text": [
      "Collecting more_itertools\n",
      "  Downloading more_itertools-9.0.0-py3-none-any.whl (52 kB)\n",
      "\u001b[K     |████████████████████████████████| 52 kB 813 kB/s eta 0:00:01\n",
      "\u001b[?25hInstalling collected packages: more-itertools\n",
      "Successfully installed more-itertools-9.0.0\n",
      "Note: you may need to restart the kernel to use updated packages.\n"
     ]
    }
   ],
   "source": [
    "# pip install more_itertools # https://stackoverflow.com/questions/6294179/how-to-find-all-occurrences-of-an-element-in-a-list"
   ]
  },
  {
   "cell_type": "code",
   "execution_count": 2,
   "id": "fe6bb4de",
   "metadata": {},
   "outputs": [],
   "source": [
    "# from more_itertools import locate\n",
    "# list(locate(['a', 'b', 'c', 'b'], lambda x: x == 'b'))"
   ]
  },
  {
   "cell_type": "code",
   "execution_count": 13,
   "id": "8e857ebf",
   "metadata": {},
   "outputs": [
    {
     "name": "stdout",
     "output_type": "stream",
     "text": [
      "The indices nan, nan, nan, nan have np.nan values\n"
     ]
    }
   ],
   "source": [
    "# print(f'The indices {f_list[0]}, {f_list[1]}, {f_list[4]}, {f_list[7]} have np.nan values')"
   ]
  },
  {
   "cell_type": "code",
   "execution_count": 16,
   "id": "18db02db",
   "metadata": {},
   "outputs": [
    {
     "name": "stdout",
     "output_type": "stream",
     "text": [
      "The indices 0, 1, 4, 7 have np.nan values\n"
     ]
    }
   ],
   "source": [
    "print(f'The indices {f_list.index(np.nan)}, {f_list.index(np.nan)+1}, {f_list.index(np.nan)+4}, {f_list.index(np.nan)+7} have np.nan values')"
   ]
  },
  {
   "cell_type": "code",
   "execution_count": 43,
   "id": "a1cd8f18",
   "metadata": {},
   "outputs": [],
   "source": [
    "p2_list = [2, 3, 4, 5]"
   ]
  },
  {
   "cell_type": "code",
   "execution_count": 45,
   "id": "501d30e2",
   "metadata": {},
   "outputs": [
    {
     "name": "stdout",
     "output_type": "stream",
     "text": [
      "[2, 3, 4, 5, 2, 3, 4, 5, 2, 3, 4, 5, 2, 3, 4, 5]\n"
     ]
    }
   ],
   "source": [
    "t = p2_list * 4\n",
    "print(t)"
   ]
  },
  {
   "cell_type": "code",
   "execution_count": 6,
   "id": "8a0d2df9",
   "metadata": {},
   "outputs": [
    {
     "name": "stdout",
     "output_type": "stream",
     "text": [
      "The length of f_list is 8\n"
     ]
    }
   ],
   "source": [
    "print('The length of f_list is', len(f_list))"
   ]
  },
  {
   "cell_type": "code",
   "execution_count": 3,
   "id": "fb9e66c1",
   "metadata": {},
   "outputs": [],
   "source": [
    "text1 = ['My', 'teacher', 'assistant', 'is', 'so', 'boring.']"
   ]
  },
  {
   "cell_type": "code",
   "execution_count": 5,
   "id": "87498388",
   "metadata": {},
   "outputs": [
    {
     "name": "stdout",
     "output_type": "stream",
     "text": [
      "My\n"
     ]
    }
   ],
   "source": [
    "print(f'{text1[0]}')"
   ]
  },
  {
   "cell_type": "code",
   "execution_count": 7,
   "id": "e6294223",
   "metadata": {},
   "outputs": [
    {
     "name": "stdout",
     "output_type": "stream",
     "text": [
      "My teacher assistant is so boring.\n"
     ]
    }
   ],
   "source": [
    "print(str.join(' ', text1)) # https://stackoverflow.com/questions/493819/why-is-it-string-joinlist-instead-of-list-joinstring"
   ]
  },
  {
   "cell_type": "code",
   "execution_count": 20,
   "id": "a83ceb87",
   "metadata": {},
   "outputs": [
    {
     "name": "stdout",
     "output_type": "stream",
     "text": [
      "['My', 'teacher', 'assistant', 'is', 'so', 'boring.', 'TA', 'boring,', 'but is very funny.']\n"
     ]
    }
   ],
   "source": [
    "text2 = ['TA', 'boring,', 'but is very funny.']\n",
    "text1.extend(text2)\n",
    "print(text1)"
   ]
  },
  {
   "cell_type": "code",
   "execution_count": 56,
   "id": "451c07e1",
   "metadata": {},
   "outputs": [
    {
     "name": "stdout",
     "output_type": "stream",
     "text": [
      "My TA is so boring, but is very funny.\n"
     ]
    }
   ],
   "source": [
    "print(str.join('', text1[0]), str.join('', text1[6]), str.join(' ',text1[3:5]), str.join(' ',text1[7:]))"
   ]
  },
  {
   "cell_type": "code",
   "execution_count": 57,
   "id": "46f46384",
   "metadata": {},
   "outputs": [],
   "source": [
    "values1 = [ 86, 86, 85, 85, 85, 83, 23, 0, 84, 1 ] "
   ]
  },
  {
   "cell_type": "code",
   "execution_count": 64,
   "id": "f97f41fd",
   "metadata": {},
   "outputs": [
    {
     "name": "stdout",
     "output_type": "stream",
     "text": [
      "The max value of values1 is 86 and is located in the 0 index.\n"
     ]
    }
   ],
   "source": [
    "print(f'The max value of values1 is {max(values1)} and is located in the {values1.index(max(values1))} index.')"
   ]
  },
  {
   "cell_type": "code",
   "execution_count": 65,
   "id": "09f1c1eb",
   "metadata": {},
   "outputs": [
    {
     "name": "stdout",
     "output_type": "stream",
     "text": [
      "The min value of values1 is 0 and is located in the 7 index.\n"
     ]
    }
   ],
   "source": [
    "print(f'The min value of values1 is {min(values1)} and is located in the {values1.index(min(values1))} index.')"
   ]
  },
  {
   "cell_type": "markdown",
   "id": "9ced232d",
   "metadata": {},
   "source": [
    "## 1.3 Strings"
   ]
  },
  {
   "cell_type": "code",
   "execution_count": 1,
   "id": "c53256ce",
   "metadata": {},
   "outputs": [],
   "source": [
    "str1 = 'I am                            too                                                        old'"
   ]
  },
  {
   "cell_type": "code",
   "execution_count": 2,
   "id": "577430fe",
   "metadata": {},
   "outputs": [
    {
     "name": "stdout",
     "output_type": "stream",
     "text": [
      "['I', 'am', 'too', 'old']\n"
     ]
    }
   ],
   "source": [
    "str2 = str1.split()\n",
    "print(str2)"
   ]
  },
  {
   "cell_type": "code",
   "execution_count": 10,
   "id": "e33799eb",
   "metadata": {},
   "outputs": [
    {
     "data": {
      "text/plain": [
       "list"
      ]
     },
     "execution_count": 10,
     "metadata": {},
     "output_type": "execute_result"
    }
   ],
   "source": [
    "type(str2)"
   ]
  },
  {
   "cell_type": "code",
   "execution_count": 5,
   "id": "c0f88c8c",
   "metadata": {},
   "outputs": [
    {
     "name": "stdout",
     "output_type": "stream",
     "text": [
      "I am too old\n"
     ]
    }
   ],
   "source": [
    "str3 = str.join(' ',str2)\n",
    "print(str3)"
   ]
  },
  {
   "cell_type": "code",
   "execution_count": 11,
   "id": "4b76b893",
   "metadata": {},
   "outputs": [
    {
     "data": {
      "text/plain": [
       "str"
      ]
     },
     "execution_count": 11,
     "metadata": {},
     "output_type": "execute_result"
    }
   ],
   "source": [
    "type(str3)"
   ]
  },
  {
   "cell_type": "code",
   "execution_count": 15,
   "id": "877d6393",
   "metadata": {},
   "outputs": [
    {
     "name": "stdout",
     "output_type": "stream",
     "text": [
      "9\n"
     ]
    }
   ],
   "source": [
    "print(sum(map(len, str3.split()))) # https://www.geeksforgeeks.org/python-avoid-spaces-in-string-length/"
   ]
  },
  {
   "cell_type": "code",
   "execution_count": 27,
   "id": "c7f36037",
   "metadata": {},
   "outputs": [
    {
     "name": "stdout",
     "output_type": "stream",
     "text": [
      "3\n"
     ]
    }
   ],
   "source": [
    "print(len(str3) - sum(map(len, str3.split())))"
   ]
  },
  {
   "cell_type": "code",
   "execution_count": 30,
   "id": "21d7b449",
   "metadata": {},
   "outputs": [],
   "source": [
    "emails = [\"cscornejo@pucp.edu.pe\", \"orellana.cn@pucp.edu.pe\", \"karina.morales@pucp.edu.pe\", \"a20083223@pucp.pe\", \"abel.camacho@pucp.pe\", \"mtintaya@pucp.edu.pe\", \"joselin.chavez@pucp.edu.pe\", \"a20105737@pucp.pe\", \"jfgomezc@pucp.pe\", \"afrania.palomino@pucp.pe\", \"luzon.bianca@pucp.pe\", \"adrian.suanaz@pucp.pe\", \"soto.y@pucp.edu.pe\", \"a20132766@pucp.pe\", \"andre.lama@pucp.edu.pe\", \"gustavo.meza@pucp.edu.pe\", \"pmlozada@pucp.edu.pe\", \"m.zambranoj@pucp.edu.pe\", \"nicolas.jacobs@pucp.edu.pe\", \"gvidal@pucp.edu.pe\", \"jane.torres@pucp.edu.pe\", \"m.lopez@pucp.edu.pe\", \"alejandro.boyco@pucp.edu.pe\", \"a20167070@pucp.edu.pe\", \"riega.stephy@pucp.edu.pe\", \"vlevanot@pucp.edu.pe\", \"sesquives@pucp.edu.pe\", \"perez.juanc@pucp.edu.pe\", \"mariana.otero@pucp.edu.pe\", \"aclavo@pucp.edu.pe\", \"a20182474@pucp.edu.pe\", \"josue.caldas@pucp.edu.pe\", \"fabio.salas@pucp.edu.pe\", \"fernanda.pizarro@pucp.edu.pe\", \"aquillatupa@pucp.pe\"]"
   ]
  },
  {
   "cell_type": "code",
   "execution_count": 43,
   "id": "90b439b6",
   "metadata": {},
   "outputs": [
    {
     "name": "stdout",
     "output_type": "stream",
     "text": [
      "[9, 11, 14, 9, 12, 8, 14, 9, 8, 16, 12, 13, 6, 9, 10, 12, 8, 11, 14, 6, 11, 7, 15, 9, 12, 8, 9, 11, 13, 6, 9, 12, 11, 16, 11]\n"
     ]
    }
   ],
   "source": [
    "arroba = list(map(lambda x: x.find(\"@\"), emails)) # https://j2logo.com/python/funciones-lambda-en-python/\n",
    "print(arroba)"
   ]
  },
  {
   "cell_type": "code",
   "execution_count": 46,
   "id": "c5d5097f",
   "metadata": {},
   "outputs": [
    {
     "name": "stdout",
     "output_type": "stream",
     "text": [
      "[14, 16, 19, -1, -1, 13, 19, -1, -1, -1, -1, -1, 11, -1, 15, 17, 13, 16, 19, 11, 16, 12, 20, 14, 17, 13, 14, 16, 18, 11, 14, 17, 16, 21, -1]\n"
     ]
    }
   ],
   "source": [
    "edu = list(map(lambda x: x.find(\".edu.\"), emails))\n",
    "print(edu)"
   ]
  },
  {
   "cell_type": "code",
   "execution_count": 48,
   "id": "07941ecd",
   "metadata": {},
   "outputs": [
    {
     "name": "stdout",
     "output_type": "stream",
     "text": [
      "[True, True, True, False, False, True, True, False, False, False, False, False, True, False, True, True, True, True, True, True, True, True, True, True, True, True, True, True, True, True, True, True, True, True, False]\n"
     ]
    }
   ],
   "source": [
    "edu_TF = list(map(lambda x: x > 0, edu))\n",
    "print(edu_TF)"
   ]
  },
  {
   "cell_type": "code",
   "execution_count": 58,
   "id": "2b700304",
   "metadata": {},
   "outputs": [
    {
     "name": "stdout",
     "output_type": "stream",
     "text": [
      "bcd\n"
     ]
    }
   ],
   "source": [
    "prueba = 'bcdalk'\n",
    "print(prueba[:prueba.find(\"a\")])"
   ]
  },
  {
   "cell_type": "code",
   "execution_count": 59,
   "id": "37a0ea91",
   "metadata": {},
   "outputs": [
    {
     "name": "stdout",
     "output_type": "stream",
     "text": [
      "['cscornejo@pucp', 'orellana', 'karina', 'a20083223@pucp', 'abel', 'mtintaya@pucp', 'joselin', 'a20105737@pucp', 'jfgomezc@pucp', 'afrania', 'luzon', 'adrian', 'soto', 'a20132766@pucp', 'andre', 'gustavo', 'pmlozada@pucp', 'm', 'nicolas', 'gvidal@pucp', 'jane', 'm', 'alejandro', 'a20167070@pucp', 'riega', 'vlevanot@pucp', 'sesquives@pucp', 'perez', 'mariana', 'aclavo@pucp', 'a20182474@pucp', 'josue', 'fabio', 'fernanda', 'aquillatupa@pucp']\n"
     ]
    }
   ],
   "source": [
    "punto = list(map(lambda x: x[0:x.find(\".\")], emails))\n",
    "print(punto)"
   ]
  },
  {
   "cell_type": "code",
   "execution_count": 61,
   "id": "b1216170",
   "metadata": {},
   "outputs": [
    {
     "name": "stdout",
     "output_type": "stream",
     "text": [
      "[True, False, False, True, False, True, False, True, True, False, False, False, False, True, False, False, True, False, False, True, False, False, False, True, False, True, True, False, False, True, True, False, False, False, True]\n"
     ]
    }
   ],
   "source": [
    "punto_arroba = list(map(lambda x: x.find(\"@\"), punto))\n",
    "punto_arroba_TF = list(map(lambda x: x > 0, punto_arroba))\n",
    "print(punto_arroba_TF)"
   ]
  },
  {
   "cell_type": "code",
   "execution_count": 62,
   "id": "2b783b28",
   "metadata": {},
   "outputs": [
    {
     "data": {
      "text/plain": [
       "14"
      ]
     },
     "execution_count": 62,
     "metadata": {},
     "output_type": "execute_result"
    }
   ],
   "source": [
    "punto_arroba_TF.count(True)"
   ]
  },
  {
   "cell_type": "code",
   "execution_count": 63,
   "id": "d9a89e40",
   "metadata": {},
   "outputs": [
    {
     "data": {
      "text/plain": [
       "21"
      ]
     },
     "execution_count": 63,
     "metadata": {},
     "output_type": "execute_result"
    }
   ],
   "source": [
    "punto_arroba_TF.count(False)"
   ]
  },
  {
   "cell_type": "code",
   "execution_count": 65,
   "id": "11d5fe0a",
   "metadata": {},
   "outputs": [
    {
     "data": {
      "text/plain": [
       "35"
      ]
     },
     "execution_count": 65,
     "metadata": {},
     "output_type": "execute_result"
    }
   ],
   "source": [
    "len(emails)"
   ]
  },
  {
   "cell_type": "code",
   "execution_count": null,
   "id": "82f003e6",
   "metadata": {},
   "outputs": [],
   "source": []
  }
 ],
 "metadata": {
  "kernelspec": {
   "display_name": "Python 3 (ipykernel)",
   "language": "python",
   "name": "python3"
  },
  "language_info": {
   "codemirror_mode": {
    "name": "ipython",
    "version": 3
   },
   "file_extension": ".py",
   "mimetype": "text/x-python",
   "name": "python",
   "nbconvert_exporter": "python",
   "pygments_lexer": "ipython3",
   "version": "3.9.12"
  }
 },
 "nbformat": 4,
 "nbformat_minor": 5
}
