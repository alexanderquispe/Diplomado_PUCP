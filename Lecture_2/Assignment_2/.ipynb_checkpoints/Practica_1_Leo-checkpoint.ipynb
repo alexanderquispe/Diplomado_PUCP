{
 "cells": [
  {
   "cell_type": "markdown",
   "id": "7ecb1795",
   "metadata": {},
   "source": [
    "## 1.1 Tuple\n",
    "\n",
    "\n",
    "\n",
    "1. Print the first item of the second item of `tuple1` object. **Hint: Use indexing**<br><br>\n",
    "2. Print the last item of the `tuple1` object.**Hint: Use indexing**<br><br>\n",
    "3. Change the value \"orange\" for \"pink grapefruit\". Comment the output. **Hint: Is it possible?** <br><br>\n",
    "4. Print the length of `tuple1`. **Hint: Length function**<br><br>\n",
    "5. Sum all the elements of tuple2 and describe your steps and explain each of them. **Hint: Use `map` function.**<br><br>\n",
    "6. Generate a new tuple object named as `tuple3` with the half values of `tuple2`. This tuple should be similar as `tuple2`, tuple of lists.  **Hint: Use `map` funciont.**<br><br>"
   ]
  },
  {
   "cell_type": "code",
   "execution_count": 6,
   "id": "f3765c81",
   "metadata": {},
   "outputs": [],
   "source": [
    "tuple1 = (\"Orange\", [10, 20, 30], (5, 15, 25))\n",
    "tuple2 = ([7, 8], [9, 1], [10, 7])"
   ]
  },
  {
   "cell_type": "code",
   "execution_count": 8,
   "id": "0c35f3ce",
   "metadata": {},
   "outputs": [
    {
     "name": "stdout",
     "output_type": "stream",
     "text": [
      "tuple3 con valores a la mitad de tuple2: ([3.5, 4.0], [4.5, 0.5], [5.0, 3.5])\n"
     ]
    }
   ],
   "source": [
    "tuple3 = tuple(map(lambda x: list(map(lambda y: y/2, x)), tuple2))\n",
    "print(\"tuple3 con valores a la mitad de tuple2:\", tuple3)\n"
   ]
  },
  {
   "cell_type": "markdown",
   "id": "0d09ec2e",
   "metadata": {},
   "source": [
    "## 1.2 Lists\n",
    "1. Show the indices of the `np.nan` values  in the `f_list` list. We want to see this output: `The indices 0, 1, 4, 7 have np.nan values.` **Hint: Use print function and [f-strings](https://realpython.com/python-f-strings/) to insert the indices values.**<br><br>\n",
    "\n",
    "2. Replicate 4 times the values of the list `p2_list`. We expect an ouput like this: `[ 2 , 3, 4, 5, 2 , 3, 4, 5, 2 , 3, 4, 5, 2 , 3, 4, 5]`.  **Hint: Use multiplication function in `lists`and see the output.**<br><br>\n",
    "3. Print the length of `f_list`. **Hint: Length function**<br><br>\n",
    "4. Print `My teacher assistant is so boring.` using `text1` list. **Hint: Use the [`join` function](https://stackoverflow.com/questions/493819/why-is-it-string-joinlist-instead-of-list-joinstring)**<br><br>\n",
    "5. Print `My TA is so boring, but is very funny.` using `text1` list.**Hint: Use the `join` function, and `extend` method.**<br><br>\n",
    "6. Print <br>\n",
    "`The max value of values1 is 86 and is located in the 0 index. ` <br>\n",
    "`The min value of values1 is 0 and is located in the 7 index. ` <br> **Hint: Use the `f-string`, `min`, and `max` functions.**\n",
    "<br>\n",
    "7. Get two lists: `names` and `last_names` using `last_and_name` list. **Hint: Use `map` and `split`.**\n",
    "<br>\n",
    "8. Give only the last names of students who do not have email. Use the `emails` and `last_names` listt. **Hint: Use `map` and `split`.**\n",
    "<br>"
   ]
  },
  {
   "cell_type": "code",
   "execution_count": 4,
   "id": "a9729aa5",
   "metadata": {},
   "outputs": [],
   "source": [
    "import pandas as pd"
   ]
  },
  {
   "cell_type": "code",
   "execution_count": 5,
   "id": "49c300fa",
   "metadata": {},
   "outputs": [],
   "source": [
    "import numpy as np"
   ]
  },
  {
   "cell_type": "code",
   "execution_count": 6,
   "id": "371a2a2b",
   "metadata": {},
   "outputs": [],
   "source": [
    "f_list = [np.nan , np.nan, \"Austria\", \"Germany\", np.nan, \"Pakistan\", \"np.nan\", np.nan ]"
   ]
  },
  {
   "cell_type": "code",
   "execution_count": 7,
   "id": "bac0f890",
   "metadata": {},
   "outputs": [],
   "source": [
    "text1 = ['My', 'teacher', 'assistant', 'is', 'so', 'boring.']"
   ]
  },
  {
   "cell_type": "code",
   "execution_count": 8,
   "id": "235d51c1",
   "metadata": {},
   "outputs": [],
   "source": [
    "p2_list = [ 2 , 3, 4, 5 ]"
   ]
  },
  {
   "cell_type": "code",
   "execution_count": 9,
   "id": "d09502c0",
   "metadata": {},
   "outputs": [],
   "source": [
    "values1 = [ 86, 86, 85, 85, 85, 83, 23, 0, 84, 1 ] "
   ]
  },
  {
   "cell_type": "code",
   "execution_count": 26,
   "id": "225d2872",
   "metadata": {},
   "outputs": [],
   "source": [
    "# These two lists a\n",
    "last_and_name = [ \"Okumura, Leonardo\", \"Toledo, Nuria\", \"Morro, Aurio\",\"Huaman, Guido\"]\n",
    "emails = [\"arumuko15@gmail.com\", \"auri.morro@gmail.com\", \"Budin7.ghl@gmail.com\",\"nuriamusic16@gmail.com\" ]"
   ]
  },
  {
   "cell_type": "markdown",
   "id": "e0648ec0",
   "metadata": {},
   "source": [
    "## PREGUNTA 1"
   ]
  },
  {
   "cell_type": "code",
   "execution_count": 12,
   "id": "5e1f64d0",
   "metadata": {},
   "outputs": [],
   "source": [
    "indices = np.where(np.array(f_list) == str(np.nan))[0].tolist()"
   ]
  },
  {
   "cell_type": "code",
   "execution_count": 13,
   "id": "b9b3d242",
   "metadata": {},
   "outputs": [
    {
     "data": {
      "text/plain": [
       "'The indices 0, 1, 4, 7 have np.nan values'"
      ]
     },
     "execution_count": 13,
     "metadata": {},
     "output_type": "execute_result"
    }
   ],
   "source": [
    "F\"The indices {str(indices)[1:-1]} have np.nan values\""
   ]
  },
  {
   "cell_type": "markdown",
   "id": "9c88b38d",
   "metadata": {},
   "source": [
    "## PREGUNTA 2"
   ]
  },
  {
   "cell_type": "code",
   "execution_count": 14,
   "id": "d384e683",
   "metadata": {},
   "outputs": [
    {
     "data": {
      "text/plain": [
       "[2, 3, 4, 5, 2, 3, 4, 5, 2, 3, 4, 5, 2, 3, 4, 5]"
      ]
     },
     "execution_count": 14,
     "metadata": {},
     "output_type": "execute_result"
    }
   ],
   "source": [
    "p2_list*4"
   ]
  },
  {
   "cell_type": "markdown",
   "id": "9f1c3359",
   "metadata": {},
   "source": [
    "## PREGUNTA 3"
   ]
  },
  {
   "cell_type": "code",
   "execution_count": 15,
   "id": "e99b6991",
   "metadata": {},
   "outputs": [
    {
     "name": "stdout",
     "output_type": "stream",
     "text": [
      "8\n"
     ]
    }
   ],
   "source": [
    "print(len(f_list))"
   ]
  },
  {
   "cell_type": "markdown",
   "id": "a6bb042a",
   "metadata": {},
   "source": [
    "## PREGUNTA 4"
   ]
  },
  {
   "cell_type": "code",
   "execution_count": 16,
   "id": "3330ffa8",
   "metadata": {},
   "outputs": [
    {
     "name": "stdout",
     "output_type": "stream",
     "text": [
      "My teacher assistant is so boring.\n"
     ]
    }
   ],
   "source": [
    "print(\" \".join(text1))"
   ]
  },
  {
   "cell_type": "markdown",
   "id": "73e33cda",
   "metadata": {},
   "source": [
    "## PREGUNTA 5"
   ]
  },
  {
   "cell_type": "code",
   "execution_count": 19,
   "id": "662de2d1",
   "metadata": {},
   "outputs": [],
   "source": [
    "text1_2 = text1.copy()\n",
    "text1_2[1] = \"TA\"\n",
    "text1_2[-1] = \"boring,\"\n",
    "text1_2.remove(\"assistant\")\n",
    "text1_2.extend([\"but\", \"is\", \"very\", \"funny.\"])"
   ]
  },
  {
   "cell_type": "code",
   "execution_count": 21,
   "id": "d7836edd",
   "metadata": {},
   "outputs": [
    {
     "name": "stdout",
     "output_type": "stream",
     "text": [
      "My TA is so boring, but is very funny.\n"
     ]
    }
   ],
   "source": [
    "print(\" \".join(text1_2))"
   ]
  },
  {
   "cell_type": "markdown",
   "id": "f6726d0e",
   "metadata": {},
   "source": [
    "## Pregunta 6"
   ]
  },
  {
   "cell_type": "code",
   "execution_count": 22,
   "id": "dfe9e06a",
   "metadata": {},
   "outputs": [
    {
     "name": "stdout",
     "output_type": "stream",
     "text": [
      "The max value of values1 is 86 and is located in the 0 index.\n",
      "The min value of values1 is 0 and is located in the 7 index.\n"
     ]
    }
   ],
   "source": [
    "print(f\"The max value of values1 is {max(values1)} and is located in the {values1.index(max(values1))} index.\")\n",
    "print(f\"The min value of values1 is {min(values1)} and is located in the {values1.index(min(values1))} index.\")"
   ]
  },
  {
   "cell_type": "markdown",
   "id": "a3e0db81",
   "metadata": {},
   "source": [
    "## PREGUNTA 7"
   ]
  },
  {
   "cell_type": "code",
   "execution_count": 28,
   "id": "20f385f9",
   "metadata": {},
   "outputs": [
    {
     "name": "stdout",
     "output_type": "stream",
     "text": [
      "['Okumura', 'Toledo', 'Morro', 'Huaman']\n"
     ]
    }
   ],
   "source": [
    "names = [*map(lambda x: x.split(\", \")[1], last_and_name)]\n",
    "print(names)"
   ]
  },
  {
   "cell_type": "code",
   "execution_count": 29,
   "id": "5c7dfe97",
   "metadata": {},
   "outputs": [
    {
     "name": "stdout",
     "output_type": "stream",
     "text": [
      "['Leonardo', 'Nuria', 'Auiro', ' Guido']\n"
     ]
    }
   ],
   "source": [
    "last_names = [*map(lambda x: x.split(\", \")[0], last_and_name)]\n",
    "print(last_names)"
   ]
  },
  {
   "cell_type": "code",
   "execution_count": null,
   "id": "02f85b45",
   "metadata": {},
   "outputs": [],
   "source": []
  }
 ],
 "metadata": {
  "kernelspec": {
   "display_name": "Python 3 (ipykernel)",
   "language": "python",
   "name": "python3"
  },
  "language_info": {
   "codemirror_mode": {
    "name": "ipython",
    "version": 3
   },
   "file_extension": ".py",
   "mimetype": "text/x-python",
   "name": "python",
   "nbconvert_exporter": "python",
   "pygments_lexer": "ipython3",
   "version": "3.11.5"
  }
 },
 "nbformat": 4,
 "nbformat_minor": 5
}
