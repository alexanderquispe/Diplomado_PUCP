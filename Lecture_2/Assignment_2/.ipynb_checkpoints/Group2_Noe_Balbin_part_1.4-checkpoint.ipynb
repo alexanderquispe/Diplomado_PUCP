{
 "cells": [
  {
   "cell_type": "code",
   "execution_count": null,
   "metadata": {
    "id": "HPvbWFVrYB5h"
   },
   "outputs": [],
   "source": [
    "import numpy as np\n",
    "import pandas as pd"
   ]
  },
  {
   "cell_type": "markdown",
   "metadata": {
    "id": "tcUyOnRFe71u"
   },
   "source": [
    "1.4 Numpy"
   ]
  },
  {
   "cell_type": "markdown",
   "metadata": {
    "id": "VP3026Woe_kX"
   },
   "source": [
    "1. Replace all the even_numbers in np1 with 100. Hint: Use indexing in arrys and this filer."
   ]
  },
  {
   "cell_type": "code",
   "execution_count": null,
   "metadata": {
    "colab": {
     "base_uri": "https://localhost:8080/"
    },
    "id": "ru4GjsooxfJE",
    "outputId": "fabca003-f0c1-45b9-afa1-8063d8176921"
   },
   "outputs": [
    {
     "name": "stdout",
     "output_type": "stream",
     "text": [
      "[100 201 100 203 100 205 100 207 100 209 100 211 100 213 100 215 100 217\n",
      " 100 219 100 221 100 223 100 225 100 227 100 229 100 231 100 233 100 235\n",
      " 100 237 100 239 100 241 100 243 100 245 100 247 100 249 100 251 100 253\n",
      " 100 255 100 257 100 259 100 261 100 263 100 265 100 267 100 269 100 271\n",
      " 100 273 100 275 100 277 100 279 100 281 100 283 100 285 100 287 100 289\n",
      " 100 291 100 293 100 295 100 297 100 299 100 301 100 303 100 305 100 307\n",
      " 100 309 100 311 100 313 100 315 100 317 100 319 100 321 100 323 100 325\n",
      " 100 327 100 329 100 331 100 333 100 335 100 337 100 339 100 341 100 343\n",
      " 100 345 100 347 100 349 100 351 100 353 100 355 100 357 100 359 100 361\n",
      " 100 363 100 365 100 367 100 369 100 371 100 373 100 375 100 377 100 379\n",
      " 100 381 100 383 100 385 100 387 100 389 100 391 100 393 100 395 100 397\n",
      " 100 399 100 401 100 403 100 405 100 407 100 409 100 411 100 413 100 415\n",
      " 100 417 100 419 100 421 100 423 100 425 100 427 100 429 100 431 100 433\n",
      " 100 435 100 437 100 439 100 441 100 443 100 445 100 447 100 449 100 451\n",
      " 100 453 100 455 100 457 100 459 100 461 100 463 100 465 100 467 100 469\n",
      " 100 471 100 473 100 475 100 477 100 479 100 481 100 483 100 485 100 487\n",
      " 100 489 100 491 100 493 100 495 100 497 100 499 100 501 100 503 100 505\n",
      " 100 507 100 509 100 511 100 513 100 515 100 517 100 519 100 521 100 523\n",
      " 100 525 100 527 100 529 100 531 100 533 100 535 100 537 100 539 100 541\n",
      " 100 543 100 545 100 547 100 549 100 551 100 553 100 555 100 557 100 559\n",
      " 100 561 100 563 100 565 100 567 100 569 100 571 100 573 100 575 100 577\n",
      " 100 579 100 581 100 583 100 585 100 587 100 589 100 591 100 593 100 595\n",
      " 100 597 100 599 100 601 100 603 100 605 100 607 100 609 100 611 100 613\n",
      " 100 615 100 617 100 619 100 621 100 623 100 625 100 627 100 629 100 631\n",
      " 100 633 100 635 100 637 100 639 100 641 100 643 100 645 100 647 100 649\n",
      " 100 651 100 653 100 655 100 657 100 659 100 661 100 663 100 665 100 667\n",
      " 100 669 100 671 100 673 100 675 100 677 100 679 100 681 100 683 100 685\n",
      " 100 687 100 689 100 691 100 693 100 695 100 697 100 699 100 701 100 703\n",
      " 100 705 100 707 100 709 100 711 100 713 100 715 100 717 100 719 100 721\n",
      " 100 723 100 725 100 727 100 729 100 731 100 733 100 735 100 737 100 739\n",
      " 100 741 100 743 100 745 100 747 100 749]\n"
     ]
    }
   ],
   "source": [
    "np1 = np.arange( 200, 750)\n",
    "\n",
    "\n",
    "#even_numbers = np.arange( 200, 750, 2 )\n",
    "#even_numbers.tolist()\n",
    "\n",
    "np1 [np1%2==0] = 100\n",
    "\n",
    "print(np1)\n"
   ]
  },
  {
   "cell_type": "markdown",
   "metadata": {
    "id": "doiRbhvYzgII"
   },
   "source": [
    "2. Create a 3x3 matrix with values ranging from 0 to 8. Hint: Use np.arange and np.reshape method."
   ]
  },
  {
   "cell_type": "code",
   "execution_count": null,
   "metadata": {
    "colab": {
     "base_uri": "https://localhost:8080/"
    },
    "id": "aE_B5xyI3JsP",
    "outputId": "61f35866-1513-49d7-ca0a-2e563c5b9231"
   },
   "outputs": [
    {
     "name": "stdout",
     "output_type": "stream",
     "text": [
      "[[0, 1, 2], [3, 4, 5], [6, 7, 8]]\n"
     ]
    }
   ],
   "source": [
    "m = np.arange(0, 9, 1)\n",
    "m = m.reshape(3,3)\n",
    "print(m.tolist())"
   ]
  },
  {
   "cell_type": "markdown",
   "metadata": {
    "id": "ffRpTf_vfHN4"
   },
   "source": [
    "3. Consider an array Z = [1,2,3,4,5,6,7,8,9,10], generate an array R = [ [ 1, 2, 3, 4], [ 2, 3, 4, 5 ], [ 3, 4, 5, 6 ], ..., [ 7, 8, 9, 10 ] ]?.Hint: Use np.arange and np.concatenate"
   ]
  },
  {
   "cell_type": "code",
   "execution_count": null,
   "metadata": {
    "colab": {
     "base_uri": "https://localhost:8080/"
    },
    "id": "lyVZlguV3Tqi",
    "outputId": "99bf68df-f1dd-46d9-f820-579d4ad9d019"
   },
   "outputs": [
    {
     "data": {
      "text/plain": [
       "array([ 1,  2,  3,  4,  2,  3,  4,  5,  3,  4,  5,  6,  4,  5,  6,  7,  5,\n",
       "        6,  7,  8,  6,  7,  8,  9,  7,  8,  9, 10])"
      ]
     },
     "execution_count": 14,
     "metadata": {},
     "output_type": "execute_result"
    }
   ],
   "source": [
    "e1=np.arange(1,5,1)\n",
    "e2=np.arange(2,6,1)\n",
    "e3=np.arange(3,7,1)\n",
    "e4=np.arange(4,8,1)\n",
    "e5=np.arange(5,9,1)\n",
    "e6=np.arange(6,10,1)\n",
    "e7=np.arange(7,11,1)\n",
    "np.concatenate((e1,e2,e3,e4,e5,e6,e7), axis=0)\n"
   ]
  },
  {
   "cell_type": "markdown",
   "metadata": {
    "id": "UUc_IMPGfPy_"
   },
   "source": [
    "4. Create a 3x3x3 array with random values. Hint: Use np.random.random."
   ]
  },
  {
   "cell_type": "code",
   "execution_count": null,
   "metadata": {
    "colab": {
     "base_uri": "https://localhost:8080/"
    },
    "id": "d4mVTg_g3jF-",
    "outputId": "83d485b4-c99e-4cad-8b55-198146f3b76b"
   },
   "outputs": [
    {
     "name": "stdout",
     "output_type": "stream",
     "text": [
      "[[[0.4281216  0.19654832 0.47749311]\n",
      "  [0.08553551 0.07765912 0.23485538]\n",
      "  [0.50661158 0.49707972 0.70530155]]\n",
      "\n",
      " [[0.53373392 0.37347171 0.04176399]\n",
      "  [0.08800792 0.8558229  0.21474401]\n",
      "  [0.47435913 0.15994407 0.09941557]]\n",
      "\n",
      " [[0.6228955  0.78407019 0.33794689]\n",
      "  [0.81710354 0.02322726 0.49217264]\n",
      "  [0.92269249 0.65332449 0.70537648]]]\n"
     ]
    }
   ],
   "source": [
    "x = np.random.random((3,3,3))\n",
    "print(x)"
   ]
  },
  {
   "cell_type": "markdown",
   "metadata": {
    "id": "GqUPthEyfWH_"
   },
   "source": [
    "5. Comment why this expression np.nan == np.nan is False. Hint: Use stackoverflow. Because np.nan is not a number and for this in any case it is distinct in all time."
   ]
  },
  {
   "cell_type": "markdown",
   "metadata": {
    "id": "quOXDEfRfbsm"
   },
   "source": [
    "6. Print the mean and standard deviation of np2. Hint: Use f-string, np.mean, and np.var methods."
   ]
  },
  {
   "cell_type": "code",
   "execution_count": null,
   "metadata": {
    "colab": {
     "base_uri": "https://localhost:8080/"
    },
    "id": "yWxiDXV25W6R",
    "outputId": "38a70511-b229-4684-d90e-eaf29bc89540"
   },
   "outputs": [
    {
     "name": "stdout",
     "output_type": "stream",
     "text": [
      "mean of np2 :  50.1839027640193\n",
      "standard deviation of np2 :  3.967490489966244\n"
     ]
    }
   ],
   "source": [
    "np2 = np.random.normal( 50 , 4, 300)\n",
    "print(\"mean of np2 : \", np.mean(np2))\n",
    "print(\"standard deviation of np2 : \", np.std(np2))"
   ]
  },
  {
   "cell_type": "code",
   "execution_count": null,
   "metadata": {
    "id": "86FcfbeV9OR2"
   },
   "outputs": [],
   "source": []
  }
 ],
 "metadata": {
  "colab": {
   "name": "1.3_1.4.ipynb",
   "provenance": []
  },
  "kernelspec": {
   "display_name": "Python 3",
   "language": "python",
   "name": "python3"
  },
  "language_info": {
   "codemirror_mode": {
    "name": "ipython",
    "version": 3
   },
   "file_extension": ".py",
   "mimetype": "text/x-python",
   "name": "python",
   "nbconvert_exporter": "python",
   "pygments_lexer": "ipython3",
   "version": "3.8.8"
  }
 },
 "nbformat": 4,
 "nbformat_minor": 1
}
