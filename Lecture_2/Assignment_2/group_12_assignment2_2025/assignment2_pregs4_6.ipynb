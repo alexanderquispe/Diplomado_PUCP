{
 "cells": [
  {
   "cell_type": "markdown",
   "id": "47bdaa77-1501-4dae-82c6-fb8e121d4ff3",
   "metadata": {},
   "source": [
    "### Pregunta 4: Merging datasets"
   ]
  },
  {
   "cell_type": "code",
   "execution_count": 5,
   "id": "6834bf41-e34a-4962-b9d3-ba459c328d96",
   "metadata": {},
   "outputs": [],
   "source": [
    "import pandas as pd\n",
    "\n",
    "# enaho 300\n",
    "df300 = pd.read_csv(\n",
    "    r\"/Users/mariavasquez/Documents/DIPLOMADO QLAB/Fundamentos de programación en Python/Diplomado_PUCP/Lecture_2/ASS2/Enaho01A-2023-300.csv\",\n",
    "    encoding=\"ISO-8859-10\",\n",
    "    low_memory=False\n",
    ")\n",
    "\n",
    "# enaho 200\n",
    "df200 = pd.read_csv(\n",
    "    r\"/Users/mariavasquez/Documents/DIPLOMADO QLAB/Fundamentos de programación en Python/Diplomado_PUCP/Lecture_2/ASS2/Enaho01-2023-200.csv\",\n",
    "    encoding=\"ISO-8859-10\",\n",
    "    low_memory=False)"
   ]
  },
  {
   "cell_type": "code",
   "execution_count": null,
   "id": "93c2bf9f-71d2-4c14-839c-452b70b7a5cb",
   "metadata": {},
   "outputs": [],
   "source": [
    "common_columns = ['CONGLOME', 'VIVIENDA', 'HOGAR', 'CODPERSO']\n",
    "\n",
    "merged_df = pd.merge(df300, df200, on=common_columns, how=\"inner\")"
   ]
  },
  {
   "cell_type": "markdown",
   "id": "59664ca2-0bde-4b9e-a571-2e5fcb85d1f4",
   "metadata": {},
   "source": [
    "#### Los 5 primeros elementos del dataset"
   ]
  },
  {
   "cell_type": "code",
   "execution_count": null,
   "id": "a6dcf1d6-dd20-4910-989c-b3be320206ae",
   "metadata": {},
   "outputs": [],
   "source": [
    "print(merged_df.head(5))"
   ]
  },
  {
   "cell_type": "markdown",
   "id": "93dbc075-2be6-4ef9-bbaa-d6c57f9076cd",
   "metadata": {},
   "source": [
    "## 5. Analizando el dataset resultante"
   ]
  },
  {
   "cell_type": "code",
   "execution_count": null,
   "id": "3c8a4a62-fdc4-43a9-8fa2-24adda3e0c69",
   "metadata": {},
   "outputs": [],
   "source": [
    "# Determinando las variables\n",
    "merged_df[\"sexo\"] = merged_df[\"P207_x\"].replace({\n",
    "    1: \"Hombre\",\n",
    "    2: \"Mujer\"\n",
    "})\n",
    "\n",
    "merged_df[\"alfabetizacion\"] = merged_df[\"P302X\"].replace({\n",
    "    1: \"Sí\",\n",
    "    2: \"No\",\n",
    "    3: \"No se aplicó\"\n",
    "})"
   ]
  },
  {
   "cell_type": "code",
   "execution_count": null,
   "id": "f3b9b376-f564-4797-b33f-54253f6c40da",
   "metadata": {},
   "outputs": [],
   "source": [
    "print(merged_df.columns.tolist())\n"
   ]
  },
  {
   "cell_type": "code",
   "execution_count": null,
   "id": "86842cc2-88e9-4f9a-8ff2-eb6626508c0b",
   "metadata": {},
   "outputs": [],
   "source": [
    "merged_df[[\"P207_x\", \"sexo\", \"P302X\", \"alfabetizacion\"]].head()\n"
   ]
  },
  {
   "cell_type": "code",
   "execution_count": null,
   "id": "28a5aa92-3c1e-4a27-8f15-e47995462ff0",
   "metadata": {},
   "outputs": [],
   "source": [
    "conteo = merged_df.groupby([\"sexo\", \"alfabetizacion\"]).size().reset_index(name=\"conteo\")\n",
    "print(conteo)"
   ]
  },
  {
   "cell_type": "markdown",
   "id": "bb431f28-61e8-4010-af51-b32920d02710",
   "metadata": {},
   "source": [
    "# Parte 2: If conditions"
   ]
  },
  {
   "cell_type": "markdown",
   "id": "c10b6bdb-a104-40d7-9a49-077c6b31e7e1",
   "metadata": {},
   "source": [
    "### Pregunta 6: Basic if condition"
   ]
  },
  {
   "cell_type": "code",
   "execution_count": 1,
   "id": "626d4f87-c17e-4572-ae7c-ebbdb473b4cc",
   "metadata": {},
   "outputs": [],
   "source": [
    "# Construyendo la función\n",
    "def positive(number):\n",
    "    if number > 0:\n",
    "        return f\"The number {number} is positive.\"\n",
    "    else:\n",
    "        return f\"The number {number} is not positive.\"\n"
   ]
  },
  {
   "cell_type": "code",
   "execution_count": 2,
   "id": "ea55db98-d678-4e7c-901b-3afabe5194cb",
   "metadata": {},
   "outputs": [
    {
     "name": "stdout",
     "output_type": "stream",
     "text": [
      "The number 5 is positive.\n"
     ]
    }
   ],
   "source": [
    "# Probando para el caso positivo\n",
    "print(positive(5)) "
   ]
  },
  {
   "cell_type": "code",
   "execution_count": 4,
   "id": "3394fde8-6de4-4ec5-a9a0-380bd97cb953",
   "metadata": {},
   "outputs": [
    {
     "name": "stdout",
     "output_type": "stream",
     "text": [
      "The number -3 is not positive.\n"
     ]
    }
   ],
   "source": [
    "# Probando para el caso no positivo\n",
    "print(positive(-3))"
   ]
  },
  {
   "cell_type": "code",
   "execution_count": null,
   "id": "11a25cbc-b96a-4cca-be8b-0fd776e2c46a",
   "metadata": {},
   "outputs": [],
   "source": []
  }
 ],
 "metadata": {
  "kernelspec": {
   "display_name": "Python [conda env:base] *",
   "language": "python",
   "name": "conda-base-py"
  },
  "language_info": {
   "codemirror_mode": {
    "name": "ipython",
    "version": 3
   },
   "file_extension": ".py",
   "mimetype": "text/x-python",
   "name": "python",
   "nbconvert_exporter": "python",
   "pygments_lexer": "ipython3",
   "version": "3.11.5"
  }
 },
 "nbformat": 4,
 "nbformat_minor": 5
}
