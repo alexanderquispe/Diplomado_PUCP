{
  "cells": [
    {
      "cell_type": "markdown",
      "source": [
        "## Group 7\n",
        "\n",
        "Members:\n",
        "\n",
        "\n",
        "*   Fabio Manuel Salas Núñez Borja - 20185062\n",
        "*   Erick Josue Aguilar Garcia- 20182474\n",
        "*   Fernanda Nicolle Pizarro Villanes - 20191460\n",
        "*   Angela Adelina Quillatupa Morales - 20193853\n",
        "*   Josué Daniel Caldas Velásquez - 20182814\n",
        "\n",
        "\n"
      ],
      "metadata": {
        "id": "dH66pdIrBEX_"
      }
    },
    {
      "cell_type": "markdown",
      "metadata": {
        "id": "RtT_dfHk9k7J"
      },
      "source": [
        "# 1 Assignment\n",
        "\n",
        "It is totally prohibited to use any kind of loop. You can use stackoverflow. If you copy codes from previous answers, explain each step. No explanation is `0 points`."
      ]
    },
    {
      "cell_type": "markdown",
      "metadata": {
        "id": "FNMTWrNA9k7O"
      },
      "source": [
        "## 1.1 Tuple\n",
        "\n",
        "\n",
        "\n",
        "1. Print the first item of the second item of `tuple1` object. **Hint: Use indexing**<br><br>\n",
        "2. Print the last item of the `tuple1` object.**Hint: Use indexing**<br><br>\n",
        "3. Change the value \"orange\" for \"pink grapefruit\". Comment the output. **Hint: Is it possible?** <br><br>\n",
        "4. Print the length of `tuple1`. **Hint: Length function**<br><br>\n",
        "5. Sum all the elements of tuple2 and describe your steps and explain each of them. **Hint: Use `map` function.**<br><br>\n",
        "6. Generate a new tuple object named as `tuple3` with the half values of `tuple2`. This tuple should be similar as `tuple2`, tuple of lists.  **Hint: Use `map` funciont.**<br><br>"
      ]
    },
    {
      "cell_type": "code",
      "execution_count": null,
      "metadata": {
        "id": "PmvVfIT49k7Q"
      },
      "outputs": [],
      "source": [
        "\n",
        "tuple1 = (\"Orange\", [10, 20, 30], (5, 15, 25))\n",
        "tuple2 = ([7, 8], [9, 1], [10, 7])"
      ]
    },
    {
      "cell_type": "markdown",
      "source": [
        "##### SOLUTIONS"
      ],
      "metadata": {
        "id": "1hbIbyL7o_IP"
      }
    },
    {
      "cell_type": "markdown",
      "source": [
        "##### 1."
      ],
      "metadata": {
        "id": "jdqB2ccIpcHO"
      }
    },
    {
      "cell_type": "code",
      "execution_count": null,
      "metadata": {
        "id": "eCBdm69b9k7S",
        "outputId": "2033fee3-6a15-40e8-cae2-49bfdd8f8772",
        "colab": {
          "base_uri": "https://localhost:8080/"
        }
      },
      "outputs": [
        {
          "output_type": "stream",
          "name": "stdout",
          "text": [
            "Orange\n"
          ]
        }
      ],
      "source": [
        "# 1\n",
        "print(tuple1[0])"
      ]
    },
    {
      "cell_type": "markdown",
      "source": [
        "##### 2. "
      ],
      "metadata": {
        "id": "7184dYWUpeO-"
      }
    },
    {
      "cell_type": "code",
      "execution_count": null,
      "metadata": {
        "id": "3hFJEtp09k7T",
        "outputId": "3f0388df-425f-470e-a1ba-999cfb689ea1",
        "colab": {
          "base_uri": "https://localhost:8080/"
        }
      },
      "outputs": [
        {
          "output_type": "stream",
          "name": "stdout",
          "text": [
            "(5, 15, 25)\n"
          ]
        }
      ],
      "source": [
        "# 2\n",
        "print(tuple1[2])"
      ]
    },
    {
      "cell_type": "markdown",
      "source": [
        "###### 3."
      ],
      "metadata": {
        "id": "K8jI11gfpghF"
      }
    },
    {
      "cell_type": "markdown",
      "source": [
        "No es posible el cambio de orange\" for \"pink grapefruit\" ya que a comparación de las listas, los tuples son inmutables es decir no es posible alguna modificación. "
      ],
      "metadata": {
        "id": "KZbu5kGsSEGM"
      }
    },
    {
      "cell_type": "markdown",
      "source": [
        "##### 4."
      ],
      "metadata": {
        "id": "Sxj-aar8pppe"
      }
    },
    {
      "cell_type": "code",
      "execution_count": null,
      "metadata": {
        "id": "xOmaxq5C9k7T",
        "outputId": "e4c34eef-8b51-4ba5-d634-a6e2b9c0821d"
      },
      "outputs": [
        {
          "name": "stdout",
          "output_type": "stream",
          "text": [
            "3\n"
          ]
        }
      ],
      "source": [
        "# 4\n",
        "print(len(tuple1))"
      ]
    },
    {
      "cell_type": "markdown",
      "source": [
        "##### 5."
      ],
      "metadata": {
        "id": "r3cHusi0pufO"
      }
    },
    {
      "cell_type": "code",
      "source": [
        "#5\n",
        "lista2 = list(tuple2) #se crea una lista para que pueda ser modificada\n",
        "sum(list(map(sum, lista2))) # a dicha lista se agrega la función map para que se convierta en objeto y luego se pueda sumar todo. "
      ],
      "metadata": {
        "colab": {
          "base_uri": "https://localhost:8080/"
        },
        "id": "ygB4zFkRurSg",
        "outputId": "afc25e78-9958-4124-e867-76b673cbf5e3"
      },
      "execution_count": null,
      "outputs": [
        {
          "output_type": "execute_result",
          "data": {
            "text/plain": [
              "42"
            ]
          },
          "metadata": {},
          "execution_count": 22
        }
      ]
    },
    {
      "cell_type": "markdown",
      "source": [
        "##### 6."
      ],
      "metadata": {
        "id": "sPJJFAhaqaTW"
      }
    },
    {
      "cell_type": "code",
      "source": [
        "#6\n",
        "list0 = [] #se crea una lista vacia\n",
        "for i in tuple2[0]: #luego, nos centramos en el primer elemento de tuple 2\n",
        "  list0.append(i/2) #lo extendemos para que sea la mitad de cada elemento \n",
        "list1 = []         \n",
        "for i in tuple2[1]:\n",
        "  list1.append(i/2)\n",
        "list2 = []\n",
        "for i in tuple2[2]:\n",
        "  list2.append(i/2)"
      ],
      "metadata": {
        "id": "PlTEC7oOyqDr"
      },
      "execution_count": null,
      "outputs": []
    },
    {
      "cell_type": "code",
      "source": [
        "tuple3 = tuple([list0, list1, list2]) #generamos un tuple para unir cada una de las li\n",
        "tuple3"
      ],
      "metadata": {
        "colab": {
          "base_uri": "https://localhost:8080/"
        },
        "id": "6TB3_SVT5Kv0",
        "outputId": "7e69d017-52f0-4fa2-de23-58dcdc524e89"
      },
      "execution_count": null,
      "outputs": [
        {
          "output_type": "execute_result",
          "data": {
            "text/plain": [
              "([3.5, 4.0], [4.5, 0.5], [5.0, 3.5])"
            ]
          },
          "metadata": {},
          "execution_count": 14
        }
      ]
    },
    {
      "cell_type": "markdown",
      "metadata": {
        "id": "M3hAyjzE9k7U"
      },
      "source": [
        "### 1.2 Lists\n",
        "1. Show the indices of the `np.nan` values  in the `f_list` list. We want to see this output: `The indices 0, 1, 4, 7 have np.nan values.` **Hint: Use print function and [f-strings](https://realpython.com/python-f-strings/) to insert the indices values.**<br><br>\n",
        "\n",
        "2. Replicate 4 times the values of the list `p2_list`. We expect an ouput like this: `[ 2 , 3, 4, 5, 2 , 3, 4, 5, 2 , 3, 4, 5, 2 , 3, 4, 5]`.  **Hint: Use multiplication function in `lists`and see the output.**<br><br>\n",
        "3. Print the length of `f_list`. **Hint: Length function**<br><br>\n",
        "4. Print `My teacher assistant is so boring.` using `text1` list. **Hint: Use the [`join` function](https://stackoverflow.com/questions/493819/why-is-it-string-joinlist-instead-of-list-joinstring)**<br><br>\n",
        "5. Print `My TA is so boring, but is very funny.` using `text1` list.**Hint: Use the `join` function, and `extend` method.**<br><br>\n",
        "6. Print <br>\n",
        "`The max value of values1 is 86 and is located in the 0 index. ` <br>\n",
        "`The min value of values1 is 0 and is located in the 7 index. ` <br> **Hint: Use the `f-string`, `min`, and `max` functions.**\n",
        "<br>\n",
        "7. Get two lists: `names` and `last_names` using `last_and_name` list. **Hint: Use `map` and `split`.**\n",
        "<br>\n",
        "8. Give only the last names of students who do not have email. Use the `emails` and `last_names` listt. **Hint: Use `map` and `split`.**\n",
        "<br>"
      ]
    },
    {
      "cell_type": "code",
      "execution_count": null,
      "metadata": {
        "id": "RIJ11Hud9k7U"
      },
      "outputs": [],
      "source": [
        "\n",
        "import numpy as np"
      ]
    },
    {
      "cell_type": "code",
      "execution_count": null,
      "metadata": {
        "id": "MOu_xFYG9k7V"
      },
      "outputs": [],
      "source": [
        "f_list = [np.nan , np.nan, \"Austria\", \"Germany\", np.nan, \"Pakistan\", \"np.nan\", np.nan ]"
      ]
    },
    {
      "cell_type": "code",
      "execution_count": null,
      "metadata": {
        "id": "IC2wwsiA9k7V"
      },
      "outputs": [],
      "source": [
        "text1 = ['My', 'teacher', 'assistant', 'is', 'so', 'boring.']"
      ]
    },
    {
      "cell_type": "code",
      "execution_count": null,
      "metadata": {
        "id": "xfDZOl4S9k7V"
      },
      "outputs": [],
      "source": [
        "p2_list = [ 2 , 3, 4, 5 ]"
      ]
    },
    {
      "cell_type": "code",
      "execution_count": null,
      "metadata": {
        "id": "atsg3Q5u9k7V"
      },
      "outputs": [],
      "source": [
        "values1 = [ 86, 86, 85, 85, 85, 83, 23, 0, 84, 1 ] "
      ]
    },
    {
      "cell_type": "code",
      "execution_count": null,
      "metadata": {
        "id": "ubjZ3ZZn9k7W"
      },
      "outputs": [],
      "source": [
        "# These two lists a\n",
        "last_and_name = [ \"CORNEJO SANCHEZ, CHRISTIAN SANTOS\", \"ORELLANA QUISPE, CRISTIAN NASSER\", \"MORALES CHOQUEHUANCA, ANGELICA KARINA\", \"GUIMARAY RIBEYRO, JOSE ROBERTO\", \"CAMACHO GAVIDIA, ABEL FERNANDO\", \"TINTAYA ORIHUELA, MEIR ALVARO\", \"CHAVEZ MARTINEZ, JOSELIN ALEXANDRA\", \"FIGUEROA MURO, LEONEL ARTURO\", \"GOMEZ CRIBILLERO, JOSE FELIPE\", \"PALOMINO SEGUÍN, AFRANIA\", \"LUZON CUEVA, BIANCA MARIETTE\", \"SUAÑA ZEGARRA, ADRIAN ANDRE\", \"SOTO POMACHAGUA, DORKAS YOMIRA JHERMY\", \"FIORENTINO MARTINEZ, LADY ALY\", \"LAMA MAVILA, HECTOR ANDRE\", \"MEZA HINOJO, GUSTAVO\", \"LOZADA MURILLO, PERSEO MARCELO\", \"ZAMBRANO JIMENEZ, MIGUEL ALONZO\", \"JACOBS LUQUE, NICOLAS\", \"VIDAL VIDAL, ROCIO GABRIELA\", \"TORRES ANICAMA, JANE CAMILA\", \"LOPEZ ESTRADA, MARIA ELISA\", \"BOYCO ORAMS, ALEJANDRO\", \"DIAZ BERROSPI, KARLINE ROSMELI\", \"RIEGA ESCALANTE, STEPHY ROSARIO\", \"LEVANO TORRES, VALERIA CECILIA\", \"ESQUIVES BRAVO, SEBASTIAN RENATO\", \"PEREZ GONZALES, JUAN CARLOS\", \"OTERO MAGUIÑA, MARIANA\", \"CLAVO CAMPOS, ANDREA BRIZETH\", \"AGUILAR GARCIA, ERICK JOSUE\", \"CALDAS VELASQUEZ, JOSUE DANIEL\", \"SALAS NUÑEZ BORJA, FABIO MANUEL\", \"PIZARRO VILLANES, FERNANDA NICOLLE\", \"QUILLATUPA MORALES, ANGELA ADELINA\", \"HUANCAYA IDONE, CESAR DANTE\", \"CALVO PORTOCARRERO, GABRIELA ISABEL\", \"IBAÑEZ ABANTO, ANGEL MAURICIO\", \"MELÉNDEZ APONTE, JUAN DIEGO\", \"CRISTIAN SERRANO, ARONE\", \"HINOJOSA CAHUANA, PERCY ALBERTH\", \"ANGLAS GARCÍA, KEVIN ARTURO\", \"ALDAVE ACOSTA, CESAR ERNESTO\", \"NÚÑEZ HUAMÁN, CÉSAR AGUSTO\", \"OBREGON HUAMAN, DIANA EDITH\", \"SOTO PACHERRES, RODRIGO FRANCO\", \"INGARUCA RIVERA, GRETTEL ALEXANDRA\", \"ROJAS HUAMAN, ROSA ANGELA\", \"NEYRA SALAS, DANTE OMAR\", \"HUERTA ESPINOZA, YAJAIRA ALEXANDRA\", \"HUANCA MARTINEZ, JORGE ALBERTO\", \"FLORES CADILLO, ALEXIS\" ]\n",
        "emails = [\"cscornejo@pucp.edu.pe\", \"orellana.cn@pucp.edu.pe\", \"karina.morales@pucp.edu.pe\", \"a20083223@pucp.pe\", \"abel.camacho@pucp.pe\", \"mtintaya@pucp.edu.pe\", \"joselin.chavez@pucp.edu.pe\", \"a20105737@pucp.pe\", \"jfgomezc@pucp.pe\", \"afrania.palomino@pucp.pe\", \"luzon.bianca@pucp.pe\", \"adrian.suanaz@pucp.pe\", \"soto.y@pucp.edu.pe\", \"a20132766@pucp.pe\", \"andre.lama@pucp.edu.pe\", \"gustavo.meza@pucp.edu.pe\", \"pmlozada@pucp.edu.pe\", \"m.zambranoj@pucp.edu.pe\", \"nicolas.jacobs@pucp.edu.pe\", \"gvidal@pucp.edu.pe\", \"jane.torres@pucp.edu.pe\", \"m.lopez@pucp.edu.pe\", \"alejandro.boyco@pucp.edu.pe\", \"a20167070@pucp.edu.pe\", \"riega.stephy@pucp.edu.pe\", \"vlevanot@pucp.edu.pe\", \"sesquives@pucp.edu.pe\", \"perez.juanc@pucp.edu.pe\", \"mariana.otero@pucp.edu.pe\", \"aclavo@pucp.edu.pe\", \"a20182474@pucp.edu.pe\", \"josue.caldas@pucp.edu.pe\", \"fabio.salas@pucp.edu.pe\", \"fernanda.pizarro@pucp.edu.pe\", \"aquillatupa@pucp.pe\", \"\", \"\", \"\", \"\", \"\", \"f0873079@pucp.edu.pe\", \"\", \"\", \"\", \"\", \"\", \"\", \"\", \"\", \"\", \"\", \"flores.alexis@pucp.edu.pe\", ]"
      ]
    },
    {
      "cell_type": "markdown",
      "source": [
        "##### SOLUTIONS"
      ],
      "metadata": {
        "id": "xNPs6YH0ZEFY"
      }
    },
    {
      "cell_type": "markdown",
      "source": [
        "##### 1. Explanation\n",
        "The pandas library is imported, an object called indices is created that contains enumerate the f_list and that indicates if there are missing values. The indices object is then commanded to be joined by pointing to the structure and removing \" \" signs, finally the indices object is printed in the form \"indices {index elements} have nan.np values\""
      ],
      "metadata": {
        "id": "omuwx99BwBV2"
      }
    },
    {
      "cell_type": "code",
      "source": [
        "import pandas as pd\n",
        "indices = [i for i, element in enumerate(f_list) if pd.isna(element) == True]\n",
        "indices = ', '.join(map(str, indices))\n",
        "print(f'The indices {indices} have nan.np values.')"
      ],
      "metadata": {
        "id": "WVFMdUTjlhIV",
        "colab": {
          "base_uri": "https://localhost:8080/"
        },
        "outputId": "505070fa-deac-4db9-aa0a-97276c7454bc"
      },
      "execution_count": null,
      "outputs": [
        {
          "output_type": "stream",
          "name": "stdout",
          "text": [
            "The indices 0, 1, 4, 7 have nan.np values.\n"
          ]
        }
      ]
    },
    {
      "cell_type": "markdown",
      "source": [
        "##### 2.Explanation.\n",
        "First, the p2_list is defined with its respective values ​​as the original list, then the number of times the list is to be repeated is inserted, and the number of times the elements of the original list should be repeated are defined."
      ],
      "metadata": {
        "id": "9nVBhC93wETt"
      }
    },
    {
      "cell_type": "code",
      "source": [
        "p2_list = [ 2, 3, 4, 5 ]\n",
        "print(\"The given list is:\", p2_list)\n",
        "tempList = list(p2_list)\n",
        "count = 4\n",
        "print(\"Number of Times to repeat the elements:\",count)\n",
        "for i in range(count):\n",
        "    p2_list.extend(tempList)\n",
        "print(\"The output list is:\", p2_list)\n",
        "\n"
      ],
      "metadata": {
        "colab": {
          "base_uri": "https://localhost:8080/"
        },
        "id": "K4EcK01glHnU",
        "outputId": "eed5a0bf-d5f0-4874-e24e-d1e7b0fb2716"
      },
      "execution_count": null,
      "outputs": [
        {
          "output_type": "stream",
          "name": "stdout",
          "text": [
            "The given list is: [2, 3, 4, 5]\n",
            "Number of Times to repeat the elements: 4\n",
            "The output list is: [2, 3, 4, 5, 2, 3, 4, 5, 2, 3, 4, 5, 2, 3, 4, 5, 2, 3, 4, 5]\n"
          ]
        }
      ]
    },
    {
      "cell_type": "markdown",
      "source": [
        "##### 3.Explanation.\n",
        "first the f_list is defined with its respective elements, then it is requested to print said list followed by the length or number of elements of the list"
      ],
      "metadata": {
        "id": "UzGhbXuZwH9-"
      }
    },
    {
      "cell_type": "code",
      "source": [
        "f_list = [np.nan , np.nan, \"Austria\", \"Germany\", np.nan, \"Pakistan\", \"np.nan\", np.nan ] #->pregunta 3\n",
        "print( f_list )\n",
        "print( len( f_list ) )"
      ],
      "metadata": {
        "colab": {
          "base_uri": "https://localhost:8080/"
        },
        "id": "3ufT3DQCe7wL",
        "outputId": "e2f368b5-440f-4df8-f34b-a6df2a9fac19"
      },
      "execution_count": null,
      "outputs": [
        {
          "output_type": "stream",
          "name": "stdout",
          "text": [
            "[nan, nan, 'Austria', 'Germany', nan, 'Pakistan', 'np.nan', nan]\n",
            "8\n"
          ]
        }
      ]
    },
    {
      "cell_type": "markdown",
      "source": [
        "##### 4.Explanation.\n",
        "first the text1 list is defined with its respective elements, then the text1 list elements are indicated to be joined by removing the ' ' signs. Finally, it is indicated that the indicated order be printed."
      ],
      "metadata": {
        "id": "acwQuawvwJ0O"
      }
    },
    {
      "cell_type": "code",
      "source": [
        "text1 = ['My', 'teacher', 'assistant', 'is', 'so', 'boring.']  #->pregunta 4\n",
        "sentence = ' '.join(text1)\n",
        "print(sentence)\n",
        "\n"
      ],
      "metadata": {
        "colab": {
          "base_uri": "https://localhost:8080/"
        },
        "id": "cEGximmjhqSh",
        "outputId": "e683ee8e-44c8-400a-a3a5-46871ed77978"
      },
      "execution_count": null,
      "outputs": [
        {
          "output_type": "stream",
          "name": "stdout",
          "text": [
            "My teacher assistant is so boring.\n"
          ]
        }
      ]
    },
    {
      "cell_type": "markdown",
      "source": [
        "##### 5. "
      ],
      "metadata": {
        "id": "9md8b9f1wLkv"
      }
    },
    {
      "cell_type": "markdown",
      "source": [
        "Explanation. First we modify text1 so that we can print de requested sentence. Thus, we remove the element 'teacher', replace the element 'assistant' with 'TA', and replace 'boring.' with 'boring,'. Second, we create text2, which includes the missing elements in text1 to complete the requested sentence. We then use the extend method to add the text2 list elements to previously modified text1 list."
      ],
      "metadata": {
        "id": "WPEcMVXHwY8E"
      }
    },
    {
      "cell_type": "code",
      "source": [
        "text1.remove('teacher')\n",
        "text1[1] = 'TA'\n",
        "text1[4] = 'boring,'\n",
        "text2 = ['but', 'is', 'very', 'funny.']\n",
        "text1.extend(text2)\n",
        "print(' '.join(text1))"
      ],
      "metadata": {
        "colab": {
          "base_uri": "https://localhost:8080/"
        },
        "id": "wi5T0OXQX1IR",
        "outputId": "e31fdaf8-f377-4fbd-da32-5cd4485fd03c"
      },
      "execution_count": null,
      "outputs": [
        {
          "output_type": "stream",
          "name": "stdout",
          "text": [
            "My TA is so boring, but is very funny.\n"
          ]
        }
      ]
    },
    {
      "cell_type": "markdown",
      "source": [
        "##### 6."
      ],
      "metadata": {
        "id": "Vuii8lfMwOLE"
      }
    },
    {
      "cell_type": "markdown",
      "source": [
        "Explanation. First, we use the functions max and min to get the max and min value of list values1. Second, we use the list.index() method the find the index in the max and min value. Third, we use the f-string method to print the requested sentence and insert the max/min values and their respective indexes."
      ],
      "metadata": {
        "id": "Q2TwdhkCxhgO"
      }
    },
    {
      "cell_type": "code",
      "source": [
        "print(f'The max value of values1 is {max(values1)} and is located in the {values1.index(max(values1))} index')\n",
        "print(f'The min value of values1 is {min(values1)} and is located in the {values1.index(min(values1))} index')"
      ],
      "metadata": {
        "colab": {
          "base_uri": "https://localhost:8080/"
        },
        "id": "L2M_R6sNYDXZ",
        "outputId": "24aa70ee-9075-4ec4-b89b-190d0f2aa71a"
      },
      "execution_count": null,
      "outputs": [
        {
          "output_type": "stream",
          "name": "stdout",
          "text": [
            "The max value of values1 is 86 and is located in the 0 index\n",
            "The min value of values1 is 0 and is located in the 7 index\n"
          ]
        }
      ]
    },
    {
      "cell_type": "markdown",
      "source": [
        "##### 7."
      ],
      "metadata": {
        "id": "_2yRbFnQwPws"
      }
    },
    {
      "cell_type": "markdown",
      "source": [
        "Explanation. First. We use the split method to split each full name in list las_and_name by \", \" into to groups: names and last_names. Second, we use indexes to store the requested part of the full name. In the case of names, we use [1:] to store the second half, and in the case of last_names we use [:1] to store the first half. Third, we use the index method again to call the first element of each half, so that we get rid of double square brackets. Fourth, we use the map and lambda method to apply the functions described above to each element of the last_and_name list."
      ],
      "metadata": {
        "id": "F-n1-4IlyK3m"
      }
    },
    {
      "cell_type": "code",
      "source": [
        "names = list(map(lambda x: x.split(\", \")[1:][0], last_and_name))\n",
        "last_names = list(map(lambda x: x.split(\", \")[:1][0], last_and_name))"
      ],
      "metadata": {
        "id": "p3tFtJeyYFMK"
      },
      "execution_count": null,
      "outputs": []
    },
    {
      "cell_type": "markdown",
      "source": [
        "#### 8.\n",
        "Explanation. First, we create a list of empty emails index based on emails list. To achieve this objective, we use a list of comprehension and use the enumerate method. Then, we create a list of students who have no email matching the previous list of empty emails index with the list of last names."
      ],
      "metadata": {
        "id": "gaxpjlAtYNPy"
      }
    },
    {
      "cell_type": "code",
      "source": [
        "empty_emails_index = [i for i, email in enumerate(emails) if email == \"\"]\n",
        "have_no_email = [last_names[i] for i in empty_emails_index]\n",
        "have_no_email"
      ],
      "metadata": {
        "colab": {
          "base_uri": "https://localhost:8080/"
        },
        "id": "mrE2vwRoYKfh",
        "outputId": "2a4218bb-e454-4577-aa01-7b7e741260dd"
      },
      "execution_count": null,
      "outputs": [
        {
          "output_type": "execute_result",
          "data": {
            "text/plain": [
              "['HUANCAYA IDONE',\n",
              " 'CALVO PORTOCARRERO',\n",
              " 'IBAÑEZ ABANTO',\n",
              " 'MELÉNDEZ APONTE',\n",
              " 'CRISTIAN SERRANO',\n",
              " 'ANGLAS GARCÍA',\n",
              " 'ALDAVE ACOSTA',\n",
              " 'NÚÑEZ HUAMÁN',\n",
              " 'OBREGON HUAMAN',\n",
              " 'SOTO PACHERRES',\n",
              " 'INGARUCA RIVERA',\n",
              " 'ROJAS HUAMAN',\n",
              " 'NEYRA SALAS',\n",
              " 'HUERTA ESPINOZA',\n",
              " 'HUANCA MARTINEZ']"
            ]
          },
          "metadata": {},
          "execution_count": 8
        }
      ]
    },
    {
      "cell_type": "markdown",
      "metadata": {
        "id": "L9pLGOIa9k7X"
      },
      "source": [
        "## 1.3 Strings\n",
        "\n",
        "\n",
        "1. Drop the duplicated blank spaces in `str1`. Do not use the regular expresions. Do not use the code shown in class. Explain your steps.**Hint: Use `split` method and `join` function.**"
      ]
    },
    {
      "cell_type": "code",
      "execution_count": null,
      "metadata": {
        "id": "rgeQFKLG9k7X"
      },
      "outputs": [],
      "source": [
        "str1 = 'I am                            too                                                        old'"
      ]
    },
    {
      "cell_type": "code",
      "source": [
        "#Primero empleamos el comando split() para separar la cadena de texto en los elementos separados por espacios en blanco, es decir: I, am, too y old\n",
        "str2 = str1.split() #asignamos el resultado a una variable llamada str2"
      ],
      "metadata": {
        "id": "AWvc6Jle6Ytl"
      },
      "execution_count": null,
      "outputs": []
    },
    {
      "cell_type": "code",
      "source": [
        "str2 #el comando parece generar una lista con los elementos señalados"
      ],
      "metadata": {
        "colab": {
          "base_uri": "https://localhost:8080/"
        },
        "id": "G_UENXkR6Y4P",
        "outputId": "f5d273e9-d65a-4436-ab54-12e8e520a1fc"
      },
      "execution_count": null,
      "outputs": [
        {
          "output_type": "execute_result",
          "data": {
            "text/plain": [
              "['I', 'am', 'too', 'old']"
            ]
          },
          "metadata": {},
          "execution_count": 3
        }
      ]
    },
    {
      "cell_type": "code",
      "source": [
        "type(str2) #efectivamente, el resultado es una lista"
      ],
      "metadata": {
        "colab": {
          "base_uri": "https://localhost:8080/"
        },
        "id": "Irt2CBEe6Y7M",
        "outputId": "fe57e0b2-1024-4b3b-8b3b-e14121a52267"
      },
      "execution_count": null,
      "outputs": [
        {
          "output_type": "execute_result",
          "data": {
            "text/plain": [
              "list"
            ]
          },
          "metadata": {},
          "execution_count": 4
        }
      ]
    },
    {
      "cell_type": "code",
      "source": [
        "#Luego unimos estos elementos, pero separando cada componente por un único espacio vacío. La diferencia entre str1 y str3 será que str3 separa los elementos por un único espacio vacío y no por múltiples (como ocurre con str1)\n",
        "str3 = \" \".join(str2) #asignaremos los resultados a la variable str3\n",
        "#Imprimimos el resultado\n",
        "print(str3)"
      ],
      "metadata": {
        "colab": {
          "base_uri": "https://localhost:8080/"
        },
        "id": "-PEKkpZI6Y-g",
        "outputId": "8146edb1-df77-40a6-b667-8f593d75da6f"
      },
      "execution_count": null,
      "outputs": [
        {
          "output_type": "stream",
          "name": "stdout",
          "text": [
            "I am too old\n"
          ]
        }
      ]
    },
    {
      "cell_type": "markdown",
      "source": [
        "2. Get the number of letters in the string .**Hint: Use `len`function.**\n"
      ],
      "metadata": {
        "id": "Z0bKKtXo6yg_"
      }
    },
    {
      "cell_type": "code",
      "source": [
        "len(str3) #notamos que el comando len() nos da el número total de caracteres en str3 (incluídos los espacios en blanco)\n"
      ],
      "metadata": {
        "colab": {
          "base_uri": "https://localhost:8080/"
        },
        "id": "MvcVhRqr6ZBS",
        "outputId": "58390156-219d-4a98-f3ce-59b09538e288"
      },
      "execution_count": null,
      "outputs": [
        {
          "output_type": "execute_result",
          "data": {
            "text/plain": [
              "12"
            ]
          },
          "metadata": {},
          "execution_count": 6
        }
      ]
    },
    {
      "cell_type": "code",
      "source": [
        "#si queremos contar el número de letras en el string podemos contar el total de caracteres y restarle el número de espacios en blanco del string, de la siguiente forma:\n",
        "len(str3) - str3.count(' ')\n",
        "#Luego, hay 9 letras en str3"
      ],
      "metadata": {
        "colab": {
          "base_uri": "https://localhost:8080/"
        },
        "id": "at7u-HH77NrJ",
        "outputId": "a011c9d5-bf31-4375-be08-66ce648d911c"
      },
      "execution_count": null,
      "outputs": [
        {
          "output_type": "execute_result",
          "data": {
            "text/plain": [
              "9"
            ]
          },
          "metadata": {},
          "execution_count": 7
        }
      ]
    },
    {
      "cell_type": "code",
      "source": [
        "#Una alternativa al uso del comando count (junto a len) es emplear el comando sum con una expresión de generación. \n",
        "#Aquí nis interesa unicamente sumar los caracteres de los elementos en el str3, es decir, las letras de las palabras y no los espacios en blanco\n",
        "str3.split() #recordemos que con el comando split obtenemos la lista de palabras que conforman str3"
      ],
      "metadata": {
        "colab": {
          "base_uri": "https://localhost:8080/"
        },
        "id": "qx3T-2ZO7NxH",
        "outputId": "50ed8374-f28f-40aa-d4f6-21ac9c703b80"
      },
      "execution_count": null,
      "outputs": [
        {
          "output_type": "execute_result",
          "data": {
            "text/plain": [
              "['I', 'am', 'too', 'old']"
            ]
          },
          "metadata": {},
          "execution_count": 8
        }
      ]
    },
    {
      "cell_type": "code",
      "source": [
        "#Luego, podemos sumar las letras de los elementos de esta lista, lo que es equivalente a contar las letras (y no los espacios en blanco de str3)\n",
        "sum(len(x) for x in str3.split())"
      ],
      "metadata": {
        "colab": {
          "base_uri": "https://localhost:8080/"
        },
        "id": "SdIfs6YW7N4Z",
        "outputId": "5e0f84c6-0a95-4377-949c-55bfd7f1d033"
      },
      "execution_count": null,
      "outputs": [
        {
          "output_type": "execute_result",
          "data": {
            "text/plain": [
              "9"
            ]
          },
          "metadata": {},
          "execution_count": 9
        }
      ]
    },
    {
      "cell_type": "markdown",
      "source": [
        "3. Get the number of blank spaces (all of them) in the string .**Hint: Use `len`function.**"
      ],
      "metadata": {
        "id": "MBPKOggC63ln"
      }
    },
    {
      "cell_type": "code",
      "source": [
        "#Podemos contar el número total de caracteres en el str1 y restarle el número de letras. Dado que en el str1 solo hay letras y espacios en blanco, esta resta nos da el número de espacios en blanco en str3\n",
        "len(str1) - len(str1.replace(\" \", \"\")) #En el segundo términos hemos reemplazado cada espacio en blanco con un empty string \n",
        "\n"
      ],
      "metadata": {
        "colab": {
          "base_uri": "https://localhost:8080/"
        },
        "id": "ZUt34pPM6uVd",
        "outputId": "ca2b908a-cdbe-4192-ebb0-1faf1e941173"
      },
      "execution_count": null,
      "outputs": [
        {
          "output_type": "execute_result",
          "data": {
            "text/plain": [
              "85"
            ]
          },
          "metadata": {},
          "execution_count": 10
        }
      ]
    },
    {
      "cell_type": "code",
      "source": [
        "#Análogamente, puede calcularse el número de espacios en blanco para str3\n",
        "len(str3) - len(str3.replace(\" \", \"\"))\n",
        "#Luego, en str1 se identifican 85 espacios en blanco y en str3 se identifican solo 3"
      ],
      "metadata": {
        "colab": {
          "base_uri": "https://localhost:8080/"
        },
        "id": "pJxl9Ap16uZU",
        "outputId": "07bbc6ff-3260-42ca-8198-31dfd1640ea7"
      },
      "execution_count": null,
      "outputs": [
        {
          "output_type": "execute_result",
          "data": {
            "text/plain": [
              "3"
            ]
          },
          "metadata": {},
          "execution_count": 11
        }
      ]
    },
    {
      "cell_type": "markdown",
      "source": [
        "\n",
        "4. Get the position of `@` in each string in the emails list. **Hint: Use `map`function and `find` method.**\n",
        "\n",
        "\n"
      ],
      "metadata": {
        "id": "sKXe_wDn65WP"
      }
    },
    {
      "cell_type": "code",
      "source": [
        "emails = [\"cscornejo@pucp.edu.pe\", \"orellana.cn@pucp.edu.pe\", \"karina.morales@pucp.edu.pe\", \"a20083223@pucp.pe\", \"abel.camacho@pucp.pe\", \"mtintaya@pucp.edu.pe\", \"joselin.chavez@pucp.edu.pe\", \"a20105737@pucp.pe\", \"jfgomezc@pucp.pe\", \"afrania.palomino@pucp.pe\", \"luzon.bianca@pucp.pe\", \"adrian.suanaz@pucp.pe\", \"soto.y@pucp.edu.pe\", \"a20132766@pucp.pe\", \"andre.lama@pucp.edu.pe\", \"gustavo.meza@pucp.edu.pe\", \"pmlozada@pucp.edu.pe\", \"m.zambranoj@pucp.edu.pe\", \"nicolas.jacobs@pucp.edu.pe\", \"gvidal@pucp.edu.pe\", \"jane.torres@pucp.edu.pe\", \"m.lopez@pucp.edu.pe\", \"alejandro.boyco@pucp.edu.pe\", \"a20167070@pucp.edu.pe\", \"riega.stephy@pucp.edu.pe\", \"vlevanot@pucp.edu.pe\", \"sesquives@pucp.edu.pe\", \"perez.juanc@pucp.edu.pe\", \"mariana.otero@pucp.edu.pe\", \"aclavo@pucp.edu.pe\", \"a20182474@pucp.edu.pe\", \"josue.caldas@pucp.edu.pe\", \"fabio.salas@pucp.edu.pe\", \"fernanda.pizarro@pucp.edu.pe\", \"aquillatupa@pucp.pe\"]"
      ],
      "metadata": {
        "id": "6bQhqjHx6ucx"
      },
      "execution_count": null,
      "outputs": []
    },
    {
      "cell_type": "code",
      "source": [
        "emails[0].find(\"@\") #vemos que la función find identifica la posición del caracter especificado entre paréntesis. \n",
        "#En el caso del primer componente de la lista emails, \"@\" aparece en la 10ma posición"
      ],
      "metadata": {
        "colab": {
          "base_uri": "https://localhost:8080/"
        },
        "id": "WWgXTD0q7hXX",
        "outputId": "dc380a28-70ca-498a-bbb1-e04175c60ff6"
      },
      "execution_count": null,
      "outputs": [
        {
          "output_type": "execute_result",
          "data": {
            "text/plain": [
              "9"
            ]
          },
          "metadata": {},
          "execution_count": 13
        }
      ]
    },
    {
      "cell_type": "code",
      "source": [
        "#La lista emails contiene 35 elementos, es decir, hay 35 correos que deberán ser evaluados\n",
        "len(emails)"
      ],
      "metadata": {
        "colab": {
          "base_uri": "https://localhost:8080/"
        },
        "id": "v1OmF-Nh7hbA",
        "outputId": "72edf530-382f-46df-f54d-a6c981da6d6b"
      },
      "execution_count": null,
      "outputs": [
        {
          "output_type": "execute_result",
          "data": {
            "text/plain": [
              "35"
            ]
          },
          "metadata": {},
          "execution_count": 14
        }
      ]
    },
    {
      "cell_type": "code",
      "source": [
        "identi = (0,1,2,3,4,5,6,7,8,9,10,11,12,13,14,15,16,17,18,19,20,21,22,23,24,25,26,27,28,29,30,31,32,33,34)\n",
        "print(identi) #generamos una tupla de 35 elementos para que nos sirvan como identificadores de los componenetes de la lista"
      ],
      "metadata": {
        "colab": {
          "base_uri": "https://localhost:8080/"
        },
        "id": "RUCsTZWC7gJC",
        "outputId": "c9b7e1bf-dfb7-4649-c07d-72bfa58b80e2"
      },
      "execution_count": null,
      "outputs": [
        {
          "output_type": "stream",
          "name": "stdout",
          "text": [
            "(0, 1, 2, 3, 4, 5, 6, 7, 8, 9, 10, 11, 12, 13, 14, 15, 16, 17, 18, 19, 20, 21, 22, 23, 24, 25, 26, 27, 28, 29, 30, 31, 32, 33, 34)\n"
          ]
        }
      ]
    },
    {
      "cell_type": "code",
      "source": [
        "#Luego definimos una función que recorra cada elemento de la lista emails identificando la posición que toma \"@\" en cada correo\n",
        "def found(n):\n",
        "    return emails[n].find(\"@\")"
      ],
      "metadata": {
        "id": "tm-y4XuN7gUW"
      },
      "execution_count": null,
      "outputs": []
    },
    {
      "cell_type": "code",
      "source": [
        "#la función map nos da un map object de los resultados tras aplicar una función a cada objeto dentro de un iterable, en nuestro caso será dentro de una tupla (identi)\n",
        "resultado = map(found, identi)\n",
        "print(list(resultado)) #imprimimos los resultados"
      ],
      "metadata": {
        "colab": {
          "base_uri": "https://localhost:8080/"
        },
        "id": "esjfp6UH7s-m",
        "outputId": "eaab9dce-5549-4f74-f940-3225917d4f4c"
      },
      "execution_count": null,
      "outputs": [
        {
          "output_type": "stream",
          "name": "stdout",
          "text": [
            "[9, 11, 14, 9, 12, 8, 14, 9, 8, 16, 12, 13, 6, 9, 10, 12, 8, 11, 14, 6, 11, 7, 15, 9, 12, 8, 9, 11, 13, 6, 9, 12, 11, 16, 11]\n"
          ]
        }
      ]
    },
    {
      "cell_type": "code",
      "source": [
        "#Recordemos que Python comienza la cuenta desde 0, por ello un elemento de valor k en la anterior lista en realidad corresponde con la posicón k+1 "
      ],
      "metadata": {
        "id": "QlRfdtds7tCo"
      },
      "execution_count": null,
      "outputs": []
    },
    {
      "cell_type": "markdown",
      "source": [
        "5. Identifies if exists `.edu.`  in each string in the `emails` list. Get a list of Booleans. **Hint: Use `map`function and `find` method.**\n",
        "\n"
      ],
      "metadata": {
        "id": "Xm8dtzTX7Em9"
      }
    },
    {
      "cell_type": "code",
      "source": [
        "print(emails)\n",
        "#notemos que el cuarto elemento no está conformado por un \".edu.\""
      ],
      "metadata": {
        "colab": {
          "base_uri": "https://localhost:8080/"
        },
        "id": "S4dPhw9H6ufp",
        "outputId": "2940ba24-7dad-46e4-f128-9348461499d5"
      },
      "execution_count": null,
      "outputs": [
        {
          "output_type": "stream",
          "name": "stdout",
          "text": [
            "['cscornejo@pucp.edu.pe', 'orellana.cn@pucp.edu.pe', 'karina.morales@pucp.edu.pe', 'a20083223@pucp.pe', 'abel.camacho@pucp.pe', 'mtintaya@pucp.edu.pe', 'joselin.chavez@pucp.edu.pe', 'a20105737@pucp.pe', 'jfgomezc@pucp.pe', 'afrania.palomino@pucp.pe', 'luzon.bianca@pucp.pe', 'adrian.suanaz@pucp.pe', 'soto.y@pucp.edu.pe', 'a20132766@pucp.pe', 'andre.lama@pucp.edu.pe', 'gustavo.meza@pucp.edu.pe', 'pmlozada@pucp.edu.pe', 'm.zambranoj@pucp.edu.pe', 'nicolas.jacobs@pucp.edu.pe', 'gvidal@pucp.edu.pe', 'jane.torres@pucp.edu.pe', 'm.lopez@pucp.edu.pe', 'alejandro.boyco@pucp.edu.pe', 'a20167070@pucp.edu.pe', 'riega.stephy@pucp.edu.pe', 'vlevanot@pucp.edu.pe', 'sesquives@pucp.edu.pe', 'perez.juanc@pucp.edu.pe', 'mariana.otero@pucp.edu.pe', 'aclavo@pucp.edu.pe', 'a20182474@pucp.edu.pe', 'josue.caldas@pucp.edu.pe', 'fabio.salas@pucp.edu.pe', 'fernanda.pizarro@pucp.edu.pe', 'aquillatupa@pucp.pe']\n"
          ]
        }
      ]
    },
    {
      "cell_type": "code",
      "source": [
        "emails[3].find(\".edu.\") #el resultado de identificar la posición de \".edu.\" en dicho elemento es -1 (esto también ocurre con el resto de elementos que no contienen el \".edu.\")\n",
        "#Luego, podemos identificar a estos elementos con el -1 y luego convertirlos en booleanos"
      ],
      "metadata": {
        "colab": {
          "base_uri": "https://localhost:8080/"
        },
        "id": "AvDADhmZ6uiv",
        "outputId": "e2a8479f-7b1b-49dd-aa97-0ca529198d02"
      },
      "execution_count": null,
      "outputs": [
        {
          "output_type": "execute_result",
          "data": {
            "text/plain": [
              "-1"
            ]
          },
          "metadata": {},
          "execution_count": 19
        }
      ]
    },
    {
      "cell_type": "code",
      "source": [
        "#Definimos una función similar a la del ejercicio anterio, con la consideración de que nos interesa identificar la posición de \".edu.\"\n",
        "def found2(n):\n",
        "    return emails[n].find(\".edu.\")"
      ],
      "metadata": {
        "id": "h6853DqI724s"
      },
      "execution_count": null,
      "outputs": []
    },
    {
      "cell_type": "code",
      "source": [
        "#Luego aplicamos la función map para generar una lista que refiera la posición de \".edu.\" en cada correo de emails\n",
        "resultado2 = map(found2, identi) #aprovechamos la tupla anteriormente generada de identi\n",
        "positionx=list(resultado2) #guardamos en la lista como positionx\n",
        "print(positionx) #imprimimos los resultados"
      ],
      "metadata": {
        "colab": {
          "base_uri": "https://localhost:8080/"
        },
        "id": "M3PPbEah727k",
        "outputId": "cc701f25-2985-43b0-b66f-e1c1c1150903"
      },
      "execution_count": null,
      "outputs": [
        {
          "output_type": "stream",
          "name": "stdout",
          "text": [
            "[14, 16, 19, -1, -1, 13, 19, -1, -1, -1, -1, -1, 11, -1, 15, 17, 13, 16, 19, 11, 16, 12, 20, 14, 17, 13, 14, 16, 18, 11, 14, 17, 16, 21, -1]\n"
          ]
        }
      ]
    },
    {
      "cell_type": "code",
      "source": [
        "#Podemos generar una condición para que los elementos de la lista se correspondan con un booleano. True serán los casos en los que el correo considera el \".edu.\", False el caso contrario\n",
        "#Aquí aprovechamos que todos los correos que no cuentan con \".edu.\", son identificados por un -1 tras la aplicación del método find\n",
        "for i in range(len(positionx)):\n",
        "  \n",
        "    # reemplaza el elemento por True\n",
        "    if positionx[i] >=0:\n",
        "        positionx[i] = True\n",
        "  \n",
        "    # reemplaza el elemento por False\n",
        "    if positionx[i] <0:\n",
        "        positionx[i] = False\n",
        "  \n",
        "# print list\n",
        "print(positionx)"
      ],
      "metadata": {
        "colab": {
          "base_uri": "https://localhost:8080/"
        },
        "id": "ZlgagarI72-c",
        "outputId": "f5ecfb90-4557-459e-e8e6-94b4adb3d352"
      },
      "execution_count": null,
      "outputs": [
        {
          "output_type": "stream",
          "name": "stdout",
          "text": [
            "[True, True, True, False, False, True, True, False, False, False, False, False, True, False, True, True, True, True, True, True, True, True, True, True, True, True, True, True, True, True, True, True, True, True, False]\n"
          ]
        }
      ]
    },
    {
      "cell_type": "markdown",
      "source": [
        "6. Get all the strings before the first dot `.`in each string in the `emails` list. Identifies how many of them has `@`. **Hint: Use `map`function and `find` method.**"
      ],
      "metadata": {
        "id": "wdNwx9qY7HL2"
      }
    },
    {
      "cell_type": "code",
      "source": [
        "emails[0].split(\".\") #podemos separar un elemento string de una lista con el método split. \n",
        "#La línea anterior recoje el primer elemento de la lista y lo separa en los substrings separados por un punto"
      ],
      "metadata": {
        "colab": {
          "base_uri": "https://localhost:8080/"
        },
        "id": "KNspwxIT6ulv",
        "outputId": "9782a298-1f9c-44f3-96c9-bac06d2127cd"
      },
      "execution_count": null,
      "outputs": [
        {
          "output_type": "execute_result",
          "data": {
            "text/plain": [
              "['cscornejo@pucp', 'edu', 'pe']"
            ]
          },
          "metadata": {},
          "execution_count": 23
        }
      ]
    },
    {
      "cell_type": "code",
      "source": [
        "emails[0].split(\".\")[0] #Luego, podemos quedarnos con el primer elemento aplicando un nuevo indexing"
      ],
      "metadata": {
        "colab": {
          "base_uri": "https://localhost:8080/",
          "height": 35
        },
        "id": "yUoEPLlH8AWu",
        "outputId": "82b2622b-9e32-44ff-fe5d-0ee56de9da75"
      },
      "execution_count": null,
      "outputs": [
        {
          "output_type": "execute_result",
          "data": {
            "text/plain": [
              "'cscornejo@pucp'"
            ],
            "application/vnd.google.colaboratory.intrinsic+json": {
              "type": "string"
            }
          },
          "metadata": {},
          "execution_count": 24
        }
      ]
    },
    {
      "cell_type": "code",
      "source": [
        "#De manera más general, podemos definir una función que extraiga la primera parte de un string (antes del punto) de cada elemento dentro de una lista\n",
        "def found3(n):\n",
        "    return emails[n].split(\".\")[0]"
      ],
      "metadata": {
        "id": "fIGfVbjv8AZn"
      },
      "execution_count": null,
      "outputs": []
    },
    {
      "cell_type": "code",
      "source": [
        "resultado3 = map(found3, identi) #aprovechamos la tupla anteriormente generada de identi\n",
        "position_s=list(resultado3) #guardamos en la lista como position_s\n",
        "print(position_s)"
      ],
      "metadata": {
        "colab": {
          "base_uri": "https://localhost:8080/"
        },
        "id": "KGTJO0jf8EFz",
        "outputId": "49b72888-83a0-47e7-ae40-8a002cfd2c82"
      },
      "execution_count": null,
      "outputs": [
        {
          "output_type": "stream",
          "name": "stdout",
          "text": [
            "['cscornejo@pucp', 'orellana', 'karina', 'a20083223@pucp', 'abel', 'mtintaya@pucp', 'joselin', 'a20105737@pucp', 'jfgomezc@pucp', 'afrania', 'luzon', 'adrian', 'soto', 'a20132766@pucp', 'andre', 'gustavo', 'pmlozada@pucp', 'm', 'nicolas', 'gvidal@pucp', 'jane', 'm', 'alejandro', 'a20167070@pucp', 'riega', 'vlevanot@pucp', 'sesquives@pucp', 'perez', 'mariana', 'aclavo@pucp', 'a20182474@pucp', 'josue', 'fabio', 'fernanda', 'aquillatupa@pucp']\n"
          ]
        }
      ]
    },
    {
      "cell_type": "code",
      "source": [
        "#Ahora podemos evaluar esta lista (position_s) para ver si sus elementos contienen un \"@\". \n",
        "#De forma similar al ejercicio anterior aplicaremos el método find y la función map"
      ],
      "metadata": {
        "id": "wVSsVJOS8EIk"
      },
      "execution_count": null,
      "outputs": []
    },
    {
      "cell_type": "code",
      "source": [
        "#Definimos la función found4 para identificar la posición del \"@\" en el n-ésimo elemento de la lista position_s\n",
        "def found4(n):\n",
        "    return position_s[n].find(\"@\")\n",
        "#Recordemos que los string que no contengan un \"@\" serán identificados con un -1"
      ],
      "metadata": {
        "id": "S7MBFdIV8IO9"
      },
      "execution_count": null,
      "outputs": []
    },
    {
      "cell_type": "code",
      "source": [
        "resultado4 = map(found4, identi) #también aprovechamos la tupla anteriormente generada de identi\n",
        "position_a=list(resultado4) #guardamos en la lista como position_a\n",
        "print(position_a) #imprimimos los resultados"
      ],
      "metadata": {
        "colab": {
          "base_uri": "https://localhost:8080/"
        },
        "id": "s1I-SNiz8ISQ",
        "outputId": "bbec36a1-eda0-48df-de88-131549a740bf"
      },
      "execution_count": null,
      "outputs": [
        {
          "output_type": "stream",
          "name": "stdout",
          "text": [
            "[9, -1, -1, 9, -1, 8, -1, 9, 8, -1, -1, -1, -1, 9, -1, -1, 8, -1, -1, 6, -1, -1, -1, 9, -1, 8, 9, -1, -1, 6, 9, -1, -1, -1, 11]\n"
          ]
        }
      ]
    },
    {
      "cell_type": "code",
      "source": [
        "#Para la identificación de los string que incluyen un \"@\" hacemos uso de otro condicional. La intuición es la siguiente: \n",
        "\n",
        "for i in range(len(position_a)):\n",
        "  \n",
        "    # si el i-ésimo elemento contiene a @ reemplaza el elemento en la lista por True\n",
        "    if position_a[i] >=0:\n",
        "        position_a[i] = True\n",
        "  \n",
        "    # si el i-ésimo elemento no contiene a @ reemplaza el elemento por False\n",
        "    if position_a[i] <0:\n",
        "        position_a[i] = False\n",
        "  \n",
        "# print list\n",
        "print(position_a)"
      ],
      "metadata": {
        "colab": {
          "base_uri": "https://localhost:8080/"
        },
        "id": "tYOKqasi8ELc",
        "outputId": "21b2782e-81d5-43ce-c0db-7c8ab9b70800"
      },
      "execution_count": null,
      "outputs": [
        {
          "output_type": "stream",
          "name": "stdout",
          "text": [
            "[True, False, False, True, False, True, False, True, True, False, False, False, False, True, False, False, True, False, False, True, False, False, False, True, False, True, True, False, False, True, True, False, False, False, True]\n"
          ]
        }
      ]
    },
    {
      "cell_type": "code",
      "source": [
        "#Finalmente, contamos el número de elementos True, pues estos corresponden con strings que incluyen un \"@\"\n",
        "position_a.count(True)"
      ],
      "metadata": {
        "colab": {
          "base_uri": "https://localhost:8080/"
        },
        "id": "Eo9Mzcrk8PHY",
        "outputId": "eb01fc01-32cf-45ad-94c7-ef2e00e5f3ac"
      },
      "execution_count": null,
      "outputs": [
        {
          "output_type": "execute_result",
          "data": {
            "text/plain": [
              "14"
            ]
          },
          "metadata": {},
          "execution_count": 31
        }
      ]
    },
    {
      "cell_type": "code",
      "source": [],
      "metadata": {
        "id": "MttslWrs9en4"
      },
      "execution_count": null,
      "outputs": []
    },
    {
      "cell_type": "markdown",
      "source": [
        "##### ALTERNATIVE SOLUTIONS"
      ],
      "metadata": {
        "id": "L40cWd_79CvE"
      }
    },
    {
      "cell_type": "markdown",
      "source": [
        "##### 1."
      ],
      "metadata": {
        "id": "e_AcwWzM2MiK"
      }
    },
    {
      "cell_type": "markdown",
      "source": [
        "Explanation. First, we use the split function to create a list of words without whitespaces. Second, we use the join function to join the previously created list of words, using ' ' as separation between words. Third, we print. "
      ],
      "metadata": {
        "id": "kKKExuSz1WhO"
      }
    },
    {
      "cell_type": "code",
      "source": [
        "# 1.\n",
        "print(' '.join(str1.split()))"
      ],
      "metadata": {
        "colab": {
          "base_uri": "https://localhost:8080/"
        },
        "id": "0SthemBg9hQ9",
        "outputId": "3653969c-f426-4b4e-f277-d86d0a98d546"
      },
      "execution_count": null,
      "outputs": [
        {
          "output_type": "stream",
          "name": "stdout",
          "text": [
            "I am too old\n"
          ]
        }
      ]
    },
    {
      "cell_type": "markdown",
      "source": [
        "##### 2. "
      ],
      "metadata": {
        "id": "dDn541-s2OnK"
      }
    },
    {
      "cell_type": "markdown",
      "source": [
        "Explanation. First, we use a list of comprehension to iterate over each character of str1. Second, we use the function isspace() to discard whitespaces, and isnumeric() to discard numbers. So that, we only keep letters. Third, we store the elements the matches the previuosly set conditions in the list letters. Finally, we use the f-string method to print the requested sentence and insert the length of list letters into this sentence to show the number of letters. "
      ],
      "metadata": {
        "id": "Jr9_u2Lb2Qe9"
      }
    },
    {
      "cell_type": "code",
      "source": [
        "# 2. First way to do number 2 excercise:\n",
        "letters = [i for i in str1 if i.isspace() == False and i.isnumeric() == False]\n",
        "print(f'The number of letters is: {len(letters)}')"
      ],
      "metadata": {
        "colab": {
          "base_uri": "https://localhost:8080/"
        },
        "id": "Ra8JhSSB9kdF",
        "outputId": "89ba916d-c3a0-486d-952e-507abd815b48"
      },
      "execution_count": null,
      "outputs": [
        {
          "output_type": "stream",
          "name": "stdout",
          "text": [
            "The number of letters is: 9\n"
          ]
        }
      ]
    },
    {
      "cell_type": "markdown",
      "source": [
        "Explanation. Alternatively, we show here a straightforward way to achieve the same result as above. We just use the function isalpha() to match any character of str1 list to be a letter. We then repeat the procedure. "
      ],
      "metadata": {
        "id": "nHbYQqON3Fi6"
      }
    },
    {
      "cell_type": "code",
      "source": [
        "# 2. Second way to do number 2 excercise:\n",
        "letters = [i for i in str1 if i.isalpha()]\n",
        "print(f'The number of letters is: {len(letters)}')"
      ],
      "metadata": {
        "colab": {
          "base_uri": "https://localhost:8080/"
        },
        "id": "z_vzBnX79rXd",
        "outputId": "5cf352f6-0b58-4073-affc-42cc22125ff7"
      },
      "execution_count": null,
      "outputs": [
        {
          "output_type": "stream",
          "name": "stdout",
          "text": [
            "The number of letters is: 9\n"
          ]
        }
      ]
    },
    {
      "cell_type": "markdown",
      "source": [
        "##### 3."
      ],
      "metadata": {
        "id": "6sXDvyUR3iMn"
      }
    },
    {
      "cell_type": "markdown",
      "source": [
        "Explanation. We use the same procedures as describe above. In this case, since we are requested the number of whitespaces, we use the function isspace() to match and store any character of str1 that meets the condition. Then, we repeat the procedure. "
      ],
      "metadata": {
        "id": "aWZu0JAt3jbS"
      }
    },
    {
      "cell_type": "code",
      "source": [
        "# 3.\n",
        "whitespaces = [i for i in str1 if i.isspace()]\n",
        "print(f'The number of whitespaces is: {len(whitespaces)}')"
      ],
      "metadata": {
        "colab": {
          "base_uri": "https://localhost:8080/"
        },
        "id": "OuEnY37L9yrt",
        "outputId": "365fa1f5-4395-472c-aa91-6a77b09fca9d"
      },
      "execution_count": null,
      "outputs": [
        {
          "output_type": "stream",
          "name": "stdout",
          "text": [
            "The number of whitespaces is: 85\n"
          ]
        }
      ]
    }
  ],
  "metadata": {
    "hide_input": false,
    "kernelspec": {
      "display_name": "Python 3 (ipykernel)",
      "language": "python",
      "name": "python3"
    },
    "language_info": {
      "codemirror_mode": {
        "name": "ipython",
        "version": 3
      },
      "file_extension": ".py",
      "mimetype": "text/x-python",
      "name": "python",
      "nbconvert_exporter": "python",
      "pygments_lexer": "ipython3",
      "version": "3.9.13"
    },
    "toc": {
      "base_numbering": 1,
      "nav_menu": {},
      "number_sections": true,
      "sideBar": true,
      "skip_h1_title": false,
      "title_cell": "Table of Contents",
      "title_sidebar": "Contents",
      "toc_cell": false,
      "toc_position": {},
      "toc_section_display": true,
      "toc_window_display": false
    },
    "colab": {
      "provenance": []
    }
  },
  "nbformat": 4,
  "nbformat_minor": 0
}