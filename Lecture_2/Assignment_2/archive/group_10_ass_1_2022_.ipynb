{
 "cells": [
  {
   "cell_type": "markdown",
   "metadata": {},
   "source": [
    "# 1 Assignment\n",
    "\n",
    "It is totally prohibited to use any kind of loop. You can use stackoverflow. If you copy codes from previous answers, explain each step. No explanation is `0 points`."
   ]
  },
  {
   "cell_type": "markdown",
   "metadata": {},
   "source": [
    "## 1.1 Tuple\n",
    "\n",
    "\n",
    "\n",
    "1. Print the first item of the second item of `tuple1` object. **Hint: Use indexing**<br><br>\n",
    "2. Print the last item of the `tuple1` object.**Hint: Use indexing**<br><br>\n",
    "3. Change the value \"orange\" for \"pink grapefruit\". Comment the output. **Hint: Is it possible?** <br><br>\n",
    "4. Print the length of `tuple1`. **Hint: Length function**<br><br>\n",
    "5. Sum all the elements of tuple2 and describe your steps and explain each of them. **Hint: Use `map` function.**<br><br>\n",
    "6. Generate a new tuple object named as `tuple3` with the half values of `tuple2`. This tuple should be similar as `tuple2`, tuple of lists.  **Hint: Use `map` funciont.**<br><br>"
   ]
  },
  {
   "cell_type": "code",
   "execution_count": 3,
   "metadata": {},
   "outputs": [],
   "source": [
    "tuple1 = (\"Orange\", [10, 20, 30], (5, 15, 25))\n",
    "tuple2 = ([7, 8], [9, 1], [10, 7])"
   ]
  },
  {
   "cell_type": "markdown",
   "metadata": {},
   "source": [
    "## Solution 1.1"
   ]
  },
  {
   "cell_type": "code",
   "execution_count": 5,
   "metadata": {},
   "outputs": [
    {
     "name": "stdout",
     "output_type": "stream",
     "text": [
      "20\n"
     ]
    }
   ],
   "source": [
    "#1\n",
    "## to print any item of a tuple, we need to use an index. As there is a vector inside, we call two times.\n",
    "print(tuple1[1][1])\n",
    "\n",
    "## Grettel: In python, indexs are 0-based. The second element of tuple1 is [10, 20, 30] and its index is 1. Then, the first\n",
    "## element of this list is 10, and its index is 0.\n",
    "## Therefore, to print the first element of the second element, we should use the index 1 and then 0.\n",
    "print(tuple1[1][0])"
   ]
  },
  {
   "cell_type": "code",
   "execution_count": 6,
   "metadata": {},
   "outputs": [
    {
     "name": "stdout",
     "output_type": "stream",
     "text": [
      "(5, 15, 25)\n"
     ]
    }
   ],
   "source": [
    "#2\n",
    "## Last item of index, use the index :-1 \n",
    "print(tuple1[-1])\n",
    "\n",
    "#2\n",
    "## Grettel: To print the last elements of the object, you must count backwards from the last to the back. \n",
    "## The last element is called -1. In tuple1 it would (5, 15, 25).\n"
   ]
  },
  {
   "cell_type": "code",
   "execution_count": 14,
   "metadata": {},
   "outputs": [
    {
     "ename": "TypeError",
     "evalue": "'tuple' object does not support item assignment",
     "output_type": "error",
     "traceback": [
      "\u001b[1;31m---------------------------------------------------------------------------\u001b[0m",
      "\u001b[1;31mTypeError\u001b[0m                                 Traceback (most recent call last)",
      "\u001b[1;32m<ipython-input-14-1936276e0768>\u001b[0m in \u001b[0;36m<module>\u001b[1;34m\u001b[0m\n\u001b[0;32m      1\u001b[0m \u001b[1;31m#3\u001b[0m\u001b[1;33m\u001b[0m\u001b[1;33m\u001b[0m\u001b[1;33m\u001b[0m\u001b[0m\n\u001b[0;32m      2\u001b[0m \u001b[1;31m## It is not possible to change values in a tuple. It is a principle.\u001b[0m\u001b[1;33m\u001b[0m\u001b[1;33m\u001b[0m\u001b[1;33m\u001b[0m\u001b[0m\n\u001b[1;32m----> 3\u001b[1;33m \u001b[0mtuple1\u001b[0m\u001b[1;33m[\u001b[0m\u001b[1;36m1\u001b[0m\u001b[1;33m:\u001b[0m\u001b[1;36m1\u001b[0m\u001b[1;33m]\u001b[0m\u001b[1;33m=\u001b[0m\u001b[1;34m'pink grapefruit'\u001b[0m\u001b[1;33m\u001b[0m\u001b[1;33m\u001b[0m\u001b[0m\n\u001b[0m",
      "\u001b[1;31mTypeError\u001b[0m: 'tuple' object does not support item assignment"
     ]
    }
   ],
   "source": [
    "#3\n",
    "## It is not possible to change values in a tuple. It is a principle.\n",
    "tuple1[0]='pink grapefruit'\n",
    "\n",
    "#3\n",
    "## Grettel: The definition of a tuple is to contain ordered and non-changeable information, its values cannot be modified. \n",
    "## Therefore you cannot change the value \"orange\" to \"pink grapefruit\", it is impossible.\n"
   ]
  },
  {
   "cell_type": "code",
   "execution_count": 19,
   "metadata": {},
   "outputs": [
    {
     "name": "stdout",
     "output_type": "stream",
     "text": [
      "3\n"
     ]
    }
   ],
   "source": [
    "# 4\n",
    "## to print length of a tuple. We use the function len.\n",
    "print(len(tuple1))\n",
    "\n",
    "#4\n",
    "##Grettel: The len() function is used to measure the length of an object, that is, it counts the components it contains. \n",
    "##This tuple1 case has 3 elements: \"orange\" is the first element, [10, 20, 30] is the second element, \n",
    "##and (5, 15, 25) is the third element. \n"
   ]
  },
  {
   "cell_type": "code",
   "execution_count": 56,
   "metadata": {},
   "outputs": [
    {
     "data": {
      "text/plain": [
       "42"
      ]
     },
     "execution_count": 56,
     "metadata": {},
     "output_type": "execute_result"
    }
   ],
   "source": [
    "## 5 \n",
    "import numpy as np\n",
    "## sum the elements of a tuple through map function \n",
    "## First, for each element of a tupple use map to sum\n",
    "r1 = map(sum,tuple2)\n",
    "## Second, convert the list resulted in the previous step to tuple\n",
    "new_tup = tuple(list(r1))\n",
    "## third , sum elements of tuple through sum\n",
    "r2 = sum(new_tup)\n",
    "## print the result.\n",
    "r2\n",
    "\n",
    "\n",
    "tuple2 = ([7, 8], [9, 1], [10, 7])\n",
    "##Grettel: We use the map function when we want to apply a function to a list that we want to retun as a list of results. \n",
    "##The way to use map is to write the function and between the parentheses the function that you want to apply to the list,\n",
    "## and the initial list itself. In this exercise we are using tuple instead of list. Then the map will be enclosed in\n",
    "## parentheses to convert the result of the function, in this case to a tuple.  \n",
    "## Finally, the sum ( ) function is used again to add the elements that were the results of the previous sum. \n",
    "## And we print with the print( ) function.\n",
    "suma_tuple2 = (sum(tuple(map(sum,tuple2))))\n",
    "print(suma_tuple2)"
   ]
  },
  {
   "cell_type": "code",
   "execution_count": null,
   "metadata": {},
   "outputs": [],
   "source": [
    "#6\n",
    "\n",
    "##Grettel: It starts by taking the mean of tuple2, this would normally be done with the mean() function. \n",
    "## This function will be conditioned by the map function, that is, it means that the tuple2 list will be used, \n",
    "## but it will be executed inside map(). Later it will be clarified that the results must be in tuples.\n",
    "## Finally it will be assigned a name, tuple3 this variable will be called.\n",
    "tuple3 = tuple(map(mean,tuple2))\n",
    "tuple3"
   ]
  },
  {
   "cell_type": "markdown",
   "metadata": {},
   "source": [
    "## 1.2 Lists\n",
    "1. Show the indices of the `np.nan` values  in the `f_list` list. We want to see this output: `The indices 0, 1, 4, 7 have np.nan values.` **Hint: Use print function and [f-strings](https://realpython.com/python-f-strings/) to insert the indices values.**<br><br>\n",
    "\n",
    "2. Replicate 4 times the values of the list `p2_list`. We expect an ouput like this: `[ 2 , 3, 4, 5, 2 , 3, 4, 5, 2 , 3, 4, 5, 2 , 3, 4, 5]`.  **Hint: Use multiplication function in `lists`and see the output.**<br><br>\n",
    "3. Print the length of `f_list`. **Hint: Length function**<br><br>\n",
    "4. Print `My teacher assistant is so boring.` using `text1` list. **Hint: Use the [`join` function](https://stackoverflow.com/questions/493819/why-is-it-string-joinlist-instead-of-list-joinstring)**<br><br>\n",
    "5. Print `My TA is so boring, but is very funny.` using `text1` list.**Hint: Use the `join` function, and `extend` method.**<br><br>\n",
    "6. Print <br>\n",
    "`The max value of values1 is 86 and is located in the 0 index. ` <br>\n",
    "`The min value of values1 is 0 and is located in the 7 index. ` <br> **Hint: Use the `f-string`, `min`, and `max` functions.**\n",
    "<br>\n",
    "7. Get two lists: `names` and `last_names` using `last_and_name` list. **Hint: Use `map` and `split`.**\n",
    "<br>\n",
    "8. Give only the last names of students who do not have email. Use the `emails` and `last_names` listt. **Hint: Use `map` and `split`.**\n",
    "<br>"
   ]
  },
  {
   "cell_type": "code",
   "execution_count": 5,
   "metadata": {},
   "outputs": [],
   "source": [
    "import pandas as pd"
   ]
  },
  {
   "cell_type": "code",
   "execution_count": 4,
   "metadata": {},
   "outputs": [],
   "source": [
    "import numpy as np"
   ]
  },
  {
   "cell_type": "code",
   "execution_count": 7,
   "metadata": {},
   "outputs": [],
   "source": [
    "f_list = [np.nan , np.nan, \"Austria\", \"Germany\", np.nan, \"Pakistan\", \"np.nan\", np.nan ]"
   ]
  },
  {
   "cell_type": "code",
   "execution_count": 8,
   "metadata": {},
   "outputs": [],
   "source": [
    "text1 = ['My', 'teacher', 'assistant', 'is', 'so', 'boring.']"
   ]
  },
  {
   "cell_type": "code",
   "execution_count": 9,
   "metadata": {},
   "outputs": [],
   "source": [
    "p2_list = [ 2 , 3, 4, 5 ]"
   ]
  },
  {
   "cell_type": "code",
   "execution_count": 10,
   "metadata": {},
   "outputs": [],
   "source": [
    "values1 = [ 86, 86, 85, 85, 85, 83, 23, 0, 84, 1 ] "
   ]
  },
  {
   "cell_type": "code",
   "execution_count": 148,
   "metadata": {},
   "outputs": [],
   "source": [
    "# These two lists a\n",
    "last_and_name = [ \"CORNEJO SANCHEZ, CHRISTIAN SANTOS\", \"ORELLANA QUISPE, CRISTIAN NASSER\", \"MORALES CHOQUEHUANCA, ANGELICA KARINA\", \"GUIMARAY RIBEYRO, JOSE ROBERTO\", \"CAMACHO GAVIDIA, ABEL FERNANDO\", \"TINTAYA ORIHUELA, MEIR ALVARO\", \"CHAVEZ MARTINEZ, JOSELIN ALEXANDRA\", \"FIGUEROA MURO, LEONEL ARTURO\", \"GOMEZ CRIBILLERO, JOSE FELIPE\", \"PALOMINO SEGUÍN, AFRANIA\", \"LUZON CUEVA, BIANCA MARIETTE\", \"SUAÑA ZEGARRA, ADRIAN ANDRE\", \"SOTO POMACHAGUA, DORKAS YOMIRA JHERMY\", \"FIORENTINO MARTINEZ, LADY ALY\", \"LAMA MAVILA, HECTOR ANDRE\", \"MEZA HINOJO, GUSTAVO\", \"LOZADA MURILLO, PERSEO MARCELO\", \"ZAMBRANO JIMENEZ, MIGUEL ALONZO\", \"JACOBS LUQUE, NICOLAS\", \"VIDAL VIDAL, ROCIO GABRIELA\", \"TORRES ANICAMA, JANE CAMILA\", \"LOPEZ ESTRADA, MARIA ELISA\", \"BOYCO ORAMS, ALEJANDRO\", \"DIAZ BERROSPI, KARLINE ROSMELI\", \"RIEGA ESCALANTE, STEPHY ROSARIO\", \"LEVANO TORRES, VALERIA CECILIA\", \"ESQUIVES BRAVO, SEBASTIAN RENATO\", \"PEREZ GONZALES, JUAN CARLOS\", \"OTERO MAGUIÑA, MARIANA\", \"CLAVO CAMPOS, ANDREA BRIZETH\", \"AGUILAR GARCIA, ERICK JOSUE\", \"CALDAS VELASQUEZ, JOSUE DANIEL\", \"SALAS NUÑEZ BORJA, FABIO MANUEL\", \"PIZARRO VILLANES, FERNANDA NICOLLE\", \"QUILLATUPA MORALES, ANGELA ADELINA\", \"HUANCAYA IDONE, CESAR DANTE\", \"CALVO PORTOCARRERO, GABRIELA ISABEL\", \"IBAÑEZ ABANTO, ANGEL MAURICIO\", \"MELÉNDEZ APONTE, JUAN DIEGO\", \"CRISTIAN SERRANO, ARONE\", \"HINOJOSA CAHUANA, PERCY ALBERTH\", \"ANGLAS GARCÍA, KEVIN ARTURO\", \"ALDAVE ACOSTA, CESAR ERNESTO\", \"NÚÑEZ HUAMÁN, CÉSAR AGUSTO\", \"OBREGON HUAMAN, DIANA EDITH\", \"SOTO PACHERRES, RODRIGO FRANCO\", \"INGARUCA RIVERA, GRETTEL ALEXANDRA\", \"ROJAS HUAMAN, ROSA ANGELA\", \"NEYRA SALAS, DANTE OMAR\", \"HUERTA ESPINOZA, YAJAIRA ALEXANDRA\", \"HUANCA MARTINEZ, JORGE ALBERTO\", \"FLORES CADILLO, ALEXIS\" ]\n",
    "emails = [\"cscornejo@pucp.edu.pe\", \"orellana.cn@pucp.edu.pe\", \"karina.morales@pucp.edu.pe\", \"a20083223@pucp.pe\", \"abel.camacho@pucp.pe\", \"mtintaya@pucp.edu.pe\", \"joselin.chavez@pucp.edu.pe\", \"a20105737@pucp.pe\", \"jfgomezc@pucp.pe\", \"afrania.palomino@pucp.pe\", \"luzon.bianca@pucp.pe\", \"adrian.suanaz@pucp.pe\", \"soto.y@pucp.edu.pe\", \"a20132766@pucp.pe\", \"andre.lama@pucp.edu.pe\", \"gustavo.meza@pucp.edu.pe\", \"pmlozada@pucp.edu.pe\", \"m.zambranoj@pucp.edu.pe\", \"nicolas.jacobs@pucp.edu.pe\", \"gvidal@pucp.edu.pe\", \"jane.torres@pucp.edu.pe\", \"m.lopez@pucp.edu.pe\", \"alejandro.boyco@pucp.edu.pe\", \"a20167070@pucp.edu.pe\", \"riega.stephy@pucp.edu.pe\", \"vlevanot@pucp.edu.pe\", \"sesquives@pucp.edu.pe\", \"perez.juanc@pucp.edu.pe\", \"mariana.otero@pucp.edu.pe\", \"aclavo@pucp.edu.pe\", \"a20182474@pucp.edu.pe\", \"josue.caldas@pucp.edu.pe\", \"fabio.salas@pucp.edu.pe\", \"fernanda.pizarro@pucp.edu.pe\", \"aquillatupa@pucp.pe\", \"\", \"\", \"\", \"\", \"\", \"f0873079@pucp.edu.pe\", \"\", \"\", \"\", \"\", \"\", \"\", \"\", \"\", \"\", \"\", \"flores.alexis@pucp.edu.pe\", ]"
   ]
  },
  {
   "cell_type": "markdown",
   "metadata": {},
   "source": [
    "## Solution 1.2"
   ]
  },
  {
   "cell_type": "code",
   "execution_count": 12,
   "metadata": {},
   "outputs": [
    {
     "name": "stdout",
     "output_type": "stream",
     "text": [
      "The indices 0, 1, 4, 7 have np.nan values.\n"
     ]
    }
   ],
   "source": [
    "#1\n",
    "## First step \n",
    "# Find which of values of the f_list is nan \n",
    "# In this case we use lambda and map to go into the array and find te values nan\n",
    "r1  = map(lambda i : i == str(np.nan), np.array(f_list))\n",
    "## Second step \n",
    "# Ubicate places of index from r1 \n",
    "r2 = np.where(list(r1))[0]\n",
    "## third step \n",
    "# Change the array to list to print the solution\n",
    "r3 = r2.tolist()\n",
    "## Finaly\n",
    "# Print the solution as above was explained \n",
    "print(f\"The indices {str(r3)[1:-1]} have np.nan values.\")"
   ]
  },
  {
   "cell_type": "code",
   "execution_count": 68,
   "metadata": {},
   "outputs": [
    {
     "data": {
      "text/plain": [
       "[2, 3, 4, 5, 2, 3, 4, 5, 2, 3, 4, 5, 2, 3, 4, 5]"
      ]
     },
     "execution_count": 68,
     "metadata": {},
     "output_type": "execute_result"
    }
   ],
   "source": [
    "#2\n",
    "#we use the property of list , to multiplicate by the number of times that it will appear.\n",
    "p2_list_4=p2_list*4\n",
    "p2_list_4\n",
    "\n",
    "## Grettel: It seeks to multiply the p2_list. This means that [2,3,4,5] occurs 3 more times. \n",
    "## For this type of multiplication, you must use the *, and next to if you must write the number \n",
    "## of times you want the elements to be repeated, in this case four (*4). This all gets equal to a new variable name, p2_list_4.\n"
   ]
  },
  {
   "cell_type": "code",
   "execution_count": 69,
   "metadata": {},
   "outputs": [
    {
     "name": "stdout",
     "output_type": "stream",
     "text": [
      "8\n"
     ]
    }
   ],
   "source": [
    "#3\n",
    "# It's very used the function len , to get the number of item in any list.\n",
    "print(len(f_list))\n",
    "\n",
    "## Grettel: The total number of elements that make up an object is calculated with the function len (length).\n"
   ]
  },
  {
   "cell_type": "code",
   "execution_count": 70,
   "metadata": {},
   "outputs": [
    {
     "name": "stdout",
     "output_type": "stream",
     "text": [
      "My teacher assistant is so boring.\n"
     ]
    }
   ],
   "source": [
    "#4\n",
    "# Using the function join , we can get together the items of text1\n",
    "print(\" \".join(text1))\n",
    "\n",
    "##Grettel: The text1 list is composed of 6 independent elements. \n",
    "##If we use the join function these elements will be converted to a string, \n",
    "##but first we must specify how be placed together. We use the space, it must be named in quotes. \n",
    "##And all this is printed with the print function. \n"
   ]
  },
  {
   "cell_type": "code",
   "execution_count": 71,
   "metadata": {},
   "outputs": [
    {
     "name": "stdout",
     "output_type": "stream",
     "text": [
      "My TA is so boring, but is very funny.\n"
     ]
    }
   ],
   "source": [
    "#5 \n",
    "# Using text 1 , we can recover some parts of the new sentences. Additionaly, we remove some parts and extend (method) the information\n",
    "# requiered in the excercise. Finally, we join the information to get the following sentence :\n",
    "# My TA is so boring, but is very funny.\n",
    "text1_2_5=text1.copy()\n",
    "text1_2_5[1]='TA'\n",
    "text1_2_5.remove('assistant')\n",
    "text1_2_5[-1]='boring,'\n",
    "text1_2_5.extend(['but is very funny.'])\n",
    "text1_2_5\n",
    "print(\" \".join(text1_2_5))\n",
    "\n",
    "##Grettel: First, a copy of the text1 list is made with the copy() method, the copy will be called text1_2_7. \n",
    "##Second, the \"teacher\" element is removed with the remove() method. After the \"assistant\" element is modified, \n",
    "##it is replaced by \"TA\" modifying from its position in the list [1]. We then modify the \"boring\" element to \"boring,\" \n",
    "##based on its position in the list [-1]. We create a new object text1_2_8, whose element is \"but is a very funny.\". \n",
    "##Finally, we must join the text1_2_8 object to the text1_2_7 object with the extend() method, we print the text1_2_7 whit \n",
    "##the print function. Remember to clarify the space that should be between each element before printing.\n",
    "text1_2_7= text1.copy()\n",
    "text1_2_7.remove(\"teacher\")\n",
    "text1_2_7[1]=\"TA\"\n",
    "text1_2_7[-1]=\"boring,\"\n",
    "text1_2_8= [\"but is very funny.\"]\n",
    "text1_2_8 \n",
    "text1_2_7.extend(text1_2_8)\n",
    "print(\" \".join(text1_2_7))"
   ]
  },
  {
   "cell_type": "code",
   "execution_count": 72,
   "metadata": {},
   "outputs": [
    {
     "name": "stdout",
     "output_type": "stream",
     "text": [
      "The max value of values1 is 86 and is located in the 0 index.\n",
      "The min value of values1 is 0 and is located in the 7 index.\n"
     ]
    }
   ],
   "source": [
    "#6 \n",
    "# We can use the functions max and min in a list , to get maximums and minimums numbers respectively, also \n",
    "# we add the index of this values using the function \"index()\" called previously.\n",
    "\n",
    "#The max value of values1 is 86 and is located in the 0 index.\n",
    "#The min value of values1 is 0 and is located in the 7 index.\n",
    "\n",
    "print(f'The max value of values1 is {max(values1)} and is located in the {values1.index(max(values1))} index.')\n",
    "print(f'The min value of values1 is {min(values1)} and is located in the {values1.index(min(values1))} index.')\n",
    "\n",
    "##Grettel: First, to find the maximum element of a variable, the max() function is used, \n",
    "##and to find the minimum value, the min() function is used. \n",
    "##These operations are enclosed in braces. Another operation to carry out is to identify the position of said elements.\n",
    "##That´s why the .index method was pushed, such operations will also be enclosed in braces. Then we write \n",
    "##\"the max value of values1 is ******* and is located in the ******* index., f\" \" must be used to put an operation and\n",
    "##it is read as a string. To this we apply the print function to print. \n"
   ]
  },
  {
   "cell_type": "code",
   "execution_count": 118,
   "metadata": {},
   "outputs": [
    {
     "name": "stdout",
     "output_type": "stream",
     "text": [
      "['CHRISTIAN SANTOS', 'CRISTIAN NASSER', 'ANGELICA KARINA', 'JOSE ROBERTO', 'ABEL FERNANDO', 'MEIR ALVARO', 'JOSELIN ALEXANDRA', 'LEONEL ARTURO', 'JOSE FELIPE', 'AFRANIA', 'BIANCA MARIETTE', 'ADRIAN ANDRE', 'DORKAS YOMIRA JHERMY', 'LADY ALY', 'HECTOR ANDRE', 'GUSTAVO', 'PERSEO MARCELO', 'MIGUEL ALONZO', 'NICOLAS', 'ROCIO GABRIELA', 'JANE CAMILA', 'MARIA ELISA', 'ALEJANDRO', 'KARLINE ROSMELI', 'STEPHY ROSARIO', 'VALERIA CECILIA', 'SEBASTIAN RENATO', 'JUAN CARLOS', 'MARIANA', 'ANDREA BRIZETH', 'ERICK JOSUE', 'JOSUE DANIEL', 'FABIO MANUEL', 'FERNANDA NICOLLE', 'ANGELA ADELINA', 'CESAR DANTE', 'GABRIELA ISABEL', 'ANGEL MAURICIO', 'JUAN DIEGO', 'ARONE', 'PERCY ALBERTH', 'KEVIN ARTURO', 'CESAR ERNESTO', 'CÉSAR AGUSTO', 'DIANA EDITH', 'RODRIGO FRANCO', 'GRETTEL ALEXANDRA', 'ROSA ANGELA', 'DANTE OMAR', 'YAJAIRA ALEXANDRA', 'JORGE ALBERTO', 'ALEXIS']\n"
     ]
    }
   ],
   "source": [
    "#7 \n",
    "# we use lambda and map to call a function in a recurrently way. \n",
    "# It allows to split the list based on \", \", therfore, we print the information of the second value getting names\n",
    "#Get two lists: names and last_names using last_and_name list. Hint: Use map and split.\n",
    "names=list(map(lambda x: x.split(\", \")[1], last_and_name))\n",
    "print(names)\n",
    "\n",
    "##Grettel: First we must use the lambda function(), which consists of presenting where\n",
    "## the function will be reinforced and at the same time how it will be used. \n",
    "## For example: \"lambda x:x.split()\", means that the value of x itself will be divided (split method), in this specific exercise (\", \"), \n",
    "## it will be separated and will replace the commas and spaces, as indicated in the method.\n",
    "## The names for the first variable will be selected, therefore it will be [1], it means the \n",
    "## second character in representation by element. All this operation is applied to the last_and_name list, it is indicated inside the map function. \n",
    "## As explained before, when using map we must complement by clarifying how the results will be displayed, in this case a list.\n"
   ]
  },
  {
   "cell_type": "code",
   "execution_count": 119,
   "metadata": {},
   "outputs": [
    {
     "name": "stdout",
     "output_type": "stream",
     "text": [
      "['CORNEJO SANCHEZ', 'ORELLANA QUISPE', 'MORALES CHOQUEHUANCA', 'GUIMARAY RIBEYRO', 'CAMACHO GAVIDIA', 'TINTAYA ORIHUELA', 'CHAVEZ MARTINEZ', 'FIGUEROA MURO', 'GOMEZ CRIBILLERO', 'PALOMINO SEGUÍN', 'LUZON CUEVA', 'SUAÑA ZEGARRA', 'SOTO POMACHAGUA', 'FIORENTINO MARTINEZ', 'LAMA MAVILA', 'MEZA HINOJO', 'LOZADA MURILLO', 'ZAMBRANO JIMENEZ', 'JACOBS LUQUE', 'VIDAL VIDAL', 'TORRES ANICAMA', 'LOPEZ ESTRADA', 'BOYCO ORAMS', 'DIAZ BERROSPI', 'RIEGA ESCALANTE', 'LEVANO TORRES', 'ESQUIVES BRAVO', 'PEREZ GONZALES', 'OTERO MAGUIÑA', 'CLAVO CAMPOS', 'AGUILAR GARCIA', 'CALDAS VELASQUEZ', 'SALAS NUÑEZ BORJA', 'PIZARRO VILLANES', 'QUILLATUPA MORALES', 'HUANCAYA IDONE', 'CALVO PORTOCARRERO', 'IBAÑEZ ABANTO', 'MELÉNDEZ APONTE', 'CRISTIAN SERRANO', 'HINOJOSA CAHUANA', 'ANGLAS GARCÍA', 'ALDAVE ACOSTA', 'NÚÑEZ HUAMÁN', 'OBREGON HUAMAN', 'SOTO PACHERRES', 'INGARUCA RIVERA', 'ROJAS HUAMAN', 'NEYRA SALAS', 'HUERTA ESPINOZA', 'HUANCA MARTINEZ', 'FLORES CADILLO']\n"
     ]
    }
   ],
   "source": [
    "# we use lambda and map to call a function in a recurrently way. \n",
    "# It allows to split the list based on \", \", therfore, we print the information of the first value getting last names\n",
    "last_names=list(map(lambda x: x.split(\", \")[0], last_and_name))\n",
    "print(last_names)\n",
    "\n",
    "##Grettel: This operation is very similar to the previous one. The only differences are the name assigned to the variable and the selected characters to display.\n",
    "## In this case, the [1] will be changed to [0], because what is searched for are the last names, and the las names are in the first position of the elements.\n",
    "## The variable last_names is assigned to it."
   ]
  },
  {
   "cell_type": "code",
   "execution_count": 161,
   "metadata": {},
   "outputs": [
    {
     "name": "stdout",
     "output_type": "stream",
     "text": [
      "['HUANCAYA IDONE', 'CALVO PORTOCARRERO', 'IBAÑEZ ABANTO', 'MELÉNDEZ APONTE', 'CRISTIAN SERRANO', 'ANGLAS GARCÍA', 'ALDAVE ACOSTA', 'NÚÑEZ HUAMÁN', 'OBREGON HUAMAN', 'SOTO PACHERRES', 'INGARUCA RIVERA', 'ROJAS HUAMAN', 'NEYRA SALAS', 'HUERTA ESPINOZA', 'HUANCA MARTINEZ']\n"
     ]
    }
   ],
   "source": [
    "#8\n",
    "## We get last names in the previous excercise , we call the list with split\n",
    "last_names=list(map(lambda x: x.split(\", \")[0], last_and_name))\n",
    "emails\n",
    "r1 = list(map(lambda x: x.find(str('@')), emails))\n",
    "## In this case call the function lambda and the condition that each item of r1== -1\n",
    "r2 = list(map(lambda x: x==-1, r1))\n",
    "## So, we obtain just the position of item who aprove the previous condition\n",
    "r3 = np.where(list(r2))[0]\n",
    "## Finally we use the information of last name and r3 , to print the last name of student who don't have email.\n",
    "r4 = list(map(lambda x: last_names[r3[x]]  , range(len(r3))))\n",
    "print(r4)"
   ]
  },
  {
   "cell_type": "markdown",
   "metadata": {},
   "source": [
    "## 1.3 Strings\n",
    "\n",
    "\n",
    "1. Drop the duplicated blank spaces in `str1`. Do not use the regular expresions. Do not use the code shown in class. Explain your steps.**Hint: Use `split` method and `join` function.**\n",
    "\n",
    "2. Get the number of letters in the string .**Hint: Use `len`function.**\n",
    "\n",
    "3. Get the number of blank spaces (all of them) in the string .**Hint: Use `len`function.**\n",
    "\n",
    "4. Get the position of `@` in each string in the emails list. **Hint: Use `map`function and `find` method.**\n",
    "\n",
    "5. Identifies if exists `.edu.`  in each string in the `emails` list. Get a list of Booleans. **Hint: Use `map`function and `find` method.**\n",
    "\n",
    "6. Get all the strings before the first dot `.`in each string in the `emails` list. Identifies how many of them has `@`. **Hint: Use `map`function and `find` method.**"
   ]
  },
  {
   "cell_type": "code",
   "execution_count": 1,
   "metadata": {},
   "outputs": [],
   "source": [
    "str1 = 'I am                            too                                                        old'"
   ]
  },
  {
   "cell_type": "code",
   "execution_count": 67,
   "metadata": {},
   "outputs": [],
   "source": [
    "emails = [\"cscornejo@pucp.edu.pe\", \"orellana.cn@pucp.edu.pe\", \"karina.morales@pucp.edu.pe\", \"a20083223@pucp.pe\", \"abel.camacho@pucp.pe\", \"mtintaya@pucp.edu.pe\", \"joselin.chavez@pucp.edu.pe\", \"a20105737@pucp.pe\", \"jfgomezc@pucp.pe\", \"afrania.palomino@pucp.pe\", \"luzon.bianca@pucp.pe\", \"adrian.suanaz@pucp.pe\", \"soto.y@pucp.edu.pe\", \"a20132766@pucp.pe\", \"andre.lama@pucp.edu.pe\", \"gustavo.meza@pucp.edu.pe\", \"pmlozada@pucp.edu.pe\", \"m.zambranoj@pucp.edu.pe\", \"nicolas.jacobs@pucp.edu.pe\", \"gvidal@pucp.edu.pe\", \"jane.torres@pucp.edu.pe\", \"m.lopez@pucp.edu.pe\", \"alejandro.boyco@pucp.edu.pe\", \"a20167070@pucp.edu.pe\", \"riega.stephy@pucp.edu.pe\", \"vlevanot@pucp.edu.pe\", \"sesquives@pucp.edu.pe\", \"perez.juanc@pucp.edu.pe\", \"mariana.otero@pucp.edu.pe\", \"aclavo@pucp.edu.pe\", \"a20182474@pucp.edu.pe\", \"josue.caldas@pucp.edu.pe\", \"fabio.salas@pucp.edu.pe\", \"fernanda.pizarro@pucp.edu.pe\", \"aquillatupa@pucp.pe\"]"
   ]
  },
  {
   "cell_type": "markdown",
   "metadata": {},
   "source": [
    "## Solution 1.3"
   ]
  },
  {
   "cell_type": "code",
   "execution_count": 63,
   "metadata": {},
   "outputs": [
    {
     "data": {
      "text/plain": [
       "'I am too old'"
      ]
     },
     "execution_count": 63,
     "metadata": {},
     "output_type": "execute_result"
    }
   ],
   "source": [
    "#1  We have the string with blanck spaces, then we use the funtion join to \n",
    "str1 = 'I am                            too                                                        old'\n",
    "str2 = \" \".join(str1.split())\n",
    "str2\n",
    "\n",
    "##Grettel: If we want to separate the characters of an element between commas, \n",
    "## we use the split( ) method. Next, we want to join these characters but with\n",
    "## a space \" \", so we apply the join method. We equalize all this to a new variable \"str2\".\n"
   ]
  },
  {
   "cell_type": "code",
   "execution_count": 65,
   "metadata": {},
   "outputs": [
    {
     "data": {
      "text/plain": [
       "9"
      ]
     },
     "execution_count": 65,
     "metadata": {},
     "output_type": "execute_result"
    }
   ],
   "source": [
    "#2 With the string without blanck spaces, we use the function \"len\"\n",
    "str3 = \"\".join(str1.split())\n",
    "len(str3)\n",
    "\n",
    "##Grettel: Continuing from the previous exercise, we want to count the \n",
    "## number of characters in the element. The len() function is applied\n",
    "## to the above operation. And then we present it with its new variable.\n",
    "str3 = len(\"\".join(str1.split()))\n",
    "str3\n"
   ]
  },
  {
   "cell_type": "code",
   "execution_count": 66,
   "metadata": {},
   "outputs": [
    {
     "data": {
      "text/plain": [
       "85"
      ]
     },
     "execution_count": 66,
     "metadata": {},
     "output_type": "execute_result"
    }
   ],
   "source": [
    "#3 \n",
    "# Calculating the number of blanck spaces in string 1 ,length the number of characters in string 1 less the number of letters in string 3 (str3)\n",
    "len(str1)-len(str3)\n",
    "\n",
    "##Grettel: To know the existing \" \" spaces of the variable str1, we must restore\n",
    "## the letters that are concatenated. To do this we will use the variable created \n",
    "## in the previous exercise. It is applied to the function len(), to the variable str1\n",
    "## and str3, separately. Subtracting thesecounts will result in the number of \" \" spaces in the str1 variable.\n"
   ]
  },
  {
   "cell_type": "code",
   "execution_count": 80,
   "metadata": {},
   "outputs": [
    {
     "name": "stdout",
     "output_type": "stream",
     "text": [
      "[9, 11, 14, 9, 12, 8, 14, 9, 8, 16, 12, 13, 6, 9, 10, 12, 8, 11, 14, 6, 11, 7, 15, 9, 12, 8, 9, 11, 13, 6, 9, 12, 11, 16, 11]\n"
     ]
    }
   ],
   "source": [
    "#4 \n",
    "## Using map and lambda , we call the function find to get \"@\" in the email list\n",
    "r1 = list(map(lambda x : x.find('@'), emails))\n",
    "print(r1)\n",
    "\n",
    "##Grettel: In this exercise it is necessary to use the lambda function, because \".find()\" \n",
    "## is a method and requires that you specify where it will select from, without modifying the order \n",
    "## that will be used with the map() function. The lambda function x:x.find(\"@\") will be written, \n",
    "## because the at sign is being searched for in the elements of the variable emails.\n",
    "## Therefore emails is found after the comma, following the order of the map() function. \n",
    "## All of this is in parentheses and indicated in list, because we want the results to be in list. \n"
   ]
  },
  {
   "cell_type": "code",
   "execution_count": 162,
   "metadata": {},
   "outputs": [
    {
     "name": "stdout",
     "output_type": "stream",
     "text": [
      "[False, False, False, True, True, False, False, True, True, True, True, True, False, True, False, False, False, False, False, False, False, False, False, False, False, False, False, False, False, False, False, False, False, False, True, True, True, True, True, True, False, True, True, True, True, True, True, True, True, True, True, False]\n"
     ]
    }
   ],
   "source": [
    "#5 \n",
    "## Using two times lambda and map , we get the bolean list which contains the word '.edu.'\n",
    "r1 = list(map(lambda x : x.find('.edu.'), emails))\n",
    "r2 = list(map(lambda x : x==-1, np.array(r1)))\n",
    "print(r2)\n",
    "\n",
    "##Grettel: In this exercise we will also use the lambda function because the operation requires the find() \n",
    "## function to be applied inside the map() function. In this case, \"edu\" is searched for in the emails list. \n",
    "## As you can see, \">0\" was added, this was done because we want the results to be printed as true o False. \n",
    "## The emails that present \"edu\" are the ones that will be TRUE. Both descriptions are inside the map function, \n",
    "## and list is added to it to specify that the results be a list. \n",
    "r1 = list(map(lambda x : x.find('.edu.')>0, emails))\n"
   ]
  },
  {
   "cell_type": "code",
   "execution_count": 138,
   "metadata": {},
   "outputs": [
    {
     "name": "stdout",
     "output_type": "stream",
     "text": [
      "['cscornejo@pucp', 'orellana', 'karina', 'a20083223@pucp', 'abel', 'mtintaya@pucp', 'joselin', 'a20105737@pucp', 'jfgomezc@pucp', 'afrania', 'luzon', 'adrian', 'soto', 'a20132766@pucp', 'andre', 'gustavo', 'pmlozada@pucp', 'm', 'nicolas', 'gvidal@pucp', 'jane', 'm', 'alejandro', 'a20167070@pucp', 'riega', 'vlevanot@pucp', 'sesquives@pucp', 'perez', 'mariana', 'aclavo@pucp', 'a20182474@pucp', 'josue', 'fabio', 'fernanda', 'aquillatupa@pucp']\n",
      "14\n"
     ]
    }
   ],
   "source": [
    "#6 \n",
    "## First , we get in emails the strings before \".\" with the function \"find\" , \n",
    "# as we want to get all the string before, we call a substr using the result of find.\n",
    "r1 = list(map(lambda x: x[0:x.find('.')], emails))\n",
    "# Second we call the sum of the r1 that contains \"@\" in the string \n",
    "r2 = sum(map(lambda x : 1 if '@' in x else 0, r1))\n",
    "\n",
    "print(r1)\n",
    "print(r2)\n",
    "\n",
    "##Grettel:\n",
    "r1 = sum(list(map(lambda x: x[0:x.find(\".\")].find(\"@\")>0 , emails)))\n"
   ]
  }
 ],
 "metadata": {
  "hide_input": false,
  "kernelspec": {
   "display_name": "base",
   "language": "python",
   "name": "python3"
  },
  "language_info": {
   "codemirror_mode": {
    "name": "ipython",
    "version": 3
   },
   "file_extension": ".py",
   "mimetype": "text/x-python",
   "name": "python",
   "nbconvert_exporter": "python",
   "pygments_lexer": "ipython3",
   "version": "3.9.13 (main, Aug 25 2022, 23:51:50) [MSC v.1916 64 bit (AMD64)]"
  },
  "toc": {
   "base_numbering": 1,
   "nav_menu": {},
   "number_sections": true,
   "sideBar": true,
   "skip_h1_title": false,
   "title_cell": "Table of Contents",
   "title_sidebar": "Contents",
   "toc_cell": false,
   "toc_position": {},
   "toc_section_display": true,
   "toc_window_display": false
  },
  "vscode": {
   "interpreter": {
    "hash": "6f5583cf1d9466b5c27e75c89cc6b383bed5736d6b16c51c8074d8690011a952"
   }
  }
 },
 "nbformat": 4,
 "nbformat_minor": 4
}
