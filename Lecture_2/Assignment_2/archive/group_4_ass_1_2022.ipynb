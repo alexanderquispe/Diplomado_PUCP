{
 "cells": [
  {
   "cell_type": "markdown",
   "metadata": {
    "id": "_AJ0KOpKe0O4"
   },
   "source": [
    "# 1 Assignment\n",
    "\n",
    "It is totally prohibited to use any kind of loop. You can use stackoverflow. If you copy codes from previous answers, explain each step. No explanation is `0 points`."
   ]
  },
  {
   "cell_type": "markdown",
   "metadata": {
    "id": "_Eeyb_NDe0O6"
   },
   "source": [
    "## 1.1 Tuple\n",
    "\n",
    "\n",
    "\n",
    "1. Print the first item of the second item of `tuple1` object. **Hint: Use indexing**<br><br>\n",
    "2. Print the last item of the `tuple1` object.**Hint: Use indexing**<br><br>\n",
    "3. Change the value \"orange\" for \"pink grapefruit\". Comment the output. **Hint: Is it possible?** <br><br>\n",
    "4. Print the length of `tuple1`. **Hint: Length function**<br><br>\n",
    "5. Sum all the elements of tuple2 and describe your steps and explain each of them. **Hint: Use `map` function.**<br><br>\n",
    "6. Generate a new tuple object named as `tuple3` with the half values of `tuple2`. This tuple should be similar as `tuple2`, tuple of lists.  **Hint: Use `map` funciont.**<br><br>"
   ]
  },
  {
   "cell_type": "code",
   "execution_count": 1,
   "metadata": {
    "id": "FUnzN-GKe0O6"
   },
   "outputs": [],
   "source": [
    "tuple1 = (\"Orange\", [10, 20, 30], (5, 15, 25))\n",
    "tuple2 = ([7, 8], [9, 1], [10, 7])"
   ]
  },
  {
   "cell_type": "markdown",
   "metadata": {
    "id": "1w0SkqGcjFU0"
   },
   "source": []
  },
  {
   "cell_type": "markdown",
   "metadata": {
    "id": "wNEAqIEGe0O7"
   },
   "source": [
    "### Answers"
   ]
  },
  {
   "cell_type": "markdown",
   "metadata": {
    "id": "jvGy8w76e0O7"
   },
   "source": [
    "##### Answer 1:\n",
    "We use the first bracket [1] to identify the position of the tuple object. That means that we are selecting [10, 20, 30]. The second bracket [0] indentify the position inside the bracket chosen at the first moment. That is the first item of the bracket [10, 20, 30]. <br>"
   ]
  },
  {
   "cell_type": "code",
   "execution_count": 2,
   "metadata": {
    "id": "Q_4TFUj4e0O8",
    "outputId": "69b0a8a0-334f-4066-f290-c143a1480d48"
   },
   "outputs": [
    {
     "name": "stdout",
     "output_type": "stream",
     "text": [
      "10\n"
     ]
    }
   ],
   "source": [
    "print(tuple1[1][0])"
   ]
  },
  {
   "cell_type": "markdown",
   "metadata": {
    "id": "_hsQ15b2e0O8"
   },
   "source": [
    "##### Answer 2:\n",
    "In this case, we use the negative value in order to identify the last item of the list."
   ]
  },
  {
   "cell_type": "code",
   "execution_count": 3,
   "metadata": {
    "id": "P-169ijGe0O9",
    "outputId": "189f6f28-5ff1-42e3-9136-350481b1b111"
   },
   "outputs": [
    {
     "name": "stdout",
     "output_type": "stream",
     "text": [
      "(5, 15, 25)\n"
     ]
    }
   ],
   "source": [
    "print(tuple1[-1])"
   ]
  },
  {
   "cell_type": "markdown",
   "metadata": {
    "id": "D-78upMTe0O9"
   },
   "source": [
    "##### Answer 3:\n",
    "It is not possible to change any value of a tuple because the tuples are unchangeable and inmutable."
   ]
  },
  {
   "cell_type": "code",
   "execution_count": 4,
   "metadata": {
    "id": "wBoBncrue0O9",
    "outputId": "de2c49af-643e-490b-df96-42a77fa97f0f"
   },
   "outputs": [
    {
     "ename": "TypeError",
     "evalue": "'tuple' object does not support item assignment",
     "output_type": "error",
     "traceback": [
      "\u001b[1;31m---------------------------------------------------------------------------\u001b[0m",
      "\u001b[1;31mTypeError\u001b[0m                                 Traceback (most recent call last)",
      "\u001b[1;32m~\\AppData\\Local\\Temp\\ipykernel_15492\\2828169272.py\u001b[0m in \u001b[0;36m<module>\u001b[1;34m\u001b[0m\n\u001b[1;32m----> 1\u001b[1;33m \u001b[0mtuple1\u001b[0m\u001b[1;33m[\u001b[0m\u001b[1;36m0\u001b[0m\u001b[1;33m]\u001b[0m \u001b[1;33m=\u001b[0m \u001b[1;34m\"pink grapefruit\"\u001b[0m\u001b[1;33m\u001b[0m\u001b[1;33m\u001b[0m\u001b[0m\n\u001b[0m",
      "\u001b[1;31mTypeError\u001b[0m: 'tuple' object does not support item assignment"
     ]
    }
   ],
   "source": [
    "tuple1[0] = \"pink grapefruit\""
   ]
  },
  {
   "cell_type": "markdown",
   "metadata": {
    "id": "mW4l1t_qe0O9"
   },
   "source": [
    "##### Answer 4:\n",
    "We use the funtion `len` in order to know the length of the tuple."
   ]
  },
  {
   "cell_type": "code",
   "execution_count": 5,
   "metadata": {
    "id": "5vxYRFrve0O-",
    "outputId": "720f44b8-22e0-48d5-f8e1-8e0af3f44f44"
   },
   "outputs": [
    {
     "name": "stdout",
     "output_type": "stream",
     "text": [
      "3\n"
     ]
    }
   ],
   "source": [
    "print(len(tuple1))"
   ]
  },
  {
   "cell_type": "markdown",
   "metadata": {
    "id": "MUy3VdrPe0O-"
   },
   "source": [
    "##### Answer 5:\n",
    "First, we rearrange the tuple values into a vector of second order using the function `zip`. Then, using the function `map` we add the values of the  vectores. <br>"
   ]
  },
  {
   "cell_type": "code",
   "execution_count": 6,
   "metadata": {
    "id": "WHibcjQte0O-",
    "outputId": "a7ac86dc-aa68-4df1-d9db-490cafe024a3"
   },
   "outputs": [
    {
     "data": {
      "text/plain": [
       "[26, 16]"
      ]
     },
     "execution_count": 6,
     "metadata": {},
     "output_type": "execute_result"
    }
   ],
   "source": [
    "[*map(sum,zip(tuple2[0],tuple2[1],tuple2[2]))]"
   ]
  },
  {
   "cell_type": "markdown",
   "metadata": {
    "id": "TN_WUXyce0O-"
   },
   "source": [
    "##### Answer 6:\n",
    "We define two functions. The first one divides a value by two. The second one divides the values of a vector by two. The appropriate si the second one. So, we create a tuple3 using `map` and the second function."
   ]
  },
  {
   "cell_type": "code",
   "execution_count": 7,
   "metadata": {
    "id": "HsAVS1Yde0O-"
   },
   "outputs": [],
   "source": [
    "def div2(x):\n",
    "    return x/2\n",
    "def div2ar(x):\n",
    "    return [*map(div2,x)]"
   ]
  },
  {
   "cell_type": "code",
   "execution_count": 8,
   "metadata": {
    "colab": {
     "base_uri": "https://localhost:8080/"
    },
    "id": "AUeNst-pe0O_",
    "outputId": "1ac46bd6-6e73-48d6-ef10-9d438cbe25dd"
   },
   "outputs": [
    {
     "data": {
      "text/plain": [
       "([3.5, 4.0], [4.5, 0.5], [5.0, 3.5])"
      ]
     },
     "execution_count": 8,
     "metadata": {},
     "output_type": "execute_result"
    }
   ],
   "source": [
    "tuple3 = tuple([*map(div2ar, tuple2)])\n",
    "tuple3"
   ]
  },
  {
   "cell_type": "markdown",
   "metadata": {
    "id": "qDvhrD3ke0O_"
   },
   "source": [
    "## 1.2 Lists\n",
    "1. Show the indices of the `np.nan` values  in the `f_list` list. We want to see this output: `The indices 0, 1, 4, 7 have np.nan values.` **Hint: Use print function and [f-strings](https://realpython.com/python-f-strings/) to insert the indices values.**<br><br>\n",
    "\n",
    "2. Replicate 4 times the values of the list `p2_list`. We expect an ouput like this: `[ 2 , 3, 4, 5, 2 , 3, 4, 5, 2 , 3, 4, 5, 2 , 3, 4, 5]`.  **Hint: Use multiplication function in `lists`and see the output.**<br><br>\n",
    "3. Print the length of `f_list`. **Hint: Length function**<br><br>\n",
    "4. Print `My teacher assistant is so boring.` using `text1` list. **Hint: Use the [`join` function](https://stackoverflow.com/questions/493819/why-is-it-string-joinlist-instead-of-list-joinstring)**<br><br>\n",
    "5. Print `My TA is so boring, but is very funny.` using `text1` list.**Hint: Use the `join` function, and `extend` method.**<br><br>\n",
    "6. Print <br>\n",
    "`The max value of values1 is 86 and is located in the 0 index. ` <br>\n",
    "`The min value of values1 is 0 and is located in the 7 index. ` <br> **Hint: Use the `f-string`, `min`, and `max` functions.**\n",
    "<br>\n",
    "7. Get two lists: `names` and `last_names` using `last_and_name` list. **Hint: Use `map` and `split`.**\n",
    "<br>\n",
    "8. Give only the last names of students who do not have email. Use the `emails` and `last_names` listt. **Hint: Use `map` and `split`.**\n",
    "<br>"
   ]
  },
  {
   "cell_type": "code",
   "execution_count": 9,
   "metadata": {
    "id": "N4Gg1J5oe0O_"
   },
   "outputs": [],
   "source": [
    "import numpy as np"
   ]
  },
  {
   "cell_type": "code",
   "execution_count": 10,
   "metadata": {
    "id": "h2IOm_Ete0PA"
   },
   "outputs": [],
   "source": [
    "f_list = [np.nan , np.nan, \"Austria\", \"Germany\", np.nan, \"Pakistan\", \"np.nan\", np.nan ]"
   ]
  },
  {
   "cell_type": "code",
   "execution_count": 11,
   "metadata": {
    "id": "hkYuphxhe0PA"
   },
   "outputs": [],
   "source": [
    "text1 = ['My', 'teacher', 'assistant', 'is', 'so', 'boring.']"
   ]
  },
  {
   "cell_type": "code",
   "execution_count": 12,
   "metadata": {
    "id": "3qZanE2-e0PA"
   },
   "outputs": [],
   "source": [
    "p2_list = [ 2 , 3, 4, 5 ]"
   ]
  },
  {
   "cell_type": "code",
   "execution_count": 13,
   "metadata": {
    "id": "YQv1MhuJe0PA"
   },
   "outputs": [],
   "source": [
    "values1 = [ 86, 86, 85, 85, 85, 83, 23, 0, 84, 1 ] "
   ]
  },
  {
   "cell_type": "code",
   "execution_count": 14,
   "metadata": {
    "id": "5Lk_eLR9e0PA"
   },
   "outputs": [],
   "source": [
    "# These two lists a\n",
    "last_and_name = [ \"CORNEJO SANCHEZ, CHRISTIAN SANTOS\", \"ORELLANA QUISPE, CRISTIAN NASSER\", \"MORALES CHOQUEHUANCA, ANGELICA KARINA\", \"GUIMARAY RIBEYRO, JOSE ROBERTO\", \"CAMACHO GAVIDIA, ABEL FERNANDO\", \"TINTAYA ORIHUELA, MEIR ALVARO\", \"CHAVEZ MARTINEZ, JOSELIN ALEXANDRA\", \"FIGUEROA MURO, LEONEL ARTURO\", \"GOMEZ CRIBILLERO, JOSE FELIPE\", \"PALOMINO SEGUÍN, AFRANIA\", \"LUZON CUEVA, BIANCA MARIETTE\", \"SUAÑA ZEGARRA, ADRIAN ANDRE\", \"SOTO POMACHAGUA, DORKAS YOMIRA JHERMY\", \"FIORENTINO MARTINEZ, LADY ALY\", \"LAMA MAVILA, HECTOR ANDRE\", \"MEZA HINOJO, GUSTAVO\", \"LOZADA MURILLO, PERSEO MARCELO\", \"ZAMBRANO JIMENEZ, MIGUEL ALONZO\", \"JACOBS LUQUE, NICOLAS\", \"VIDAL VIDAL, ROCIO GABRIELA\", \"TORRES ANICAMA, JANE CAMILA\", \"LOPEZ ESTRADA, MARIA ELISA\", \"BOYCO ORAMS, ALEJANDRO\", \"DIAZ BERROSPI, KARLINE ROSMELI\", \"RIEGA ESCALANTE, STEPHY ROSARIO\", \"LEVANO TORRES, VALERIA CECILIA\", \"ESQUIVES BRAVO, SEBASTIAN RENATO\", \"PEREZ GONZALES, JUAN CARLOS\", \"OTERO MAGUIÑA, MARIANA\", \"CLAVO CAMPOS, ANDREA BRIZETH\", \"AGUILAR GARCIA, ERICK JOSUE\", \"CALDAS VELASQUEZ, JOSUE DANIEL\", \"SALAS NUÑEZ BORJA, FABIO MANUEL\", \"PIZARRO VILLANES, FERNANDA NICOLLE\", \"QUILLATUPA MORALES, ANGELA ADELINA\", \"HUANCAYA IDONE, CESAR DANTE\", \"CALVO PORTOCARRERO, GABRIELA ISABEL\", \"IBAÑEZ ABANTO, ANGEL MAURICIO\", \"MELÉNDEZ APONTE, JUAN DIEGO\", \"CRISTIAN SERRANO, ARONE\", \"HINOJOSA CAHUANA, PERCY ALBERTH\", \"ANGLAS GARCÍA, KEVIN ARTURO\", \"ALDAVE ACOSTA, CESAR ERNESTO\", \"NÚÑEZ HUAMÁN, CÉSAR AGUSTO\", \"OBREGON HUAMAN, DIANA EDITH\", \"SOTO PACHERRES, RODRIGO FRANCO\", \"INGARUCA RIVERA, GRETTEL ALEXANDRA\", \"ROJAS HUAMAN, ROSA ANGELA\", \"NEYRA SALAS, DANTE OMAR\", \"HUERTA ESPINOZA, YAJAIRA ALEXANDRA\", \"HUANCA MARTINEZ, JORGE ALBERTO\", \"FLORES CADILLO, ALEXIS\" ]\n",
    "emails = [\"cscornejo@pucp.edu.pe\", \"orellana.cn@pucp.edu.pe\", \"karina.morales@pucp.edu.pe\", \"a20083223@pucp.pe\", \"abel.camacho@pucp.pe\", \"mtintaya@pucp.edu.pe\", \"joselin.chavez@pucp.edu.pe\", \"a20105737@pucp.pe\", \"jfgomezc@pucp.pe\", \"afrania.palomino@pucp.pe\", \"luzon.bianca@pucp.pe\", \"adrian.suanaz@pucp.pe\", \"soto.y@pucp.edu.pe\", \"a20132766@pucp.pe\", \"andre.lama@pucp.edu.pe\", \"gustavo.meza@pucp.edu.pe\", \"pmlozada@pucp.edu.pe\", \"m.zambranoj@pucp.edu.pe\", \"nicolas.jacobs@pucp.edu.pe\", \"gvidal@pucp.edu.pe\", \"jane.torres@pucp.edu.pe\", \"m.lopez@pucp.edu.pe\", \"alejandro.boyco@pucp.edu.pe\", \"a20167070@pucp.edu.pe\", \"riega.stephy@pucp.edu.pe\", \"vlevanot@pucp.edu.pe\", \"sesquives@pucp.edu.pe\", \"perez.juanc@pucp.edu.pe\", \"mariana.otero@pucp.edu.pe\", \"aclavo@pucp.edu.pe\", \"a20182474@pucp.edu.pe\", \"josue.caldas@pucp.edu.pe\", \"fabio.salas@pucp.edu.pe\", \"fernanda.pizarro@pucp.edu.pe\", \"aquillatupa@pucp.pe\", \"\", \"\", \"\", \"\", \"\", \"f0873079@pucp.edu.pe\", \"\", \"\", \"\", \"\", \"\", \"\", \"\", \"\", \"\", \"\", \"flores.alexis@pucp.edu.pe\", ]"
   ]
  },
  {
   "cell_type": "markdown",
   "metadata": {
    "id": "0jyrR5rhe0PB"
   },
   "source": [
    "### Answers"
   ]
  },
  {
   "cell_type": "markdown",
   "metadata": {
    "id": "34YcQhcWe0PB"
   },
   "source": [
    "##### Answer 1:\n",
    "Transform the list `f_list` into an `array` with `string` type elements. Then identify with the `np.where` function the position of the elements of this `array` that are identical to the `string` version of the `np.nan` values. This gives a tuple of three elements. Maintain only the first element of this tuple: an `array` with the desired indexes. This `array` is then turned into a list and stored as the `indices` element.\n",
    "The `indices` element is used inside the `f-string` to generate the desired output. To do this, the entire list is first converted into a `string` and the first and last elements (the square brackets) are ignored."
   ]
  },
  {
   "cell_type": "code",
   "execution_count": 15,
   "metadata": {
    "id": "t4Lg0jASe0PB"
   },
   "outputs": [],
   "source": [
    "indices = np.where(np.array(f_list) == str(np.nan))[0].tolist()"
   ]
  },
  {
   "cell_type": "code",
   "execution_count": 16,
   "metadata": {
    "id": "4N6GPuBAe0PB",
    "outputId": "7b20c68f-5e44-49d0-f1d8-4f101b15b668",
    "scrolled": true
   },
   "outputs": [
    {
     "data": {
      "text/plain": [
       "'The indices 0, 1, 4, 7 have np.nan values'"
      ]
     },
     "execution_count": 16,
     "metadata": {},
     "output_type": "execute_result"
    }
   ],
   "source": [
    "F\"The indices {str(indices)[1:-1]} have np.nan values\""
   ]
  },
  {
   "cell_type": "markdown",
   "metadata": {
    "id": "CHzqhUU-e0PB"
   },
   "source": [
    "##### Answer 2:\n",
    "Multiplying a list by 4. This is equivalent to adding three times the list using the addition operator."
   ]
  },
  {
   "cell_type": "code",
   "execution_count": 17,
   "metadata": {
    "id": "kjrijOZue0PC",
    "outputId": "e32a8344-7fd6-47b4-ae92-26b334af3003"
   },
   "outputs": [
    {
     "data": {
      "text/plain": [
       "[2, 3, 4, 5, 2, 3, 4, 5, 2, 3, 4, 5, 2, 3, 4, 5]"
      ]
     },
     "execution_count": 17,
     "metadata": {},
     "output_type": "execute_result"
    }
   ],
   "source": [
    "p2_list*4"
   ]
  },
  {
   "cell_type": "markdown",
   "metadata": {
    "id": "cEP_lz3We0PC"
   },
   "source": [
    "##### Answer 3:\n",
    "Use the `len` function to obtain the number of elements in the list."
   ]
  },
  {
   "cell_type": "code",
   "execution_count": 18,
   "metadata": {
    "id": "kFhZYmTAe0PC",
    "outputId": "7745da8a-4eac-4eca-8651-b507f192c306"
   },
   "outputs": [
    {
     "name": "stdout",
     "output_type": "stream",
     "text": [
      "8\n"
     ]
    }
   ],
   "source": [
    "print(len(f_list))"
   ]
  },
  {
   "cell_type": "markdown",
   "metadata": {
    "id": "WvxODsmYe0PC"
   },
   "source": [
    "##### Answer 4:\n",
    "Use the `join` function to join all the elements of the list into a single string. Each element will be joined to the previous one with spaces (`\" \"`)."
   ]
  },
  {
   "cell_type": "code",
   "execution_count": 19,
   "metadata": {
    "id": "d40QnPbAe0PC",
    "outputId": "a68787dc-8342-4d99-ab59-65e65870fe14"
   },
   "outputs": [
    {
     "name": "stdout",
     "output_type": "stream",
     "text": [
      "My teacher assistant is so boring.\n"
     ]
    }
   ],
   "source": [
    "print(\" \".join(text1))"
   ]
  },
  {
   "cell_type": "markdown",
   "metadata": {
    "id": "2vk8tYMee0PD"
   },
   "source": [
    "##### Answer 5:\n",
    "Generate a copy of the `text1` list with the name `text1_2`. The second element of this new list will be edited, replacing it with \"TA\". The last element will be replaced by a version of it with a comma instead of a period, and the third element will be deleted. Then, new elements with the missing words will be added to the resulting list using the `extend` method. <br>\n",
    "As in the previous question, we proceed to join all the elements of the list using the `join` function and using spaces to separate them."
   ]
  },
  {
   "cell_type": "code",
   "execution_count": 20,
   "metadata": {
    "id": "QxfERhW6e0PD"
   },
   "outputs": [],
   "source": [
    "text1_2 = text1.copy()\n",
    "text1_2[1] = \"TA\"\n",
    "text1_2[-1] = \"boring,\"\n",
    "text1_2.remove(\"assistant\")\n",
    "text1_2.extend([\"but\", \"is\", \"very\", \"funny.\"])"
   ]
  },
  {
   "cell_type": "code",
   "execution_count": 21,
   "metadata": {
    "id": "SEwhJTwwe0PD",
    "outputId": "7cabc6c8-d6dc-44ce-dc9b-e842f8c73069"
   },
   "outputs": [
    {
     "name": "stdout",
     "output_type": "stream",
     "text": [
      "My TA is so boring, but is very funny.\n"
     ]
    }
   ],
   "source": [
    "print(\" \".join(text1_2))"
   ]
  },
  {
   "cell_type": "markdown",
   "metadata": {
    "id": "4BK3gtChe0PD"
   },
   "source": [
    "##### Answer 6:\n",
    "Using `f-strings` for adding values to the two requested sentences. In the first position the maximum/minimum value is placed using the `max`/`min` function. In the second position, the index corresponding to the value of the previous position is placed, using the `index` method."
   ]
  },
  {
   "cell_type": "code",
   "execution_count": 22,
   "metadata": {
    "id": "rgpEBlCKe0PD",
    "outputId": "e3fda88a-bd48-4fea-e01e-43fc69fe4c6c"
   },
   "outputs": [
    {
     "name": "stdout",
     "output_type": "stream",
     "text": [
      "The max value of values1 is 86 and is located in the 0 index.\n",
      "The min value of values1 is 0 and is located in the 7 index.\n"
     ]
    }
   ],
   "source": [
    "print(f\"The max value of values1 is {max(values1)} and is located in the {values1.index(max(values1))} index.\")\n",
    "print(f\"The min value of values1 is {min(values1)} and is located in the {values1.index(min(values1))} index.\")"
   ]
  },
  {
   "cell_type": "markdown",
   "metadata": {
    "id": "IAdMNF4Ye0PE"
   },
   "source": [
    "##### Answer 7:\n",
    "Using the `map` function we set up a lambda function to apply the `split` method to each element of the given list. This function will split each element by `\",\"` and the position of the element to be retained will be assigned. <br>\n",
    "To create the `names` list, the second element resulting from the split is selected, whereas for the `last_names` list the first element is selected."
   ]
  },
  {
   "cell_type": "code",
   "execution_count": 23,
   "metadata": {
    "id": "-ixWAvR8e0PE",
    "outputId": "8d851d7b-0431-45cd-fb4b-aef31f914cf1"
   },
   "outputs": [
    {
     "name": "stdout",
     "output_type": "stream",
     "text": [
      "['CHRISTIAN SANTOS', 'CRISTIAN NASSER', 'ANGELICA KARINA', 'JOSE ROBERTO', 'ABEL FERNANDO', 'MEIR ALVARO', 'JOSELIN ALEXANDRA', 'LEONEL ARTURO', 'JOSE FELIPE', 'AFRANIA', 'BIANCA MARIETTE', 'ADRIAN ANDRE', 'DORKAS YOMIRA JHERMY', 'LADY ALY', 'HECTOR ANDRE', 'GUSTAVO', 'PERSEO MARCELO', 'MIGUEL ALONZO', 'NICOLAS', 'ROCIO GABRIELA', 'JANE CAMILA', 'MARIA ELISA', 'ALEJANDRO', 'KARLINE ROSMELI', 'STEPHY ROSARIO', 'VALERIA CECILIA', 'SEBASTIAN RENATO', 'JUAN CARLOS', 'MARIANA', 'ANDREA BRIZETH', 'ERICK JOSUE', 'JOSUE DANIEL', 'FABIO MANUEL', 'FERNANDA NICOLLE', 'ANGELA ADELINA', 'CESAR DANTE', 'GABRIELA ISABEL', 'ANGEL MAURICIO', 'JUAN DIEGO', 'ARONE', 'PERCY ALBERTH', 'KEVIN ARTURO', 'CESAR ERNESTO', 'CÉSAR AGUSTO', 'DIANA EDITH', 'RODRIGO FRANCO', 'GRETTEL ALEXANDRA', 'ROSA ANGELA', 'DANTE OMAR', 'YAJAIRA ALEXANDRA', 'JORGE ALBERTO', 'ALEXIS']\n"
     ]
    }
   ],
   "source": [
    "names = [*map(lambda x: x.split(\", \")[1], last_and_name)]\n",
    "print(names)"
   ]
  },
  {
   "cell_type": "code",
   "execution_count": 24,
   "metadata": {
    "id": "J_H1Isjhe0PE",
    "outputId": "4fa392f0-1e37-4d3c-a792-c2a2712be56d"
   },
   "outputs": [
    {
     "name": "stdout",
     "output_type": "stream",
     "text": [
      "['CORNEJO SANCHEZ', 'ORELLANA QUISPE', 'MORALES CHOQUEHUANCA', 'GUIMARAY RIBEYRO', 'CAMACHO GAVIDIA', 'TINTAYA ORIHUELA', 'CHAVEZ MARTINEZ', 'FIGUEROA MURO', 'GOMEZ CRIBILLERO', 'PALOMINO SEGUÍN', 'LUZON CUEVA', 'SUAÑA ZEGARRA', 'SOTO POMACHAGUA', 'FIORENTINO MARTINEZ', 'LAMA MAVILA', 'MEZA HINOJO', 'LOZADA MURILLO', 'ZAMBRANO JIMENEZ', 'JACOBS LUQUE', 'VIDAL VIDAL', 'TORRES ANICAMA', 'LOPEZ ESTRADA', 'BOYCO ORAMS', 'DIAZ BERROSPI', 'RIEGA ESCALANTE', 'LEVANO TORRES', 'ESQUIVES BRAVO', 'PEREZ GONZALES', 'OTERO MAGUIÑA', 'CLAVO CAMPOS', 'AGUILAR GARCIA', 'CALDAS VELASQUEZ', 'SALAS NUÑEZ BORJA', 'PIZARRO VILLANES', 'QUILLATUPA MORALES', 'HUANCAYA IDONE', 'CALVO PORTOCARRERO', 'IBAÑEZ ABANTO', 'MELÉNDEZ APONTE', 'CRISTIAN SERRANO', 'HINOJOSA CAHUANA', 'ANGLAS GARCÍA', 'ALDAVE ACOSTA', 'NÚÑEZ HUAMÁN', 'OBREGON HUAMAN', 'SOTO PACHERRES', 'INGARUCA RIVERA', 'ROJAS HUAMAN', 'NEYRA SALAS', 'HUERTA ESPINOZA', 'HUANCA MARTINEZ', 'FLORES CADILLO']\n"
     ]
    }
   ],
   "source": [
    "last_names = [*map(lambda x: x.split(\", \")[0], last_and_name)]\n",
    "print(last_names)"
   ]
  },
  {
   "cell_type": "markdown",
   "metadata": {
    "id": "rpPuwuDIe0PE"
   },
   "source": [
    "##### Answer 8:\n",
    "Since each element of the `last_and_names` list has its pair in the `emails` list, the first thing to do is identifying the indexes of the elements in the `emails` list that contain empty `strings`. To do this, the `np.array` and `np.where` functions are used as in question 1, selecting the first element of the tuple and turning it into a list. <br>\n",
    "Then, using the `map` function and the `__getitem__` method, the elements of the `last_names` list (created in the previous question) are selected to obtain only the last names of the people that do not have email."
   ]
  },
  {
   "cell_type": "code",
   "execution_count": 25,
   "metadata": {
    "id": "up9Yv7Ape0PE",
    "outputId": "de30ede6-8dfc-4b58-9ca3-3070adc9cdde"
   },
   "outputs": [
    {
     "name": "stdout",
     "output_type": "stream",
     "text": [
      "['HUANCAYA IDONE', 'CALVO PORTOCARRERO', 'IBAÑEZ ABANTO', 'MELÉNDEZ APONTE', 'CRISTIAN SERRANO', 'ANGLAS GARCÍA', 'ALDAVE ACOSTA', 'NÚÑEZ HUAMÁN', 'OBREGON HUAMAN', 'SOTO PACHERRES', 'INGARUCA RIVERA', 'ROJAS HUAMAN', 'NEYRA SALAS', 'HUERTA ESPINOZA', 'HUANCA MARTINEZ']\n"
     ]
    }
   ],
   "source": [
    "print([*map(last_names.__getitem__, list(np.where(np.array(emails)==\"\")[0]))])"
   ]
  },
  {
   "cell_type": "markdown",
   "metadata": {
    "id": "Kjg8luE_e0PF"
   },
   "source": [
    "## 1.3 Strings\n",
    "\n",
    "\n",
    "1. Drop the duplicated blank spaces in `str1`. Do not use the regular expresions. Do not use the code shown in class. Explain your steps.**Hint: Use `split` method and `join` function.**\n",
    "\n",
    "2. Get the number of letters in the string .**Hint: Use `len`function.**\n",
    "\n",
    "3. Get the number of blank spaces (all of them) in the string .**Hint: Use `len`function.**\n",
    "\n",
    "4. Get the position of `@` in each string in the emails list. **Hint: Use `map`function and `find` method.**\n",
    "\n",
    "5. Identifies if exists `.edu.`  in each string in the `emails` list. Get a list of Booleans. **Hint: Use `map`function and `find` method.**\n",
    "\n",
    "6. Get all the strings before the first dot `.`in each string in the `emails` list. Identifies how many of them has `@`. **Hint: Use `map`function and `find` method.**"
   ]
  },
  {
   "cell_type": "code",
   "execution_count": 26,
   "metadata": {
    "id": "Q3xRhQGge0PF"
   },
   "outputs": [],
   "source": [
    "str1 = 'I am                            too                                                        old'"
   ]
  },
  {
   "cell_type": "code",
   "execution_count": 27,
   "metadata": {
    "id": "EQCwDjPae0PF"
   },
   "outputs": [],
   "source": [
    "emails = [\"cscornejo@pucp.edu.pe\", \"orellana.cn@pucp.edu.pe\", \"karina.morales@pucp.edu.pe\", \"a20083223@pucp.pe\", \"abel.camacho@pucp.pe\", \"mtintaya@pucp.edu.pe\", \"joselin.chavez@pucp.edu.pe\", \"a20105737@pucp.pe\", \"jfgomezc@pucp.pe\", \"afrania.palomino@pucp.pe\", \"luzon.bianca@pucp.pe\", \"adrian.suanaz@pucp.pe\", \"soto.y@pucp.edu.pe\", \"a20132766@pucp.pe\", \"andre.lama@pucp.edu.pe\", \"gustavo.meza@pucp.edu.pe\", \"pmlozada@pucp.edu.pe\", \"m.zambranoj@pucp.edu.pe\", \"nicolas.jacobs@pucp.edu.pe\", \"gvidal@pucp.edu.pe\", \"jane.torres@pucp.edu.pe\", \"m.lopez@pucp.edu.pe\", \"alejandro.boyco@pucp.edu.pe\", \"a20167070@pucp.edu.pe\", \"riega.stephy@pucp.edu.pe\", \"vlevanot@pucp.edu.pe\", \"sesquives@pucp.edu.pe\", \"perez.juanc@pucp.edu.pe\", \"mariana.otero@pucp.edu.pe\", \"aclavo@pucp.edu.pe\", \"a20182474@pucp.edu.pe\", \"josue.caldas@pucp.edu.pe\", \"fabio.salas@pucp.edu.pe\", \"fernanda.pizarro@pucp.edu.pe\", \"aquillatupa@pucp.pe\"]"
   ]
  },
  {
   "cell_type": "markdown",
   "metadata": {
    "id": "RrKgIq9Fe0PF"
   },
   "source": [
    "### Answers"
   ]
  },
  {
   "cell_type": "markdown",
   "metadata": {
    "id": "9tstli0te0PF"
   },
   "source": [
    "##### Answer 1:\n",
    "If non separator is selected, the `split` method separate the words in a `string` ignoring the spaces and other special characters. Once we get a list containing only the words in the `string` `str1`, we use de `join` function selecting as separator a blank space (`\" \"`) to obtain the desired output."
   ]
  },
  {
   "cell_type": "code",
   "execution_count": 28,
   "metadata": {
    "id": "7s-i2AvDe0PG",
    "outputId": "c143e3ee-fc6d-4a1c-e86e-968428bf708d"
   },
   "outputs": [
    {
     "name": "stdout",
     "output_type": "stream",
     "text": [
      "I am too old\n"
     ]
    }
   ],
   "source": [
    "print(\" \".join(str1.split()))"
   ]
  },
  {
   "cell_type": "markdown",
   "metadata": {
    "id": "1NS1rtGre0PG"
   },
   "source": [
    "##### Answer 2:\n",
    "The above process using the `split` method is applied to obtain only the words in `str1`. Now, we perform an union using the `join` function, but selecting a blank element (`\"\"`) as the separator. That results in a chain compound entirely by letters. Finally, using the `len` function, we count the total characters of the latter `string`."
   ]
  },
  {
   "cell_type": "code",
   "execution_count": 29,
   "metadata": {
    "id": "9NqayfQTe0PG",
    "outputId": "1b60b886-fe2c-47fe-fdd1-d04d9cdf0755"
   },
   "outputs": [
    {
     "data": {
      "text/plain": [
       "9"
      ]
     },
     "execution_count": 29,
     "metadata": {},
     "output_type": "execute_result"
    }
   ],
   "source": [
    "len(\"\".join(str1.split()))"
   ]
  },
  {
   "cell_type": "markdown",
   "metadata": {
    "id": "2FpOJS2Ie0PG"
   },
   "source": [
    "##### Answer 3:\n",
    "We count the total characters (blank spaces and letters) in the `string` `str1`. Then, subtract the total characters that are only letters (as we obtained in the answer above)."
   ]
  },
  {
   "cell_type": "code",
   "execution_count": 30,
   "metadata": {
    "id": "15v7-Njae0PG",
    "outputId": "e2463311-7a07-4e0a-a10b-8b9ccfcff8f4"
   },
   "outputs": [
    {
     "data": {
      "text/plain": [
       "85"
      ]
     },
     "execution_count": 30,
     "metadata": {},
     "output_type": "execute_result"
    }
   ],
   "source": [
    "len(str1)-len(\"\".join(str1.split()))"
   ]
  },
  {
   "cell_type": "markdown",
   "metadata": {
    "id": "471m_W5Ce0PG"
   },
   "source": [
    "##### Answer 4:\n",
    "Through the `map` function and the `lambda` function that finds the position of `@` character using the `find` method, we obtain a list with the selected character positions for each element in the `emails` list."
   ]
  },
  {
   "cell_type": "code",
   "execution_count": 31,
   "metadata": {
    "id": "2qwcahX_e0PH",
    "outputId": "c8806235-60ac-48eb-d4c9-c4e984859d4d",
    "scrolled": true
   },
   "outputs": [
    {
     "name": "stdout",
     "output_type": "stream",
     "text": [
      "[9, 11, 14, 9, 12, 8, 14, 9, 8, 16, 12, 13, 6, 9, 10, 12, 8, 11, 14, 6, 11, 7, 15, 9, 12, 8, 9, 11, 13, 6, 9, 12, 11, 16, 11]\n"
     ]
    }
   ],
   "source": [
    "print([*map(lambda x: x.find(\"@\"),emails)])"
   ]
  },
  {
   "cell_type": "markdown",
   "metadata": {
    "id": "wysQOyhde0PH"
   },
   "source": [
    "##### Answer 5:\n",
    "We define a function with two parameters: `x` for the element that the function is going to be applied and `s` for the `string` that we want to look for. The function called as `exist_str` is going to perform the following process: it is going to search the `string` `s` in the element `x` using the `find` method, then if the resulting value is different than `-1`, the output will be `True`, else, the output will be `False`. This works since `find` returns `-1` when does not find the `string` in the element. <br>\n",
    "After that, using `map` and the lambda function, we applied `exist_str`, the recently created function, to each one of the elements in the `emails` list to obtain as result a booleans vector."
   ]
  },
  {
   "cell_type": "code",
   "execution_count": 32,
   "metadata": {
    "id": "U14vJsGNe0PH"
   },
   "outputs": [],
   "source": [
    "def exist_str(x,s):\n",
    "    if x.find(s) != -1:\n",
    "        op = True\n",
    "    else:\n",
    "        op = False\n",
    "    return op"
   ]
  },
  {
   "cell_type": "code",
   "execution_count": 33,
   "metadata": {
    "id": "cleFR22fe0PH",
    "outputId": "035cf3e2-bab1-4895-8a66-9fbc04ede242"
   },
   "outputs": [
    {
     "name": "stdout",
     "output_type": "stream",
     "text": [
      "[True, True, True, False, False, True, True, False, False, False, False, False, True, False, True, True, True, True, True, True, True, True, True, True, True, True, True, True, True, True, True, True, True, True, False]\n"
     ]
    }
   ],
   "source": [
    "print([*map(lambda x: exist_str(x,\"edu\"),emails)])"
   ]
  },
  {
   "cell_type": "markdown",
   "metadata": {
    "id": "a23t7D4Oe0PI"
   },
   "source": [
    "##### Answer 6:\n",
    "We create a list named `half_emails` that contains the complete `string` previous to the first dot of each email in the `emails` list. For this, we locate the position of the first point inside each `string` using the `find` method. Then, using indexing we select each `string` from the beginning to the value before the one indicated in the previous search. This process is applied to each element of the list through the `map` function and the creation of a lambda function. <br>\n",
    "Later, we apply the `exist_str` function (created in the answer above) to each element in the `half_emails` list, resulting in a list of booleans that indicates if each element contains an `@`. Finally, we add all the elemnts in the list using the `sum` function to obtain the total number of `strings` that have an `@` before its first dot."
   ]
  },
  {
   "cell_type": "code",
   "execution_count": 34,
   "metadata": {
    "id": "ASHfPc2qe0PI"
   },
   "outputs": [],
   "source": [
    "half_emails = [*map(lambda x: x[0:x.find(\".\")], emails)]"
   ]
  },
  {
   "cell_type": "code",
   "execution_count": 35,
   "metadata": {
    "id": "t1_z4Pqke0PI",
    "outputId": "77f43876-a08a-4aa7-de00-e26f79dd726b"
   },
   "outputs": [
    {
     "data": {
      "text/plain": [
       "14"
      ]
     },
     "execution_count": 35,
     "metadata": {},
     "output_type": "execute_result"
    }
   ],
   "source": [
    "sum([*map(lambda x: exist_str(x,\"@\"), half_emails)])"
   ]
  }
 ],
 "metadata": {
  "colab": {
   "provenance": []
  },
  "hide_input": false,
  "kernelspec": {
   "display_name": "Python 3 (ipykernel)",
   "language": "python",
   "name": "python3"
  },
  "language_info": {
   "codemirror_mode": {
    "name": "ipython",
    "version": 3
   },
   "file_extension": ".py",
   "mimetype": "text/x-python",
   "name": "python",
   "nbconvert_exporter": "python",
   "pygments_lexer": "ipython3",
   "version": "3.9.13"
  },
  "toc": {
   "base_numbering": 1,
   "nav_menu": {},
   "number_sections": true,
   "sideBar": true,
   "skip_h1_title": false,
   "title_cell": "Table of Contents",
   "title_sidebar": "Contents",
   "toc_cell": false,
   "toc_position": {},
   "toc_section_display": true,
   "toc_window_display": false
  }
 },
 "nbformat": 4,
 "nbformat_minor": 1
}
