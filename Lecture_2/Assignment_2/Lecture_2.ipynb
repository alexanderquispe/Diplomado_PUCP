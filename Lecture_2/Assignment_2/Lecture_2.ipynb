{
 "cells": [
  {
   "cell_type": "markdown",
   "metadata": {},
   "source": [
    "# This is the second lecture\n",
    "## This is the second lecture\n",
    "#### This is the second lecture"
   ]
  },
  {
   "cell_type": "markdown",
   "metadata": {},
   "source": [
    "This is the second lecture!"
   ]
  },
  {
   "cell_type": "markdown",
   "metadata": {},
   "source": [
    "# Titulo 1\n",
    "## Subtitulo 1 \n",
    "### Sub3 "
   ]
  },
  {
   "cell_type": "markdown",
   "metadata": {},
   "source": [
    "# Introduction to Python: Tuples, Lists, Dictionaries, Arrays"
   ]
  },
  {
   "cell_type": "markdown",
   "metadata": {},
   "source": [
    "## Variables\n",
    "Containers for store data values. This variable has a label or name. This variable is an object in memory."
   ]
  },
  {
   "cell_type": "markdown",
   "metadata": {},
   "source": [
    "### Python Types\n",
    "\n",
    "There are three key python types: int, float, string and boolean."
   ]
  },
  {
   "cell_type": "code",
   "execution_count": 1,
   "metadata": {},
   "outputs": [],
   "source": [
    "a = 50 "
   ]
  },
  {
   "cell_type": "markdown",
   "metadata": {},
   "source": []
  },
  {
   "cell_type": "code",
   "execution_count": 2,
   "metadata": {},
   "outputs": [
    {
     "data": {
      "text/plain": [
       "50"
      ]
     },
     "execution_count": 2,
     "metadata": {},
     "output_type": "execute_result"
    }
   ],
   "source": [
    "a"
   ]
  },
  {
   "cell_type": "code",
   "execution_count": 3,
   "metadata": {},
   "outputs": [
    {
     "name": "stdout",
     "output_type": "stream",
     "text": [
      "50\n"
     ]
    }
   ],
   "source": [
    "print(a)"
   ]
  },
  {
   "cell_type": "code",
   "execution_count": 4,
   "metadata": {},
   "outputs": [
    {
     "data": {
      "text/plain": [
       "int"
      ]
     },
     "execution_count": 4,
     "metadata": {},
     "output_type": "execute_result"
    }
   ],
   "source": [
    "type(a)"
   ]
  },
  {
   "cell_type": "code",
   "execution_count": 8,
   "metadata": {},
   "outputs": [
    {
     "data": {
      "text/plain": [
       "int"
      ]
     },
     "execution_count": 8,
     "metadata": {},
     "output_type": "execute_result"
    }
   ],
   "source": [
    "b = 30\n",
    "type(b)"
   ]
  },
  {
   "cell_type": "code",
   "execution_count": 9,
   "metadata": {},
   "outputs": [
    {
     "data": {
      "text/plain": [
       "float"
      ]
     },
     "execution_count": 9,
     "metadata": {},
     "output_type": "execute_result"
    }
   ],
   "source": [
    "c = 30.3\n",
    "type(c)"
   ]
  },
  {
   "cell_type": "code",
   "execution_count": 10,
   "metadata": {},
   "outputs": [
    {
     "data": {
      "text/plain": [
       "str"
      ]
     },
     "execution_count": 10,
     "metadata": {},
     "output_type": "execute_result"
    }
   ],
   "source": [
    "d = \"30\"\n",
    "type(d)"
   ]
  },
  {
   "cell_type": "code",
   "execution_count": 184,
   "metadata": {},
   "outputs": [
    {
     "data": {
      "text/plain": [
       "bool"
      ]
     },
     "execution_count": 184,
     "metadata": {},
     "output_type": "execute_result"
    }
   ],
   "source": [
    "a = False\n",
    "type(a)"
   ]
  },
  {
   "cell_type": "markdown",
   "metadata": {},
   "source": [
    "### [String](https://www.w3schools.com/python/python_ref_string.asp)\n",
    "A string is a sequence of characters."
   ]
  },
  {
   "cell_type": "code",
   "execution_count": 13,
   "metadata": {},
   "outputs": [
    {
     "name": "stdout",
     "output_type": "stream",
     "text": [
      "hello15%\n"
     ]
    }
   ],
   "source": [
    "my_string = 'hello15%'\n",
    "print(my_string)"
   ]
  },
  {
   "cell_type": "code",
   "execution_count": 15,
   "metadata": {},
   "outputs": [
    {
     "name": "stdout",
     "output_type": "stream",
     "text": [
      " \"\"Hello\"\" \n"
     ]
    }
   ],
   "source": [
    "# defining strings in Python\n",
    "# all of the following are equivalent\n",
    "my_string = ' \"\"Hello\"\" '\n",
    "print(my_string)"
   ]
  },
  {
   "cell_type": "code",
   "execution_count": 16,
   "metadata": {},
   "outputs": [
    {
     "name": "stdout",
     "output_type": "stream",
     "text": [
      "Hello%15#$ \n",
      "\n"
     ]
    }
   ],
   "source": [
    "my_string = \"Hello%15#$\"\n",
    "print(my_string , \"\\n\")"
   ]
  },
  {
   "cell_type": "code",
   "execution_count": 18,
   "metadata": {},
   "outputs": [
    {
     "name": "stdout",
     "output_type": "stream",
     "text": [
      " Hello$%&15  \n",
      "\n"
     ]
    }
   ],
   "source": [
    "my_string = ''' Hello$%&15 '''\n",
    "print(my_string , \"\\n\")"
   ]
  },
  {
   "cell_type": "code",
   "execution_count": 29,
   "metadata": {},
   "outputs": [
    {
     "data": {
      "text/plain": [
       "'afrania'"
      ]
     },
     "execution_count": 29,
     "metadata": {},
     "output_type": "execute_result"
    }
   ],
   "source": [
    "name = \"afrania\"\n",
    "name"
   ]
  },
  {
   "cell_type": "code",
   "execution_count": 28,
   "metadata": {},
   "outputs": [
    {
     "name": "stdout",
     "output_type": "stream",
     "text": [
      " la casa rosada \"SBA\" \n"
     ]
    }
   ],
   "source": [
    "address_rest = ''' la casa rosada \"SBA\" ''' \n",
    "print(address_rest)"
   ]
  },
  {
   "cell_type": "code",
   "execution_count": 33,
   "metadata": {},
   "outputs": [
    {
     "name": "stdout",
     "output_type": "stream",
     "text": [
      " Hello, welcome to \n",
      "                the world of Python \n"
     ]
    }
   ],
   "source": [
    "my_string = \"\"\" Hello, welcome to \n",
    "                the world of Python \"\"\"\n",
    "print(my_string)"
   ]
  },
  {
   "cell_type": "code",
   "execution_count": 30,
   "metadata": {},
   "outputs": [
    {
     "name": "stdout",
     "output_type": "stream",
     "text": [
      " Hello, welcome to\n",
      "the world of Python \n"
     ]
    }
   ],
   "source": [
    "# triple quotes string can extend multiple lines\n",
    "my_string = \"\"\" Hello, welcome to\n",
    "the world of Python \"\"\"\n",
    "print(my_string)"
   ]
  },
  {
   "cell_type": "code",
   "execution_count": 39,
   "metadata": {},
   "outputs": [
    {
     "name": "stdout",
     "output_type": "stream",
     "text": [
      "  Hello, welcome to\n",
      "           the world of \"Python\" \n"
     ]
    }
   ],
   "source": [
    "# triple quotes string can extend multiple lines\n",
    "my_string = '''  Hello, welcome to\n",
    "           the world of \"Python\" '''\n",
    "print(my_string)"
   ]
  },
  {
   "cell_type": "code",
   "execution_count": 35,
   "metadata": {},
   "outputs": [
    {
     "data": {
      "text/plain": [
       "48"
      ]
     },
     "execution_count": 35,
     "metadata": {},
     "output_type": "execute_result"
    }
   ],
   "source": [
    "len(my_string)"
   ]
  },
  {
   "cell_type": "code",
   "execution_count": 43,
   "metadata": {},
   "outputs": [],
   "source": [
    "# import re\n",
    "# re.sub(' +', ' ', 'The     quick brown    fox')"
   ]
  },
  {
   "cell_type": "code",
   "execution_count": 44,
   "metadata": {},
   "outputs": [
    {
     "data": {
      "text/plain": [
       "11"
      ]
     },
     "execution_count": 44,
     "metadata": {},
     "output_type": "execute_result"
    }
   ],
   "source": [
    "name = \"Jose Felipe\"\n",
    "len(name)"
   ]
  },
  {
   "cell_type": "code",
   "execution_count": null,
   "metadata": {},
   "outputs": [],
   "source": []
  },
  {
   "cell_type": "code",
   "execution_count": 45,
   "metadata": {},
   "outputs": [
    {
     "data": {
      "text/plain": [
       "'jose gomez             &          empresa manugfacutra'"
      ]
     },
     "execution_count": 45,
     "metadata": {},
     "output_type": "execute_result"
    }
   ],
   "source": [
    "\"jose gomez             &          empresa manugfacutra\""
   ]
  },
  {
   "cell_type": "code",
   "execution_count": 47,
   "metadata": {},
   "outputs": [
    {
     "name": "stdout",
     "output_type": "stream",
     "text": [
      "the name of the student is Raul\n"
     ]
    }
   ],
   "source": [
    "print(\"the name of the student is Raul\")"
   ]
  },
  {
   "cell_type": "code",
   "execution_count": 48,
   "metadata": {},
   "outputs": [
    {
     "name": "stdout",
     "output_type": "stream",
     "text": [
      "pregunta de heidi Introduction to Python Luciana pregunta\n"
     ]
    }
   ],
   "source": [
    "# Accessing string characters in Python\n",
    "## Indexing\n",
    "str_2 = 'Introduction to Python'\n",
    "\n",
    "print( \"pregunta de heidi\" , str_2 , \"Luciana pregunta\" )"
   ]
  },
  {
   "cell_type": "code",
   "execution_count": 49,
   "metadata": {},
   "outputs": [
    {
     "name": "stdout",
     "output_type": "stream",
     "text": [
      "The name of the course is python\n"
     ]
    }
   ],
   "source": [
    "str_1 = \"The name\"\n",
    "str_2 = \"of the course\"\n",
    "str_3 = \"is python\"\n",
    "print(str_1, str_2, str_3)"
   ]
  },
  {
   "cell_type": "code",
   "execution_count": 51,
   "metadata": {},
   "outputs": [
    {
     "data": {
      "text/plain": [
       "'The nameof the courseis python'"
      ]
     },
     "execution_count": 51,
     "metadata": {},
     "output_type": "execute_result"
    }
   ],
   "source": [
    "course_name = str_1 + str_2 + str_3\n",
    "course_name"
   ]
  },
  {
   "cell_type": "code",
   "execution_count": 57,
   "metadata": {},
   "outputs": [
    {
     "name": "stdout",
     "output_type": "stream",
     "text": [
      "pregunta de heidiIntroduction to PythonLuciana pregunta\n"
     ]
    }
   ],
   "source": [
    "# Accessing string characters in Python\n",
    "## Indexing\n",
    "str = 'Introduction to Python'\n",
    "print( \"pregunta de heidi\" + str + \"Luciana pregunta\" )"
   ]
  },
  {
   "cell_type": "code",
   "execution_count": 54,
   "metadata": {},
   "outputs": [
    {
     "data": {
      "text/plain": [
       "'C:/Users/Alexander/Dropbox/Pakistan_ID_DIME/Data/Data_requests/data_1'"
      ]
     },
     "execution_count": 54,
     "metadata": {},
     "output_type": "execute_result"
    }
   ],
   "source": [
    "dir = \"C:/Users/Alexander/Dropbox/Pakistan_ID_DIME/Data/Data_requests/\"\n",
    "dir + \"data_1\""
   ]
  },
  {
   "cell_type": "code",
   "execution_count": 55,
   "metadata": {},
   "outputs": [
    {
     "data": {
      "text/plain": [
       "'C:/Users/Alexander/Dropbox/Pakistan_ID_DIME/Data/Data_requests/data_2'"
      ]
     },
     "execution_count": 55,
     "metadata": {},
     "output_type": "execute_result"
    }
   ],
   "source": [
    "dir + \"data_2\""
   ]
  },
  {
   "cell_type": "code",
   "execution_count": 56,
   "metadata": {},
   "outputs": [],
   "source": [
    "# C:/Users/Alexander/Dropbox/Pakistan ID DIME/Data/Data requests/data_1\n",
    "# C:/Users/Alexander/Dropbox/Pakistan ID DIME/Data/Data requests/data_2\n",
    "# C:/Users/Alexander/Dropbox/Pakistan ID DIME/Data/Data requests/data_3    "
   ]
  },
  {
   "cell_type": "code",
   "execution_count": 59,
   "metadata": {},
   "outputs": [
    {
     "data": {
      "text/plain": [
       "'Introduction to Python'"
      ]
     },
     "execution_count": 59,
     "metadata": {},
     "output_type": "execute_result"
    }
   ],
   "source": [
    "str = \"Introduction to Python\"\n",
    "str"
   ]
  },
  {
   "cell_type": "code",
   "execution_count": 64,
   "metadata": {},
   "outputs": [
    {
     "data": {
      "text/plain": [
       "'o'"
      ]
     },
     "execution_count": 64,
     "metadata": {},
     "output_type": "execute_result"
    }
   ],
   "source": [
    "str[10]"
   ]
  },
  {
   "cell_type": "code",
   "execution_count": 195,
   "metadata": {},
   "outputs": [
    {
     "data": {
      "text/plain": [
       "'I'"
      ]
     },
     "execution_count": 195,
     "metadata": {},
     "output_type": "execute_result"
    }
   ],
   "source": [
    "str[0]"
   ]
  },
  {
   "cell_type": "code",
   "execution_count": 65,
   "metadata": {},
   "outputs": [
    {
     "name": "stdout",
     "output_type": "stream",
     "text": [
      "str[0] =  I\n"
     ]
    }
   ],
   "source": [
    "#first character\n",
    "print('str[0] = ', str[0])"
   ]
  },
  {
   "cell_type": "code",
   "execution_count": 197,
   "metadata": {},
   "outputs": [],
   "source": [
    "str = 'Introduction to Python'"
   ]
  },
  {
   "cell_type": "code",
   "execution_count": 68,
   "metadata": {},
   "outputs": [
    {
     "data": {
      "text/plain": [
       "'o'"
      ]
     },
     "execution_count": 68,
     "metadata": {},
     "output_type": "execute_result"
    }
   ],
   "source": [
    "str[-2]"
   ]
  },
  {
   "cell_type": "code",
   "execution_count": 69,
   "metadata": {},
   "outputs": [
    {
     "data": {
      "text/plain": [
       "'P'"
      ]
     },
     "execution_count": 69,
     "metadata": {},
     "output_type": "execute_result"
    }
   ],
   "source": [
    "str[-6]"
   ]
  },
  {
   "cell_type": "code",
   "execution_count": 198,
   "metadata": {},
   "outputs": [
    {
     "name": "stdout",
     "output_type": "stream",
     "text": [
      "o\n"
     ]
    }
   ],
   "source": [
    "#last character\n",
    "print(str[-2])"
   ]
  },
  {
   "cell_type": "code",
   "execution_count": 71,
   "metadata": {},
   "outputs": [],
   "source": [
    "str = 'Introduction to Python'"
   ]
  },
  {
   "cell_type": "code",
   "execution_count": 72,
   "metadata": {},
   "outputs": [
    {
     "name": "stdout",
     "output_type": "stream",
     "text": [
      "ntro\n"
     ]
    }
   ],
   "source": [
    "#slicing 2nd to 5th character\n",
    "print(str[1:5])"
   ]
  },
  {
   "cell_type": "code",
   "execution_count": 73,
   "metadata": {},
   "outputs": [
    {
     "name": "stdout",
     "output_type": "stream",
     "text": [
      "duction to Pyth\n"
     ]
    }
   ],
   "source": [
    "#slicing 6th to 2nd last character\n",
    "print(str[5:-2])"
   ]
  },
  {
   "cell_type": "markdown",
   "metadata": {},
   "source": [
    "### [Bool](https://www.w3schools.com/python/python_booleans.asp)\n",
    "\n",
    "The Python Boolean type is one of Python’s built-in data types. It’s used to represent the truth value of an expression. For example, the expression 1 <= 2 is True, while the expression 0 == 1 is False. "
   ]
  },
  {
   "cell_type": "code",
   "execution_count": 75,
   "metadata": {},
   "outputs": [
    {
     "name": "stdout",
     "output_type": "stream",
     "text": [
      "True\n"
     ]
    }
   ],
   "source": [
    "response = print(10 > 9)\n",
    "response"
   ]
  },
  {
   "cell_type": "code",
   "execution_count": 76,
   "metadata": {},
   "outputs": [
    {
     "name": "stdout",
     "output_type": "stream",
     "text": [
      "False\n"
     ]
    }
   ],
   "source": [
    "print(10 == 9)"
   ]
  },
  {
   "cell_type": "code",
   "execution_count": 77,
   "metadata": {
    "scrolled": true
   },
   "outputs": [
    {
     "name": "stdout",
     "output_type": "stream",
     "text": [
      "False\n"
     ]
    }
   ],
   "source": [
    "print(10 < 9)"
   ]
  },
  {
   "cell_type": "code",
   "execution_count": 86,
   "metadata": {},
   "outputs": [
    {
     "data": {
      "text/plain": [
       "'alexander'"
      ]
     },
     "execution_count": 86,
     "metadata": {},
     "output_type": "execute_result"
    }
   ],
   "source": [
    "name = \"alexander\"\n",
    "name"
   ]
  },
  {
   "cell_type": "code",
   "execution_count": 89,
   "metadata": {},
   "outputs": [
    {
     "data": {
      "text/plain": [
       "True"
      ]
     },
     "execution_count": 89,
     "metadata": {},
     "output_type": "execute_result"
    }
   ],
   "source": [
    "True == 1"
   ]
  },
  {
   "cell_type": "code",
   "execution_count": 83,
   "metadata": {},
   "outputs": [
    {
     "data": {
      "text/plain": [
       "True"
      ]
     },
     "execution_count": 83,
     "metadata": {},
     "output_type": "execute_result"
    }
   ],
   "source": [
    "True == 1"
   ]
  },
  {
   "cell_type": "code",
   "execution_count": 79,
   "metadata": {},
   "outputs": [
    {
     "data": {
      "text/plain": [
       "True"
      ]
     },
     "execution_count": 79,
     "metadata": {},
     "output_type": "execute_result"
    }
   ],
   "source": [
    "False == 0"
   ]
  },
  {
   "cell_type": "code",
   "execution_count": 80,
   "metadata": {},
   "outputs": [
    {
     "data": {
      "text/plain": [
       "False"
      ]
     },
     "execution_count": 80,
     "metadata": {},
     "output_type": "execute_result"
    }
   ],
   "source": [
    "False == 1"
   ]
  },
  {
   "cell_type": "code",
   "execution_count": 84,
   "metadata": {},
   "outputs": [
    {
     "data": {
      "text/plain": [
       "1.0"
      ]
     },
     "execution_count": 84,
     "metadata": {},
     "output_type": "execute_result"
    }
   ],
   "source": [
    "True + (False / True)"
   ]
  },
  {
   "cell_type": "markdown",
   "metadata": {},
   "source": [
    "## [Tuple](https://www.datacamp.com/community/tutorials/python-tuples-tutorial?utm_source=adwords_ppc&utm_medium=cpc&utm_campaignid=1455363063&utm_adgroupid=65083631748&utm_device=c&utm_keyword=&utm_matchtype=b&utm_network=g&utm_adpostion=&utm_creative=278443377092&utm_targetid=dsa-429603003980&utm_loc_interest_ms=&utm_loc_physical_ms=9060932&gclid=CjwKCAiAvriMBhAuEiwA8Cs5lSzvIp9Hmu0C0HearAmYt_xmqCwjL-nbi0j1e-WlDcBcm2owtmfvGBoCjhEQAvD_BwE)\n",
    "It is an ordered and unchangeable Python container. We cannot change, add or remove items after the tuple has been created. Tuple items are ordered, unchangeable, and allow duplicate values."
   ]
  },
  {
   "cell_type": "code",
   "execution_count": 92,
   "metadata": {},
   "outputs": [
    {
     "data": {
      "text/plain": [
       "(1, 2, 5, 9, 10, 10)"
      ]
     },
     "execution_count": 92,
     "metadata": {},
     "output_type": "execute_result"
    }
   ],
   "source": [
    "# tuple1 = (1, 2, 5, 9, 10, 10)\n",
    "# tuple1"
   ]
  },
  {
   "cell_type": "code",
   "execution_count": 96,
   "metadata": {},
   "outputs": [
    {
     "data": {
      "text/plain": [
       "5"
      ]
     },
     "execution_count": 96,
     "metadata": {},
     "output_type": "execute_result"
    }
   ],
   "source": [
    "tuple1 = (1, 3, 3, 5, 10)\n",
    "tuple1[3]"
   ]
  },
  {
   "cell_type": "code",
   "execution_count": 97,
   "metadata": {},
   "outputs": [
    {
     "ename": "TypeError",
     "evalue": "'tuple' object does not support item assignment",
     "output_type": "error",
     "traceback": [
      "\u001b[1;31m---------------------------------------------------------------------------\u001b[0m",
      "\u001b[1;31mTypeError\u001b[0m                                 Traceback (most recent call last)",
      "\u001b[1;32mC:\\Users\\ALEXAN~1\\AppData\\Local\\Temp/ipykernel_2148/4138596957.py\u001b[0m in \u001b[0;36m<module>\u001b[1;34m\u001b[0m\n\u001b[1;32m----> 1\u001b[1;33m \u001b[0mtuple1\u001b[0m\u001b[1;33m[\u001b[0m\u001b[1;36m0\u001b[0m\u001b[1;33m]\u001b[0m \u001b[1;33m=\u001b[0m \u001b[1;36m15\u001b[0m\u001b[1;33m\u001b[0m\u001b[1;33m\u001b[0m\u001b[0m\n\u001b[0m",
      "\u001b[1;31mTypeError\u001b[0m: 'tuple' object does not support item assignment"
     ]
    }
   ],
   "source": [
    "tuple1[0] = 15"
   ]
  },
  {
   "cell_type": "code",
   "execution_count": 208,
   "metadata": {
    "scrolled": true
   },
   "outputs": [
    {
     "ename": "TypeError",
     "evalue": "'tuple' object does not support item assignment",
     "output_type": "error",
     "traceback": [
      "\u001b[1;31m---------------------------------------------------------------------------\u001b[0m",
      "\u001b[1;31mTypeError\u001b[0m                                 Traceback (most recent call last)",
      "\u001b[1;32mC:\\Users\\ALEXAN~1\\AppData\\Local\\Temp/ipykernel_12112/1468706600.py\u001b[0m in \u001b[0;36m<module>\u001b[1;34m\u001b[0m\n\u001b[0;32m      1\u001b[0m \u001b[1;31m# I want to change the value in the index 1\u001b[0m\u001b[1;33m\u001b[0m\u001b[1;33m\u001b[0m\u001b[0m\n\u001b[1;32m----> 2\u001b[1;33m \u001b[0mtuple1\u001b[0m\u001b[1;33m[\u001b[0m\u001b[1;36m1\u001b[0m\u001b[1;33m]\u001b[0m \u001b[1;33m=\u001b[0m \u001b[1;36m4\u001b[0m\u001b[1;33m\u001b[0m\u001b[1;33m\u001b[0m\u001b[0m\n\u001b[0m\u001b[0;32m      3\u001b[0m \u001b[1;31m# It is not possible\u001b[0m\u001b[1;33m\u001b[0m\u001b[1;33m\u001b[0m\u001b[0m\n\u001b[0;32m      4\u001b[0m \u001b[1;31m# to change values\u001b[0m\u001b[1;33m\u001b[0m\u001b[1;33m\u001b[0m\u001b[0m\n",
      "\u001b[1;31mTypeError\u001b[0m: 'tuple' object does not support item assignment"
     ]
    }
   ],
   "source": [
    "# I want to change the value in the index 1\n",
    "tuple1[1] = 4\n",
    "# It is not possible\n",
    "# to change values"
   ]
  },
  {
   "cell_type": "markdown",
   "metadata": {},
   "source": [
    "| Method \t| Definition \t|\n",
    "|---\t|---\t|\n",
    "| count() | Returns the number of times <br> a specified value occurs in a tuple \t|\n",
    "| index() |\tSearches the tuple for a specified value <br> and returns the position of where it was found \t|\n"
   ]
  },
  {
   "cell_type": "code",
   "execution_count": 105,
   "metadata": {},
   "outputs": [],
   "source": [
    "tuple1 = (1, 3, 3, 5, 10, 5, 5)"
   ]
  },
  {
   "cell_type": "code",
   "execution_count": 106,
   "metadata": {},
   "outputs": [
    {
     "data": {
      "text/plain": [
       "3"
      ]
     },
     "execution_count": 106,
     "metadata": {},
     "output_type": "execute_result"
    }
   ],
   "source": [
    "# count\n",
    "#print( tuple1 )\n",
    "tuple1.count( 5 )"
   ]
  },
  {
   "cell_type": "code",
   "execution_count": 107,
   "metadata": {},
   "outputs": [
    {
     "name": "stdout",
     "output_type": "stream",
     "text": [
      "(1, 3, 3, 5, 10, 5, 5)\n"
     ]
    },
    {
     "data": {
      "text/plain": [
       "1"
      ]
     },
     "execution_count": 107,
     "metadata": {},
     "output_type": "execute_result"
    }
   ],
   "source": [
    "# index\n",
    "print( tuple1 )\n",
    "tuple1.index( 3 )"
   ]
  },
  {
   "cell_type": "code",
   "execution_count": 108,
   "metadata": {},
   "outputs": [
    {
     "data": {
      "text/plain": [
       "1"
      ]
     },
     "execution_count": 108,
     "metadata": {},
     "output_type": "execute_result"
    }
   ],
   "source": [
    "tuple1.index( 3 )"
   ]
  },
  {
   "cell_type": "markdown",
   "metadata": {},
   "source": [
    "| Function \t| Definition \t|\n",
    "| --- \t| --- \t|\n",
    "| type(tuple) \t| It returns the class type of an object. \t|\n",
    "| max(tuple) \t| It returns an item from the tuple with max value. \t|\n",
    "| min(tuple) \t| It returns an item from the tuple with min value. \t|\n",
    "| len(tuple) \t| It gives the total length of the tuple. \t|\n",
    "| tuple( list ) \t| Converts a list into a tuple. \t|"
   ]
  },
  {
   "cell_type": "code",
   "execution_count": 110,
   "metadata": {},
   "outputs": [
    {
     "name": "stdout",
     "output_type": "stream",
     "text": [
      "(1, 3, 3, 5, 10, (5, 6, 7))\n"
     ]
    }
   ],
   "source": [
    "tuple1 = ( 1, 3, 3, 5, 10, (5, 6, 7) )\n",
    "print(tuple1)"
   ]
  },
  {
   "cell_type": "code",
   "execution_count": 111,
   "metadata": {},
   "outputs": [
    {
     "data": {
      "text/plain": [
       "('alex', 5, True)"
      ]
     },
     "execution_count": 111,
     "metadata": {},
     "output_type": "execute_result"
    }
   ],
   "source": [
    "tuple1 = (\"alex\", 5, True)\n",
    "tuple1"
   ]
  },
  {
   "cell_type": "code",
   "execution_count": 113,
   "metadata": {},
   "outputs": [
    {
     "data": {
      "text/plain": [
       "4"
      ]
     },
     "execution_count": 113,
     "metadata": {},
     "output_type": "execute_result"
    }
   ],
   "source": [
    "len(tuple1[0])"
   ]
  },
  {
   "cell_type": "code",
   "execution_count": 117,
   "metadata": {},
   "outputs": [],
   "source": [
    "tuple1 = ( 1, 2, 3, 4, 5, 10 )"
   ]
  },
  {
   "cell_type": "code",
   "execution_count": 118,
   "metadata": {},
   "outputs": [
    {
     "name": "stdout",
     "output_type": "stream",
     "text": [
      "10\n"
     ]
    }
   ],
   "source": [
    "# Max value\n",
    "print( max(tuple1) )"
   ]
  },
  {
   "cell_type": "code",
   "execution_count": 119,
   "metadata": {},
   "outputs": [
    {
     "name": "stdout",
     "output_type": "stream",
     "text": [
      "1\n"
     ]
    }
   ],
   "source": [
    "print( min(tuple1) )"
   ]
  },
  {
   "cell_type": "code",
   "execution_count": 120,
   "metadata": {},
   "outputs": [
    {
     "name": "stdout",
     "output_type": "stream",
     "text": [
      "6\n"
     ]
    }
   ],
   "source": [
    "# Length\n",
    "print( len(tuple1) )"
   ]
  },
  {
   "cell_type": "code",
   "execution_count": null,
   "metadata": {},
   "outputs": [],
   "source": [
    "# # Min value\n",
    "# print( min(tuple1) )"
   ]
  },
  {
   "cell_type": "code",
   "execution_count": null,
   "metadata": {},
   "outputs": [],
   "source": [
    "# a = [2 , 3, 4]\n",
    "# print( type( a ) )"
   ]
  },
  {
   "cell_type": "code",
   "execution_count": null,
   "metadata": {},
   "outputs": [],
   "source": [
    "# b = tuple(a)\n",
    "# print( type( b ) )\n",
    "# print( b )"
   ]
  },
  {
   "cell_type": "code",
   "execution_count": null,
   "metadata": {},
   "outputs": [],
   "source": [
    "# c = list(b)\n",
    "# c"
   ]
  },
  {
   "cell_type": "markdown",
   "metadata": {},
   "source": [
    "## [Lists](https://www.freecodecamp.org/news/lists-in-python-comprehensive-guide/)\n",
    "It is an ordered and mutable Python container. Its itmes are orderd, changeable, and allow duplicate values and different type of objects. Finally, every item has index because lists have a defined order."
   ]
  },
  {
   "cell_type": "markdown",
   "metadata": {},
   "source": [
    "| Method \t| Definition \t|\n",
    "|---\t|---\t|\n",
    "| sort() \t| Sorts the list in ascending order. \t|\n",
    "| append() \t| Adds a single element to a list. <br> This element will be located at the end of the list. \t|\n",
    "| extend() \t| Adds multiple elements to a list. \t|\n",
    "| index() \t| Returns the first appearance of the specified value. \t|\n"
   ]
  },
  {
   "cell_type": "code",
   "execution_count": 121,
   "metadata": {},
   "outputs": [
    {
     "data": {
      "text/plain": [
       "[18, 1.36, 'alex', False]"
      ]
     },
     "execution_count": 121,
     "metadata": {},
     "output_type": "execute_result"
    }
   ],
   "source": [
    "a_0 = [18, 1.36, \"alex\", False]\n",
    "a_0 "
   ]
  },
  {
   "cell_type": "code",
   "execution_count": 122,
   "metadata": {},
   "outputs": [
    {
     "name": "stdout",
     "output_type": "stream",
     "text": [
      "<class 'list'>\n"
     ]
    }
   ],
   "source": [
    "# We use brackets to create a list\n",
    "a = [ 18, 20 , 30, \"alex\" ]\n",
    "\n",
    "print( type( a ) )"
   ]
  },
  {
   "cell_type": "code",
   "execution_count": 126,
   "metadata": {},
   "outputs": [
    {
     "data": {
      "text/plain": [
       "'alex'"
      ]
     },
     "execution_count": 126,
     "metadata": {},
     "output_type": "execute_result"
    }
   ],
   "source": [
    "a[-1]"
   ]
  },
  {
   "cell_type": "code",
   "execution_count": 123,
   "metadata": {},
   "outputs": [
    {
     "name": "stdout",
     "output_type": "stream",
     "text": [
      "alex\n"
     ]
    }
   ],
   "source": [
    "print(  a[-1] )"
   ]
  },
  {
   "cell_type": "code",
   "execution_count": 127,
   "metadata": {},
   "outputs": [
    {
     "ename": "AttributeError",
     "evalue": "'int' object has no attribute 'copy'",
     "output_type": "error",
     "traceback": [
      "\u001b[1;31m---------------------------------------------------------------------------\u001b[0m",
      "\u001b[1;31mAttributeError\u001b[0m                            Traceback (most recent call last)",
      "\u001b[1;32mC:\\Users\\ALEXAN~1\\AppData\\Local\\Temp/ipykernel_2148/2297836262.py\u001b[0m in \u001b[0;36m<module>\u001b[1;34m\u001b[0m\n\u001b[0;32m      1\u001b[0m \u001b[0mb_sort\u001b[0m \u001b[1;33m=\u001b[0m \u001b[0mb\u001b[0m\u001b[1;33m\u001b[0m\u001b[1;33m\u001b[0m\u001b[0m\n\u001b[1;32m----> 2\u001b[1;33m \u001b[0mb_sort2\u001b[0m \u001b[1;33m=\u001b[0m \u001b[0mb\u001b[0m\u001b[1;33m.\u001b[0m\u001b[0mcopy\u001b[0m\u001b[1;33m(\u001b[0m\u001b[1;33m)\u001b[0m\u001b[1;33m\u001b[0m\u001b[1;33m\u001b[0m\u001b[0m\n\u001b[0m",
      "\u001b[1;31mAttributeError\u001b[0m: 'int' object has no attribute 'copy'"
     ]
    }
   ],
   "source": [
    "# b_sort = b\n",
    "# b_sort2 = b.copy()"
   ]
  },
  {
   "cell_type": "code",
   "execution_count": null,
   "metadata": {},
   "outputs": [],
   "source": [
    "# id(b_sort)"
   ]
  },
  {
   "cell_type": "code",
   "execution_count": null,
   "metadata": {},
   "outputs": [],
   "source": [
    "# id(b_sort2)"
   ]
  },
  {
   "cell_type": "code",
   "execution_count": 129,
   "metadata": {
    "scrolled": true
   },
   "outputs": [
    {
     "data": {
      "text/plain": [
       "[3, 13, 2, 56, 76, 16]"
      ]
     },
     "execution_count": 129,
     "metadata": {},
     "output_type": "execute_result"
    }
   ],
   "source": [
    "b = [ 3, 13, 2, 56, 76, 16]\n",
    "b"
   ]
  },
  {
   "cell_type": "code",
   "execution_count": 130,
   "metadata": {},
   "outputs": [
    {
     "data": {
      "text/plain": [
       "[3, 13, 2, 56, 76, 16]"
      ]
     },
     "execution_count": 130,
     "metadata": {},
     "output_type": "execute_result"
    }
   ],
   "source": [
    "b_sort = b.copy()\n",
    "b_sort"
   ]
  },
  {
   "cell_type": "code",
   "execution_count": 131,
   "metadata": {},
   "outputs": [],
   "source": [
    "# b = [ 3, 13, 2, 56, 76, 16]\n",
    "# b_sort = b.copy()\n",
    "# b"
   ]
  },
  {
   "cell_type": "code",
   "execution_count": 134,
   "metadata": {},
   "outputs": [
    {
     "data": {
      "text/plain": [
       "[2, 3, 13, 16, 56, 76]"
      ]
     },
     "execution_count": 134,
     "metadata": {},
     "output_type": "execute_result"
    }
   ],
   "source": [
    "b_sort.sort()\n",
    "b_sort"
   ]
  },
  {
   "cell_type": "code",
   "execution_count": 140,
   "metadata": {},
   "outputs": [
    {
     "data": {
      "text/plain": [
       "[15, 20, 16, 5, 8]"
      ]
     },
     "execution_count": 140,
     "metadata": {},
     "output_type": "execute_result"
    }
   ],
   "source": [
    "grades= [15, 20, 16, 5, 8 ]\n",
    "grades"
   ]
  },
  {
   "cell_type": "code",
   "execution_count": 143,
   "metadata": {},
   "outputs": [
    {
     "data": {
      "text/plain": [
       "[5, 8, 15, 16, 20]"
      ]
     },
     "execution_count": 143,
     "metadata": {},
     "output_type": "execute_result"
    }
   ],
   "source": [
    "grades.sort()\n",
    "grades"
   ]
  },
  {
   "cell_type": "code",
   "execution_count": null,
   "metadata": {},
   "outputs": [],
   "source": [
    "print(b)"
   ]
  },
  {
   "cell_type": "code",
   "execution_count": null,
   "metadata": {},
   "outputs": [],
   "source": [
    "print(b_sort)"
   ]
  },
  {
   "cell_type": "code",
   "execution_count": null,
   "metadata": {},
   "outputs": [],
   "source": [
    "b_sort = b\n",
    "b_sort"
   ]
  },
  {
   "cell_type": "code",
   "execution_count": 144,
   "metadata": {},
   "outputs": [
    {
     "data": {
      "text/plain": [
       "[3, 13, 2, 56, 76, 16]"
      ]
     },
     "execution_count": 144,
     "metadata": {},
     "output_type": "execute_result"
    }
   ],
   "source": [
    "b = [ 3, 13, 2, 56, 76, 16]\n",
    "b"
   ]
  },
  {
   "cell_type": "code",
   "execution_count": 145,
   "metadata": {},
   "outputs": [
    {
     "data": {
      "text/plain": [
       "[3, 13, 2, 56, 76, 16, 87]"
      ]
     },
     "execution_count": 145,
     "metadata": {},
     "output_type": "execute_result"
    }
   ],
   "source": [
    "b.append( 87 )\n",
    "b"
   ]
  },
  {
   "cell_type": "code",
   "execution_count": 147,
   "metadata": {},
   "outputs": [
    {
     "data": {
      "text/plain": [
       "[19, 25, 76]"
      ]
     },
     "execution_count": 147,
     "metadata": {},
     "output_type": "execute_result"
    }
   ],
   "source": [
    "a = [ 19, 25, 76 ]\n",
    "a"
   ]
  },
  {
   "cell_type": "code",
   "execution_count": 148,
   "metadata": {},
   "outputs": [],
   "source": [
    "a.extend( b )"
   ]
  },
  {
   "cell_type": "code",
   "execution_count": 149,
   "metadata": {},
   "outputs": [
    {
     "data": {
      "text/plain": [
       "[19, 25, 76, 3, 13, 2, 56, 76, 16, 87]"
      ]
     },
     "execution_count": 149,
     "metadata": {},
     "output_type": "execute_result"
    }
   ],
   "source": [
    "a"
   ]
  },
  {
   "cell_type": "code",
   "execution_count": 154,
   "metadata": {},
   "outputs": [
    {
     "name": "stdout",
     "output_type": "stream",
     "text": [
      "2\n"
     ]
    }
   ],
   "source": [
    "print(a.index(76))"
   ]
  },
  {
   "cell_type": "code",
   "execution_count": 150,
   "metadata": {},
   "outputs": [],
   "source": [
    "b = [ 3, 13, 2, 56, 76, 16]\n",
    "a = [ 19, 25, 76 ] "
   ]
  },
  {
   "cell_type": "code",
   "execution_count": 151,
   "metadata": {},
   "outputs": [
    {
     "data": {
      "text/plain": [
       "[3, 13, 2, 56, 76, 16, 19, 25, 76]"
      ]
     },
     "execution_count": 151,
     "metadata": {},
     "output_type": "execute_result"
    }
   ],
   "source": [
    "b.extend( a )\n",
    "b"
   ]
  },
  {
   "cell_type": "code",
   "execution_count": 153,
   "metadata": {},
   "outputs": [
    {
     "name": "stdout",
     "output_type": "stream",
     "text": [
      "4\n"
     ]
    }
   ],
   "source": [
    "# Python uses 0-based indexing\n",
    "print( b.index( 76 ) )"
   ]
  },
  {
   "cell_type": "markdown",
   "metadata": {},
   "source": [
    "| Function \t| Definition \t|\n",
    "| --- \t| --- \t|\n",
    "| type(list) \t| It returns the class type of an object. \t|\n",
    "| max(list) \t| It returns an item from the list with max value. \t|\n",
    "| min(list) \t| It returns an item from the list with min value. \t|\n",
    "| len(list) \t| It gives the total length of the list. \t|\n",
    "| list(seq) \t| Converts a tuple into a list. \t|"
   ]
  },
  {
   "cell_type": "code",
   "execution_count": 157,
   "metadata": {},
   "outputs": [
    {
     "data": {
      "text/plain": [
       "[3, 13, 2, 56, 76, 16, 19, 25, 76]"
      ]
     },
     "execution_count": 157,
     "metadata": {},
     "output_type": "execute_result"
    }
   ],
   "source": [
    "b"
   ]
  },
  {
   "cell_type": "code",
   "execution_count": 155,
   "metadata": {},
   "outputs": [
    {
     "name": "stdout",
     "output_type": "stream",
     "text": [
      "[3, 13, 2, 56, 76, 16, 19, 25, 76]\n",
      "<class 'list'>\n"
     ]
    }
   ],
   "source": [
    "# type of object\n",
    "print( b )\n",
    "print( type( b ) )"
   ]
  },
  {
   "cell_type": "code",
   "execution_count": 158,
   "metadata": {},
   "outputs": [
    {
     "name": "stdout",
     "output_type": "stream",
     "text": [
      "[3, 13, 2, 56, 76, 16, 19, 25, 76]\n",
      "76\n"
     ]
    }
   ],
   "source": [
    "# max\n",
    "print( b )\n",
    "print( max( b ) )"
   ]
  },
  {
   "cell_type": "code",
   "execution_count": 159,
   "metadata": {},
   "outputs": [
    {
     "name": "stdout",
     "output_type": "stream",
     "text": [
      "[3, 13, 2, 56, 76, 16, 19, 25, 76]\n",
      "2\n"
     ]
    }
   ],
   "source": [
    "# min\n",
    "print( b )\n",
    "print( min( b ) )"
   ]
  },
  {
   "cell_type": "code",
   "execution_count": 160,
   "metadata": {},
   "outputs": [
    {
     "name": "stdout",
     "output_type": "stream",
     "text": [
      "[3, 13, 2, 56, 76, 16, 19, 25, 76]\n",
      "9\n"
     ]
    }
   ],
   "source": [
    "# length of a list\n",
    "print( b )\n",
    "print( len( b ) )"
   ]
  },
  {
   "cell_type": "code",
   "execution_count": null,
   "metadata": {},
   "outputs": [],
   "source": [
    "# # length of a list\n",
    "# a = ( 4 , 6 )\n",
    "# print( a )\n",
    "# print( type( a ) )"
   ]
  },
  {
   "cell_type": "code",
   "execution_count": null,
   "metadata": {},
   "outputs": [],
   "source": [
    "# c = list( a )\n",
    "# print( c )\n",
    "# print( type( c ) )"
   ]
  },
  {
   "cell_type": "code",
   "execution_count": null,
   "metadata": {},
   "outputs": [],
   "source": [
    "# id(c)"
   ]
  },
  {
   "cell_type": "code",
   "execution_count": null,
   "metadata": {},
   "outputs": [],
   "source": [
    "# id(a)"
   ]
  },
  {
   "cell_type": "markdown",
   "metadata": {},
   "source": [
    "## [Dictionaries](https://realpython.com/python-dicts/)\n",
    "\n",
    "It is a ordered (Python >= 3.7) and mutable Python container. It does not allow duplicate key. They must be unique."
   ]
  },
  {
   "cell_type": "markdown",
   "metadata": {},
   "source": [
    "| Method \t| Definition \t|\n",
    "| --- \t| --- \t|\n",
    "|clear()|\tRemoves all the elements from the dictionary|\n",
    "|copy() |\tReturns a copy of the dictionary|\n",
    "|fromkeys() |\tReturns a dictionary with the specified keys and value|\n",
    "|get() |\tReturns the value of the specified key|\n",
    "|items() |\tReturns a list containing a tuple for each key value pair|\n",
    "|keys() | Returns a list containing the dictionary's keys|\n",
    "|pop() | Removes the element with the specified key|\n",
    "|popitem() | Removes the last inserted key-value pair|\n",
    "|setdefault() | Returns the value of the specified key. <br> If the key does not exist: insert the key, with the specified value|\n",
    "|update() |\tUpdates the dictionary with the specified key-value pairs |\n",
    "|values() | Returns a list of all the values in the dictionary|"
   ]
  },
  {
   "cell_type": "code",
   "execution_count": 11,
   "metadata": {},
   "outputs": [
    {
     "data": {
      "text/plain": [
       "{'lastname': 'Quispe', 'age': 28, 'birth_place': 'SJL', 'male': True}"
      ]
     },
     "execution_count": 11,
     "metadata": {},
     "output_type": "execute_result"
    }
   ],
   "source": [
    "alexander = { 'lastname': \"Quispe,\", 'age': 28, 'birth_place': \"SJL\", 'male' : True}\n",
    "maria = { 'lastname': \"rojas\", 'age': 27, 'birth_place': \"SMP\", 'male' : False}\n",
    "\n",
    "alexander"
   ]
  },
  {
   "cell_type": "code",
   "execution_count": 30,
   "metadata": {},
   "outputs": [],
   "source": [
    "lastanme = [\"Quispe\", \"Rojas\", \"Rodriguez\"]\n",
    "ages = [28, 29, 30]"
   ]
  },
  {
   "cell_type": "code",
   "execution_count": 39,
   "metadata": {},
   "outputs": [
    {
     "data": {
      "text/plain": [
       "['Quispe', 'Rojas', 'Rodriguez']"
      ]
     },
     "execution_count": 39,
     "metadata": {},
     "output_type": "execute_result"
    }
   ],
   "source": [
    "list_1 = { \"lastname\" : [\"Quispe\", \"Rojas\", \"Rodriguez\"],\n",
    "          \"ages\":[28, 29, 30], \"birth_place\": \"SJL\", 'male' : True}\n",
    "list_1[\"lastname\"]"
   ]
  },
  {
   "cell_type": "code",
   "execution_count": 12,
   "metadata": {},
   "outputs": [
    {
     "data": {
      "text/plain": [
       "True"
      ]
     },
     "execution_count": 12,
     "metadata": {},
     "output_type": "execute_result"
    }
   ],
   "source": [
    "alexander[\"male\"]"
   ]
  },
  {
   "cell_type": "code",
   "execution_count": 40,
   "metadata": {},
   "outputs": [],
   "source": [
    "# dictionary containing the population of the 5 largest german cities\n",
    "population = {'Berlin': 3748148, 'Hamburg': 1822445, 'Munich': 1471508, 'Cologne': 1085664, 'Frankfurt': 753056 }"
   ]
  },
  {
   "cell_type": "code",
   "execution_count": 41,
   "metadata": {},
   "outputs": [
    {
     "name": "stdout",
     "output_type": "stream",
     "text": [
      "{'Berlin': 3748148, 'Hamburg': 1822445, 'Munich': 1471508, 'Cologne': 1085664, 'Frankfurt': 753056}\n"
     ]
    },
    {
     "data": {
      "text/plain": [
       "dict"
      ]
     },
     "execution_count": 41,
     "metadata": {},
     "output_type": "execute_result"
    }
   ],
   "source": [
    "# clear\n",
    "print( population )\n",
    "type( population )"
   ]
  },
  {
   "cell_type": "code",
   "execution_count": 44,
   "metadata": {},
   "outputs": [],
   "source": [
    "list_1.clear()"
   ]
  },
  {
   "cell_type": "code",
   "execution_count": 46,
   "metadata": {},
   "outputs": [
    {
     "data": {
      "text/plain": [
       "dict"
      ]
     },
     "execution_count": 46,
     "metadata": {},
     "output_type": "execute_result"
    }
   ],
   "source": [
    "type(list_1)"
   ]
  },
  {
   "cell_type": "code",
   "execution_count": 42,
   "metadata": {},
   "outputs": [],
   "source": [
    "population.clear()"
   ]
  },
  {
   "cell_type": "code",
   "execution_count": 43,
   "metadata": {},
   "outputs": [
    {
     "data": {
      "text/plain": [
       "{}"
      ]
     },
     "execution_count": 43,
     "metadata": {},
     "output_type": "execute_result"
    }
   ],
   "source": [
    "population"
   ]
  },
  {
   "cell_type": "code",
   "execution_count": null,
   "metadata": {},
   "outputs": [],
   "source": [
    "population.clear()\n",
    "print( population )"
   ]
  },
  {
   "cell_type": "code",
   "execution_count": 47,
   "metadata": {},
   "outputs": [],
   "source": [
    "population = {'Berlin': 3748148, 'Hamburg': 1822445, \n",
    "              'Munich': 1471508, 'Cologne': 1085664, \n",
    "              'Frankfurt': 753056 }"
   ]
  },
  {
   "cell_type": "code",
   "execution_count": 50,
   "metadata": {},
   "outputs": [
    {
     "data": {
      "text/plain": [
       "{'Berlin': 3748148,\n",
       " 'Hamburg': 1822445,\n",
       " 'Munich': 1471508,\n",
       " 'Cologne': 1085664,\n",
       " 'Frankfurt': 753056}"
      ]
     },
     "execution_count": 50,
     "metadata": {},
     "output_type": "execute_result"
    }
   ],
   "source": [
    "pop_2 = population.copy()\n",
    "pop_2"
   ]
  },
  {
   "cell_type": "code",
   "execution_count": 51,
   "metadata": {},
   "outputs": [
    {
     "name": "stdout",
     "output_type": "stream",
     "text": [
      "{'Berlin': 3748148, 'Hamburg': 1822445, 'Munich': 1471508, 'Cologne': 1085664, 'Frankfurt': 753056}\n",
      "{'Berlin': 3748148, 'Hamburg': 1822445, 'Munich': 1471508, 'Cologne': 1085664, 'Frankfurt': 753056}\n"
     ]
    }
   ],
   "source": [
    "pop2 = population.copy()\n",
    "\n",
    "print( population )\n",
    "print( pop2 )"
   ]
  },
  {
   "cell_type": "code",
   "execution_count": 52,
   "metadata": {},
   "outputs": [
    {
     "data": {
      "text/plain": [
       "{'Berlin': 3748148,\n",
       " 'Hamburg': 1822445,\n",
       " 'Munich': 1471508,\n",
       " 'Cologne': 1085664,\n",
       " 'Frankfurt': 753056}"
      ]
     },
     "execution_count": 52,
     "metadata": {},
     "output_type": "execute_result"
    }
   ],
   "source": [
    "pop2"
   ]
  },
  {
   "cell_type": "code",
   "execution_count": 54,
   "metadata": {},
   "outputs": [
    {
     "data": {
      "text/plain": [
       "3748148"
      ]
     },
     "execution_count": 54,
     "metadata": {},
     "output_type": "execute_result"
    }
   ],
   "source": [
    "population[\"Berlin\"]"
   ]
  },
  {
   "cell_type": "code",
   "execution_count": 55,
   "metadata": {},
   "outputs": [
    {
     "data": {
      "text/plain": [
       "1471508"
      ]
     },
     "execution_count": 55,
     "metadata": {},
     "output_type": "execute_result"
    }
   ],
   "source": [
    "# Get information from key\n",
    "population.get('Munich')"
   ]
  },
  {
   "cell_type": "code",
   "execution_count": 56,
   "metadata": {},
   "outputs": [
    {
     "data": {
      "text/plain": [
       "dict_items([('Berlin', 3748148), ('Hamburg', 1822445), ('Munich', 1471508), ('Cologne', 1085664), ('Frankfurt', 753056)])"
      ]
     },
     "execution_count": 56,
     "metadata": {},
     "output_type": "execute_result"
    }
   ],
   "source": [
    "# Get information from key\n",
    "population.items()"
   ]
  },
  {
   "cell_type": "code",
   "execution_count": 57,
   "metadata": {},
   "outputs": [
    {
     "data": {
      "text/plain": [
       "dict_keys(['Berlin', 'Hamburg', 'Munich', 'Cologne', 'Frankfurt'])"
      ]
     },
     "execution_count": 57,
     "metadata": {},
     "output_type": "execute_result"
    }
   ],
   "source": [
    "population.keys()"
   ]
  },
  {
   "cell_type": "code",
   "execution_count": 58,
   "metadata": {},
   "outputs": [
    {
     "data": {
      "text/plain": [
       "753056"
      ]
     },
     "execution_count": 58,
     "metadata": {},
     "output_type": "execute_result"
    }
   ],
   "source": [
    "population.pop(\"Frankfurt\")"
   ]
  },
  {
   "cell_type": "code",
   "execution_count": 60,
   "metadata": {},
   "outputs": [
    {
     "data": {
      "text/plain": [
       "{'Berlin': 3748148, 'Hamburg': 1822445, 'Munich': 1471508, 'Cologne': 1085664}"
      ]
     },
     "execution_count": 60,
     "metadata": {},
     "output_type": "execute_result"
    }
   ],
   "source": [
    "population"
   ]
  },
  {
   "cell_type": "code",
   "execution_count": 62,
   "metadata": {},
   "outputs": [],
   "source": [
    "stadiums = { \"munich\":\"Alianz Arena\",\"dormundt\": \"SIP\", \"ulm\": \"VFLULM\", \"shalke\": \"GAZPROM\"}"
   ]
  },
  {
   "cell_type": "code",
   "execution_count": 67,
   "metadata": {},
   "outputs": [
    {
     "data": {
      "text/plain": [
       "dict"
      ]
     },
     "execution_count": 67,
     "metadata": {},
     "output_type": "execute_result"
    }
   ],
   "source": [
    "population.update( {\"stadiums\": stadiums} )\n",
    "type(population[\"stadiums\"])"
   ]
  },
  {
   "cell_type": "code",
   "execution_count": 68,
   "metadata": {},
   "outputs": [
    {
     "data": {
      "text/plain": [
       "{'Berlin': 3748148,\n",
       " 'Hamburg': 1822445,\n",
       " 'Munich': 1471508,\n",
       " 'Cologne': 1085664,\n",
       " 'stadiums': {'munich': 'Alianz Arena',\n",
       "  'dormundt': 'SIP',\n",
       "  'ulm': 'VFLULM',\n",
       "  'shalke': 'GAZPROM'}}"
      ]
     },
     "execution_count": 68,
     "metadata": {},
     "output_type": "execute_result"
    }
   ],
   "source": [
    "population"
   ]
  },
  {
   "cell_type": "code",
   "execution_count": null,
   "metadata": {},
   "outputs": [],
   "source": [
    "# Drop a key\n",
    "print( population )\n",
    "population.pop( 'Hamburg' )\n",
    "print( population )"
   ]
  },
  {
   "cell_type": "code",
   "execution_count": null,
   "metadata": {},
   "outputs": [],
   "source": [
    "population"
   ]
  },
  {
   "cell_type": "code",
   "execution_count": null,
   "metadata": {},
   "outputs": [],
   "source": [
    "# Drop an item\n",
    "population.popitem( )\n",
    "print( population )"
   ]
  },
  {
   "cell_type": "code",
   "execution_count": null,
   "metadata": {},
   "outputs": [],
   "source": [
    "population"
   ]
  },
  {
   "cell_type": "code",
   "execution_count": null,
   "metadata": {},
   "outputs": [],
   "source": []
  },
  {
   "cell_type": "code",
   "execution_count": 69,
   "metadata": {},
   "outputs": [
    {
     "data": {
      "text/plain": [
       "{'Berlin': 3748148,\n",
       " 'Hamburg': 1822445,\n",
       " 'Munich': 1471508,\n",
       " 'Cologne': 1085664,\n",
       " 'stadiums': {'munich': 'Alianz Arena',\n",
       "  'dormundt': 'SIP',\n",
       "  'ulm': 'VFLULM',\n",
       "  'shalke': 'GAZPROM'},\n",
       " 'Bonn': 327258,\n",
       " 'Ulm': 100000}"
      ]
     },
     "execution_count": 69,
     "metadata": {},
     "output_type": "execute_result"
    }
   ],
   "source": [
    "population.update( { \"Bonn\" :  327258 } )\n",
    "population.update( { \"Ulm\" : 100000  } )\n",
    "population"
   ]
  },
  {
   "cell_type": "code",
   "execution_count": 70,
   "metadata": {},
   "outputs": [
    {
     "name": "stdout",
     "output_type": "stream",
     "text": [
      "{'Berlin': 3748148, 'Hamburg': 1822445, 'Munich': 1471508, 'Cologne': 1085664, 'stadiums': {'munich': 'Alianz Arena', 'dormundt': 'SIP', 'ulm': 'VFLULM', 'shalke': 'GAZPROM'}, 'Bonn': 327258, 'Ulm': 100000}\n",
      "{'Berlin': 3748148, 'Hamburg': 1822445, 'Munich': 1471508, 'Cologne': 1085664, 'stadiums': {'munich': 'Alianz Arena', 'dormundt': 'SIP', 'ulm': 'VFLULM', 'shalke': 'GAZPROM'}, 'Bonn': {'population': 100, 'km2': 500, 'president': 'Anzony'}, 'Ulm': 100000}\n"
     ]
    }
   ],
   "source": [
    "# Add new items\n",
    "print( population )\n",
    "population.update( { \"Bonn\" :  {\"population\":100 , \"km2\" : 500, \"president\" : \"Anzony\"} } )\n",
    "print( population )"
   ]
  },
  {
   "cell_type": "code",
   "execution_count": 71,
   "metadata": {},
   "outputs": [
    {
     "data": {
      "text/plain": [
       "dict_keys(['Berlin', 'Hamburg', 'Munich', 'Cologne', 'stadiums', 'Bonn', 'Ulm'])"
      ]
     },
     "execution_count": 71,
     "metadata": {},
     "output_type": "execute_result"
    }
   ],
   "source": [
    "population.keys()"
   ]
  },
  {
   "cell_type": "code",
   "execution_count": 74,
   "metadata": {},
   "outputs": [
    {
     "data": {
      "text/plain": [
       "dict_values([3748148, 1822445, 1471508, 1085664, {'munich': 'Alianz Arena', 'dormundt': 'SIP', 'ulm': 'VFLULM', 'shalke': 'GAZPROM'}, {'population': 100, 'km2': 500, 'president': 'Anzony'}, 100000])"
      ]
     },
     "execution_count": 74,
     "metadata": {},
     "output_type": "execute_result"
    }
   ],
   "source": [
    "# Get all values from all keys\n",
    "population.values()"
   ]
  },
  {
   "cell_type": "code",
   "execution_count": 78,
   "metadata": {},
   "outputs": [
    {
     "data": {
      "text/plain": [
       "'GAZPROM'"
      ]
     },
     "execution_count": 78,
     "metadata": {},
     "output_type": "execute_result"
    }
   ],
   "source": [
    "population[\"stadiums\"].get(\"shalke\")"
   ]
  },
  {
   "cell_type": "markdown",
   "metadata": {},
   "source": [
    "#### From lists to dictionaries"
   ]
  },
  {
   "cell_type": "code",
   "execution_count": 79,
   "metadata": {},
   "outputs": [
    {
     "ename": "NameError",
     "evalue": "name 'postal_code' is not defined",
     "output_type": "error",
     "traceback": [
      "\u001b[1;31m---------------------------------------------------------------------------\u001b[0m",
      "\u001b[1;31mNameError\u001b[0m                                 Traceback (most recent call last)",
      "\u001b[1;32mC:\\Users\\ALEXAN~1\\AppData\\Local\\Temp/ipykernel_28132/2565770422.py\u001b[0m in \u001b[0;36m<module>\u001b[1;34m\u001b[0m\n\u001b[1;32m----> 1\u001b[1;33m \u001b[0mpostal_code\u001b[0m\u001b[1;33m\u001b[0m\u001b[1;33m\u001b[0m\u001b[0m\n\u001b[0m",
      "\u001b[1;31mNameError\u001b[0m: name 'postal_code' is not defined"
     ]
    }
   ],
   "source": [
    "postal_code"
   ]
  },
  {
   "cell_type": "code",
   "execution_count": 80,
   "metadata": {},
   "outputs": [
    {
     "ename": "NameError",
     "evalue": "name 'postal_code' is not defined",
     "output_type": "error",
     "traceback": [
      "\u001b[1;31m---------------------------------------------------------------------------\u001b[0m",
      "\u001b[1;31mNameError\u001b[0m                                 Traceback (most recent call last)",
      "\u001b[1;32mC:\\Users\\ALEXAN~1\\AppData\\Local\\Temp/ipykernel_28132/1850772104.py\u001b[0m in \u001b[0;36m<module>\u001b[1;34m\u001b[0m\n\u001b[1;32m----> 1\u001b[1;33m \u001b[0mlist_2\u001b[0m \u001b[1;33m=\u001b[0m \u001b[0mlist\u001b[0m\u001b[1;33m(\u001b[0m\u001b[0mset\u001b[0m\u001b[1;33m(\u001b[0m\u001b[0mpostal_code\u001b[0m\u001b[1;33m)\u001b[0m\u001b[1;33m)\u001b[0m\u001b[1;33m\u001b[0m\u001b[1;33m\u001b[0m\u001b[0m\n\u001b[0m",
      "\u001b[1;31mNameError\u001b[0m: name 'postal_code' is not defined"
     ]
    }
   ],
   "source": [
    "list_2 = list(set(postal_code))"
   ]
  },
  {
   "cell_type": "code",
   "execution_count": 81,
   "metadata": {},
   "outputs": [],
   "source": [
    "# keys\n",
    "cities = ['Fray Martin','Santa Rosa de Puquio','Cuchicorral','Santiago de Punchauca',\n",
    "          'La Cruz (11 Amigos)','Cerro Cañon','Cabaña Suche','San Lorenzo',\n",
    "          'Jose Carlos Mariategui','Pascal','La Esperanza','Fundo Pancha Paula','Olfa',\n",
    "          'Rio Seco','Paraiso','El Rosario','Cerro Puquio','La Campana','Las Animas',\n",
    "          'Vetancio','Roma Alta','San Jose','San Pedro de Carabayllo','Huacoy',\n",
    "          'Fundo Pampa Libre','Ex Fundo Santa Ines','Reposo','Carmelito','Santa Elena','Don Luis','Santa Ines Parcela','Asociacion Santa Ines','Roma Baja','Residencial Santa Lucia','San Francisco','Santa Margarita - Molinos','Sipan Peru','Fundo Cuadros','Bello Horizonte','El Hueco','Ex Fundo Mariategui','Naranjito','Vista Hermosa','El Sabroso de Jose Carlos Mariategui','Granja Carabayllo','Agropecuario Valle el Chillon','Camino Real','Copacabana','El Trebol','Tablada la Virgen','San Fernando de Carabayllo','San Fernando de Copacabana','La Manzana','Chacra Grande','Torres de Copacabana','San Pedro de Carabayllo','San Lorenzo','Chaclacayo','Chorrillos','Cieneguilla','Lindero','Pichicato','San Isidro','San Vicente','Piedra Liza','Santa Rosa de Chontay (Chontay)','La Libertad','El Agustino','Independencia','Jesus Maria','La Molina','La Victoria','Lince','Las Palmeras','Chosica','Lurin','Los Almacigos','Rinconada del Puruhuay','Fundo Santa Genoveva','Los Maderos','Casco Viejo','Vista Alegre','Buena Vista Alta','Lomas Pucara','Fundo la Querencia','Magdalena del Mar','Pueblo Libre','Miraflores','Pachacamac','Puente Manchay','Tambo Inga','Pampa Flores','Manchay Alto Lote B','Invasion Cementerio','Manchay Bajo','Santa Rosa de Mal Paso','Cardal','Jatosisa','Tomina','Pucusana','Honda','Quipa','Los Pelicanos','Playa Puerto Bello','Ñaves','Granja Santa Elena','Alvatroz II','Poseidon - Lobo Varado','Playa Minka Mar','Playa Acantilado','Puente Piedra','Punta Hermosa','Capilla Lucumo','Cucuya','Pampapacta','Avicola San Cirilo de Loma Negra - 03','Avicola San Cirilo de Loma Negra - 02','Avicola San Cirilo de Loma Negra - 01','Pampa Mamay','Cerro Botija','Agricultores y Ganaderos','Pampa Malanche Avicola Puma','Punta Negra','Chancheria','Rimac','San Bartolo','Plantel 41','Granja 4','Granja 5','Granja 07','Granja 44','Granja 47','Santa Maria I','Las Torres Santa Fe','San Francisco de Borja','San Isidro','San Juan de Lurigancho','Ciudad de Dios','San Luis','Barrio Obrero Industrial','San Miguel','Santa Anita - los Ficus','Santa Maria del Mar','Don Bruno','Santa Rosa','Santiago de Surco','Surquillo','Villa el Salvador','Villa Maria del Triunfo', 'Pueblo libre']\n",
    "# values\n",
    "postal_code = [15001,15003,15004,15006,15018,15019,15046,15072,15079,15081,15082,15083,15088,15123,15004,15011,15012,15019,15022,15023,15026,15476,15479,15483,15487,15491,15494,15498,15047,15049,15063,15082,15083,15121,15122,15313,15316,15318,15319,15320,15321,15324,15320,15320,15320,15320,15320,15320,15121,15320,15320,15121,15320,15320,15121,15121,15122,15122,15121,15121,15121,15320,15320,15320,15320,15320,15320,15121,15121,15121,15320,15121,15319,15121,15121,15121,15320,15320,15121,15121,15121,15121,15320,15320,15320,15122,15122,15122,15122,15122,15122,15122,15122,15121,15121,15122,15122,15121,15121,15122,15122,15121,15122,15122,15122,15472,15476,15054,15056,15057,15058,15063,15064,15066,15067,15593,15594,15593,15593,15593,15593,15593,15593,15593,15311,15312,15313,15314,15316,15324,15326,15327,15328,15332,15003,15004,15006,15007,15008,15009,15011,15018,15022,15311,15328,15331,15332,15333,15046, 15001]"
   ]
  },
  {
   "cell_type": "code",
   "execution_count": 82,
   "metadata": {},
   "outputs": [
    {
     "data": {
      "text/plain": [
       "150"
      ]
     },
     "execution_count": 82,
     "metadata": {},
     "output_type": "execute_result"
    }
   ],
   "source": [
    "len(cities)"
   ]
  },
  {
   "cell_type": "code",
   "execution_count": 83,
   "metadata": {},
   "outputs": [
    {
     "data": {
      "text/plain": [
       "150"
      ]
     },
     "execution_count": 83,
     "metadata": {},
     "output_type": "execute_result"
    }
   ],
   "source": [
    "len(postal_code)"
   ]
  },
  {
   "cell_type": "code",
   "execution_count": 87,
   "metadata": {},
   "outputs": [
    {
     "data": {
      "text/plain": [
       "[('Fray Martin', 15001),\n",
       " ('Santa Rosa de Puquio', 15003),\n",
       " ('Cuchicorral', 15004),\n",
       " ('Santiago de Punchauca', 15006),\n",
       " ('La Cruz (11 Amigos)', 15018),\n",
       " ('Cerro Cañon', 15019),\n",
       " ('Cabaña Suche', 15046),\n",
       " ('San Lorenzo', 15072),\n",
       " ('Jose Carlos Mariategui', 15079),\n",
       " ('Pascal', 15081),\n",
       " ('La Esperanza', 15082),\n",
       " ('Fundo Pancha Paula', 15083),\n",
       " ('Olfa', 15088),\n",
       " ('Rio Seco', 15123),\n",
       " ('Paraiso', 15004),\n",
       " ('El Rosario', 15011),\n",
       " ('Cerro Puquio', 15012),\n",
       " ('La Campana', 15019),\n",
       " ('Las Animas', 15022),\n",
       " ('Vetancio', 15023),\n",
       " ('Roma Alta', 15026),\n",
       " ('San Jose', 15476),\n",
       " ('San Pedro de Carabayllo', 15479),\n",
       " ('Huacoy', 15483),\n",
       " ('Fundo Pampa Libre', 15487),\n",
       " ('Ex Fundo Santa Ines', 15491),\n",
       " ('Reposo', 15494),\n",
       " ('Carmelito', 15498),\n",
       " ('Santa Elena', 15047),\n",
       " ('Don Luis', 15049),\n",
       " ('Santa Ines Parcela', 15063),\n",
       " ('Asociacion Santa Ines', 15082),\n",
       " ('Roma Baja', 15083),\n",
       " ('Residencial Santa Lucia', 15121),\n",
       " ('San Francisco', 15122),\n",
       " ('Santa Margarita - Molinos', 15313),\n",
       " ('Sipan Peru', 15316),\n",
       " ('Fundo Cuadros', 15318),\n",
       " ('Bello Horizonte', 15319),\n",
       " ('El Hueco', 15320),\n",
       " ('Ex Fundo Mariategui', 15321),\n",
       " ('Naranjito', 15324),\n",
       " ('Vista Hermosa', 15320),\n",
       " ('El Sabroso de Jose Carlos Mariategui', 15320),\n",
       " ('Granja Carabayllo', 15320),\n",
       " ('Agropecuario Valle el Chillon', 15320),\n",
       " ('Camino Real', 15320),\n",
       " ('Copacabana', 15320),\n",
       " ('El Trebol', 15121),\n",
       " ('Tablada la Virgen', 15320),\n",
       " ('San Fernando de Carabayllo', 15320),\n",
       " ('San Fernando de Copacabana', 15121),\n",
       " ('La Manzana', 15320),\n",
       " ('Chacra Grande', 15320),\n",
       " ('Torres de Copacabana', 15121),\n",
       " ('San Pedro de Carabayllo', 15121),\n",
       " ('San Lorenzo', 15122),\n",
       " ('Chaclacayo', 15122),\n",
       " ('Chorrillos', 15121),\n",
       " ('Cieneguilla', 15121),\n",
       " ('Lindero', 15121),\n",
       " ('Pichicato', 15320),\n",
       " ('San Isidro', 15320),\n",
       " ('San Vicente', 15320),\n",
       " ('Piedra Liza', 15320),\n",
       " ('Santa Rosa de Chontay (Chontay)', 15320),\n",
       " ('La Libertad', 15320),\n",
       " ('El Agustino', 15121),\n",
       " ('Independencia', 15121),\n",
       " ('Jesus Maria', 15121),\n",
       " ('La Molina', 15320),\n",
       " ('La Victoria', 15121),\n",
       " ('Lince', 15319),\n",
       " ('Las Palmeras', 15121),\n",
       " ('Chosica', 15121),\n",
       " ('Lurin', 15121),\n",
       " ('Los Almacigos', 15320),\n",
       " ('Rinconada del Puruhuay', 15320),\n",
       " ('Fundo Santa Genoveva', 15121),\n",
       " ('Los Maderos', 15121),\n",
       " ('Casco Viejo', 15121),\n",
       " ('Vista Alegre', 15121),\n",
       " ('Buena Vista Alta', 15320),\n",
       " ('Lomas Pucara', 15320),\n",
       " ('Fundo la Querencia', 15320),\n",
       " ('Magdalena del Mar', 15122),\n",
       " ('Pueblo Libre', 15122),\n",
       " ('Miraflores', 15122),\n",
       " ('Pachacamac', 15122),\n",
       " ('Puente Manchay', 15122),\n",
       " ('Tambo Inga', 15122),\n",
       " ('Pampa Flores', 15122),\n",
       " ('Manchay Alto Lote B', 15122),\n",
       " ('Invasion Cementerio', 15121),\n",
       " ('Manchay Bajo', 15121),\n",
       " ('Santa Rosa de Mal Paso', 15122),\n",
       " ('Cardal', 15122),\n",
       " ('Jatosisa', 15121),\n",
       " ('Tomina', 15121),\n",
       " ('Pucusana', 15122),\n",
       " ('Honda', 15122),\n",
       " ('Quipa', 15121),\n",
       " ('Los Pelicanos', 15122),\n",
       " ('Playa Puerto Bello', 15122),\n",
       " ('Ñaves', 15122),\n",
       " ('Granja Santa Elena', 15472),\n",
       " ('Alvatroz II', 15476),\n",
       " ('Poseidon - Lobo Varado', 15054),\n",
       " ('Playa Minka Mar', 15056),\n",
       " ('Playa Acantilado', 15057),\n",
       " ('Puente Piedra', 15058),\n",
       " ('Punta Hermosa', 15063),\n",
       " ('Capilla Lucumo', 15064),\n",
       " ('Cucuya', 15066),\n",
       " ('Pampapacta', 15067),\n",
       " ('Avicola San Cirilo de Loma Negra - 03', 15593),\n",
       " ('Avicola San Cirilo de Loma Negra - 02', 15594),\n",
       " ('Avicola San Cirilo de Loma Negra - 01', 15593),\n",
       " ('Pampa Mamay', 15593),\n",
       " ('Cerro Botija', 15593),\n",
       " ('Agricultores y Ganaderos', 15593),\n",
       " ('Pampa Malanche Avicola Puma', 15593),\n",
       " ('Punta Negra', 15593),\n",
       " ('Chancheria', 15593),\n",
       " ('Rimac', 15311),\n",
       " ('San Bartolo', 15312),\n",
       " ('Plantel 41', 15313),\n",
       " ('Granja 4', 15314),\n",
       " ('Granja 5', 15316),\n",
       " ('Granja 07', 15324),\n",
       " ('Granja 44', 15326),\n",
       " ('Granja 47', 15327),\n",
       " ('Santa Maria I', 15328),\n",
       " ('Las Torres Santa Fe', 15332),\n",
       " ('San Francisco de Borja', 15003),\n",
       " ('San Isidro', 15004),\n",
       " ('San Juan de Lurigancho', 15006),\n",
       " ('Ciudad de Dios', 15007),\n",
       " ('San Luis', 15008),\n",
       " ('Barrio Obrero Industrial', 15009),\n",
       " ('San Miguel', 15011),\n",
       " ('Santa Anita - los Ficus', 15018),\n",
       " ('Santa Maria del Mar', 15022),\n",
       " ('Don Bruno', 15311),\n",
       " ('Santa Rosa', 15328),\n",
       " ('Santiago de Surco', 15331),\n",
       " ('Surquillo', 15332),\n",
       " ('Villa el Salvador', 15333),\n",
       " ('Villa Maria del Triunfo', 15046),\n",
       " ('Pueblo libre', 15001)]"
      ]
     },
     "execution_count": 87,
     "metadata": {},
     "output_type": "execute_result"
    }
   ],
   "source": [
    "list(zip( cities , postal_code ))"
   ]
  },
  {
   "cell_type": "code",
   "execution_count": 88,
   "metadata": {},
   "outputs": [],
   "source": [
    "# Return a dictionarie\n",
    "ct_pc = dict( zip( cities , postal_code ) )"
   ]
  },
  {
   "cell_type": "code",
   "execution_count": 91,
   "metadata": {},
   "outputs": [
    {
     "data": {
      "text/plain": [
       "{'Fray Martin': 15001,\n",
       " 'Santa Rosa de Puquio': 15003,\n",
       " 'Cuchicorral': 15004,\n",
       " 'Santiago de Punchauca': 15006,\n",
       " 'La Cruz (11 Amigos)': 15018,\n",
       " 'Cerro Cañon': 15019,\n",
       " 'Cabaña Suche': 15046,\n",
       " 'San Lorenzo': 15122,\n",
       " 'Jose Carlos Mariategui': 15079,\n",
       " 'Pascal': 15081,\n",
       " 'La Esperanza': 15082,\n",
       " 'Fundo Pancha Paula': 15083,\n",
       " 'Olfa': 15088,\n",
       " 'Rio Seco': 15123,\n",
       " 'Paraiso': 15004,\n",
       " 'El Rosario': 15011,\n",
       " 'Cerro Puquio': 15012,\n",
       " 'La Campana': 15019,\n",
       " 'Las Animas': 15022,\n",
       " 'Vetancio': 15023,\n",
       " 'Roma Alta': 15026,\n",
       " 'San Jose': 15476,\n",
       " 'San Pedro de Carabayllo': 15121,\n",
       " 'Huacoy': 15483,\n",
       " 'Fundo Pampa Libre': 15487,\n",
       " 'Ex Fundo Santa Ines': 15491,\n",
       " 'Reposo': 15494,\n",
       " 'Carmelito': 15498,\n",
       " 'Santa Elena': 15047,\n",
       " 'Don Luis': 15049,\n",
       " 'Santa Ines Parcela': 15063,\n",
       " 'Asociacion Santa Ines': 15082,\n",
       " 'Roma Baja': 15083,\n",
       " 'Residencial Santa Lucia': 15121,\n",
       " 'San Francisco': 15122,\n",
       " 'Santa Margarita - Molinos': 15313,\n",
       " 'Sipan Peru': 15316,\n",
       " 'Fundo Cuadros': 15318,\n",
       " 'Bello Horizonte': 15319,\n",
       " 'El Hueco': 15320,\n",
       " 'Ex Fundo Mariategui': 15321,\n",
       " 'Naranjito': 15324,\n",
       " 'Vista Hermosa': 15320,\n",
       " 'El Sabroso de Jose Carlos Mariategui': 15320,\n",
       " 'Granja Carabayllo': 15320,\n",
       " 'Agropecuario Valle el Chillon': 15320,\n",
       " 'Camino Real': 15320,\n",
       " 'Copacabana': 15320,\n",
       " 'El Trebol': 15121,\n",
       " 'Tablada la Virgen': 15320,\n",
       " 'San Fernando de Carabayllo': 15320,\n",
       " 'San Fernando de Copacabana': 15121,\n",
       " 'La Manzana': 15320,\n",
       " 'Chacra Grande': 15320,\n",
       " 'Torres de Copacabana': 15121,\n",
       " 'Chaclacayo': 15122,\n",
       " 'Chorrillos': 15121,\n",
       " 'Cieneguilla': 15121,\n",
       " 'Lindero': 15121,\n",
       " 'Pichicato': 15320,\n",
       " 'San Isidro': 15004,\n",
       " 'San Vicente': 15320,\n",
       " 'Piedra Liza': 15320,\n",
       " 'Santa Rosa de Chontay (Chontay)': 15320,\n",
       " 'La Libertad': 15320,\n",
       " 'El Agustino': 15121,\n",
       " 'Independencia': 15121,\n",
       " 'Jesus Maria': 15121,\n",
       " 'La Molina': 15320,\n",
       " 'La Victoria': 15121,\n",
       " 'Lince': 15319,\n",
       " 'Las Palmeras': 15121,\n",
       " 'Chosica': 15121,\n",
       " 'Lurin': 15121,\n",
       " 'Los Almacigos': 15320,\n",
       " 'Rinconada del Puruhuay': 15320,\n",
       " 'Fundo Santa Genoveva': 15121,\n",
       " 'Los Maderos': 15121,\n",
       " 'Casco Viejo': 15121,\n",
       " 'Vista Alegre': 15121,\n",
       " 'Buena Vista Alta': 15320,\n",
       " 'Lomas Pucara': 15320,\n",
       " 'Fundo la Querencia': 15320,\n",
       " 'Magdalena del Mar': 15122,\n",
       " 'Pueblo Libre': 15122,\n",
       " 'Miraflores': 15122,\n",
       " 'Pachacamac': 15122,\n",
       " 'Puente Manchay': 15122,\n",
       " 'Tambo Inga': 15122,\n",
       " 'Pampa Flores': 15122,\n",
       " 'Manchay Alto Lote B': 15122,\n",
       " 'Invasion Cementerio': 15121,\n",
       " 'Manchay Bajo': 15121,\n",
       " 'Santa Rosa de Mal Paso': 15122,\n",
       " 'Cardal': 15122,\n",
       " 'Jatosisa': 15121,\n",
       " 'Tomina': 15121,\n",
       " 'Pucusana': 15122,\n",
       " 'Honda': 15122,\n",
       " 'Quipa': 15121,\n",
       " 'Los Pelicanos': 15122,\n",
       " 'Playa Puerto Bello': 15122,\n",
       " 'Ñaves': 15122,\n",
       " 'Granja Santa Elena': 15472,\n",
       " 'Alvatroz II': 15476,\n",
       " 'Poseidon - Lobo Varado': 15054,\n",
       " 'Playa Minka Mar': 15056,\n",
       " 'Playa Acantilado': 15057,\n",
       " 'Puente Piedra': 15058,\n",
       " 'Punta Hermosa': 15063,\n",
       " 'Capilla Lucumo': 15064,\n",
       " 'Cucuya': 15066,\n",
       " 'Pampapacta': 15067,\n",
       " 'Avicola San Cirilo de Loma Negra - 03': 15593,\n",
       " 'Avicola San Cirilo de Loma Negra - 02': 15594,\n",
       " 'Avicola San Cirilo de Loma Negra - 01': 15593,\n",
       " 'Pampa Mamay': 15593,\n",
       " 'Cerro Botija': 15593,\n",
       " 'Agricultores y Ganaderos': 15593,\n",
       " 'Pampa Malanche Avicola Puma': 15593,\n",
       " 'Punta Negra': 15593,\n",
       " 'Chancheria': 15593,\n",
       " 'Rimac': 15311,\n",
       " 'San Bartolo': 15312,\n",
       " 'Plantel 41': 15313,\n",
       " 'Granja 4': 15314,\n",
       " 'Granja 5': 15316,\n",
       " 'Granja 07': 15324,\n",
       " 'Granja 44': 15326,\n",
       " 'Granja 47': 15327,\n",
       " 'Santa Maria I': 15328,\n",
       " 'Las Torres Santa Fe': 15332,\n",
       " 'San Francisco de Borja': 15003,\n",
       " 'San Juan de Lurigancho': 15006,\n",
       " 'Ciudad de Dios': 15007,\n",
       " 'San Luis': 15008,\n",
       " 'Barrio Obrero Industrial': 15009,\n",
       " 'San Miguel': 15011,\n",
       " 'Santa Anita - los Ficus': 15018,\n",
       " 'Santa Maria del Mar': 15022,\n",
       " 'Don Bruno': 15311,\n",
       " 'Santa Rosa': 15328,\n",
       " 'Santiago de Surco': 15331,\n",
       " 'Surquillo': 15332,\n",
       " 'Villa el Salvador': 15333,\n",
       " 'Villa Maria del Triunfo': 15046,\n",
       " 'Pueblo libre': 15001}"
      ]
     },
     "execution_count": 91,
     "metadata": {},
     "output_type": "execute_result"
    }
   ],
   "source": [
    "ct_pc"
   ]
  },
  {
   "cell_type": "markdown",
   "metadata": {},
   "source": [
    "### Excersises\n",
    "1. Write a Python script to check whether Lima is a key of ct_pc.\n",
    "2. Write a Python script to join two Python dictionaries.\n",
    "3. Write a Python script to add a key to a dictionary."
   ]
  },
  {
   "cell_type": "markdown",
   "metadata": {},
   "source": [
    "## [Numpy](https://numpy.org/doc/stable/user/numpy-for-matlab-users.html)\n",
    "Numpy is the core library for scientific computing in Python. It provides a high-performance multidimensional array object, and tools for working with these arrays. If you are already familiar with MATLAB, you might find this tutorial useful to get started with Numpy."
   ]
  },
  {
   "cell_type": "markdown",
   "metadata": {},
   "source": [
    "### Arrays\n",
    "A numpy array is a grid of values, all of the same type, and is indexed by a tuple of nonnegative integers. The number of dimensions is the rank of the array; the shape of an array is a tuple of integers giving the size of the array along each dimension."
   ]
  },
  {
   "cell_type": "code",
   "execution_count": 93,
   "metadata": {},
   "outputs": [],
   "source": [
    "import numpy as np"
   ]
  },
  {
   "cell_type": "code",
   "execution_count": 94,
   "metadata": {},
   "outputs": [],
   "source": [
    "a = np.array( [1, 2, 3, 4, 5] )"
   ]
  },
  {
   "cell_type": "code",
   "execution_count": 95,
   "metadata": {},
   "outputs": [
    {
     "data": {
      "text/plain": [
       "array([1, 2, 3, 4, 5])"
      ]
     },
     "execution_count": 95,
     "metadata": {},
     "output_type": "execute_result"
    }
   ],
   "source": [
    "a"
   ]
  },
  {
   "cell_type": "code",
   "execution_count": 96,
   "metadata": {},
   "outputs": [
    {
     "name": "stdout",
     "output_type": "stream",
     "text": [
      "[1 2 3 4 5]\n"
     ]
    }
   ],
   "source": [
    "# 1D array\n",
    "a = np.array( [1, 2, 3, 4, 5] )\n",
    "print(a)"
   ]
  },
  {
   "cell_type": "code",
   "execution_count": 97,
   "metadata": {},
   "outputs": [
    {
     "name": "stdout",
     "output_type": "stream",
     "text": [
      "[[1 2 3]\n",
      " [4 5 6]]\n"
     ]
    }
   ],
   "source": [
    "# 2D array\n",
    "M = np.array( [ [1, 2, 3], [4, 5, 6] ] )\n",
    "\n",
    "print(M)"
   ]
  },
  {
   "cell_type": "code",
   "execution_count": null,
   "metadata": {},
   "outputs": [],
   "source": [
    "X = np.array( [ [1, 2, 3, 4], [4, 5, 6, 7] ] )\n",
    "X"
   ]
  },
  {
   "cell_type": "markdown",
   "metadata": {},
   "source": [
    "|Function|\tDescription|\n",
    "| --- |--- |\n",
    "|np.array(a) |\tCreate -dimensional np array from sequence a|\n",
    "|np.linspace(a,b,N) |\tCreate 1D np array with N equally spaced values <br> from a to b (inclusively)|\n",
    "|np.arange(a,b,step) |\tCreate 1D np array with values from a to b (exclusively) <br> incremented by step|\n",
    "|np.zeros(N)\t| Create 1D np array of zeros of length |\n",
    "|np.zeros((n,m)) |\tCreate 2D np array of zeros with  rows and  columns|\n",
    "|np.ones(N) |\tCreate 1D np array of ones of length |\n",
    "|np.ones((n,m))|\tCreate 2D np array of ones with  rows and  columns|\n",
    "|np.eye(N)\t| Create 2D np array with  rows and  columns  <br> with ones on the diagonal  (ie. the identity matrix of size )|\n",
    "|np.concatenate( )|Join a sequence of arrays along an existing axis|\n",
    "|np.hstack( )|Stack arrays in sequence horizontally(column wise)|\n",
    "|np.vstack( )|Stack arrays in sequence vertically(row wise)|\n",
    "|np.column_stack( )|Stack 1-D arrays as columns into a 2-D array|\n",
    "|np.random.normal() | Draw random samples from a normal (Gaussian) distribution. |\n",
    "|np.linalg.inv() | Compute the (multiplicative) inverse of a matrix. |\n",
    "|np.dot() / @  | Matrix Multiplication. |"
   ]
  },
  {
   "cell_type": "code",
   "execution_count": 98,
   "metadata": {},
   "outputs": [
    {
     "name": "stdout",
     "output_type": "stream",
     "text": [
      "[0.  0.1 0.2 0.3 0.4 0.5 0.6 0.7 0.8 0.9 1. ]\n"
     ]
    }
   ],
   "source": [
    "# Create a 1D NumPy array with 11 equally spaced values from 0 to 1:\n",
    "x = np.linspace( 0, 1, 11 )\n",
    "print(x)"
   ]
  },
  {
   "cell_type": "code",
   "execution_count": 103,
   "metadata": {},
   "outputs": [
    {
     "name": "stdout",
     "output_type": "stream",
     "text": [
      "[ 0  1  2  3  4  5  6  7  8  9 10 11 12 13 14 15 16 17 18 19]\n"
     ]
    }
   ],
   "source": [
    "# Create a 1D NumPy array with values from 0 to 20 (exclusively) incremented by 5:\n",
    "y = np.arange( 0, 20, 1 )\n",
    "print(y)"
   ]
  },
  {
   "cell_type": "code",
   "execution_count": 104,
   "metadata": {},
   "outputs": [
    {
     "name": "stdout",
     "output_type": "stream",
     "text": [
      "[0. 0. 0. 0. 0.]\n"
     ]
    }
   ],
   "source": [
    "# Create a 1D NumPy array of zeros of length 5:\n",
    "z = np.zeros(5)\n",
    "print(z)"
   ]
  },
  {
   "cell_type": "code",
   "execution_count": 105,
   "metadata": {},
   "outputs": [
    {
     "name": "stdout",
     "output_type": "stream",
     "text": [
      "[[0. 0. 0. 0. 0. 0. 0. 0. 0. 0.]\n",
      " [0. 0. 0. 0. 0. 0. 0. 0. 0. 0.]\n",
      " [0. 0. 0. 0. 0. 0. 0. 0. 0. 0.]\n",
      " [0. 0. 0. 0. 0. 0. 0. 0. 0. 0.]\n",
      " [0. 0. 0. 0. 0. 0. 0. 0. 0. 0.]]\n"
     ]
    }
   ],
   "source": [
    "# Create a 2D NumPy array of zeros of shape ( 5, 10 ) :\n",
    "M = np.zeros( (5, 10) )\n",
    "print(M)"
   ]
  },
  {
   "cell_type": "code",
   "execution_count": 106,
   "metadata": {},
   "outputs": [
    {
     "name": "stdout",
     "output_type": "stream",
     "text": [
      "[1. 1. 1. 1. 1. 1. 1.]\n"
     ]
    }
   ],
   "source": [
    "# Create a 1D NumPy array of ones of length 7:\n",
    "w = np.ones(7)\n",
    "print(w)"
   ]
  },
  {
   "cell_type": "code",
   "execution_count": 107,
   "metadata": {},
   "outputs": [
    {
     "name": "stdout",
     "output_type": "stream",
     "text": [
      "[[1. 1. 1. 1. 1.]\n",
      " [1. 1. 1. 1. 1.]\n",
      " [1. 1. 1. 1. 1.]\n",
      " [1. 1. 1. 1. 1.]\n",
      " [1. 1. 1. 1. 1.]]\n"
     ]
    }
   ],
   "source": [
    "# Create a 2D NumPy array of ones with 35ows and 25 columns:\n",
    "N = np.ones( (5, 5) )\n",
    "print(N)"
   ]
  },
  {
   "cell_type": "code",
   "execution_count": 112,
   "metadata": {},
   "outputs": [
    {
     "data": {
      "text/plain": [
       "array([[1., 0., 0., 0., 0.],\n",
       "       [0., 1., 0., 0., 0.],\n",
       "       [0., 0., 1., 0., 0.],\n",
       "       [0., 0., 0., 1., 0.],\n",
       "       [0., 0., 0., 0., 1.]])"
      ]
     },
     "execution_count": 112,
     "metadata": {},
     "output_type": "execute_result"
    }
   ],
   "source": [
    "np.eye(5)"
   ]
  },
  {
   "cell_type": "code",
   "execution_count": 113,
   "metadata": {},
   "outputs": [
    {
     "name": "stdout",
     "output_type": "stream",
     "text": [
      "[[1. 0. 0. 0. 0. 0. 0. 0. 0. 0.]\n",
      " [0. 1. 0. 0. 0. 0. 0. 0. 0. 0.]\n",
      " [0. 0. 1. 0. 0. 0. 0. 0. 0. 0.]\n",
      " [0. 0. 0. 1. 0. 0. 0. 0. 0. 0.]\n",
      " [0. 0. 0. 0. 1. 0. 0. 0. 0. 0.]\n",
      " [0. 0. 0. 0. 0. 1. 0. 0. 0. 0.]\n",
      " [0. 0. 0. 0. 0. 0. 1. 0. 0. 0.]\n",
      " [0. 0. 0. 0. 0. 0. 0. 1. 0. 0.]\n",
      " [0. 0. 0. 0. 0. 0. 0. 0. 1. 0.]\n",
      " [0. 0. 0. 0. 0. 0. 0. 0. 0. 1.]]\n"
     ]
    }
   ],
   "source": [
    "# Create the identity matrix of size 10:\n",
    "I = np.eye(10)\n",
    "print(I)"
   ]
  },
  {
   "cell_type": "code",
   "execution_count": 114,
   "metadata": {},
   "outputs": [
    {
     "name": "stdout",
     "output_type": "stream",
     "text": [
      "(10, 10)\n"
     ]
    }
   ],
   "source": [
    "# Shape\n",
    "print( I.shape )"
   ]
  },
  {
   "cell_type": "code",
   "execution_count": 116,
   "metadata": {},
   "outputs": [
    {
     "name": "stdout",
     "output_type": "stream",
     "text": [
      "100\n"
     ]
    }
   ],
   "source": [
    "# Size\n",
    "print(I.size)"
   ]
  },
  {
   "cell_type": "code",
   "execution_count": 117,
   "metadata": {},
   "outputs": [
    {
     "data": {
      "text/plain": [
       "array([[5, 6],\n",
       "       [7, 8]])"
      ]
     },
     "execution_count": 117,
     "metadata": {},
     "output_type": "execute_result"
    }
   ],
   "source": [
    "# Concateante\n",
    "g = np.array([[5,6],[7,8]])\n",
    "g"
   ]
  },
  {
   "cell_type": "code",
   "execution_count": 118,
   "metadata": {},
   "outputs": [
    {
     "data": {
      "text/plain": [
       "array([[1, 2]])"
      ]
     },
     "execution_count": 118,
     "metadata": {},
     "output_type": "execute_result"
    }
   ],
   "source": [
    "h = np.array([[1,2]])\n",
    "h"
   ]
  },
  {
   "cell_type": "code",
   "execution_count": 119,
   "metadata": {},
   "outputs": [
    {
     "name": "stdout",
     "output_type": "stream",
     "text": [
      "[[5 6]\n",
      " [7 8]] \n",
      "\n",
      "[[1 2]] \n",
      "\n"
     ]
    }
   ],
   "source": [
    "print(g, \"\\n\")\n",
    "print(h , \"\\n\")"
   ]
  },
  {
   "cell_type": "code",
   "execution_count": 120,
   "metadata": {},
   "outputs": [
    {
     "data": {
      "text/plain": [
       "(2, 2)"
      ]
     },
     "execution_count": 120,
     "metadata": {},
     "output_type": "execute_result"
    }
   ],
   "source": [
    "g.shape"
   ]
  },
  {
   "cell_type": "code",
   "execution_count": 121,
   "metadata": {},
   "outputs": [
    {
     "data": {
      "text/plain": [
       "(1, 2)"
      ]
     },
     "execution_count": 121,
     "metadata": {},
     "output_type": "execute_result"
    }
   ],
   "source": [
    "h.shape"
   ]
  },
  {
   "cell_type": "code",
   "execution_count": 127,
   "metadata": {},
   "outputs": [
    {
     "data": {
      "text/plain": [
       "(1, 2)"
      ]
     },
     "execution_count": 127,
     "metadata": {},
     "output_type": "execute_result"
    }
   ],
   "source": [
    "h.shape"
   ]
  },
  {
   "cell_type": "code",
   "execution_count": 128,
   "metadata": {},
   "outputs": [
    {
     "data": {
      "text/plain": [
       "array([[1],\n",
       "       [2]])"
      ]
     },
     "execution_count": 128,
     "metadata": {},
     "output_type": "execute_result"
    }
   ],
   "source": [
    "h_2 = h.reshape(2, 1)\n",
    "h_2"
   ]
  },
  {
   "cell_type": "code",
   "execution_count": null,
   "metadata": {},
   "outputs": [],
   "source": []
  },
  {
   "cell_type": "code",
   "execution_count": 130,
   "metadata": {},
   "outputs": [
    {
     "data": {
      "text/plain": [
       "array([[5, 6],\n",
       "       [7, 8]])"
      ]
     },
     "execution_count": 130,
     "metadata": {},
     "output_type": "execute_result"
    }
   ],
   "source": [
    "g"
   ]
  },
  {
   "cell_type": "code",
   "execution_count": 131,
   "metadata": {},
   "outputs": [
    {
     "data": {
      "text/plain": [
       "array([[5, 6, 1],\n",
       "       [7, 8, 2]])"
      ]
     },
     "execution_count": 131,
     "metadata": {},
     "output_type": "execute_result"
    }
   ],
   "source": [
    "g_h = np.concatenate((g, h_2), axis = 1)\n",
    "g_h"
   ]
  },
  {
   "cell_type": "code",
   "execution_count": null,
   "metadata": {},
   "outputs": [],
   "source": [
    "h_2 = h.reshape(2, 1)\n",
    "h_2"
   ]
  },
  {
   "cell_type": "code",
   "execution_count": 132,
   "metadata": {},
   "outputs": [
    {
     "data": {
      "text/plain": [
       "array([[5, 6, 1],\n",
       "       [7, 8, 2]])"
      ]
     },
     "execution_count": 132,
     "metadata": {},
     "output_type": "execute_result"
    }
   ],
   "source": [
    "jesus = np.hstack((g,h_2))\n",
    "jesus"
   ]
  },
  {
   "cell_type": "code",
   "execution_count": 133,
   "metadata": {},
   "outputs": [],
   "source": [
    "# vstack \n",
    "x = np.array([1,1,1])\n",
    "y = np.array([2,2,2])\n",
    "z = np.array([3,3,3])"
   ]
  },
  {
   "cell_type": "code",
   "execution_count": 136,
   "metadata": {},
   "outputs": [
    {
     "data": {
      "text/plain": [
       "array([3, 3, 3])"
      ]
     },
     "execution_count": 136,
     "metadata": {},
     "output_type": "execute_result"
    }
   ],
   "source": []
  },
  {
   "cell_type": "code",
   "execution_count": 137,
   "metadata": {},
   "outputs": [
    {
     "data": {
      "text/plain": [
       "array([[1, 1, 1],\n",
       "       [2, 2, 2],\n",
       "       [3, 3, 3]])"
      ]
     },
     "execution_count": 137,
     "metadata": {},
     "output_type": "execute_result"
    }
   ],
   "source": [
    "vstacked = np.vstack( (x, y, z) )\n",
    "vstacked"
   ]
  },
  {
   "cell_type": "code",
   "execution_count": 138,
   "metadata": {},
   "outputs": [
    {
     "name": "stdout",
     "output_type": "stream",
     "text": [
      "[[1 1 1]\n",
      " [2 2 2]\n",
      " [3 3 3]]\n"
     ]
    }
   ],
   "source": [
    "vstacked = np.vstack((x,y,z))\n",
    "print(vstacked)"
   ]
  },
  {
   "cell_type": "code",
   "execution_count": 139,
   "metadata": {},
   "outputs": [
    {
     "name": "stdout",
     "output_type": "stream",
     "text": [
      "[1 1 1 2 2 2 3 3 3]\n"
     ]
    }
   ],
   "source": [
    "# hstack \n",
    "hstacked = np.hstack((x,y,z))\n",
    "print(hstacked)"
   ]
  },
  {
   "cell_type": "markdown",
   "metadata": {},
   "source": [
    "### OLS with Numpy"
   ]
  },
  {
   "cell_type": "code",
   "execution_count": null,
   "metadata": {},
   "outputs": [],
   "source": [
    "x0.reshape(-1, 1).shape"
   ]
  },
  {
   "cell_type": "code",
   "execution_count": null,
   "metadata": {},
   "outputs": [],
   "source": [
    "# X data generation\n",
    "n_data = 200\n",
    "x1 = np.linspace(200, 500, n_data)\n",
    "x0 = np.ones(n_data)\n",
    "X = np.hstack(( x0.reshape(-1, 1 ) , x1.reshape(-1, 1 ) ))\n",
    "X.shape"
   ]
  },
  {
   "cell_type": "code",
   "execution_count": null,
   "metadata": {},
   "outputs": [],
   "source": [
    "# select parameters\n",
    "beta = np.array([5, -2]).reshape(-1, 1 )\n",
    "beta.shape"
   ]
  },
  {
   "cell_type": "code",
   "execution_count": null,
   "metadata": {},
   "outputs": [],
   "source": [
    "# y ture\n",
    "y_true = X @ beta\n",
    "y_true.shape"
   ]
  },
  {
   "cell_type": "code",
   "execution_count": null,
   "metadata": {},
   "outputs": [],
   "source": [
    "y_true"
   ]
  },
  {
   "cell_type": "code",
   "execution_count": null,
   "metadata": {},
   "outputs": [],
   "source": [
    "y_true + (np.random.normal(0, 1, n_data) * 20).reshape(-1, 1)"
   ]
  },
  {
   "cell_type": "code",
   "execution_count": null,
   "metadata": {},
   "outputs": [],
   "source": [
    "#   add random normal noise\n",
    "sigma = 20\n",
    "y_actual = y_true + (np.random.normal(0, 1, n_data) * sigma).reshape(-1, 1)\n",
    "print(y_actual[0:4, :])"
   ]
  },
  {
   "cell_type": "markdown",
   "metadata": {},
   "source": [
    "The matrix equation for the estimated linear parameters is as below:\n",
    "$${\\hat {\\beta }}=(X^{T}X)^{-1}X^{T}y.$$"
   ]
  },
  {
   "cell_type": "code",
   "execution_count": null,
   "metadata": {},
   "outputs": [],
   "source": [
    "# estimations\n",
    "beta_estimated = np.linalg.inv(X.T @ X) @ X.T @ y_actual"
   ]
  },
  {
   "cell_type": "code",
   "execution_count": null,
   "metadata": {},
   "outputs": [],
   "source": [
    "import matplotlib.pyplot as plt\n",
    "\n",
    "plt.plot(x1, y_actual, 'o')\n",
    "plt.plot(x1, y_true, 'g-', c = 'black')"
   ]
  },
  {
   "cell_type": "markdown",
   "metadata": {},
   "source": [
    "Calculate the sum of squared residual errors\n",
    "$$\n",
    "RSS=y^{T}y-y^{T}X(X^{T}X)^{{-1}}X^{T}y\n",
    "$$"
   ]
  },
  {
   "cell_type": "code",
   "execution_count": null,
   "metadata": {},
   "outputs": [],
   "source": [
    "y_actual"
   ]
  },
  {
   "cell_type": "code",
   "execution_count": null,
   "metadata": {},
   "outputs": [],
   "source": [
    "RSS = ( y_actual.T @ y_actual - y_actual.T @ X @ np.linalg.inv(X.T @ X) @ X.T @ y_actual )"
   ]
  },
  {
   "cell_type": "markdown",
   "metadata": {},
   "source": [
    "Calculated the Total Sum of Squares of the spread of the actual (noisy) values around their mean\n",
    "$$\n",
    "TSS=(y-{\\bar  y})^{T}(y-{\\bar  y})=y^{T}y-2y^{T}{\\bar  y}+{\\bar  y}^{T}{\\bar  y}\n",
    "$$"
   ]
  },
  {
   "cell_type": "code",
   "execution_count": null,
   "metadata": {},
   "outputs": [],
   "source": [
    "y_mean = ( np.ones(n_data) * np.mean(y_actual) ).reshape( -1 , 1 )\n",
    "TSS = (y_actual - y_mean).T @ (y_actual - y_mean)\n",
    "TSS"
   ]
  },
  {
   "cell_type": "code",
   "execution_count": null,
   "metadata": {},
   "outputs": [],
   "source": [
    "# get predictions\n",
    "y_pred = X @ beta_estimated"
   ]
  },
  {
   "cell_type": "markdown",
   "metadata": {},
   "source": [
    "Calculate the Sum of Squares of the spread of the predictions around their mean.\n",
    "$$\n",
    "ESS=({\\hat  y}-{\\bar  y})^{T}({\\hat  y}-{\\bar  y})={\\hat  y}^{T}{\\hat  y}-2{\\hat  y}^{T}{\\bar  y}+{\\bar  y}^{T}{\\bar  y}\n",
    "$$"
   ]
  },
  {
   "cell_type": "code",
   "execution_count": null,
   "metadata": {},
   "outputs": [],
   "source": [
    "ESS = (y_pred - y_mean).T @ (y_pred - y_mean)\n",
    "\n",
    "ESS"
   ]
  },
  {
   "cell_type": "code",
   "execution_count": null,
   "metadata": {},
   "outputs": [],
   "source": [
    "TSS, ESS + RSS"
   ]
  },
  {
   "cell_type": "markdown",
   "metadata": {},
   "source": [
    "Get $R^2$\n",
    "$$\n",
    "1 - RSS / TSS\n",
    "$$"
   ]
  },
  {
   "cell_type": "code",
   "execution_count": null,
   "metadata": {},
   "outputs": [],
   "source": [
    "1 - RSS / TSS"
   ]
  },
  {
   "cell_type": "markdown",
   "metadata": {},
   "source": [
    "###  Standard error of regression\n",
    "Calculate the standard error of the regression. We divide by `(n-2)`, because the Expectation of the sum of squares is `(n-2)*sigma^2`."
   ]
  },
  {
   "cell_type": "code",
   "execution_count": null,
   "metadata": {},
   "outputs": [],
   "source": [
    "sr2 = ( (1 / (n_data - 2)) * (y_pred - y_actual).T  @ (y_pred - y_actual))\n",
    "sr = np.sqrt(sr2)\n",
    "sr"
   ]
  },
  {
   "cell_type": "markdown",
   "metadata": {},
   "source": [
    "### Get variance and covariance Matrix\n",
    "In order to get the standard errors for our linear parameters, we use the matrix formula below:\n",
    "$$\n",
    "Var(β^)=σ^2(X′X)^{-1}\n",
    "$$"
   ]
  },
  {
   "cell_type": "code",
   "execution_count": null,
   "metadata": {},
   "outputs": [],
   "source": [
    "var_beta = sr2 * np.linalg.inv(X.T @ X)\n",
    "var_beta"
   ]
  },
  {
   "cell_type": "code",
   "execution_count": null,
   "metadata": {},
   "outputs": [],
   "source": [
    "print(\n",
    "    f'Std Error for b0 {np.sqrt(var_beta[0, 0])}, \\nStd Error for b1 {np.sqrt(var_beta[1, 1])}'\n",
    ")"
   ]
  },
  {
   "cell_type": "code",
   "execution_count": null,
   "metadata": {},
   "outputs": [],
   "source": [
    "pwd"
   ]
  },
  {
   "cell_type": "code",
   "execution_count": null,
   "metadata": {},
   "outputs": [],
   "source": []
  }
 ],
 "metadata": {
  "hide_input": false,
  "kernelspec": {
   "display_name": "Python 3 (ipykernel)",
   "language": "python",
   "name": "python3"
  },
  "language_info": {
   "codemirror_mode": {
    "name": "ipython",
    "version": 3
   },
   "file_extension": ".py",
   "mimetype": "text/x-python",
   "name": "python",
   "nbconvert_exporter": "python",
   "pygments_lexer": "ipython3",
   "version": "3.9.13"
  },
  "vscode": {
   "interpreter": {
    "hash": "b247a10ecbbbecc6838db24cf0cac95fbd318f0e8104436862772c94dc5e78c9"
   }
  }
 },
 "nbformat": 4,
 "nbformat_minor": 4
}
