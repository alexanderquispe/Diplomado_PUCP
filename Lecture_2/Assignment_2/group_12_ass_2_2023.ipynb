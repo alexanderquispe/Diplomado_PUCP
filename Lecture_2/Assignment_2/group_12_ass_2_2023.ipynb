#!/usr/bin/env python
# coding: utf-8

# In[2]:


str1 = 'I am                            too                                                        old'
emails = ["cscornejo@pucp.edu.pe", "orellana.cn@pucp.edu.pe", "karina.morales@pucp.edu.pe", "a20083223@pucp.pe", "abel.camacho@pucp.pe", "mtintaya@pucp.edu.pe", "joselin.chavez@pucp.edu.pe", "a20105737@pucp.pe", "jfgomezc@pucp.pe", "afrania.palomino@pucp.pe", "luzon.bianca@pucp.pe", "adrian.suanaz@pucp.pe", "soto.y@pucp.edu.pe", "a20132766@pucp.pe", "andre.lama@pucp.edu.pe", "gustavo.meza@pucp.edu.pe", "pmlozada@pucp.edu.pe", "m.zambranoj@pucp.edu.pe", "nicolas.jacobs@pucp.edu.pe", "gvidal@pucp.edu.pe", "jane.torres@pucp.edu.pe", "m.lopez@pucp.edu.pe", "alejandro.boyco@pucp.edu.pe", "a20167070@pucp.edu.pe", "riega.stephy@pucp.edu.pe", "vlevanot@pucp.edu.pe", "sesquives@pucp.edu.pe", "perez.juanc@pucp.edu.pe", "mariana.otero@pucp.edu.pe", "aclavo@pucp.edu.pe", "a20182474@pucp.edu.pe", "josue.caldas@pucp.edu.pe", "fabio.salas@pucp.edu.pe", "fernanda.pizarro@pucp.edu.pe", "aquillatupa@pucp.pe"]

str1
print(emails)


# 1.3. Strings
# Drop the duplicated blank spaces in str1. Do not use the regular expresions. Do not use the code shown in class. 
# Explain your steps.Hint: Use split method and join function.
# 

# In[3]:


str_divided = str1.split()
print(str_divided)
# I use the split method to divide the given string and save the returned list in a new variable
# By default, this method divides strings based on white spaces (otherwise I would have put a delimiter in parenthesis)

str_joined = " ".join(str_divided)
print("Resulting string:", str_joined)
# I joined the characters in the list with join. I put " " before join to specify that I want to use white spaces as a glue


# Get the number of letters in the string. Hint: Use len function

# In[4]:


str_joined_nowhites = "".join(str_divided)
print(str_joined_nowhites)
# I joined the aforementioned string, this time without white spaces (otherwise a white space would count as a character)

print("The number of letters is", len(str_joined_nowhites))
# The len function returns the number of letters


# Get the number of blank spaces (all of them) in the string .Hint: Use lenfunction.

# In[17]:


print("The number of characters in total is", len(str1))
print("The number of blank spaces in total is", len(str1) - len(str_joined_nowhites))
#  We can obtain the number of blank spaces by substracting the already known the number of letters
# from the total number of characters in the string.


# Get the position of @ in each string in the emails list. Hint: Use mapfunction and find method.
# 

# In[6]:


print(list(map(lambda char:char.find("@"), emails)))
# First of all, my lambda function specifies that I want to find the location of the @ in a given string
# This function is applied to every element of the list "emails" thanks to the map function, which iterates through a list 
# The printed result is a list of characters with the position of the @ in every email.


# Identifies if exists .edu. in each string in the emails list. Get a list of Booleans. Hint: Use mapfunction and find method.

# In[7]:


print(list(map(lambda char:char.find(".edu."), emails)))
# I tried the same function but with the find(".edu.") instead to see how the language would treat not finding what is specified
# I noticed that the emails that didn't have .edu. had a -1 as position

position_list = list(map(lambda char:char.find(".edu."), emails))
# I save the position list

print(list(map(lambda position:position != -1, position_list)))
# So I basically made a new line of code to automatically get a False if the position is -1 (as in saying there is no .edu.)


# Get all the strings before the first dot .in each string in the emails list. Identifies how many of them has @. Hint: Use mapfunction and find method. 

# In[13]:


splitted_emails = list(map(lambda str:str.split("."), emails))
# This first one is to split the email whenever there is a dot. The result is a list of splitted emails, way too messy to print

print(list(map(lambda lst:lst[0], splitted_emails)))
splitted_emails = list(map(lambda lst:lst[0], splitted_emails))
# This second line is to just retrieve the characters that come before the first dot, and ditch the rest of the email.

print(list(map(lambda char:char.find("@"), splitted_emails)))
splitted_emails_position = list(map(lambda char:char.find("@"), splitted_emails))
# I use the same method as the question before, where I retrieve the position of the @. If there is no @, I get a -1.

print(list(map(lambda position:position != -1, splitted_emails_position)))
final_list = list(map(lambda position:position != -1, splitted_emails_position))
# Now to convert those -1 to False, and the rest to True, to specify 

print(final_list.count(True), " emails have @ before the first dot")
# Now to counting. I'm sure there is an easier, faster, and more readable method than mine...


# In[ ]:
