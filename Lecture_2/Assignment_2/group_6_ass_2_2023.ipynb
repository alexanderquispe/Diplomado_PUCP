{
 "cells": [
  {
   "cell_type": "markdown",
   "metadata": {},
   "source": [
    "# GROUP 6"
   ]
  },
  {
   "cell_type": "markdown",
   "metadata": {},
   "source": [
    "# 1 Assignment\n",
    "\n",
    "It is totally prohibited to use any kind of loop. You can use stackoverflow. If you copy codes from previous answers, explain each step. No explanation is `0 points`."
   ]
  },
  {
   "cell_type": "markdown",
   "metadata": {},
   "source": [
    "## Repository Maintainer Summary\n",
    "\n",
    "We have divided the assignment into 4 equal parts, as follows:\n",
    "\n",
    "1.1 Tuple: 1-5 - Milagros Meza (RP)<br><br>\n",
    "1.1 Tuple: 6, 1.2 Lists: 1-4 - Serghi Arista<br><br>\n",
    "1.2 Lists: 5-8; 1.3 Strings: 1 - Gino Reyna<br><br>\n",
    "1.3 Strings: 2-6 - Kerly Tito<br><br>"
   ]
  },
  {
   "cell_type": "markdown",
   "metadata": {},
   "source": [
    "## 1.1 Tuple\n",
    "\n",
    "\n",
    "\n",
    "1. Print the first item of the second item of `tuple1` object. **Hint: Use indexing**<br><br>\n",
    "2. Print the last item of the `tuple1` object.**Hint: Use indexing**<br><br>\n",
    "3. Change the value \"orange\" for \"pink grapefruit\". Comment the output. **Hint: Is it possible?** <br><br>\n",
    "4. Print the length of `tuple1`. **Hint: Length function**<br><br>\n",
    "5. Sum all the elements of tuple2 and describe your steps and explain each of them. **Hint: Use `map` function.**<br><br>\n",
    "6. Generate a new tuple object named as `tuple3` with the half values of `tuple2`. This tuple should be similar as `tuple2`, tuple of lists.  **Hint: Use `map` funciont.**<br><br>"
   ]
  },
  {
   "cell_type": "code",
   "execution_count": 2,
   "metadata": {},
   "outputs": [],
   "source": [
    "tuple1 = (\"Orange\", [10, 20, 30], (5, 15, 25))\n",
    "tuple2 = ([7, 8], [9, 1], [10, 7])"
   ]
  },
  {
   "cell_type": "markdown",
   "metadata": {},
   "source": [
    "## ANSWERS 1.1 TUPLE"
   ]
  },
  {
   "cell_type": "markdown",
   "metadata": {},
   "source": [
    "1. We are going to use `print()`. In order to print the first item of the second item of `tuple1`, we must take into account that python starts counting from zero. In first place, we are going to extract the second item using the number 1, and then we will use the number zero to extract the first item of the second item, as follows:"
   ]
  },
  {
   "cell_type": "code",
   "execution_count": 3,
   "metadata": {},
   "outputs": [],
   "source": [
    "tuple10 = tuple1[1]"
   ]
  },
  {
   "cell_type": "code",
   "execution_count": 4,
   "metadata": {},
   "outputs": [
    {
     "name": "stdout",
     "output_type": "stream",
     "text": [
      "10\n"
     ]
    }
   ],
   "source": [
    "print(tuple10[0])"
   ]
  },
  {
   "cell_type": "markdown",
   "metadata": {},
   "source": [
    "2. As in the previous case, since `tuple1` has 3 elements but we start counting from zero, we will print using the number 2."
   ]
  },
  {
   "cell_type": "code",
   "execution_count": 5,
   "metadata": {},
   "outputs": [
    {
     "name": "stdout",
     "output_type": "stream",
     "text": [
      "(5, 15, 25)\n"
     ]
    }
   ],
   "source": [
    "print(tuple1[2])"
   ]
  },
  {
   "cell_type": "markdown",
   "metadata": {},
   "source": [
    "3. As we learned in class, tuples are immutable, so it is not possible to modify them. Once we create a tuple, we cannot modify its elements, add new elements or delete existing elements. If we try to modify `tuple1`, it will result in an error as follows:"
   ]
  },
  {
   "cell_type": "code",
   "execution_count": 6,
   "metadata": {},
   "outputs": [
    {
     "ename": "TypeError",
     "evalue": "'tuple' object does not support item assignment",
     "output_type": "error",
     "traceback": [
      "\u001b[1;31m---------------------------------------------------------------------------\u001b[0m",
      "\u001b[1;31mTypeError\u001b[0m                                 Traceback (most recent call last)",
      "Cell \u001b[1;32mIn[6], line 1\u001b[0m\n\u001b[1;32m----> 1\u001b[0m tuple1[\u001b[38;5;241m0\u001b[39m] \u001b[38;5;241m=\u001b[39m \u001b[38;5;124m\"\u001b[39m\u001b[38;5;124mpink grapefruit\u001b[39m\u001b[38;5;124m\"\u001b[39m\n",
      "\u001b[1;31mTypeError\u001b[0m: 'tuple' object does not support item assignment"
     ]
    }
   ],
   "source": [
    "tuple1[0] = \"pink grapefruit\""
   ]
  },
  {
   "cell_type": "markdown",
   "metadata": {},
   "source": [
    "4. In order to print the length of `tuple1`, we are going to use `len`. So, in this case, the result is the total number of elements of `tuple1` equal to 3."
   ]
  },
  {
   "cell_type": "code",
   "execution_count": 7,
   "metadata": {},
   "outputs": [
    {
     "data": {
      "text/plain": [
       "3"
      ]
     },
     "execution_count": 7,
     "metadata": {},
     "output_type": "execute_result"
    }
   ],
   "source": [
    "(len(tuple1))"
   ]
  },
  {
   "cell_type": "markdown",
   "metadata": {},
   "source": [
    "5. In this case, each element of the `tuple2` is a list. First, we are going to sum each list inside the `tuple2`. Since there are 3 lists inside the `tuple2`, we will have 3 resulting sums. Then, we will convert this result into a list. Finally, we are going to sum the 3 elements, in a total sum equal to 42. "
   ]
  },
  {
   "cell_type": "code",
   "execution_count": 8,
   "metadata": {},
   "outputs": [
    {
     "data": {
      "text/plain": [
       "42"
      ]
     },
     "execution_count": 8,
     "metadata": {},
     "output_type": "execute_result"
    }
   ],
   "source": [
    "sum(list(map(sum, tuple2)))"
   ]
  },
  {
   "cell_type": "markdown",
   "metadata": {},
   "source": [
    "6. In this question, we are asked to create a new tuple (named tuple3) that contains the half values of tuple 2. For this task, we use the map function and the lambda function. In inner part of this task the lambda function takes \"x\" as an input and divides by 2 to find the half value. This is applied to all the elements in lst, which are the lists inside tuple2. Then we use the list function to convert it to a list. Then, the outer part of this task converts the lists generated in the inner part into a tuple."
   ]
  },
  {
   "cell_type": "code",
   "execution_count": 9,
   "metadata": {},
   "outputs": [
    {
     "name": "stdout",
     "output_type": "stream",
     "text": [
      "Tuple3 is: ([3.5, 4.0], [4.5, 0.5], [5.0, 3.5])\n"
     ]
    }
   ],
   "source": [
    "tuple2 = ([7,8],[9,1],[10,7])\n",
    "\n",
    "tuple3 = tuple(map(lambda lst: list(map(lambda x: x / 2, lst)), tuple2))\n",
    "\n",
    "print(\"Tuple3 is:\", tuple3)"
   ]
  },
  {
   "cell_type": "markdown",
   "metadata": {},
   "source": [
    "## 1.2 Lists\n",
    "1. Show the indices of the `np.nan` values  in the `f_list` list. We want to see this output: `The indices 0, 1, 4, 7 have np.nan values.` **Hint: Use print function and [f-strings](https://realpython.com/python-f-strings/) to insert the indices values.**<br><br>\n",
    "\n",
    "2. Replicate 4 times the values of the list `p2_list`. We expect an ouput like this: `[ 2 , 3, 4, 5, 2 , 3, 4, 5, 2 , 3, 4, 5, 2 , 3, 4, 5]`.  **Hint: Use multiplication function in `lists`and see the output.**<br><br>\n",
    "3. Print the length of `f_list`. **Hint: Length function**<br><br>\n",
    "4. Print `My teacher assistant is so boring.` using `text1` list. **Hint: Use the [`join` function](https://stackoverflow.com/questions/493819/why-is-it-string-joinlist-instead-of-list-joinstring)**<br><br>\n",
    "5. Print `My TA is so boring, but is very funny.` using `text1` list.**Hint: Use the `join` function, and `extend` method.**<br><br>\n",
    "6. Print <br>\n",
    "`The max value of values1 is 86 and is located in the 0 index. ` <br>\n",
    "`The min value of values1 is 0 and is located in the 7 index. ` <br> **Hint: Use the `f-string`, `min`, and `max` functions.**\n",
    "<br>\n",
    "7. Get two lists: `names` and `last_names` using `last_and_name` list. **Hint: Use `map` and `split`.**\n",
    "<br>\n",
    "8. Give only the last names of students who do not have email. Use the `emails` and `last_names` listt. **Hint: Use `map` and `split`.**\n",
    "<br>"
   ]
  },
  {
   "cell_type": "code",
   "execution_count": 10,
   "metadata": {},
   "outputs": [],
   "source": [
    "import numpy as np"
   ]
  },
  {
   "cell_type": "code",
   "execution_count": 11,
   "metadata": {},
   "outputs": [],
   "source": [
    "f_list = [np.nan , np.nan, \"Austria\", \"Germany\", np.nan, \"Pakistan\", \"np.nan\", np.nan ]"
   ]
  },
  {
   "cell_type": "code",
   "execution_count": 12,
   "metadata": {},
   "outputs": [],
   "source": [
    "text1 = ['My', 'teacher', 'assistant', 'is', 'so', 'boring.']"
   ]
  },
  {
   "cell_type": "code",
   "execution_count": 13,
   "metadata": {},
   "outputs": [],
   "source": [
    "p2_list = [ 2 , 3, 4, 5 ]"
   ]
  },
  {
   "cell_type": "code",
   "execution_count": 14,
   "metadata": {},
   "outputs": [],
   "source": [
    "values1 = [ 86, 86, 85, 85, 85, 83, 23, 0, 84, 1 ] "
   ]
  },
  {
   "cell_type": "code",
   "execution_count": 15,
   "metadata": {},
   "outputs": [],
   "source": [
    "# These two lists a\n",
    "last_and_name = [ \"CORNEJO SANCHEZ, CHRISTIAN SANTOS\", \"ORELLANA QUISPE, CRISTIAN NASSER\", \"MORALES CHOQUEHUANCA, ANGELICA KARINA\", \"GUIMARAY RIBEYRO, JOSE ROBERTO\", \"CAMACHO GAVIDIA, ABEL FERNANDO\", \"TINTAYA ORIHUELA, MEIR ALVARO\", \"CHAVEZ MARTINEZ, JOSELIN ALEXANDRA\", \"FIGUEROA MURO, LEONEL ARTURO\", \"GOMEZ CRIBILLERO, JOSE FELIPE\", \"PALOMINO SEGUÍN, AFRANIA\", \"LUZON CUEVA, BIANCA MARIETTE\", \"SUAÑA ZEGARRA, ADRIAN ANDRE\", \"SOTO POMACHAGUA, DORKAS YOMIRA JHERMY\", \"FIORENTINO MARTINEZ, LADY ALY\", \"LAMA MAVILA, HECTOR ANDRE\", \"MEZA HINOJO, GUSTAVO\", \"LOZADA MURILLO, PERSEO MARCELO\", \"ZAMBRANO JIMENEZ, MIGUEL ALONZO\", \"JACOBS LUQUE, NICOLAS\", \"VIDAL VIDAL, ROCIO GABRIELA\", \"TORRES ANICAMA, JANE CAMILA\", \"LOPEZ ESTRADA, MARIA ELISA\", \"BOYCO ORAMS, ALEJANDRO\", \"DIAZ BERROSPI, KARLINE ROSMELI\", \"RIEGA ESCALANTE, STEPHY ROSARIO\", \"LEVANO TORRES, VALERIA CECILIA\", \"ESQUIVES BRAVO, SEBASTIAN RENATO\", \"PEREZ GONZALES, JUAN CARLOS\", \"OTERO MAGUIÑA, MARIANA\", \"CLAVO CAMPOS, ANDREA BRIZETH\", \"AGUILAR GARCIA, ERICK JOSUE\", \"CALDAS VELASQUEZ, JOSUE DANIEL\", \"SALAS NUÑEZ BORJA, FABIO MANUEL\", \"PIZARRO VILLANES, FERNANDA NICOLLE\", \"QUILLATUPA MORALES, ANGELA ADELINA\", \"HUANCAYA IDONE, CESAR DANTE\", \"CALVO PORTOCARRERO, GABRIELA ISABEL\", \"IBAÑEZ ABANTO, ANGEL MAURICIO\", \"MELÉNDEZ APONTE, JUAN DIEGO\", \"CRISTIAN SERRANO, ARONE\", \"HINOJOSA CAHUANA, PERCY ALBERTH\", \"ANGLAS GARCÍA, KEVIN ARTURO\", \"ALDAVE ACOSTA, CESAR ERNESTO\", \"NÚÑEZ HUAMÁN, CÉSAR AGUSTO\", \"OBREGON HUAMAN, DIANA EDITH\", \"SOTO PACHERRES, RODRIGO FRANCO\", \"INGARUCA RIVERA, GRETTEL ALEXANDRA\", \"ROJAS HUAMAN, ROSA ANGELA\", \"NEYRA SALAS, DANTE OMAR\", \"HUERTA ESPINOZA, YAJAIRA ALEXANDRA\", \"HUANCA MARTINEZ, JORGE ALBERTO\", \"FLORES CADILLO, ALEXIS\" ]\n",
    "emails = [\"cscornejo@pucp.edu.pe\", \"orellana.cn@pucp.edu.pe\", \"karina.morales@pucp.edu.pe\", \"a20083223@pucp.pe\", \"abel.camacho@pucp.pe\", \"mtintaya@pucp.edu.pe\", \"joselin.chavez@pucp.edu.pe\", \"a20105737@pucp.pe\", \"jfgomezc@pucp.pe\", \"afrania.palomino@pucp.pe\", \"luzon.bianca@pucp.pe\", \"adrian.suanaz@pucp.pe\", \"soto.y@pucp.edu.pe\", \"a20132766@pucp.pe\", \"andre.lama@pucp.edu.pe\", \"gustavo.meza@pucp.edu.pe\", \"pmlozada@pucp.edu.pe\", \"m.zambranoj@pucp.edu.pe\", \"nicolas.jacobs@pucp.edu.pe\", \"gvidal@pucp.edu.pe\", \"jane.torres@pucp.edu.pe\", \"m.lopez@pucp.edu.pe\", \"alejandro.boyco@pucp.edu.pe\", \"a20167070@pucp.edu.pe\", \"riega.stephy@pucp.edu.pe\", \"vlevanot@pucp.edu.pe\", \"sesquives@pucp.edu.pe\", \"perez.juanc@pucp.edu.pe\", \"mariana.otero@pucp.edu.pe\", \"aclavo@pucp.edu.pe\", \"a20182474@pucp.edu.pe\", \"josue.caldas@pucp.edu.pe\", \"fabio.salas@pucp.edu.pe\", \"fernanda.pizarro@pucp.edu.pe\", \"aquillatupa@pucp.pe\", \"\", \"\", \"\", \"\", \"\", \"f0873079@pucp.edu.pe\", \"\", \"\", \"\", \"\", \"\", \"\", \"\", \"\", \"\", \"\", \"flores.alexis@pucp.edu.pe\", ]"
   ]
  },
  {
   "cell_type": "markdown",
   "metadata": {},
   "source": [
    "ANSWERS 1.2 LISTS"
   ]
  },
  {
   "cell_type": "markdown",
   "metadata": {},
   "source": [
    "1. To answer this question. We found a difficulty because the lists contains strings as data. That is why we have to define a new function, with value as its only argument, that evaluates if the element in the \"f_list\" is a string or not a string. Then we create an arry with the \"np.array\" function. Then we, apply the defined function to every element of the array and stored them in \"result\". We have an array of True and False elements. With the the \"np.where\" function, the elements that are True are found and saved in \"indices_true\". Then with an if function, we deliver the message with the location of the elements that satisfy the condition using the join function. Finall, we print the message with the answer."
   ]
  },
  {
   "cell_type": "code",
   "execution_count": 16,
   "metadata": {},
   "outputs": [
    {
     "name": "stdout",
     "output_type": "stream",
     "text": [
      "The indices 0, 1, 4, 7 have np.nan values.\n"
     ]
    }
   ],
   "source": [
    "import numpy as np\n",
    "\n",
    "f_list = [np.nan , np.nan, \"Austria\", \"Germany\", np.nan, \"Pakistan\", \"np.nan\", np.nan ]\n",
    "\n",
    "def is_nan_or_string_nan(value):\n",
    "    return value.lower() == 'nan' if isinstance(value, str) else np.isnan(value)\n",
    "\n",
    "arr = np.array(f_list)\n",
    "result = np.vectorize(is_nan_or_string_nan)(arr)\n",
    "\n",
    "indices_true = np.where(result)[0]\n",
    "\n",
    "if indices_true.size > 0:\n",
    "    message = f\"The indices {', '.join(map(str, indices_true))} have np.nan values.\"\n",
    "else:\n",
    "    message = \"No hay valores True en la matriz.\"\n",
    "\n",
    "print(message)"
   ]
  },
  {
   "cell_type": "markdown",
   "metadata": {},
   "source": [
    "2. For this task, we are asked to replicate the elements of the list, 4 times exactly. Then using the f-string we print the result."
   ]
  },
  {
   "cell_type": "code",
   "execution_count": 18,
   "metadata": {},
   "outputs": [
    {
     "name": "stdout",
     "output_type": "stream",
     "text": [
      "The resulting list is: [2, 3, 4, 5, 2, 3, 4, 5, 2, 3, 4, 5, 2, 3, 4, 5]\n"
     ]
    }
   ],
   "source": [
    "p2_list = [ 2 , 3, 4, 5 ]\n",
    "\n",
    "reps = 4\n",
    "\n",
    "new_p2_list = p2_list* reps\n",
    "\n",
    "print(f\"The resulting list is: {new_p2_list}\")"
   ]
  },
  {
   "cell_type": "markdown",
   "metadata": {},
   "source": [
    "3. In this task, we are asked to find the length of the list containing nan and string values. Then we print the result using the f-string function with curly braces."
   ]
  },
  {
   "cell_type": "code",
   "execution_count": 20,
   "metadata": {},
   "outputs": [
    {
     "name": "stdout",
     "output_type": "stream",
     "text": [
      "The length of the f_list is: 8\n"
     ]
    }
   ],
   "source": [
    "f_list = [np.nan , np.nan, \"Austria\", \"Germany\", np.nan, \"Pakistan\", \"np.nan\", np.nan ]\n",
    "\n",
    "len(f_list)\n",
    "print(f\"The length of the f_list is: {len(f_list)}\")"
   ]
  },
  {
   "cell_type": "markdown",
   "metadata": {},
   "source": [
    "4. In this task, we use the join function to elaborate a sentence or phrase. The separator is the space character. Then, we print the phrase."
   ]
  },
  {
   "cell_type": "code",
   "execution_count": 21,
   "metadata": {},
   "outputs": [
    {
     "name": "stdout",
     "output_type": "stream",
     "text": [
      "My teacher assistant is so boring.\n"
     ]
    }
   ],
   "source": [
    "text1 = ['My', 'teacher', 'assistant', 'is', 'so', 'boring.']\n",
    "\n",
    "phrase = \" \".join(text1)\n",
    "\n",
    "print(phrase)"
   ]
  },
  {
   "cell_type": "markdown",
   "metadata": {},
   "source": [
    "5. Print My TA is so boring, but is very funny. using text1 list.Hint: Use the join function, and extend method.\n"
   ]
  },
  {
   "cell_type": "code",
   "execution_count": 22,
   "metadata": {},
   "outputs": [
    {
     "name": "stdout",
     "output_type": "stream",
     "text": [
      "My TA is so boring, but is very funny.\n"
     ]
    }
   ],
   "source": [
    "# Step 1: define the variable to use by copying the initial list with a new name\n",
    "text1_2_5=text1.copy()\n",
    "# Step 2: replace the initial words with the desired words\n",
    "text1_2_5[1]='TA'\n",
    "text1_2_5[5]='boring,'\n",
    "# Step 3: removes the word that will not be used\n",
    "del text1_2_5[2]\n",
    "# Step 4: join the list elements into a text string\n",
    "sentence5=' '.join(text1_2_5)\n",
    "# Step 5: a complementary 'string' type variable is created to be concatenated later\n",
    "complement=' but is very funny.'\n",
    "# Step 6: convert 'string' type variables into 'list' type variables\n",
    "sentence5_list=list(sentence5)\n",
    "complement_list=list(complement)\n",
    "# Step 7: the 'extend' function is used to join both lists.\n",
    "sentence5_list.extend(complement_list)\n",
    "# Step 8: join the list elements into a text string\n",
    "sentence5_list=''.join(sentence5_list)\n",
    "# Step 9: print the value of the text string\n",
    "print(sentence5_list)\n"
   ]
  },
  {
   "cell_type": "markdown",
   "metadata": {},
   "source": [
    "6. Print:\n",
    "\n",
    "        The max value of values1 is 86 and is located in the 0 index.\n",
    "        The min value of values1 is 0 and is located in the 7 index.\n",
    "        Hint: Use the f-string, min, and max functions."
   ]
  },
  {
   "cell_type": "code",
   "execution_count": 23,
   "metadata": {},
   "outputs": [
    {
     "name": "stdout",
     "output_type": "stream",
     "text": [
      "The max value of values1 is 86 and is located in the 0 index.\n",
      "The min value of values1 is 0 and is located in the 7 index.\n"
     ]
    }
   ],
   "source": [
    "# Step 1: The variable max is defined, which corresponds to the maximum value of the list, so the function max (to obtain the maximum value) from the numpy library and min (to obtain the minimum value) are used. Additionally\n",
    "max=np.max(values1)\n",
    "# Step 2: The variable that contains the index value of the maximum value is defined\n",
    "index_max=values1.index(max)\n",
    "# Step 3: The variable min is defined, which corresponds to the minimum value of the list, so the function min is used (to obtain the minimum value) from the numpy library\n",
    "min=np.min(values1)\n",
    "# Step 4: The variable that contains the index value of the minimum value is defined\n",
    "index_min=values1.index(min)\n",
    "# Step 5: The 'f-string' function is used to concatenate text strings with variables of type 'int'\n",
    "sentmax=f'The max value of values1 is {max} and is located in the {index_max} index.'\n",
    "sentmin=f'The min value of values1 is {min} and is located in the {index_min} index.'\n",
    "# Step 6: The results are printed\n",
    "print(sentmax)\n",
    "print(sentmin)"
   ]
  },
  {
   "cell_type": "markdown",
   "metadata": {},
   "source": [
    "7. Get two lists: `names` and `last_names` using `last_and_name` list. **Hint: Use `map` and `split`.**"
   ]
  },
  {
   "cell_type": "code",
   "execution_count": 24,
   "metadata": {},
   "outputs": [
    {
     "name": "stdout",
     "output_type": "stream",
     "text": [
      "Last Names: ['CORNEJO SANCHEZ', 'ORELLANA QUISPE', 'MORALES CHOQUEHUANCA', 'GUIMARAY RIBEYRO', 'CAMACHO GAVIDIA', 'TINTAYA ORIHUELA', 'CHAVEZ MARTINEZ', 'FIGUEROA MURO', 'GOMEZ CRIBILLERO', 'PALOMINO SEGUÍN', 'LUZON CUEVA', 'SUAÑA ZEGARRA', 'SOTO POMACHAGUA', 'FIORENTINO MARTINEZ', 'LAMA MAVILA', 'MEZA HINOJO', 'LOZADA MURILLO', 'ZAMBRANO JIMENEZ', 'JACOBS LUQUE', 'VIDAL VIDAL', 'TORRES ANICAMA', 'LOPEZ ESTRADA', 'BOYCO ORAMS', 'DIAZ BERROSPI', 'RIEGA ESCALANTE', 'LEVANO TORRES', 'ESQUIVES BRAVO', 'PEREZ GONZALES', 'OTERO MAGUIÑA', 'CLAVO CAMPOS', 'AGUILAR GARCIA', 'CALDAS VELASQUEZ', 'SALAS NUÑEZ BORJA', 'PIZARRO VILLANES', 'QUILLATUPA MORALES', 'HUANCAYA IDONE', 'CALVO PORTOCARRERO', 'IBAÑEZ ABANTO', 'MELÉNDEZ APONTE', 'CRISTIAN SERRANO', 'HINOJOSA CAHUANA', 'ANGLAS GARCÍA', 'ALDAVE ACOSTA', 'NÚÑEZ HUAMÁN', 'OBREGON HUAMAN', 'SOTO PACHERRES', 'INGARUCA RIVERA', 'ROJAS HUAMAN', 'NEYRA SALAS', 'HUERTA ESPINOZA', 'HUANCA MARTINEZ', 'FLORES CADILLO']\n",
      "Names: ['CHRISTIAN SANTOS', 'CRISTIAN NASSER', 'ANGELICA KARINA', 'JOSE ROBERTO', 'ABEL FERNANDO', 'MEIR ALVARO', 'JOSELIN ALEXANDRA', 'LEONEL ARTURO', 'JOSE FELIPE', 'AFRANIA', 'BIANCA MARIETTE', 'ADRIAN ANDRE', 'DORKAS YOMIRA JHERMY', 'LADY ALY', 'HECTOR ANDRE', 'GUSTAVO', 'PERSEO MARCELO', 'MIGUEL ALONZO', 'NICOLAS', 'ROCIO GABRIELA', 'JANE CAMILA', 'MARIA ELISA', 'ALEJANDRO', 'KARLINE ROSMELI', 'STEPHY ROSARIO', 'VALERIA CECILIA', 'SEBASTIAN RENATO', 'JUAN CARLOS', 'MARIANA', 'ANDREA BRIZETH', 'ERICK JOSUE', 'JOSUE DANIEL', 'FABIO MANUEL', 'FERNANDA NICOLLE', 'ANGELA ADELINA', 'CESAR DANTE', 'GABRIELA ISABEL', 'ANGEL MAURICIO', 'JUAN DIEGO', 'ARONE', 'PERCY ALBERTH', 'KEVIN ARTURO', 'CESAR ERNESTO', 'CÉSAR AGUSTO', 'DIANA EDITH', 'RODRIGO FRANCO', 'GRETTEL ALEXANDRA', 'ROSA ANGELA', 'DANTE OMAR', 'YAJAIRA ALEXANDRA', 'JORGE ALBERTO', 'ALEXIS']\n"
     ]
    }
   ],
   "source": [
    "# Step 1: List to use is called\n",
    "last_and_name = [\"CORNEJO SANCHEZ, CHRISTIAN SANTOS\", \"ORELLANA QUISPE, CRISTIAN NASSER\", \"MORALES CHOQUEHUANCA, ANGELICA KARINA\", \"GUIMARAY RIBEYRO, JOSE ROBERTO\", \"CAMACHO GAVIDIA, ABEL FERNANDO\", \"TINTAYA ORIHUELA, MEIR ALVARO\", \"CHAVEZ MARTINEZ, JOSELIN ALEXANDRA\", \"FIGUEROA MURO, LEONEL ARTURO\", \"GOMEZ CRIBILLERO, JOSE FELIPE\", \"PALOMINO SEGUÍN, AFRANIA\", \"LUZON CUEVA, BIANCA MARIETTE\", \"SUAÑA ZEGARRA, ADRIAN ANDRE\", \"SOTO POMACHAGUA, DORKAS YOMIRA JHERMY\", \"FIORENTINO MARTINEZ, LADY ALY\", \"LAMA MAVILA, HECTOR ANDRE\", \"MEZA HINOJO, GUSTAVO\", \"LOZADA MURILLO, PERSEO MARCELO\", \"ZAMBRANO JIMENEZ, MIGUEL ALONZO\", \"JACOBS LUQUE, NICOLAS\", \"VIDAL VIDAL, ROCIO GABRIELA\", \"TORRES ANICAMA, JANE CAMILA\", \"LOPEZ ESTRADA, MARIA ELISA\", \"BOYCO ORAMS, ALEJANDRO\", \"DIAZ BERROSPI, KARLINE ROSMELI\", \"RIEGA ESCALANTE, STEPHY ROSARIO\", \"LEVANO TORRES, VALERIA CECILIA\", \"ESQUIVES BRAVO, SEBASTIAN RENATO\", \"PEREZ GONZALES, JUAN CARLOS\", \"OTERO MAGUIÑA, MARIANA\", \"CLAVO CAMPOS, ANDREA BRIZETH\", \"AGUILAR GARCIA, ERICK JOSUE\", \"CALDAS VELASQUEZ, JOSUE DANIEL\", \"SALAS NUÑEZ BORJA, FABIO MANUEL\", \"PIZARRO VILLANES, FERNANDA NICOLLE\", \"QUILLATUPA MORALES, ANGELA ADELINA\", \"HUANCAYA IDONE, CESAR DANTE\", \"CALVO PORTOCARRERO, GABRIELA ISABEL\", \"IBAÑEZ ABANTO, ANGEL MAURICIO\", \"MELÉNDEZ APONTE, JUAN DIEGO\", \"CRISTIAN SERRANO, ARONE\", \"HINOJOSA CAHUANA, PERCY ALBERTH\", \"ANGLAS GARCÍA, KEVIN ARTURO\", \"ALDAVE ACOSTA, CESAR ERNESTO\", \"NÚÑEZ HUAMÁN, CÉSAR AGUSTO\", \"OBREGON HUAMAN, DIANA EDITH\", \"SOTO PACHERRES, RODRIGO FRANCO\", \"INGARUCA RIVERA, GRETTEL ALEXANDRA\", \"ROJAS HUAMAN, ROSA ANGELA\", \"NEYRA SALAS, DANTE OMAR\", \"HUERTA ESPINOZA, YAJAIRA ALEXANDRA\", \"HUANCA MARTINEZ, JORGE ALBERTO\", \"FLORES CADILLO, ALEXIS\"]\n",
    "\n",
    "# Step 2: 02 lists are created. The first of surnames and the second of names\n",
    "# Likewise, the zip function is used to create a tuple that contains the elements of the list that allows us to iterate each element\n",
    "# Finally, the map and lambda functions are used to iterate the split function to each value of the tuple obtained.\n",
    "last_names, names = zip(*(map(lambda x: x.split(', ', 1), last_and_name)))\n",
    "\n",
    "# Step 3: The results are printed with a title after them\n",
    "print(\"Last Names:\", list(last_names))\n",
    "print(\"Names:\", list(names))"
   ]
  },
  {
   "cell_type": "markdown",
   "metadata": {},
   "source": [
    "8. Give only the last names of students who do not have email. Use the emails and last_names listt. Hint: Use map and split."
   ]
  },
  {
   "cell_type": "code",
   "execution_count": 25,
   "metadata": {},
   "outputs": [
    {
     "data": {
      "text/plain": [
       "[('CORNEJO SANCHEZ', 'cscornejo@pucp.edu.pe'),\n",
       " ('ORELLANA QUISPE', 'orellana.cn@pucp.edu.pe'),\n",
       " ('MORALES CHOQUEHUANCA', 'karina.morales@pucp.edu.pe'),\n",
       " ('GUIMARAY RIBEYRO', 'a20083223@pucp.pe'),\n",
       " ('CAMACHO GAVIDIA', 'abel.camacho@pucp.pe'),\n",
       " ('TINTAYA ORIHUELA', 'mtintaya@pucp.edu.pe'),\n",
       " ('CHAVEZ MARTINEZ', 'joselin.chavez@pucp.edu.pe'),\n",
       " ('FIGUEROA MURO', 'a20105737@pucp.pe'),\n",
       " ('GOMEZ CRIBILLERO', 'jfgomezc@pucp.pe'),\n",
       " ('PALOMINO SEGUÍN', 'afrania.palomino@pucp.pe'),\n",
       " ('LUZON CUEVA', 'luzon.bianca@pucp.pe'),\n",
       " ('SUAÑA ZEGARRA', 'adrian.suanaz@pucp.pe'),\n",
       " ('SOTO POMACHAGUA', 'soto.y@pucp.edu.pe'),\n",
       " ('FIORENTINO MARTINEZ', 'a20132766@pucp.pe'),\n",
       " ('LAMA MAVILA', 'andre.lama@pucp.edu.pe'),\n",
       " ('MEZA HINOJO', 'gustavo.meza@pucp.edu.pe'),\n",
       " ('LOZADA MURILLO', 'pmlozada@pucp.edu.pe'),\n",
       " ('ZAMBRANO JIMENEZ', 'm.zambranoj@pucp.edu.pe'),\n",
       " ('JACOBS LUQUE', 'nicolas.jacobs@pucp.edu.pe'),\n",
       " ('VIDAL VIDAL', 'gvidal@pucp.edu.pe'),\n",
       " ('TORRES ANICAMA', 'jane.torres@pucp.edu.pe'),\n",
       " ('LOPEZ ESTRADA', 'm.lopez@pucp.edu.pe'),\n",
       " ('BOYCO ORAMS', 'alejandro.boyco@pucp.edu.pe'),\n",
       " ('DIAZ BERROSPI', 'a20167070@pucp.edu.pe'),\n",
       " ('RIEGA ESCALANTE', 'riega.stephy@pucp.edu.pe'),\n",
       " ('LEVANO TORRES', 'vlevanot@pucp.edu.pe'),\n",
       " ('ESQUIVES BRAVO', 'sesquives@pucp.edu.pe'),\n",
       " ('PEREZ GONZALES', 'perez.juanc@pucp.edu.pe'),\n",
       " ('OTERO MAGUIÑA', 'mariana.otero@pucp.edu.pe'),\n",
       " ('CLAVO CAMPOS', 'aclavo@pucp.edu.pe'),\n",
       " ('AGUILAR GARCIA', 'a20182474@pucp.edu.pe'),\n",
       " ('CALDAS VELASQUEZ', 'josue.caldas@pucp.edu.pe'),\n",
       " ('SALAS NUÑEZ BORJA', 'fabio.salas@pucp.edu.pe'),\n",
       " ('PIZARRO VILLANES', 'fernanda.pizarro@pucp.edu.pe'),\n",
       " ('QUILLATUPA MORALES', 'aquillatupa@pucp.pe'),\n",
       " ('HUANCAYA IDONE', ''),\n",
       " ('CALVO PORTOCARRERO', ''),\n",
       " ('IBAÑEZ ABANTO', ''),\n",
       " ('MELÉNDEZ APONTE', ''),\n",
       " ('CRISTIAN SERRANO', ''),\n",
       " ('HINOJOSA CAHUANA', 'f0873079@pucp.edu.pe'),\n",
       " ('ANGLAS GARCÍA', ''),\n",
       " ('ALDAVE ACOSTA', ''),\n",
       " ('NÚÑEZ HUAMÁN', ''),\n",
       " ('OBREGON HUAMAN', ''),\n",
       " ('SOTO PACHERRES', ''),\n",
       " ('INGARUCA RIVERA', ''),\n",
       " ('ROJAS HUAMAN', ''),\n",
       " ('NEYRA SALAS', ''),\n",
       " ('HUERTA ESPINOZA', ''),\n",
       " ('HUANCA MARTINEZ', ''),\n",
       " ('FLORES CADILLO', 'flores.alexis@pucp.edu.pe')]"
      ]
     },
     "execution_count": 25,
     "metadata": {},
     "output_type": "execute_result"
    }
   ],
   "source": [
    "# Step 1: A list object is generated that contains the last names along with the emails, which allows us to notice the names that do not have an associated email\n",
    "matrix = list(zip(last_names, emails))\n",
    "matrix\n"
   ]
  },
  {
   "cell_type": "code",
   "execution_count": 26,
   "metadata": {},
   "outputs": [
    {
     "name": "stdout",
     "output_type": "stream",
     "text": [
      "Last names of students without an email:  ['HUANCAYA IDONE', 'CALVO PORTOCARRERO', 'IBAÑEZ ABANTO', 'MELÉNDEZ APONTE', 'CRISTIAN SERRANO', 'ANGLAS GARCÍA', 'ALDAVE ACOSTA', 'NÚÑEZ HUAMÁN', 'OBREGON HUAMAN', 'SOTO PACHERRES', 'INGARUCA RIVERA', 'ROJAS HUAMAN', 'NEYRA SALAS', 'HUERTA ESPINOZA', 'HUANCA MARTINEZ']\n"
     ]
    }
   ],
   "source": [
    "# Step 2: Filter students without an email using the lambda function to locate all last names from the 'array' list that are along with an empty email\n",
    "# x[1] makes reference to the second string in each element of the matrix\n",
    "students_we = filter(lambda x: not x[1], matrix)\n",
    "\n",
    "# Step 3: Extract last names from the filtered students\n",
    "# x[0] makes reference to the first string in each element of the list\n",
    "last_names_we = map(lambda x: x[0].split(', ')[0], students_we)\n",
    "\n",
    "# Step 4: Print the last names of students without an email\n",
    "print('Last names of students without an email: ', list(last_names_we))"
   ]
  },
  {
   "cell_type": "markdown",
   "metadata": {},
   "source": [
    "## 1.3 Strings\n",
    "\n",
    "\n",
    "1. Drop the duplicated blank spaces in `str1`. Do not use the regular expresions. Do not use the code shown in class. Explain your steps.**Hint: Use `split` method and `join` function.**\n",
    "\n",
    "2. Get the number of letters in the string .**Hint: Use `len`function.**\n",
    "\n",
    "3. Get the number of blank spaces (all of them) in the string .**Hint: Use `len`function.**\n",
    "\n",
    "4. Get the position of `@` in each string in the emails list. **Hint: Use `map`function and `find` method.**\n",
    "\n",
    "5. Identifies if exists `.edu.`  in each string in the `emails` list. Get a list of Booleans. **Hint: Use `map`function and `find` method.**\n",
    "\n",
    "6. Get all the strings before the first dot `.`in each string in the `emails` list. Identifies how many of them has `@`. **Hint: Use `map`function and `find` method.**"
   ]
  },
  {
   "cell_type": "code",
   "execution_count": 27,
   "metadata": {},
   "outputs": [],
   "source": [
    "str1 = 'I am                            too                                                        old'"
   ]
  },
  {
   "cell_type": "code",
   "execution_count": 28,
   "metadata": {},
   "outputs": [],
   "source": [
    "emails = [\"cscornejo@pucp.edu.pe\", \"orellana.cn@pucp.edu.pe\", \"karina.morales@pucp.edu.pe\", \"a20083223@pucp.pe\", \"abel.camacho@pucp.pe\", \"mtintaya@pucp.edu.pe\", \"joselin.chavez@pucp.edu.pe\", \"a20105737@pucp.pe\", \"jfgomezc@pucp.pe\", \"afrania.palomino@pucp.pe\", \"luzon.bianca@pucp.pe\", \"adrian.suanaz@pucp.pe\", \"soto.y@pucp.edu.pe\", \"a20132766@pucp.pe\", \"andre.lama@pucp.edu.pe\", \"gustavo.meza@pucp.edu.pe\", \"pmlozada@pucp.edu.pe\", \"m.zambranoj@pucp.edu.pe\", \"nicolas.jacobs@pucp.edu.pe\", \"gvidal@pucp.edu.pe\", \"jane.torres@pucp.edu.pe\", \"m.lopez@pucp.edu.pe\", \"alejandro.boyco@pucp.edu.pe\", \"a20167070@pucp.edu.pe\", \"riega.stephy@pucp.edu.pe\", \"vlevanot@pucp.edu.pe\", \"sesquives@pucp.edu.pe\", \"perez.juanc@pucp.edu.pe\", \"mariana.otero@pucp.edu.pe\", \"aclavo@pucp.edu.pe\", \"a20182474@pucp.edu.pe\", \"josue.caldas@pucp.edu.pe\", \"fabio.salas@pucp.edu.pe\", \"fernanda.pizarro@pucp.edu.pe\", \"aquillatupa@pucp.pe\"]"
   ]
  },
  {
   "cell_type": "markdown",
   "metadata": {},
   "source": [
    "ANSWERS 1.3 Strings"
   ]
  },
  {
   "cell_type": "markdown",
   "metadata": {},
   "source": [
    "1. Drop the duplicated blank spaces in str1. Do not use the regular expresions. Do not use the code shown in class. Explain your steps.Hint: Use split method and join function."
   ]
  },
  {
   "cell_type": "code",
   "execution_count": 29,
   "metadata": {},
   "outputs": [
    {
     "data": {
      "text/plain": [
       "str"
      ]
     },
     "execution_count": 29,
     "metadata": {},
     "output_type": "execute_result"
    }
   ],
   "source": [
    "# Step 1: The variable is called and its type is observed\n",
    "str1 = 'I am                            too                                                        old'\n",
    "type(str1)"
   ]
  },
  {
   "cell_type": "code",
   "execution_count": 30,
   "metadata": {},
   "outputs": [
    {
     "name": "stdout",
     "output_type": "stream",
     "text": [
      "I am too old\n"
     ]
    }
   ],
   "source": [
    "# Step 2: The variable string is transformed into a list with the words that will make up the sentence\n",
    "wd=str1.split('                            ')\n",
    "# Step 3: Empty spaces are removed\n",
    "wd_without=list(wd)\n",
    "wd_without.remove('')\n",
    "# Step 4: The values of the list are concatenated in the searched sentence\n",
    "wd_concatenate=' '.join(wd_without)\n",
    "# Step 5: The results are printed\n",
    "print(wd_concatenate)\n"
   ]
  },
  {
   "cell_type": "code",
   "execution_count": null,
   "metadata": {},
   "outputs": [],
   "source": []
  },
  {
   "cell_type": "code",
   "execution_count": null,
   "metadata": {},
   "outputs": [],
   "source": []
  }
 ],
 "metadata": {
  "hide_input": false,
  "kernelspec": {
   "display_name": "Python 3 (ipykernel)",
   "language": "python",
   "name": "python3"
  },
  "language_info": {
   "codemirror_mode": {
    "name": "ipython",
    "version": 3
   },
   "file_extension": ".py",
   "mimetype": "text/x-python",
   "name": "python",
   "nbconvert_exporter": "python",
   "pygments_lexer": "ipython3",
   "version": "3.11.5"
  },
  "toc": {
   "base_numbering": 1,
   "nav_menu": {},
   "number_sections": true,
   "sideBar": true,
   "skip_h1_title": false,
   "title_cell": "Table of Contents",
   "title_sidebar": "Contents",
   "toc_cell": false,
   "toc_position": {},
   "toc_section_display": true,
   "toc_window_display": false
  }
 },
 "nbformat": 4,
 "nbformat_minor": 4
}
},
  {
   "cell_type": "code",
   "execution_count": 28,
   "execution_count": 8,
   "metadata": {},
   "outputs": [],
   "source": [
  },
  {
   "cell_type": "code",
   "execution_count": 29,
   "execution_count": 3,
   "metadata": {},
   "outputs": [
    {
       "str"
      ]
     },
     "execution_count": 29,
     "execution_count": 3,
     "metadata": {},
     "output_type": "execute_result"
    }
  },
  {
   "cell_type": "code",
   "execution_count": 30,
   "execution_count": 4,
   "metadata": {},
   "outputs": [
    {
    "print(wd_concatenate)\n"
   ]
  },
  {
   "cell_type": "markdown",
   "metadata": {},
   "source": [
    "Exercise 2"
   ]
  },
  {
   "cell_type": "markdown",
   "metadata": {},
   "source": [
    "In this exercise it's request get the number of letters in the string, for that it's point out to use the function called \"lens\""
   ]
  },
  {
   "cell_type": "code",
   "execution_count": null,
   "execution_count": 5,
   "metadata": {},
   "outputs": [],
   "source": []
   "outputs": [
    {
     "name": "stdout",
     "output_type": "stream",
     "text": [
      "9\n"
     ]
    }
   ],
   "source": [
    "#Step 1: we extract only the letters of our string \n",
    "letters_o = wd_concatenate.replace(\" \",\"\")\n",
    "\n",
    "#Step 2: we count the letters in our string \n",
    "l_s = len(letters_o)\n",
    "\n",
    "print(l_s)\n"
   ]
  },
  {
   "cell_type": "markdown",
   "metadata": {},
   "source": [
    "Exercise 3"
   ]
  },
  {
   "cell_type": "markdown",
   "metadata": {},
   "source": [
    "In this exercise it's request get the number of blank spaces (all of them) in the string, for that it's point out to use the function called \"lens\""
   ]
  },
  {
   "cell_type": "code",
   "execution_count": null,
   "execution_count": 6,
   "metadata": {},
   "outputs": [],
   "source": []
   "outputs": [
    {
     "name": "stdout",
     "output_type": "stream",
     "text": [
      "3\n"
     ]
    }
   ],
   "source": [
    "# Step 1: we deduct the number of letters with the length of the string\n",
    "b_s = len(wd_concatenate) - l_s\n",
    "\n",
    "print(b_s)\n"
   ]
  },
  {
   "cell_type": "markdown",
   "metadata": {},
   "source": [
    "Exercise 4"
   ]
  },
  {
   "cell_type": "markdown",
   "metadata": {},
   "source": [
    "In this exercise we will get the position of @ in each string in the emails list. For that we will use the function called \"map\" and the method \"find\"."
   ]
  },
  {
   "cell_type": "code",
   "execution_count": 9,
   "metadata": {},
   "outputs": [
    {
     "name": "stdout",
     "output_type": "stream",
     "text": [
      "<map object at 0x0000017E4CDC1970>\n",
      "[9, 11, 14, 9, 12, 8, 14, 9, 8, 16, 12, 13, 6, 9, 10, 12, 8, 11, 14, 6, 11, 7, 15, 9, 12, 8, 9, 11, 13, 6, 9, 12, 11, 16, 11]\n"
     ]
    }
   ],
   "source": [
    "# Step 1: To use the function \"map\" it's necesary to define the function for finding the position of @\n",
    "def position_find(email):\n",
    "    return email.find('@')\n",
    "\n",
    "# Step 2: We use the function \"map\" with the function previously built \n",
    "p_f = map(position_find, emails)\n",
    "\n",
    "# Step 3: we print the results \n",
    "print(p_f)\n",
    "print(list(p_f))\n",
    "\n"
   ]
  },
  {
   "cell_type": "markdown",
   "metadata": {},
   "source": [
    "Exercise 5"
   ]
  },
  {
   "cell_type": "markdown",
   "metadata": {},
   "source": [
    "In this case we will identify if exists .edu. in each string in the emails list and we will get a list of Booleans"
   ]
  },
  {
   "cell_type": "code",
   "execution_count": 10,
   "metadata": {},
   "outputs": [
    {
     "name": "stdout",
     "output_type": "stream",
     "text": [
      "<map object at 0x0000017E4CEC1910>\n",
      "[True, True, True, False, False, True, True, False, False, False, False, False, True, False, True, True, True, True, True, True, True, True, True, True, True, True, True, True, True, True, True, True, True, True, False]\n"
     ]
    }
   ],
   "source": [
    "# Step 1: We built the function for finding \".edu.\"\n",
    "def find_position_1(email):\n",
    "    return email.find('.edu.')\n",
    "\n",
    "## Step 2: To create our boolean list, we need to do the following: \n",
    "def map_boolean(position):\n",
    "    return position != -1  ### \"-1\" is the output when the map function doesn't find the string it's searching for \n",
    "\n",
    "p_2 = list(map(find_position_1, emails))\n",
    "ed_dot = map(map_boolean, p_2)\n",
    "\n",
    "## Finally, show the results\n",
    "print(ed_dot)\n",
    "print(list(ed_dot))\n"
   ]
  },
  {
   "cell_type": "markdown",
   "metadata": {},
   "source": [
    "Exercise 6"
   ]
  },
  {
   "cell_type": "markdown",
   "metadata": {},
   "source": [
    "In this exercise we will get all the strings before the first dot .in each string in the emails list, in addition we need to identify how many of them has @."
   ]
  },
  {
   "cell_type": "code",
   "execution_count": 11,
   "metadata": {},
   "outputs": [
    {
     "name": "stdout",
     "output_type": "stream",
     "text": [
      "14\n"
     ]
    }
   ],
   "source": [
    "#Step 1:  We built the function for getting the strings before the first dot\n",
    "def before_dot(email):\n",
    "    return email.split('.')[0]\n",
    "\n",
    "#Step 2: We use the function \"map\" to get the strings before the first dot \n",
    "x_1 = list(map(before_dot, emails))\n",
    "\n",
    "#Step 3: We find the position of @\n",
    "x_2 = list(map(position_find, x_1))\n",
    "\n",
    "#Step 4: We use the fuction \"map_boolean\" for identify which strings got @ \n",
    "x_3 = list(map(map_boolean, x_2))\n",
    "\n",
    "#Step 5:Counting the emails that have @ before the first dot \n",
    "count_at = x_3.count(True)\n",
    "\n",
    "#Step 6: We print the result\n",
    "print(count_at)\n",
    "\n",
    "\n"
   ]
  }
 ],
 "metadata": {
   "name": "python",
   "nbconvert_exporter": "python",
   "pygments_lexer": "ipython3",
   "version": "3.11.5"
   "version": "3.9.13"
  },
  "toc": {
   "base_numbering": 1,
