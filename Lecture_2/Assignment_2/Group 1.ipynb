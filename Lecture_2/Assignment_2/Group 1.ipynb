{
 "cells": [
  {
   "cell_type": "markdown",
   "id": "aba7c516",
   "metadata": {},
   "source": [
    "# **1 Assignment**\n",
    "\n",
    "It is totally prohibited to use any kind of loop. You can use stackoverflow. If you copy codes from previous answers, explain each step. No explanation is 0 points.\n",
    "\n",
    "## **1.1 Tuple**\n",
    "\n",
    "Print the first item of the second item of tuple1 object. Hint: Use indexing\n",
    "\n",
    "Print the last item of the tuple1 object.Hint: Use indexing\n",
    "\n",
    "Change the value \"orange\" for \"pink grapefruit\". Comment the output. Hint: Is it possible?\n",
    "\n",
    "Print the length of tuple1. Hint: Length function\n",
    "\n",
    "Sum all the elements of tuple2 and describe your steps and explain each of them. Hint: Use map function.\n",
    "\n",
    "Generate a new tuple object named as tuple3 with the half values of tuple2. This tuple should be similar as tuple2, tuple of lists. Hint: Use map funciont."
   ]
  },
  {
   "cell_type": "code",
   "execution_count": 1,
   "id": "f0121b67",
   "metadata": {},
   "outputs": [],
   "source": [
    "tuple1 = (\"Orange\", [10, 20, 30], (5, 15, 25))\n",
    "tuple2 = ([7, 8], [9, 1], [10, 7])"
   ]
  },
  {
   "cell_type": "markdown",
   "id": "b7ff715c",
   "metadata": {},
   "source": [
    "**Print the first item of the second item of tuple1 object. Hint: Use indexing**"
   ]
  },
  {
   "cell_type": "code",
   "execution_count": 2,
   "id": "50078351",
   "metadata": {},
   "outputs": [
    {
     "name": "stdout",
     "output_type": "stream",
     "text": [
      "10\n"
     ]
    }
   ],
   "source": [
    "second_item = tuple1[1]\n",
    "result = second_item[0]\n",
    "print(result)"
   ]
  },
  {
   "cell_type": "markdown",
   "id": "2d0fafa3",
   "metadata": {},
   "source": [
    "**Print the last item of the tuple1 object.Hint: Use indexing**"
   ]
  },
  {
   "cell_type": "code",
   "execution_count": 3,
   "id": "50e3cdd3",
   "metadata": {},
   "outputs": [
    {
     "data": {
      "text/plain": [
       "(5, 15, 25)"
      ]
     },
     "execution_count": 3,
     "metadata": {},
     "output_type": "execute_result"
    }
   ],
   "source": [
    "tuple1[-1]"
   ]
  },
  {
   "cell_type": "markdown",
   "id": "631d7f47",
   "metadata": {},
   "source": [
    "**Change the value \"orange\" for \"pink grapefruit\". Comment the output. Hint: Is it possible?**"
   ]
  },
  {
   "cell_type": "markdown",
   "id": "113c2f5c",
   "metadata": {},
   "source": [
    "NO es posible cambiar los elementos de la tupla. Para ello, se recomienta usar una lista"
   ]
  },
  {
   "cell_type": "code",
   "execution_count": 4,
   "id": "0045335c",
   "metadata": {},
   "outputs": [
    {
     "name": "stdout",
     "output_type": "stream",
     "text": [
      "['pink grapefruit', [10, 20, 30], (5, 15, 25)]\n"
     ]
    }
   ],
   "source": [
    "List1 = [\"Orange\", [10, 20, 30], (5, 15, 25)]\n",
    "List1[0] = \"pink grapefruit\"\n",
    "print(List1)"
   ]
  },
  {
   "cell_type": "markdown",
   "id": "9e8bedf3",
   "metadata": {},
   "source": [
    "**Print the length of tuple1. Hint: Length function**"
   ]
  },
  {
   "cell_type": "code",
   "execution_count": 5,
   "id": "051f5c83",
   "metadata": {},
   "outputs": [
    {
     "data": {
      "text/plain": [
       "3"
      ]
     },
     "execution_count": 5,
     "metadata": {},
     "output_type": "execute_result"
    }
   ],
   "source": [
    "len(tuple1)"
   ]
  },
  {
   "cell_type": "markdown",
   "id": "9e37e833",
   "metadata": {},
   "source": [
    "**Sum all the elements of tuple2 and describe your steps and explain each of them. Hint: Use map function.**"
   ]
  },
  {
   "cell_type": "code",
   "execution_count": 6,
   "id": "1193ec80",
   "metadata": {},
   "outputs": [
    {
     "name": "stdout",
     "output_type": "stream",
     "text": [
      "La suma de los elementos de cada lista es: [15, 10, 17]\n",
      "La suma total de todos los elementos de la tupla es: 42\n"
     ]
    }
   ],
   "source": [
    "sumas_por_lista = [sum(sublista) for sublista in tuple2]\n",
    "suma_total = sum(sumas_por_lista)\n",
    "print(\"La suma de los elementos de cada lista es:\", sumas_por_lista)\n",
    "print(\"La suma total de todos los elementos de la tupla es:\", suma_total)"
   ]
  },
  {
   "cell_type": "markdown",
   "id": "b72a3aa4",
   "metadata": {},
   "source": [
    "**Generate a new tuple object named as tuple3 with the half values of tuple2. This tuple should be similar as tuple2, tuple of lists. Hint: Use map funciont.**"
   ]
  },
  {
   "cell_type": "code",
   "execution_count": 7,
   "id": "988f6d3c",
   "metadata": {},
   "outputs": [
    {
     "name": "stdout",
     "output_type": "stream",
     "text": [
      "Original tuple2: ([7, 8], [9, 1], [10, 7])\n",
      "New tuple3 with half values: ([3.5, 4.0], [4.5, 0.5], [5.0, 3.5])\n"
     ]
    }
   ],
   "source": [
    "tuple2 = ([7, 8], [9, 1], [10, 7])\n",
    "tuple3 = tuple(map(lambda sublist:[value / 2 for value in sublist], tuple2))\n",
    "print(\"Original tuple2:\", tuple2)\n",
    "print(\"New tuple3 with half values:\", tuple3)"
   ]
  },
  {
   "cell_type": "markdown",
   "id": "8d544ae4",
   "metadata": {},
   "source": [
    "## 1.2 Lists"
   ]
  },
  {
   "cell_type": "code",
   "execution_count": 8,
   "id": "81c27a80",
   "metadata": {},
   "outputs": [],
   "source": [
    "import numpy as np"
   ]
  },
  {
   "cell_type": "code",
   "execution_count": 9,
   "id": "77468fa4",
   "metadata": {},
   "outputs": [],
   "source": [
    "f_list = [np.nan , np.nan, \"Austria\", \"Germany\", np.nan, \"Pakistan\", \"np.nan\", np.nan ]"
   ]
  },
  {
   "cell_type": "markdown",
   "id": "61e9d73d",
   "metadata": {},
   "source": [
    "**Show the indices of the np.nan values in the f_list list. We want to see this output: The indices 0, 1, 4, 7 have np.nan values. Hint: Use print function and f-strings to insert the indices values.**"
   ]
  },
  {
   "cell_type": "code",
   "execution_count": 10,
   "id": "6802d1c6",
   "metadata": {},
   "outputs": [
    {
     "name": "stdout",
     "output_type": "stream",
     "text": [
      "The indices 0, 1, 4, 7 have np.nan values.\n"
     ]
    }
   ],
   "source": [
    "import numpy as np\n",
    "f_list = [np.nan , np.nan, \"Austria\", \"Germany\", np.nan, \"Pakistan\", \"np.nan\", np.nan ]\n",
    "nan_indices = [index for index, value in enumerate(f_list) if isinstance(value, float) and np.isnan(value)]\n",
    "print(f\"The indices {', '.join(map(str, nan_indices))} have np.nan values.\")"
   ]
  },
  {
   "cell_type": "markdown",
   "id": "34dc9902",
   "metadata": {},
   "source": [
    "**Replicate 4 times the values of the list p2_list. We expect an ouput like this: [ 2 , 3, 4, 5, 2 , 3, 4, 5, 2 , 3, 4, 5, 2 , 3, 4, 5]. Hint: Use multiplication function in listsand see the output.**"
   ]
  },
  {
   "cell_type": "code",
   "execution_count": 20,
   "id": "5d80b491",
   "metadata": {},
   "outputs": [],
   "source": [
    "p2_list = [ 2 , 3, 4, 5 ]"
   ]
  },
  {
   "cell_type": "code",
   "execution_count": 21,
   "id": "f2c008d9",
   "metadata": {},
   "outputs": [
    {
     "data": {
      "text/plain": [
       "[2, 3, 4, 5, 2, 3, 4, 5, 2, 3, 4, 5, 2, 3, 4, 5]"
      ]
     },
     "execution_count": 21,
     "metadata": {},
     "output_type": "execute_result"
    }
   ],
   "source": [
    "4*p2_list"
   ]
  },
  {
   "cell_type": "markdown",
   "id": "bb6eadb6",
   "metadata": {},
   "source": [
    "**Print the length of f_first**"
   ]
  },
  {
   "cell_type": "code",
   "execution_count": 11,
   "id": "acc360f7",
   "metadata": {},
   "outputs": [
    {
     "data": {
      "text/plain": [
       "8"
      ]
     },
     "execution_count": 11,
     "metadata": {},
     "output_type": "execute_result"
    }
   ],
   "source": [
    "len(f_list)"
   ]
  },
  {
   "cell_type": "markdown",
   "id": "35aed97c",
   "metadata": {},
   "source": [
    "**Print My teacher assistant is so boring. using text1 list. Hint: Use the join function** "
   ]
  },
  {
   "cell_type": "code",
   "execution_count": 12,
   "id": "a500f963",
   "metadata": {
    "scrolled": true
   },
   "outputs": [
    {
     "name": "stdout",
     "output_type": "stream",
     "text": [
      "My teacher assistant is so boring.\n"
     ]
    }
   ],
   "source": [
    "text1 = ['My ', 'teacher ', 'assistant ', 'is ', 'so ', 'boring.']\n",
    "sentence = \"\".join(text1)\n",
    "print(sentence)"
   ]
  },
  {
   "cell_type": "markdown",
   "id": "79b6c1b2",
   "metadata": {},
   "source": [
    "**Print My TA is so boring, but is very funny. using text1 list.Hint: Use the join function, and extend method.**"
   ]
  },
  {
   "cell_type": "code",
   "execution_count": 13,
   "id": "361af730",
   "metadata": {},
   "outputs": [
    {
     "name": "stdout",
     "output_type": "stream",
     "text": [
      "My teacher assistant is so boring, but is very funny.\n"
     ]
    }
   ],
   "source": [
    "text1 = ['My ', 'teacher ', 'assistant ', 'is ', 'so ', 'boring']\n",
    "text1.extend([', but ','is ','very ', 'funny.'])\n",
    "sentence = \"\".join(text1)\n",
    "print(sentence)"
   ]
  },
  {
   "cell_type": "markdown",
   "id": "d4d89ac0",
   "metadata": {},
   "source": [
    "**The max value of values1 is 86 and is located in the 0 index. The min value of values1 is 0 and is located in the 7 index. Hint: Use the f-string, min, and max functions.**"
   ]
  },
  {
   "cell_type": "code",
   "execution_count": 23,
   "id": "e06187c2",
   "metadata": {},
   "outputs": [],
   "source": [
    "values1 = [ 86, 86, 85, 85, 85, 83, 23, 0, 84, 1 ]"
   ]
  },
  {
   "cell_type": "code",
   "execution_count": 24,
   "id": "7dddfd00",
   "metadata": {},
   "outputs": [
    {
     "name": "stdout",
     "output_type": "stream",
     "text": [
      "The max value of values1 is 86 and is located in the 0 index.\n",
      "The min value of values1 is 0 and is located in the 7 index.\n"
     ]
    }
   ],
   "source": [
    "max_value = max(values1)\n",
    "max_index = values1.index(max_value)\n",
    "\n",
    "min_value = min(values1)\n",
    "min_index = values1.index(min_value)\n",
    "\n",
    "print(f\"The max value of values1 is {max_value} and is located in the {max_index} index.\")\n",
    "print(f\"The min value of values1 is {min_value} and is located in the {min_index} index.\")"
   ]
  },
  {
   "cell_type": "markdown",
   "id": "8872ae00",
   "metadata": {},
   "source": [
    "**Get two lists: `names` and `last_names` using `last_and_name` list. Hint: Use `map` and `split`.**"
   ]
  },
  {
   "cell_type": "code",
   "execution_count": 14,
   "id": "0a31cae7",
   "metadata": {
    "scrolled": true
   },
   "outputs": [
    {
     "name": "stdout",
     "output_type": "stream",
     "text": [
      "Names: [' CHRISTIAN SANTOS', ' CRISTIAN NASSER', ' ANGELICA KARINA', ' JOSE ROBERTO', ' ABEL FERNANDO', ' MEIR ALVARO', ' JOSELIN ALEXANDRA', ' LEONEL ARTURO', ' JOSE FELIPE', ' AFRANIA', ' BIANCA MARIETTE', ' ADRIAN ANDRE', ' DORKAS YOMIRA JHERMY', ' LADY ALY', ' HECTOR ANDRE', ' GUSTAVO', ' PERSEO MARCELO', ' MIGUEL ALONZO', ' NICOLAS', ' ROCIO GABRIELA', ' JANE CAMILA', ' MARIA ELISA', ' ALEJANDRO', ' KARLINE ROSMELI', ' STEPHY ROSARIO', ' VALERIA CECILIA', ' SEBASTIAN RENATO', ' JUAN CARLOS', ' MARIANA', ' ANDREA BRIZETH', ' ERICK JOSUE', ' JOSUE DANIEL', ' FABIO MANUEL', ' FERNANDA NICOLLE', ' ANGELA ADELINA', ' CESAR DANTE', ' GABRIELA ISABEL', ' ANGEL MAURICIO', ' JUAN DIEGO', ' ARONE', ' PERCY ALBERTH', ' KEVIN ARTURO', ' CESAR ERNESTO', ' CÉSAR AGUSTO', ' DIANA EDITH', ' RODRIGO FRANCO', ' GRETTEL ALEXANDRA', ' ROSA ANGELA', ' DANTE OMAR', ' YAJAIRA ALEXANDRA', ' JORGE ALBERTO', ' ALEXIS']\n",
      "Last Names: ['CORNEJO SANCHEZ', 'ORELLANA QUISPE', 'MORALES CHOQUEHUANCA', 'GUIMARAY RIBEYRO', 'CAMACHO GAVIDIA', 'TINTAYA ORIHUELA', 'CHAVEZ MARTINEZ', 'FIGUEROA MURO', 'GOMEZ CRIBILLERO', 'PALOMINO SEGUÍN', 'LUZON CUEVA', 'SUAÑA ZEGARRA', 'SOTO POMACHAGUA', 'FIORENTINO MARTINEZ', 'LAMA MAVILA', 'MEZA HINOJO', 'LOZADA MURILLO', 'ZAMBRANO JIMENEZ', 'JACOBS LUQUE', 'VIDAL VIDAL', 'TORRES ANICAMA', 'LOPEZ ESTRADA', 'BOYCO ORAMS', 'DIAZ BERROSPI', 'RIEGA ESCALANTE', 'LEVANO TORRES', 'ESQUIVES BRAVO', 'PEREZ GONZALES', 'OTERO MAGUIÑA', 'CLAVO CAMPOS', 'AGUILAR GARCIA', 'CALDAS VELASQUEZ', 'SALAS NUÑEZ BORJA', 'PIZARRO VILLANES', 'QUILLATUPA MORALES', 'HUANCAYA IDONE', 'CALVO PORTOCARRERO', 'IBAÑEZ ABANTO', 'MELÉNDEZ APONTE', 'CRISTIAN SERRANO', 'HINOJOSA CAHUANA', 'ANGLAS GARCÍA', 'ALDAVE ACOSTA', 'NÚÑEZ HUAMÁN', 'OBREGON HUAMAN', 'SOTO PACHERRES', 'INGARUCA RIVERA', 'ROJAS HUAMAN', 'NEYRA SALAS', 'HUERTA ESPINOZA', 'HUANCA MARTINEZ', 'FLORES CADILLO']\n"
     ]
    }
   ],
   "source": [
    "last_and_name = [ \"CORNEJO SANCHEZ, CHRISTIAN SANTOS\", \"ORELLANA QUISPE, CRISTIAN NASSER\", \"MORALES CHOQUEHUANCA, ANGELICA KARINA\", \"GUIMARAY RIBEYRO, JOSE ROBERTO\", \"CAMACHO GAVIDIA, ABEL FERNANDO\", \"TINTAYA ORIHUELA, MEIR ALVARO\", \"CHAVEZ MARTINEZ, JOSELIN ALEXANDRA\", \"FIGUEROA MURO, LEONEL ARTURO\", \"GOMEZ CRIBILLERO, JOSE FELIPE\", \"PALOMINO SEGUÍN, AFRANIA\", \"LUZON CUEVA, BIANCA MARIETTE\", \"SUAÑA ZEGARRA, ADRIAN ANDRE\", \"SOTO POMACHAGUA, DORKAS YOMIRA JHERMY\", \"FIORENTINO MARTINEZ, LADY ALY\", \"LAMA MAVILA, HECTOR ANDRE\", \"MEZA HINOJO, GUSTAVO\", \"LOZADA MURILLO, PERSEO MARCELO\", \"ZAMBRANO JIMENEZ, MIGUEL ALONZO\", \"JACOBS LUQUE, NICOLAS\", \"VIDAL VIDAL, ROCIO GABRIELA\", \"TORRES ANICAMA, JANE CAMILA\", \"LOPEZ ESTRADA, MARIA ELISA\", \"BOYCO ORAMS, ALEJANDRO\", \"DIAZ BERROSPI, KARLINE ROSMELI\", \"RIEGA ESCALANTE, STEPHY ROSARIO\", \"LEVANO TORRES, VALERIA CECILIA\", \"ESQUIVES BRAVO, SEBASTIAN RENATO\", \"PEREZ GONZALES, JUAN CARLOS\", \"OTERO MAGUIÑA, MARIANA\", \"CLAVO CAMPOS, ANDREA BRIZETH\", \"AGUILAR GARCIA, ERICK JOSUE\", \"CALDAS VELASQUEZ, JOSUE DANIEL\", \"SALAS NUÑEZ BORJA, FABIO MANUEL\", \"PIZARRO VILLANES, FERNANDA NICOLLE\", \"QUILLATUPA MORALES, ANGELA ADELINA\", \"HUANCAYA IDONE, CESAR DANTE\", \"CALVO PORTOCARRERO, GABRIELA ISABEL\", \"IBAÑEZ ABANTO, ANGEL MAURICIO\", \"MELÉNDEZ APONTE, JUAN DIEGO\", \"CRISTIAN SERRANO, ARONE\", \"HINOJOSA CAHUANA, PERCY ALBERTH\", \"ANGLAS GARCÍA, KEVIN ARTURO\", \"ALDAVE ACOSTA, CESAR ERNESTO\", \"NÚÑEZ HUAMÁN, CÉSAR AGUSTO\", \"OBREGON HUAMAN, DIANA EDITH\", \"SOTO PACHERRES, RODRIGO FRANCO\", \"INGARUCA RIVERA, GRETTEL ALEXANDRA\", \"ROJAS HUAMAN, ROSA ANGELA\", \"NEYRA SALAS, DANTE OMAR\", \"HUERTA ESPINOZA, YAJAIRA ALEXANDRA\", \"HUANCA MARTINEZ, JORGE ALBERTO\", \"FLORES CADILLO, ALEXIS\" ]\n",
    "split_name = lambda full_name: full_name.split(',')\n",
    "split_name = map(split_name , last_and_name)\n",
    "last_names , names = map(list,zip(*split_name))\n",
    "print(\"Names:\", names)\n",
    "print(\"Last Names:\", last_names)"
   ]
  },
  {
   "cell_type": "markdown",
   "id": "653e90b8",
   "metadata": {},
   "source": [
    "**Give only the last names of students who do not have email. Use the `emails` and `last_names` listt. Hint: Use `map` and `split`.**"
   ]
  },
  {
   "cell_type": "code",
   "execution_count": 15,
   "id": "d7d6aaae",
   "metadata": {},
   "outputs": [
    {
     "name": "stdout",
     "output_type": "stream",
     "text": [
      "Last names of students without an email:\n",
      "['HUANCAYA IDONE', 'CALVO PORTOCARRERO', 'IBAÑEZ ABANTO', 'MELÉNDEZ APONTE', 'CRISTIAN SERRANO', 'ANGLAS GARCÍA', 'ALDAVE ACOSTA', 'NÚÑEZ HUAMÁN', 'OBREGON HUAMAN', 'SOTO PACHERRES', 'INGARUCA RIVERA', 'ROJAS HUAMAN', 'NEYRA SALAS', 'HUERTA ESPINOZA', 'HUANCA MARTINEZ']\n"
     ]
    }
   ],
   "source": [
    "emails = [\"cscornejo@pucp.edu.pe\", \"orellana.cn@pucp.edu.pe\", \"karina.morales@pucp.edu.pe\", \"a20083223@pucp.pe\", \"abel.camacho@pucp.pe\", \"mtintaya@pucp.edu.pe\", \"joselin.chavez@pucp.edu.pe\", \"a20105737@pucp.pe\", \"jfgomezc@pucp.pe\", \"afrania.palomino@pucp.pe\", \"luzon.bianca@pucp.pe\", \"adrian.suanaz@pucp.pe\", \"soto.y@pucp.edu.pe\", \"a20132766@pucp.pe\", \"andre.lama@pucp.edu.pe\", \"gustavo.meza@pucp.edu.pe\", \"pmlozada@pucp.edu.pe\", \"m.zambranoj@pucp.edu.pe\", \"nicolas.jacobs@pucp.edu.pe\", \"gvidal@pucp.edu.pe\", \"jane.torres@pucp.edu.pe\", \"m.lopez@pucp.edu.pe\", \"alejandro.boyco@pucp.edu.pe\", \"a20167070@pucp.edu.pe\", \"riega.stephy@pucp.edu.pe\", \"vlevanot@pucp.edu.pe\", \"sesquives@pucp.edu.pe\", \"perez.juanc@pucp.edu.pe\", \"mariana.otero@pucp.edu.pe\", \"aclavo@pucp.edu.pe\", \"a20182474@pucp.edu.pe\", \"josue.caldas@pucp.edu.pe\", \"fabio.salas@pucp.edu.pe\", \"fernanda.pizarro@pucp.edu.pe\", \"aquillatupa@pucp.pe\", \"\", \"\", \"\", \"\", \"\", \"f0873079@pucp.edu.pe\", \"\", \"\", \"\", \"\", \"\", \"\", \"\", \"\", \"\", \"\", \"flores.alexis@pucp.edu.pe\", ]\n",
    "\n",
    "last_names_without_email = list(map(lambda name_email: name_email[0].split(\", \")[0],filter(lambda name_email: name_email[1] == \"\", zip(last_and_name, emails))))\n",
    "print(\"Last names of students without an email:\")\n",
    "print(last_names_without_email)"
   ]
  },
  {
   "cell_type": "markdown",
   "id": "42335605",
   "metadata": {},
   "source": [
    "## 1.3 Strings"
   ]
  },
  {
   "cell_type": "code",
   "execution_count": 16,
   "id": "df22a4a4",
   "metadata": {},
   "outputs": [],
   "source": [
    "str1 = 'I am                            too                                                        old'"
   ]
  },
  {
   "cell_type": "markdown",
   "id": "7134a86c",
   "metadata": {},
   "source": [
    "**Get the number of letters in the string. Hint: Use lenfunction.**"
   ]
  },
  {
   "cell_type": "code",
   "execution_count": 17,
   "id": "acf7992d",
   "metadata": {},
   "outputs": [
    {
     "data": {
      "text/plain": [
       "94"
      ]
     },
     "execution_count": 17,
     "metadata": {},
     "output_type": "execute_result"
    }
   ],
   "source": [
    "len(str1)"
   ]
  },
  {
   "cell_type": "markdown",
   "id": "f467e8d0",
   "metadata": {},
   "source": [
    "**Get the number of blank spaces (all of them) in the string .Hint: Use lenfunction.**"
   ]
  },
  {
   "cell_type": "code",
   "execution_count": 25,
   "id": "ccf79573",
   "metadata": {},
   "outputs": [
    {
     "name": "stdout",
     "output_type": "stream",
     "text": [
      "The number of blank spaces in the string is: 85\n"
     ]
    }
   ],
   "source": [
    "str1 = 'I am                            too                                                        old'\n",
    "num_blank_spaces = str1.count(\" \")\n",
    "print(f\"The number of blank spaces in the string is: {num_blank_spaces}\")"
   ]
  },
  {
   "cell_type": "markdown",
   "id": "587ff0f8",
   "metadata": {},
   "source": [
    "**Get the position of @ in each string in the emails list. Hint: Use mapfunction and find method.**"
   ]
  },
  {
   "cell_type": "code",
   "execution_count": 29,
   "id": "ee860ffe",
   "metadata": {},
   "outputs": [
    {
     "name": "stdout",
     "output_type": "stream",
     "text": [
      "The position of '@' in emails at index 0 is: 9\n",
      "The position of '@' in emails at index 1 is: 11\n",
      "The position of '@' in emails at index 2 is: 14\n",
      "The position of '@' in emails at index 3 is: 9\n",
      "The position of '@' in emails at index 4 is: 12\n",
      "The position of '@' in emails at index 5 is: 8\n",
      "The position of '@' in emails at index 6 is: 14\n",
      "The position of '@' in emails at index 7 is: 9\n",
      "The position of '@' in emails at index 8 is: 8\n",
      "The position of '@' in emails at index 9 is: 16\n",
      "The position of '@' in emails at index 10 is: 12\n",
      "The position of '@' in emails at index 11 is: 13\n",
      "The position of '@' in emails at index 12 is: 6\n",
      "The position of '@' in emails at index 13 is: 9\n",
      "The position of '@' in emails at index 14 is: 10\n",
      "The position of '@' in emails at index 15 is: 12\n",
      "The position of '@' in emails at index 16 is: 8\n",
      "The position of '@' in emails at index 17 is: 11\n",
      "The position of '@' in emails at index 18 is: 14\n",
      "The position of '@' in emails at index 19 is: 6\n",
      "The position of '@' in emails at index 20 is: 11\n",
      "The position of '@' in emails at index 21 is: 7\n",
      "The position of '@' in emails at index 22 is: 15\n",
      "The position of '@' in emails at index 23 is: 9\n",
      "The position of '@' in emails at index 24 is: 12\n",
      "The position of '@' in emails at index 25 is: 8\n",
      "The position of '@' in emails at index 26 is: 9\n",
      "The position of '@' in emails at index 27 is: 11\n",
      "The position of '@' in emails at index 28 is: 13\n",
      "The position of '@' in emails at index 29 is: 6\n",
      "The position of '@' in emails at index 30 is: 9\n",
      "The position of '@' in emails at index 31 is: 12\n",
      "The position of '@' in emails at index 32 is: 11\n",
      "The position of '@' in emails at index 33 is: 16\n",
      "The position of '@' in emails at index 34 is: 11\n"
     ]
    }
   ],
   "source": [
    "emails = [\"cscornejo@pucp.edu.pe\", \"orellana.cn@pucp.edu.pe\", \"karina.morales@pucp.edu.pe\", \"a20083223@pucp.pe\", \"abel.camacho@pucp.pe\", \"mtintaya@pucp.edu.pe\", \"joselin.chavez@pucp.edu.pe\", \"a20105737@pucp.pe\", \"jfgomezc@pucp.pe\", \"afrania.palomino@pucp.pe\", \"luzon.bianca@pucp.pe\", \"adrian.suanaz@pucp.pe\", \"soto.y@pucp.edu.pe\", \"a20132766@pucp.pe\", \"andre.lama@pucp.edu.pe\", \"gustavo.meza@pucp.edu.pe\", \"pmlozada@pucp.edu.pe\", \"m.zambranoj@pucp.edu.pe\", \"nicolas.jacobs@pucp.edu.pe\", \"gvidal@pucp.edu.pe\", \"jane.torres@pucp.edu.pe\", \"m.lopez@pucp.edu.pe\", \"alejandro.boyco@pucp.edu.pe\", \"a20167070@pucp.edu.pe\", \"riega.stephy@pucp.edu.pe\", \"vlevanot@pucp.edu.pe\", \"sesquives@pucp.edu.pe\", \"perez.juanc@pucp.edu.pe\", \"mariana.otero@pucp.edu.pe\", \"aclavo@pucp.edu.pe\", \"a20182474@pucp.edu.pe\", \"josue.caldas@pucp.edu.pe\", \"fabio.salas@pucp.edu.pe\", \"fernanda.pizarro@pucp.edu.pe\", \"aquillatupa@pucp.pe\"]\n",
    "positions = map(lambda emails: emails.find(\"@\"), emails)\n",
    "for index, position in enumerate(positions):\n",
    "    print(f\"The position of '@' in emails at index {index} is: {position}\")"
   ]
  },
  {
   "cell_type": "code",
   "execution_count": null,
   "id": "635e5e71",
   "metadata": {},
   "outputs": [],
   "source": []
  }
 ],
 "metadata": {
  "kernelspec": {
   "display_name": "Python 3 (ipykernel)",
   "language": "python",
   "name": "python3"
  },
  "language_info": {
   "codemirror_mode": {
    "name": "ipython",
    "version": 3
   },
   "file_extension": ".py",
   "mimetype": "text/x-python",
   "name": "python",
   "nbconvert_exporter": "python",
   "pygments_lexer": "ipython3",
   "version": "3.11.5"
  }
 },
 "nbformat": 4,
 "nbformat_minor": 5
}
