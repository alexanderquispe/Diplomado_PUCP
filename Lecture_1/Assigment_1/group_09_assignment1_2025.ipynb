{
 "cells": [
  {
   "cell_type": "code",
   "execution_count": null,
   "id": "9822595f-4525-41f7-abc6-fe3422998dc9",
   "metadata": {},
   "outputs": [],
   "source": [
    "Explain the difference between working on a branch and working directly on main.\n",
    "Why is it recommended to always use branches in collaborative projects?"
   ]
  },
  {
   "cell_type": "code",
   "execution_count": null,
   "id": "019cd883-ca41-42ad-b905-ce3b4befa8df",
   "metadata": {},
   "outputs": [],
   "source": []
  },
  {
   "cell_type": "code",
   "execution_count": null,
   "id": "7b92d012-d823-493d-b2d1-c46ee66c6de3",
   "metadata": {},
   "outputs": [],
   "source": []
  },
  {
   "cell_type": "code",
   "execution_count": null,
   "id": "913e0d6f-469a-41cd-a9bf-a8733eb11abe",
   "metadata": {},
   "outputs": [],
   "source": []
  }
 ],
 "metadata": {
  "kernelspec": {
   "display_name": "Python 3 (ipykernel)",
   "language": "python",
   "name": "python3"
  },
  "language_info": {
   "codemirror_mode": {
    "name": "ipython",
    "version": 3
   },
   "file_extension": ".py",
   "mimetype": "text/x-python",
   "name": "python",
   "nbconvert_exporter": "python",
   "pygments_lexer": "ipython3",
   "version": "3.13.5"
  }
 },
 "nbformat": 4,
 "nbformat_minor": 5
}
