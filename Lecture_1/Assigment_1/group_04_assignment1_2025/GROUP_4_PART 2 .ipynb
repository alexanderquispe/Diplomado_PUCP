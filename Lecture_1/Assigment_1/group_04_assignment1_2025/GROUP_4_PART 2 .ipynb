{
 "cells": [
  {
   "cell_type": "markdown",
   "id": "449dd995",
   "metadata": {},
   "source": [
    "# PART 2\n",
    "\n",
    "# Variable for each of the following types: "
   ]
  },
  {
   "cell_type": "code",
   "execution_count": null,
   "id": "26859830",
   "metadata": {},
   "outputs": [],
   "source": []
  },
  {
   "cell_type": "code",
   "execution_count": 2,
   "id": "b9a2e546",
   "metadata": {},
   "outputs": [],
   "source": [
    "## Varible int:"
   ]
  },
  {
   "cell_type": "code",
   "execution_count": null,
   "id": "ba65f355",
   "metadata": {},
   "outputs": [],
   "source": [
    "catidad_de_estudiantes == m"
   ]
  },
  {
   "cell_type": "code",
   "execution_count": 8,
   "id": "31bca3ba",
   "metadata": {},
   "outputs": [],
   "source": [
    "m = 40"
   ]
  },
  {
   "cell_type": "code",
   "execution_count": 9,
   "id": "f53e8c22",
   "metadata": {},
   "outputs": [
    {
     "data": {
      "text/plain": [
       "40"
      ]
     },
     "execution_count": 9,
     "metadata": {},
     "output_type": "execute_result"
    }
   ],
   "source": [
    "m"
   ]
  },
  {
   "cell_type": "code",
   "execution_count": null,
   "id": "38fa26c0",
   "metadata": {},
   "outputs": [],
   "source": []
  },
  {
   "cell_type": "code",
   "execution_count": 3,
   "id": "4e505eb8",
   "metadata": {},
   "outputs": [],
   "source": [
    "## Varible float:"
   ]
  },
  {
   "cell_type": "code",
   "execution_count": 26,
   "id": "1edcd77d",
   "metadata": {},
   "outputs": [],
   "source": [
    "promedio_notas_estudiantes = 19.5"
   ]
  },
  {
   "cell_type": "code",
   "execution_count": 27,
   "id": "dcafc96e",
   "metadata": {},
   "outputs": [
    {
     "data": {
      "text/plain": [
       "True"
      ]
     },
     "execution_count": 27,
     "metadata": {},
     "output_type": "execute_result"
    }
   ],
   "source": [
    "promedio_notas_estudiantes == p"
   ]
  },
  {
   "cell_type": "code",
   "execution_count": 28,
   "id": "dc90c49b",
   "metadata": {},
   "outputs": [
    {
     "data": {
      "text/plain": [
       "19.5"
      ]
     },
     "execution_count": 28,
     "metadata": {},
     "output_type": "execute_result"
    }
   ],
   "source": [
    "p"
   ]
  },
  {
   "cell_type": "code",
   "execution_count": 12,
   "id": "bcf3e484",
   "metadata": {},
   "outputs": [],
   "source": [
    "## Varible string:"
   ]
  },
  {
   "cell_type": "code",
   "execution_count": 18,
   "id": "d1c20e67",
   "metadata": {},
   "outputs": [],
   "source": [
    "nombre_curso = 'Fundamentos de Python'"
   ]
  },
  {
   "cell_type": "code",
   "execution_count": 19,
   "id": "8aa882c8",
   "metadata": {},
   "outputs": [
    {
     "data": {
      "text/plain": [
       "'Fundamentos de Python'"
      ]
     },
     "execution_count": 19,
     "metadata": {},
     "output_type": "execute_result"
    }
   ],
   "source": [
    "nombre_curso"
   ]
  },
  {
   "cell_type": "code",
   "execution_count": null,
   "id": "a0bf02c2",
   "metadata": {},
   "outputs": [],
   "source": []
  },
  {
   "cell_type": "code",
   "execution_count": 20,
   "id": "4b7299c5",
   "metadata": {},
   "outputs": [],
   "source": [
    "## Varible boolean:"
   ]
  },
  {
   "cell_type": "code",
   "execution_count": 31,
   "id": "5d03cc4c",
   "metadata": {},
   "outputs": [],
   "source": [
    "asistencia = 1"
   ]
  },
  {
   "cell_type": "code",
   "execution_count": 34,
   "id": "2cf16e5d",
   "metadata": {},
   "outputs": [
    {
     "data": {
      "text/plain": [
       "1"
      ]
     },
     "execution_count": 34,
     "metadata": {},
     "output_type": "execute_result"
    }
   ],
   "source": [
    "asistencia"
   ]
  },
  {
   "cell_type": "code",
   "execution_count": 35,
   "id": "dcc31435",
   "metadata": {},
   "outputs": [],
   "source": [
    "falta = 0"
   ]
  },
  {
   "cell_type": "code",
   "execution_count": 36,
   "id": "4102346d",
   "metadata": {},
   "outputs": [
    {
     "data": {
      "text/plain": [
       "0"
      ]
     },
     "execution_count": 36,
     "metadata": {},
     "output_type": "execute_result"
    }
   ],
   "source": [
    "falta"
   ]
  },
  {
   "cell_type": "code",
   "execution_count": 37,
   "id": "f232f394",
   "metadata": {},
   "outputs": [
    {
     "data": {
      "text/plain": [
       "False"
      ]
     },
     "execution_count": 37,
     "metadata": {},
     "output_type": "execute_result"
    }
   ],
   "source": [
    "asistencia == falta"
   ]
  },
  {
   "cell_type": "markdown",
   "id": "9012bab4",
   "metadata": {},
   "source": [
    "## 7. Create a list that contains the following elements:A string, a boolean value, two numeric values (of any type) and two strings representing your favorite music artists"
   ]
  },
  {
   "cell_type": "code",
   "execution_count": 38,
   "id": "0e3215db",
   "metadata": {},
   "outputs": [],
   "source": [
    "Grupo_4 = [\"Santiago, Jaquelin y Karen\", True, 3, 30.0, [\"Calle 13\", \"Super Grupo\"] ]"
   ]
  },
  {
   "cell_type": "code",
   "execution_count": 39,
   "id": "268bf1d3",
   "metadata": {},
   "outputs": [
    {
     "data": {
      "text/plain": [
       "['Santiago, Jaquelin y Karen', True, 3, 30.0, ['Calle 13', 'Super Grupo']]"
      ]
     },
     "execution_count": 39,
     "metadata": {},
     "output_type": "execute_result"
    }
   ],
   "source": [
    "Grupo_4"
   ]
  },
  {
   "cell_type": "markdown",
   "id": "ae633236",
   "metadata": {},
   "source": [
    "## Access the first and the last element"
   ]
  },
  {
   "cell_type": "code",
   "execution_count": 40,
   "id": "251e5a9e",
   "metadata": {},
   "outputs": [
    {
     "data": {
      "text/plain": [
       "'Santiago, Jaquelin y Karen'"
      ]
     },
     "execution_count": 40,
     "metadata": {},
     "output_type": "execute_result"
    }
   ],
   "source": [
    "Grupo_4[0]"
   ]
  },
  {
   "cell_type": "code",
   "execution_count": 42,
   "id": "df172722",
   "metadata": {},
   "outputs": [
    {
     "data": {
      "text/plain": [
       "['Calle 13', 'Super Grupo']"
      ]
     },
     "execution_count": 42,
     "metadata": {},
     "output_type": "execute_result"
    }
   ],
   "source": [
    "Grupo_4[-1]"
   ]
  },
  {
   "cell_type": "markdown",
   "id": "2692b141",
   "metadata": {},
   "source": [
    "## Add a new string"
   ]
  },
  {
   "cell_type": "code",
   "execution_count": 44,
   "id": "b95c6def",
   "metadata": {},
   "outputs": [],
   "source": [
    "Grupo_4.append(\"cientificos sociales\")"
   ]
  },
  {
   "cell_type": "code",
   "execution_count": 45,
   "id": "4aa5e3cc",
   "metadata": {},
   "outputs": [
    {
     "data": {
      "text/plain": [
       "['Santiago, Jaquelin y Karen',\n",
       " True,\n",
       " 3,\n",
       " 30.0,\n",
       " ['Calle 13', 'Super Grupo'],\n",
       " 'cientificos sociales']"
      ]
     },
     "execution_count": 45,
     "metadata": {},
     "output_type": "execute_result"
    }
   ],
   "source": [
    "Grupo_4"
   ]
  },
  {
   "cell_type": "markdown",
   "id": "c6b51521",
   "metadata": {},
   "source": [
    "## Remove the boolean value"
   ]
  },
  {
   "cell_type": "code",
   "execution_count": 47,
   "id": "4e0378bb",
   "metadata": {},
   "outputs": [],
   "source": [
    "Grupo_4.remove(True)"
   ]
  },
  {
   "cell_type": "code",
   "execution_count": 48,
   "id": "6c120718",
   "metadata": {},
   "outputs": [
    {
     "data": {
      "text/plain": [
       "['Santiago, Jaquelin y Karen',\n",
       " 3,\n",
       " 30.0,\n",
       " ['Calle 13', 'Super Grupo'],\n",
       " 'cientificos sociales']"
      ]
     },
     "execution_count": 48,
     "metadata": {},
     "output_type": "execute_result"
    }
   ],
   "source": [
    "Grupo_4"
   ]
  },
  {
   "cell_type": "code",
   "execution_count": null,
   "id": "23be9331",
   "metadata": {},
   "outputs": [],
   "source": []
  }
 ],
 "metadata": {
  "kernelspec": {
   "display_name": "Python 3 (ipykernel)",
   "language": "python",
   "name": "python3"
  },
  "language_info": {
   "codemirror_mode": {
    "name": "ipython",
    "version": 3
   },
   "file_extension": ".py",
   "mimetype": "text/x-python",
   "name": "python",
   "nbconvert_exporter": "python",
   "pygments_lexer": "ipython3",
   "version": "3.11.5"
  }
 },
 "nbformat": 4,
 "nbformat_minor": 5
}
