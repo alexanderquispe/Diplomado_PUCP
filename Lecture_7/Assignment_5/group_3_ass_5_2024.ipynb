{
 "cells": [
  {
   "cell_type": "markdown",
   "metadata": {},
   "source": [
    "# Assignment 5\n",
    "The script should not give an error. Any mistake will be consider as 0.\n"
   ]
  },
  {
   "cell_type": "markdown",
   "metadata": {},
   "source": [
    "## Package installation"
   ]
  },
  {
   "cell_type": "code",
   "execution_count": 1,
   "metadata": {},
   "outputs": [
    {
     "data": {
      "text/html": [
       "\n",
       "<style>\n",
       "    div#notebook-container    { width: 95%; }\n",
       "    div#menubar-container     { width: 65%; }\n",
       "    div#maintoolbar-container { width: 99%; }a\n",
       "</style>\n"
      ],
      "text/plain": [
       "<IPython.core.display.HTML object>"
      ]
     },
     "metadata": {},
     "output_type": "display_data"
    }
   ],
   "source": [
    "from IPython.display import display, HTML\n",
    "\n",
    "display(HTML(data=\"\"\"\n",
    "<style>\n",
    "    div#notebook-container    { width: 95%; }\n",
    "    div#menubar-container     { width: 65%; }\n",
    "    div#maintoolbar-container { width: 99%; }a\n",
    "</style>\n",
    "\"\"\"))"
   ]
  },
  {
   "cell_type": "code",
   "execution_count": 3,
   "metadata": {},
   "outputs": [
    {
     "name": "stdout",
     "output_type": "stream",
     "text": [
      "Requirement already satisfied: selenium in c:\\users\\luisc\\anaconda3\\lib\\site-packages (4.7.2)\n",
      "Requirement already satisfied: trio-websocket~=0.9 in c:\\users\\luisc\\anaconda3\\lib\\site-packages (from selenium) (0.9.2)\n",
      "Requirement already satisfied: trio~=0.17 in c:\\users\\luisc\\anaconda3\\lib\\site-packages (from selenium) (0.22.0)\n",
      "Requirement already satisfied: urllib3[socks]~=1.26 in c:\\users\\luisc\\anaconda3\\lib\\site-packages (from selenium) (1.26.9)\n",
      "Requirement already satisfied: certifi>=2021.10.8 in c:\\users\\luisc\\anaconda3\\lib\\site-packages (from selenium) (2023.11.17)\n",
      "Requirement already satisfied: attrs>=19.2.0 in c:\\users\\luisc\\anaconda3\\lib\\site-packages (from trio~=0.17->selenium) (21.4.0)\n",
      "Requirement already satisfied: outcome in c:\\users\\luisc\\anaconda3\\lib\\site-packages (from trio~=0.17->selenium) (1.2.0)\n",
      "Requirement already satisfied: sortedcontainers in c:\\users\\luisc\\anaconda3\\lib\\site-packages (from trio~=0.17->selenium) (2.4.0)\n",
      "Requirement already satisfied: sniffio in c:\\users\\luisc\\anaconda3\\lib\\site-packages (from trio~=0.17->selenium) (1.2.0)\n",
      "Requirement already satisfied: idna in c:\\users\\luisc\\anaconda3\\lib\\site-packages (from trio~=0.17->selenium) (3.3)\n",
      "Requirement already satisfied: async-generator>=1.9 in c:\\users\\luisc\\anaconda3\\lib\\site-packages (from trio~=0.17->selenium) (1.10)\n",
      "Requirement already satisfied: cffi>=1.14 in c:\\users\\luisc\\anaconda3\\lib\\site-packages (from trio~=0.17->selenium) (1.15.0)\n",
      "Requirement already satisfied: exceptiongroup>=1.0.0rc9 in c:\\users\\luisc\\anaconda3\\lib\\site-packages (from trio~=0.17->selenium) (1.0.4)\n",
      "Requirement already satisfied: pycparser in c:\\users\\luisc\\anaconda3\\lib\\site-packages (from cffi>=1.14->trio~=0.17->selenium) (2.21)\n",
      "Requirement already satisfied: wsproto>=0.14 in c:\\users\\luisc\\anaconda3\\lib\\site-packages (from trio-websocket~=0.9->selenium) (1.2.0)\n",
      "Requirement already satisfied: PySocks!=1.5.7,<2.0,>=1.5.6 in c:\\users\\luisc\\anaconda3\\lib\\site-packages (from urllib3[socks]~=1.26->selenium) (1.7.1)\n",
      "Requirement already satisfied: h11<1,>=0.9.0 in c:\\users\\luisc\\anaconda3\\lib\\site-packages (from wsproto>=0.14->trio-websocket~=0.9->selenium) (0.14.0)\n",
      "Requirement already satisfied: webdriver-manager in c:\\users\\luisc\\anaconda3\\lib\\site-packages (4.0.1)\n",
      "Requirement already satisfied: requests in c:\\users\\luisc\\anaconda3\\lib\\site-packages (from webdriver-manager) (2.27.1)\n",
      "Requirement already satisfied: python-dotenv in c:\\users\\luisc\\anaconda3\\lib\\site-packages (from webdriver-manager) (0.21.0)\n",
      "Requirement already satisfied: packaging in c:\\users\\luisc\\anaconda3\\lib\\site-packages (from webdriver-manager) (21.3)\n",
      "Requirement already satisfied: pyparsing!=3.0.5,>=2.0.2 in c:\\users\\luisc\\anaconda3\\lib\\site-packages (from packaging->webdriver-manager) (3.0.4)\n",
      "Requirement already satisfied: charset-normalizer~=2.0.0 in c:\\users\\luisc\\anaconda3\\lib\\site-packages (from requests->webdriver-manager) (2.0.4)\n",
      "Requirement already satisfied: urllib3<1.27,>=1.21.1 in c:\\users\\luisc\\anaconda3\\lib\\site-packages (from requests->webdriver-manager) (1.26.9)\n",
      "Requirement already satisfied: idna<4,>=2.5 in c:\\users\\luisc\\anaconda3\\lib\\site-packages (from requests->webdriver-manager) (3.3)\n",
      "Requirement already satisfied: certifi>=2017.4.17 in c:\\users\\luisc\\anaconda3\\lib\\site-packages (from requests->webdriver-manager) (2023.11.17)\n"
     ]
    }
   ],
   "source": [
    "#!pip install selenium\n",
    "#!pip install webdriver-manager"
   ]
  },
  {
   "cell_type": "code",
   "execution_count": 2,
   "metadata": {},
   "outputs": [],
   "source": [
    "# this library is to manipulate browser\n",
    "from selenium import webdriver\n",
    "\n",
    "# it allows you to work with differen versions of drivers\n",
    "# We call ChromeDriver\n",
    "from webdriver_manager.chrome import ChromeDriverManager\n",
    "import re\n",
    "import time \n",
    "from selenium.webdriver.common.by import By\n",
    "import pandas as pd # for table import\n",
    "from selenium import webdriver\n",
    "from selenium.webdriver.chrome.service import Service"
   ]
  },
  {
   "cell_type": "code",
   "execution_count": 3,
   "metadata": {},
   "outputs": [
    {
     "data": {
      "text/plain": [
       "'C:\\\\Users\\\\danie\\\\OneDrive\\\\Documentos\\\\GitHub\\\\Diplomado_PUCP\\\\Lecture_7\\\\Assignment_5'"
      ]
     },
     "execution_count": 3,
     "metadata": {},
     "output_type": "execute_result"
    }
   ],
   "source": [
    "pwd"
   ]
  },
  {
   "cell_type": "markdown",
   "metadata": {},
   "source": [
    "## Loop final\n"
   ]
  },
  {
   "cell_type": "code",
   "execution_count": 7,
   "metadata": {},
   "outputs": [
    {
     "ename": "ElementClickInterceptedException",
     "evalue": "Message: element click intercepted: Element <a href=\"javascript:void(0)\">...</a> is not clickable at point (1018, 492). Other element would receive the click: <a href=\"javascript:void(0)\">...</a>\n  (Session info: chrome=120.0.6099.217)\nStacktrace:\n\tGetHandleVerifier [0x00007FF671F42142+3514994]\n\t(No symbol) [0x00007FF671B60CE2]\n\t(No symbol) [0x00007FF671A076AA]\n\t(No symbol) [0x00007FF671A588F3]\n\t(No symbol) [0x00007FF671A568ED]\n\t(No symbol) [0x00007FF671A540EC]\n\t(No symbol) [0x00007FF671A52EA5]\n\t(No symbol) [0x00007FF671A46A0F]\n\t(No symbol) [0x00007FF671A75FEA]\n\t(No symbol) [0x00007FF671A463B6]\n\t(No symbol) [0x00007FF671A76490]\n\t(No symbol) [0x00007FF671A928F6]\n\t(No symbol) [0x00007FF671A75D93]\n\t(No symbol) [0x00007FF671A44BDC]\n\t(No symbol) [0x00007FF671A45C64]\n\tGetHandleVerifier [0x00007FF671F6E16B+3695259]\n\tGetHandleVerifier [0x00007FF671FC6737+4057191]\n\tGetHandleVerifier [0x00007FF671FBE4E3+4023827]\n\tGetHandleVerifier [0x00007FF671C904F9+689705]\n\t(No symbol) [0x00007FF671B6C048]\n\t(No symbol) [0x00007FF671B68044]\n\t(No symbol) [0x00007FF671B681C9]\n\t(No symbol) [0x00007FF671B588C4]\n\tBaseThreadInitThunk [0x00007FFBB6E57344+20]\n\tRtlUserThreadStart [0x00007FFBB78E26B1+33]\n",
     "output_type": "error",
     "traceback": [
      "\u001b[1;31m---------------------------------------------------------------------------\u001b[0m",
      "\u001b[1;31mElementClickInterceptedException\u001b[0m          Traceback (most recent call last)",
      "Cell \u001b[1;32mIn[7], line 93\u001b[0m\n\u001b[0;32m     91\u001b[0m page_xpath \u001b[38;5;241m=\u001b[39m \u001b[38;5;124mf\u001b[39m\u001b[38;5;124m'\u001b[39m\u001b[38;5;124m/html/body/div[1]/section/div[2]/div[3]/div[3]/div/div/div/div[1]/div[2]/div[2]/div[4]/div[2]/ul/li[\u001b[39m\u001b[38;5;132;01m{\u001b[39;00mn\u001b[38;5;132;01m}\u001b[39;00m\u001b[38;5;124m]/a\u001b[39m\u001b[38;5;124m'\u001b[39m\n\u001b[0;32m     92\u001b[0m next_page \u001b[38;5;241m=\u001b[39m driver\u001b[38;5;241m.\u001b[39mfind_element(By\u001b[38;5;241m.\u001b[39mXPATH, page_xpath)\n\u001b[1;32m---> 93\u001b[0m next_page\u001b[38;5;241m.\u001b[39mclick()\n\u001b[0;32m     95\u001b[0m \u001b[38;5;66;03m# Get table\u001b[39;00m\n\u001b[0;32m     96\u001b[0m raw_table \u001b[38;5;241m=\u001b[39m driver\u001b[38;5;241m.\u001b[39mfind_element(By\u001b[38;5;241m.\u001b[39mXPATH, \u001b[38;5;124m\"\u001b[39m\u001b[38;5;124m/html/body/div[1]/section/div[2]/div[3]/div[3]/div/div/div/div[1]/div[2]/div[2]/div[2]\u001b[39m\u001b[38;5;124m\"\u001b[39m )\n",
      "File \u001b[1;32m~\\anaconda3\\Lib\\site-packages\\selenium\\webdriver\\remote\\webelement.py:94\u001b[0m, in \u001b[0;36mWebElement.click\u001b[1;34m(self)\u001b[0m\n\u001b[0;32m     92\u001b[0m \u001b[38;5;28;01mdef\u001b[39;00m \u001b[38;5;21mclick\u001b[39m(\u001b[38;5;28mself\u001b[39m) \u001b[38;5;241m-\u001b[39m\u001b[38;5;241m>\u001b[39m \u001b[38;5;28;01mNone\u001b[39;00m:\n\u001b[0;32m     93\u001b[0m \u001b[38;5;250m    \u001b[39m\u001b[38;5;124;03m\"\"\"Clicks the element.\"\"\"\u001b[39;00m\n\u001b[1;32m---> 94\u001b[0m     \u001b[38;5;28mself\u001b[39m\u001b[38;5;241m.\u001b[39m_execute(Command\u001b[38;5;241m.\u001b[39mCLICK_ELEMENT)\n",
      "File \u001b[1;32m~\\anaconda3\\Lib\\site-packages\\selenium\\webdriver\\remote\\webelement.py:395\u001b[0m, in \u001b[0;36mWebElement._execute\u001b[1;34m(self, command, params)\u001b[0m\n\u001b[0;32m    393\u001b[0m     params \u001b[38;5;241m=\u001b[39m {}\n\u001b[0;32m    394\u001b[0m params[\u001b[38;5;124m\"\u001b[39m\u001b[38;5;124mid\u001b[39m\u001b[38;5;124m\"\u001b[39m] \u001b[38;5;241m=\u001b[39m \u001b[38;5;28mself\u001b[39m\u001b[38;5;241m.\u001b[39m_id\n\u001b[1;32m--> 395\u001b[0m \u001b[38;5;28;01mreturn\u001b[39;00m \u001b[38;5;28mself\u001b[39m\u001b[38;5;241m.\u001b[39m_parent\u001b[38;5;241m.\u001b[39mexecute(command, params)\n",
      "File \u001b[1;32m~\\anaconda3\\Lib\\site-packages\\selenium\\webdriver\\remote\\webdriver.py:348\u001b[0m, in \u001b[0;36mWebDriver.execute\u001b[1;34m(self, driver_command, params)\u001b[0m\n\u001b[0;32m    346\u001b[0m response \u001b[38;5;241m=\u001b[39m \u001b[38;5;28mself\u001b[39m\u001b[38;5;241m.\u001b[39mcommand_executor\u001b[38;5;241m.\u001b[39mexecute(driver_command, params)\n\u001b[0;32m    347\u001b[0m \u001b[38;5;28;01mif\u001b[39;00m response:\n\u001b[1;32m--> 348\u001b[0m     \u001b[38;5;28mself\u001b[39m\u001b[38;5;241m.\u001b[39merror_handler\u001b[38;5;241m.\u001b[39mcheck_response(response)\n\u001b[0;32m    349\u001b[0m     response[\u001b[38;5;124m\"\u001b[39m\u001b[38;5;124mvalue\u001b[39m\u001b[38;5;124m\"\u001b[39m] \u001b[38;5;241m=\u001b[39m \u001b[38;5;28mself\u001b[39m\u001b[38;5;241m.\u001b[39m_unwrap_value(response\u001b[38;5;241m.\u001b[39mget(\u001b[38;5;124m\"\u001b[39m\u001b[38;5;124mvalue\u001b[39m\u001b[38;5;124m\"\u001b[39m, \u001b[38;5;28;01mNone\u001b[39;00m))\n\u001b[0;32m    350\u001b[0m     \u001b[38;5;28;01mreturn\u001b[39;00m response\n",
      "File \u001b[1;32m~\\anaconda3\\Lib\\site-packages\\selenium\\webdriver\\remote\\errorhandler.py:229\u001b[0m, in \u001b[0;36mErrorHandler.check_response\u001b[1;34m(self, response)\u001b[0m\n\u001b[0;32m    227\u001b[0m         alert_text \u001b[38;5;241m=\u001b[39m value[\u001b[38;5;124m\"\u001b[39m\u001b[38;5;124malert\u001b[39m\u001b[38;5;124m\"\u001b[39m]\u001b[38;5;241m.\u001b[39mget(\u001b[38;5;124m\"\u001b[39m\u001b[38;5;124mtext\u001b[39m\u001b[38;5;124m\"\u001b[39m)\n\u001b[0;32m    228\u001b[0m     \u001b[38;5;28;01mraise\u001b[39;00m exception_class(message, screen, stacktrace, alert_text)  \u001b[38;5;66;03m# type: ignore[call-arg]  # mypy is not smart enough here\u001b[39;00m\n\u001b[1;32m--> 229\u001b[0m \u001b[38;5;28;01mraise\u001b[39;00m exception_class(message, screen, stacktrace)\n",
      "\u001b[1;31mElementClickInterceptedException\u001b[0m: Message: element click intercepted: Element <a href=\"javascript:void(0)\">...</a> is not clickable at point (1018, 492). Other element would receive the click: <a href=\"javascript:void(0)\">...</a>\n  (Session info: chrome=120.0.6099.217)\nStacktrace:\n\tGetHandleVerifier [0x00007FF671F42142+3514994]\n\t(No symbol) [0x00007FF671B60CE2]\n\t(No symbol) [0x00007FF671A076AA]\n\t(No symbol) [0x00007FF671A588F3]\n\t(No symbol) [0x00007FF671A568ED]\n\t(No symbol) [0x00007FF671A540EC]\n\t(No symbol) [0x00007FF671A52EA5]\n\t(No symbol) [0x00007FF671A46A0F]\n\t(No symbol) [0x00007FF671A75FEA]\n\t(No symbol) [0x00007FF671A463B6]\n\t(No symbol) [0x00007FF671A76490]\n\t(No symbol) [0x00007FF671A928F6]\n\t(No symbol) [0x00007FF671A75D93]\n\t(No symbol) [0x00007FF671A44BDC]\n\t(No symbol) [0x00007FF671A45C64]\n\tGetHandleVerifier [0x00007FF671F6E16B+3695259]\n\tGetHandleVerifier [0x00007FF671FC6737+4057191]\n\tGetHandleVerifier [0x00007FF671FBE4E3+4023827]\n\tGetHandleVerifier [0x00007FF671C904F9+689705]\n\t(No symbol) [0x00007FF671B6C048]\n\t(No symbol) [0x00007FF671B68044]\n\t(No symbol) [0x00007FF671B681C9]\n\t(No symbol) [0x00007FF671B588C4]\n\tBaseThreadInitThunk [0x00007FFBB6E57344+20]\n\tRtlUserThreadStart [0x00007FFBB78E26B1+33]\n"
     ]
    }
   ],
   "source": [
    "#Run packages\n",
    "\n",
    "# Create a dataframe to collect the results (out of the for loop)\n",
    "results = pd.DataFrame()\n",
    "\n",
    "#################################\n",
    "# loop starts here\n",
    "#################################\n",
    "\n",
    "# Open driver\n",
    "\n",
    "service = Service(executable_path=\"../chromedriver-win64/chromedriver.exe\")\n",
    "options = webdriver.ChromeOptions()\n",
    "driver = webdriver.Chrome(service=service, options=options)\n",
    "\n",
    "# Enter in the website\n",
    "url = 'https://infogob.jne.gob.pe/Eleccion'\n",
    "driver.get(url)\n",
    "time.sleep(5) #this line guarantees that the code will 'wait' in the website for 5 seconds\n",
    "\n",
    "\n",
    "# First loop, to select all election rounds\n",
    "for periodo in range(26, 1, -1):\n",
    "\n",
    "    # Open first selection box **(relevant in the for loop)**\n",
    "    proceso = driver.find_element(By.XPATH, '/html/body/div[1]/section/div[2]/div[2]/div[2]/div[1]/div')\n",
    "    proceso.click()\n",
    "    time.sleep(1)\n",
    "\n",
    "    # Select \"PROCESO PRESIDENCIAL\"\n",
    "    presidencial = driver.find_element(By.XPATH, '/html/body/div[1]/section/div[2]/div[2]/div[2]/div[1]/div/div[2]/div[2]')\n",
    "    presidencial.click()\n",
    "    time.sleep(1)\n",
    "\n",
    "    # Open second box\n",
    "    eleccion = driver.find_element(By.XPATH, '/html/body/div[1]/section/div[2]/div[2]/div[2]/div[2]/div')\n",
    "    eleccion.click()\n",
    "    time.sleep(1)\n",
    "    \n",
    "    # select every round\n",
    "    periodo_xpath = f'/html/body/div[1]/section/div[2]/div[2]/div[2]/div[2]/div/div[2]/div[{periodo}]'\n",
    "    periodo_element = driver.find_element(By.XPATH, periodo_xpath)\n",
    "    periodo_element.click()\n",
    "\n",
    "    # get text\n",
    "    elecciones_name = periodo_element.text\n",
    "    time.sleep(1)\n",
    "\n",
    "    # Click in search box\n",
    "    buscar = driver.find_element(By.XPATH, '/html/body/div[1]/section/div[2]/div[2]/div[3]/div/button')\n",
    "    buscar.click()\n",
    "    time.sleep(3)\n",
    "\n",
    "    # Click \"Resultados\"\n",
    "    resultados = driver.find_element(By.XPATH, '/html/body/div[1]/section/div[2]/div[3]/div[1]/ul/li[2]/a')\n",
    "    resultados.click()\n",
    "    time.sleep(3)\n",
    "\n",
    "    # Get table\n",
    "    raw_table = driver.find_element(By.XPATH, \"/html/body/div[1]/section/div[2]/div[3]/div[3]/div/div/div/div[1]/div[2]/div[2]/div[2]\" )\n",
    "    raw_table_html = raw_table.get_attribute( 'innerHTML' )\n",
    "\n",
    "    # Organize the table\n",
    "    tabla = pd.read_html(raw_table_html)[0]\n",
    "    tabla_final = tabla[['ORGANIZACIÓN POLÍTICA', 'TOTAL VOTOS']]  #keep the most important columns\n",
    "    tabla_final.insert(0,'Elecciones', elecciones_name)            #insert the name of round of election in the fisrt column\n",
    "\n",
    "    # Append the table in the results dataframe **(relevant in the for loop)**\n",
    "    results = pd.concat([results, tabla_final], ignore_index=True)\n",
    "    \n",
    "    #Second loop to check extra pages in the html source text\n",
    "    html_source = driver.page_source\n",
    "    #reset number of pages counter\n",
    "    pages=0\n",
    "\n",
    "    if '<a href=\"javascript:void(0)\">5</a>' in html_source:\n",
    "        pages=5\n",
    "    elif '<a href=\"javascript:void(0)\">4</a>' in html_source:\n",
    "        pages=4\n",
    "    elif '<a href=\"javascript:void(0)\">3</a>' in html_source:\n",
    "        pages=3\n",
    "    elif '<a href=\"javascript:void(0)\">2</a>' in html_source:\n",
    "        pages=2\n",
    "    else:\n",
    "        pass\n",
    "\n",
    "    # Third loop to get the next pages if they exists\n",
    "    if pages>1:\n",
    "        a = range(3, pages+2, 1)\n",
    "        for n in a:\n",
    "            page_xpath = f'/html/body/div[1]/section/div[2]/div[3]/div[3]/div/div/div/div[1]/div[2]/div[2]/div[4]/div[2]/ul/li[{n}]/a'\n",
    "            next_page = driver.find_element(By.XPATH, page_xpath)\n",
    "            next_page.click()\n",
    "\n",
    "            # Get table\n",
    "            raw_table = driver.find_element(By.XPATH, \"/html/body/div[1]/section/div[2]/div[3]/div[3]/div/div/div/div[1]/div[2]/div[2]/div[2]\" )\n",
    "            raw_table_html = raw_table.get_attribute( 'innerHTML' )\n",
    "\n",
    "            # Organize the table\n",
    "            tabla = pd.read_html(raw_table_html)[0]\n",
    "            tabla_final = tabla[['ORGANIZACIÓN POLÍTICA', 'TOTAL VOTOS']]  #keep the most important columns\n",
    "            tabla_final.insert(0,'Elecciones', elecciones_name)            #insert the name of round of election in the fisrt column\n",
    "\n",
    "            # Append the table in the results dataframe **(relevant in the for loop)**\n",
    "            results = pd.concat([results, tabla_final], ignore_index=True)\n",
    "\n",
    "    else:\n",
    "        pass\n",
    "\n",
    "    # We go back to search for the remaining tables\n",
    "    back = driver.find_element(By.XPATH , '/html/body/div[1]/section/div[1]/a[2]')\n",
    "    back.click()\n"
   ]
  },
  {
   "cell_type": "code",
   "execution_count": 8,
   "metadata": {},
   "outputs": [
    {
     "data": {
      "text/html": [
       "<div>\n",
       "<style scoped>\n",
       "    .dataframe tbody tr th:only-of-type {\n",
       "        vertical-align: middle;\n",
       "    }\n",
       "\n",
       "    .dataframe tbody tr th {\n",
       "        vertical-align: top;\n",
       "    }\n",
       "\n",
       "    .dataframe thead th {\n",
       "        text-align: right;\n",
       "    }\n",
       "</style>\n",
       "<table border=\"1\" class=\"dataframe\">\n",
       "  <thead>\n",
       "    <tr style=\"text-align: right;\">\n",
       "      <th></th>\n",
       "      <th>Elecciones</th>\n",
       "      <th>ORGANIZACIÓN POLÍTICA</th>\n",
       "      <th>TOTAL VOTOS</th>\n",
       "    </tr>\n",
       "  </thead>\n",
       "  <tbody>\n",
       "    <tr>\n",
       "      <th>0</th>\n",
       "      <td>PRESIDENCIAL 1931</td>\n",
       "      <td>UNION REVOLUCIONARIA</td>\n",
       "      <td>152149</td>\n",
       "    </tr>\n",
       "    <tr>\n",
       "      <th>1</th>\n",
       "      <td>PRESIDENCIAL 1931</td>\n",
       "      <td>PARTIDO APRISTA PERUANO</td>\n",
       "      <td>106088</td>\n",
       "    </tr>\n",
       "    <tr>\n",
       "      <th>2</th>\n",
       "      <td>PRESIDENCIAL 1931</td>\n",
       "      <td>PARTIDO DESCENTRALISTA</td>\n",
       "      <td>21950</td>\n",
       "    </tr>\n",
       "    <tr>\n",
       "      <th>3</th>\n",
       "      <td>PRESIDENCIAL 1931</td>\n",
       "      <td>PARTIDO COALICION NACIONAL</td>\n",
       "      <td>19640</td>\n",
       "    </tr>\n",
       "    <tr>\n",
       "      <th>4</th>\n",
       "      <td>PRESIDENCIAL 1936</td>\n",
       "      <td>PARTIDO SOCIAL DEMOCRATA</td>\n",
       "      <td>77042</td>\n",
       "    </tr>\n",
       "    <tr>\n",
       "      <th>...</th>\n",
       "      <td>...</td>\n",
       "      <td>...</td>\n",
       "      <td>...</td>\n",
       "    </tr>\n",
       "    <tr>\n",
       "      <th>132</th>\n",
       "      <td>PRESIDENCIAL 2006</td>\n",
       "      <td>PROGRESEMOS PERU</td>\n",
       "      <td>13965</td>\n",
       "    </tr>\n",
       "    <tr>\n",
       "      <th>133</th>\n",
       "      <td>PRESIDENCIAL 2006</td>\n",
       "      <td>PARTIDO RECONSTRUCCION DEMOCRATICA</td>\n",
       "      <td>11925</td>\n",
       "    </tr>\n",
       "    <tr>\n",
       "      <th>134</th>\n",
       "      <td>PRESIDENCIAL 2006</td>\n",
       "      <td>RESURGIMIENTO PERUANO</td>\n",
       "      <td>10857</td>\n",
       "    </tr>\n",
       "    <tr>\n",
       "      <th>135</th>\n",
       "      <td>PRESIDENCIAL 2006</td>\n",
       "      <td>Y SE LLAMA PERU</td>\n",
       "      <td>10539</td>\n",
       "    </tr>\n",
       "    <tr>\n",
       "      <th>136</th>\n",
       "      <td>PRESIDENCIAL 2006</td>\n",
       "      <td>PERU AHORA</td>\n",
       "      <td>8410</td>\n",
       "    </tr>\n",
       "  </tbody>\n",
       "</table>\n",
       "<p>137 rows × 3 columns</p>\n",
       "</div>"
      ],
      "text/plain": [
       "            Elecciones               ORGANIZACIÓN POLÍTICA  TOTAL VOTOS\n",
       "0    PRESIDENCIAL 1931                UNION REVOLUCIONARIA       152149\n",
       "1    PRESIDENCIAL 1931             PARTIDO APRISTA PERUANO       106088\n",
       "2    PRESIDENCIAL 1931              PARTIDO DESCENTRALISTA        21950\n",
       "3    PRESIDENCIAL 1931          PARTIDO COALICION NACIONAL        19640\n",
       "4    PRESIDENCIAL 1936            PARTIDO SOCIAL DEMOCRATA        77042\n",
       "..                 ...                                 ...          ...\n",
       "132  PRESIDENCIAL 2006                    PROGRESEMOS PERU        13965\n",
       "133  PRESIDENCIAL 2006  PARTIDO RECONSTRUCCION DEMOCRATICA        11925\n",
       "134  PRESIDENCIAL 2006               RESURGIMIENTO PERUANO        10857\n",
       "135  PRESIDENCIAL 2006                     Y SE LLAMA PERU        10539\n",
       "136  PRESIDENCIAL 2006                          PERU AHORA         8410\n",
       "\n",
       "[137 rows x 3 columns]"
      ]
     },
     "execution_count": 8,
     "metadata": {},
     "output_type": "execute_result"
    }
   ],
   "source": [
    "# Quit the driver\n",
    "driver.close()\n",
    "\n",
    "#See results\n",
    "results"
   ]
  },
  {
   "cell_type": "code",
   "execution_count": 9,
   "metadata": {},
   "outputs": [],
   "source": [
    "# After finishing the loop, export the result table as an Excel file\n",
    "\n",
    "results.to_excel('Results_group3.xlsx', index=False)"
   ]
  }
 ],
 "metadata": {
  "hide_input": false,
  "kernelspec": {
   "display_name": "Python 3 (ipykernel)",
   "language": "python",
   "name": "python3"
  },
  "language_info": {
   "codemirror_mode": {
    "name": "ipython",
    "version": 3
   },
   "file_extension": ".py",
   "mimetype": "text/x-python",
   "name": "python",
   "nbconvert_exporter": "python",
   "pygments_lexer": "ipython3",
   "version": "3.11.5"
  },
  "toc": {
   "base_numbering": 1,
   "nav_menu": {},
   "number_sections": true,
   "sideBar": true,
   "skip_h1_title": false,
   "title_cell": "Table of Contents",
   "title_sidebar": "Contents",
   "toc_cell": false,
   "toc_position": {},
   "toc_section_display": true,
   "toc_window_display": false
  }
 },
 "nbformat": 4,
 "nbformat_minor": 4
}
