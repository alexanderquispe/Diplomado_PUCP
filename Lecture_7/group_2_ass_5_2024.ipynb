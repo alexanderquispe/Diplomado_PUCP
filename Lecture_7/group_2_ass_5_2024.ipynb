{
 "cells": [
  {
   "cell_type": "markdown",
   "metadata": {},
   "source": [
    "# Assignment 5\n",
    "The script should not give an error. Any mistake will be consider as 0.\n"
   ]
  },
  {
   "cell_type": "markdown",
   "metadata": {},
   "source": [
    "### 5.1 Installing packages:"
   ]
  },
  {
   "cell_type": "code",
   "execution_count": 1,
   "metadata": {},
   "outputs": [
    {
     "name": "stdout",
     "output_type": "stream",
     "text": [
      "Requirement already satisfied: selenium in d:\\users\\yanell.huaman\\anaconda3\\lib\\site-packages (4.4.3)\n",
      "Requirement already satisfied: urllib3[socks]~=1.26 in d:\\users\\yanell.huaman\\anaconda3\\lib\\site-packages (from selenium) (1.26.9)\n",
      "Requirement already satisfied: trio~=0.17 in d:\\users\\yanell.huaman\\anaconda3\\lib\\site-packages (from selenium) (0.21.0)\n",
      "Requirement already satisfied: trio-websocket~=0.9 in d:\\users\\yanell.huaman\\anaconda3\\lib\\site-packages (from selenium) (0.9.2)\n",
      "Requirement already satisfied: certifi>=2021.10.8 in d:\\users\\yanell.huaman\\anaconda3\\lib\\site-packages (from selenium) (2021.10.8)\n",
      "Requirement already satisfied: sniffio in d:\\users\\yanell.huaman\\anaconda3\\lib\\site-packages (from trio~=0.17->selenium) (1.2.0)\n",
      "Requirement already satisfied: attrs>=19.2.0 in d:\\users\\yanell.huaman\\anaconda3\\lib\\site-packages (from trio~=0.17->selenium) (21.4.0)\n",
      "Requirement already satisfied: cffi>=1.14 in d:\\users\\yanell.huaman\\anaconda3\\lib\\site-packages (from trio~=0.17->selenium) (1.15.0)\n",
      "Requirement already satisfied: outcome in d:\\users\\yanell.huaman\\anaconda3\\lib\\site-packages (from trio~=0.17->selenium) (1.2.0)\n",
      "Requirement already satisfied: sortedcontainers in d:\\users\\yanell.huaman\\anaconda3\\lib\\site-packages (from trio~=0.17->selenium) (2.4.0)\n",
      "Requirement already satisfied: async-generator>=1.9 in d:\\users\\yanell.huaman\\anaconda3\\lib\\site-packages (from trio~=0.17->selenium) (1.10)\n",
      "Requirement already satisfied: idna in d:\\users\\yanell.huaman\\anaconda3\\lib\\site-packages (from trio~=0.17->selenium) (3.3)\n",
      "Requirement already satisfied: pycparser in d:\\users\\yanell.huaman\\anaconda3\\lib\\site-packages (from cffi>=1.14->trio~=0.17->selenium) (2.21)\n",
      "Requirement already satisfied: wsproto>=0.14 in d:\\users\\yanell.huaman\\anaconda3\\lib\\site-packages (from trio-websocket~=0.9->selenium) (1.2.0)\n",
      "Requirement already satisfied: PySocks!=1.5.7,<2.0,>=1.5.6 in d:\\users\\yanell.huaman\\anaconda3\\lib\\site-packages (from urllib3[socks]~=1.26->selenium) (1.7.1)\n",
      "Requirement already satisfied: h11<1,>=0.9.0 in d:\\users\\yanell.huaman\\anaconda3\\lib\\site-packages (from wsproto>=0.14->trio-websocket~=0.9->selenium) (0.13.0)\n",
      "Requirement already satisfied: webdriver-manager in d:\\users\\yanell.huaman\\anaconda3\\lib\\site-packages (3.8.3)\n",
      "Requirement already satisfied: python-dotenv in d:\\users\\yanell.huaman\\anaconda3\\lib\\site-packages (from webdriver-manager) (0.21.0)\n",
      "Requirement already satisfied: requests in d:\\users\\yanell.huaman\\anaconda3\\lib\\site-packages (from webdriver-manager) (2.27.1)\n",
      "Requirement already satisfied: tqdm in d:\\users\\yanell.huaman\\anaconda3\\lib\\site-packages (from webdriver-manager) (4.64.0)\n",
      "Requirement already satisfied: certifi>=2017.4.17 in d:\\users\\yanell.huaman\\anaconda3\\lib\\site-packages (from requests->webdriver-manager) (2021.10.8)\n",
      "Requirement already satisfied: idna<4,>=2.5 in d:\\users\\yanell.huaman\\anaconda3\\lib\\site-packages (from requests->webdriver-manager) (3.3)\n",
      "Requirement already satisfied: urllib3<1.27,>=1.21.1 in d:\\users\\yanell.huaman\\anaconda3\\lib\\site-packages (from requests->webdriver-manager) (1.26.9)\n",
      "Requirement already satisfied: charset-normalizer~=2.0.0 in d:\\users\\yanell.huaman\\anaconda3\\lib\\site-packages (from requests->webdriver-manager) (2.0.4)\n",
      "Requirement already satisfied: colorama in d:\\users\\yanell.huaman\\anaconda3\\lib\\site-packages (from tqdm->webdriver-manager) (0.4.4)\n",
      "Requirement already satisfied: html5lib in d:\\users\\yanell.huaman\\anaconda3\\lib\\site-packages (1.1)\n",
      "Requirement already satisfied: webencodings in d:\\users\\yanell.huaman\\anaconda3\\lib\\site-packages (from html5lib) (0.5.1)\n",
      "Requirement already satisfied: six>=1.9 in d:\\users\\yanell.huaman\\anaconda3\\lib\\site-packages (from html5lib) (1.16.0)\n"
     ]
    }
   ],
   "source": [
    "!pip install selenium \n",
    "# this library is to manipulate browser:\n",
    "!pip install webdriver-manager\n",
    "!pip install html5lib"
   ]
  },
  {
   "cell_type": "code",
   "execution_count": 2,
   "metadata": {},
   "outputs": [
    {
     "data": {
      "text/html": [
       "\n",
       "<style>\n",
       "    div#notebook-container    { width: 95%; }\n",
       "    div#menubar-container     { width: 65%; }\n",
       "    div#maintoolbar-container { width: 99%; }a\n",
       "</style>\n"
      ],
      "text/plain": [
       "<IPython.core.display.HTML object>"
      ]
     },
     "metadata": {},
     "output_type": "display_data"
    }
   ],
   "source": [
    "#To control the layout and width within Notebook:\n",
    "from IPython.display import display, HTML\n",
    "\n",
    "display(HTML(data=\"\"\"\n",
    "<style>\n",
    "    div#notebook-container    { width: 95%; }\n",
    "    div#menubar-container     { width: 65%; }\n",
    "    div#maintoolbar-container { width: 99%; }a\n",
    "</style>\n",
    "\"\"\"))"
   ]
  },
  {
   "cell_type": "code",
   "execution_count": 3,
   "metadata": {},
   "outputs": [],
   "source": [
    "# Import necessary modules from Selenium:\n",
    "from selenium import webdriver\n",
    "from selenium.webdriver.chrome.service import Service #To configure the WebDriver service:\n",
    "from selenium.webdriver.common.by import By #Provides methods for locating elements:\n",
    "from selenium.webdriver.support.ui import Select #for interacting with dropdowns\n",
    "from selenium.webdriver.common.action_chains import ActionChains\n",
    "from selenium.webdriver.common.keys import Keys\n",
    "from selenium.webdriver.support.ui import WebDriverWait\n",
    "from selenium.webdriver.support import expected_conditions as EC\n",
    "import pandas as pd \n",
    "import numpy as np\n",
    "import os\n",
    "import time\n",
    "import re\n",
    "import unidecode\n",
    "import time "
   ]
  },
  {
   "cell_type": "markdown",
   "metadata": {},
   "source": [
    "### 5.2  Initialize the Chrome driver"
   ]
  },
  {
   "cell_type": "markdown",
   "metadata": {},
   "source": [
    "#### Function to select a specific type of electoral process "
   ]
  },
  {
   "cell_type": "markdown",
   "metadata": {},
   "source": [
    "Using a function to set up the Chrome WebDriver provides a modular and reusable way to configure and initialize your WebDriver instances"
   ]
  },
  {
   "cell_type": "code",
   "execution_count": 4,
   "metadata": {},
   "outputs": [],
   "source": [
    "def setup_driver():\n",
    "    #First, set the path to the ChromeDriver executable\n",
    "    service = Service(executable_path='chromedriver-win64/chromedriver.exe')\n",
    "    # Configure options for the Chrome browser\n",
    "    options = webdriver.ChromeOptions()\n",
    "    # Initialize the Chrome WebDriver with the specified service and options\n",
    "    driver = webdriver.Chrome(service=service, options=options)\n",
    "    # Maximize the browser window\n",
    "    driver.maximize_window()\n",
    "    # Return the configured WebDriver instance\n",
    "    return driver"
   ]
  },
  {
   "cell_type": "markdown",
   "metadata": {},
   "source": [
    "### 5.3 Navigating the page: Election"
   ]
  },
  {
   "cell_type": "markdown",
   "metadata": {},
   "source": [
    "#### Function to navigate to a given URL"
   ]
  },
  {
   "cell_type": "markdown",
   "metadata": {},
   "source": [
    "This function provides a clean interface for the main script or other functions to use."
   ]
  },
  {
   "cell_type": "code",
   "execution_count": 5,
   "metadata": {},
   "outputs": [],
   "source": [
    "def go_to_url(driver, url):\n",
    "    # Navigate the WebDriver to the specified URL\n",
    "    driver.get(url)"
   ]
  },
  {
   "cell_type": "markdown",
   "metadata": {},
   "source": [
    "### 5.4 Construction of the loop and export of information in an Excel file\"Elecciones_resultados\""
   ]
  },
  {
   "cell_type": "markdown",
   "metadata": {},
   "source": [
    "#### Function to select a specific type of electoral process"
   ]
  },
  {
   "cell_type": "code",
   "execution_count": 6,
   "metadata": {},
   "outputs": [],
   "source": [
    "def select_process_type(driver, tipo_proceso_xpath, tipo_xpath):\n",
    "    # Click on the element specified by tipo_proceso_xpath to open the process type dropdown\n",
    "    driver.find_element(By.XPATH, tipo_proceso_xpath).click()\n",
    "    \n",
    "    # Pause for 2 seconds to allow the dropdown to appear\n",
    "    time.sleep(2)\n",
    "    \n",
    "    # Click on the element specified by tipo_xpath to select the desired process type\n",
    "    driver.find_element(By.XPATH, tipo_xpath).click()\n",
    "    # Pause for 2 seconds to ensure the selection is registered\n",
    "    time.sleep(2)"
   ]
  },
  {
   "cell_type": "markdown",
   "metadata": {},
   "source": [
    "#### Function to choose the presidential electoral process"
   ]
  },
  {
   "cell_type": "code",
   "execution_count": 7,
   "metadata": {},
   "outputs": [],
   "source": [
    "def choose_presidential_process(driver, eleccion_tipo_xpath):\n",
    "    # Click on the element specified by eleccion_tipo_xpath to choose the presidential process\n",
    "    driver.find_element(By.XPATH, eleccion_tipo_xpath).click()\n",
    "    # Pause for 2 seconds to allow for the selection to be processed\n",
    "    time.sleep(2)"
   ]
  },
  {
   "cell_type": "markdown",
   "metadata": {},
   "source": [
    "#### Function to get the options for the electoral process"
   ]
  },
  {
   "cell_type": "code",
   "execution_count": 8,
   "metadata": {},
   "outputs": [],
   "source": [
    "def get_process_options(driver, elecciones_xpath):\n",
    "    # Find the dropdown element using the specified XPath, then create a Select object to interact with the dropdown and finally return the options of the dropdown\n",
    "    return Select(driver.find_element(By.XPATH, elecciones_xpath)).options"
   ]
  },
  {
   "cell_type": "markdown",
   "metadata": {},
   "source": [
    "#### Function to restart the electoral process\n",
    "In this code, the 'driver.get(url)' function navigates WebDriver to a specific URL. After this, 'time.sleep(2)' introduces a 2 second pause to allow the page to fully load. Subsequently, two functions, 'select_process_type' and 'Choose_presidential_process', are called with the parameters WebDriver and XPath, interacting with specific elements of the web page to choose the type of electoral process and presidential process, respectively. Another 'time.sleep(2)' follows each function call to allow the page to respond to the selections made."
   ]
  },
  {
   "cell_type": "code",
   "execution_count": 9,
   "metadata": {},
   "outputs": [],
   "source": [
    "def restart_process(driver, url, tipo_proceso_xpath, tipo_xpath, eleccion_tipo_xpath):\n",
    "    # Load the initial URL to restart the electoral process\n",
    "    driver.get(url)\n",
    "    # Pause script execution for 2 seconds to ensure the page loads before proceeding\n",
    "    time.sleep(2)\n",
    "    # Call the 'select_process_type' function to choose the type of electoral process\n",
    "    select_process_type(driver, tipo_proceso_xpath, tipo_xpath)\n",
    "    # Call the 'choose_presidential_process' function to choose the presidential process\n",
    "    choose_presidential_process(driver, eleccion_tipo_xpath)\n",
    "    time.sleep(2)"
   ]
  },
  {
   "cell_type": "markdown",
   "metadata": {},
   "source": [
    "#### Function to access a specific electoral process\n",
    "In this code, the 'access_electoral_process' function uses the WebDriver to access an election process on a web page. Uses the 'WebDriverWait' library to wait until an element identified by the provided XPath (xpath_election) is visible on the page. Once visible, click on said element using 'driver.find_element(By.XPATH, eleccion_xpath).click()'. Then, introduce a 2-second pause '(time.sleep(2))' to allow the page to respond to the action taken."
   ]
  },
  {
   "cell_type": "code",
   "execution_count": 10,
   "metadata": {},
   "outputs": [],
   "source": [
    "def access_electoral_process(driver, eleccion_xpath):\n",
    "    # Wait for up to 10 seconds until the specified element (identified by XPath) is visible on the page\n",
    "    # This ensures that the page has loaded and the element is ready for interaction\n",
    "    WebDriverWait(driver, 10).until(EC.visibility_of_element_located((By.XPATH, eleccion_xpath)))\n",
    "    # Once the element is visible, locate it using the provided XPath and simulate a click action\n",
    "    driver.find_element(By.XPATH, eleccion_xpath).click()\n",
    "    # Pause script execution for 2 seconds after clicking to allow the page to respond or load additional content\n",
    "    time.sleep(2)"
   ]
  },
  {
   "cell_type": "markdown",
   "metadata": {},
   "source": [
    "#### Function to go to data section\n",
    "The 'go_to_data_section' function navigates to a specific section on a webpage. It utilizes the Selenium WebDriver to locate an HTML element using the provided XPath (ver_datos_xpath). Once the element is located, the function clicks on it, simulating a user interaction. The subsequent 'time.sleep(2)' introduces a brief pause, allowing the page to respond or load content, providing stability to the script. "
   ]
  },
  {
   "cell_type": "code",
   "execution_count": 11,
   "metadata": {},
   "outputs": [],
   "source": [
    "def go_to_data_section(driver, ver_datos_xpath):\n",
    "    # Locate the HTML element using the provided XPath that represents the 'VER DATOS' button or section\n",
    "    # and simulate a click action to navigate to the data section\n",
    "    driver.find_element(By.XPATH, ver_datos_xpath).click()\n",
    "    # Pause script execution for 2 seconds after clicking to allow the page to respond or load additional content\n",
    "    time.sleep(2)"
   ]
  },
  {
   "cell_type": "markdown",
   "metadata": {},
   "source": [
    "#### Function to navigate to the 'CANDIDATOS Y RESULTADOS' section\n",
    "The 'go_to_candidates_results' function is designed to facilitate navigation to a specific section on a webpage. Leveraging the Selenium WebDriver, it locates an HTML element identified by the provided XPath (candidatos_resultados_xpath). Subsequently, the function simulates a user click on this element, triggering an action, such as opening a submenu or navigating to a new page. The subsequent 'time.sleep(2)' introduces a short delay, allowing the page to respond or load content."
   ]
  },
  {
   "cell_type": "code",
   "execution_count": 12,
   "metadata": {},
   "outputs": [],
   "source": [
    "def go_to_candidates_results(driver, candidatos_resultados_xpath):\n",
    "    # Locate the HTML element using the provided XPath that represents the button or section related to candidates results\n",
    "    # and simulate a click action to navigate to the candidates results section\n",
    "    driver.find_element(By.XPATH, candidatos_resultados_xpath).click()\n",
    "    # Pause script execution for 2 seconds after clicking to allow the page to respond or load additional content\n",
    "    time.sleep(2)"
   ]
  },
  {
   "cell_type": "markdown",
   "metadata": {},
   "source": [
    "#### Function to extract data from the table on the webpage\n",
    "The 'extract_data_from_table' function is responsible for retrieving tabular data from a specified section of a webpage. It uses the Selenium WebDriver to locate an HTML element identified by the provided XPath (tabla_resultado_xpath). Once the element is located, the function captures its inner HTML content, and subsequently, the Pandas library's read_html function is employed to parse this HTML and extract tabular data. The function returns a Pandas DataFrame containing the extracted data, providing a convenient way to work with structured information from the webpage"
   ]
  },
  {
   "cell_type": "code",
   "execution_count": 13,
   "metadata": {},
   "outputs": [],
   "source": [
    "def extract_data_from_table(driver, tabla_resultado_xpath):\n",
    "    # Obtain the table element using the provided XPath and the Selenium WebDriver instance\n",
    "    # Extract the inner HTML content of the table element\n",
    "    tabla_resultado = driver.find_element(By.XPATH, tabla_resultado_xpath)\n",
    "    return pd.read_html(tabla_resultado.get_attribute('innerHTML'))[0]"
   ]
  },
  {
   "cell_type": "markdown",
   "metadata": {},
   "source": [
    "#### Main function to run the entire process\n",
    "The main function orchestrates a series of actions using Selenium and Pandas to extract and organize electoral process data from the specified webpage. Here's a breakdown of the steps:"
   ]
  },
  {
   "cell_type": "code",
   "execution_count": 14,
   "metadata": {},
   "outputs": [
    {
     "name": "stdout",
     "output_type": "stream",
     "text": [
      "PRESIDENCIAL 2021 - 2DA VUELTA\n",
      "PRESIDENCIAL 2021\n",
      "PRESIDENCIAL 2016 - 2DA VUELTA\n",
      "PRESIDENCIAL 2016\n",
      "PRESIDENCIAL 2011 - 2DA VUELTA\n",
      "PRESIDENCIAL 2011\n",
      "PRESIDENCIAL 2006 - 2DA VUELTA\n",
      "PRESIDENCIAL 2006\n",
      "PRESIDENCIAL 2001 - 2DA VUELTA\n",
      "PRESIDENCIAL 2001\n",
      "PRESIDENCIAL 2000 - 2DA VUELTA\n",
      "PRESIDENCIAL 2000\n",
      "PRESIDENCIAL 1995\n",
      "PRESIDENCIAL 1990 - 2DA VUELTA\n",
      "PRESIDENCIAL 1990\n",
      "PRESIDENCIAL 1985\n",
      "PRESIDENCIAL 1980\n",
      "PRESIDENCIAL 1963\n",
      "PRESIDENCIAL 1962\n",
      "PRESIDENCIAL 1956\n",
      "PRESIDENCIAL 1950\n",
      "PRESIDENCIAL 1945\n",
      "PRESIDENCIAL 1939\n",
      "PRESIDENCIAL 1936\n",
      "PRESIDENCIAL 1931\n",
      "                         Elecciones                 ORGANIZACIÓN POLÍTICA  \\\n",
      "0    PRESIDENCIAL 2021 - 2DA VUELTA  PARTIDO POLITICO NACIONAL PERU LIBRE   \n",
      "1    PRESIDENCIAL 2021 - 2DA VUELTA                        FUERZA POPULAR   \n",
      "2    PRESIDENCIAL 2021 - 2DA VUELTA                       VOTOS EN BLANCO   \n",
      "3    PRESIDENCIAL 2021 - 2DA VUELTA                           VOTOS NULOS   \n",
      "4                 PRESIDENCIAL 2021  PARTIDO POLITICO NACIONAL PERU LIBRE   \n",
      "..                              ...                                   ...   \n",
      "152               PRESIDENCIAL 1936                   PARTIDO REPUBLICANO   \n",
      "153               PRESIDENCIAL 1931                  UNION REVOLUCIONARIA   \n",
      "154               PRESIDENCIAL 1931               PARTIDO APRISTA PERUANO   \n",
      "155               PRESIDENCIAL 1931                PARTIDO DESCENTRALISTA   \n",
      "156               PRESIDENCIAL 1931            PARTIDO COALICION NACIONAL   \n",
      "\n",
      "    TOTAL VOTOS  \n",
      "0       8836380  \n",
      "1       8792117  \n",
      "2        121489  \n",
      "3       1106816  \n",
      "4       2724752  \n",
      "..          ...  \n",
      "152       30803  \n",
      "153      152149  \n",
      "154      106088  \n",
      "155       21950  \n",
      "156       19640  \n",
      "\n",
      "[157 rows x 3 columns]\n"
     ]
    }
   ],
   "source": [
    "def main():\n",
    "   # Initialize the Chrome WebDriver using the setup_driver function\n",
    "    driver = setup_driver()\n",
    "    \n",
    "    # Navigate to the main URL of the electoral website\n",
    "    url = 'https://infogob.jne.gob.pe/Eleccion'\n",
    "    go_to_url(driver, url)\n",
    "    \n",
    "    # XPath expressions to locate and select the type of electoral process\n",
    "    tipo_proceso_xpath = '/html/body/div[1]/section/div[2]/div[2]/div[2]/div[1]'\n",
    "    tipo_xpath = '//*[@id=\"section\"]/div[2]/div[2]/div[2]/div[1]/div/div[2]/div[2]'\n",
    "    select_process_type(driver, tipo_proceso_xpath, tipo_xpath)\n",
    "    \n",
    "    # XPath expression to choose the presidential process\n",
    "    eleccion_tipo_xpath = '/html/body/div[1]/section/div[2]/div[2]/div[2]/div[2]'\n",
    "    choose_presidential_process(driver, eleccion_tipo_xpath)\n",
    "\n",
    "    # XPath expression to locate the dropdown containing electoral process options\n",
    "    elecciones_xpath = '//*[@id=\"IdEleccion\"]'\n",
    "\n",
    "    # Retrieve the available electoral process options\n",
    "    procesos = get_process_options(driver, elecciones_xpath)\n",
    "\n",
    "    # Create an empty DataFrame to store the extracted data   \n",
    "    data = pd.DataFrame(columns=['Elecciones', 'ORGANIZACIÓN POLÍTICA', 'TOTAL VOTOS'])\n",
    "\n",
    "    # Loop through each electoral process\n",
    "    for i in range(2, len(procesos) + 1):\n",
    "        \n",
    "        #Restart the electoral process\n",
    "        restart_process(driver, url, tipo_proceso_xpath, tipo_xpath, eleccion_tipo_xpath)\n",
    "    \n",
    "        # XPath expression to locate the electoral process option    \n",
    "        eleccion_xpath = f'/html/body/div[1]/section/div[2]/div[2]/div[2]/div[2]/div/div[2]/div[{i}]'\n",
    "        # Get the name of the electoral process\n",
    "        electoral = driver.find_element(By.XPATH, eleccion_xpath).text\n",
    "        print(electoral)\n",
    "\n",
    "        # Access the details of the electoral process  \n",
    "        access_electoral_process(driver, eleccion_xpath)\n",
    "\n",
    "        # XPath expression to locate the button for viewing data\n",
    "        ver_datos_xpath = '/html/body/div[1]/section/div[2]/div[2]/div[3]/div/button'    \n",
    "        # Navigate to the 'VER DATOS' section\n",
    "        go_to_data_section(driver, ver_datos_xpath)\n",
    "\n",
    "        # XPath expression to locate the menu item for candidates' results \n",
    "        candidatos_resultados_xpath = '//*[@id=\"section\"]/div[2]/div[3]/div[1]/ul/li[2]'\n",
    "        # Navigate to the 'CANDIDATOS Y RESULTADOS' section\n",
    "        go_to_candidates_results(driver, candidatos_resultados_xpath)\n",
    "\n",
    "        # XPath expression to locate the results table\n",
    "        tabla_resultado_xpath = '//*[@id=\"CandidatosResultados\"]/div/div[1]/div[2]/div[2]'\n",
    "        # Extract data from the results table\n",
    "        tabla_electoral = extract_data_from_table(driver, tabla_resultado_xpath)\n",
    "        # Add the name of the electoral process as an identifier\n",
    "        tabla_electoral['Elecciones'] = electoral\n",
    "    \n",
    "        # Append the extracted data to the main DataFrame\n",
    "        data = pd.concat([data, tabla_electoral[['Elecciones', 'ORGANIZACIÓN POLÍTICA', 'TOTAL VOTOS']]], ignore_index=True)\n",
    "    \n",
    "    # Print the final DataFrame containing all extracted data        \n",
    "    print(data)\n",
    "\n",
    "    # Export the resulting DataFrame to an Excel file without index\n",
    "    data.to_excel('Elecciones_1931_to_2021.xlsx', index=False)\n",
    "\n",
    "    # Close the WebDriver \n",
    "    driver.quit()\n",
    "\n",
    "main()"
   ]
  }
 ],
 "metadata": {
  "hide_input": false,
  "kernelspec": {
   "display_name": "Python 3 (ipykernel)",
   "language": "python",
   "name": "python3"
  },
  "language_info": {
   "codemirror_mode": {
    "name": "ipython",
    "version": 3
   },
   "file_extension": ".py",
   "mimetype": "text/x-python",
   "name": "python",
   "nbconvert_exporter": "python",
   "pygments_lexer": "ipython3",
   "version": "3.9.12"
  },
  "toc": {
   "base_numbering": 1,
   "nav_menu": {},
   "number_sections": true,
   "sideBar": true,
   "skip_h1_title": false,
   "title_cell": "Table of Contents",
   "title_sidebar": "Contents",
   "toc_cell": false,
   "toc_position": {},
   "toc_section_display": true,
   "toc_window_display": false
  }
 },
 "nbformat": 4,
 "nbformat_minor": 4
}
