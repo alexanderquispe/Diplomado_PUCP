{
 "cells": [
  {
   "cell_type": "markdown",
   "metadata": {},
   "source": [
    "# 1 Assignment\n",
    "\n",
    "It is totally prohibited to use any kind of loop. You can use stackoverflow. If you copy codes from previous answers, explain each step. No explanation is `0 points`."
   ]
  },
  {
   "cell_type": "markdown",
   "metadata": {},
   "source": [
    "## 1.1 Dictionaries\n",
    "1. Create a dictionary with two keys: `even_numbers` and `odd_numbers`. The first key should have all the even numbers in this range `[0, 2000]`, and the second key must have all the odd numbers in this range `[9000, 19000]`. The values should be stored in a `list`. **Hint: Use the `np.arange`, `zip`, and `np.tolist()` functions.** <br><br>\n",
    "2. Print the value of `brand` key of `car` dictionary. **Hint: Use the `get` method.** <br><br>\n",
    "3. Print all the the values of `brand` key of `car` dictionary. **Hint: Use the `values` method.** <br><br>\n",
    "4. Print the max value  of `friday` in `january` of `hr_sleep` dictionary. **Hint: [Indexing in nested dictioanries](https://stackoverflow.com/questions/25836376/how-to-get-the-inner-indexes-of-a-nested-dictionary-in-python).** <br><br>\n",
    "5. Add `march` key to the `hr_sleep` dictionary using `week1` and `values2` Python lists. **Hint: Use `zip` function adn [this link](https://stackoverflow.com/questions/1024847/how-can-i-add-new-keys-to-a-dictionary).** <br><br>"
   ]
  },
  {
   "cell_type": "code",
   "execution_count": 1,
   "metadata": {},
   "outputs": [],
   "source": [
    "car = {\n",
    "  \"brand\": \"Ford\",\n",
    "  \"model\": \"Mustang\",\n",
    "  \"year\": 1964\n",
    "}\n",
    "\n",
    "hr_sleep = {\"january\": {\"wednesday\": 7,\n",
    "                      \"thursday\": 8,\n",
    "                      \"friday\": [2, 2, 1, 2]},\n",
    "          \"february\": {\"saturday\": 5,\n",
    "                       \"sunday\": 10,\n",
    "                       \"monday\": 8\n",
    "          }\n",
    "}"
   ]
  },
  {
   "cell_type": "code",
   "execution_count": 2,
   "metadata": {},
   "outputs": [],
   "source": [
    "week1 = ['monday', 'sunday']\n",
    "values2 = [ [2, 3, 4 ] , 8, ]"
   ]
  },
  {
   "cell_type": "markdown",
   "metadata": {},
   "source": [
    "## 1.2 Numpy\n",
    "1. Replace all the `even_numbers` in `np1` with 100. **Hint: Use `indexing` in arrys and [this filer](https://stackoverflow.com/questions/41638751/filtering-even-numbers-in-python).** <br><br>\n",
    "2. Create a 3x3 matrix with values ranging from 0 to 8. **Hint: Use `np.arange` and `np.reshape` method.** <br><br>\n",
    "3. Consider an array `Z = [1,2,3,4,5,6,7,8,9,10]`, generate an array `R = [ [ 1, 2, 3, 4], [ 2, 3, 4, 5 ], [ 3, 4, 5, 6 ], ..., [ 7, 8, 9, 10 ] ]`?.**Hint: Use `np.arange` and `np.concatenate`** <br><br>\n",
    "4. Create a 3x3x3 array with random values. **Hint: Use [`np.random.random`](https://docs.scipy.org/doc/numpy-1.15.0/reference/generated/numpy.random.random.html).** <br><br>\n",
    "5. Comment why this expression `np.nan == np.nan` is False. **Hint: Use stackoverflow.** <br><br>\n",
    "6. Print the `mean` and `standard deviation` of `np2`. **Hint: Use `f-string`, `np.mean`, and `np.var` methods.**"
   ]
  },
  {
   "cell_type": "code",
   "execution_count": 4,
   "metadata": {},
   "outputs": [],
   "source": [
    "import numpy as np\n",
    "np1 = np.arange( 200, 750)\n",
    "np2 = np.random.normal( 50 , 4, 300)"
   ]
  },
  {
   "cell_type": "markdown",
   "metadata": {},
   "source": [
    "## Restricted Least Squares\n",
    "\n",
    "Given the following equation:\n",
    "\n",
    "\n",
    "$$\n",
    "\\begin{aligned} \n",
    "lnCT &= \\beta_{0}+\\beta_{q}lnq+ \\frac{1}{2}\\beta_{qq} lnq^2+\\beta_{q1}lnqlnp_1+\\beta_{q2}lnqlnp_2+ \\beta_{q3}lnqlnp_{3} +\\beta_{1}lnp_1+\\beta_{2}lnp_2+ \\beta_{3}lnp_3 \\\\\n",
    "& + \\frac{1}{2}\\beta_{11}ln^{2}p_1+ \\frac{1}{2}\\beta_{22}ln^{2}p_{2}+ \\frac{1}{2}\\beta_{33}ln^{2}p_{3} + \\frac{1}{2}\\beta_{12}lnp_{1}lnp_{2}+ \\frac{1}{2}\\beta_{13}lnp_{1}lnp_{3}+\\frac{1}{2}\\beta_{23}lnp_{2}lnp_{3} \n",
    "\\end{aligned}\n",
    "$$\n",
    "\n",
    "\n",
    "ST: \n",
    "\n",
    "<br>\n",
    "$$\n",
    "\\begin{aligned} \n",
    "\\beta_{1} + \\beta_{2} + \\beta_{3} &= 1 \\\\\n",
    "\\beta_{q1} + \\beta_{q2} + \\beta_{q3} &= 0 \\\\\n",
    "\\beta_{11} + \\beta_{12} + \\beta_{13} &= 0 \\\\\n",
    "\\beta_{21} + \\beta_{22} + \\beta_{23} &= 0 \\\\\n",
    "\\beta_{31} + \\beta_{32} + \\beta_{33} &= 0 \\\\\n",
    "\\beta_{ij} = \\beta_{ji}\n",
    "\\end{aligned}\n",
    "$$"
   ]
  },
  {
   "cell_type": "markdown",
   "metadata": {},
   "source": [
    "\n",
    "1. Get $\\widehat{\\boldsymbol{\\beta}}^{(RLS)}$ vector from the equation bellow. Use the `q`, `p1`, `p2`, `p3`, `CT` numpies. <br><br>\n",
    "2. Get the `covariance matrix` $\\mathbb{V}{\\rm ar} \\left(\\widehat{\\boldsymbol{\\beta}}^{(RLS)} \\right)$. <br><br>\n",
    "**Hint: For more information about Restricted Least Squares [click here](http://web.vu.lt/mif/a.buteikis/wp-content/uploads/PE_Book/4-4-Multiple-RLS.html).**<br>"
   ]
  },
  {
   "cell_type": "code",
   "execution_count": null,
   "metadata": {},
   "outputs": [],
   "source": [
    "import pandas as pd\n",
    "greene = pd.read_csv(r\"../../_data/christensen_greene_f4.csv\")"
   ]
  },
  {
   "cell_type": "code",
   "execution_count": null,
   "metadata": {},
   "outputs": [],
   "source": [
    "ct = greene.COST.values\n",
    "q = greene.Q.values\n",
    "p1 = greene.PL.values\n",
    "p2 = greene.PF.values\n",
    "p3 = greene.PK.values"
   ]
  },
  {
   "cell_type": "markdown",
   "metadata": {},
   "source": [
    "# Pandas"
   ]
  },
  {
   "cell_type": "markdown",
   "metadata": {},
   "source": [
    "Run the code bellow uncomment the second line to install savReaderWriter library. The `dict_varlabels` has the labels of the columns of rec1.\n",
    "\n",
    "1. Check if CASEID identifies each observation uniquely. **[Hint: Use is_unique method.](https://pandas.pydata.org/docs/reference/api/pandas.Series.is_unique.html)**\n",
    "2. Make the CASEID column the index of your data set. **[Hint: Use set_index](https://pandas.pydata.org/docs/reference/api/pandas.DataFrame.set_index.html)**. \n",
    "3. Keep women who are 15-30 years old and live in Urban areas. **[Hint: Use query](https://pandas.pydata.org/docs/reference/api/pandas.DataFrame.query.html)**.\n",
    "4. Generate a new column with the month of born. Just use the first three letters.  Use the English names of the months. "
   ]
  },
  {
   "cell_type": "code",
   "execution_count": null,
   "metadata": {},
   "outputs": [],
   "source": [
    "# read REC0111 data\n",
    "#!pip install savReaderWriter\n",
    "import savReaderWriter as sav\n",
    "rec1 = pd.read_spss( fr\"../../_data/endes/2019/REC0111.sav\" )\n",
    "\n",
    "# Get labels from sav file\n",
    "with sav.SavHeaderReader( fr\"../../_data/endes/2019/REC0111.sav\", ioUtf8=True) as header:\n",
    "    metadata = header.all()\n",
    "\n",
    "dict_varlabels = metadata[3]"
   ]
  },
  {
   "cell_type": "code",
   "execution_count": null,
   "metadata": {},
   "outputs": [],
   "source": [
    "dict_varlabels"
   ]
  }
 ],
 "metadata": {
  "hide_input": false,
  "kernelspec": {
   "display_name": "Python 3",
   "language": "python",
   "name": "python3"
  },
  "language_info": {
   "codemirror_mode": {
    "name": "ipython",
    "version": 3
   },
   "file_extension": ".py",
   "mimetype": "text/x-python",
   "name": "python",
   "nbconvert_exporter": "python",
   "pygments_lexer": "ipython3",
   "version": "3.8.6"
  },
  "toc": {
   "base_numbering": 1,
   "nav_menu": {},
   "number_sections": true,
   "sideBar": true,
   "skip_h1_title": false,
   "title_cell": "Table of Contents",
   "title_sidebar": "Contents",
   "toc_cell": false,
   "toc_position": {},
   "toc_section_display": true,
   "toc_window_display": false
  }
 },
 "nbformat": 4,
 "nbformat_minor": 4
}
