{
 "cells": [
  {
   "cell_type": "markdown",
   "metadata": {},
   "source": [
    "# 1 Assignment\n",
    "\n",
    "It is totally prohibited to use any kind of loop. You can use stackoverflow. If you copy codes from previous answers, explain each step. No explanation is `0 points`."
   ]
  },
  {
   "cell_type": "markdown",
   "metadata": {},
   "source": [
    "## 1.1 Dictionaries\n",
    "1. Create a dictionary with two keys: `even_numbers` and `odd_numbers`. The first key should have all the even numbers in this range `[0, 2000]`, and the second key must have all the odd numbers in this range `[9000, 19000]`. The values should be stored in a `list`. **Hint: Use the `np.arange`, `zip`, and `np.tolist()` functions.** <br><br>\n",
    "2. Print the value of `brand` key of `car` dictionary. **Hint: Use the `get` method.** <br><br>\n",
    "3. Print all the the values of `brand` key of `car` dictionary. **Hint: Use the `values` method.** <br><br>\n",
    "4. Print the max value  of `friday` in `january` of `hr_sleep` dictionary. **Hint: [Indexing in nested dictioanries](https://stackoverflow.com/questions/25836376/how-to-get-the-inner-indexes-of-a-nested-dictionary-in-python).** <br><br>\n",
    "5. Add `march` key to the `hr_sleep` dictionary using `week1` and `values2` Python lists. **Hint: Use `zip` function adn [this link](https://stackoverflow.com/questions/1024847/how-can-i-add-new-keys-to-a-dictionary).** <br><br>"
   ]
  },
  {
   "cell_type": "code",
   "execution_count": 1,
   "metadata": {},
   "outputs": [],
   "source": [
    "car = {\n",
    "  \"brand\": \"Ford\",\n",
    "  \"model\": \"Mustang\",\n",
    "  \"year\": 1964\n",
    "}\n",
    "\n",
    "hr_sleep = {\"january\": {\"wednesday\": 7,\n",
    "                      \"thursday\": 8,\n",
    "                      \"friday\": [2, 2, 1, 2]},\n",
    "          \"february\": {\"saturday\": 5,\n",
    "                       \"sunday\": 10,\n",
    "                       \"monday\": 8\n",
    "          }\n",
    "}"
   ]
  },
  {
   "cell_type": "code",
   "execution_count": 2,
   "metadata": {},
   "outputs": [],
   "source": [
    "week1 = ['monday', 'sunday']\n",
    "values2 = [ [2, 3, 4 ] , 8, ]"
   ]
  },
  {
<<<<<<< HEAD
=======

   "attachments": {},

>>>>>>> e7719a0c9ee4c5db0ccc3f36d6066d95786ec2b3
   "cell_type": "markdown",
   "metadata": {},
   "source": [
    "## 1.2 Numpy\n",
    "1. Replace all the `even_numbers` in `np1` with 100. **Hint: Use `indexing` in arrys and [this filer](https://stackoverflow.com/questions/41638751/filtering-even-numbers-in-python).** <br><br>\n",
    "2. Create a 3x3 matrix with values ranging from 0 to 8. **Hint: Use `np.arange` and `np.reshape` method.** <br><br>\n",
<<<<<<< HEAD
    "3. Consider an array `Z = [1,2,3,4,5,6,7,8,9,10]`, generate an array `R = [ [ 1, 2, 3, 4], [ 2, 3, 4, 5 ], [ 3, 4, 5, 6 ], ..., [ 7, 8, 9, 10 ] ]`?.**Hint: Use `np.arange` and `np.concatenate`** <br><br>\n",
    "4. Create a 3x3x3 array with random values. **Hint: Use [`np.random.random`](https://docs.scipy.org/doc/numpy-1.15.0/reference/generated/numpy.random.random.html).** <br><br>\n",
    "5. Comment why this expression `np.nan == np.nan` is False. **Hint: Use stackoverflow.** <br><br>\n",
    "6. Print the `mean` and `standard deviation` of `np2`. **Hint: Use `f-string`, `np.mean`, and `np.var` methods.**"
=======

    "3. Consider an array `Z = [1,2,3,4,5,6,7,8,9,10]`, generate an array `R = [ [ 1, 2, 3, 4], [ 2, 3, 4, 5 ], [ 3, 4, 5, 6 ], ..., [ 7, 8, 9, 10 ] ]`?.**Hint: Use `np.arange` and `np.concatenate`** <br><br>"

>>>>>>> e7719a0c9ee4c5db0ccc3f36d6066d95786ec2b3
   ]
  },
  {
   "cell_type": "code",
<<<<<<< HEAD
   "execution_count": 3,
=======
   "execution_count": 4,
>>>>>>> e7719a0c9ee4c5db0ccc3f36d6066d95786ec2b3
   "metadata": {},
   "outputs": [],
   "source": [
    "import numpy as np\n",
    "np1 = np.arange( 200, 750)\n",
    "np2 = np.random.normal( 50 , 4, 300)"
   ]
  },
  {
<<<<<<< HEAD
=======

>>>>>>> e7719a0c9ee4c5db0ccc3f36d6066d95786ec2b3
   "attachments": {},
   "cell_type": "markdown",
   "metadata": {},
   "source": [
<<<<<<< HEAD
    "Resolviendo 1.2"
=======
    "4. Create a 3x3x3 array with random values. **Hint: Use [`np.random.random`](https://docs.scipy.org/doc/numpy-1.15.0/reference/generated/numpy.random.random.html).** <br><br>"
>>>>>>> e7719a0c9ee4c5db0ccc3f36d6066d95786ec2b3
   ]
  },
  {
   "cell_type": "code",
<<<<<<< HEAD
   "execution_count": 4,
   "metadata": {},
   "outputs": [],
   "source": [
    "#1  Replace all the `even_numbers` in `np1` with 100. \n",
    "\n",
    "# Para poder reemplazar todos los números pares por 100, seleccionamos todos los números que divididos entre 2 nos\n",
    "# de como resultado 0 y los reemplazamos por 100\n",
    "np1[np1 % 2 == 0] = 100"
=======
   "execution_count": 8,
   "metadata": {},
   "outputs": [
    {
     "data": {
      "text/plain": [
       "array([[[0.89274968, 0.4258702 , 0.42953311],\n",
       "        [0.50839762, 0.14437517, 0.44549199],\n",
       "        [0.61455397, 0.45911233, 0.78872795]],\n",
       "\n",
       "       [[0.05101569, 0.92952369, 0.43271195],\n",
       "        [0.84500462, 0.77735326, 0.81504528],\n",
       "        [0.85048333, 0.48581586, 0.95209914]],\n",
       "\n",
       "       [[0.85049642, 0.39912547, 0.08835908],\n",
       "        [0.40698599, 0.00399582, 0.35069702],\n",
       "        [0.1448155 , 0.84346871, 0.06052501]]])"
      ]
     },
     "execution_count": 8,
     "metadata": {},
     "output_type": "execute_result"
    }
   ],
   "source": [
    "import numpy as np\n",
    "#usamos la funcion np.random.random y definimos el orden de la matriz\n",
    "arr1 = np.random.random((3,3,3))\n",
    "arr1"
   ]
  },
  {
   "attachments": {},
   "cell_type": "markdown",
   "metadata": {},
   "source": [
    "5. Comment why this expression `np.nan == np.nan` is False. **Hint: Use stackoverflow.** <br><br>"
>>>>>>> e7719a0c9ee4c5db0ccc3f36d6066d95786ec2b3
   ]
  },
  {
   "cell_type": "code",
<<<<<<< HEAD
   "execution_count": 7,
=======
   "execution_count": 20,
   "metadata": {},
   "outputs": [
    {
     "data": {
      "text/plain": [
       "False"
      ]
     },
     "execution_count": 20,
     "metadata": {},
     "output_type": "execute_result"
    }
   ],
   "source": [
    "a=np.nan\n",
    "b=np.nan\n",
    "a==b"
   ]
  },
  {
   "attachments": {},
   "cell_type": "markdown",
   "metadata": {},
   "source": [
    "La expresión es falsa puesto que de ser lo contrario generaría problemas de cálculo. Por ejemplo a/b me resultaría igual a 1, lo cual no es cierto."
   ]
  },
  {
   "attachments": {},
   "cell_type": "markdown",
   "metadata": {},
   "source": [
    "6. Print the `mean` and `standard deviation` of `np2`. **Hint: Use `f-string`, `np.mean`, and `np.var` methods.**"
   ]
  },
  {
   "cell_type": "code",
   "execution_count": 27,
>>>>>>> e7719a0c9ee4c5db0ccc3f36d6066d95786ec2b3
   "metadata": {},
   "outputs": [
    {
     "name": "stdout",
     "output_type": "stream",
     "text": [
<<<<<<< HEAD
      "[[0 1 2]\n",
      " [3 4 5]\n",
      " [6 7 8]]\n"
=======
      "La media del array np2  es 49.82295314106145 y su desviación estándar es 3.9840498967628224\n"
>>>>>>> e7719a0c9ee4c5db0ccc3f36d6066d95786ec2b3
     ]
    }
   ],
   "source": [
<<<<<<< HEAD
    "# 2. Create a 3x3 matrix with values ranging from 0 to 8.\n",
    "\n",
    "#En este punto creamos una arrage con valores de 0 a 9, dicho arrage se está reestructurando en formato 3x3\n",
    "matrix = np.arange(0,9).reshape(3,3)\n",
    "print(matrix)"
   ]
  },
  {
   "cell_type": "code",
   "execution_count": 11,
   "metadata": {},
   "outputs": [
    {
     "name": "stdout",
     "output_type": "stream",
     "text": [
      "[[ 1  2  3  4]\n",
      " [ 2  3  4  5]\n",
      " [ 3  4  5  6]\n",
      " [ 4  5  6  7]\n",
      " [ 5  6  7  8]\n",
      " [ 6  7  8  9]\n",
      " [ 7  8  9 10]]\n"
     ]
    }
   ],
   "source": [
    "#3. Consider an array `Z = [1,2,3,4,5,6,7,8,9,10]`, generate an array \n",
    "# `R = [ [ 1, 2, 3, 4], [ 2, 3, 4, 5 ], [ 3, 4, 5, 6 ], ..., [ 7, 8, 9, 10 ] ]\n",
    "\n",
    "Z = [1,2,3,4,5,6,7,8,9,10]\n",
    "\n",
    "#creamos una vista deslizante de array, en este caso, tomamos como tamaño de la venta deslizante como 4\n",
    "#por defecto, esta iterando sobre la matriz con salto de 1 elemento\n",
    "# cumpliendo con los requerimientos del ejercicio\n",
    "\n",
    "R= np.lib.stride_tricks.sliding_window_view(Z,4)\n",
    "print(R)\n"
   ]
  },
  {
=======
    "import numpy as np\n",
    "np2 = np.random.normal( 50 , 4, 300)\n",
    "media = np.mean(np2)\n",
    "desvest = np.sqrt(np.var(np2))\n",
    "print(f\"La media del array np2  es {media} y su desviación estándar es {desvest}\")"
   ]
  },
  {

>>>>>>> e7719a0c9ee4c5db0ccc3f36d6066d95786ec2b3
   "cell_type": "markdown",
   "metadata": {},
   "source": [
    "## Restricted Least Squares\n",
    "\n",
    "Given the following equation:\n",
    "\n",
    "\n",
    "$$\n",
    "\\begin{aligned} \n",
    "lnCT &= \\beta_{0}+\\beta_{q}lnq+ \\frac{1}{2}\\beta_{qq} lnq^2+\\beta_{q1}lnqlnp_1+\\beta_{q2}lnqlnp_2+ \\beta_{q3}lnqlnp_{3} +\\beta_{1}lnp_1+\\beta_{2}lnp_2+ \\beta_{3}lnp_3 \\\\\n",
    "& + \\frac{1}{2}\\beta_{11}ln^{2}p_1+ \\frac{1}{2}\\beta_{22}ln^{2}p_{2}+ \\frac{1}{2}\\beta_{33}ln^{2}p_{3} + \\frac{1}{2}\\beta_{12}lnp_{1}lnp_{2}+ \\frac{1}{2}\\beta_{13}lnp_{1}lnp_{3}+\\frac{1}{2}\\beta_{23}lnp_{2}lnp_{3} \n",
    "\\end{aligned}\n",
    "$$\n",
    "\n",
    "\n",
    "ST: \n",
    "\n",
    "<br>\n",
    "$$\n",
    "\\begin{aligned} \n",
    "\\beta_{1} + \\beta_{2} + \\beta_{3} &= 1 \\\\\n",
    "\\beta_{q1} + \\beta_{q2} + \\beta_{q3} &= 0 \\\\\n",
    "\\beta_{11} + \\beta_{12} + \\beta_{13} &= 0 \\\\\n",
    "\\beta_{21} + \\beta_{22} + \\beta_{23} &= 0 \\\\\n",
    "\\beta_{31} + \\beta_{32} + \\beta_{33} &= 0 \\\\\n",
    "\\beta_{ij} = \\beta_{ji}\n",
    "\\end{aligned}\n",
    "$$"
   ]
  },
  {
   "cell_type": "markdown",
   "metadata": {},
   "source": [
    "\n",
    "1. Get $\\widehat{\\boldsymbol{\\beta}}^{(RLS)}$ vector from the equation bellow. Use the `q`, `p1`, `p2`, `p3`, `CT` numpies. <br><br>\n",
    "2. Get the `covariance matrix` $\\mathbb{V}{\\rm ar} \\left(\\widehat{\\boldsymbol{\\beta}}^{(RLS)} \\right)$. <br><br>\n",
    "**Hint: For more information about Restricted Least Squares [click here](http://web.vu.lt/mif/a.buteikis/wp-content/uploads/PE_Book/4-4-Multiple-RLS.html).**<br>"
   ]
  },
  {
<<<<<<< HEAD
   "cell_type": "code",
   "execution_count": null,
=======

   "cell_type": "markdown",
   "metadata": {},
   "source": [
    "## Solution RLS - 1"
   ]
  },
  {
   "cell_type": "code",
   "execution_count": 5,
   "metadata": {},
   "outputs": [],
   "source": [
    "import numpy as np"
   ]
  },
  {
   "cell_type": "code",
   "execution_count": 7,

>>>>>>> e7719a0c9ee4c5db0ccc3f36d6066d95786ec2b3
   "metadata": {},
   "outputs": [],
   "source": [
    "import pandas as pd\n",
    "greene = pd.read_csv(r\"../../_data/christensen_greene_f4.csv\")"
   ]
  },
  {
   "cell_type": "code",
<<<<<<< HEAD
   "execution_count": null,
=======

   "execution_count": 23,

>>>>>>> e7719a0c9ee4c5db0ccc3f36d6066d95786ec2b3
   "metadata": {},
   "outputs": [],
   "source": [
    "ct = greene.COST.values\n",
    "q = greene.Q.values\n",
    "p1 = greene.PL.values\n",
    "p2 = greene.PF.values\n",
    "p3 = greene.PK.values"
   ]
  },
  {
<<<<<<< HEAD
=======

   "cell_type": "code",
   "execution_count": 24,
   "metadata": {
    "scrolled": true
   },
   "outputs": [
    {
     "data": {
      "text/plain": [
       "array([-1.54646311,  1.11274528,  2.24133715, -0.27364768,  0.81478943,\n",
       "        0.29431006, -0.48467067, -0.71600647,  0.13749851,  2.0214416 ,\n",
       "        0.71939955, -0.45208513,  1.14752943,  2.33346341,  1.76623651,\n",
       "        1.50518789,  1.72224861,  1.31520107,  1.79284222,  2.54811616,\n",
       "        1.89030683,  2.26622189,  2.16162043,  2.15607846,  2.41964787,\n",
       "        1.89041254,  2.39484517,  2.61205312,  2.00680364,  2.28077906,\n",
       "        3.03817376,  2.98108553,  2.64213117,  2.32142647,  2.78355339,\n",
       "        3.74363749,  3.11623162,  3.49703772,  2.93896614,  2.58534758,\n",
       "        3.07016234,  3.57038585,  3.39454531,  3.43002129,  3.19279875,\n",
       "        2.86106881,  2.99075993,  3.35989263,  3.29891361,  3.11093866,\n",
       "        3.40806375,  3.40677513,  3.48382137,  3.85833527,  3.19007709,\n",
       "        3.44336887,  3.46537334,  3.73532401,  4.06243069,  3.70199556,\n",
       "        3.61271629,  3.22559719,  3.81071427,  4.01053533,  3.71794784,\n",
       "        4.38650783,  4.22654173,  4.57868144,  3.96581777,  3.659636  ,\n",
       "        3.87354202,  4.37033986,  4.71748318,  4.3552321 ,  4.46707411,\n",
       "        4.0557198 ,  4.50774257,  5.21075038,  5.13129065,  4.33405414,\n",
       "        4.89954208,  5.12620967,  4.83099494,  5.25521413,  5.48277705,\n",
       "       -2.03714863, -0.31567011,  0.57126199,  0.80500157,  0.93973378,\n",
       "        0.71088886,  2.0312487 ,  2.40776459,  2.24785432,  2.62656534,\n",
       "        2.85009938,  2.78318241,  3.19448067,  3.30484432,  3.38394949,\n",
       "        3.55846036,  3.23794877,  3.74742427,  4.27715905,  4.99035775,\n",
       "        3.94626017,  3.07077945,  2.65822951,  4.19121716,  4.72964633,\n",
       "        4.50393227,  5.48266104,  5.62508733,  4.6819238 ,  5.59758012,\n",
       "        4.37727411,  3.52286619,  2.70490526,  3.52557492,  4.36567873,\n",
       "        2.9672865 ,  5.64278576,  5.64523521,  6.15099757,  6.60314242,\n",
       "        3.03896416,  3.08095539,  3.12867099,  3.454321  ,  3.87469075,\n",
       "        1.77970376,  3.24295947,  2.86008436,  0.31064148,  3.84585756,\n",
       "        3.91620027,  3.71098335,  3.20775016,  3.40863631,  3.44093399,\n",
       "        4.66601031,  4.01390066,  3.15609363,  3.10289466,  3.41676557,\n",
       "        4.73260428,  4.47846232,  4.71782275,  4.78225807,  2.51157292,\n",
       "       -1.15264618,  2.35410486,  3.10008328,  1.92122218,  1.32455193,\n",
       "        1.38183443,  3.40744449,  4.21739076])"
      ]
     },
     "execution_count": 24,
     "metadata": {},
     "output_type": "execute_result"
    }
   ],
   "source": [
    "#Estimamos logaritmos del array ct\n",
    "Y = np.log(ct)\n",
    "Y "
   ]
  },
  {
   "cell_type": "code",
   "execution_count": 23,
   "metadata": {
    "scrolled": true
   },
   "outputs": [
    {
     "data": {
      "text/plain": [
       "array([[ 2.07944154,  3.4657359 , 18.37153796, ..., 12.76798924,\n",
       "        18.43628708,  6.03154217],\n",
       "       [ 6.76734313, 12.84153907, 61.12780486, ..., 13.7646109 ,\n",
       "        19.07195764,  6.43499186],\n",
       "       [ 7.25276242, 13.81237766, 65.14646856, ..., 16.73588852,\n",
       "        16.6443385 ,  6.90510767],\n",
       "       ...,\n",
       "       [ 5.96870756, 11.24426794, 51.74924846, ..., 16.46655886,\n",
       "        18.90251177,  8.28142116],\n",
       "       [ 8.57866451, 16.46418185, 78.65026601, ..., 17.11621413,\n",
       "        19.97189503,  8.13384624],\n",
       "       [ 9.63036563, 18.56758408, 85.2448793 , ..., 14.36189482,\n",
       "        19.05059047,  6.98391798]])"
      ]
     },
     "execution_count": 23,
     "metadata": {},
     "output_type": "execute_result"
    }
   ],
   "source": [
    "# Conformamos la matriz X\n",
    "X = np.column_stack([np.log(q),np.log(np.power(q,2)/2), np.log(q)*np.log(p1),np.log(q)*np.log(p2),np.log(q)*np.log(p3),\n",
    "                     np.log(p1),np.log(p2),np.log(p3),np.power(np.log(p1),2)/2,np.power(np.log(p2),2)/2,\n",
    "                     np.power(np.log(p3),2)/2, np.log(p1)*np.log(p2)/2,np.log(p1)*np.log(p3)/2,np.log(p2)*np.log(p3)/2])\n",
    "X"
   ]
  },
  {

>>>>>>> e7719a0c9ee4c5db0ccc3f36d6066d95786ec2b3
   "cell_type": "markdown",
   "metadata": {},
   "source": [
    "# Pandas"
   ]
  },
  {
   "cell_type": "markdown",
   "metadata": {},
   "source": [
    "Run the code bellow uncomment the second line to install savReaderWriter library. The `dict_varlabels` has the labels of the columns of rec1.\n",
    "\n",
    "1. Check if CASEID identifies each observation uniquely. **[Hint: Use is_unique method.](https://pandas.pydata.org/docs/reference/api/pandas.Series.is_unique.html)**\n",
    "2. Make the CASEID column the index of your data set. **[Hint: Use set_index](https://pandas.pydata.org/docs/reference/api/pandas.DataFrame.set_index.html)**. \n",
    "3. Keep women who are 15-30 years old and live in Urban areas. **[Hint: Use query](https://pandas.pydata.org/docs/reference/api/pandas.DataFrame.query.html)**.\n",
    "4. Generate a new column with the month of born. Just use the first three letters.  Use the English names of the months. "
   ]
  },
  {
   "cell_type": "code",
<<<<<<< HEAD
   "execution_count": null,
   "metadata": {},
   "outputs": [],
=======

   "execution_count": null,
   "metadata": {},
   "outputs": [],

>>>>>>> e7719a0c9ee4c5db0ccc3f36d6066d95786ec2b3
   "source": [
    "# read REC0111 data\n",
    "#!pip install savReaderWriter\n",
    "import savReaderWriter as sav\n",
    "rec1 = pd.read_spss( fr\"../../_data/endes/2019/REC0111.sav\" )\n",
    "\n",
    "# Get labels from sav file\n",
    "with sav.SavHeaderReader( fr\"../../_data/endes/2019/REC0111.sav\", ioUtf8=True) as header:\n",
    "    metadata = header.all()\n",
    "\n",
    "dict_varlabels = metadata[3]"
   ]
  },
  {
   "cell_type": "code",
   "execution_count": null,
   "metadata": {},
   "outputs": [],
   "source": [
    "dict_varlabels"
   ]
  }
 ],
 "metadata": {
  "hide_input": false,
  "kernelspec": {
<<<<<<< HEAD
   "display_name": "base",
=======

   "display_name": "base",

>>>>>>> e7719a0c9ee4c5db0ccc3f36d6066d95786ec2b3
   "language": "python",
   "name": "python3"
  },
  "language_info": {
   "codemirror_mode": {
    "name": "ipython",
    "version": 3
   },
   "file_extension": ".py",
   "mimetype": "text/x-python",
   "name": "python",
   "nbconvert_exporter": "python",
   "pygments_lexer": "ipython3",
<<<<<<< HEAD
   "version": "3.9.13"
=======

   "version": "3.9.13"

>>>>>>> e7719a0c9ee4c5db0ccc3f36d6066d95786ec2b3
  },
  "toc": {
   "base_numbering": 1,
   "nav_menu": {},
   "number_sections": true,
   "sideBar": true,
   "skip_h1_title": false,
   "title_cell": "Table of Contents",
   "title_sidebar": "Contents",
   "toc_cell": false,
   "toc_position": {},
   "toc_section_display": true,
   "toc_window_display": false
<<<<<<< HEAD
  },
  "vscode": {
   "interpreter": {
    "hash": "ef7a2777be64f0decd6787c3ef36f8207d6531c53f695e40f47db5c1d11fbc7b"
   }
=======

  },
  "vscode": {
   "interpreter": {
    "hash": "6f5583cf1d9466b5c27e75c89cc6b383bed5736d6b16c51c8074d8690011a952"
   }

>>>>>>> e7719a0c9ee4c5db0ccc3f36d6066d95786ec2b3
  }
 },
 "nbformat": 4,
 "nbformat_minor": 4
}
