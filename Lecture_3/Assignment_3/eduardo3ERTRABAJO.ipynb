{
 "cells": [
  {
   "cell_type": "code",
   "execution_count": 1,
   "id": "04ff8e50-38b8-4552-b480-3b75737f758a",
   "metadata": {},
   "outputs": [
    {
     "name": "stdout",
     "output_type": "stream",
     "text": [
      "1\n",
      "3\n",
      "5\n",
      "7\n",
      "9\n"
     ]
    }
   ],
   "source": [
    "## PREGUNTA 1\n",
    "for num in range(1, 11):   # Recorremos del 1 al 10\n",
    "    if num % 2 == 0:       # Si el número es par\n",
    "        pass               # No hacemos nada\n",
    "    else:\n",
    "        print(num)         # Imprimimos solo los impares\n"
   ]
  },
  {
   "cell_type": "code",
   "execution_count": 3,
   "id": "e7d1e9cc-3503-4242-98c2-0b9d5de92f79",
   "metadata": {},
   "outputs": [],
   "source": [
    "## pass literalmente significa “no hagas nada”.\n",
    "\n",
    "## Es un relleno que le dice a Python: “sí, aquí hay un bloque de código válido, pero no ejecutes nada dentro”.\n",
    "\n",
    "## Sirve mucho cuando todavía no tienes código listo, pero necesitas que el programa no se rompa."
   ]
  },
  {
   "cell_type": "code",
   "execution_count": null,
   "id": "e4349e39-23a7-452f-abce-2cc44fff31fb",
   "metadata": {},
   "outputs": [],
   "source": [
    "## Re-pregunta: ¿qué pasa si quito el pass?"
   ]
  },
  {
   "cell_type": "code",
   "execution_count": 4,
   "id": "bf64adaa-3050-46e6-9077-316b499a73f9",
   "metadata": {},
   "outputs": [
    {
     "ename": "IndentationError",
     "evalue": "expected an indented block after 'if' statement on line 2 (705977335.py, line 4)",
     "output_type": "error",
     "traceback": [
      "\u001b[1;36m  Cell \u001b[1;32mIn[4], line 4\u001b[1;36m\u001b[0m\n\u001b[1;33m    else:\u001b[0m\n\u001b[1;37m    ^\u001b[0m\n\u001b[1;31mIndentationError\u001b[0m\u001b[1;31m:\u001b[0m expected an indented block after 'if' statement on line 2\n"
     ]
    }
   ],
   "source": [
    "for num in range(1, 11):\n",
    "    if num % 2 == 0:   # Si es par\n",
    "        # aquí no hay nada\n",
    "    else:\n",
    "        print(num)\n"
   ]
  },
  {
   "cell_type": "code",
   "execution_count": 5,
   "id": "0b6221bc-1b3b-4f4c-8726-4ee92030dfad",
   "metadata": {},
   "outputs": [],
   "source": [
    "## Esto genera un error de indentación/sintaxis, porque Python espera algo dentro del if.\n",
    "## En otras palabras, el pass evita que se rompa el código cuando aún no tienes instrucciones que poner."
   ]
  },
  {
   "cell_type": "code",
   "execution_count": 6,
   "id": "f9db4ee7-5194-4e7b-82cf-89c9d4b02412",
   "metadata": {},
   "outputs": [],
   "source": [
    "## Pregunta2"
   ]
  },
  {
   "cell_type": "code",
   "execution_count": 7,
   "id": "155e65b3-45d0-4f99-bcfa-e051e76df2f6",
   "metadata": {},
   "outputs": [
    {
     "name": "stdout",
     "output_type": "stream",
     "text": [
      "p\n",
      "y\n",
      "t\n",
      "h\n",
      "n\n",
      "l\n",
      "p\n",
      "s\n"
     ]
    }
   ],
   "source": [
    "for letter in \"pythonloops\":\n",
    "    if letter == \"o\":   # Si la letra es 'o'\n",
    "        continue        # Saltamos a la siguiente iteración\n",
    "    print(letter)\n"
   ]
  },
  {
   "cell_type": "code",
   "execution_count": 9,
   "id": "6393feed-7bdd-4e14-9b4c-c2b852f61edb",
   "metadata": {},
   "outputs": [],
   "source": [
    "## El continue le dice al bucle:\n",
    "## “No ejecutes lo que viene después en esta iteración, sigue con la siguiente vuelta”.\n",
    "\n",
    "## En este caso, cada vez que aparece la letra \"o\", no se imprime.\n",
    "\n",
    "## Re-pregunta: ¿cómo lograr lo mismo sin continue?\""
   ]
  },
  {
   "cell_type": "code",
   "execution_count": 10,
   "id": "92322cdf-fc75-407a-bdba-2e5dcea5e492",
   "metadata": {},
   "outputs": [
    {
     "name": "stdout",
     "output_type": "stream",
     "text": [
      "p\n",
      "y\n",
      "t\n",
      "h\n",
      "n\n",
      "l\n",
      "p\n",
      "s\n"
     ]
    }
   ],
   "source": [
    "## Alternativa 1 Invertir la condicion\n",
    "for letter in \"pythonloops\":\n",
    "    if letter != \"o\":   # Solo imprimimos si NO es 'o'\n",
    "        print(letter)\n"
   ]
  },
  {
   "cell_type": "code",
   "execution_count": 11,
   "id": "46702202-9cc4-4dca-ada7-12ffe874ad08",
   "metadata": {},
   "outputs": [
    {
     "name": "stdout",
     "output_type": "stream",
     "text": [
      "p\n",
      "y\n",
      "t\n",
      "h\n",
      "n\n",
      "l\n",
      "p\n",
      "s\n"
     ]
    }
   ],
   "source": [
    "## Alternativa 2 Filtrara antes con un replace\n",
    "for letter in \"pythonloops\".replace(\"o\", \"\"):\n",
    "    print(letter)\n"
   ]
  },
  {
   "cell_type": "code",
   "execution_count": 12,
   "id": "4481ca8a-7dfa-4146-853f-5bb058e24aea",
   "metadata": {},
   "outputs": [
    {
     "name": "stdin",
     "output_type": "stream",
     "text": [
      "Ingresa un número:  5\n"
     ]
    },
    {
     "name": "stdout",
     "output_type": "stream",
     "text": [
      "Ingresaste: 5\n"
     ]
    },
    {
     "name": "stdin",
     "output_type": "stream",
     "text": [
      "Ingresa un número:  6\n"
     ]
    },
    {
     "name": "stdout",
     "output_type": "stream",
     "text": [
      "Ingresaste: 6\n"
     ]
    },
    {
     "name": "stdin",
     "output_type": "stream",
     "text": [
      "Ingresa un número:  -2\n"
     ]
    },
    {
     "name": "stdout",
     "output_type": "stream",
     "text": [
      "Número negativo detectado. Fin del bucle.\n"
     ]
    }
   ],
   "source": [
    "## Pregunta 3\n",
    "while True:  # Bucle infinito hasta que rompamos\n",
    "    num = int(input(\"Ingresa un número: \"))\n",
    "    \n",
    "    if num < 0:       # Si es negativo\n",
    "        print(\"Número negativo detectado. Fin del bucle.\")\n",
    "        break         # Rompe el bucle\n",
    "    \n",
    "    print(f\"Ingresaste: {num}\")\n"
   ]
  },
  {
   "cell_type": "code",
   "execution_count": null,
   "id": "919f6b39-8fb6-47e1-8d7f-0b8915328352",
   "metadata": {},
   "outputs": [
    {
     "name": "stdin",
     "output_type": "stream",
     "text": [
      "Ingresa un número:  8\n"
     ]
    },
    {
     "name": "stdout",
     "output_type": "stream",
     "text": [
      "Ingresaste: 8\n"
     ]
    },
    {
     "name": "stdin",
     "output_type": "stream",
     "text": [
      "Ingresa un número:  500\n"
     ]
    },
    {
     "name": "stdout",
     "output_type": "stream",
     "text": [
      "Ingresaste: 500\n"
     ]
    },
    {
     "name": "stdin",
     "output_type": "stream",
     "text": [
      "Ingresa un número:  -5\n"
     ]
    },
    {
     "name": "stdout",
     "output_type": "stream",
     "text": [
      "Ignorado. Ingresa un número positivo.\n"
     ]
    }
   ],
   "source": [
    "## Re-pregunta: ¿cómo ignorar negativos en vez de romper?\n",
    "## Solucion usando continue\n",
    "while True:\n",
    "    num = int(input(\"Ingresa un número: \"))\n",
    "    \n",
    "    if num < 0:       # Si es negativo\n",
    "        print(\"Ignorado. Ingresa un número positivo.\")\n",
    "        continue      # Vuelve a pedir número, sin romper\n",
    "    \n",
    "    print(f\"Ingresaste: {num}\")\n"
   ]
  },
  {
   "cell_type": "code",
   "execution_count": null,
   "id": "ba319828-744b-4daa-bbe6-92cc24989750",
   "metadata": {},
   "outputs": [],
   "source": []
  }
 ],
 "metadata": {
  "kernelspec": {
   "display_name": "Python [conda env:base] *",
   "language": "python",
   "name": "conda-base-py"
  },
  "language_info": {
   "codemirror_mode": {
    "name": "ipython",
    "version": 3
   },
   "file_extension": ".py",
   "mimetype": "text/x-python",
   "name": "python",
   "nbconvert_exporter": "python",
   "pygments_lexer": "ipython3",
   "version": "3.13.5"
  }
 },
 "nbformat": 4,
 "nbformat_minor": 5
}
