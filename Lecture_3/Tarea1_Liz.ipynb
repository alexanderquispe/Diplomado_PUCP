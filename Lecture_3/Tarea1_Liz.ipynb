{
 "cells": [
  {
   "cell_type": "code",
   "execution_count": null,
   "id": "6e120df4-4102-4765-9e99-4e7ac58dbb02",
   "metadata": {},
   "outputs": [],
   "source": [
    "Tarea_1_Lizeth"
   ]
  },
  {
   "cell_type": "code",
   "execution_count": null,
   "id": "58844060-80d3-4b7a-a757-15f9fc1b66a5",
   "metadata": {},
   "outputs": [],
   "source": []
  }
 ],
 "metadata": {
  "kernelspec": {
   "display_name": "Python 3 (ipykernel)",
   "language": "python",
   "name": "python3"
  },
  "language_info": {
   "codemirror_mode": {
    "name": "ipython",
    "version": 3
   },
   "file_extension": ".py",
   "mimetype": "text/x-python",
   "name": "python",
   "nbconvert_exporter": "python",
   "pygments_lexer": "ipython3",
   "version": "3.12.7"
  }
 },
 "nbformat": 4,
 "nbformat_minor": 5
}
