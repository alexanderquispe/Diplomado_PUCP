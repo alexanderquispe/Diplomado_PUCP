{
 "cells": [
  {
   "cell_type": "markdown",
   "id": "18d3d1bf",
   "metadata": {},
   "source": [
    "1.2 Lists - Mattias Salazar"
   ]
  },
  {
   "cell_type": "markdown",
   "id": "c7d521bd",
   "metadata": {},
   "source": [
    "7. Show the indices of the np.nan values in the f_list list."
   ]
  },
  {
   "cell_type": "code",
   "execution_count": null,
   "id": "ddc42547",
   "metadata": {},
   "outputs": [],
   "source": [
    "nan_indices = [i for i, value in enumerate(f_list) if isinstance(value, float) and np.isnan(value)]\n",
    "print(f\"The indices {', '.join(map(str, nan_indices))} have np.nan values.\")"
   ]
  },
  {
   "cell_type": "markdown",
   "id": "e7d58867",
   "metadata": {},
   "source": [
    "Explanation: In this step, we use list comprehension to iterate over f_list and find the indices of elements that are both of type float and are NaN using np.isnan(). We use enumerate to get both the index i and the value. Finally, we print the indices in a formatted string."
   ]
  },
  {
   "cell_type": "markdown",
   "id": "b900f678",
   "metadata": {},
   "source": [
    "8. Replicate 4 times the values of the list p2_list."
   ]
  },
  {
   "cell_type": "code",
   "execution_count": null,
   "id": "f40d0f73",
   "metadata": {},
   "outputs": [],
   "source": [
    "replicated_p2_list = p2_list * 4\n",
    "print(replicated_p2_list)"
   ]
  },
  {
   "cell_type": "markdown",
   "id": "2b89194b",
   "metadata": {},
   "source": [
    "Explanation: We use the multiplication operator * to replicate the elements of p2_list four times. The result is assigned to replicated_p2_list, and we print the output."
   ]
  },
  {
   "cell_type": "markdown",
   "id": "69257174",
   "metadata": {},
   "source": [
    "9. Print the length of f_list."
   ]
  },
  {
   "cell_type": "code",
   "execution_count": null,
   "id": "d8599b19",
   "metadata": {},
   "outputs": [],
   "source": [
    "print(len(f_list))"
   ]
  },
  {
   "cell_type": "markdown",
   "id": "f727bd48",
   "metadata": {},
   "source": [
    "Explanation: The len function is used to calculate the length of the list f_list, and we print the result."
   ]
  },
  {
   "cell_type": "markdown",
   "id": "c7b72852",
   "metadata": {},
   "source": [
    "10. Print \"My teacher assistant is so boring.\" using text1 list."
   ]
  },
  {
   "cell_type": "code",
   "execution_count": null,
   "id": "1d1057d7",
   "metadata": {},
   "outputs": [],
   "source": [
    "print(' '.join(text1))"
   ]
  },
  {
   "cell_type": "markdown",
   "id": "5d3f864c",
   "metadata": {},
   "source": [
    "Explanation: We use the join method to concatenate the elements of the text1 list into a single string with spaces in between, and then print the result."
   ]
  },
  {
   "cell_type": "markdown",
   "id": "f34f485f",
   "metadata": {},
   "source": [
    "11. Print \"My TA is so boring, but is very funny.\" using text1 list."
   ]
  },
  {
   "cell_type": "code",
   "execution_count": null,
   "id": "a762c057",
   "metadata": {},
   "outputs": [],
   "source": [
    "text1.extend([\"but\", \"is\", \"very\", \"funny.\"])\n",
    "print(' '.join(text1))"
   ]
  },
  {
   "cell_type": "markdown",
   "id": "026f3d11",
   "metadata": {},
   "source": [
    "Explanation: We use the extend method to add additional words to the text1 list. Then, we use the join method to concatenate the elements into a string and print the result."
   ]
  },
  {
   "cell_type": "markdown",
   "id": "ff2e8c29",
   "metadata": {},
   "source": [
    "12. Print the max and min values of values1."
   ]
  },
  {
   "cell_type": "code",
   "execution_count": 1,
   "id": "0aa7fb61",
   "metadata": {},
   "outputs": [
    {
     "ename": "NameError",
     "evalue": "name 'values1' is not defined",
     "output_type": "error",
     "traceback": [
      "\u001b[1;31m---------------------------------------------------------------------------\u001b[0m",
      "\u001b[1;31mNameError\u001b[0m                                 Traceback (most recent call last)",
      "Cell \u001b[1;32mIn[1], line 1\u001b[0m\n\u001b[1;32m----> 1\u001b[0m max_value \u001b[38;5;241m=\u001b[39m \u001b[38;5;28mmax\u001b[39m(values1)\n\u001b[0;32m      2\u001b[0m max_index \u001b[38;5;241m=\u001b[39m values1\u001b[38;5;241m.\u001b[39mindex(max_value)\n\u001b[0;32m      3\u001b[0m min_value \u001b[38;5;241m=\u001b[39m \u001b[38;5;28mmin\u001b[39m(values1)\n",
      "\u001b[1;31mNameError\u001b[0m: name 'values1' is not defined"
     ]
    }
   ],
   "source": [
    "max_value = max(values1)\n",
    "max_index = values1.index(max_value)\n",
    "min_value = min(values1)\n",
    "min_index = values1.index(min_value)\n",
    "print(f\"The max value of values1 is {max_value} and is located in the {max_index} index.\")\n",
    "print(f\"The min value of values1 is {min_value} and is located in the {min_index} index.\")"
   ]
  },
  {
   "cell_type": "markdown",
   "id": "ca32f0e3",
   "metadata": {},
   "source": [
    "Explanation: We use the max and min functions to find the maximum and minimum values in values1, respectively. Then, we use the index method to find the corresponding indices. Finally, we print the results in a formatted string."
   ]
  },
  {
   "cell_type": "markdown",
   "id": "44d87781",
   "metadata": {},
   "source": [
    "13. Get two lists: names and last_names using last_and_name list."
   ]
  },
  {
   "cell_type": "code",
   "execution_count": null,
   "id": "11e25c6e",
   "metadata": {},
   "outputs": [],
   "source": [
    "names, last_names = zip(*(name.split(', ') for name in last_and_name))"
   ]
  },
  {
   "cell_type": "markdown",
   "id": "0ecad73a",
   "metadata": {},
   "source": [
    "Explanation: We use the zip function with a generator expression to split each element in the last_and_name list using split(', ') and then unpack the results into two separate lists, names and last_names."
   ]
  },
  {
   "cell_type": "markdown",
   "id": "632659fc",
   "metadata": {},
   "source": [
    "14. Give only the last names of students who do not have an email."
   ]
  },
  {
   "cell_type": "code",
   "execution_count": null,
   "id": "7b22e823",
   "metadata": {},
   "outputs": [],
   "source": [
    "students_without_email = [last_name for last_name, email in zip(last_names, emails) if not email]"
   ]
  },
  {
   "cell_type": "markdown",
   "id": "4bd723c0",
   "metadata": {},
   "source": [
    "Explanation: Using list comprehension and zip, we iterate over last_names and emails simultaneously. We create a new list, students_without_email, containing only the last names of students who do not have an email."
   ]
  }
 ],
 "metadata": {
  "kernelspec": {
   "display_name": "Python 3 (ipykernel)",
   "language": "python",
   "name": "python3"
  },
  "language_info": {
   "codemirror_mode": {
    "name": "ipython",
    "version": 3
   },
   "file_extension": ".py",
   "mimetype": "text/x-python",
   "name": "python",
   "nbconvert_exporter": "python",
   "pygments_lexer": "ipython3",
   "version": "3.11.5"
  }
 },
 "nbformat": 4,
 "nbformat_minor": 5
}
