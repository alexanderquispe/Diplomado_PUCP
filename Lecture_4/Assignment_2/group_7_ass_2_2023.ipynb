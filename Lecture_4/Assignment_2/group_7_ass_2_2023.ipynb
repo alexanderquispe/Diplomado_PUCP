{
  "cells": [
    {
      "cell_type": "markdown",
      "metadata": {
        "id": "_bMSl99a-gNm"
      },
      "source": [
        "# 1 Assignment 2"
      ]
    },
    {
      "cell_type": "markdown",
      "source": [
        "## Group 7\n",
        "\n",
        "Members:\n",
        "\n",
        "\n",
        "*   Fabio Manuel Salas Núñez Borja - 20185062\n",
        "*   Erick Josue Aguilar Garcia- 20182474\n",
        "*   Fernanda Nicolle Pizarro Villanes - 20191460\n",
        "*   Angela Adelina Quillatupa Morales - 20193853\n",
        "*   Josué Daniel Caldas Velásquez - 20182814"
      ],
      "metadata": {
        "id": "I2ZLsiO--pll"
      }
    },
    {
      "cell_type": "code",
      "execution_count": null,
      "metadata": {
        "id": "7m8KrLBJ-gNr"
      },
      "outputs": [],
      "source": [
        "import os\n",
        "import os\n",
        "import pickle\n",
        "import pandas as pd\n",
        "import numpy as np\n",
        "import urllib.request"
      ]
    },
    {
      "cell_type": "markdown",
      "metadata": {
        "id": "NIFH3MY2-gN6"
      },
      "source": [
        "### RESOLUTION"
      ]
    },
    {
      "cell_type": "markdown",
      "metadata": {
        "id": "fggJ5uSb-gN6"
      },
      "source": [
        "#### Part 1. "
      ]
    },
    {
      "cell_type": "markdown",
      "metadata": {
        "id": "u90RBHBV-gN7"
      },
      "source": [
        "1. Import the `REC0111.sav`, `RE223132.sav` and `RE516171.sav` files and their variables and values labels from this path `\"../../_data/endes/2019\"`. The name of imported files should be named as `rec_1`, `rec_2` and `rec_3` for files `REC0111.sav`, `RE223132.sav` and `RE516171.sav` respectively. The name of the variable and value labels should be `var_labels1` and `value_labels1` for `rec1`, `var_labels2` and `value_labels2` for `rec2`, and `var_labels3` and `value_labels3` for `rec3`. **Hint: See the section 3.3.4 of [the lecture 3](https://github.com/alexanderquispe/Diplomado_PUCP/blob/main/Lecture_3/Lecture_3.ipynb)**"
      ]
    },
    {
      "cell_type": "code",
      "execution_count": null,
      "metadata": {
        "tags": [],
        "id": "Sd7X-rJL-gN7",
        "colab": {
          "base_uri": "https://localhost:8080/"
        },
        "outputId": "d6e52d63-4781-435a-8f85-505c0ca5a60e"
      },
      "outputs": [
        {
          "output_type": "stream",
          "name": "stdout",
          "text": [
            "Looking in indexes: https://pypi.org/simple, https://us-python.pkg.dev/colab-wheels/public/simple/\n",
            "Collecting pyreadstat\n",
            "  Downloading pyreadstat-1.2.0-cp38-cp38-manylinux_2_17_x86_64.manylinux2014_x86_64.whl (2.7 MB)\n",
            "\u001b[2K     \u001b[90m━━━━━━━━━━━━━━━━━━━━━━━━━━━━━━━━━━━━━━━━\u001b[0m \u001b[32m2.7/2.7 MB\u001b[0m \u001b[31m57.5 MB/s\u001b[0m eta \u001b[36m0:00:00\u001b[0m\n",
            "\u001b[?25hRequirement already satisfied: pandas>=1.2.0 in /usr/local/lib/python3.8/dist-packages (from pyreadstat) (1.3.5)\n",
            "Requirement already satisfied: pytz>=2017.3 in /usr/local/lib/python3.8/dist-packages (from pandas>=1.2.0->pyreadstat) (2022.7)\n",
            "Requirement already satisfied: numpy>=1.17.3 in /usr/local/lib/python3.8/dist-packages (from pandas>=1.2.0->pyreadstat) (1.21.6)\n",
            "Requirement already satisfied: python-dateutil>=2.7.3 in /usr/local/lib/python3.8/dist-packages (from pandas>=1.2.0->pyreadstat) (2.8.2)\n",
            "Requirement already satisfied: six>=1.5 in /usr/local/lib/python3.8/dist-packages (from python-dateutil>=2.7.3->pandas>=1.2.0->pyreadstat) (1.15.0)\n",
            "Installing collected packages: pyreadstat\n",
            "Successfully installed pyreadstat-1.2.0\n"
          ]
        }
      ],
      "source": [
        "#Para leer las bases de datos necesitamos instalar los siguientes paquetes\n",
        "!pip install pyreadstat"
      ]
    },
    {
      "cell_type": "code",
      "source": [
        "!pip install savReaderWriter"
      ],
      "metadata": {
        "colab": {
          "base_uri": "https://localhost:8080/"
        },
        "id": "lauitNp2SRGw",
        "outputId": "73c07bff-c98c-48da-8195-fca2f4b83e10"
      },
      "execution_count": null,
      "outputs": [
        {
          "output_type": "stream",
          "name": "stdout",
          "text": [
            "Looking in indexes: https://pypi.org/simple, https://us-python.pkg.dev/colab-wheels/public/simple/\n",
            "Collecting savReaderWriter\n",
            "  Downloading savReaderWriter-3.4.2.tar.gz (50.9 MB)\n",
            "\u001b[2K     \u001b[90m━━━━━━━━━━━━━━━━━━━━━━━━━━━━━━━━━━━━━━━━\u001b[0m \u001b[32m50.9/50.9 MB\u001b[0m \u001b[31m18.2 MB/s\u001b[0m eta \u001b[36m0:00:00\u001b[0m\n",
            "\u001b[?25h  Preparing metadata (setup.py) ... \u001b[?25l\u001b[?25hdone\n",
            "Building wheels for collected packages: savReaderWriter\n",
            "  Building wheel for savReaderWriter (setup.py) ... \u001b[?25l\u001b[?25hdone\n",
            "  Created wheel for savReaderWriter: filename=savReaderWriter-3.4.2-py3-none-any.whl size=51142021 sha256=3850c46c26692c88cd7d7566000347fb2cd9de8b60edccfa2ca9853f3d7ee1df\n",
            "  Stored in directory: /root/.cache/pip/wheels/da/4b/be/7d3f512ed6ed438b2a72c00a0e568b37930b461f29c0e59e09\n",
            "Successfully built savReaderWriter\n",
            "Installing collected packages: savReaderWriter\n",
            "Successfully installed savReaderWriter-3.4.2\n"
          ]
        }
      ]
    },
    {
      "cell_type": "code",
      "execution_count": null,
      "metadata": {
        "id": "ECalcf39-gN7"
      },
      "outputs": [],
      "source": [
        "import savReaderWriter as sav\n",
        "#importamos la función como sav"
      ]
    },
    {
      "cell_type": "code",
      "source": [
        "from google.colab import drive\n",
        "#guardamos las bases de datos en una carpeta drive, por lo cual, es necesario vincular el Colab con este aplicativo"
      ],
      "metadata": {
        "id": "c-nNw1mBK19J"
      },
      "execution_count": null,
      "outputs": []
    },
    {
      "cell_type": "code",
      "source": [
        "drive.mount(\"/content/drive\")"
      ],
      "metadata": {
        "colab": {
          "base_uri": "https://localhost:8080/"
        },
        "id": "tV35eGxTMyrS",
        "outputId": "d0b48a42-18e0-4093-a036-e3d7c86be2e6"
      },
      "execution_count": null,
      "outputs": [
        {
          "output_type": "stream",
          "name": "stdout",
          "text": [
            "Mounted at /content/drive\n"
          ]
        }
      ]
    },
    {
      "cell_type": "markdown",
      "metadata": {
        "id": "ShBH3pti-gN8"
      },
      "source": [
        "Importing datasets"
      ]
    },
    {
      "cell_type": "code",
      "execution_count": null,
      "metadata": {
        "tags": [],
        "id": "ee3ZsdPG-gN9"
      },
      "outputs": [],
      "source": [
        "#Importamos las bases de datos de interés en Endes 2019 y les asignamos los siguientes nombres:\n",
        "rec1 = pd.read_spss(r\"/content/drive/MyDrive/DIPLOMADO_PUCP/Fundamentos_Python/endes/2019/REC0111.sav\")\n",
        "rec2 = pd.read_spss(r\"/content/drive/MyDrive/DIPLOMADO_PUCP/Fundamentos_Python/endes/2019/RE223132.sav\")\n",
        "rec3 = pd.read_spss(r\"/content/drive/MyDrive/DIPLOMADO_PUCP/Fundamentos_Python/endes/2019/RE516171.sav\")"
      ]
    },
    {
      "cell_type": "code",
      "source": [
        "rec1. head(2) #la base tiene 105 variables (columnas)"
      ],
      "metadata": {
        "colab": {
          "base_uri": "https://localhost:8080/",
          "height": 292
        },
        "id": "0zpLTLtc-ARl",
        "outputId": "4d420683-3e5c-4252-dde0-6e36bbe1ec5c"
      },
      "execution_count": null,
      "outputs": [
        {
          "output_type": "execute_result",
          "data": {
            "text/plain": [
              "      ID1             HHID              CASEID  V001  V002  V003  V004  \\\n",
              "0  2019.0        000100201        000100201  2   1.0   2.0   2.0   1.0   \n",
              "1  2019.0        000100201        000100201  3   1.0   2.0   3.0   1.0   \n",
              "\n",
              "     V007    V008  V009  ...  QD333_4  QD333_5  QD333_6  UBIGEO V022  \\\n",
              "0  2019.0  1434.0   4.0  ...       No       No       No  010101  3.0   \n",
              "1  2019.0  1434.0   1.0  ...       No       No       No  010101  3.0   \n",
              "\n",
              "       V005  V190     V191                                   mujeres12a49  \\\n",
              "0  154803.0  Rico  1.23445                Mujeres de 15 a 49 años de edad   \n",
              "1  154803.0  Rico  1.23445  Mujeres de 12 a 14 de edad, nunca embarazadas   \n",
              "\n",
              "   NCONGLOME  \n",
              "0     7065.0  \n",
              "1     7065.0  \n",
              "\n",
              "[2 rows x 105 columns]"
            ],
            "text/html": [
              "\n",
              "  <div id=\"df-50702129-69da-4654-83f5-4d7414480ef2\">\n",
              "    <div class=\"colab-df-container\">\n",
              "      <div>\n",
              "<style scoped>\n",
              "    .dataframe tbody tr th:only-of-type {\n",
              "        vertical-align: middle;\n",
              "    }\n",
              "\n",
              "    .dataframe tbody tr th {\n",
              "        vertical-align: top;\n",
              "    }\n",
              "\n",
              "    .dataframe thead th {\n",
              "        text-align: right;\n",
              "    }\n",
              "</style>\n",
              "<table border=\"1\" class=\"dataframe\">\n",
              "  <thead>\n",
              "    <tr style=\"text-align: right;\">\n",
              "      <th></th>\n",
              "      <th>ID1</th>\n",
              "      <th>HHID</th>\n",
              "      <th>CASEID</th>\n",
              "      <th>V001</th>\n",
              "      <th>V002</th>\n",
              "      <th>V003</th>\n",
              "      <th>V004</th>\n",
              "      <th>V007</th>\n",
              "      <th>V008</th>\n",
              "      <th>V009</th>\n",
              "      <th>...</th>\n",
              "      <th>QD333_4</th>\n",
              "      <th>QD333_5</th>\n",
              "      <th>QD333_6</th>\n",
              "      <th>UBIGEO</th>\n",
              "      <th>V022</th>\n",
              "      <th>V005</th>\n",
              "      <th>V190</th>\n",
              "      <th>V191</th>\n",
              "      <th>mujeres12a49</th>\n",
              "      <th>NCONGLOME</th>\n",
              "    </tr>\n",
              "  </thead>\n",
              "  <tbody>\n",
              "    <tr>\n",
              "      <th>0</th>\n",
              "      <td>2019.0</td>\n",
              "      <td>000100201</td>\n",
              "      <td>000100201  2</td>\n",
              "      <td>1.0</td>\n",
              "      <td>2.0</td>\n",
              "      <td>2.0</td>\n",
              "      <td>1.0</td>\n",
              "      <td>2019.0</td>\n",
              "      <td>1434.0</td>\n",
              "      <td>4.0</td>\n",
              "      <td>...</td>\n",
              "      <td>No</td>\n",
              "      <td>No</td>\n",
              "      <td>No</td>\n",
              "      <td>010101</td>\n",
              "      <td>3.0</td>\n",
              "      <td>154803.0</td>\n",
              "      <td>Rico</td>\n",
              "      <td>1.23445</td>\n",
              "      <td>Mujeres de 15 a 49 años de edad</td>\n",
              "      <td>7065.0</td>\n",
              "    </tr>\n",
              "    <tr>\n",
              "      <th>1</th>\n",
              "      <td>2019.0</td>\n",
              "      <td>000100201</td>\n",
              "      <td>000100201  3</td>\n",
              "      <td>1.0</td>\n",
              "      <td>2.0</td>\n",
              "      <td>3.0</td>\n",
              "      <td>1.0</td>\n",
              "      <td>2019.0</td>\n",
              "      <td>1434.0</td>\n",
              "      <td>1.0</td>\n",
              "      <td>...</td>\n",
              "      <td>No</td>\n",
              "      <td>No</td>\n",
              "      <td>No</td>\n",
              "      <td>010101</td>\n",
              "      <td>3.0</td>\n",
              "      <td>154803.0</td>\n",
              "      <td>Rico</td>\n",
              "      <td>1.23445</td>\n",
              "      <td>Mujeres de 12 a 14 de edad, nunca embarazadas</td>\n",
              "      <td>7065.0</td>\n",
              "    </tr>\n",
              "  </tbody>\n",
              "</table>\n",
              "<p>2 rows × 105 columns</p>\n",
              "</div>\n",
              "      <button class=\"colab-df-convert\" onclick=\"convertToInteractive('df-50702129-69da-4654-83f5-4d7414480ef2')\"\n",
              "              title=\"Convert this dataframe to an interactive table.\"\n",
              "              style=\"display:none;\">\n",
              "        \n",
              "  <svg xmlns=\"http://www.w3.org/2000/svg\" height=\"24px\"viewBox=\"0 0 24 24\"\n",
              "       width=\"24px\">\n",
              "    <path d=\"M0 0h24v24H0V0z\" fill=\"none\"/>\n",
              "    <path d=\"M18.56 5.44l.94 2.06.94-2.06 2.06-.94-2.06-.94-.94-2.06-.94 2.06-2.06.94zm-11 1L8.5 8.5l.94-2.06 2.06-.94-2.06-.94L8.5 2.5l-.94 2.06-2.06.94zm10 10l.94 2.06.94-2.06 2.06-.94-2.06-.94-.94-2.06-.94 2.06-2.06.94z\"/><path d=\"M17.41 7.96l-1.37-1.37c-.4-.4-.92-.59-1.43-.59-.52 0-1.04.2-1.43.59L10.3 9.45l-7.72 7.72c-.78.78-.78 2.05 0 2.83L4 21.41c.39.39.9.59 1.41.59.51 0 1.02-.2 1.41-.59l7.78-7.78 2.81-2.81c.8-.78.8-2.07 0-2.86zM5.41 20L4 18.59l7.72-7.72 1.47 1.35L5.41 20z\"/>\n",
              "  </svg>\n",
              "      </button>\n",
              "      \n",
              "  <style>\n",
              "    .colab-df-container {\n",
              "      display:flex;\n",
              "      flex-wrap:wrap;\n",
              "      gap: 12px;\n",
              "    }\n",
              "\n",
              "    .colab-df-convert {\n",
              "      background-color: #E8F0FE;\n",
              "      border: none;\n",
              "      border-radius: 50%;\n",
              "      cursor: pointer;\n",
              "      display: none;\n",
              "      fill: #1967D2;\n",
              "      height: 32px;\n",
              "      padding: 0 0 0 0;\n",
              "      width: 32px;\n",
              "    }\n",
              "\n",
              "    .colab-df-convert:hover {\n",
              "      background-color: #E2EBFA;\n",
              "      box-shadow: 0px 1px 2px rgba(60, 64, 67, 0.3), 0px 1px 3px 1px rgba(60, 64, 67, 0.15);\n",
              "      fill: #174EA6;\n",
              "    }\n",
              "\n",
              "    [theme=dark] .colab-df-convert {\n",
              "      background-color: #3B4455;\n",
              "      fill: #D2E3FC;\n",
              "    }\n",
              "\n",
              "    [theme=dark] .colab-df-convert:hover {\n",
              "      background-color: #434B5C;\n",
              "      box-shadow: 0px 1px 3px 1px rgba(0, 0, 0, 0.15);\n",
              "      filter: drop-shadow(0px 1px 2px rgba(0, 0, 0, 0.3));\n",
              "      fill: #FFFFFF;\n",
              "    }\n",
              "  </style>\n",
              "\n",
              "      <script>\n",
              "        const buttonEl =\n",
              "          document.querySelector('#df-50702129-69da-4654-83f5-4d7414480ef2 button.colab-df-convert');\n",
              "        buttonEl.style.display =\n",
              "          google.colab.kernel.accessAllowed ? 'block' : 'none';\n",
              "\n",
              "        async function convertToInteractive(key) {\n",
              "          const element = document.querySelector('#df-50702129-69da-4654-83f5-4d7414480ef2');\n",
              "          const dataTable =\n",
              "            await google.colab.kernel.invokeFunction('convertToInteractive',\n",
              "                                                     [key], {});\n",
              "          if (!dataTable) return;\n",
              "\n",
              "          const docLinkHtml = 'Like what you see? Visit the ' +\n",
              "            '<a target=\"_blank\" href=https://colab.research.google.com/notebooks/data_table.ipynb>data table notebook</a>'\n",
              "            + ' to learn more about interactive tables.';\n",
              "          element.innerHTML = '';\n",
              "          dataTable['output_type'] = 'display_data';\n",
              "          await google.colab.output.renderOutput(dataTable, element);\n",
              "          const docLink = document.createElement('div');\n",
              "          docLink.innerHTML = docLinkHtml;\n",
              "          element.appendChild(docLink);\n",
              "        }\n",
              "      </script>\n",
              "    </div>\n",
              "  </div>\n",
              "  "
            ]
          },
          "metadata": {},
          "execution_count": 12
        }
      ]
    },
    {
      "cell_type": "code",
      "execution_count": null,
      "metadata": {
        "id": "-olp16qE-gN9"
      },
      "outputs": [],
      "source": [
        "#Asginamos los directorios en donde se encuentran las bases a los siguientes elementos para simplificar el código posterior\n",
        "link_1 = \"/content/drive/MyDrive/DIPLOMADO_PUCP/Fundamentos_Python/endes/2019/REC0111.sav\"\n",
        "link_2 = \"/content/drive/MyDrive/DIPLOMADO_PUCP/Fundamentos_Python/endes/2019/RE223132.sav\"\n",
        "link_3 = \"/content/drive/MyDrive/DIPLOMADO_PUCP/Fundamentos_Python/endes/2019/RE516171.sav\"\n",
        "\n",
        "#obtenemos las etiquetas de los valores y de las variables desde el sav file\n",
        "with sav.SavHeaderReader( link_1, \n",
        "                         ioUtf8=True) as header:\n",
        "    metadata1 = header.all()\n",
        "    value_labels1 = metadata1.valueLabels\n",
        "    var_labels1 = metadata1.varLabels\n",
        "\n",
        "#el código relativo a la segunda base\n",
        "with sav.SavHeaderReader(link_2,\n",
        "                         ioUtf8=True) as header:\n",
        "    metadata2 = header.all()\n",
        "    value_labels2 = metadata2.valueLabels\n",
        "    var_labels2 = metadata2.varLabels\n",
        "    \n",
        "#el código relativo a la tercera base\n",
        "with sav.SavHeaderReader(link_3,\n",
        "                         ioUtf8=True) as header:\n",
        "    metadata3 = header.all()\n",
        "    value_labels3 = metadata3.valueLabels\n",
        "    var_labels3 = metadata3.varLabels"
      ]
    },
    {
      "cell_type": "code",
      "source": [
        "#Ahora contamos con las etiquetas de los valores y las etiquetas de las variables en diccionarios\n",
        "print(var_labels1)\n",
        "print(value_labels1)"
      ],
      "metadata": {
        "colab": {
          "base_uri": "https://localhost:8080/"
        },
        "id": "OiRBFnDq7oVP",
        "outputId": "a7690998-75d4-4fb0-9512-506eb4a95e71"
      },
      "execution_count": null,
      "outputs": [
        {
          "output_type": "stream",
          "name": "stdout",
          "text": [
            "{'ID1': 'Año', 'HHID': 'Identificación Cuestionario del Hogar', 'CASEID': 'Identificación Cuestionario Individual', 'V001': 'Conglomerado', 'V002': 'Número de vivienda', 'V003': 'Número de línea de entrevistada', 'V004': 'Unidad de área final', 'V007': 'Año de la entrevista', 'V008': 'Fecha de la entrevista, Codificación centenaria de meses (CMC)', 'V009': 'Mes de nacimiento de la entrevistada', 'V010': 'Año de nacimiento de la entrevistada', 'V011': 'Fecha de nacimiento, Codificación centenaria de meses (CMC)', 'V012': 'Edad actual - entrevistada', 'V013': 'Edad actual por grupos de 5 años', 'V014': 'Integridad de la información para la fecha de nacimiento ', 'V015': 'Resultado entrevista individual', 'V017': 'Inicio del calendario, Codificación centenaria de mesesl CMC', 'V018': 'Columna del mes de la entrevista', 'V019': 'Duración del calendario', 'V019A': 'Número de columnas de calendario', 'V020': 'Muestra alguna vez casada', 'V021': 'Unidad de muestreo primario - conglomerado', 'V023': 'Dominio de ejemplo - Departamento', 'V024': 'Región', 'V025': 'Tipo de lugar de residencia', 'V026': 'El lugar de residencia en el que se entrevistó - De Facto', 'V027': 'Número de visitas', 'V028': 'Identificación del entrevistador', 'V029': 'Identificador del digitador', 'V030': 'Supervisor de campo', 'V031': 'Editor de campo', 'V032': 'Editor de la oficina', 'V033': 'Selección final del área de probabilidad', 'V034': 'Número de orden del esposo', 'V040': 'Altitud del conglomerado en metros', 'V042': 'Selección de hogar para hemoglobina', 'V043': 'Selección para módulo de estatus de mujeres', 'V044': 'Selección para módulo de violencia domestica', 'V000': 'Código y fase del país', 'Q105DD': 'Dia de nacimeinto de la entrevistada', 'V101': 'Región', 'V102': 'Tipo de lugar de residencia', 'V103': 'Lugar de residencia de la infancia', 'V104': 'Cuanto tiempo tiene viviendo continuamente en el lugar de residencia actual', 'V105': 'Tipo de lugar de residencia anteriormente', 'V106': 'Nivel educativo más alto', 'V107': 'Año/grado de educación más alto aprobado', 'V113': 'Fuente principal de abasteciemiento de agua potable que utilizan en su hogar para tomar o beber', 'V115': 'Tiempo para llegar a la fuente de agua', 'V116': 'Tipo de instalación sanitaria', 'V119': 'En su hogar tiene: electricidad', 'V120': 'En su hogar tiene: radio', 'V121': 'En su hogar tiene: televisión', 'V122': 'En su hogar tiene: refrigerador', 'V123': 'En su hogar tiene: bicicleta', 'V124': 'En su hogar tiene: motocicleta/motocar', 'V125': 'En su hogar tiene: coche/camión', 'V127': 'Material predominante del piso de la vivienda', 'V128': 'Material predominante de las paredes exteriores de la vivienda', 'V129': 'Material predominante del techo de la vivienda', 'V130': 'Religión', 'V131': 'Etnicidad', 'V133': 'Educación en años simples', 'V134': 'El lugar en el que se realizó la entrevista  De-facto', 'V135': 'Residente habitual o visitante', 'V136': 'Número de miembros del hogar', 'V137': 'Número de niños de 6 años de edad ', 'V138': 'Número de mujeres de 15 a 49 años de edad elegibles en el hogar ', 'V139': 'Región, residencia habitual De-jure', 'V140': 'Tipo de área de residencia De-jure', 'V141': 'Lugar de residencia De-jure', 'V149': 'Logro educativo', 'V150': 'Relación con el jefe del hogar', 'V151': 'Sexo del Jefe del Hogar', 'V152': 'Edad del jefe del hogar', 'V153': 'En su hogar tiene: teléfono', 'AWFACTT': 'Factor todas las mujeres - total', 'AWFACTU': 'Factor todas las mujeres - urbano/rural', 'AWFACTR': 'Factor todas las mujeres - regional', 'AWFACTE': 'Factor todas las mujeres - educación', 'AWFACTW': 'Factor todas las mujeres - índice de riqueza', 'V155': 'Alfabetización', 'V156': 'Alguna vez participó en un programa de alfabetización (no incluyendo la escuela primaria)', 'V157': 'Frecuencia de lectura de un periódico o revista', 'V158': 'Frecuencia de escuchar radio', 'V159': 'Frecuencia de ver televisión', 'V160': 'Baño compartido con otros hogares', 'V161': 'Tipo de combustible para cocinar', 'V166': 'Resultados de la prueba del yodo en la sal', 'V167': 'Número de viajes en los últimos 12 meses', 'V168': 'Afuera más de un mes en los últimos 12 meses', 'ML101': 'Tipo de mosquitero que utilizo para dormir última noche', 'QD333_1': 'Alguna dificultad o limitación permanente para ver, aún usando anteojos', 'QD333_2': 'Alguna dificultad o limitación permanente para oir, aún usando audífonos', 'QD333_3': 'Alguna dificultad o limitación permanente para hablar o comunicarse, aún usando la lengua de señas u otro', 'QD333_4': 'Alguna dificultad o limitación permanente para moverse o caminar para usar brazos y/o piernas', 'QD333_5': 'Alguna dificultad o limitación permanente para entender o aprender (concentrarse y recordarse)', 'QD333_6': 'Alguna dificultad o limitación permanente para relacionarse con los demás, por sus pensamientos, sentimientos, emociones o conductas', 'UBIGEO': 'Código de Ubicación Gegráfica', 'V022': 'Estratos', 'V005': 'Factor de ponderacion', 'V190': 'Índice de riqueza', 'V191': 'Factor de puntuación del índice de riqueza (5 decimales)', 'mujeres12a49': 'Mujeres de 12 a 49 años de edad', 'NCONGLOME': 'Número de Conglomerado (proveniente del marco)'}\n",
            "{'V013': {0.0: 'De 12 a 14 años de edad', 1.0: 'De 15 a 19 años de edad', 2.0: 'De 20 a 24 años de edad', 3.0: 'De 25 a 29 años de edad', 4.0: 'De 30 a 34 años de edad', 5.0: 'De 35 a 39 años de edad', 6.0: 'De 40 a 44 años de edad', 7.0: 'De 45 a 49 años de edad'}, 'V014': {1.0: 'Mes y año', 2.0: 'Mes y edad - año imputado', 3.0: 'Año y edad - mes imputado', 4.0: 'Año y edad - año ignorado supera el año de entrevista', 5.0: 'Año - edad y mes imputados', 6.0: 'Edad - año y mes imputados', 7.0: 'Mes - edad y año imputados', 8.0: 'Ninguno - edad, mes y año imputados'}, 'V015': {1.0: 'Completa', 2.0: 'Ausente', 3.0: 'Aplazada', 4.0: 'Rechazada', 5.0: 'Incoompleta', 6.0: 'Discapacitada', 7.0: 'Otra'}, 'V018': {0.0: 'Sin calendario'}, 'V019': {0.0: 'Sin calendario'}, 'V020': {0.0: 'Toda la mujer muestra', 1.0: 'Alguna muestra casada'}, 'V023': {1.0: 'Amazonas', 2.0: 'Ancash', 3.0: 'Apurimac', 4.0: 'Arequipa', 5.0: 'Ayacucho', 6.0: 'Cajamarca', 7.0: 'Callao', 8.0: 'Cusco', 9.0: 'Huancavelica', 10.0: ' Huanuco', 11.0: ' Ica', 12.0: ' Junin', 13.0: ' La Libertad', 14.0: ' Lambayeque', 15.0: ' Lima', 16.0: ' Loreto', 17.0: ' Madre de Dios', 18.0: ' Moquegua', 19.0: ' Pasco', 20.0: ' Piura', 21.0: ' Puno', 22.0: ' San Martin', 23.0: ' Tacna', 24.0: ' Tumbes', 25.0: ' Ucayali'}, 'V024': {1.0: 'Amazonas', 2.0: 'Ancash', 3.0: 'Apurimac', 4.0: 'Arequipa', 5.0: 'Ayacucho', 6.0: 'Cajamarca', 7.0: 'Callao', 8.0: 'Cusco', 9.0: 'Huancavelica', 10.0: ' Huanuco', 11.0: ' Ica', 12.0: ' Junin', 13.0: ' La Libertad', 14.0: ' Lambayeque', 15.0: ' Lima', 16.0: ' Loreto', 17.0: ' Madre de Dios', 18.0: ' Moquegua', 19.0: ' Pasco', 20.0: ' Piura', 21.0: ' Puno', 22.0: ' San Martin', 23.0: ' Tacna', 24.0: ' Tumbes', 25.0: ' Ucayali'}, 'V025': {1.0: 'Urbano', 2.0: 'Rural'}, 'V026': {0.0: 'Capital, gran ciudad', 1.0: 'Pequeña ciudad', 2.0: 'Pueblo', 3.0: 'Campo'}, 'V034': {0.0: 'El esposo no está en el hogar'}, 'V042': {0.0: 'No sabeleccionado', 1.0: 'Seleccionado'}, 'V043': {0.0: 'Mujer No sabeleccionada', 1.0: 'Mujer seleccionada'}, 'V044': {0.0: 'Mujer No sabeleccionada', 1.0: 'Mujer seleccionada y entrevistada', 2.0: 'Mujer seleccionada, pero la privacidad no es posible', 3.0: 'Mujer seleccionada, pero no entrevistada'}, 'Q105DD': {31.0: '1', 98.0: 'No sabe el dia'}, 'V101': {1.0: 'Amazonas', 2.0: 'Ancash', 3.0: 'Apurimac', 4.0: 'Arequipa', 5.0: 'Ayacucho', 6.0: 'Cajamarca', 7.0: 'Callao', 8.0: 'Cusco', 9.0: 'Huancavelica', 10.0: 'Huanuco', 11.0: 'Ica', 12.0: 'Junin', 13.0: 'La Libertad', 14.0: 'Lambayeque', 15.0: 'Lima', 16.0: 'Loreto', 17.0: 'Madre de Dios', 18.0: 'Moquegua', 19.0: 'Pasco', 20.0: 'Piura', 21.0: 'Puno', 22.0: 'San Martin', 23.0: 'Tacna', 24.0: 'Tumbes', 25.0: 'Ucayali'}, 'V102': {1.0: 'Urbano', 2.0: 'Rural'}, 'V103': {0.0: 'Capital, gran ciudad', 1.0: 'Ciudad', 2.0: 'Pueblo', 3.0: 'Campo', 4.0: 'En el extranjero'}, 'V104': {95.0: 'Siempre', 96.0: 'Visitante', 97.0: 'Inconsistente', 98.0: 'No sabe'}, 'V105': {0.0: 'Capital, gran ciudad', 1.0: 'Ciudad', 2.0: 'Pueblo', 3.0: 'Campo', 4.0: 'En el extranjero'}, 'V106': {0.0: 'Sin educación', 1.0: 'Primario', 2.0: 'Secundario', 3.0: 'Mayor'}, 'V113': {11.0: 'Dentro de la vivienda', 12.0: 'Fuera de la vivienda, pero dentro del edificio', 13.0: 'Pilón/Grifo público', 21.0: 'Pozo en la casa/patio/lote', 22.0: 'Pozo Público', 41.0: 'Manantial (puquio)', 43.0: 'Río/Acequia/Laguna', 51.0: 'Agua de lluvia', 61.0: 'Camión tanque/Aguatero', 71.0: 'Agua embotellada', 96.0: 'Otro', 97.0: 'No es residente habitual'}, 'V115': {996.0: 'En los lugares', 997.0: 'No residente de jure'}, 'V116': {11.0: 'Vivienda interior', 12.0: 'Vivienda exterior', 21.0: 'Letrina ventilada', 22.0: 'Pozo séptico', 23.0: 'Latrina (ciego o negro)', 24.0: 'Latrina sobre el río/lago', 31.0: 'Río, canal', 32.0: 'Sin servicio', 96.0: 'Otro', 97.0: 'No es residente habitual'}, 'V119': {0.0: 'No', 1.0: 'Si', 7.0: 'No es residente habitual'}, 'V120': {0.0: 'No', 1.0: 'Si', 7.0: 'No es residente habitual'}, 'V121': {0.0: 'No', 1.0: 'Si', 7.0: 'No es residente habitual'}, 'V122': {0.0: 'No', 1.0: 'Si', 7.0: 'No es residente habitual'}, 'V123': {0.0: 'No', 1.0: 'Si', 7.0: 'No es residente habitual'}, 'V124': {0.0: 'No', 1.0: 'Si', 7.0: 'No es residente habitual'}, 'V125': {0.0: 'No', 1.0: 'Si', 7.0: 'No es residente habitual'}, 'V127': {11.0: 'Tierra/arena', 21.0: 'Madera (entablados)', 31.0: 'Parquet o madera pulida', 32.0: 'Làminas asfálticas, vinílicos o similares', 33.0: 'Losetas, terrazos o similares', 34.0: 'Cemento/ladrillo', 96.0: 'Pona', 97.0: 'Otro(pona)'}, 'V128': {11.0: 'Tablones/madera', 12.0: 'Estera', 13.0: 'Caña/bambu/pona/palma/troncos/tabique', 21.0: 'Adobe o tapia tarrajeados', 22.0: 'Quincha (caña con barro)', 23.0: 'Piedra con barro', 24.0: 'Cartón', 31.0: 'Ladrillo o /Bloques de cemento', 32.0: 'Piedra o sillar con cal o cemento', 33.0: 'Tripley', 41.0: 'Sin paredes', 96.0: 'Otro', 97.0: 'No es residente habitual'}, 'V129': {11.0: 'Paja, hojas de palmera etc.', 12.0: 'Estera', 21.0: 'Caña o estera con torta de barro ', 22.0: 'Cartón', 31.0: 'Concreto armado', 32.0: 'Madera ', 33.0: 'Tejas', 34.0: 'Plancha de calamina, fibra de cemento o similares ', 41.0: 'Sin techo', 96.0: 'Otro', 97.0: 'No es residente habitual'}, 'V130': {96.0: 'Otra'}, 'V131': {1.0: 'Quechua', 2.0: 'Aimara', 3.0: 'Ashaninka', 4.0: 'Awajún/Aguaruna', 5.0: 'Shipibo/Konibo', 6.0: 'Shawi/Chayahuita', 7.0: 'Matsigenka/ Machiguenga', 8.0: 'Achuar', 9.0: 'Otra lengua nativa u originaria', 10.0: 'Castellano', 11.0: 'Portugués', 12.0: 'Otra lengua extranjera'}, 'V133': {97.0: 'Inconsistente'}, 'V134': {0.0: 'Capital, ciudad grande', 1.0: 'Ciudad pequeña', 2.0: 'Pueblo', 3.0: 'Campo'}, 'V135': {1.0: 'Residente habitual', 2.0: 'Visitante'}, 'V139': {0.0: 'En el extranjero', 1.0: 'Amazonas', 2.0: 'Ancash', 3.0: 'Apurimac', 4.0: 'Arequipa', 5.0: 'Ayacucho', 6.0: 'Cajamarca', 7.0: 'Callao', 8.0: 'Cusco', 9.0: 'Huancavelica', 10.0: 'Huanuco', 11.0: 'Ica', 12.0: 'Junin', 13.0: 'La Libertad', 14.0: 'Lambayeque', 15.0: 'Lima', 16.0: 'Loreto', 17.0: 'Madre de Dios', 18.0: 'Moquegua', 19.0: 'Pasco', 20.0: 'Piura', 21.0: 'Puno', 22.0: 'San Martin', 23.0: 'Tacna', 24.0: 'Tumbes', 25.0: 'Ucayali', 97.0: 'No es residente habitual'}, 'V140': {1.0: 'Área urbana', 2.0: 'Área rural', 7.0: 'No es residente habitual'}, 'V141': {0.0: 'Capital, ciudad grande', 1.0: 'Ciudad pequeña', 2.0: 'Pueblo', 3.0: 'Campo', 7.0: 'No es residente habitual'}, 'V149': {0.0: 'Sin educación', 1.0: 'Primaria incompleta', 2.0: 'Primaria completa', 3.0: 'Secundaria incompleta', 4.0: 'Secundaria completa', 5.0: 'Superior'}, 'V150': {1.0: 'Jefe del hogar', 2.0: 'Esposa/esposo', 3.0: 'Hijo/Hija', 4.0: 'Yerno/Nuera ', 5.0: 'Nieto/Nieta', 6.0: 'Padre/Madre', 7.0: 'Suegro/Suegra', 8.0: 'Hermano/a', 9.0: 'Conviviente', 10.0: 'Otro pariente', 11.0: 'Hijo adoptado/hijo de crianza', 12.0: 'Sin parentesco', 15.0: 'Empleada domésdtica', 98.0: 'No sabe'}, 'V151': {1.0: 'Hombre', 2.0: 'Mujer'}, 'V152': {97.0: '97+', 98.0: 'NS'}, 'V153': {0.0: 'No', 1.0: 'Si', 7.0: 'No es residente habitual'}, 'V155': {0.0: 'No puede leer', 1.0: 'Puede leer sólo parte de la frase', 2.0: 'Puede leer la frase ', 3.0: 'No hay tarjeta en el idioma requerido', 4.0: 'Ciega/problemas visuales'}, 'V156': {0.0: 'No', 1.0: 'Si'}, 'V157': {0.0: 'Nunca', 1.0: 'De vez en cuando', 2.0: 'Una vez por semana', 3.0: 'Casi todos los días'}, 'V158': {0.0: 'Nunca', 1.0: 'De vez en cuando', 2.0: 'Una vez por semana', 3.0: 'Casi todos los días'}, 'V159': {0.0: 'Nunca', 1.0: 'De vez en cuando', 2.0: 'Una vez por semana', 3.0: 'Casi todos los días'}, 'V160': {0.0: 'No', 1.0: 'Si', 7.0: 'No es residente habitual'}, 'V161': {1.0: 'Electricidad', 2.0: 'Gas Licuado (GLP)', 3.0: 'Gas natural(Tuberia)', 5.0: 'Kerosene', 6.0: 'Carbón mineral', 7.0: 'Carbon vegetal', 8.0: 'Leña', 9.0: 'Cañas/Arbustos (secos)', 10.0: 'Residuos agricolas', 11.0: 'Bosta', 95.0: 'No cocina', 96.0: 'Otro', 97.0: 'No es residente habitual'}, 'V166': {0.0: 'Sin coloración  - 0 ppm (sin yodo)', 7.0: 'Coloración tenue - 7 ppm', 15.0: 'Coloración azul o morado - 15 ppm', 30.0: 'Coloración morado oscuro - 30 ppm a más', 994.0: 'No se pudo realizar la prueba ', 995.0: 'No hay sal en el hogar'}, 'V167': {0.0: 'Ninguno'}, 'V168': {0.0: 'No', 1.0: 'Si'}, 'ML101': {0.0: 'Sin mosquitero', 1.0: 'Solo mosquiteros tratados', 2.0: 'Ambos mosquiteros tratados y no tratados', 3.0: 'Solo mosquiteros no tratados'}, 'QD333_1': {1.0: 'Si', 2.0: 'No'}, 'QD333_2': {1.0: 'Si', 2.0: 'No'}, 'QD333_3': {1.0: 'Si', 2.0: 'No'}, 'QD333_4': {1.0: 'Si', 2.0: 'No'}, 'QD333_5': {1.0: 'Si', 2.0: 'No'}, 'QD333_6': {1.0: 'Si', 2.0: 'No'}, 'V190': {1.0: 'El más pobre', 2.0: 'Pobrer', 3.0: 'Medio', 4.0: 'Rico', 5.0: 'Más rico'}, 'mujeres12a49': {0.0: 'Mujeres de 12 a 14 de edad, nunca embarazadas', 1.0: 'Mujeres de 12 a 49 de edad, alguna vez emabrazadas', 2.0: 'Mujeres de 15 a 49 años de edad'}}\n"
          ]
        }
      ]
    },
    {
      "cell_type": "markdown",
      "metadata": {
        "id": "EOn5YKLF-gN9"
      },
      "source": [
        "#### Part 2."
      ]
    },
    {
      "cell_type": "markdown",
      "metadata": {
        "id": "LBSxV9OA-gN9"
      },
      "source": [
        "2. Select the following columns for each data set:\n",
        "|Data|Columns|\n",
        "|---|---|\n",
        "|rec1| CASEID, V000, V001, V002, V003, V004, V007, V008, V009, V010, V011, V012, V024, V102, V120, V121, V122, V123, V124, V125, V127, V133 |\n",
        "|rec2| CASEID, V201, V218, V301, V302, V323, V323A, V325A, V326, V327, V337, V359, V360, V361, V362, V363, V364, V367, V372, V372A, V375A, V376, V376A, V379, V380 |\n",
        "|rec3| CASEID, V501, V502, V503, V504, V505, V506, V507, V508, V509, V510, V511, V512, V513, V525, V613, V714, V715 |\n",
        "\n",
        "\n",
        "Additioanlly, you should update the variables and value labels objects. They must have information only for the selected columns. The new dataframes should be name as `rec1_1`, `rec2_1`, and `rec3_1`. The new varible labels objects should be named as `new_var_labels1`, `new_var_labels2`, and `new_var_labels3`. The new value labels objects should be named as `new_value_labels1`, `new_value_labels2`, and `new_value_labels3` **Hint: Use the `loc` and column names to filter, `for loop`,   and [this link](https://stackoverflow.com/questions/3420122/filter-dict-to-contain-only-certain-keys) to update the var and value dictionary.**"
      ]
    },
    {
      "cell_type": "code",
      "execution_count": null,
      "metadata": {
        "id": "Mpe5xvzN-gN-"
      },
      "outputs": [],
      "source": [
        "#Primero filtramos las bases para quedarnos solo con las columnas (variables) requeridas\n",
        "rec1_1 = rec1.loc[ : , ['CASEID', 'V000', 'V001', 'V002', 'V003', 'V004', 'V007', 'V008', 'V009', \n",
        "                        'V010', 'V011', 'V012', 'V024', 'V102', 'V120', 'V121', 'V122', 'V123',\n",
        "                        'V124', 'V125', 'V127', 'V133'] ]\n",
        "\n",
        "rec2_2 = rec2.loc[ : , ['CASEID', 'V201', 'V218', 'V301', 'V302', 'V323', 'V323A', 'V325A', 'V326', \n",
        "                        'V327', 'V337', 'V359', 'V360', 'V361', 'V362', 'V363', 'V364', 'V367', \n",
        "                        'V372', 'V372A', 'V375A', 'V376', 'V376A', 'V379', 'V380'] ]\n",
        "\n",
        "rec3_3 = rec3.loc[ : , ['CASEID', 'V501', 'V502', 'V503', 'V504', 'V505', 'V506', 'V507', 'V508', \n",
        "                        'V509', 'V510', 'V511', 'V512', 'V513', 'V525', 'V613', 'V714', 'V715'] ]"
      ]
    },
    {
      "cell_type": "code",
      "source": [
        "rec1_1.head(2) #como se observa, ahora contamos con una base REC0111 acotada a 22 columnas"
      ],
      "metadata": {
        "colab": {
          "base_uri": "https://localhost:8080/",
          "height": 185
        },
        "id": "kQ37ElSRT1Am",
        "outputId": "cfde79be-a79a-43fb-f321-f75128c8dd89"
      },
      "execution_count": null,
      "outputs": [
        {
          "output_type": "execute_result",
          "data": {
            "text/plain": [
              "               CASEID V000  V001  V002  V003  V004    V007    V008  V009  \\\n",
              "0        000100201  2  PE6   1.0   2.0   2.0   1.0  2019.0  1434.0   4.0   \n",
              "1        000100201  3  PE6   1.0   2.0   3.0   1.0  2019.0  1434.0   1.0   \n",
              "\n",
              "     V010  ...      V024    V102 V120 V121 V122 V123 V124 V125  \\\n",
              "0  1986.0  ...  Amazonas  Urbano   Si   Si   Si   No   No   No   \n",
              "1  2007.0  ...  Amazonas  Urbano   Si   Si   Si   No   No   No   \n",
              "\n",
              "                            V127  V133  \n",
              "0  Losetas, terrazos o similares  16.0  \n",
              "1  Losetas, terrazos o similares   6.0  \n",
              "\n",
              "[2 rows x 22 columns]"
            ],
            "text/html": [
              "\n",
              "  <div id=\"df-c33bb7e1-8967-46af-830d-627c202441a6\">\n",
              "    <div class=\"colab-df-container\">\n",
              "      <div>\n",
              "<style scoped>\n",
              "    .dataframe tbody tr th:only-of-type {\n",
              "        vertical-align: middle;\n",
              "    }\n",
              "\n",
              "    .dataframe tbody tr th {\n",
              "        vertical-align: top;\n",
              "    }\n",
              "\n",
              "    .dataframe thead th {\n",
              "        text-align: right;\n",
              "    }\n",
              "</style>\n",
              "<table border=\"1\" class=\"dataframe\">\n",
              "  <thead>\n",
              "    <tr style=\"text-align: right;\">\n",
              "      <th></th>\n",
              "      <th>CASEID</th>\n",
              "      <th>V000</th>\n",
              "      <th>V001</th>\n",
              "      <th>V002</th>\n",
              "      <th>V003</th>\n",
              "      <th>V004</th>\n",
              "      <th>V007</th>\n",
              "      <th>V008</th>\n",
              "      <th>V009</th>\n",
              "      <th>V010</th>\n",
              "      <th>...</th>\n",
              "      <th>V024</th>\n",
              "      <th>V102</th>\n",
              "      <th>V120</th>\n",
              "      <th>V121</th>\n",
              "      <th>V122</th>\n",
              "      <th>V123</th>\n",
              "      <th>V124</th>\n",
              "      <th>V125</th>\n",
              "      <th>V127</th>\n",
              "      <th>V133</th>\n",
              "    </tr>\n",
              "  </thead>\n",
              "  <tbody>\n",
              "    <tr>\n",
              "      <th>0</th>\n",
              "      <td>000100201  2</td>\n",
              "      <td>PE6</td>\n",
              "      <td>1.0</td>\n",
              "      <td>2.0</td>\n",
              "      <td>2.0</td>\n",
              "      <td>1.0</td>\n",
              "      <td>2019.0</td>\n",
              "      <td>1434.0</td>\n",
              "      <td>4.0</td>\n",
              "      <td>1986.0</td>\n",
              "      <td>...</td>\n",
              "      <td>Amazonas</td>\n",
              "      <td>Urbano</td>\n",
              "      <td>Si</td>\n",
              "      <td>Si</td>\n",
              "      <td>Si</td>\n",
              "      <td>No</td>\n",
              "      <td>No</td>\n",
              "      <td>No</td>\n",
              "      <td>Losetas, terrazos o similares</td>\n",
              "      <td>16.0</td>\n",
              "    </tr>\n",
              "    <tr>\n",
              "      <th>1</th>\n",
              "      <td>000100201  3</td>\n",
              "      <td>PE6</td>\n",
              "      <td>1.0</td>\n",
              "      <td>2.0</td>\n",
              "      <td>3.0</td>\n",
              "      <td>1.0</td>\n",
              "      <td>2019.0</td>\n",
              "      <td>1434.0</td>\n",
              "      <td>1.0</td>\n",
              "      <td>2007.0</td>\n",
              "      <td>...</td>\n",
              "      <td>Amazonas</td>\n",
              "      <td>Urbano</td>\n",
              "      <td>Si</td>\n",
              "      <td>Si</td>\n",
              "      <td>Si</td>\n",
              "      <td>No</td>\n",
              "      <td>No</td>\n",
              "      <td>No</td>\n",
              "      <td>Losetas, terrazos o similares</td>\n",
              "      <td>6.0</td>\n",
              "    </tr>\n",
              "  </tbody>\n",
              "</table>\n",
              "<p>2 rows × 22 columns</p>\n",
              "</div>\n",
              "      <button class=\"colab-df-convert\" onclick=\"convertToInteractive('df-c33bb7e1-8967-46af-830d-627c202441a6')\"\n",
              "              title=\"Convert this dataframe to an interactive table.\"\n",
              "              style=\"display:none;\">\n",
              "        \n",
              "  <svg xmlns=\"http://www.w3.org/2000/svg\" height=\"24px\"viewBox=\"0 0 24 24\"\n",
              "       width=\"24px\">\n",
              "    <path d=\"M0 0h24v24H0V0z\" fill=\"none\"/>\n",
              "    <path d=\"M18.56 5.44l.94 2.06.94-2.06 2.06-.94-2.06-.94-.94-2.06-.94 2.06-2.06.94zm-11 1L8.5 8.5l.94-2.06 2.06-.94-2.06-.94L8.5 2.5l-.94 2.06-2.06.94zm10 10l.94 2.06.94-2.06 2.06-.94-2.06-.94-.94-2.06-.94 2.06-2.06.94z\"/><path d=\"M17.41 7.96l-1.37-1.37c-.4-.4-.92-.59-1.43-.59-.52 0-1.04.2-1.43.59L10.3 9.45l-7.72 7.72c-.78.78-.78 2.05 0 2.83L4 21.41c.39.39.9.59 1.41.59.51 0 1.02-.2 1.41-.59l7.78-7.78 2.81-2.81c.8-.78.8-2.07 0-2.86zM5.41 20L4 18.59l7.72-7.72 1.47 1.35L5.41 20z\"/>\n",
              "  </svg>\n",
              "      </button>\n",
              "      \n",
              "  <style>\n",
              "    .colab-df-container {\n",
              "      display:flex;\n",
              "      flex-wrap:wrap;\n",
              "      gap: 12px;\n",
              "    }\n",
              "\n",
              "    .colab-df-convert {\n",
              "      background-color: #E8F0FE;\n",
              "      border: none;\n",
              "      border-radius: 50%;\n",
              "      cursor: pointer;\n",
              "      display: none;\n",
              "      fill: #1967D2;\n",
              "      height: 32px;\n",
              "      padding: 0 0 0 0;\n",
              "      width: 32px;\n",
              "    }\n",
              "\n",
              "    .colab-df-convert:hover {\n",
              "      background-color: #E2EBFA;\n",
              "      box-shadow: 0px 1px 2px rgba(60, 64, 67, 0.3), 0px 1px 3px 1px rgba(60, 64, 67, 0.15);\n",
              "      fill: #174EA6;\n",
              "    }\n",
              "\n",
              "    [theme=dark] .colab-df-convert {\n",
              "      background-color: #3B4455;\n",
              "      fill: #D2E3FC;\n",
              "    }\n",
              "\n",
              "    [theme=dark] .colab-df-convert:hover {\n",
              "      background-color: #434B5C;\n",
              "      box-shadow: 0px 1px 3px 1px rgba(0, 0, 0, 0.15);\n",
              "      filter: drop-shadow(0px 1px 2px rgba(0, 0, 0, 0.3));\n",
              "      fill: #FFFFFF;\n",
              "    }\n",
              "  </style>\n",
              "\n",
              "      <script>\n",
              "        const buttonEl =\n",
              "          document.querySelector('#df-c33bb7e1-8967-46af-830d-627c202441a6 button.colab-df-convert');\n",
              "        buttonEl.style.display =\n",
              "          google.colab.kernel.accessAllowed ? 'block' : 'none';\n",
              "\n",
              "        async function convertToInteractive(key) {\n",
              "          const element = document.querySelector('#df-c33bb7e1-8967-46af-830d-627c202441a6');\n",
              "          const dataTable =\n",
              "            await google.colab.kernel.invokeFunction('convertToInteractive',\n",
              "                                                     [key], {});\n",
              "          if (!dataTable) return;\n",
              "\n",
              "          const docLinkHtml = 'Like what you see? Visit the ' +\n",
              "            '<a target=\"_blank\" href=https://colab.research.google.com/notebooks/data_table.ipynb>data table notebook</a>'\n",
              "            + ' to learn more about interactive tables.';\n",
              "          element.innerHTML = '';\n",
              "          dataTable['output_type'] = 'display_data';\n",
              "          await google.colab.output.renderOutput(dataTable, element);\n",
              "          const docLink = document.createElement('div');\n",
              "          docLink.innerHTML = docLinkHtml;\n",
              "          element.appendChild(docLink);\n",
              "        }\n",
              "      </script>\n",
              "    </div>\n",
              "  </div>\n",
              "  "
            ]
          },
          "metadata": {},
          "execution_count": 19
        }
      ]
    },
    {
      "cell_type": "code",
      "source": [
        "rec1_1.columns.values\n",
        "#ahora nos concentraremos en actualizar las etiquetas de variables y valores"
      ],
      "metadata": {
        "colab": {
          "base_uri": "https://localhost:8080/"
        },
        "id": "tLSe1YvR-tkO",
        "outputId": "3bb2fb89-cb37-497d-e37d-6a29b794708c"
      },
      "execution_count": null,
      "outputs": [
        {
          "output_type": "execute_result",
          "data": {
            "text/plain": [
              "array(['CASEID', 'V000', 'V001', 'V002', 'V003', 'V004', 'V007', 'V008',\n",
              "       'V009', 'V010', 'V011', 'V012', 'V024', 'V102', 'V120', 'V121',\n",
              "       'V122', 'V123', 'V124', 'V125', 'V127', 'V133'], dtype=object)"
            ]
          },
          "metadata": {},
          "execution_count": 20
        }
      ]
    },
    {
      "cell_type": "code",
      "execution_count": null,
      "metadata": {
        "tags": [],
        "id": "Pz5wit4M-gN-"
      },
      "outputs": [],
      "source": [
        "#empleamos un array con el nombre de las variables como llave (key) en cada base\n",
        "#estamos interesados en quedarnos con las etiquetas de variables y de valores que sean relativas a las columnas de la base acotada\n",
        "#Por ello generamos nuevos diccionarios para las etiquetas, estos cumplen la condición de que sus llaves forman parte del array de strings: new_keys1, new_keys2 y new_keys3 (según corresponda)\n",
        "new_keys1 = rec1_1.columns.values\n",
        "new_value_labels1 = { key:value for ( key, value ) in value_labels1.items() if key in new_keys1 }\n",
        "new_var_labels1 = { key:value for ( key, value ) in var_labels1.items() if key in new_keys1 }\n",
        "\n",
        "new_keys2 = rec2_2.columns.values\n",
        "new_value_labels2 = { key:value for ( key, value ) in value_labels2.items() if key in new_keys2 }\n",
        "new_var_labels2 = { key:value for ( key, value ) in var_labels2.items() if key in new_keys2 }\n",
        "\n",
        "new_keys3 = rec3_3.columns.values\n",
        "new_value_labels3 = { key:value for ( key, value ) in value_labels3.items() if key in new_keys3 }\n",
        "new_var_labels3 = { key:value for ( key, value ) in var_labels3.items() if key in new_keys3 }"
      ]
    },
    {
      "cell_type": "markdown",
      "metadata": {
        "id": "lOeKkg02-gN-"
      },
      "source": [
        "#### Part 3."
      ]
    },
    {
      "cell_type": "markdown",
      "source": [
        "3. Generate a new column for `rec1_1` named as `year`. It should be equal to `2019`. Also, you must update this new variable for the `var_labels` dictionary. Generate a new key for `new_var_labels1` and the value for this key should be **\"Year of the survey\"** **Hint: Use `loc` and `update` method.**"
      ],
      "metadata": {
        "id": "XkdNpKH-Adrd"
      }
    },
    {
      "cell_type": "code",
      "execution_count": null,
      "metadata": {
        "jupyter": {
          "outputs_hidden": true
        },
        "tags": [],
        "id": "LZ-WPhOO-gN_",
        "outputId": "310236df-6c45-4b45-a28b-6c3d4f0125a3",
        "colab": {
          "base_uri": "https://localhost:8080/",
          "height": 641
        }
      },
      "outputs": [
        {
          "output_type": "execute_result",
          "data": {
            "text/plain": [
              "                   CASEID V000    V001  V002  V003    V004    V007    V008  \\\n",
              "0            000100201  2  PE6     1.0   2.0   2.0     1.0  2019.0  1434.0   \n",
              "1            000100201  3  PE6     1.0   2.0   3.0     1.0  2019.0  1434.0   \n",
              "2            000102801  2  PE6     1.0  28.0   2.0     1.0  2019.0  1434.0   \n",
              "3            000102801  6  PE6     1.0  28.0   6.0     1.0  2019.0  1434.0   \n",
              "4            000104801  2  PE6     1.0  48.0   2.0     1.0  2019.0  1434.0   \n",
              "...                   ...  ...     ...   ...   ...     ...     ...     ...   \n",
              "38330        325406201  2  PE6  3254.0  62.0   2.0  3254.0  2019.0  1440.0   \n",
              "38331        325406301  2  PE6  3254.0  63.0   2.0  3254.0  2019.0  1440.0   \n",
              "38332        325407001  2  PE6  3254.0  70.0   2.0  3254.0  2019.0  1440.0   \n",
              "38333        325407201  2  PE6  3254.0  72.0   2.0  3254.0  2019.0  1440.0   \n",
              "38334        325407401  2  PE6  3254.0  74.0   2.0  3254.0  2019.0  1440.0   \n",
              "\n",
              "       V009    V010  ...    V102  V120 V121 V122 V123 V124 V125  \\\n",
              "0       4.0  1986.0  ...  Urbano    Si   Si   Si   No   No   No   \n",
              "1       1.0  2007.0  ...  Urbano    Si   Si   Si   No   No   No   \n",
              "2       6.0  1983.0  ...  Urbano    Si   Si   Si   Si   Si   Si   \n",
              "3       3.0  1970.0  ...  Urbano    Si   Si   Si   Si   Si   Si   \n",
              "4       5.0  1991.0  ...  Urbano    No   No   No   No   No   No   \n",
              "...     ...     ...  ...     ...   ...  ...  ...  ...  ...  ...   \n",
              "38330  12.0  1971.0  ...   Rural    No   No   No   No   No   No   \n",
              "38331   6.0  1988.0  ...   Rural    No   No   No   No   No   No   \n",
              "38332   7.0  1973.0  ...   Rural    No   No   No   No   No   No   \n",
              "38333  12.0  1994.0  ...   Rural    No   No   No   No   No   No   \n",
              "38334  10.0  1996.0  ...   Rural    No   No   No   No   No   No   \n",
              "\n",
              "                                V127  V133  year  \n",
              "0      Losetas, terrazos o similares  16.0  2019  \n",
              "1      Losetas, terrazos o similares   6.0  2019  \n",
              "2      Losetas, terrazos o similares  16.0  2019  \n",
              "3      Losetas, terrazos o similares   4.0  2019  \n",
              "4                   Cemento/ladrillo   1.0  2019  \n",
              "...                              ...   ...   ...  \n",
              "38330                           Pona   4.0  2019  \n",
              "38331                           Pona   6.0  2019  \n",
              "38332                           Pona   3.0  2019  \n",
              "38333                           Pona   9.0  2019  \n",
              "38334                           Pona   9.0  2019  \n",
              "\n",
              "[38335 rows x 23 columns]"
            ],
            "text/html": [
              "\n",
              "  <div id=\"df-a44af5ca-fc9f-4d6d-b49c-ea52f5f2dd08\">\n",
              "    <div class=\"colab-df-container\">\n",
              "      <div>\n",
              "<style scoped>\n",
              "    .dataframe tbody tr th:only-of-type {\n",
              "        vertical-align: middle;\n",
              "    }\n",
              "\n",
              "    .dataframe tbody tr th {\n",
              "        vertical-align: top;\n",
              "    }\n",
              "\n",
              "    .dataframe thead th {\n",
              "        text-align: right;\n",
              "    }\n",
              "</style>\n",
              "<table border=\"1\" class=\"dataframe\">\n",
              "  <thead>\n",
              "    <tr style=\"text-align: right;\">\n",
              "      <th></th>\n",
              "      <th>CASEID</th>\n",
              "      <th>V000</th>\n",
              "      <th>V001</th>\n",
              "      <th>V002</th>\n",
              "      <th>V003</th>\n",
              "      <th>V004</th>\n",
              "      <th>V007</th>\n",
              "      <th>V008</th>\n",
              "      <th>V009</th>\n",
              "      <th>V010</th>\n",
              "      <th>...</th>\n",
              "      <th>V102</th>\n",
              "      <th>V120</th>\n",
              "      <th>V121</th>\n",
              "      <th>V122</th>\n",
              "      <th>V123</th>\n",
              "      <th>V124</th>\n",
              "      <th>V125</th>\n",
              "      <th>V127</th>\n",
              "      <th>V133</th>\n",
              "      <th>year</th>\n",
              "    </tr>\n",
              "  </thead>\n",
              "  <tbody>\n",
              "    <tr>\n",
              "      <th>0</th>\n",
              "      <td>000100201  2</td>\n",
              "      <td>PE6</td>\n",
              "      <td>1.0</td>\n",
              "      <td>2.0</td>\n",
              "      <td>2.0</td>\n",
              "      <td>1.0</td>\n",
              "      <td>2019.0</td>\n",
              "      <td>1434.0</td>\n",
              "      <td>4.0</td>\n",
              "      <td>1986.0</td>\n",
              "      <td>...</td>\n",
              "      <td>Urbano</td>\n",
              "      <td>Si</td>\n",
              "      <td>Si</td>\n",
              "      <td>Si</td>\n",
              "      <td>No</td>\n",
              "      <td>No</td>\n",
              "      <td>No</td>\n",
              "      <td>Losetas, terrazos o similares</td>\n",
              "      <td>16.0</td>\n",
              "      <td>2019</td>\n",
              "    </tr>\n",
              "    <tr>\n",
              "      <th>1</th>\n",
              "      <td>000100201  3</td>\n",
              "      <td>PE6</td>\n",
              "      <td>1.0</td>\n",
              "      <td>2.0</td>\n",
              "      <td>3.0</td>\n",
              "      <td>1.0</td>\n",
              "      <td>2019.0</td>\n",
              "      <td>1434.0</td>\n",
              "      <td>1.0</td>\n",
              "      <td>2007.0</td>\n",
              "      <td>...</td>\n",
              "      <td>Urbano</td>\n",
              "      <td>Si</td>\n",
              "      <td>Si</td>\n",
              "      <td>Si</td>\n",
              "      <td>No</td>\n",
              "      <td>No</td>\n",
              "      <td>No</td>\n",
              "      <td>Losetas, terrazos o similares</td>\n",
              "      <td>6.0</td>\n",
              "      <td>2019</td>\n",
              "    </tr>\n",
              "    <tr>\n",
              "      <th>2</th>\n",
              "      <td>000102801  2</td>\n",
              "      <td>PE6</td>\n",
              "      <td>1.0</td>\n",
              "      <td>28.0</td>\n",
              "      <td>2.0</td>\n",
              "      <td>1.0</td>\n",
              "      <td>2019.0</td>\n",
              "      <td>1434.0</td>\n",
              "      <td>6.0</td>\n",
              "      <td>1983.0</td>\n",
              "      <td>...</td>\n",
              "      <td>Urbano</td>\n",
              "      <td>Si</td>\n",
              "      <td>Si</td>\n",
              "      <td>Si</td>\n",
              "      <td>Si</td>\n",
              "      <td>Si</td>\n",
              "      <td>Si</td>\n",
              "      <td>Losetas, terrazos o similares</td>\n",
              "      <td>16.0</td>\n",
              "      <td>2019</td>\n",
              "    </tr>\n",
              "    <tr>\n",
              "      <th>3</th>\n",
              "      <td>000102801  6</td>\n",
              "      <td>PE6</td>\n",
              "      <td>1.0</td>\n",
              "      <td>28.0</td>\n",
              "      <td>6.0</td>\n",
              "      <td>1.0</td>\n",
              "      <td>2019.0</td>\n",
              "      <td>1434.0</td>\n",
              "      <td>3.0</td>\n",
              "      <td>1970.0</td>\n",
              "      <td>...</td>\n",
              "      <td>Urbano</td>\n",
              "      <td>Si</td>\n",
              "      <td>Si</td>\n",
              "      <td>Si</td>\n",
              "      <td>Si</td>\n",
              "      <td>Si</td>\n",
              "      <td>Si</td>\n",
              "      <td>Losetas, terrazos o similares</td>\n",
              "      <td>4.0</td>\n",
              "      <td>2019</td>\n",
              "    </tr>\n",
              "    <tr>\n",
              "      <th>4</th>\n",
              "      <td>000104801  2</td>\n",
              "      <td>PE6</td>\n",
              "      <td>1.0</td>\n",
              "      <td>48.0</td>\n",
              "      <td>2.0</td>\n",
              "      <td>1.0</td>\n",
              "      <td>2019.0</td>\n",
              "      <td>1434.0</td>\n",
              "      <td>5.0</td>\n",
              "      <td>1991.0</td>\n",
              "      <td>...</td>\n",
              "      <td>Urbano</td>\n",
              "      <td>No</td>\n",
              "      <td>No</td>\n",
              "      <td>No</td>\n",
              "      <td>No</td>\n",
              "      <td>No</td>\n",
              "      <td>No</td>\n",
              "      <td>Cemento/ladrillo</td>\n",
              "      <td>1.0</td>\n",
              "      <td>2019</td>\n",
              "    </tr>\n",
              "    <tr>\n",
              "      <th>...</th>\n",
              "      <td>...</td>\n",
              "      <td>...</td>\n",
              "      <td>...</td>\n",
              "      <td>...</td>\n",
              "      <td>...</td>\n",
              "      <td>...</td>\n",
              "      <td>...</td>\n",
              "      <td>...</td>\n",
              "      <td>...</td>\n",
              "      <td>...</td>\n",
              "      <td>...</td>\n",
              "      <td>...</td>\n",
              "      <td>...</td>\n",
              "      <td>...</td>\n",
              "      <td>...</td>\n",
              "      <td>...</td>\n",
              "      <td>...</td>\n",
              "      <td>...</td>\n",
              "      <td>...</td>\n",
              "      <td>...</td>\n",
              "      <td>...</td>\n",
              "    </tr>\n",
              "    <tr>\n",
              "      <th>38330</th>\n",
              "      <td>325406201  2</td>\n",
              "      <td>PE6</td>\n",
              "      <td>3254.0</td>\n",
              "      <td>62.0</td>\n",
              "      <td>2.0</td>\n",
              "      <td>3254.0</td>\n",
              "      <td>2019.0</td>\n",
              "      <td>1440.0</td>\n",
              "      <td>12.0</td>\n",
              "      <td>1971.0</td>\n",
              "      <td>...</td>\n",
              "      <td>Rural</td>\n",
              "      <td>No</td>\n",
              "      <td>No</td>\n",
              "      <td>No</td>\n",
              "      <td>No</td>\n",
              "      <td>No</td>\n",
              "      <td>No</td>\n",
              "      <td>Pona</td>\n",
              "      <td>4.0</td>\n",
              "      <td>2019</td>\n",
              "    </tr>\n",
              "    <tr>\n",
              "      <th>38331</th>\n",
              "      <td>325406301  2</td>\n",
              "      <td>PE6</td>\n",
              "      <td>3254.0</td>\n",
              "      <td>63.0</td>\n",
              "      <td>2.0</td>\n",
              "      <td>3254.0</td>\n",
              "      <td>2019.0</td>\n",
              "      <td>1440.0</td>\n",
              "      <td>6.0</td>\n",
              "      <td>1988.0</td>\n",
              "      <td>...</td>\n",
              "      <td>Rural</td>\n",
              "      <td>No</td>\n",
              "      <td>No</td>\n",
              "      <td>No</td>\n",
              "      <td>No</td>\n",
              "      <td>No</td>\n",
              "      <td>No</td>\n",
              "      <td>Pona</td>\n",
              "      <td>6.0</td>\n",
              "      <td>2019</td>\n",
              "    </tr>\n",
              "    <tr>\n",
              "      <th>38332</th>\n",
              "      <td>325407001  2</td>\n",
              "      <td>PE6</td>\n",
              "      <td>3254.0</td>\n",
              "      <td>70.0</td>\n",
              "      <td>2.0</td>\n",
              "      <td>3254.0</td>\n",
              "      <td>2019.0</td>\n",
              "      <td>1440.0</td>\n",
              "      <td>7.0</td>\n",
              "      <td>1973.0</td>\n",
              "      <td>...</td>\n",
              "      <td>Rural</td>\n",
              "      <td>No</td>\n",
              "      <td>No</td>\n",
              "      <td>No</td>\n",
              "      <td>No</td>\n",
              "      <td>No</td>\n",
              "      <td>No</td>\n",
              "      <td>Pona</td>\n",
              "      <td>3.0</td>\n",
              "      <td>2019</td>\n",
              "    </tr>\n",
              "    <tr>\n",
              "      <th>38333</th>\n",
              "      <td>325407201  2</td>\n",
              "      <td>PE6</td>\n",
              "      <td>3254.0</td>\n",
              "      <td>72.0</td>\n",
              "      <td>2.0</td>\n",
              "      <td>3254.0</td>\n",
              "      <td>2019.0</td>\n",
              "      <td>1440.0</td>\n",
              "      <td>12.0</td>\n",
              "      <td>1994.0</td>\n",
              "      <td>...</td>\n",
              "      <td>Rural</td>\n",
              "      <td>No</td>\n",
              "      <td>No</td>\n",
              "      <td>No</td>\n",
              "      <td>No</td>\n",
              "      <td>No</td>\n",
              "      <td>No</td>\n",
              "      <td>Pona</td>\n",
              "      <td>9.0</td>\n",
              "      <td>2019</td>\n",
              "    </tr>\n",
              "    <tr>\n",
              "      <th>38334</th>\n",
              "      <td>325407401  2</td>\n",
              "      <td>PE6</td>\n",
              "      <td>3254.0</td>\n",
              "      <td>74.0</td>\n",
              "      <td>2.0</td>\n",
              "      <td>3254.0</td>\n",
              "      <td>2019.0</td>\n",
              "      <td>1440.0</td>\n",
              "      <td>10.0</td>\n",
              "      <td>1996.0</td>\n",
              "      <td>...</td>\n",
              "      <td>Rural</td>\n",
              "      <td>No</td>\n",
              "      <td>No</td>\n",
              "      <td>No</td>\n",
              "      <td>No</td>\n",
              "      <td>No</td>\n",
              "      <td>No</td>\n",
              "      <td>Pona</td>\n",
              "      <td>9.0</td>\n",
              "      <td>2019</td>\n",
              "    </tr>\n",
              "  </tbody>\n",
              "</table>\n",
              "<p>38335 rows × 23 columns</p>\n",
              "</div>\n",
              "      <button class=\"colab-df-convert\" onclick=\"convertToInteractive('df-a44af5ca-fc9f-4d6d-b49c-ea52f5f2dd08')\"\n",
              "              title=\"Convert this dataframe to an interactive table.\"\n",
              "              style=\"display:none;\">\n",
              "        \n",
              "  <svg xmlns=\"http://www.w3.org/2000/svg\" height=\"24px\"viewBox=\"0 0 24 24\"\n",
              "       width=\"24px\">\n",
              "    <path d=\"M0 0h24v24H0V0z\" fill=\"none\"/>\n",
              "    <path d=\"M18.56 5.44l.94 2.06.94-2.06 2.06-.94-2.06-.94-.94-2.06-.94 2.06-2.06.94zm-11 1L8.5 8.5l.94-2.06 2.06-.94-2.06-.94L8.5 2.5l-.94 2.06-2.06.94zm10 10l.94 2.06.94-2.06 2.06-.94-2.06-.94-.94-2.06-.94 2.06-2.06.94z\"/><path d=\"M17.41 7.96l-1.37-1.37c-.4-.4-.92-.59-1.43-.59-.52 0-1.04.2-1.43.59L10.3 9.45l-7.72 7.72c-.78.78-.78 2.05 0 2.83L4 21.41c.39.39.9.59 1.41.59.51 0 1.02-.2 1.41-.59l7.78-7.78 2.81-2.81c.8-.78.8-2.07 0-2.86zM5.41 20L4 18.59l7.72-7.72 1.47 1.35L5.41 20z\"/>\n",
              "  </svg>\n",
              "      </button>\n",
              "      \n",
              "  <style>\n",
              "    .colab-df-container {\n",
              "      display:flex;\n",
              "      flex-wrap:wrap;\n",
              "      gap: 12px;\n",
              "    }\n",
              "\n",
              "    .colab-df-convert {\n",
              "      background-color: #E8F0FE;\n",
              "      border: none;\n",
              "      border-radius: 50%;\n",
              "      cursor: pointer;\n",
              "      display: none;\n",
              "      fill: #1967D2;\n",
              "      height: 32px;\n",
              "      padding: 0 0 0 0;\n",
              "      width: 32px;\n",
              "    }\n",
              "\n",
              "    .colab-df-convert:hover {\n",
              "      background-color: #E2EBFA;\n",
              "      box-shadow: 0px 1px 2px rgba(60, 64, 67, 0.3), 0px 1px 3px 1px rgba(60, 64, 67, 0.15);\n",
              "      fill: #174EA6;\n",
              "    }\n",
              "\n",
              "    [theme=dark] .colab-df-convert {\n",
              "      background-color: #3B4455;\n",
              "      fill: #D2E3FC;\n",
              "    }\n",
              "\n",
              "    [theme=dark] .colab-df-convert:hover {\n",
              "      background-color: #434B5C;\n",
              "      box-shadow: 0px 1px 3px 1px rgba(0, 0, 0, 0.15);\n",
              "      filter: drop-shadow(0px 1px 2px rgba(0, 0, 0, 0.3));\n",
              "      fill: #FFFFFF;\n",
              "    }\n",
              "  </style>\n",
              "\n",
              "      <script>\n",
              "        const buttonEl =\n",
              "          document.querySelector('#df-a44af5ca-fc9f-4d6d-b49c-ea52f5f2dd08 button.colab-df-convert');\n",
              "        buttonEl.style.display =\n",
              "          google.colab.kernel.accessAllowed ? 'block' : 'none';\n",
              "\n",
              "        async function convertToInteractive(key) {\n",
              "          const element = document.querySelector('#df-a44af5ca-fc9f-4d6d-b49c-ea52f5f2dd08');\n",
              "          const dataTable =\n",
              "            await google.colab.kernel.invokeFunction('convertToInteractive',\n",
              "                                                     [key], {});\n",
              "          if (!dataTable) return;\n",
              "\n",
              "          const docLinkHtml = 'Like what you see? Visit the ' +\n",
              "            '<a target=\"_blank\" href=https://colab.research.google.com/notebooks/data_table.ipynb>data table notebook</a>'\n",
              "            + ' to learn more about interactive tables.';\n",
              "          element.innerHTML = '';\n",
              "          dataTable['output_type'] = 'display_data';\n",
              "          await google.colab.output.renderOutput(dataTable, element);\n",
              "          const docLink = document.createElement('div');\n",
              "          docLink.innerHTML = docLinkHtml;\n",
              "          element.appendChild(docLink);\n",
              "        }\n",
              "      </script>\n",
              "    </div>\n",
              "  </div>\n",
              "  "
            ]
          },
          "metadata": {},
          "execution_count": 22
        }
      ],
      "source": [
        "#generamos una nueva columna en rec1_1 con 2019 para todas las observaciones\n",
        "rec1_1.loc[ : , \"year\" ] = 2019\n",
        "rec1_1"
      ]
    },
    {
      "cell_type": "code",
      "execution_count": null,
      "metadata": {
        "jupyter": {
          "outputs_hidden": true
        },
        "tags": [],
        "id": "38B_NW2M-gN_"
      },
      "outputs": [],
      "source": [
        "#generamos una nueva llave para la variable generada y actualizamos el diccionario de nombres de variables\n",
        "new_var_labels1.update( {\"year\" : \"Year of the survey\"} )"
      ]
    },
    {
      "cell_type": "code",
      "source": [
        "new_var_labels1"
      ],
      "metadata": {
        "colab": {
          "base_uri": "https://localhost:8080/"
        },
        "id": "QQhaiqJzUSCA",
        "outputId": "def50492-bcd7-46d1-e16a-5512ae8bbf6b"
      },
      "execution_count": null,
      "outputs": [
        {
          "output_type": "execute_result",
          "data": {
            "text/plain": [
              "{'CASEID': 'Identificación Cuestionario Individual',\n",
              " 'V001': 'Conglomerado',\n",
              " 'V002': 'Número de vivienda',\n",
              " 'V003': 'Número de línea de entrevistada',\n",
              " 'V004': 'Unidad de área final',\n",
              " 'V007': 'Año de la entrevista',\n",
              " 'V008': 'Fecha de la entrevista, Codificación centenaria de meses (CMC)',\n",
              " 'V009': 'Mes de nacimiento de la entrevistada',\n",
              " 'V010': 'Año de nacimiento de la entrevistada',\n",
              " 'V011': 'Fecha de nacimiento, Codificación centenaria de meses (CMC)',\n",
              " 'V012': 'Edad actual - entrevistada',\n",
              " 'V024': 'Región',\n",
              " 'V000': 'Código y fase del país',\n",
              " 'V102': 'Tipo de lugar de residencia',\n",
              " 'V120': 'En su hogar tiene: radio',\n",
              " 'V121': 'En su hogar tiene: televisión',\n",
              " 'V122': 'En su hogar tiene: refrigerador',\n",
              " 'V123': 'En su hogar tiene: bicicleta',\n",
              " 'V124': 'En su hogar tiene: motocicleta/motocar',\n",
              " 'V125': 'En su hogar tiene: coche/camión',\n",
              " 'V127': 'Material predominante del piso de la vivienda',\n",
              " 'V133': 'Educación en años simples',\n",
              " 'year': 'Year of the survey'}"
            ]
          },
          "metadata": {},
          "execution_count": 25
        }
      ]
    },
    {
      "cell_type": "markdown",
      "metadata": {
        "id": "RLRRAcFb-gN_"
      },
      "source": [
        "#### Part 4."
      ]
    },
    {
      "cell_type": "markdown",
      "source": [
        "4. Merge `rec1_1`, `rec2_1`, and `rec3_1` using **CASEID**. Name this new object as `endes_2019`. **Hint: Use [this link](https://stackoverflow.com/questions/53645882/pandas-merging-101)**"
      ],
      "metadata": {
        "id": "dwaA0XVyBVzo"
      }
    },
    {
      "cell_type": "code",
      "execution_count": null,
      "metadata": {
        "tags": [],
        "id": "JEADqCfR-gOA"
      },
      "outputs": [],
      "source": [
        "#para unir las bases de datos generadas usamos como identificar común la variable CASEID\n",
        "endes_2019 = rec1_1.merge(rec2_2, on = \"CASEID\", how = \"inner\").merge(rec3_3, on = \"CASEID\", how = \"inner\")"
      ]
    },
    {
      "cell_type": "markdown",
      "source": [
        "#### Part 5."
      ],
      "metadata": {
        "id": "FYnI34UPV49U"
      }
    },
    {
      "cell_type": "markdown",
      "source": [
        "A continuación incluímos dos alternativas para el desarrollo de la parte 5. Serán señáladas como 5.1 y 5.2"
      ],
      "metadata": {
        "id": "IKihdcN--_8Q"
      }
    },
    {
      "cell_type": "markdown",
      "source": [
        "##### (5.1)"
      ],
      "metadata": {
        "id": "sfAtc_Q5_NeN"
      }
    },
    {
      "cell_type": "markdown",
      "source": [
        "Unify all the new_var_labels in one object and new_value_labels in another one object. Name these two objects as var_labels and value_labels. Use them to generate new attributes for endes_2019. These attributes should be named as var_labels and value_labels. Your final output should be equal to endes_2019_ta object Hint: Use update method"
      ],
      "metadata": {
        "id": "IjVf_2opWHwC"
      }
    },
    {
      "cell_type": "code",
      "source": [
        "output = urllib.request.urlopen(r'https://www.dropbox.com/s/gwcssinb1j9zr6s/endes_2019_ta.pkl?dl=1')\n",
        "endes_2019_ta = pickle.load( output )"
      ],
      "metadata": {
        "id": "Bxo6dGFQPC_8"
      },
      "execution_count": null,
      "outputs": []
    },
    {
      "cell_type": "code",
      "source": [
        "print(type(new_value_labels1))\n",
        "print(type(new_var_labels1))\n",
        "#Recordemos que tanto las etiquetas de variables como las etiquetas de valores están en un objeto tipo diccionario"
      ],
      "metadata": {
        "colab": {
          "base_uri": "https://localhost:8080/"
        },
        "id": "E_KxWzt6V8Qz",
        "outputId": "c0dd6f99-cd81-4a54-9378-3e8ba9a31f40"
      },
      "execution_count": null,
      "outputs": [
        {
          "output_type": "stream",
          "name": "stdout",
          "text": [
            "<class 'dict'>\n",
            "<class 'dict'>\n"
          ]
        }
      ]
    },
    {
      "cell_type": "code",
      "source": [
        "#generaremos una función que nos permita unir distintos diccionarios y obtener un nuevo diccionario (anidado)\n",
        "# aprovechamos la sintáxis especial con args que nos permite aceptar más argumentos que el número de argumentos formales que haya definido previamente.\n",
        "#esto es relevante dado que queremos una función que unifique un número n de diccionarios \n",
        "\n",
        "def unificar_diccionarios(*diccio_args):\n",
        "    \"\"\"\n",
        "    Dado un número de diccionarios, copiamos cada uno y los unimos en un nuevo diccionario\n",
        "    \"\"\"\n",
        "    resultado = {} #esto hace que el resultado sea un diccionario\n",
        "    for dictionary in diccio_args:\n",
        "        resultado.update(dictionary)\n",
        "    return resultado"
      ],
      "metadata": {
        "id": "XywF4qyhYNiT"
      },
      "execution_count": null,
      "outputs": []
    },
    {
      "cell_type": "code",
      "source": [
        "value_labels = unificar_diccionarios(new_value_labels1,new_value_labels2, new_value_labels3)\n",
        "value_labels"
      ],
      "metadata": {
        "colab": {
          "base_uri": "https://localhost:8080/"
        },
        "id": "NjSUWCScYk6V",
        "outputId": "a7d46f3a-c311-40bf-dd67-f8cb45dc4af0"
      },
      "execution_count": null,
      "outputs": [
        {
          "output_type": "execute_result",
          "data": {
            "text/plain": [
              "{'V024': {1.0: 'Amazonas',\n",
              "  2.0: 'Ancash',\n",
              "  3.0: 'Apurimac',\n",
              "  4.0: 'Arequipa',\n",
              "  5.0: 'Ayacucho',\n",
              "  6.0: 'Cajamarca',\n",
              "  7.0: 'Callao',\n",
              "  8.0: 'Cusco',\n",
              "  9.0: 'Huancavelica',\n",
              "  10.0: ' Huanuco',\n",
              "  11.0: ' Ica',\n",
              "  12.0: ' Junin',\n",
              "  13.0: ' La Libertad',\n",
              "  14.0: ' Lambayeque',\n",
              "  15.0: ' Lima',\n",
              "  16.0: ' Loreto',\n",
              "  17.0: ' Madre de Dios',\n",
              "  18.0: ' Moquegua',\n",
              "  19.0: ' Pasco',\n",
              "  20.0: ' Piura',\n",
              "  21.0: ' Puno',\n",
              "  22.0: ' San Martin',\n",
              "  23.0: ' Tacna',\n",
              "  24.0: ' Tumbes',\n",
              "  25.0: ' Ucayali'},\n",
              " 'V102': {1.0: 'Urbano', 2.0: 'Rural'},\n",
              " 'V120': {0.0: 'No', 1.0: 'Si', 7.0: 'No es residente habitual'},\n",
              " 'V121': {0.0: 'No', 1.0: 'Si', 7.0: 'No es residente habitual'},\n",
              " 'V122': {0.0: 'No', 1.0: 'Si', 7.0: 'No es residente habitual'},\n",
              " 'V123': {0.0: 'No', 1.0: 'Si', 7.0: 'No es residente habitual'},\n",
              " 'V124': {0.0: 'No', 1.0: 'Si', 7.0: 'No es residente habitual'},\n",
              " 'V125': {0.0: 'No', 1.0: 'Si', 7.0: 'No es residente habitual'},\n",
              " 'V127': {11.0: 'Tierra/arena',\n",
              "  21.0: 'Madera (entablados)',\n",
              "  31.0: 'Parquet o madera pulida',\n",
              "  32.0: 'Làminas asfálticas, vinílicos o similares',\n",
              "  33.0: 'Losetas, terrazos o similares',\n",
              "  34.0: 'Cemento/ladrillo',\n",
              "  96.0: 'Pona',\n",
              "  97.0: 'Otro(pona)'},\n",
              " 'V133': {97.0: 'Inconsistente'},\n",
              " 'V301': {0.0: 'No conoce ningún método',\n",
              "  1.0: 'Sabe sólo folklórico',\n",
              "  2.0: 'Sólo sabe trad. mes',\n",
              "  3.0: 'Conoce el método moderno'},\n",
              " 'V302': {0.0: 'Nunca usado',\n",
              "  1.0: 'Otros metodos',\n",
              "  2.0: 'Metodos tradicionales',\n",
              "  3.0: 'Metodos modernos'},\n",
              " 'V323': {1.0: 'Microginon',\n",
              "  2.0: 'Nordet',\n",
              "  3.0: 'Lofemenal',\n",
              "  4.0: 'Gynera',\n",
              "  5.0: 'Ciclomex',\n",
              "  6.0: 'Triciclomex',\n",
              "  7.0: 'Femiane',\n",
              "  8.0: 'Mercilon',\n",
              "  9.0: 'Marvelon',\n",
              "  10.0: 'Lindiol-e',\n",
              "  11.0: 'Dione 35',\n",
              "  12.0: 'Cilest',\n",
              "  13.0: 'Triquilar',\n",
              "  14.0: 'Trinordiol',\n",
              "  15.0: 'Minigynon',\n",
              "  16.0: 'Exluton',\n",
              "  17.0: 'Ovrette',\n",
              "  18.0: 'Ovral',\n",
              "  19.0: 'Mirelle',\n",
              "  20.0: 'Yasmin Drospyperona',\n",
              "  21.0: 'Peldura',\n",
              "  22.0: 'Anuletyc',\n",
              "  23.0: 'Rigevidon',\n",
              "  24.0: 'Oral Con-F',\n",
              "  25.0: 'Canesa',\n",
              "  26.0: 'Belara',\n",
              "  27.0: 'Tri_Regol',\n",
              "  93.0: 'Sin marca (H. FF.AA., FF.PP)',\n",
              "  94.0: 'Sin marca (ESSALUD)',\n",
              "  95.0: 'Sin marca (MINSA)',\n",
              "  96.0: 'Otro',\n",
              "  98.0: 'No sabe'},\n",
              " 'V323A': {1.0: 'OK',\n",
              "  2.0: 'Piel',\n",
              "  3.0: 'Royal',\n",
              "  4.0: 'Jontex',\n",
              "  5.0: 'Contempo',\n",
              "  6.0: 'Gens',\n",
              "  7.0: 'LifeStyle',\n",
              "  8.0: 'Sultan',\n",
              "  9.0: 'Durex',\n",
              "  10.0: 'Preventor',\n",
              "  11.0: 'Hanson plans',\n",
              "  12.0: 'Sensitive',\n",
              "  13.0: 'Play boy',\n",
              "  14.0: 'Lubritec',\n",
              "  15.0: 'Pantera',\n",
              "  16.0: 'Tex',\n",
              "  17.0: 'Seohung',\n",
              "  18.0: 'Aladan corporation',\n",
              "  19.0: 'Vladi',\n",
              "  20.0: 'Stalion',\n",
              "  21.0: 'Latex',\n",
              "  22.0: 'Pussy Cat',\n",
              "  23.0: 'Sensación',\n",
              "  24.0: 'Karex',\n",
              "  25.0: 'Do it Loverly',\n",
              "  26.0: 'Nonoxinol - 9',\n",
              "  27.0: 'Famila 28',\n",
              "  93.0: 'Sin marca (H. FF.AA., FF.PP)',\n",
              "  94.0: 'Sin marca (ESSALUD)',\n",
              "  95.0: 'Sin marca (MINSA)',\n",
              "  96.0: 'Otro',\n",
              "  98.0: 'No sabe'},\n",
              " 'V325A': {9999995.0: 'Gratis', 9999998.0: 'No sabe'},\n",
              " 'V326': {11.0: 'Hospital MINSA',\n",
              "  12.0: 'Centro de salud MINSA',\n",
              "  13.0: 'Puesto de salud MINSA',\n",
              "  14.0: 'Promotor de salud MINSA ',\n",
              "  15.0: 'Hospital ESSALUD',\n",
              "  16.0: 'Policlìnico/Centro/Posta ESSALUD',\n",
              "  17.0: 'Hospital/Otros de las FFAA & PNP',\n",
              "  18.0: 'Hospital/Otro de la Municipalidad',\n",
              "  19.0: 'Otro gobierno',\n",
              "  21.0: 'Clínica particular',\n",
              "  22.0: 'Farmacia/botica',\n",
              "  23.0: 'Consultorio médico particular',\n",
              "  24.0: 'Clínica/Posta de ONG',\n",
              "  25.0: 'Promotor de ONG ',\n",
              "  31.0: 'Tienda/supermercado/hostal',\n",
              "  32.0: 'Hospital/Otro de la Iglesia',\n",
              "  33.0: 'Amigos/parientes',\n",
              "  95.0: 'Automedicación',\n",
              "  96.0: 'Otro',\n",
              "  98.0: 'No sabe'},\n",
              " 'V327': {1.0: 'Hospital, Centro de Salud, Puesto de Salud, Policlínico del Gobierno',\n",
              "  2.0: 'Promotor de Salud',\n",
              "  3.0: 'Clínica/Posta/ Promotor ONG',\n",
              "  4.0: 'Clínica/Consultorio médico particular',\n",
              "  5.0: 'Farmacia/botica',\n",
              "  6.0: 'Tienda, iglesia, amigo',\n",
              "  7.0: 'Automedicación/Otro',\n",
              "  8.0: 'No sabe',\n",
              "  9.0: 'Otro gobierno'},\n",
              " 'V337': {95.0: 'Todas cal {A core}',\n",
              "  96.0: '96+ {B core}',\n",
              "  997.0: 'Inconsistente',\n",
              "  998.0: 'No sabe'},\n",
              " 'V359': {1.0: 'Píldora',\n",
              "  2.0: 'DIU',\n",
              "  3.0: 'Inyecciones',\n",
              "  4.0: 'Diafragma',\n",
              "  5.0: 'Condón',\n",
              "  6.0: 'Esterilización femenina',\n",
              "  7.0: 'Esterilización masculina',\n",
              "  8.0: 'Abstinencia periódica',\n",
              "  9.0: 'Retiro',\n",
              "  10.0: 'Otro',\n",
              "  11.0: 'Norplant/Implantes',\n",
              "  12.0: 'Abstinencia',\n",
              "  13.0: 'Amenorrea por lactancia (MELA)',\n",
              "  14.0: 'Condón femenino',\n",
              "  15.0: 'Espuma, jalea, óvulos (vaginales)',\n",
              "  16.0: 'Anticoncepción oral de emergencia',\n",
              "  17.0: 'Método específico 1',\n",
              "  18.0: 'Método específico 2',\n",
              "  19.0: 'Método específico 3',\n",
              "  20.0: 'Método específico 4'},\n",
              " 'V360': {1.0: 'Quedó embarazada',\n",
              "  2.0: 'Quería quedar embarazada',\n",
              "  3.0: 'Marido desaprobó',\n",
              "  4.0: 'Efectos secundarios',\n",
              "  5.0: 'Motivos de salud',\n",
              "  6.0: 'Acceso, disponibilidad',\n",
              "  7.0: 'Deseaba método más efectivo',\n",
              "  8.0: 'Uso inconveniente',\n",
              "  9.0: 'Sexo poco frecuente/Marido ausente',\n",
              "  10.0: 'Costo',\n",
              "  11.0: 'Fatalista',\n",
              "  12.0: 'Dificil quedar embarazda/menopausia',\n",
              "  13.0: 'Disolución matrimonial',\n",
              "  14.0: 'Otro',\n",
              "  98.0: 'No sabe'},\n",
              " 'V361': {1.0: 'Actualmente usando',\n",
              "  2.0: 'Usado desde el último nacimiento',\n",
              "  3.0: 'Usado antes del último nacimiento',\n",
              "  4.0: 'Nunca usado'},\n",
              " 'V362': {1.0: 'En los próximos 12 meses',\n",
              "  2.0: 'Usar más tarde',\n",
              "  3.0: 'No está seguro sobre el momento',\n",
              "  4.0: 'No está seguro sobre el uso',\n",
              "  5.0: 'No tiene la intención',\n",
              "  6.0: 'Nunca tuve relaciones sexuales'},\n",
              " 'V363': {1.0: 'Píldora',\n",
              "  2.0: 'DIU',\n",
              "  3.0: 'Inyección',\n",
              "  4.0: 'Diafragma',\n",
              "  5.0: 'Condón',\n",
              "  6.0: 'Esterilización femenina',\n",
              "  7.0: 'Esterilización masculina',\n",
              "  8.0: 'Abstinencia periódica',\n",
              "  9.0: 'Retiro',\n",
              "  10.0: 'Otro',\n",
              "  11.0: 'Norplant/Implantes',\n",
              "  12.0: 'Abstinencia',\n",
              "  13.0: 'Amenorrea por lactancia (MELA)',\n",
              "  14.0: 'Condón femenino',\n",
              "  15.0: 'Espuma, jalea, óvulos (vaginales)',\n",
              "  16.0: 'Anticoncepción oral de emergencia',\n",
              "  98.0: 'No sabe'},\n",
              " 'V364': {1.0: 'Usando el método moderno',\n",
              "  2.0: 'Usando el método tradicional',\n",
              "  3.0: 'No-usuario tiene la intención de',\n",
              "  4.0: 'No tiene la intención de',\n",
              "  5.0: 'Nunca tuve relaciones sexuales'},\n",
              " 'V367': {1.0: 'Entonces', 2.0: 'Esperar más', 3.0: 'No quería más'},\n",
              " 'V372': {0.0: 'Paquete no visto', 1.0: 'Paquete visto'},\n",
              " 'V372A': {0.0: 'Paquete no visto', 1.0: 'Paquete visto'},\n",
              " 'V375A': {11.0: 'No casado',\n",
              "  21.0: 'No tiene relaciones sexuales',\n",
              "  22.0: 'Sexo poco frecuente',\n",
              "  23.0: 'Menopausia',\n",
              "  24.0: 'Infertilidad/Subfecundidad',\n",
              "  25.0: 'Postparto/Lactancia',\n",
              "  26.0: 'Quiere más hijas(os)',\n",
              "  27.0: 'Embarazada',\n",
              "  28.0: 'Histerectomìa',\n",
              "  31.0: 'Entrevistada se opone',\n",
              "  32.0: 'Esposo/compañero se opuso',\n",
              "  33.0: 'Otros se oponen',\n",
              "  34.0: 'Prohibición religiosa',\n",
              "  41.0: 'No conoce ningún método',\n",
              "  42.0: 'No conoce ninguna fuente',\n",
              "  51.0: 'Problemas de salud',\n",
              "  52.0: 'Miedo a efectos secundarios',\n",
              "  53.0: 'Falta de acceso',\n",
              "  54.0: 'Muy costoso',\n",
              "  55.0: 'Uso inconveniente',\n",
              "  56.0: 'Interfiere con procesos normales del cuerpo',\n",
              "  96.0: 'Otro',\n",
              "  98.0: 'No sabe'},\n",
              " 'V376': {11.0: 'No casado',\n",
              "  22.0: 'Sexo poco frecuente',\n",
              "  23.0: 'Menopáusica/histerectomizada',\n",
              "  24.0: 'Infertilidad mujer',\n",
              "  25.0: 'Infertilidad hombre',\n",
              "  26.0: 'Quiere más hijas(os)',\n",
              "  31.0: 'Entrevistada se opone',\n",
              "  32.0: 'Esposo/compañero se opuso',\n",
              "  33.0: 'Otros se oponen',\n",
              "  34.0: 'Prohibición religiosa',\n",
              "  41.0: 'No conoce ningún método',\n",
              "  42.0: 'No conoce ninguna fuente',\n",
              "  51.0: 'Problemas de salud',\n",
              "  52.0: 'Miedo a efectos secundarios',\n",
              "  53.0: 'Falta de acceso',\n",
              "  54.0: 'Muy costoso',\n",
              "  55.0: 'Uso inconveniente',\n",
              "  56.0: 'Interfiere con procesos normales del cuerpo',\n",
              "  96.0: 'Otro',\n",
              "  98.0: 'No sabe'},\n",
              " 'V376A': {0.0: 'No', 1.0: 'Si', 8.0: 'No sabe'},\n",
              " 'V379': {11.0: 'Hospital MINSA',\n",
              "  12.0: 'Centro de salud MINSA',\n",
              "  13.0: 'Puesto de salud MINSA',\n",
              "  14.0: 'Trabajadora sanitaria MINSA',\n",
              "  15.0: 'Hospital ESSALUD',\n",
              "  16.0: 'Centro/Correo ESSALUD',\n",
              "  17.0: 'Campaña/feria',\n",
              "  18.0: 'Otro gobierno',\n",
              "  21.0: 'Clínica privada',\n",
              "  22.0: 'Farmacia',\n",
              "  23.0: 'Médico privado',\n",
              "  24.0: 'Clínica/FP post ONG',\n",
              "  25.0: 'ONG de trabajadores de la salud',\n",
              "  31.0: 'Tienda/supermercado',\n",
              "  32.0: 'Iglesia',\n",
              "  33.0: 'Amigos/parientes',\n",
              "  95.0: 'Automedicación',\n",
              "  96.0: 'Otro',\n",
              "  98.0: 'No sabe'},\n",
              " 'V380': {1.0: 'Govt Clinical/Pharm',\n",
              "  2.0: 'Casa de Gobierno/Comm liv',\n",
              "  3.0: 'ONG',\n",
              "  4.0: 'Private Clin/Deliv',\n",
              "  5.0: 'Farmacia Privada',\n",
              "  6.0: 'Tienda, iglesia, amigo',\n",
              "  7.0: 'Otro',\n",
              "  8.0: 'No sabe'},\n",
              " 'V501': {0.0: 'Nunca casada',\n",
              "  1.0: 'Casado',\n",
              "  2.0: 'Viviendo juntos',\n",
              "  3.0: 'Viuda',\n",
              "  4.0: 'Divorciada',\n",
              "  5.0: 'No viven juntos'},\n",
              " 'V502': {0.0: 'Nunca casada',\n",
              "  1.0: 'Actualmente casada',\n",
              "  2.0: 'Anteriormente casada'},\n",
              " 'V503': {1.0: 'Una vez', 2.0: 'Mas de una vez'},\n",
              " 'V504': {1.0: 'Vive con ella', 2.0: 'Vive en otro sitio'},\n",
              " 'V505': {0.0: 'No otras esposas', 98.0: 'No sabe'},\n",
              " 'V506': {98.0: 'No sabe'},\n",
              " 'V510': {1.0: 'Tiene mes y año',\n",
              "  2.0: 'Tiene mes y edad - imputa año',\n",
              "  3.0: 'Tiene año y edad - imputa mes',\n",
              "  5.0: 'Tiene año - imputa mes',\n",
              "  6.0: 'Tiene edad - imputa mes año',\n",
              "  7.0: 'Tiene mes - imputa año',\n",
              "  8.0: 'Ninguno - imputa todo'},\n",
              " 'V513': {0.0: 'Nunca casada',\n",
              "  1.0: 'De 0 a 4 años',\n",
              "  2.0: 'De 5 a 9 años',\n",
              "  3.0: 'De 10 a 14 años',\n",
              "  4.0: 'De 15 a 19 años',\n",
              "  5.0: 'De 20 a 24 años',\n",
              "  6.0: 'De 25 a 29 años',\n",
              "  7.0: 'De 30 a más años'},\n",
              " 'V525': {0.0: 'Nunca tuvo relaciones sexuales', 96.0: 'En la primera union'},\n",
              " 'V613': {96.0: 'Respuesta no numérica'},\n",
              " 'V714': {0.0: 'No', 1.0: 'Sí'},\n",
              " 'V715': {98.0: 'No sabe'}}"
            ]
          },
          "metadata": {},
          "execution_count": 30
        }
      ]
    },
    {
      "cell_type": "code",
      "source": [
        "var_labels = unificar_diccionarios(new_var_labels1,new_var_labels2, new_var_labels3)\n",
        "var_labels"
      ],
      "metadata": {
        "colab": {
          "base_uri": "https://localhost:8080/"
        },
        "id": "-uhiccYDZC_D",
        "outputId": "af5367aa-72b4-4f9e-bed2-d23ae7d0afdb"
      },
      "execution_count": null,
      "outputs": [
        {
          "output_type": "execute_result",
          "data": {
            "text/plain": [
              "{'CASEID': 'Identificación Cuestionario Individual',\n",
              " 'V001': 'Conglomerado',\n",
              " 'V002': 'Número de vivienda',\n",
              " 'V003': 'Número de línea de entrevistada',\n",
              " 'V004': 'Unidad de área final',\n",
              " 'V007': 'Año de la entrevista',\n",
              " 'V008': 'Fecha de la entrevista, Codificación centenaria de meses (CMC)',\n",
              " 'V009': 'Mes de nacimiento de la entrevistada',\n",
              " 'V010': 'Año de nacimiento de la entrevistada',\n",
              " 'V011': 'Fecha de nacimiento, Codificación centenaria de meses (CMC)',\n",
              " 'V012': 'Edad actual - entrevistada',\n",
              " 'V024': 'Región',\n",
              " 'V000': 'Código y fase del país',\n",
              " 'V102': 'Tipo de lugar de residencia',\n",
              " 'V120': 'En su hogar tiene: radio',\n",
              " 'V121': 'En su hogar tiene: televisión',\n",
              " 'V122': 'En su hogar tiene: refrigerador',\n",
              " 'V123': 'En su hogar tiene: bicicleta',\n",
              " 'V124': 'En su hogar tiene: motocicleta/motocar',\n",
              " 'V125': 'En su hogar tiene: coche/camión',\n",
              " 'V127': 'Material predominante del piso de la vivienda',\n",
              " 'V133': 'Educación en años simples',\n",
              " 'year': 'Year of the survey',\n",
              " 'V201': 'Total de niños nacidos',\n",
              " 'V218': 'Número de niños vivos',\n",
              " 'V301': 'Conocimiento de cualquier método',\n",
              " 'V302': 'Alguna vez usó cualquier método',\n",
              " 'V323': 'Marca de la píldora usada',\n",
              " 'V323A': 'Marca del preservativo utilizado',\n",
              " 'V325A': 'Costo del método actual',\n",
              " 'V326': 'Fuente para obtener el actual método anticonceptivo',\n",
              " 'V327': 'Fuente para obtener el actual método anticonceptivo (Grupos)',\n",
              " 'V337': 'Meses de uso del método actual',\n",
              " 'V359': 'Última discontinuidad del método los últimos 5 años',\n",
              " 'V360': 'Motivo de la última discontinuidad',\n",
              " 'V361': 'Patrón de uso',\n",
              " 'V362': 'Intención de uso',\n",
              " 'V363': 'Método futuro preferido',\n",
              " 'V364': 'Uso e intención de anticonceptivos',\n",
              " 'V367': 'Quería quedar embarazada:',\n",
              " 'V372': 'Se muestra el paquete de pastillas',\n",
              " 'V372A': 'Se muestra el paquete de Condónes',\n",
              " 'V375A': 'La razón principal para no utilizar un método',\n",
              " 'V376': 'La razón principal por la que no piensa usar ningún método en el futuro',\n",
              " 'V376A': 'Alguna vez usaría algún método',\n",
              " 'V379': 'Fuente conocida por cualquier método',\n",
              " 'V380': 'Fuente conocida por cualquier método (Grupos)',\n",
              " 'V501': 'Estado civil actual',\n",
              " 'V502': 'Actualmente, antes o nunca sacada',\n",
              " 'V503': 'Usted ha estado casada o conviviendo solo una vez, más de una vez',\n",
              " 'V504': 'Su esposo/compañer vive en el hogar o vive en otro lugar',\n",
              " 'V505': 'Número de otras esposas',\n",
              " 'V506': 'Número de rango de la esposa',\n",
              " 'V507': 'Mes - Primer matrimonio',\n",
              " 'V508': 'Año - Primer matrimonio',\n",
              " 'V509': 'Fecha del primer matrimonio (CMC)',\n",
              " 'V510': 'Integridad de la información para la fecha de inicio del primer matrimonio o unión',\n",
              " 'V511': 'Edad al primer matrimonio',\n",
              " 'V512': 'Años desde el primer matrimonio',\n",
              " 'V513': 'Duración del matrimonio (agrupado)',\n",
              " 'V525': 'Edad en la primera relación sexual',\n",
              " 'V613': 'Número ideal de niños',\n",
              " 'V714': 'Actualmente se encuentra trabajando',\n",
              " 'V715': 'Educación en años individuales del esposo/compañero'}"
            ]
          },
          "metadata": {},
          "execution_count": 31
        }
      ]
    },
    {
      "cell_type": "code",
      "source": [
        "#Ahora queremos asignar estas etiquetas a los elementos correspondientes en la base de datos unificada para 2019\n",
        "#nuevamente, emplearemos un array con el nombre de las variables como llave (key) en cada base\n",
        "new_keys_2019 = endes_2019.columns.values\n",
        "type(new_keys_2019)"
      ],
      "metadata": {
        "colab": {
          "base_uri": "https://localhost:8080/"
        },
        "id": "p5q7amFqHySW",
        "outputId": "4f6358c4-3c51-4649-878e-15181dc54942"
      },
      "execution_count": null,
      "outputs": [
        {
          "output_type": "execute_result",
          "data": {
            "text/plain": [
              "numpy.ndarray"
            ]
          },
          "metadata": {},
          "execution_count": 32
        }
      ]
    },
    {
      "cell_type": "code",
      "source": [
        "#estamos interesados en quedarnos con las etiquetas de variables y de valores que sean relativas a las columnas de la base acotada\n",
        "#Por ello generamos nuevos diccionarios para las etiquetas, estos cumplen la condición de que sus llaves forman parte del array de strings: new_keys1, new_keys2 y new_keys3 (según corresponda)\n",
        "new_value_labels_2019 = { key:value for ( key, value ) in value_labels.items() if key in new_keys_2019 }\n",
        "new_var_labels_2019 = { key:value for ( key, value ) in var_labels.items() if key in new_keys_2019 }"
      ],
      "metadata": {
        "id": "CCy3-329dCdK"
      },
      "execution_count": null,
      "outputs": []
    },
    {
      "cell_type": "code",
      "source": [
        "new_var_labels_2019"
      ],
      "metadata": {
        "colab": {
          "base_uri": "https://localhost:8080/"
        },
        "id": "ey1WglUTIlAu",
        "outputId": "dfa1ae78-f22f-4208-b024-45f53fd072f2"
      },
      "execution_count": null,
      "outputs": [
        {
          "output_type": "execute_result",
          "data": {
            "text/plain": [
              "{'CASEID': 'Identificación Cuestionario Individual',\n",
              " 'V001': 'Conglomerado',\n",
              " 'V002': 'Número de vivienda',\n",
              " 'V003': 'Número de línea de entrevistada',\n",
              " 'V004': 'Unidad de área final',\n",
              " 'V007': 'Año de la entrevista',\n",
              " 'V008': 'Fecha de la entrevista, Codificación centenaria de meses (CMC)',\n",
              " 'V009': 'Mes de nacimiento de la entrevistada',\n",
              " 'V010': 'Año de nacimiento de la entrevistada',\n",
              " 'V011': 'Fecha de nacimiento, Codificación centenaria de meses (CMC)',\n",
              " 'V012': 'Edad actual - entrevistada',\n",
              " 'V024': 'Región',\n",
              " 'V000': 'Código y fase del país',\n",
              " 'V102': 'Tipo de lugar de residencia',\n",
              " 'V120': 'En su hogar tiene: radio',\n",
              " 'V121': 'En su hogar tiene: televisión',\n",
              " 'V122': 'En su hogar tiene: refrigerador',\n",
              " 'V123': 'En su hogar tiene: bicicleta',\n",
              " 'V124': 'En su hogar tiene: motocicleta/motocar',\n",
              " 'V125': 'En su hogar tiene: coche/camión',\n",
              " 'V127': 'Material predominante del piso de la vivienda',\n",
              " 'V133': 'Educación en años simples',\n",
              " 'year': 'Year of the survey',\n",
              " 'V201': 'Total de niños nacidos',\n",
              " 'V218': 'Número de niños vivos',\n",
              " 'V301': 'Conocimiento de cualquier método',\n",
              " 'V302': 'Alguna vez usó cualquier método',\n",
              " 'V323': 'Marca de la píldora usada',\n",
              " 'V323A': 'Marca del preservativo utilizado',\n",
              " 'V325A': 'Costo del método actual',\n",
              " 'V326': 'Fuente para obtener el actual método anticonceptivo',\n",
              " 'V327': 'Fuente para obtener el actual método anticonceptivo (Grupos)',\n",
              " 'V337': 'Meses de uso del método actual',\n",
              " 'V359': 'Última discontinuidad del método los últimos 5 años',\n",
              " 'V360': 'Motivo de la última discontinuidad',\n",
              " 'V361': 'Patrón de uso',\n",
              " 'V362': 'Intención de uso',\n",
              " 'V363': 'Método futuro preferido',\n",
              " 'V364': 'Uso e intención de anticonceptivos',\n",
              " 'V367': 'Quería quedar embarazada:',\n",
              " 'V372': 'Se muestra el paquete de pastillas',\n",
              " 'V372A': 'Se muestra el paquete de Condónes',\n",
              " 'V375A': 'La razón principal para no utilizar un método',\n",
              " 'V376': 'La razón principal por la que no piensa usar ningún método en el futuro',\n",
              " 'V376A': 'Alguna vez usaría algún método',\n",
              " 'V379': 'Fuente conocida por cualquier método',\n",
              " 'V380': 'Fuente conocida por cualquier método (Grupos)',\n",
              " 'V501': 'Estado civil actual',\n",
              " 'V502': 'Actualmente, antes o nunca sacada',\n",
              " 'V503': 'Usted ha estado casada o conviviendo solo una vez, más de una vez',\n",
              " 'V504': 'Su esposo/compañer vive en el hogar o vive en otro lugar',\n",
              " 'V505': 'Número de otras esposas',\n",
              " 'V506': 'Número de rango de la esposa',\n",
              " 'V507': 'Mes - Primer matrimonio',\n",
              " 'V508': 'Año - Primer matrimonio',\n",
              " 'V509': 'Fecha del primer matrimonio (CMC)',\n",
              " 'V510': 'Integridad de la información para la fecha de inicio del primer matrimonio o unión',\n",
              " 'V511': 'Edad al primer matrimonio',\n",
              " 'V512': 'Años desde el primer matrimonio',\n",
              " 'V513': 'Duración del matrimonio (agrupado)',\n",
              " 'V525': 'Edad en la primera relación sexual',\n",
              " 'V613': 'Número ideal de niños',\n",
              " 'V714': 'Actualmente se encuentra trabajando',\n",
              " 'V715': 'Educación en años individuales del esposo/compañero'}"
            ]
          },
          "metadata": {},
          "execution_count": 34
        }
      ]
    },
    {
      "cell_type": "code",
      "source": [
        "endes_2019.attrs[ 'value_labels' ] = new_value_labels_2019\n",
        "endes_2019.attrs[ 'var_labels' ] = new_var_labels_2019"
      ],
      "metadata": {
        "id": "YZ4vpNJm_yrM"
      },
      "execution_count": null,
      "outputs": []
    },
    {
      "cell_type": "markdown",
      "source": [
        "##### (5.2)"
      ],
      "metadata": {
        "id": "9pjmlMT-_RPr"
      }
    },
    {
      "cell_type": "code",
      "source": [
        "#etiquetas de variables \n",
        "var_labels = new_var_labels1.copy()\n",
        "var_labels.update(new_var_labels2)\n",
        "var_labels.update(new_var_labels3)\n",
        "\n",
        "#Etiquetas de valores\n",
        "value_labels = new_value_labels1.copy()\n",
        "value_labels.update(new_value_labels2)\n",
        "value_labels.update(new_value_labels3)\n",
        "\n",
        "#\n",
        "endes_2019.attrs[ 'value_labels' ] = value_labels\n",
        "endes_2019.attrs[ 'var_labels' ] = var_labels"
      ],
      "metadata": {
        "id": "kHKgIvLT_QxV"
      },
      "execution_count": null,
      "outputs": []
    },
    {
      "cell_type": "markdown",
      "source": [
        "#### Part.6"
      ],
      "metadata": {
        "id": "mvPwSgZ9fCwU"
      }
    },
    {
      "cell_type": "markdown",
      "source": [
        "6. Now, replicate your code of the prevoius sections but for years **2019, 2018, 2017, 2016, 2015**. Import the `REC0111.sav`, `RE223132.sav` and `RE516171.sav` files and their **variables and values labels** from this path `\"../../_data/endes/\"`. For this excersie you must use a for loop. This loop must iterate over **2019, 2018, 2017, 2016, 2015 folders** and import these files. All the files have the same name. You must store these files and their labels in a nested dictionary named as `all_data`. The keys of the dictionary should be named as `year_2019`, for example, and the keys of the nested dictionary should be `data`, `var_labels`, and `value_labels`. The output of this exercise should be equal to the `all_data_ta` object. **Hint: Use [this link](https://notebooks.githubusercontent.com/view/ipynb?browser=chrome&color_mode=auto&commit=4d6de78e00e7001f16bf6473c2eb7ce24fb611cd&device=unknown_device&enc_url=68747470733a2f2f7261772e67697468756275736572636f6e74656e742e636f6d2f616c6578616e6465727175697370652f4469706c6f6d61646f5f505543502f346436646537386530306537303031663136626636343733633265623763653234666236313163642f4c6563747572655f342f4c6563747572655f342e6970796e62&logged_in=true&nwo=alexanderquispe%2FDiplomado_PUCP&path=Lecture_4%2FLecture_4.ipynb&platform=windows&repository_id=427747212&repository_type=Repository&version=95#4.2.)**"
      ],
      "metadata": {
        "id": "KP9f4SdLfGuh"
      }
    },
    {
      "cell_type": "markdown",
      "source": [
        "##### (6.1)\n"
      ],
      "metadata": {
        "id": "4k-WN7XYCNXV"
      }
    },
    {
      "cell_type": "code",
      "source": [
        "output = urllib.request.urlopen(r'https://www.dropbox.com/s/dqv1d9of2uo6hul/all_data_ta.pkl?dl=1')\n",
        "all_data_ta = pickle.load( output )"
      ],
      "metadata": {
        "id": "-tLsStsbPL60"
      },
      "execution_count": null,
      "outputs": []
    },
    {
      "cell_type": "code",
      "source": [
        "#importamos el módulo, que identifica los nombres de ruta que coinciden con un patrón especificado\n",
        "import glob\n",
        "# asignamos un directorio\n",
        "directory = '/content/drive/MyDrive/DIPLOMADO_PUCP/Fundamentos_Python/endes'\n",
        " \n",
        "# iteramos sobre los archivos en el directorio \n",
        "for filename in glob.iglob(f'{directory}/*'):\n",
        "    print(filename)\n",
        "    print(type(filename))\n",
        "#de esta forma obtenemos los directorios en formato string de cada uno de los años en la carpeta de interés"
      ],
      "metadata": {
        "colab": {
          "base_uri": "https://localhost:8080/"
        },
        "id": "IqBj3m_TrEGJ",
        "outputId": "cdf0e159-6a42-45d5-ee90-8916825bec57"
      },
      "execution_count": null,
      "outputs": [
        {
          "output_type": "stream",
          "name": "stdout",
          "text": [
            "/content/drive/MyDrive/DIPLOMADO_PUCP/Fundamentos_Python/endes/2016\n",
            "<class 'str'>\n",
            "/content/drive/MyDrive/DIPLOMADO_PUCP/Fundamentos_Python/endes/2019\n",
            "<class 'str'>\n",
            "/content/drive/MyDrive/DIPLOMADO_PUCP/Fundamentos_Python/endes/2017\n",
            "<class 'str'>\n",
            "/content/drive/MyDrive/DIPLOMADO_PUCP/Fundamentos_Python/endes/2018\n",
            "<class 'str'>\n",
            "/content/drive/MyDrive/DIPLOMADO_PUCP/Fundamentos_Python/endes/2015\n",
            "<class 'str'>\n"
          ]
        }
      ]
    },
    {
      "cell_type": "code",
      "source": [
        "#Ahora bien, nos interesa también identificar los archivos dentro de las carpetas de años \n",
        "#estos archivos son de tipo .sav (tomaremos esto en consideración)\n",
        "import os\n",
        "link_directorio = '2019'\n",
        "termino = ('.sav','.SAV')\n",
        "for archivos in os.listdir(link_directorio):\n",
        "    if archivos.endswith(termino):\n",
        "        print(archivos)  \n",
        "    else:\n",
        "        continue"
      ],
      "metadata": {
        "colab": {
          "base_uri": "https://localhost:8080/"
        },
        "id": "Qnhbcd73tO-i",
        "outputId": "3f3fd16f-c370-44e9-c38c-3dfb61d26826"
      },
      "execution_count": null,
      "outputs": [
        {
          "output_type": "stream",
          "name": "stdout",
          "text": [
            "RECH0.SAV\n",
            "RE516171.sav\n",
            "REC0111.sav\n",
            "RECH1.sav\n",
            "RE223132.sav\n",
            "RECH23.SAV\n"
          ]
        }
      ]
    },
    {
      "cell_type": "code",
      "source": [
        "#Necesitamos una forma de unir ambos elementos, es decir, el directorio que identifica las carpetas de años y las bases específicas dentro de cada carpeta\n",
        "year = '/content/drive/MyDrive/DIPLOMADO_PUCP/Fundamentos_Python/endes/2019'\n",
        "file = 'REC0111.SAV'\n",
        "\n",
        "#dado que ambos elementos estarán en formato string podemos unirlos directamente con los signos de suma (+), separandolos por una barra (/)\n",
        "result= year + '/' + file \n",
        "result"
      ],
      "metadata": {
        "id": "kzhfq9KjvuaT",
        "colab": {
          "base_uri": "https://localhost:8080/",
          "height": 35
        },
        "outputId": "5b178031-450c-4f5f-a2dd-d9f73c710de6"
      },
      "execution_count": null,
      "outputs": [
        {
          "output_type": "execute_result",
          "data": {
            "text/plain": [
              "'/content/drive/MyDrive/DIPLOMADO_PUCP/Fundamentos_Python/endes/2019/REC0111.SAV'"
            ],
            "application/vnd.google.colaboratory.intrinsic+json": {
              "type": "string"
            }
          },
          "metadata": {},
          "execution_count": 38
        }
      ]
    },
    {
      "cell_type": "code",
      "source": [
        "directory = '/content/drive/MyDrive/DIPLOMADO_PUCP/Fundamentos_Python/endes' #tras definir la carpeta general de interés\n",
        " \n",
        "id_list = [] #generamos una lista vacía, aquí es donde incluiremos los string que identifican a cada base dentro de cada carpeta de año\n",
        "\n",
        "#el siguiente loop identifica y extra en formato string cada uno de los años en la carpeta de interés (2015-2019 en nuestro caso)\n",
        "#luego extrae todos los archivos que terminan en REC0111.sav, RE223132.sav o RE516171.sav (las bases de nuestro interés)\n",
        "#para los archivos con estas características se genera un string de su directorio\n",
        "#estos strings se reunen en una lista \n",
        "for nombre_archivo in glob.iglob(f'{directory}/*'):\n",
        "  termino = ('REC0111.sav','REC0111.SAV','RE223132.sav','RE223132.SAV','RE516171.sav','RE516171.SAV')\n",
        "  for archivos in os.listdir(nombre_archivo):\n",
        "    if archivos.endswith(termino):\n",
        "        nombre = nombre_archivo + '/'+ archivos \n",
        "        id_list.append(nombre) \n",
        "    else:\n",
        "        continue\n"
      ],
      "metadata": {
        "id": "5_oPHpO8ujKg"
      },
      "execution_count": null,
      "outputs": []
    },
    {
      "cell_type": "code",
      "source": [
        "id_list #la lista de directorios relevantes generada"
      ],
      "metadata": {
        "colab": {
          "base_uri": "https://localhost:8080/"
        },
        "id": "6QZOxee-6AKp",
        "outputId": "6cbdc96e-ac83-41a4-ffe9-88a38b9b6226"
      },
      "execution_count": null,
      "outputs": [
        {
          "output_type": "execute_result",
          "data": {
            "text/plain": [
              "['/content/drive/MyDrive/DIPLOMADO_PUCP/Fundamentos_Python/endes/2016/REC0111.SAV',\n",
              " '/content/drive/MyDrive/DIPLOMADO_PUCP/Fundamentos_Python/endes/2016/RE516171.SAV',\n",
              " '/content/drive/MyDrive/DIPLOMADO_PUCP/Fundamentos_Python/endes/2016/RE223132.SAV',\n",
              " '/content/drive/MyDrive/DIPLOMADO_PUCP/Fundamentos_Python/endes/2019/RE516171.sav',\n",
              " '/content/drive/MyDrive/DIPLOMADO_PUCP/Fundamentos_Python/endes/2019/REC0111.sav',\n",
              " '/content/drive/MyDrive/DIPLOMADO_PUCP/Fundamentos_Python/endes/2019/RE223132.sav',\n",
              " '/content/drive/MyDrive/DIPLOMADO_PUCP/Fundamentos_Python/endes/2017/REC0111.SAV',\n",
              " '/content/drive/MyDrive/DIPLOMADO_PUCP/Fundamentos_Python/endes/2017/RE223132.SAV',\n",
              " '/content/drive/MyDrive/DIPLOMADO_PUCP/Fundamentos_Python/endes/2017/RE516171.SAV',\n",
              " '/content/drive/MyDrive/DIPLOMADO_PUCP/Fundamentos_Python/endes/2018/RE223132.SAV',\n",
              " '/content/drive/MyDrive/DIPLOMADO_PUCP/Fundamentos_Python/endes/2018/RE516171.SAV',\n",
              " '/content/drive/MyDrive/DIPLOMADO_PUCP/Fundamentos_Python/endes/2018/REC0111.SAV',\n",
              " '/content/drive/MyDrive/DIPLOMADO_PUCP/Fundamentos_Python/endes/2015/RE223132.SAV',\n",
              " '/content/drive/MyDrive/DIPLOMADO_PUCP/Fundamentos_Python/endes/2015/RE516171.SAV',\n",
              " '/content/drive/MyDrive/DIPLOMADO_PUCP/Fundamentos_Python/endes/2015/REC0111.SAV']"
            ]
          },
          "metadata": {},
          "execution_count": 40
        }
      ]
    },
    {
      "cell_type": "code",
      "source": [
        "id_list.sort() #ordenamos los elementos de la lista para aplicar un segundo loop con mayor facilidad\n",
        "len(id_list) #en total hay 30 elementos"
      ],
      "metadata": {
        "colab": {
          "base_uri": "https://localhost:8080/"
        },
        "id": "0--XNTExvGCI",
        "outputId": "516d2a2d-05ff-42f4-b4b4-f749952e1018"
      },
      "execution_count": null,
      "outputs": [
        {
          "output_type": "execute_result",
          "data": {
            "text/plain": [
              "15"
            ]
          },
          "metadata": {},
          "execution_count": 41
        }
      ]
    },
    {
      "cell_type": "code",
      "source": [
        "id_list #la lista ordenada"
      ],
      "metadata": {
        "colab": {
          "base_uri": "https://localhost:8080/"
        },
        "id": "gcb_L_4yTGBs",
        "outputId": "ee35fddf-7d90-44af-d529-9b64eae8d060"
      },
      "execution_count": null,
      "outputs": [
        {
          "output_type": "execute_result",
          "data": {
            "text/plain": [
              "['/content/drive/MyDrive/DIPLOMADO_PUCP/Fundamentos_Python/endes/2015/RE223132.SAV',\n",
              " '/content/drive/MyDrive/DIPLOMADO_PUCP/Fundamentos_Python/endes/2015/RE516171.SAV',\n",
              " '/content/drive/MyDrive/DIPLOMADO_PUCP/Fundamentos_Python/endes/2015/REC0111.SAV',\n",
              " '/content/drive/MyDrive/DIPLOMADO_PUCP/Fundamentos_Python/endes/2016/RE223132.SAV',\n",
              " '/content/drive/MyDrive/DIPLOMADO_PUCP/Fundamentos_Python/endes/2016/RE516171.SAV',\n",
              " '/content/drive/MyDrive/DIPLOMADO_PUCP/Fundamentos_Python/endes/2016/REC0111.SAV',\n",
              " '/content/drive/MyDrive/DIPLOMADO_PUCP/Fundamentos_Python/endes/2017/RE223132.SAV',\n",
              " '/content/drive/MyDrive/DIPLOMADO_PUCP/Fundamentos_Python/endes/2017/RE516171.SAV',\n",
              " '/content/drive/MyDrive/DIPLOMADO_PUCP/Fundamentos_Python/endes/2017/REC0111.SAV',\n",
              " '/content/drive/MyDrive/DIPLOMADO_PUCP/Fundamentos_Python/endes/2018/RE223132.SAV',\n",
              " '/content/drive/MyDrive/DIPLOMADO_PUCP/Fundamentos_Python/endes/2018/RE516171.SAV',\n",
              " '/content/drive/MyDrive/DIPLOMADO_PUCP/Fundamentos_Python/endes/2018/REC0111.SAV',\n",
              " '/content/drive/MyDrive/DIPLOMADO_PUCP/Fundamentos_Python/endes/2019/RE223132.sav',\n",
              " '/content/drive/MyDrive/DIPLOMADO_PUCP/Fundamentos_Python/endes/2019/RE516171.sav',\n",
              " '/content/drive/MyDrive/DIPLOMADO_PUCP/Fundamentos_Python/endes/2019/REC0111.sav']"
            ]
          },
          "metadata": {},
          "execution_count": 42
        }
      ]
    },
    {
      "cell_type": "code",
      "source": [
        "dataframes_list = [] #generamos una lista vacía que será integrada por dataframes\n",
        "\n",
        "# aplicamos append a los sets de datos y los ubicamos en la lista\n",
        "#Aquí hacemos uso de la lista de directorios generada previamente\n",
        "for i in range(len(id_list)):\n",
        "    temp_df = pd.read_spss(id_list[i])\n",
        "    dataframes_list.append(temp_df)"
      ],
      "metadata": {
        "id": "J2z5EVSV8og3"
      },
      "execution_count": null,
      "outputs": []
    },
    {
      "cell_type": "code",
      "source": [
        "#generamos una nueva columna en rec1_1 con 2019 para todas las observaciones\n",
        "rec1_1.loc[ : , \"year\" ] = 2019\n",
        "rec1_1"
      ],
      "metadata": {
        "id": "hs9C4whD9B-L"
      },
      "execution_count": null,
      "outputs": []
    },
    {
      "cell_type": "code",
      "source": [
        "dataframes_list[0] #El primer dataframe corresponde a: '2015/RE223132.SAV'"
      ],
      "metadata": {
        "id": "PyarwAID-wNI",
        "outputId": "0147e51a-a7e3-4d09-8889-34b048f57819",
        "colab": {
          "base_uri": "https://localhost:8080/",
          "height": 661
        }
      },
      "execution_count": null,
      "outputs": [
        {
          "output_type": "execute_result",
          "data": {
            "text/plain": [
              "                   CASEID  V201  V202  V203  V204  V205  V206  V207  V208  \\\n",
              "0            000102701  1   3.0   0.0   3.0   0.0   0.0   0.0   0.0   1.0   \n",
              "1            000104301  1   2.0   2.0   0.0   0.0   0.0   0.0   0.0   1.0   \n",
              "2            000104801  2   2.0   1.0   1.0   0.0   0.0   0.0   0.0   0.0   \n",
              "3            000104801  3   0.0   0.0   0.0   0.0   0.0   0.0   0.0   0.0   \n",
              "4            000105001  3   0.0   0.0   0.0   0.0   0.0   0.0   0.0   0.0   \n",
              "...                   ...   ...   ...   ...   ...   ...   ...   ...   ...   \n",
              "35761        317503501  2   1.0   0.0   1.0   0.0   0.0   0.0   0.0   0.0   \n",
              "35762        317503701  2   9.0   2.0   4.0   1.0   2.0   0.0   0.0   1.0   \n",
              "35763        317507601  1   9.0   5.0   1.0   0.0   3.0   0.0   0.0   1.0   \n",
              "35764        317507801  2   0.0   0.0   0.0   0.0   0.0   0.0   0.0   0.0   \n",
              "35765        317508001  2   2.0   1.0   1.0   0.0   0.0   0.0   0.0   0.0   \n",
              "\n",
              "       V209  ...  V307_07  V307_08  V307_09 V307_10  V307_11 V307_12 V307_13  \\\n",
              "0       0.0  ...      NaN       No       No     NaN      NaN     NaN     NaN   \n",
              "1       0.0  ...      NaN       No      NaN     NaN      NaN     NaN     NaN   \n",
              "2       0.0  ...      NaN      NaN       No     NaN      NaN     NaN     NaN   \n",
              "3       0.0  ...      NaN      NaN      NaN     NaN      NaN     NaN     NaN   \n",
              "4       0.0  ...      NaN       No      NaN     NaN      NaN     NaN     NaN   \n",
              "...     ...  ...      ...      ...      ...     ...      ...     ...     ...   \n",
              "35761   0.0  ...      NaN      NaN       No     NaN      NaN     NaN     NaN   \n",
              "35762   0.0  ...      NaN       Si      NaN      No      NaN     NaN     NaN   \n",
              "35763   0.0  ...      NaN       No      NaN     NaN      NaN     NaN     NaN   \n",
              "35764   0.0  ...      NaN      NaN      NaN     NaN      NaN     NaN     NaN   \n",
              "35765   0.0  ...      NaN       Si      NaN     NaN      NaN     NaN     NaN   \n",
              "\n",
              "      V307_14  V307_15  V307_16  \n",
              "0         NaN      NaN      NaN  \n",
              "1         NaN      NaN      NaN  \n",
              "2         NaN      NaN      NaN  \n",
              "3         NaN      NaN      NaN  \n",
              "4         NaN      NaN      NaN  \n",
              "...       ...      ...      ...  \n",
              "35761     NaN      NaN      NaN  \n",
              "35762     NaN      NaN      NaN  \n",
              "35763     NaN      NaN      NaN  \n",
              "35764     NaN      NaN      NaN  \n",
              "35765     NaN      NaN      NaN  \n",
              "\n",
              "[35766 rows x 207 columns]"
            ],
            "text/html": [
              "\n",
              "  <div id=\"df-c46152c2-6a67-45f8-a1b1-a637c172f879\">\n",
              "    <div class=\"colab-df-container\">\n",
              "      <div>\n",
              "<style scoped>\n",
              "    .dataframe tbody tr th:only-of-type {\n",
              "        vertical-align: middle;\n",
              "    }\n",
              "\n",
              "    .dataframe tbody tr th {\n",
              "        vertical-align: top;\n",
              "    }\n",
              "\n",
              "    .dataframe thead th {\n",
              "        text-align: right;\n",
              "    }\n",
              "</style>\n",
              "<table border=\"1\" class=\"dataframe\">\n",
              "  <thead>\n",
              "    <tr style=\"text-align: right;\">\n",
              "      <th></th>\n",
              "      <th>CASEID</th>\n",
              "      <th>V201</th>\n",
              "      <th>V202</th>\n",
              "      <th>V203</th>\n",
              "      <th>V204</th>\n",
              "      <th>V205</th>\n",
              "      <th>V206</th>\n",
              "      <th>V207</th>\n",
              "      <th>V208</th>\n",
              "      <th>V209</th>\n",
              "      <th>...</th>\n",
              "      <th>V307_07</th>\n",
              "      <th>V307_08</th>\n",
              "      <th>V307_09</th>\n",
              "      <th>V307_10</th>\n",
              "      <th>V307_11</th>\n",
              "      <th>V307_12</th>\n",
              "      <th>V307_13</th>\n",
              "      <th>V307_14</th>\n",
              "      <th>V307_15</th>\n",
              "      <th>V307_16</th>\n",
              "    </tr>\n",
              "  </thead>\n",
              "  <tbody>\n",
              "    <tr>\n",
              "      <th>0</th>\n",
              "      <td>000102701  1</td>\n",
              "      <td>3.0</td>\n",
              "      <td>0.0</td>\n",
              "      <td>3.0</td>\n",
              "      <td>0.0</td>\n",
              "      <td>0.0</td>\n",
              "      <td>0.0</td>\n",
              "      <td>0.0</td>\n",
              "      <td>1.0</td>\n",
              "      <td>0.0</td>\n",
              "      <td>...</td>\n",
              "      <td>NaN</td>\n",
              "      <td>No</td>\n",
              "      <td>No</td>\n",
              "      <td>NaN</td>\n",
              "      <td>NaN</td>\n",
              "      <td>NaN</td>\n",
              "      <td>NaN</td>\n",
              "      <td>NaN</td>\n",
              "      <td>NaN</td>\n",
              "      <td>NaN</td>\n",
              "    </tr>\n",
              "    <tr>\n",
              "      <th>1</th>\n",
              "      <td>000104301  1</td>\n",
              "      <td>2.0</td>\n",
              "      <td>2.0</td>\n",
              "      <td>0.0</td>\n",
              "      <td>0.0</td>\n",
              "      <td>0.0</td>\n",
              "      <td>0.0</td>\n",
              "      <td>0.0</td>\n",
              "      <td>1.0</td>\n",
              "      <td>0.0</td>\n",
              "      <td>...</td>\n",
              "      <td>NaN</td>\n",
              "      <td>No</td>\n",
              "      <td>NaN</td>\n",
              "      <td>NaN</td>\n",
              "      <td>NaN</td>\n",
              "      <td>NaN</td>\n",
              "      <td>NaN</td>\n",
              "      <td>NaN</td>\n",
              "      <td>NaN</td>\n",
              "      <td>NaN</td>\n",
              "    </tr>\n",
              "    <tr>\n",
              "      <th>2</th>\n",
              "      <td>000104801  2</td>\n",
              "      <td>2.0</td>\n",
              "      <td>1.0</td>\n",
              "      <td>1.0</td>\n",
              "      <td>0.0</td>\n",
              "      <td>0.0</td>\n",
              "      <td>0.0</td>\n",
              "      <td>0.0</td>\n",
              "      <td>0.0</td>\n",
              "      <td>0.0</td>\n",
              "      <td>...</td>\n",
              "      <td>NaN</td>\n",
              "      <td>NaN</td>\n",
              "      <td>No</td>\n",
              "      <td>NaN</td>\n",
              "      <td>NaN</td>\n",
              "      <td>NaN</td>\n",
              "      <td>NaN</td>\n",
              "      <td>NaN</td>\n",
              "      <td>NaN</td>\n",
              "      <td>NaN</td>\n",
              "    </tr>\n",
              "    <tr>\n",
              "      <th>3</th>\n",
              "      <td>000104801  3</td>\n",
              "      <td>0.0</td>\n",
              "      <td>0.0</td>\n",
              "      <td>0.0</td>\n",
              "      <td>0.0</td>\n",
              "      <td>0.0</td>\n",
              "      <td>0.0</td>\n",
              "      <td>0.0</td>\n",
              "      <td>0.0</td>\n",
              "      <td>0.0</td>\n",
              "      <td>...</td>\n",
              "      <td>NaN</td>\n",
              "      <td>NaN</td>\n",
              "      <td>NaN</td>\n",
              "      <td>NaN</td>\n",
              "      <td>NaN</td>\n",
              "      <td>NaN</td>\n",
              "      <td>NaN</td>\n",
              "      <td>NaN</td>\n",
              "      <td>NaN</td>\n",
              "      <td>NaN</td>\n",
              "    </tr>\n",
              "    <tr>\n",
              "      <th>4</th>\n",
              "      <td>000105001  3</td>\n",
              "      <td>0.0</td>\n",
              "      <td>0.0</td>\n",
              "      <td>0.0</td>\n",
              "      <td>0.0</td>\n",
              "      <td>0.0</td>\n",
              "      <td>0.0</td>\n",
              "      <td>0.0</td>\n",
              "      <td>0.0</td>\n",
              "      <td>0.0</td>\n",
              "      <td>...</td>\n",
              "      <td>NaN</td>\n",
              "      <td>No</td>\n",
              "      <td>NaN</td>\n",
              "      <td>NaN</td>\n",
              "      <td>NaN</td>\n",
              "      <td>NaN</td>\n",
              "      <td>NaN</td>\n",
              "      <td>NaN</td>\n",
              "      <td>NaN</td>\n",
              "      <td>NaN</td>\n",
              "    </tr>\n",
              "    <tr>\n",
              "      <th>...</th>\n",
              "      <td>...</td>\n",
              "      <td>...</td>\n",
              "      <td>...</td>\n",
              "      <td>...</td>\n",
              "      <td>...</td>\n",
              "      <td>...</td>\n",
              "      <td>...</td>\n",
              "      <td>...</td>\n",
              "      <td>...</td>\n",
              "      <td>...</td>\n",
              "      <td>...</td>\n",
              "      <td>...</td>\n",
              "      <td>...</td>\n",
              "      <td>...</td>\n",
              "      <td>...</td>\n",
              "      <td>...</td>\n",
              "      <td>...</td>\n",
              "      <td>...</td>\n",
              "      <td>...</td>\n",
              "      <td>...</td>\n",
              "      <td>...</td>\n",
              "    </tr>\n",
              "    <tr>\n",
              "      <th>35761</th>\n",
              "      <td>317503501  2</td>\n",
              "      <td>1.0</td>\n",
              "      <td>0.0</td>\n",
              "      <td>1.0</td>\n",
              "      <td>0.0</td>\n",
              "      <td>0.0</td>\n",
              "      <td>0.0</td>\n",
              "      <td>0.0</td>\n",
              "      <td>0.0</td>\n",
              "      <td>0.0</td>\n",
              "      <td>...</td>\n",
              "      <td>NaN</td>\n",
              "      <td>NaN</td>\n",
              "      <td>No</td>\n",
              "      <td>NaN</td>\n",
              "      <td>NaN</td>\n",
              "      <td>NaN</td>\n",
              "      <td>NaN</td>\n",
              "      <td>NaN</td>\n",
              "      <td>NaN</td>\n",
              "      <td>NaN</td>\n",
              "    </tr>\n",
              "    <tr>\n",
              "      <th>35762</th>\n",
              "      <td>317503701  2</td>\n",
              "      <td>9.0</td>\n",
              "      <td>2.0</td>\n",
              "      <td>4.0</td>\n",
              "      <td>1.0</td>\n",
              "      <td>2.0</td>\n",
              "      <td>0.0</td>\n",
              "      <td>0.0</td>\n",
              "      <td>1.0</td>\n",
              "      <td>0.0</td>\n",
              "      <td>...</td>\n",
              "      <td>NaN</td>\n",
              "      <td>Si</td>\n",
              "      <td>NaN</td>\n",
              "      <td>No</td>\n",
              "      <td>NaN</td>\n",
              "      <td>NaN</td>\n",
              "      <td>NaN</td>\n",
              "      <td>NaN</td>\n",
              "      <td>NaN</td>\n",
              "      <td>NaN</td>\n",
              "    </tr>\n",
              "    <tr>\n",
              "      <th>35763</th>\n",
              "      <td>317507601  1</td>\n",
              "      <td>9.0</td>\n",
              "      <td>5.0</td>\n",
              "      <td>1.0</td>\n",
              "      <td>0.0</td>\n",
              "      <td>3.0</td>\n",
              "      <td>0.0</td>\n",
              "      <td>0.0</td>\n",
              "      <td>1.0</td>\n",
              "      <td>0.0</td>\n",
              "      <td>...</td>\n",
              "      <td>NaN</td>\n",
              "      <td>No</td>\n",
              "      <td>NaN</td>\n",
              "      <td>NaN</td>\n",
              "      <td>NaN</td>\n",
              "      <td>NaN</td>\n",
              "      <td>NaN</td>\n",
              "      <td>NaN</td>\n",
              "      <td>NaN</td>\n",
              "      <td>NaN</td>\n",
              "    </tr>\n",
              "    <tr>\n",
              "      <th>35764</th>\n",
              "      <td>317507801  2</td>\n",
              "      <td>0.0</td>\n",
              "      <td>0.0</td>\n",
              "      <td>0.0</td>\n",
              "      <td>0.0</td>\n",
              "      <td>0.0</td>\n",
              "      <td>0.0</td>\n",
              "      <td>0.0</td>\n",
              "      <td>0.0</td>\n",
              "      <td>0.0</td>\n",
              "      <td>...</td>\n",
              "      <td>NaN</td>\n",
              "      <td>NaN</td>\n",
              "      <td>NaN</td>\n",
              "      <td>NaN</td>\n",
              "      <td>NaN</td>\n",
              "      <td>NaN</td>\n",
              "      <td>NaN</td>\n",
              "      <td>NaN</td>\n",
              "      <td>NaN</td>\n",
              "      <td>NaN</td>\n",
              "    </tr>\n",
              "    <tr>\n",
              "      <th>35765</th>\n",
              "      <td>317508001  2</td>\n",
              "      <td>2.0</td>\n",
              "      <td>1.0</td>\n",
              "      <td>1.0</td>\n",
              "      <td>0.0</td>\n",
              "      <td>0.0</td>\n",
              "      <td>0.0</td>\n",
              "      <td>0.0</td>\n",
              "      <td>0.0</td>\n",
              "      <td>0.0</td>\n",
              "      <td>...</td>\n",
              "      <td>NaN</td>\n",
              "      <td>Si</td>\n",
              "      <td>NaN</td>\n",
              "      <td>NaN</td>\n",
              "      <td>NaN</td>\n",
              "      <td>NaN</td>\n",
              "      <td>NaN</td>\n",
              "      <td>NaN</td>\n",
              "      <td>NaN</td>\n",
              "      <td>NaN</td>\n",
              "    </tr>\n",
              "  </tbody>\n",
              "</table>\n",
              "<p>35766 rows × 207 columns</p>\n",
              "</div>\n",
              "      <button class=\"colab-df-convert\" onclick=\"convertToInteractive('df-c46152c2-6a67-45f8-a1b1-a637c172f879')\"\n",
              "              title=\"Convert this dataframe to an interactive table.\"\n",
              "              style=\"display:none;\">\n",
              "        \n",
              "  <svg xmlns=\"http://www.w3.org/2000/svg\" height=\"24px\"viewBox=\"0 0 24 24\"\n",
              "       width=\"24px\">\n",
              "    <path d=\"M0 0h24v24H0V0z\" fill=\"none\"/>\n",
              "    <path d=\"M18.56 5.44l.94 2.06.94-2.06 2.06-.94-2.06-.94-.94-2.06-.94 2.06-2.06.94zm-11 1L8.5 8.5l.94-2.06 2.06-.94-2.06-.94L8.5 2.5l-.94 2.06-2.06.94zm10 10l.94 2.06.94-2.06 2.06-.94-2.06-.94-.94-2.06-.94 2.06-2.06.94z\"/><path d=\"M17.41 7.96l-1.37-1.37c-.4-.4-.92-.59-1.43-.59-.52 0-1.04.2-1.43.59L10.3 9.45l-7.72 7.72c-.78.78-.78 2.05 0 2.83L4 21.41c.39.39.9.59 1.41.59.51 0 1.02-.2 1.41-.59l7.78-7.78 2.81-2.81c.8-.78.8-2.07 0-2.86zM5.41 20L4 18.59l7.72-7.72 1.47 1.35L5.41 20z\"/>\n",
              "  </svg>\n",
              "      </button>\n",
              "      \n",
              "  <style>\n",
              "    .colab-df-container {\n",
              "      display:flex;\n",
              "      flex-wrap:wrap;\n",
              "      gap: 12px;\n",
              "    }\n",
              "\n",
              "    .colab-df-convert {\n",
              "      background-color: #E8F0FE;\n",
              "      border: none;\n",
              "      border-radius: 50%;\n",
              "      cursor: pointer;\n",
              "      display: none;\n",
              "      fill: #1967D2;\n",
              "      height: 32px;\n",
              "      padding: 0 0 0 0;\n",
              "      width: 32px;\n",
              "    }\n",
              "\n",
              "    .colab-df-convert:hover {\n",
              "      background-color: #E2EBFA;\n",
              "      box-shadow: 0px 1px 2px rgba(60, 64, 67, 0.3), 0px 1px 3px 1px rgba(60, 64, 67, 0.15);\n",
              "      fill: #174EA6;\n",
              "    }\n",
              "\n",
              "    [theme=dark] .colab-df-convert {\n",
              "      background-color: #3B4455;\n",
              "      fill: #D2E3FC;\n",
              "    }\n",
              "\n",
              "    [theme=dark] .colab-df-convert:hover {\n",
              "      background-color: #434B5C;\n",
              "      box-shadow: 0px 1px 3px 1px rgba(0, 0, 0, 0.15);\n",
              "      filter: drop-shadow(0px 1px 2px rgba(0, 0, 0, 0.3));\n",
              "      fill: #FFFFFF;\n",
              "    }\n",
              "  </style>\n",
              "\n",
              "      <script>\n",
              "        const buttonEl =\n",
              "          document.querySelector('#df-c46152c2-6a67-45f8-a1b1-a637c172f879 button.colab-df-convert');\n",
              "        buttonEl.style.display =\n",
              "          google.colab.kernel.accessAllowed ? 'block' : 'none';\n",
              "\n",
              "        async function convertToInteractive(key) {\n",
              "          const element = document.querySelector('#df-c46152c2-6a67-45f8-a1b1-a637c172f879');\n",
              "          const dataTable =\n",
              "            await google.colab.kernel.invokeFunction('convertToInteractive',\n",
              "                                                     [key], {});\n",
              "          if (!dataTable) return;\n",
              "\n",
              "          const docLinkHtml = 'Like what you see? Visit the ' +\n",
              "            '<a target=\"_blank\" href=https://colab.research.google.com/notebooks/data_table.ipynb>data table notebook</a>'\n",
              "            + ' to learn more about interactive tables.';\n",
              "          element.innerHTML = '';\n",
              "          dataTable['output_type'] = 'display_data';\n",
              "          await google.colab.output.renderOutput(dataTable, element);\n",
              "          const docLink = document.createElement('div');\n",
              "          docLink.innerHTML = docLinkHtml;\n",
              "          element.appendChild(docLink);\n",
              "        }\n",
              "      </script>\n",
              "    </div>\n",
              "  </div>\n",
              "  "
            ]
          },
          "metadata": {},
          "execution_count": 57
        }
      ]
    },
    {
      "cell_type": "code",
      "source": [
        "print(id_list[0])\n",
        "print(type(id_list))"
      ],
      "metadata": {
        "colab": {
          "base_uri": "https://localhost:8080/"
        },
        "id": "BNcqCVweOL12",
        "outputId": "e61635f2-4a98-4375-e1e7-1cda2a16f9be"
      },
      "execution_count": null,
      "outputs": [
        {
          "output_type": "stream",
          "name": "stdout",
          "text": [
            "/content/drive/MyDrive/DIPLOMADO_PUCP/Fundamentos_Python/endes/2015/RE223132.SAV\n",
            "<class 'list'>\n"
          ]
        }
      ]
    },
    {
      "cell_type": "code",
      "source": [
        "df_var_labels = [] #generamos una lista vacía que será integrada por dataframes\n",
        "df_value_labels = [] #generamos una lista vacía que será integrada por dataframes\n",
        "#ahora obtenemos las etiquetas de los valores y de las variables desde el sav file\n",
        "\n",
        "#recogemos las etiquetas de valores y variables de los archivos tipo sav y los agregamos en las listas df_value_labels y df_var_labels, respectivamente\n",
        "for i in range(len(id_list)):\n",
        "  with sav.SavHeaderReader( id_list[i], ioUtf8=True) as header:\n",
        "    temp_metadata = header.all()\n",
        "    value_labels = temp_metadata.valueLabels\n",
        "    df_value_labels.append(value_labels)\n",
        "\n",
        "for a in range(len(id_list)):\n",
        "  with sav.SavHeaderReader( id_list[a], ioUtf8=True) as header:\n",
        "    temp_metadata = header.all()    \n",
        "    var_labels = temp_metadata.varLabels\n",
        "    df_var_labels.append(var_labels)\n"
      ],
      "metadata": {
        "id": "LHLRbgHnOE4l"
      },
      "execution_count": null,
      "outputs": []
    },
    {
      "cell_type": "code",
      "source": [
        "print(df_var_labels[-1])\n",
        "print(df_value_labels[-1])\n",
        "#el resultado coincide con las etiquetas de 2019/REC0111.sav (derivadas en la parte inicial del ejercicio)"
      ],
      "metadata": {
        "colab": {
          "base_uri": "https://localhost:8080/"
        },
        "id": "84n7kXHAXEKf",
        "outputId": "756ca082-a25f-4bdf-fa34-27f49a7d9707"
      },
      "execution_count": null,
      "outputs": [
        {
          "output_type": "stream",
          "name": "stdout",
          "text": [
            "{'ID1': 'Año', 'HHID': 'Identificación Cuestionario del Hogar', 'CASEID': 'Identificación Cuestionario Individual', 'V001': 'Conglomerado', 'V002': 'Número de vivienda', 'V003': 'Número de línea de entrevistada', 'V004': 'Unidad de área final', 'V007': 'Año de la entrevista', 'V008': 'Fecha de la entrevista, Codificación centenaria de meses (CMC)', 'V009': 'Mes de nacimiento de la entrevistada', 'V010': 'Año de nacimiento de la entrevistada', 'V011': 'Fecha de nacimiento, Codificación centenaria de meses (CMC)', 'V012': 'Edad actual - entrevistada', 'V013': 'Edad actual por grupos de 5 años', 'V014': 'Integridad de la información para la fecha de nacimiento ', 'V015': 'Resultado entrevista individual', 'V017': 'Inicio del calendario, Codificación centenaria de mesesl CMC', 'V018': 'Columna del mes de la entrevista', 'V019': 'Duración del calendario', 'V019A': 'Número de columnas de calendario', 'V020': 'Muestra alguna vez casada', 'V021': 'Unidad de muestreo primario - conglomerado', 'V023': 'Dominio de ejemplo - Departamento', 'V024': 'Región', 'V025': 'Tipo de lugar de residencia', 'V026': 'El lugar de residencia en el que se entrevistó - De Facto', 'V027': 'Número de visitas', 'V028': 'Identificación del entrevistador', 'V029': 'Identificador del digitador', 'V030': 'Supervisor de campo', 'V031': 'Editor de campo', 'V032': 'Editor de la oficina', 'V033': 'Selección final del área de probabilidad', 'V034': 'Número de orden del esposo', 'V040': 'Altitud del conglomerado en metros', 'V042': 'Selección de hogar para hemoglobina', 'V043': 'Selección para módulo de estatus de mujeres', 'V044': 'Selección para módulo de violencia domestica', 'V000': 'Código y fase del país', 'Q105DD': 'Dia de nacimeinto de la entrevistada', 'V101': 'Región', 'V102': 'Tipo de lugar de residencia', 'V103': 'Lugar de residencia de la infancia', 'V104': 'Cuanto tiempo tiene viviendo continuamente en el lugar de residencia actual', 'V105': 'Tipo de lugar de residencia anteriormente', 'V106': 'Nivel educativo más alto', 'V107': 'Año/grado de educación más alto aprobado', 'V113': 'Fuente principal de abasteciemiento de agua potable que utilizan en su hogar para tomar o beber', 'V115': 'Tiempo para llegar a la fuente de agua', 'V116': 'Tipo de instalación sanitaria', 'V119': 'En su hogar tiene: electricidad', 'V120': 'En su hogar tiene: radio', 'V121': 'En su hogar tiene: televisión', 'V122': 'En su hogar tiene: refrigerador', 'V123': 'En su hogar tiene: bicicleta', 'V124': 'En su hogar tiene: motocicleta/motocar', 'V125': 'En su hogar tiene: coche/camión', 'V127': 'Material predominante del piso de la vivienda', 'V128': 'Material predominante de las paredes exteriores de la vivienda', 'V129': 'Material predominante del techo de la vivienda', 'V130': 'Religión', 'V131': 'Etnicidad', 'V133': 'Educación en años simples', 'V134': 'El lugar en el que se realizó la entrevista  De-facto', 'V135': 'Residente habitual o visitante', 'V136': 'Número de miembros del hogar', 'V137': 'Número de niños de 6 años de edad ', 'V138': 'Número de mujeres de 15 a 49 años de edad elegibles en el hogar ', 'V139': 'Región, residencia habitual De-jure', 'V140': 'Tipo de área de residencia De-jure', 'V141': 'Lugar de residencia De-jure', 'V149': 'Logro educativo', 'V150': 'Relación con el jefe del hogar', 'V151': 'Sexo del Jefe del Hogar', 'V152': 'Edad del jefe del hogar', 'V153': 'En su hogar tiene: teléfono', 'AWFACTT': 'Factor todas las mujeres - total', 'AWFACTU': 'Factor todas las mujeres - urbano/rural', 'AWFACTR': 'Factor todas las mujeres - regional', 'AWFACTE': 'Factor todas las mujeres - educación', 'AWFACTW': 'Factor todas las mujeres - índice de riqueza', 'V155': 'Alfabetización', 'V156': 'Alguna vez participó en un programa de alfabetización (no incluyendo la escuela primaria)', 'V157': 'Frecuencia de lectura de un periódico o revista', 'V158': 'Frecuencia de escuchar radio', 'V159': 'Frecuencia de ver televisión', 'V160': 'Baño compartido con otros hogares', 'V161': 'Tipo de combustible para cocinar', 'V166': 'Resultados de la prueba del yodo en la sal', 'V167': 'Número de viajes en los últimos 12 meses', 'V168': 'Afuera más de un mes en los últimos 12 meses', 'ML101': 'Tipo de mosquitero que utilizo para dormir última noche', 'QD333_1': 'Alguna dificultad o limitación permanente para ver, aún usando anteojos', 'QD333_2': 'Alguna dificultad o limitación permanente para oir, aún usando audífonos', 'QD333_3': 'Alguna dificultad o limitación permanente para hablar o comunicarse, aún usando la lengua de señas u otro', 'QD333_4': 'Alguna dificultad o limitación permanente para moverse o caminar para usar brazos y/o piernas', 'QD333_5': 'Alguna dificultad o limitación permanente para entender o aprender (concentrarse y recordarse)', 'QD333_6': 'Alguna dificultad o limitación permanente para relacionarse con los demás, por sus pensamientos, sentimientos, emociones o conductas', 'UBIGEO': 'Código de Ubicación Gegráfica', 'V022': 'Estratos', 'V005': 'Factor de ponderacion', 'V190': 'Índice de riqueza', 'V191': 'Factor de puntuación del índice de riqueza (5 decimales)', 'mujeres12a49': 'Mujeres de 12 a 49 años de edad', 'NCONGLOME': 'Número de Conglomerado (proveniente del marco)'}\n",
            "{'V013': {0.0: 'De 12 a 14 años de edad', 1.0: 'De 15 a 19 años de edad', 2.0: 'De 20 a 24 años de edad', 3.0: 'De 25 a 29 años de edad', 4.0: 'De 30 a 34 años de edad', 5.0: 'De 35 a 39 años de edad', 6.0: 'De 40 a 44 años de edad', 7.0: 'De 45 a 49 años de edad'}, 'V014': {1.0: 'Mes y año', 2.0: 'Mes y edad - año imputado', 3.0: 'Año y edad - mes imputado', 4.0: 'Año y edad - año ignorado supera el año de entrevista', 5.0: 'Año - edad y mes imputados', 6.0: 'Edad - año y mes imputados', 7.0: 'Mes - edad y año imputados', 8.0: 'Ninguno - edad, mes y año imputados'}, 'V015': {1.0: 'Completa', 2.0: 'Ausente', 3.0: 'Aplazada', 4.0: 'Rechazada', 5.0: 'Incoompleta', 6.0: 'Discapacitada', 7.0: 'Otra'}, 'V018': {0.0: 'Sin calendario'}, 'V019': {0.0: 'Sin calendario'}, 'V020': {0.0: 'Toda la mujer muestra', 1.0: 'Alguna muestra casada'}, 'V023': {1.0: 'Amazonas', 2.0: 'Ancash', 3.0: 'Apurimac', 4.0: 'Arequipa', 5.0: 'Ayacucho', 6.0: 'Cajamarca', 7.0: 'Callao', 8.0: 'Cusco', 9.0: 'Huancavelica', 10.0: ' Huanuco', 11.0: ' Ica', 12.0: ' Junin', 13.0: ' La Libertad', 14.0: ' Lambayeque', 15.0: ' Lima', 16.0: ' Loreto', 17.0: ' Madre de Dios', 18.0: ' Moquegua', 19.0: ' Pasco', 20.0: ' Piura', 21.0: ' Puno', 22.0: ' San Martin', 23.0: ' Tacna', 24.0: ' Tumbes', 25.0: ' Ucayali'}, 'V024': {1.0: 'Amazonas', 2.0: 'Ancash', 3.0: 'Apurimac', 4.0: 'Arequipa', 5.0: 'Ayacucho', 6.0: 'Cajamarca', 7.0: 'Callao', 8.0: 'Cusco', 9.0: 'Huancavelica', 10.0: ' Huanuco', 11.0: ' Ica', 12.0: ' Junin', 13.0: ' La Libertad', 14.0: ' Lambayeque', 15.0: ' Lima', 16.0: ' Loreto', 17.0: ' Madre de Dios', 18.0: ' Moquegua', 19.0: ' Pasco', 20.0: ' Piura', 21.0: ' Puno', 22.0: ' San Martin', 23.0: ' Tacna', 24.0: ' Tumbes', 25.0: ' Ucayali'}, 'V025': {1.0: 'Urbano', 2.0: 'Rural'}, 'V026': {0.0: 'Capital, gran ciudad', 1.0: 'Pequeña ciudad', 2.0: 'Pueblo', 3.0: 'Campo'}, 'V034': {0.0: 'El esposo no está en el hogar'}, 'V042': {0.0: 'No sabeleccionado', 1.0: 'Seleccionado'}, 'V043': {0.0: 'Mujer No sabeleccionada', 1.0: 'Mujer seleccionada'}, 'V044': {0.0: 'Mujer No sabeleccionada', 1.0: 'Mujer seleccionada y entrevistada', 2.0: 'Mujer seleccionada, pero la privacidad no es posible', 3.0: 'Mujer seleccionada, pero no entrevistada'}, 'Q105DD': {31.0: '1', 98.0: 'No sabe el dia'}, 'V101': {1.0: 'Amazonas', 2.0: 'Ancash', 3.0: 'Apurimac', 4.0: 'Arequipa', 5.0: 'Ayacucho', 6.0: 'Cajamarca', 7.0: 'Callao', 8.0: 'Cusco', 9.0: 'Huancavelica', 10.0: 'Huanuco', 11.0: 'Ica', 12.0: 'Junin', 13.0: 'La Libertad', 14.0: 'Lambayeque', 15.0: 'Lima', 16.0: 'Loreto', 17.0: 'Madre de Dios', 18.0: 'Moquegua', 19.0: 'Pasco', 20.0: 'Piura', 21.0: 'Puno', 22.0: 'San Martin', 23.0: 'Tacna', 24.0: 'Tumbes', 25.0: 'Ucayali'}, 'V102': {1.0: 'Urbano', 2.0: 'Rural'}, 'V103': {0.0: 'Capital, gran ciudad', 1.0: 'Ciudad', 2.0: 'Pueblo', 3.0: 'Campo', 4.0: 'En el extranjero'}, 'V104': {95.0: 'Siempre', 96.0: 'Visitante', 97.0: 'Inconsistente', 98.0: 'No sabe'}, 'V105': {0.0: 'Capital, gran ciudad', 1.0: 'Ciudad', 2.0: 'Pueblo', 3.0: 'Campo', 4.0: 'En el extranjero'}, 'V106': {0.0: 'Sin educación', 1.0: 'Primario', 2.0: 'Secundario', 3.0: 'Mayor'}, 'V113': {11.0: 'Dentro de la vivienda', 12.0: 'Fuera de la vivienda, pero dentro del edificio', 13.0: 'Pilón/Grifo público', 21.0: 'Pozo en la casa/patio/lote', 22.0: 'Pozo Público', 41.0: 'Manantial (puquio)', 43.0: 'Río/Acequia/Laguna', 51.0: 'Agua de lluvia', 61.0: 'Camión tanque/Aguatero', 71.0: 'Agua embotellada', 96.0: 'Otro', 97.0: 'No es residente habitual'}, 'V115': {996.0: 'En los lugares', 997.0: 'No residente de jure'}, 'V116': {11.0: 'Vivienda interior', 12.0: 'Vivienda exterior', 21.0: 'Letrina ventilada', 22.0: 'Pozo séptico', 23.0: 'Latrina (ciego o negro)', 24.0: 'Latrina sobre el río/lago', 31.0: 'Río, canal', 32.0: 'Sin servicio', 96.0: 'Otro', 97.0: 'No es residente habitual'}, 'V119': {0.0: 'No', 1.0: 'Si', 7.0: 'No es residente habitual'}, 'V120': {0.0: 'No', 1.0: 'Si', 7.0: 'No es residente habitual'}, 'V121': {0.0: 'No', 1.0: 'Si', 7.0: 'No es residente habitual'}, 'V122': {0.0: 'No', 1.0: 'Si', 7.0: 'No es residente habitual'}, 'V123': {0.0: 'No', 1.0: 'Si', 7.0: 'No es residente habitual'}, 'V124': {0.0: 'No', 1.0: 'Si', 7.0: 'No es residente habitual'}, 'V125': {0.0: 'No', 1.0: 'Si', 7.0: 'No es residente habitual'}, 'V127': {11.0: 'Tierra/arena', 21.0: 'Madera (entablados)', 31.0: 'Parquet o madera pulida', 32.0: 'Làminas asfálticas, vinílicos o similares', 33.0: 'Losetas, terrazos o similares', 34.0: 'Cemento/ladrillo', 96.0: 'Pona', 97.0: 'Otro(pona)'}, 'V128': {11.0: 'Tablones/madera', 12.0: 'Estera', 13.0: 'Caña/bambu/pona/palma/troncos/tabique', 21.0: 'Adobe o tapia tarrajeados', 22.0: 'Quincha (caña con barro)', 23.0: 'Piedra con barro', 24.0: 'Cartón', 31.0: 'Ladrillo o /Bloques de cemento', 32.0: 'Piedra o sillar con cal o cemento', 33.0: 'Tripley', 41.0: 'Sin paredes', 96.0: 'Otro', 97.0: 'No es residente habitual'}, 'V129': {11.0: 'Paja, hojas de palmera etc.', 12.0: 'Estera', 21.0: 'Caña o estera con torta de barro ', 22.0: 'Cartón', 31.0: 'Concreto armado', 32.0: 'Madera ', 33.0: 'Tejas', 34.0: 'Plancha de calamina, fibra de cemento o similares ', 41.0: 'Sin techo', 96.0: 'Otro', 97.0: 'No es residente habitual'}, 'V130': {96.0: 'Otra'}, 'V131': {1.0: 'Quechua', 2.0: 'Aimara', 3.0: 'Ashaninka', 4.0: 'Awajún/Aguaruna', 5.0: 'Shipibo/Konibo', 6.0: 'Shawi/Chayahuita', 7.0: 'Matsigenka/ Machiguenga', 8.0: 'Achuar', 9.0: 'Otra lengua nativa u originaria', 10.0: 'Castellano', 11.0: 'Portugués', 12.0: 'Otra lengua extranjera'}, 'V133': {97.0: 'Inconsistente'}, 'V134': {0.0: 'Capital, ciudad grande', 1.0: 'Ciudad pequeña', 2.0: 'Pueblo', 3.0: 'Campo'}, 'V135': {1.0: 'Residente habitual', 2.0: 'Visitante'}, 'V139': {0.0: 'En el extranjero', 1.0: 'Amazonas', 2.0: 'Ancash', 3.0: 'Apurimac', 4.0: 'Arequipa', 5.0: 'Ayacucho', 6.0: 'Cajamarca', 7.0: 'Callao', 8.0: 'Cusco', 9.0: 'Huancavelica', 10.0: 'Huanuco', 11.0: 'Ica', 12.0: 'Junin', 13.0: 'La Libertad', 14.0: 'Lambayeque', 15.0: 'Lima', 16.0: 'Loreto', 17.0: 'Madre de Dios', 18.0: 'Moquegua', 19.0: 'Pasco', 20.0: 'Piura', 21.0: 'Puno', 22.0: 'San Martin', 23.0: 'Tacna', 24.0: 'Tumbes', 25.0: 'Ucayali', 97.0: 'No es residente habitual'}, 'V140': {1.0: 'Área urbana', 2.0: 'Área rural', 7.0: 'No es residente habitual'}, 'V141': {0.0: 'Capital, ciudad grande', 1.0: 'Ciudad pequeña', 2.0: 'Pueblo', 3.0: 'Campo', 7.0: 'No es residente habitual'}, 'V149': {0.0: 'Sin educación', 1.0: 'Primaria incompleta', 2.0: 'Primaria completa', 3.0: 'Secundaria incompleta', 4.0: 'Secundaria completa', 5.0: 'Superior'}, 'V150': {1.0: 'Jefe del hogar', 2.0: 'Esposa/esposo', 3.0: 'Hijo/Hija', 4.0: 'Yerno/Nuera ', 5.0: 'Nieto/Nieta', 6.0: 'Padre/Madre', 7.0: 'Suegro/Suegra', 8.0: 'Hermano/a', 9.0: 'Conviviente', 10.0: 'Otro pariente', 11.0: 'Hijo adoptado/hijo de crianza', 12.0: 'Sin parentesco', 15.0: 'Empleada domésdtica', 98.0: 'No sabe'}, 'V151': {1.0: 'Hombre', 2.0: 'Mujer'}, 'V152': {97.0: '97+', 98.0: 'NS'}, 'V153': {0.0: 'No', 1.0: 'Si', 7.0: 'No es residente habitual'}, 'V155': {0.0: 'No puede leer', 1.0: 'Puede leer sólo parte de la frase', 2.0: 'Puede leer la frase ', 3.0: 'No hay tarjeta en el idioma requerido', 4.0: 'Ciega/problemas visuales'}, 'V156': {0.0: 'No', 1.0: 'Si'}, 'V157': {0.0: 'Nunca', 1.0: 'De vez en cuando', 2.0: 'Una vez por semana', 3.0: 'Casi todos los días'}, 'V158': {0.0: 'Nunca', 1.0: 'De vez en cuando', 2.0: 'Una vez por semana', 3.0: 'Casi todos los días'}, 'V159': {0.0: 'Nunca', 1.0: 'De vez en cuando', 2.0: 'Una vez por semana', 3.0: 'Casi todos los días'}, 'V160': {0.0: 'No', 1.0: 'Si', 7.0: 'No es residente habitual'}, 'V161': {1.0: 'Electricidad', 2.0: 'Gas Licuado (GLP)', 3.0: 'Gas natural(Tuberia)', 5.0: 'Kerosene', 6.0: 'Carbón mineral', 7.0: 'Carbon vegetal', 8.0: 'Leña', 9.0: 'Cañas/Arbustos (secos)', 10.0: 'Residuos agricolas', 11.0: 'Bosta', 95.0: 'No cocina', 96.0: 'Otro', 97.0: 'No es residente habitual'}, 'V166': {0.0: 'Sin coloración  - 0 ppm (sin yodo)', 7.0: 'Coloración tenue - 7 ppm', 15.0: 'Coloración azul o morado - 15 ppm', 30.0: 'Coloración morado oscuro - 30 ppm a más', 994.0: 'No se pudo realizar la prueba ', 995.0: 'No hay sal en el hogar'}, 'V167': {0.0: 'Ninguno'}, 'V168': {0.0: 'No', 1.0: 'Si'}, 'ML101': {0.0: 'Sin mosquitero', 1.0: 'Solo mosquiteros tratados', 2.0: 'Ambos mosquiteros tratados y no tratados', 3.0: 'Solo mosquiteros no tratados'}, 'QD333_1': {1.0: 'Si', 2.0: 'No'}, 'QD333_2': {1.0: 'Si', 2.0: 'No'}, 'QD333_3': {1.0: 'Si', 2.0: 'No'}, 'QD333_4': {1.0: 'Si', 2.0: 'No'}, 'QD333_5': {1.0: 'Si', 2.0: 'No'}, 'QD333_6': {1.0: 'Si', 2.0: 'No'}, 'V190': {1.0: 'El más pobre', 2.0: 'Pobrer', 3.0: 'Medio', 4.0: 'Rico', 5.0: 'Más rico'}, 'mujeres12a49': {0.0: 'Mujeres de 12 a 14 de edad, nunca embarazadas', 1.0: 'Mujeres de 12 a 49 de edad, alguna vez emabrazadas', 2.0: 'Mujeres de 15 a 49 años de edad'}}\n"
          ]
        }
      ]
    },
    {
      "cell_type": "code",
      "source": [
        "#Los siguientes loops filtrarán las bases de datos, de forma que nos quedemos con las variables requeridas para el análisis\n",
        "#luego empleamos un array con el nombre de las variables como llave (key) en cada base\n",
        "#aquí también estamos interesados en quedarnos con las etiquetas de variables y de valores que sean relativas a las columnas de la base acotada\n",
        "#Por ello generamos nuevos diccionarios para las etiquetas, estos cumplen la condición de que sus llaves forman parte del array de strings: new_keys1, new_keys2 y new_keys3 (según corresponda)\n",
        "\n",
        "for a in range(2,10,3):\n",
        "  dataframes_list[a].loc[ : , ['CASEID', 'V000', 'V001', 'V002', 'V003', 'V004', 'V007', 'V008', 'V009', \n",
        "                        'V010', 'V011', 'V012', 'V024', 'V102', 'V120', 'V121', 'V122', 'V123',\n",
        "                        'V124', 'V125', 'V127', 'V133'] ]\n",
        "  new_keys1= dataframes_list[a].columns.values\n",
        "  { key:value for ( key, value ) in df_value_labels[a].items() if key in new_keys1 }\n",
        "\n",
        "#el segundo loop es análogo al primero, pero se concentra en el grupo de bases RE223132.SAV\n",
        "for i in range(0,13,3):\n",
        "  dataframes_list[i].loc[ : , ['CASEID', 'V201', 'V218', 'V301', 'V302', 'V323', 'V323A', 'V325A', 'V326', \n",
        "                        'V327', 'V337', 'V359', 'V360', 'V361', 'V362', 'V363', 'V364', 'V367', \n",
        "                        'V372', 'V372A', 'V375A', 'V376', 'V376A', 'V379', 'V380'] ]\n",
        "  new_keys2= dataframes_list[i].columns.values\n",
        "  { key:value for ( key, value ) in df_value_labels[i].items() if key in new_keys2 }\n",
        "  \n",
        "#el último loop es análogo a los anteriores pero se concentra en el grupo de bases RE516171.SAV\n",
        "for c in range(1,14,3):\n",
        "  dataframes_list[c].loc[ : , ['CASEID', 'V501', 'V502', 'V503', 'V504', 'V505', 'V506', 'V507', 'V508', \n",
        "                        'V509', 'V510', 'V511', 'V512', 'V513', 'V525', 'V613', 'V714', 'V715'] ]\n",
        "  new_keys3= dataframes_list[c].columns.values\n",
        "  { key:value for ( key, value ) in df_value_labels[c].items() if key in new_keys3 }"
      ],
      "metadata": {
        "id": "Y6ABi-_uY0SM"
      },
      "execution_count": null,
      "outputs": []
    },
    {
      "cell_type": "code",
      "source": [
        "all_data = {'year_2015' : {'data':{}, 'var_labels':{} , 'value_labels':{}}, 'year_2016' : {'data':{}, 'var_labels':{} , 'value_labels':{}}, 'year_2017' : {'data':{}, 'var_labels':{} , 'value_labels':{}}, 'year_2018' : {'data':{}, 'var_labels':{} , 'value_labels':{}}, 'year_2019' : {'data':{}, 'var_labels':{} , 'value_labels':{}}}\n",
        "all_data "
      ],
      "metadata": {
        "colab": {
          "base_uri": "https://localhost:8080/"
        },
        "id": "XUMCL6KRTK7j",
        "outputId": "17887953-b0f2-4183-f204-218c1b0369cc"
      },
      "execution_count": 67,
      "outputs": [
        {
          "output_type": "execute_result",
          "data": {
            "text/plain": [
              "{'year_2015': {'data': {}, 'var_labels': {}, 'value_labels': {}},\n",
              " 'year_2016': {'data': {}, 'var_labels': {}, 'value_labels': {}},\n",
              " 'year_2017': {'data': {}, 'var_labels': {}, 'value_labels': {}},\n",
              " 'year_2018': {'data': {}, 'var_labels': {}, 'value_labels': {}},\n",
              " 'year_2019': {'data': {}, 'var_labels': {}, 'value_labels': {}}}"
            ]
          },
          "metadata": {},
          "execution_count": 67
        }
      ]
    },
    {
      "cell_type": "markdown",
      "source": [
        "#### Part. 7 "
      ],
      "metadata": {
        "id": "CuHW-0UnPTF1"
      }
    },
    {
      "cell_type": "markdown",
      "source": [
        "7. Use `all_data` to append all the data sets. Store all data sets in a list using `for loop`. Then, use `pd.concat` to append all the data sets. Also, you must reset the index to have a good-looking data. This new object should be named as `endes_data_2015_2019`. **Hint: Use [this code](https://stackoverflow.com/questions/32444138/concatenate-a-list-of-pandas-dataframes-together)**"
      ],
      "metadata": {
        "id": "4bHTcLAQPRxl"
      }
    },
    {
      "cell_type": "code",
      "source": [
        "list_year=[]\n",
        "for year in years:\n",
        "    list_year += [ all_data.get( f'year_{ year }' ).get( 'data' ) ]\n",
        "endes_data_2015_2019 = pd.concat( list_year ).reset_index( drop = True )\n",
        "endes_data_2015_2019 = endes_data_2015_2019.reset_index()\n",
        "\n",
        "\n",
        "del(endes_data_2015_2019['index'])\n",
        "endes_data_2015_2019"
      ],
      "metadata": {
        "id": "UqiqC5Qw1Q7t"
      },
      "execution_count": null,
      "outputs": []
    },
    {
      "cell_type": "markdown",
      "source": [
        "#### Part .8 \n"
      ],
      "metadata": {
        "id": "S6ebiudO1Rdh"
      }
    },
    {
      "cell_type": "markdown",
      "source": [
        "8. Store all the `var_labels` and `value_labels` in a dictionary named as `all_var_labels` and `all_value_labels`. The first keys should be the year for both dictionaries.Then, use them to generate new attributes for `endes_data_2015_2019`. These attributes should be named as `var_labels` and `value_labels`. Your final output should be equal to `endes_data_2015_2019_ta` object. **Hint: Use [this link](https://notebooks.githubusercontent.com/view/ipynb?browser=chrome&color_mode=auto&commit=4d6de78e00e7001f16bf6473c2eb7ce24fb611cd&device=unknown_device&enc_url=68747470733a2f2f7261772e67697468756275736572636f6e74656e742e636f6d2f616c6578616e6465727175697370652f4469706c6f6d61646f5f505543502f346436646537386530306537303031663136626636343733633265623763653234666236313163642f4c6563747572655f342f4c6563747572655f342e6970796e62&logged_in=true&nwo=alexanderquispe%2FDiplomado_PUCP&path=Lecture_4%2FLecture_4.ipynb&platform=windows&repository_id=427747212&repository_type=Repository&version=95#4.2.3.)**"
      ],
      "metadata": {
        "id": "xic6ioS21UKs"
      }
    },
    {
      "cell_type": "code",
      "source": [
        "output = urllib.request.urlopen( r'https://www.dropbox.com/s/oifvyjrr7s0e1md/endes_data_2015_2019_ta.pkl?dl=1')\n",
        "endes_data_2015_2019_ta = pickle.load( output )\n"
      ],
      "metadata": {
        "id": "iUZ4K-Ca1fyO"
      },
      "execution_count": null,
      "outputs": []
    },
    {
      "cell_type": "code",
      "source": [
        "all_var_labels = {}\n",
        "\n",
        "for year in years:\n",
        "    all_var_labels[ f'{year}' ] = all_data.get( f'year_{ year }' ).get( 'var_labels' )\n",
        "\n",
        "\n",
        "all_value_labels = {}\n",
        "for year in years:\n",
        "    all_value_labels[ f'{year}' ] = all_data.get( f'year_{ year }' ).get( 'value_labels' )\n",
        "\n",
        "\n",
        "endes_data_2015_2019.attrs[ 'var_labels' ] = all_var_labels\n",
        "endes_data_2015_2019.attrs[ 'value_labels' ] = all_value_labels\n",
        "\n",
        "output = urllib.request.urlopen( r'https://www.dropbox.com/s/oifvyjrr7s0e1md/endes_data_2015_2019_ta.pkl?dl=1')\n",
        "\n",
        "endes_data_2015_2019_ta = pickle.load( output )"
      ],
      "metadata": {
        "id": "zVhJ34aK8a19"
      },
      "execution_count": null,
      "outputs": []
    },
    {
      "cell_type": "markdown",
      "source": [
        "#### Part. 9"
      ],
      "metadata": {
        "id": "U4nlbLD_1uUG"
      }
    },
    {
      "cell_type": "markdown",
      "source": [
        "9. Use `endes_data_2015_2019` data to generate a new object named `mean_key_vars` to find the mean of **total children ever born (V201)**, **Ideal number of children (V613)**, **Husbands education-single yrs (V715)**, and **Age at first marriage (V511)** by year and department **(V024)**. Name these columns as **mean_total_children, mean_ideal_children, mean_hb_yr_educ and mean_first_marriage**, respectively. **Hint: Use groupby and [this link](https://stackoverflow.com/questions/40901770/is-there-a-simple-way-to-change-a-column-of-yes-no-to-1-0-in-a-pandas-dataframe).**"
      ],
      "metadata": {
        "id": "RKDiwgNw1kB3"
      }
    },
    {
      "cell_type": "code",
      "source": [],
      "metadata": {
        "id": "5I7Ov4K91qt-"
      },
      "execution_count": null,
      "outputs": []
    },
    {
      "cell_type": "markdown",
      "source": [
        "#### Part. 10"
      ],
      "metadata": {
        "id": "SOt3cAj51rrV"
      }
    },
    {
      "cell_type": "markdown",
      "source": [
        "10. Merge `mean_key_vars` with `endes_data_2015_2019`. Name this object `final_result`. Your ouput should be equal to `final_result_ta`. **Hint: Use merge.**"
      ],
      "metadata": {
        "id": "m4cPqAnm1q3P"
      }
    },
    {
      "cell_type": "code",
      "source": [
        "output = urllib.request.urlopen( r'https://www.dropbox.com/s/ntor3jbpdxpj9u1/final_result_ta.pkl?dl=1' )\n",
        "final_result_ta = pickle.load( output )"
      ],
      "metadata": {
        "id": "WykrE3Yf1zqF"
      },
      "execution_count": null,
      "outputs": []
    }
  ],
  "metadata": {
    "hide_input": false,
    "kernelspec": {
      "display_name": "Python 3 (ipykernel)",
      "language": "python",
      "name": "python3"
    },
    "language_info": {
      "codemirror_mode": {
        "name": "ipython",
        "version": 3
      },
      "file_extension": ".py",
      "mimetype": "text/x-python",
      "name": "python",
      "nbconvert_exporter": "python",
      "pygments_lexer": "ipython3",
      "version": "3.9.13"
    },
    "colab": {
      "provenance": []
    }
  },
  "nbformat": 4,
  "nbformat_minor": 0
}