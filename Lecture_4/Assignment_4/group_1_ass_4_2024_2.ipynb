{
 "cells": [
  {
   "cell_type": "markdown",
   "metadata": {},
   "source": [
    "# Group_1\n",
    "- MAX LENIN CHIPANI LIMA \n",
    "- ANDRES ALEXANDER VILLACORTA BARRERA\n",
    "- ESTEFANNY MIRIAN GIL MAMANI\n",
    "- VANESSA ALESSANDRA AZAÑEDO GAMARRA\n",
    "- JOSE MARIA MIGUEL LOYOLA ROMERO "
   ]
  },
  {
   "cell_type": "markdown",
   "metadata": {},
   "source": [
    "# Assigment 4\n",
    "\n",
    "This assigment will be graded if everything works well. I will run the script as once and everything should be done without errors and mistakes. I should be able to run your scripts in my computer and get all the results. **USE RELATIVE PATHS**. An error or exception or anything that breaks the code will means NO GRADE (0). Additionally, you are not able to modify any file handly. It also means NO GRADE (0). Comment everything you think will help others read your script. We expect 0 errors using GitHub. Everything will be graded!\n",
    "\n",
    "**ASK EVERYTHING! WE ARE HERE TO HELP YOU!**"
   ]
  },
  {
   "cell_type": "markdown",
   "metadata": {},
   "source": [
    "In this path **..\\_data\\sbs\\B_RawData\\bancos** you will find scraped data from [this link](https://www.sbs.gob.pe/app/pp/EstadisticasSAEEPortal/Paginas/TIActivaTipoCreditoEmpresa.aspx?tip=B). We get all the information of the last available day of every each month.\n",
    "\n",
    "1. Generate a function called **import_data_sbs_banks** that take as arguments `start_month`, `start_year`, `end_month` and `end_year`. This function should be able to import the files in **..\\_data\\sbs\\B_RawData\\bancos** taking into consideration these arguments. Additionally, it should work if it is only given the first two arguments `(start_mont, start_year)`. For example, this script `import_data_sbs_banks(10, 2015)` should return only the data for October 2015. The function should `returns` a nested dictionary. The `main key` must be year and `second key` must be `month`. The values should be the dataframes. "
   ]
  },
  {
   "cell_type": "markdown",
   "metadata": {},
   "source": [
    "Example of Nested Dictionary\n",
    "\n",
    "Instead of `df_10_2015` it should have the information for October 2015."
   ]
  },
  {
   "cell_type": "code",
   "execution_count": 2,
   "metadata": {},
   "outputs": [],
   "source": [
    "nested_dict = { '2015' : { '10': 'df_10_2015', \n",
    "                       '09': 'df_09_2015'  }, \n",
    "              '2016' : { '10': 'df_10_2016', \n",
    "                       '09': 'df_09_2016'  }}"
   ]
  },
  {
   "cell_type": "code",
   "execution_count": 1,
   "metadata": {},
   "outputs": [
    {
     "name": "stdout",
     "output_type": "stream",
     "text": [
      "Requirement already satisfied: openpyxl in d:\\anaconda\\envs\\selenium_env\\lib\\site-packages (3.1.5)\n",
      "Requirement already satisfied: et-xmlfile in d:\\anaconda\\envs\\selenium_env\\lib\\site-packages (from openpyxl) (1.1.0)\n",
      "Note: you may need to restart the kernel to use updated packages.\n"
     ]
    }
   ],
   "source": [
    "pip install openpyxl"
   ]
  },
  {
   "cell_type": "code",
   "execution_count": 2,
   "metadata": {},
   "outputs": [],
   "source": [
    "import os"
   ]
  },
  {
   "cell_type": "code",
   "execution_count": 3,
   "metadata": {},
   "outputs": [],
   "source": [
    "import pandas as pd"
   ]
  },
  {
   "cell_type": "code",
   "execution_count": 1,
   "metadata": {},
   "outputs": [],
   "source": [
    "def import_data_sbs_banks(start_month, start_year, end_month=None, end_year=None):\n",
    "     # We convert the argument values to integers if necessary.\n",
    "    start_month, start_year = int(start_month), int(start_year)\n",
    "    end_month = int(end_month) if end_month else start_month\n",
    "    end_year = int(end_year) if end_year else start_year\n",
    "\n",
    "  # We make a dictionary to nest the dataframes.\n",
    "    nested_dict = {}\n",
    "\n",
    "    # We define a relative route to the desk with the files .\n",
    "    base_path = os.path.normpath('../../_data/sbs/B_RawData/bancos')\n",
    "\n",
    "    # We create a list with all the files in the desk\n",
    "    available_files = os.listdir(base_path)\n",
    "\n",
    "    # We filter the files that match the specified years and months.\n",
    "    for year in range(start_year, end_year + 1):\n",
    "        nested_dict[year] = {}\n",
    "        \n",
    "       # We adjust the month range based on the current year in the iteration.\n",
    "        month_range = range(start_month if year == start_year else 1,\n",
    "                            end_month + 1 if year == end_year else 13)\n",
    "        for month in month_range:\n",
    "                # Formateamos el nombre del archivo correspondiente.\n",
    "                matching_files = [f for f in available_files if f'_{month}_{year}.xlsx' in f or f'_{month:02}_{year}.xlsx' in f]\n",
    "    \n",
    "                if matching_files:\n",
    "                    # Si hay un archivo que coincide, lo leemos y lo añadimos al diccionario.\n",
    "                    file_path = os.path.join(base_path, matching_files[0])\n",
    "                    nested_dict[year][month] = pd.read_excel(file_path)\n",
    "                else:\n",
    "                    print(f\"No se encontró archivo para {month}/{year}.\")\n",
    "    \n",
    "    return nested_dict\n",
    "\n"
   ]
  },
  {
   "cell_type": "code",
   "execution_count": null,
   "metadata": {},
   "outputs": [],
   "source": []
  },
  {
   "cell_type": "markdown",
   "metadata": {},
   "source": [
    "2. Execute the following scripts:"
   ]
  },
  {
   "cell_type": "code",
   "execution_count": null,
   "metadata": {},
   "outputs": [],
   "source": [
    "import_data_sbs_banks('10', '2015')"
   ]
  },
  {
   "cell_type": "code",
   "execution_count": null,
   "metadata": {},
   "outputs": [],
   "source": [
    "import_data_sbs_banks('10', '2014', '10', '2015' )"
   ]
  }
 ],
 "metadata": {
  "hide_input": false,
  "kernelspec": {
   "display_name": "Python 3 (ipykernel)",
   "language": "python",
   "name": "python3"
  },
  "language_info": {
   "codemirror_mode": {
    "name": "ipython",
    "version": 3
   },
   "file_extension": ".py",
   "mimetype": "text/x-python",
   "name": "python",
   "nbconvert_exporter": "python",
   "pygments_lexer": "ipython3",
   "version": "3.11.5"
  },
  "toc": {
   "base_numbering": 1,
   "nav_menu": {},
   "number_sections": true,
   "sideBar": true,
   "skip_h1_title": false,
   "title_cell": "Table of Contents",
   "title_sidebar": "Contents",
   "toc_cell": false,
   "toc_position": {},
   "toc_section_display": true,
   "toc_window_display": false
  }
 },
 "nbformat": 4,
 "nbformat_minor": 4
}
