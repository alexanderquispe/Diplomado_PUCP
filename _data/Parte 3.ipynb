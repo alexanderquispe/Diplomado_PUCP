{
 "cells": [
  {
   "cell_type": "code",
   "execution_count": 2,
   "id": "d7bc264f-6dc6-409f-9b20-ededf56675ab",
   "metadata": {},
   "outputs": [
    {
     "data": {
      "text/plain": [
       "Amanda       15\n",
       "Ivan         17\n",
       "Piero        20\n",
       "María        11\n",
       "Piero2       13\n",
       "Alejandra    18\n",
       "Danilo       19\n",
       "dtype: int64"
      ]
     },
     "execution_count": 2,
     "metadata": {},
     "output_type": "execute_result"
    }
   ],
   "source": [
    "import pandas as pd\n",
    "\n",
    "# List of grades\n",
    "grades = [15, 17, 20, 11, 13, 18, 19]\n",
    "\n",
    "# List of student names\n",
    "students = [\"Amanda\", \"Ivan\", \"Piero\", \"María\", \"Piero2\", \"Alejandra\", \"Danilo\"]\n",
    "\n",
    "# Create the Series\n",
    "grades_series = pd.Series(grades, index=students)\n",
    "\n",
    "grades_series\n"
   ]
  },
  {
   "cell_type": "code",
   "execution_count": 3,
   "id": "abee934d-0888-420b-81f5-669c464b1c2d",
   "metadata": {},
   "outputs": [
    {
     "data": {
      "text/plain": [
       "16.142857142857142"
      ]
     },
     "execution_count": 3,
     "metadata": {},
     "output_type": "execute_result"
    }
   ],
   "source": [
    "average_grade = grades_series.mean()\n",
    "average_grade\n"
   ]
  },
  {
   "cell_type": "code",
   "execution_count": 4,
   "id": "1b902413-609c-426a-af56-5c4fa1eb199a",
   "metadata": {},
   "outputs": [
    {
     "data": {
      "text/plain": [
       "'Piero'"
      ]
     },
     "execution_count": 4,
     "metadata": {},
     "output_type": "execute_result"
    }
   ],
   "source": [
    "top_student = grades_series.idxmax()\n",
    "top_student\n"
   ]
  },
  {
   "cell_type": "code",
   "execution_count": 5,
   "id": "2b7ecd9e-f066-4e13-a18e-51e3aa8480ff",
   "metadata": {},
   "outputs": [
    {
     "data": {
      "text/plain": [
       "'María'"
      ]
     },
     "execution_count": 5,
     "metadata": {},
     "output_type": "execute_result"
    }
   ],
   "source": [
    "top_student = grades_series.idxmin()\n",
    "top_student"
   ]
  }
 ],
 "metadata": {
  "kernelspec": {
   "display_name": "Python [conda env:base] *",
   "language": "python",
   "name": "conda-base-py"
  },
  "language_info": {
   "codemirror_mode": {
    "name": "ipython",
    "version": 3
   },
   "file_extension": ".py",
   "mimetype": "text/x-python",
   "name": "python",
   "nbconvert_exporter": "python",
   "pygments_lexer": "ipython3",
   "version": "3.11.5"
  }
 },
 "nbformat": 4,
 "nbformat_minor": 5
}
