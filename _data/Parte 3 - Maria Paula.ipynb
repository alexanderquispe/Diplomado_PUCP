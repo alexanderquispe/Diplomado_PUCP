{
 "cells": [
  {
   "cell_type": "markdown",
   "id": "1ffd4d15-6b5a-41c7-86e3-fdcd71779364",
   "metadata": {},
   "source": [
    "# Parte 3 - Panda Series"
   ]
  },
  {
   "cell_type": "markdown",
   "id": "4210973a-046d-491e-98a1-0feede8f5e55",
   "metadata": {},
   "source": [
    "## Lista de notas"
   ]
  },
  {
   "cell_type": "code",
   "execution_count": 1,
   "id": "d7bc264f-6dc6-409f-9b20-ededf56675ab",
   "metadata": {},
   "outputs": [
    {
     "data": {
      "text/plain": [
       "Amanda       15\n",
       "Ivan         17\n",
       "Piero        20\n",
       "María        11\n",
       "Piero2       13\n",
       "Alejandra    18\n",
       "Danilo       19\n",
       "dtype: int64"
      ]
     },
     "execution_count": 1,
     "metadata": {},
     "output_type": "execute_result"
    }
   ],
   "source": [
    "import pandas as pd\n",
    "\n",
    "# List of grades\n",
    "grades = [15, 17, 20, 11, 13, 18, 19]\n",
    "\n",
    "# List of student names\n",
    "students = [\"Amanda\", \"Ivan\", \"Piero\", \"María\", \"Piero2\", \"Alejandra\", \"Danilo\"]\n",
    "\n",
    "# Create the Series\n",
    "grades_series = pd.Series(grades, index=students)\n",
    "\n",
    "grades_series\n"
   ]
  },
  {
   "cell_type": "markdown",
   "id": "86ed05c5-ee40-46b3-a4fd-23e99dc677f9",
   "metadata": {},
   "source": [
    "## Promedio de notas"
   ]
  },
  {
   "cell_type": "code",
   "execution_count": 2,
   "id": "abee934d-0888-420b-81f5-669c464b1c2d",
   "metadata": {},
   "outputs": [
    {
     "data": {
      "text/plain": [
       "16.142857142857142"
      ]
     },
     "execution_count": 2,
     "metadata": {},
     "output_type": "execute_result"
    }
   ],
   "source": [
    "average_grade = grades_series.mean()\n",
    "average_grade\n"
   ]
  },
  {
   "cell_type": "markdown",
   "id": "e5745c88-682f-4382-9130-d748d7d9276d",
   "metadata": {},
   "source": [
    "## Estudiante con la nota más alta"
   ]
  },
  {
   "cell_type": "code",
   "execution_count": 3,
   "id": "1b902413-609c-426a-af56-5c4fa1eb199a",
   "metadata": {},
   "outputs": [
    {
     "data": {
      "text/plain": [
       "'Piero'"
      ]
     },
     "execution_count": 3,
     "metadata": {},
     "output_type": "execute_result"
    }
   ],
   "source": [
    "top_student = grades_series.idxmax()\n",
    "top_student\n"
   ]
  },
  {
   "cell_type": "markdown",
   "id": "ac9eba14-4382-4af4-aeb4-56f16b8e7d89",
   "metadata": {},
   "source": [
    "## Estudiante con la nota más baja"
   ]
  },
  {
   "cell_type": "code",
   "execution_count": 4,
   "id": "2b7ecd9e-f066-4e13-a18e-51e3aa8480ff",
   "metadata": {},
   "outputs": [
    {
     "data": {
      "text/plain": [
       "'María'"
      ]
     },
     "execution_count": 4,
     "metadata": {},
     "output_type": "execute_result"
    }
   ],
   "source": [
    "top_student = grades_series.idxmin()\n",
    "top_student"
   ]
  },
  {
   "cell_type": "code",
   "execution_count": null,
   "id": "53b25dca-367e-4a4b-9df7-3140089200b2",
   "metadata": {},
   "outputs": [],
   "source": []
  }
 ],
 "metadata": {
  "kernelspec": {
   "display_name": "Python [conda env:base] *",
   "language": "python",
   "name": "conda-base-py"
  },
  "language_info": {
   "codemirror_mode": {
    "name": "ipython",
    "version": 3
   },
   "file_extension": ".py",
   "mimetype": "text/x-python",
   "name": "python",
   "nbconvert_exporter": "python",
   "pygments_lexer": "ipython3",
   "version": "3.11.5"
  }
 },
 "nbformat": 4,
 "nbformat_minor": 5
}
