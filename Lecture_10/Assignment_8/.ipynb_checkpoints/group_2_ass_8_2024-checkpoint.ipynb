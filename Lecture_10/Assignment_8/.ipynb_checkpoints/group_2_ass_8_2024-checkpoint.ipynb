{
 "cells": [
  {
   "cell_type": "markdown",
   "id": "c6d8f220",
   "metadata": {},
   "source": [
    "# Assigment 8"
   ]
  },
  {
   "cell_type": "code",
   "execution_count": null,
   "id": "614a58ed",
   "metadata": {},
   "outputs": [],
   "source": [
    "from IPython.display import display, HTML\n",
    "\n",
    "display(HTML(data=\"\"\"\n",
    "<style>\n",
    "    div#notebook-container    { width: 95%; }\n",
    "    div#menubar-container     { width: 65%; }\n",
    "    div#maintoolbar-container { width: 99%; }a\n",
    "</style>\n",
    "\"\"\"))"
   ]
  },
  {
   "cell_type": "code",
   "execution_count": null,
   "id": "4dc03e63",
   "metadata": {},
   "outputs": [],
   "source": [
    "import pandas as pd\n",
    "from pandas import Series, DataFrame\n",
    "import numpy as np\n",
    "import matplotlib.pyplot as plt \n",
    "import chardet"
   ]
  },
  {
   "cell_type": "code",
   "execution_count": null,
   "id": "a9cf0c7e",
   "metadata": {},
   "outputs": [],
   "source": [
    "import geopandas as gpd\n",
    "from geopandas import GeoSeries\n",
    "from shapely.geometry import Point, LineString\n",
    "import folium \n",
    "from folium import Marker, GeoJson\n",
    "from folium.plugins import MarkerCluster, HeatMap"
   ]
  },
  {
   "cell_type": "code",
   "execution_count": null,
   "id": "072b46e0",
   "metadata": {},
   "outputs": [],
   "source": [
    "#!pip install mapclassify\n",
    "import mapclassify"
   ]
  },
  {
   "cell_type": "markdown",
   "id": "4ff05d0c",
   "metadata": {},
   "source": [
    "### 8.1. Import the data located at this link. It has information on people infected with dengue at the district level for 2015 to 2021."
   ]
  },
  {
   "cell_type": "code",
   "execution_count": null,
   "id": "250b49a0",
   "metadata": {},
   "outputs": [],
   "source": [
    "# Read the content of the file in binary mode ('rb')\n",
    "with open('../../_data/data_dengue_peru.csv', 'rb') as f:\n",
    "    data = f.read()\n",
    "    \n",
    "# Detect the encoding of the file\n",
    "detected_encoding = chardet.detect(data)['encoding']\n",
    "\n",
    "# Assign the detected encoding to a variable\n",
    "charenc = detected_encoding\n",
    "\n",
    "# Print the detected encoding\n",
    "print(\"La codificación detectada es:\", charenc)"
   ]
  },
  {
   "cell_type": "code",
   "execution_count": null,
   "id": "128e3ab7",
   "metadata": {},
   "outputs": [],
   "source": [
    "# Import csv file from panel dengue information at department, province, and district level\n",
    "dengue_data = pd.read_csv( r'../../_data/data_dengue_peru.csv', encoding = charenc,  thousands = \",\", dtype= {\"Ubigeo\":\"str\"})\n",
    "dengue_data"
   ]
  },
  {
   "cell_type": "markdown",
   "id": "9bb9d6f2",
   "metadata": {},
   "source": [
    "### 8.2. Generate ubigeo for Departments and Provinces taking the first two and four numbers. Hint: Use this code."
   ]
  },
  {
   "cell_type": "code",
   "execution_count": null,
   "id": "95343f40",
   "metadata": {},
   "outputs": [],
   "source": [
    "# Generate a column called 'dep_ubigeo' taking the first two digits from the 'Ubigeo' column\n",
    "dengue_data['dep_ubigeo'] = dengue_data['Ubigeo'].str[:2]\n",
    "\n",
    "# Generate another column called 'prov_ubigeo' taking the first four digits from the 'Ubigeo' column\n",
    "dengue_data['prov_ubigeo'] = dengue_data['Ubigeo'].str[:4]\n",
    "\n",
    "# # Display the 'dengue_data' dataframe with the new columns\n",
    "dengue_data"
   ]
  },
  {
   "cell_type": "markdown",
   "id": "c19d08f2",
   "metadata": {},
   "source": [
    "### 8.3. Use geopandas to plot the number of cases in 2021 by the district using a continuous legend. Do not forget to indicate the color of NA values. Use this shapefile."
   ]
  },
  {
   "cell_type": "markdown",
   "id": "0387528a",
   "metadata": {},
   "source": [
    "#### 8.3.1 Filter the 'dengue_data' to get only the cases in the year 2021"
   ]
  },
  {
   "cell_type": "code",
   "execution_count": null,
   "id": "c28f4fcc",
   "metadata": {},
   "outputs": [],
   "source": [
    "dengue_casos_2021 = dengue_data[dengue_data['Año'] == 2021]\n",
    "dengue_casos_2021"
   ]
  },
  {
   "cell_type": "markdown",
   "id": "96466de8",
   "metadata": {},
   "source": [
    "#### 8.3.2 Select the relevant columns and create the 'Total_casos' column"
   ]
  },
  {
   "cell_type": "code",
   "execution_count": null,
   "id": "c908381e",
   "metadata": {},
   "outputs": [],
   "source": [
    "total_dengue_casos2021 = dengue_casos_2021.groupby( ['Departamento', 'Provincia','Distrito', 'Ubigeo', 'dep_ubigeo', 'prov_ubigeo'], as_index = False).agg(Total_casos=('Casos', 'sum'))\n",
    "total_dengue_casos2021"
   ]
  }
 ],
 "metadata": {
  "kernelspec": {
   "display_name": "Python 3 (ipykernel)",
   "language": "python",
   "name": "python3"
  },
  "language_info": {
   "codemirror_mode": {
    "name": "ipython",
    "version": 3
   },
   "file_extension": ".py",
   "mimetype": "text/x-python",
   "name": "python",
   "nbconvert_exporter": "python",
   "pygments_lexer": "ipython3",
   "version": "3.11.5"
  }
 },
 "nbformat": 4,
 "nbformat_minor": 5
}
