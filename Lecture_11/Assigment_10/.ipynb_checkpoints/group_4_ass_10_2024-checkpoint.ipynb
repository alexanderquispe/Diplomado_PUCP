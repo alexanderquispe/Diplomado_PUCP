{
 "cells": [
  {
   "cell_type": "markdown",
   "id": "34f7ba2a",
   "metadata": {},
   "source": [
    "# 1. Get the 15 variables from this raster for all Peru departments polygons"
   ]
  },
  {
   "cell_type": "code",
   "execution_count": 1,
   "id": "c96c24a5",
   "metadata": {},
   "outputs": [
    {
     "name": "stdout",
     "output_type": "stream",
     "text": [
      "Requirement already satisfied: rasterio in /Users/isaisilva/anaconda3/lib/python3.11/site-packages (1.3.9)\n",
      "Requirement already satisfied: affine in /Users/isaisilva/anaconda3/lib/python3.11/site-packages (from rasterio) (2.4.0)\n",
      "Requirement already satisfied: attrs in /Users/isaisilva/anaconda3/lib/python3.11/site-packages (from rasterio) (22.1.0)\n",
      "Requirement already satisfied: certifi in /Users/isaisilva/anaconda3/lib/python3.11/site-packages (from rasterio) (2024.2.2)\n",
      "Requirement already satisfied: click>=4.0 in /Users/isaisilva/anaconda3/lib/python3.11/site-packages (from rasterio) (8.0.4)\n",
      "Requirement already satisfied: cligj>=0.5 in /Users/isaisilva/anaconda3/lib/python3.11/site-packages (from rasterio) (0.7.2)\n",
      "Requirement already satisfied: numpy in /Users/isaisilva/anaconda3/lib/python3.11/site-packages (from rasterio) (1.24.3)\n",
      "Requirement already satisfied: snuggs>=1.4.1 in /Users/isaisilva/anaconda3/lib/python3.11/site-packages (from rasterio) (1.4.7)\n",
      "Requirement already satisfied: click-plugins in /Users/isaisilva/anaconda3/lib/python3.11/site-packages (from rasterio) (1.1.1)\n",
      "Requirement already satisfied: setuptools in /Users/isaisilva/anaconda3/lib/python3.11/site-packages (from rasterio) (68.0.0)\n",
      "Requirement already satisfied: pyparsing>=2.1.6 in /Users/isaisilva/anaconda3/lib/python3.11/site-packages (from snuggs>=1.4.1->rasterio) (3.0.9)\n",
      "Note: you may need to restart the kernel to use updated packages.\n"
     ]
    }
   ],
   "source": [
    "pip install rasterio"
   ]
  },
  {
   "cell_type": "code",
   "execution_count": 2,
   "id": "67d3b203",
   "metadata": {},
   "outputs": [],
   "source": [
    "import geopandas as gpd\n",
    "import rasterio\n",
    "from rasterio.mask import mask\n",
    "import numpy as np"
   ]
  },
  {
   "cell_type": "code",
   "execution_count": 3,
   "id": "76db0813",
   "metadata": {},
   "outputs": [
    {
     "name": "stdout",
     "output_type": "stream",
     "text": [
      "   OBJECTID_1  OBJECTID CCDD   NOMBDEP      CAPITAL  Shape_STAr  Shape_STLe  \\\n",
      "0           1       1.0   01  AMAZONAS  CHACHAPOYAS    3.203006   12.912088   \n",
      "1           2       2.0   02    ANCASH       HUARAZ    2.954592   11.780424   \n",
      "2           3       3.0   03  APURIMAC      ABANCAY    1.765933    7.730154   \n",
      "3           4       4.0   04  AREQUIPA     AREQUIPA    5.330203   17.405040   \n",
      "4           5       5.0   05  AYACUCHO     AYACUCHO    3.643705   17.127166   \n",
      "\n",
      "   ORIG_FID  Shape_Leng  Shape_Area                    CORREO  \\\n",
      "0         0   12.912088    3.203006  juan.suyo@geogpsperu.com   \n",
      "1         1   11.780424    2.954592  juan.suyo@geogpsperu.com   \n",
      "2         2    7.730154    1.765933  juan.suyo@geogpsperu.com   \n",
      "3         3   17.405040    5.330203  juan.suyo@geogpsperu.com   \n",
      "4         4   17.127166    3.643705  juan.suyo@geogpsperu.com   \n",
      "\n",
      "             CONTACTO   WHATSAPP  \\\n",
      "0  www.geogpsperu.com  931381206   \n",
      "1  www.geogpsperu.com  931381206   \n",
      "2  www.geogpsperu.com  931381206   \n",
      "3  www.geogpsperu.com  931381206   \n",
      "4  www.geogpsperu.com  931381206   \n",
      "\n",
      "                                            geometry  \n",
      "0  POLYGON ((-77.81399 -2.99278, -77.81483 -2.995...  \n",
      "1  POLYGON ((-77.64697 -8.05086, -77.64689 -8.051...  \n",
      "2  POLYGON ((-73.74655 -13.17442, -73.74570 -13.1...  \n",
      "3  POLYGON ((-71.98109 -14.64062, -71.98093 -14.6...  \n",
      "4  POLYGON ((-74.34843 -12.17503, -74.35000 -12.1...  \n"
     ]
    }
   ],
   "source": [
    "import geopandas as gpd\n",
    "\n",
    "# Define the relative path to the shapefile from the notebook location\n",
    "shapefile_path = '../../_data/INEI_LIMITE_DEPARTAMENTAL/INEI_LIMITE_DEPARTAMENTAL.shp'\n",
    "\n",
    "# Read the shapefile using Geopandas\n",
    "departments = gpd.read_file(shapefile_path)\n",
    "\n",
    "print(departments.head())"
   ]
  },
  {
   "cell_type": "code",
   "execution_count": 4,
   "id": "b405cd1d",
   "metadata": {},
   "outputs": [],
   "source": [
    "import requests\n",
    "from zipfile import ZipFile\n",
    "from io import BytesIO\n",
    "import os\n",
    "\n",
    "# URL of the zip file containing the raster data\n",
    "raster_url = 'https://jeodpp.jrc.ec.europa.eu/ftp/jrc-opendata/GHSL/GHS_BUILT_C_GLOBE_R2023A/GHS_BUILT_C_MSZ_E2018_GLOBE_R2023A_54009_10/V1-0/GHS_BUILT_C_MSZ_E2018_GLOBE_R2023A_54009_10_V1_0.zip'"
   ]
  },
  {
   "cell_type": "code",
   "execution_count": null,
   "id": "3eb3773b",
   "metadata": {},
   "outputs": [],
   "source": [
    "# Location where the notebook is working and where I want to download the file\n",
    "notebook_dir = os.path.join('Diplomado_PUCP', 'Lecture_11', 'Assigment_10')\n",
    "\n",
    "# Request to download the file\n",
    "response = requests.get(raster_url)\n",
    "response.raise_for_status()  # Verify that the request was successful\n",
    "\n",
    "# Extract the content of the zip file\n",
    "# Use BytesIO to treat the response as an in-memory file\n",
    "with ZipFile(BytesIO(response.content)) as thezip:\n",
    "    # Extract to the directory where the notebook is located\n",
    "    thezip.extractall(notebook_dir)\n",
    "\n",
    "print('Descarga y extracción completadas en:', notebook_dir)"
   ]
  },
  {
   "cell_type": "code",
   "execution_count": null,
   "id": "efb2f52c",
   "metadata": {},
   "outputs": [],
   "source": [
    "#Read the raster data\n",
    "raster = rasterio.open(\"...\") #completar lo del paréntesis\n",
    "\n",
    "# Initialize an empty DataFrame or list to store results\n",
    "results = []\n",
    "\n",
    "# Extract raster values and calculate the percentage area covered\n",
    "for department in departments.itertuples():\n",
    "    # Masking raster with the department polygon to get raster values within the department\n",
    "    out_image, out_transform = mask(raster, [department.geometry], crop=True)\n",
    "    # Calculate the area covered by non-null (or specific value if applicable) raster values\n",
    "\n",
    "    # Calculate the total area of the department\n",
    "\n",
    "    # Calculate the percentage of area covered\n",
    "\n",
    "    # Append results\n",
    "\n",
    "#Export the results"
   ]
  },
  {
   "cell_type": "code",
   "execution_count": null,
   "id": "0a151074",
   "metadata": {},
   "outputs": [],
   "source": []
  }
 ],
 "metadata": {
  "kernelspec": {
   "display_name": "Python 3 (ipykernel)",
   "language": "python",
   "name": "python3"
  },
  "language_info": {
   "codemirror_mode": {
    "name": "ipython",
    "version": 3
   },
   "file_extension": ".py",
   "mimetype": "text/x-python",
   "name": "python",
   "nbconvert_exporter": "python",
   "pygments_lexer": "ipython3",
   "version": "3.11.5"
  }
 },
 "nbformat": 4,
 "nbformat_minor": 5
}
